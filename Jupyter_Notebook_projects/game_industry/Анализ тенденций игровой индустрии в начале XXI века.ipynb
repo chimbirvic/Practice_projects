{
 "cells": [
  {
   "cell_type": "markdown",
   "id": "e06910dd",
   "metadata": {
    "id": "e06910dd"
   },
   "source": [
    "# Анализ тенденций игровой индустрии в начале XXI века\n",
    "\n",
    "- Автор: Чимбир В.И.\n",
    "- Дата: 03.03.2025"
   ]
  },
  {
   "cell_type": "markdown",
   "id": "4149134c",
   "metadata": {
    "id": "4149134c"
   },
   "source": [
    "### Цели и задачи проекта\n",
    "\n",
    "Нормализовать данные, изучить развитие игровой индустрии с 2000 по 2013 год, анализируя оценки пользователей и критиков, а так же популярность платформ"
   ]
  },
  {
   "cell_type": "markdown",
   "id": "728986ea",
   "metadata": {
    "id": "728986ea"
   },
   "source": [
    "### Описание данных\n",
    "\n",
    "- `Name` — название игры.\n",
    "- `Platform` — название платформы.\n",
    "- `Year of Release` — год выпуска игры.\n",
    "- `Genre` — жанр игры.\n",
    "- `NA sales` — продажи в Северной Америке (в миллионах проданных копий).\n",
    "- `EU sales` — продажи в Европе (в миллионах проданных копий).\n",
    "- `JP sales` — продажи в Японии (в миллионах проданных копий).\n",
    "- `Other sales` — продажи в других странах (в миллионах проданных копий).\n",
    "- `Critic Score` — оценка критиков (от 0 до 100).\n",
    "- `User Score` — оценка пользователей (от 0 до 10).\n",
    "- `Rating` — рейтинг организации ESRB (англ. Entertainment Software Rating Board). Эта ассоциация определяет рейтинг компьютерных игр и присваивает им подходящую возрастную категорию."
   ]
  },
  {
   "cell_type": "markdown",
   "id": "4fecaf95",
   "metadata": {
    "id": "4fecaf95"
   },
   "source": [
    "### Содержимое проекта\n",
    "\n",
    "1. Загрузка данных и знакомство с ними.\n",
    "2. Проверка ошибок в данных и их предобработка.\n",
    "3. Фильтрация данных\n",
    "4. Категоризация данных\n",
    "5. Итоговый вывод\n",
    "\n",
    "---"
   ]
  },
  {
   "cell_type": "markdown",
   "id": "6f7d21d6",
   "metadata": {
    "id": "6f7d21d6"
   },
   "source": [
    "##  Загрузка данных и знакомство с ними\n",
    "\n",
    "- Загрузите необходимые библиотеки Python и данные датасета `/datasets/new_games.csv`.\n"
   ]
  },
  {
   "cell_type": "code",
   "execution_count": 1,
   "id": "ebb66dc5",
   "metadata": {
    "id": "ebb66dc5"
   },
   "outputs": [],
   "source": [
    "# Подключаем библиотеку pandas\n",
    "import pandas as pd\n",
    "pd.options.mode.chained_assignment = None"
   ]
  },
  {
   "cell_type": "code",
   "execution_count": 2,
   "id": "ce87c1db",
   "metadata": {
    "id": "ce87c1db"
   },
   "outputs": [],
   "source": [
    "# Загружаем датафрейм\n",
    "df = pd.read_csv('https://code.s3.yandex.net/datasets/new_games.csv')\n",
    "\n"
   ]
  },
  {
   "cell_type": "code",
   "execution_count": 3,
   "id": "3937acf7",
   "metadata": {
    "id": "3937acf7"
   },
   "outputs": [
    {
     "data": {
      "text/html": [
       "<div>\n",
       "<style scoped>\n",
       "    .dataframe tbody tr th:only-of-type {\n",
       "        vertical-align: middle;\n",
       "    }\n",
       "\n",
       "    .dataframe tbody tr th {\n",
       "        vertical-align: top;\n",
       "    }\n",
       "\n",
       "    .dataframe thead th {\n",
       "        text-align: right;\n",
       "    }\n",
       "</style>\n",
       "<table border=\"1\" class=\"dataframe\">\n",
       "  <thead>\n",
       "    <tr style=\"text-align: right;\">\n",
       "      <th></th>\n",
       "      <th>Name</th>\n",
       "      <th>Platform</th>\n",
       "      <th>Year of Release</th>\n",
       "      <th>Genre</th>\n",
       "      <th>NA sales</th>\n",
       "      <th>EU sales</th>\n",
       "      <th>JP sales</th>\n",
       "      <th>Other sales</th>\n",
       "      <th>Critic Score</th>\n",
       "      <th>User Score</th>\n",
       "      <th>Rating</th>\n",
       "    </tr>\n",
       "  </thead>\n",
       "  <tbody>\n",
       "    <tr>\n",
       "      <th>0</th>\n",
       "      <td>Wii Sports</td>\n",
       "      <td>Wii</td>\n",
       "      <td>2006.0</td>\n",
       "      <td>Sports</td>\n",
       "      <td>41.36</td>\n",
       "      <td>28.96</td>\n",
       "      <td>3.77</td>\n",
       "      <td>8.45</td>\n",
       "      <td>76.0</td>\n",
       "      <td>8</td>\n",
       "      <td>E</td>\n",
       "    </tr>\n",
       "    <tr>\n",
       "      <th>1</th>\n",
       "      <td>Super Mario Bros.</td>\n",
       "      <td>NES</td>\n",
       "      <td>1985.0</td>\n",
       "      <td>Platform</td>\n",
       "      <td>29.08</td>\n",
       "      <td>3.58</td>\n",
       "      <td>6.81</td>\n",
       "      <td>0.77</td>\n",
       "      <td>NaN</td>\n",
       "      <td>NaN</td>\n",
       "      <td>NaN</td>\n",
       "    </tr>\n",
       "    <tr>\n",
       "      <th>2</th>\n",
       "      <td>Mario Kart Wii</td>\n",
       "      <td>Wii</td>\n",
       "      <td>2008.0</td>\n",
       "      <td>Racing</td>\n",
       "      <td>15.68</td>\n",
       "      <td>12.76</td>\n",
       "      <td>3.79</td>\n",
       "      <td>3.29</td>\n",
       "      <td>82.0</td>\n",
       "      <td>8.3</td>\n",
       "      <td>E</td>\n",
       "    </tr>\n",
       "    <tr>\n",
       "      <th>3</th>\n",
       "      <td>Wii Sports Resort</td>\n",
       "      <td>Wii</td>\n",
       "      <td>2009.0</td>\n",
       "      <td>Sports</td>\n",
       "      <td>15.61</td>\n",
       "      <td>10.93</td>\n",
       "      <td>3.28</td>\n",
       "      <td>2.95</td>\n",
       "      <td>80.0</td>\n",
       "      <td>8</td>\n",
       "      <td>E</td>\n",
       "    </tr>\n",
       "    <tr>\n",
       "      <th>4</th>\n",
       "      <td>Pokemon Red/Pokemon Blue</td>\n",
       "      <td>GB</td>\n",
       "      <td>1996.0</td>\n",
       "      <td>Role-Playing</td>\n",
       "      <td>11.27</td>\n",
       "      <td>8.89</td>\n",
       "      <td>10.22</td>\n",
       "      <td>1.00</td>\n",
       "      <td>NaN</td>\n",
       "      <td>NaN</td>\n",
       "      <td>NaN</td>\n",
       "    </tr>\n",
       "  </tbody>\n",
       "</table>\n",
       "</div>"
      ],
      "text/plain": [
       "                       Name Platform  Year of Release         Genre  NA sales  \\\n",
       "0                Wii Sports      Wii           2006.0        Sports     41.36   \n",
       "1         Super Mario Bros.      NES           1985.0      Platform     29.08   \n",
       "2            Mario Kart Wii      Wii           2008.0        Racing     15.68   \n",
       "3         Wii Sports Resort      Wii           2009.0        Sports     15.61   \n",
       "4  Pokemon Red/Pokemon Blue       GB           1996.0  Role-Playing     11.27   \n",
       "\n",
       "  EU sales JP sales  Other sales  Critic Score User Score Rating  \n",
       "0    28.96     3.77         8.45          76.0          8      E  \n",
       "1     3.58     6.81         0.77           NaN        NaN    NaN  \n",
       "2    12.76     3.79         3.29          82.0        8.3      E  \n",
       "3    10.93     3.28         2.95          80.0          8      E  \n",
       "4     8.89    10.22         1.00           NaN        NaN    NaN  "
      ]
     },
     "execution_count": 3,
     "metadata": {},
     "output_type": "execute_result"
    }
   ],
   "source": [
    "# Выводим первые пять строк датафрейма\n",
    "df.head()"
   ]
  },
  {
   "cell_type": "code",
   "execution_count": 4,
   "id": "d7c8eb4b",
   "metadata": {
    "id": "d7c8eb4b"
   },
   "outputs": [
    {
     "name": "stdout",
     "output_type": "stream",
     "text": [
      "<class 'pandas.core.frame.DataFrame'>\n",
      "RangeIndex: 16956 entries, 0 to 16955\n",
      "Data columns (total 11 columns):\n",
      " #   Column           Non-Null Count  Dtype  \n",
      "---  ------           --------------  -----  \n",
      " 0   Name             16954 non-null  object \n",
      " 1   Platform         16956 non-null  object \n",
      " 2   Year of Release  16681 non-null  float64\n",
      " 3   Genre            16954 non-null  object \n",
      " 4   NA sales         16956 non-null  float64\n",
      " 5   EU sales         16956 non-null  object \n",
      " 6   JP sales         16956 non-null  object \n",
      " 7   Other sales      16956 non-null  float64\n",
      " 8   Critic Score     8242 non-null   float64\n",
      " 9   User Score       10152 non-null  object \n",
      " 10  Rating           10085 non-null  object \n",
      "dtypes: float64(4), object(7)\n",
      "memory usage: 1.4+ MB\n"
     ]
    }
   ],
   "source": [
    "# Выводим информацию о датафрейме\n",
    "df.info()"
   ]
  },
  {
   "cell_type": "markdown",
   "id": "c40cb115",
   "metadata": {},
   "source": [
    "-----"
   ]
  },
  {
   "cell_type": "markdown",
   "id": "474aa3c8",
   "metadata": {},
   "source": [
    "Промежуточные выводы о датафрейме:\n",
    "\n",
    "- Следует привести все столбцы к единому виду snake case\n",
    "- Следует изменить тип данных некоторых стобцов (`EU sales`,`JP sales`,`User Score` с `object` на `float64`, `Year of Release` и `Critic Score` к `int64`)\n",
    "- Наблюдаем большое количество пропусков в некоторыз столбцах. Следует сделать преобразование."
   ]
  },
  {
   "cell_type": "markdown",
   "id": "774bf76e",
   "metadata": {
    "id": "774bf76e"
   },
   "source": [
    "---\n",
    "\n",
    "##  Проверка ошибок в данных и их предобработка\n",
    "\n",
    "\n",
    "###  Названия, или метки, столбцов датафрейма\n",
    "\n"
   ]
  },
  {
   "cell_type": "code",
   "execution_count": 5,
   "id": "b9276a2b",
   "metadata": {
    "id": "b9276a2b"
   },
   "outputs": [
    {
     "data": {
      "text/plain": [
       "Index(['Name', 'Platform', 'Year of Release', 'Genre', 'NA sales', 'EU sales',\n",
       "       'JP sales', 'Other sales', 'Critic Score', 'User Score', 'Rating'],\n",
       "      dtype='object')"
      ]
     },
     "execution_count": 5,
     "metadata": {},
     "output_type": "execute_result"
    }
   ],
   "source": [
    "# Выводим на экран названия столбцов датафрейма\n",
    "df.columns"
   ]
  },
  {
   "cell_type": "code",
   "execution_count": 6,
   "id": "d554563c",
   "metadata": {
    "id": "d554563c"
   },
   "outputs": [],
   "source": [
    "# Редактируем стиль написания столбцов датафрейма\n",
    "df = df.rename(columns={\n",
    "                         'Name':'name',\n",
    "                         'Platform': 'platform',\n",
    "                         'Year of Release': 'year_of_release',\n",
    "                         'Genre': 'genre',\n",
    "                         'NA sales': 'na_sales',\n",
    "                         'EU sales': 'eu_sales',\n",
    "                         'JP sales': 'jp_sales',\n",
    "                         'Other sales': 'other_sales',\n",
    "                         'Critic Score': 'critic_score',\n",
    "                         'User Score': 'user_score',\n",
    "                         'Rating': 'rating'\n",
    "})"
   ]
  },
  {
   "cell_type": "code",
   "execution_count": 7,
   "id": "87b573dd",
   "metadata": {
    "id": "87b573dd"
   },
   "outputs": [
    {
     "data": {
      "text/plain": [
       "Index(['name', 'platform', 'year_of_release', 'genre', 'na_sales', 'eu_sales',\n",
       "       'jp_sales', 'other_sales', 'critic_score', 'user_score', 'rating'],\n",
       "      dtype='object')"
      ]
     },
     "execution_count": 7,
     "metadata": {},
     "output_type": "execute_result"
    }
   ],
   "source": [
    "# Проверяем результат редактирования\n",
    "df.columns"
   ]
  },
  {
   "cell_type": "markdown",
   "id": "41bc6bf8",
   "metadata": {
    "id": "41bc6bf8"
   },
   "source": [
    "### Типы данных\n",
    "\n"
   ]
  },
  {
   "cell_type": "code",
   "execution_count": 47,
   "id": "a799e06a",
   "metadata": {},
   "outputs": [
    {
     "data": {
      "text/plain": [
       "array([2.89600000e+01, 3.58000000e+00, 1.27600000e+01, 1.09300000e+01,\n",
       "       8.89000000e+00, 2.26000000e+00, 9.14000000e+00, 9.18000000e+00,\n",
       "       6.94000000e+00, 6.30000000e-01, 1.09500000e+01, 7.47000000e+00,\n",
       "       6.18000000e+00, 8.03000000e+00, 4.89000000e+00, 8.49000000e+00,\n",
       "       9.09000000e+00, 4.00000000e-01, 3.75000000e+00, 9.20000000e+00,\n",
       "       4.46000000e+00, 2.71000000e+00, 3.44000000e+00, 5.14000000e+00,\n",
       "       5.49000000e+00, 3.90000000e+00, 5.35000000e+00, 3.17000000e+00,\n",
       "       5.09000000e+00, 4.24000000e+00, 5.04000000e+00, 5.86000000e+00,\n",
       "       3.68000000e+00, 4.19000000e+00, 5.73000000e+00, 3.59000000e+00,\n",
       "       4.51000000e+00, 2.55000000e+00, 4.02000000e+00, 4.37000000e+00,\n",
       "       6.31000000e+00, 3.45000000e+00, 2.81000000e+00, 2.85000000e+00,\n",
       "       3.49000000e+00, 1.00000000e-02, 3.35000000e+00, 2.04000000e+00,\n",
       "       3.07000000e+00, 3.87000000e+00, 3.00000000e+00, 4.82000000e+00,\n",
       "       3.64000000e+00, 2.15000000e+00, 3.69000000e+00, 2.65000000e+00,\n",
       "       2.56000000e+00, 3.11000000e+00, 3.14000000e+00, 1.94000000e+00,\n",
       "       1.95000000e+00, 2.47000000e+00, 2.28000000e+00, 3.42000000e+00,\n",
       "       3.63000000e+00, 2.36000000e+00, 1.71000000e+00, 1.85000000e+00,\n",
       "       2.79000000e+00, 1.24000000e+00, 6.12000000e+00, 1.53000000e+00,\n",
       "       3.47000000e+00, 2.24000000e+00, 5.01000000e+00, 2.01000000e+00,\n",
       "       1.72000000e+00, 2.07000000e+00, 6.42000000e+00, 3.86000000e+00,\n",
       "       4.50000000e-01, 3.48000000e+00, 1.89000000e+00, 5.75000000e+00,\n",
       "       2.17000000e+00, 1.37000000e+00, 2.35000000e+00, 1.18000000e+00,\n",
       "       2.11000000e+00, 1.88000000e+00, 2.83000000e+00, 2.99000000e+00,\n",
       "       2.89000000e+00, 3.27000000e+00, 2.22000000e+00, 2.14000000e+00,\n",
       "       1.45000000e+00, 1.75000000e+00, 1.04000000e+00, 1.77000000e+00,\n",
       "       3.02000000e+00, 2.75000000e+00, 2.16000000e+00, 1.90000000e+00,\n",
       "       2.59000000e+00, 2.20000000e+00, 4.30000000e+00, 9.30000000e-01,\n",
       "       2.53000000e+00, 2.52000000e+00, 1.79000000e+00, 1.30000000e+00,\n",
       "       2.60000000e+00, 1.58000000e+00, 1.20000000e+00, 1.56000000e+00,\n",
       "       1.34000000e+00, 1.26000000e+00, 8.30000000e-01, 6.21000000e+00,\n",
       "       2.80000000e+00, 1.59000000e+00, 1.73000000e+00, 4.33000000e+00,\n",
       "       1.83000000e+00, 0.00000000e+00, 2.18000000e+00, 1.98000000e+00,\n",
       "       1.47000000e+00, 6.70000000e-01, 1.55000000e+00, 1.91000000e+00,\n",
       "       6.90000000e-01, 6.00000000e-01, 1.93000000e+00, 1.64000000e+00,\n",
       "       5.50000000e-01, 2.19000000e+00, 1.11000000e+00, 2.29000000e+00,\n",
       "       2.50000000e+00, 9.60000000e-01, 1.21000000e+00, 1.12000000e+00,\n",
       "       7.70000000e-01, 1.69000000e+00, 1.08000000e+00, 7.90000000e-01,\n",
       "       2.37000000e+00, 2.46000000e+00, 2.60000000e-01, 7.50000000e-01,\n",
       "       1.25000000e+00, 2.43000000e+00, 9.80000000e-01, 7.40000000e-01,\n",
       "       2.23000000e+00, 6.10000000e-01, 2.45000000e+00, 1.41000000e+00,\n",
       "       1.80000000e+00, 3.28000000e+00, 1.16000000e+00, 1.99000000e+00,\n",
       "       1.38000000e+00, 1.36000000e+00, 1.17000000e+00, 1.19000000e+00,\n",
       "       9.90000000e-01, 1.68000000e+00, 2.00000000e+00, 1.33000000e+00,\n",
       "       1.57000000e+00, 1.48000000e+00, 2.10000000e+00, 1.27000000e+00,\n",
       "       1.97000000e+00, 9.10000000e-01, 1.39000000e+00, 1.96000000e+00,\n",
       "       2.40000000e-01, 1.51000000e+00, 1.40000000e-01, 1.29000000e+00,\n",
       "       2.39000000e+00, 1.03000000e+00, 5.00000000e-01, 5.80000000e-01,\n",
       "       1.31000000e+00, 2.02000000e+00, 1.32000000e+00, 1.01000000e+00,\n",
       "       2.27000000e+00, 2.30000000e+00, 1.82000000e+00, 2.78000000e+00,\n",
       "       4.40000000e-01, 4.80000000e-01, 2.70000000e-01, 2.10000000e-01,\n",
       "       2.48000000e+00, 5.10000000e-01, 1.52000000e+00, 4.00000000e-02,\n",
       "       2.80000000e-01, 1.35000000e+00, 8.70000000e-01, 2.13000000e+00,\n",
       "       1.13000000e+00, 1.76000000e+00, 7.60000000e-01, 2.12000000e+00,\n",
       "       6.60000000e-01, 1.60000000e+00, 1.44000000e+00, 1.43000000e+00,\n",
       "       1.70000000e+00, 4.70000000e-01, 1.87000000e+00, 8.60000000e-01,\n",
       "       7.30000000e-01, 1.28000000e+00, 8.10000000e-01, 1.09000000e+00,\n",
       "       6.80000000e-01, 1.22000000e+00, 1.40000000e+00, 1.02000000e+00,\n",
       "       1.49000000e+00, 1.14000000e+00, 4.90000000e-01, 9.00000000e-01,\n",
       "       3.80000000e-01, 1.42000000e+00, 9.50000000e-01, 1.62000000e+00,\n",
       "       7.10000000e-01, 1.05000000e+00, 9.20000000e-01, 3.30000000e-01,\n",
       "       3.00000000e-01, 1.67000000e+00, 1.00000000e+00, 8.90000000e-01,\n",
       "       1.00000000e-01, 7.20000000e-01, 5.90000000e-01, 5.60000000e-01,\n",
       "       1.60000000e-01, 9.70000000e-01, 6.20000000e-01, 6.38832998e-02,\n",
       "       8.50000000e-01, 9.40000000e-01, 8.80000000e-01, 8.40000000e-01,\n",
       "       1.06000000e+00, 2.00000000e-01, 1.15000000e+00, 8.00000000e-01,\n",
       "       1.10000000e+00, 7.00000000e-01, 1.92000000e+00, 3.20000000e-01,\n",
       "       1.50000000e-01, 5.30000000e-01, 9.00000000e-02, 1.46000000e+00,\n",
       "       2.90000000e-01, 2.20000000e-01, 1.23000000e+00, 7.00000000e-02,\n",
       "       1.70000000e-01, 5.40000000e-01, 3.60000000e-01, 3.10000000e-01,\n",
       "       1.84000000e+00, 5.20000000e-01, 1.10000000e-01, 6.40000000e-01,\n",
       "       1.20000000e-01, 2.05000000e+00, 1.63000000e+00, 8.20000000e-01,\n",
       "       8.00000000e-02, 5.70000000e-01, 1.65000000e+00, 1.90000000e-01,\n",
       "       2.00000000e-02, 4.30000000e-01, 2.50000000e-01, 1.50000000e+00,\n",
       "       1.80000000e-01, 3.90000000e-01, 1.30000000e-01, 1.07000000e+00,\n",
       "       4.60000000e-01, 4.10000000e-01, 6.00000000e-02, 3.00000000e-02,\n",
       "       3.70000000e-01, 5.00000000e-02, 1.09784946e-01, 2.30000000e-01,\n",
       "       6.50000000e-01, 4.20000000e-01, 3.40000000e-01, 3.50000000e-01,\n",
       "       7.80000000e-01, 2.13783784e-01, 2.91000000e-01, 1.00449438e-01,\n",
       "       8.71391076e-02])"
      ]
     },
     "execution_count": 47,
     "metadata": {},
     "output_type": "execute_result"
    }
   ],
   "source": [
    "# Проверяем уникальные значения стобцов с целью выявления некорректных данных\n",
    "df['eu_sales'].unique()"
   ]
  },
  {
   "cell_type": "code",
   "execution_count": 9,
   "id": "1f394896",
   "metadata": {},
   "outputs": [
    {
     "data": {
      "text/plain": [
       "array(['3.77', '6.81', '3.79', '3.28', '10.22', '4.22', '6.5', '2.93',\n",
       "       '4.7', '0.28', '1.93', '4.13', '7.2', '3.6', '0.24', '2.53',\n",
       "       '0.98', '0.41', '3.54', '4.16', '6.04', '4.18', '3.84', '0.06',\n",
       "       '0.47', '5.38', '5.32', '5.65', '1.87', '0.13', '3.12', '0.36',\n",
       "       '0.11', '4.35', '0.65', '0.07', '0.08', '0.49', '0.3', '2.66',\n",
       "       '2.69', '0.48', '0.38', '5.33', '1.91', '3.96', '3.1', '1.1',\n",
       "       '1.2', '0.14', '2.54', '2.14', '0.81', '2.12', '0.44', '3.15',\n",
       "       '1.25', '0.04', '0.0', '2.47', '2.23', '1.69', '0.01', '3.0',\n",
       "       '0.02', '4.39', '1.98', '0.1', '3.81', '0.05', '2.49', '1.58',\n",
       "       '3.14', '2.73', '0.66', '0.22', '3.63', '1.45', '1.31', '2.43',\n",
       "       '0.7', '0.35', '1.4', '0.6', '2.26', '1.42', '1.28', '1.39',\n",
       "       '0.87', '0.17', '0.94', '0.19', '0.21', '1.6', '0.16', '1.03',\n",
       "       '0.25', '2.06', '1.49', '1.29', '0.09', '2.87', '0.03', '0.78',\n",
       "       '0.83', '2.33', '2.02', '1.36', '1.81', '1.97', '0.91', '0.99',\n",
       "       '0.95', '2.0', '1.01', '2.78', '2.11', '1.09', '0.2', '1.9',\n",
       "       '1.27', '3.61', '1.57', '2.2', '1.7', '1.08', '0.15', '1.11',\n",
       "       '0.29', '1.54', '0.12', '0.89', '4.87', '1.52', '1.32', '1.15',\n",
       "       '4.1', '1.46', '0.46', '1.05', '1.61', '0.26', '1.38', '0.62',\n",
       "       '0.73', '0.57', '0.31', '0.58', '1.76', '2.1', '0.9', '0.51',\n",
       "       '0.64', '2.46', '0.23', '0.37', '0.92', '1.07', '2.62', '1.12',\n",
       "       '0.54', '0.27', '0.59', '3.67', '0.55', '1.75', '3.44', '0.33',\n",
       "       '2.55', '2.32', '2.79', '0.74', '3.18', '0.82', '0.77', '0.4',\n",
       "       '2.35', '3.19', '0.8', '0.76', '3.03', '0.88', 'unknown', '0.45',\n",
       "       '1.16', '0.34', '1.19', '1.13', '2.13', '1.96', '0.71', '1.04',\n",
       "       '2.68', '0.68', '2.65', '0.96', '2.41', '0.52', '0.18', '1.34',\n",
       "       '1.48', '2.34', '1.06', '1.21', '2.29', '1.63', '2.05', '2.17',\n",
       "       '1.56', '1.35', '1.33', '0.63', '0.79', '0.75', '0.53', '1.53',\n",
       "       '1.3', '0.39', '0.69', '0.42', '0.93', '0.56', '0.84', '0.72',\n",
       "       '0.32', '1.71', '1.65', '0.61', '1.51', '1.5', '1.44', '1.24',\n",
       "       '1.18', '1.37', '1.0', '1.26', '0.85', '0.43', '0.67', '1.14',\n",
       "       '0.86', '1.17', '0.5', '1.02', '0.97'], dtype=object)"
      ]
     },
     "execution_count": 9,
     "metadata": {},
     "output_type": "execute_result"
    }
   ],
   "source": [
    "df['jp_sales'].unique()"
   ]
  },
  {
   "cell_type": "code",
   "execution_count": 10,
   "id": "90545b16",
   "metadata": {},
   "outputs": [
    {
     "data": {
      "text/plain": [
       "array(['8', nan, '8.3', '8.5', '6.6', '8.4', '8.6', '7.7', '6.3', '7.4',\n",
       "       '8.2', '9', '7.9', '8.1', '8.7', '7.1', '3.4', '5.3', '4.8', '3.2',\n",
       "       '8.9', '6.4', '7.8', '7.5', '2.6', '7.2', '9.2', '7', '7.3', '4.3',\n",
       "       '7.6', '5.7', '5', '9.1', '6.5', 'tbd', '8.8', '6.9', '9.4', '6.8',\n",
       "       '6.1', '6.7', '5.4', '4', '4.9', '4.5', '9.3', '6.2', '4.2', '6',\n",
       "       '3.7', '4.1', '5.8', '5.6', '5.5', '4.4', '4.6', '5.9', '3.9',\n",
       "       '3.1', '2.9', '5.2', '3.3', '4.7', '5.1', '3.5', '2.5', '1.9', '3',\n",
       "       '2.7', '2.2', '2', '9.5', '2.1', '3.6', '2.8', '1.8', '3.8', '0',\n",
       "       '1.6', '9.6', '2.4', '1.7', '1.1', '0.3', '1.5', '0.7', '1.2',\n",
       "       '2.3', '0.5', '1.3', '0.2', '0.6', '1.4', '0.9', '1', '9.7'],\n",
       "      dtype=object)"
      ]
     },
     "execution_count": 10,
     "metadata": {},
     "output_type": "execute_result"
    }
   ],
   "source": [
    "df['user_score'].unique()"
   ]
  },
  {
   "cell_type": "code",
   "execution_count": 11,
   "id": "5033ee32",
   "metadata": {
    "id": "5033ee32"
   },
   "outputs": [],
   "source": [
    "# Преобразовывваем типы данных в нужных столбцах на числовые, меняя строчные значения на пропуск \n",
    "for columns in ['eu_sales','jp_sales','user_score']:\n",
    "    df[columns] = pd.to_numeric(df[columns],errors = 'coerce')"
   ]
  },
  {
   "cell_type": "code",
   "execution_count": 12,
   "id": "11003d69",
   "metadata": {
    "id": "11003d69"
   },
   "outputs": [
    {
     "name": "stdout",
     "output_type": "stream",
     "text": [
      "<class 'pandas.core.frame.DataFrame'>\n",
      "RangeIndex: 16956 entries, 0 to 16955\n",
      "Data columns (total 11 columns):\n",
      " #   Column           Non-Null Count  Dtype  \n",
      "---  ------           --------------  -----  \n",
      " 0   name             16954 non-null  object \n",
      " 1   platform         16956 non-null  object \n",
      " 2   year_of_release  16681 non-null  float64\n",
      " 3   genre            16954 non-null  object \n",
      " 4   na_sales         16956 non-null  float64\n",
      " 5   eu_sales         16950 non-null  float64\n",
      " 6   jp_sales         16952 non-null  float64\n",
      " 7   other_sales      16956 non-null  float64\n",
      " 8   critic_score     8242 non-null   float64\n",
      " 9   user_score       7688 non-null   float64\n",
      " 10  rating           10085 non-null  object \n",
      "dtypes: float64(7), object(4)\n",
      "memory usage: 1.4+ MB\n"
     ]
    }
   ],
   "source": [
    "# Проверяем результаты преобразования\n",
    "df.info()"
   ]
  },
  {
   "cell_type": "markdown",
   "id": "c1ed3d7b",
   "metadata": {},
   "source": [
    "Для дальнешей корректной работы с датафреймом были сделаны следующие изменения:\n",
    "- столбцы `eu_sales`,`jp_sales` и `user_score` типа object преобразовали в тип float64.\n"
   ]
  },
  {
   "cell_type": "markdown",
   "id": "b39893cb",
   "metadata": {
    "id": "b39893cb"
   },
   "source": [
    "### Наличие пропусков в данных\n",
    "\n",
    "\n"
   ]
  },
  {
   "cell_type": "code",
   "execution_count": 13,
   "id": "0f1c91a8",
   "metadata": {
    "id": "0f1c91a8"
   },
   "outputs": [
    {
     "data": {
      "text/plain": [
       "name                  2\n",
       "platform              0\n",
       "year_of_release     275\n",
       "genre                 2\n",
       "na_sales              0\n",
       "eu_sales              6\n",
       "jp_sales              4\n",
       "other_sales           0\n",
       "critic_score       8714\n",
       "user_score         9268\n",
       "rating             6871\n",
       "dtype: int64"
      ]
     },
     "execution_count": 13,
     "metadata": {},
     "output_type": "execute_result"
    }
   ],
   "source": [
    "# Выводим количество пропущенных строк в датафрейме\n",
    "df.isna().sum()"
   ]
  },
  {
   "cell_type": "code",
   "execution_count": 14,
   "id": "86cd1cc1",
   "metadata": {
    "id": "86cd1cc1"
   },
   "outputs": [
    {
     "data": {
      "text/plain": [
       "name                0.011795\n",
       "platform            0.000000\n",
       "year_of_release     1.621845\n",
       "genre               0.011795\n",
       "na_sales            0.000000\n",
       "eu_sales            0.035386\n",
       "jp_sales            0.023590\n",
       "other_sales         0.000000\n",
       "critic_score       51.391838\n",
       "user_score         54.659118\n",
       "rating             40.522529\n",
       "dtype: float64"
      ]
     },
     "execution_count": 14,
     "metadata": {},
     "output_type": "execute_result"
    }
   ],
   "source": [
    "# Подсчитаем процент строк с пропусками\n",
    "df.isna().sum() / len(df) * 100"
   ]
  },
  {
   "cell_type": "code",
   "execution_count": 15,
   "id": "e8d37e9f",
   "metadata": {},
   "outputs": [
    {
     "data": {
      "text/plain": [
       "name                0.011795\n",
       "platform            0.000000\n",
       "year_of_release     1.621845\n",
       "genre               0.011795\n",
       "na_sales            0.000000\n",
       "eu_sales            0.035386\n",
       "jp_sales            0.023590\n",
       "other_sales         0.000000\n",
       "critic_score       51.391838\n",
       "user_score         54.659118\n",
       "rating             40.522529\n",
       "dtype: float64"
      ]
     },
     "execution_count": 15,
     "metadata": {},
     "output_type": "execute_result"
    }
   ],
   "source": [
    "df.isna().sum() / len(df) * 100"
   ]
  },
  {
   "cell_type": "markdown",
   "id": "54dfd67b",
   "metadata": {},
   "source": [
    "-------"
   ]
  },
  {
   "cell_type": "markdown",
   "id": "2f717340",
   "metadata": {
    "id": "bd69e642"
   },
   "source": [
    "Изучаем пропуски:\n",
    "\n",
    "- Наблюдаем очень незначительный процент (от ~0,02% до ~0,035%) пропусков в столбцах `eu_sales` и `jp_sales`. Их можно заполнить средним значением по году выхода игры и названию платформы.  \n",
    "\n",
    "- Больше трети данных (40%) отсутсвует в столбе `rating`. Так как эти данные в дальнейшем анализе нам не пригодятся - заменим значение на `unknown`\n",
    "\n",
    "- Больше чем у половины игр (51% и 54% соответственно) отсутсвуют значения в столбцах `user_score` и `critic_score`. Как показала фильтрация - пропуски в этих столбцах никак не зависят от времени. Удаление данных или замена на среднее значение - сильно исказят аналитическую картину, поэтому заменим пропуски значением-индикатором.\n",
    "- ~1,62% пропусков в столбце `year_of_release`. Так как столбец содержит информацию о годе выпуска - заполнить его какими-либо приближенными показателями невозможно. Поэтому используем так же значение индикатор.\n",
    "- Совсем незначильные пропуски (0,01%) в столбцах `name` и `genre` и они содержат строковые данные, поэтому заполним их строкой `unknown`"
   ]
  },
  {
   "cell_type": "markdown",
   "id": "be7b16d6",
   "metadata": {},
   "source": [
    "--------"
   ]
  },
  {
   "cell_type": "code",
   "execution_count": 16,
   "id": "154be65d",
   "metadata": {
    "id": "154be65d"
   },
   "outputs": [],
   "source": [
    "# Заполняем пропуски в eu_sales\n",
    "## Создаем функцию для вычисления среднего знакчения по категориям\n",
    "\n",
    "def mean_group_eu_sales(row):\n",
    "    if pd.isna(row['eu_sales']):\n",
    "        group = df[(df['year_of_release'] == row['year_of_release']) & \n",
    "        (df['platform'] == row['platform'])]\n",
    "        return group['eu_sales'].mean()\n",
    "    else:\n",
    "        return row['eu_sales']\n",
    "\n",
    "### Применяем функцию на серию\n",
    "\n",
    "df['eu_sales'] =  df.apply(mean_group_eu_sales,axis=1)\n",
    "\n"
   ]
  },
  {
   "cell_type": "code",
   "execution_count": 17,
   "id": "3f42817b",
   "metadata": {
    "id": "3f42817b"
   },
   "outputs": [],
   "source": [
    "# Заполняем пропуски в jp_sales\n",
    "## Создаем функцию для вычисления среднего знакчения по категориям\n",
    "\n",
    "def mean_group_jp_sales(row):\n",
    "    if pd.isna(row['jp_sales']):\n",
    "        group = df[(df['year_of_release'] == row['year_of_release']) & \n",
    "        (df['platform'] == row['platform'])]\n",
    "        return group['jp_sales'].mean()\n",
    "    else:\n",
    "        return row['jp_sales']\n",
    "\n",
    "### Применяем функцию на серию\n",
    "\n",
    "df['jp_sales'] =  df.apply(mean_group_jp_sales,axis=1)\n",
    "\n"
   ]
  },
  {
   "cell_type": "code",
   "execution_count": 18,
   "id": "d334cf21",
   "metadata": {},
   "outputs": [],
   "source": [
    "# Заполняем данные в столбцах 'name', 'genre' и 'rating' \n",
    "\n",
    "df['name'] = df['name'].fillna('unknown')\n",
    "df['genre'] = df['name'].fillna('unknown')\n",
    "df['rating'] = df['rating'].fillna('unknown')"
   ]
  },
  {
   "cell_type": "code",
   "execution_count": 19,
   "id": "8ef984f6",
   "metadata": {},
   "outputs": [
    {
     "data": {
      "text/plain": [
       "array([2006., 1985., 2008., 2009., 1996., 1989., 1984., 2005., 1999.,\n",
       "       2007., 2010., 2013., 2004., 1990., 1988., 2002., 2001., 2011.,\n",
       "       1998., 2015., 2012., 2014., 1992., 1997., 1993., 1994., 1982.,\n",
       "       2016., 2003., 1986., 2000.,   nan, 1995., 1991., 1981., 1987.,\n",
       "       1980., 1983.])"
      ]
     },
     "execution_count": 19,
     "metadata": {},
     "output_type": "execute_result"
    }
   ],
   "source": [
    "# Проверяем уникальные значения перед заполнением пропусков\n",
    "df['year_of_release'].unique()"
   ]
  },
  {
   "cell_type": "code",
   "execution_count": 20,
   "id": "ae0d0937",
   "metadata": {},
   "outputs": [
    {
     "data": {
      "text/plain": [
       "array([8. , nan, 8.3, 8.5, 6.6, 8.4, 8.6, 7.7, 6.3, 7.4, 8.2, 9. , 7.9,\n",
       "       8.1, 8.7, 7.1, 3.4, 5.3, 4.8, 3.2, 8.9, 6.4, 7.8, 7.5, 2.6, 7.2,\n",
       "       9.2, 7. , 7.3, 4.3, 7.6, 5.7, 5. , 9.1, 6.5, 8.8, 6.9, 9.4, 6.8,\n",
       "       6.1, 6.7, 5.4, 4. , 4.9, 4.5, 9.3, 6.2, 4.2, 6. , 3.7, 4.1, 5.8,\n",
       "       5.6, 5.5, 4.4, 4.6, 5.9, 3.9, 3.1, 2.9, 5.2, 3.3, 4.7, 5.1, 3.5,\n",
       "       2.5, 1.9, 3. , 2.7, 2.2, 2. , 9.5, 2.1, 3.6, 2.8, 1.8, 3.8, 0. ,\n",
       "       1.6, 9.6, 2.4, 1.7, 1.1, 0.3, 1.5, 0.7, 1.2, 2.3, 0.5, 1.3, 0.2,\n",
       "       0.6, 1.4, 0.9, 1. , 9.7])"
      ]
     },
     "execution_count": 20,
     "metadata": {},
     "output_type": "execute_result"
    }
   ],
   "source": [
    "df['user_score'].unique()"
   ]
  },
  {
   "cell_type": "code",
   "execution_count": 21,
   "id": "9efa9129",
   "metadata": {},
   "outputs": [
    {
     "data": {
      "text/plain": [
       "array([76., nan, 82., 80., 89., 58., 87., 91., 61., 97., 95., 77., 88.,\n",
       "       83., 94., 93., 85., 86., 98., 96., 90., 84., 73., 74., 78., 92.,\n",
       "       71., 72., 68., 62., 49., 67., 81., 66., 56., 79., 70., 59., 64.,\n",
       "       75., 60., 63., 69., 50., 25., 42., 44., 55., 48., 57., 29., 47.,\n",
       "       65., 54., 20., 53., 37., 38., 33., 52., 30., 32., 43., 45., 51.,\n",
       "       40., 46., 39., 34., 35., 41., 36., 28., 31., 27., 26., 19., 23.,\n",
       "       24., 21., 17., 22., 13.])"
      ]
     },
     "execution_count": 21,
     "metadata": {},
     "output_type": "execute_result"
    }
   ],
   "source": [
    "df['critic_score'].unique()"
   ]
  },
  {
   "cell_type": "code",
   "execution_count": 22,
   "id": "2784c760",
   "metadata": {
    "id": "2784c760",
    "scrolled": true
   },
   "outputs": [],
   "source": [
    "# Заполняем пропуски индикатором \"-1\" в столбцах critic_score и user_score\n",
    "\n",
    "df['user_score'] = df['user_score'].fillna(-1)\n",
    "df['critic_score'] = df['critic_score'].fillna(-1)\n",
    "df['year_of_release'] = df['year_of_release'].fillna(-1)"
   ]
  },
  {
   "cell_type": "code",
   "execution_count": 23,
   "id": "461de29e",
   "metadata": {},
   "outputs": [],
   "source": [
    "# Теперь привидем столбцы 'year_of_release' и 'critic_score' к целочисленному типу данных\n",
    "df['year_of_release'] = df['year_of_release'].astype('int64')\n",
    "df['critic_score'] = df['critic_score'].astype('int64')"
   ]
  },
  {
   "cell_type": "code",
   "execution_count": 24,
   "id": "5fd5448f",
   "metadata": {},
   "outputs": [
    {
     "data": {
      "text/html": [
       "<div>\n",
       "<style scoped>\n",
       "    .dataframe tbody tr th:only-of-type {\n",
       "        vertical-align: middle;\n",
       "    }\n",
       "\n",
       "    .dataframe tbody tr th {\n",
       "        vertical-align: top;\n",
       "    }\n",
       "\n",
       "    .dataframe thead th {\n",
       "        text-align: right;\n",
       "    }\n",
       "</style>\n",
       "<table border=\"1\" class=\"dataframe\">\n",
       "  <thead>\n",
       "    <tr style=\"text-align: right;\">\n",
       "      <th></th>\n",
       "      <th>critic_score</th>\n",
       "      <th>year_of_release</th>\n",
       "    </tr>\n",
       "  </thead>\n",
       "  <tbody>\n",
       "    <tr>\n",
       "      <th>0</th>\n",
       "      <td>76</td>\n",
       "      <td>2006</td>\n",
       "    </tr>\n",
       "    <tr>\n",
       "      <th>1</th>\n",
       "      <td>-1</td>\n",
       "      <td>1985</td>\n",
       "    </tr>\n",
       "    <tr>\n",
       "      <th>2</th>\n",
       "      <td>82</td>\n",
       "      <td>2008</td>\n",
       "    </tr>\n",
       "    <tr>\n",
       "      <th>3</th>\n",
       "      <td>80</td>\n",
       "      <td>2009</td>\n",
       "    </tr>\n",
       "    <tr>\n",
       "      <th>4</th>\n",
       "      <td>-1</td>\n",
       "      <td>1996</td>\n",
       "    </tr>\n",
       "    <tr>\n",
       "      <th>...</th>\n",
       "      <td>...</td>\n",
       "      <td>...</td>\n",
       "    </tr>\n",
       "    <tr>\n",
       "      <th>16951</th>\n",
       "      <td>-1</td>\n",
       "      <td>2016</td>\n",
       "    </tr>\n",
       "    <tr>\n",
       "      <th>16952</th>\n",
       "      <td>-1</td>\n",
       "      <td>2006</td>\n",
       "    </tr>\n",
       "    <tr>\n",
       "      <th>16953</th>\n",
       "      <td>-1</td>\n",
       "      <td>2016</td>\n",
       "    </tr>\n",
       "    <tr>\n",
       "      <th>16954</th>\n",
       "      <td>-1</td>\n",
       "      <td>2003</td>\n",
       "    </tr>\n",
       "    <tr>\n",
       "      <th>16955</th>\n",
       "      <td>-1</td>\n",
       "      <td>2016</td>\n",
       "    </tr>\n",
       "  </tbody>\n",
       "</table>\n",
       "<p>16956 rows × 2 columns</p>\n",
       "</div>"
      ],
      "text/plain": [
       "       critic_score  year_of_release\n",
       "0                76             2006\n",
       "1                -1             1985\n",
       "2                82             2008\n",
       "3                80             2009\n",
       "4                -1             1996\n",
       "...             ...              ...\n",
       "16951            -1             2016\n",
       "16952            -1             2006\n",
       "16953            -1             2016\n",
       "16954            -1             2003\n",
       "16955            -1             2016\n",
       "\n",
       "[16956 rows x 2 columns]"
      ]
     },
     "execution_count": 24,
     "metadata": {},
     "output_type": "execute_result"
    }
   ],
   "source": [
    "# Проверим результат преобразования\n",
    "df[['critic_score','year_of_release']]"
   ]
  },
  {
   "cell_type": "code",
   "execution_count": 25,
   "id": "08d04f1c",
   "metadata": {},
   "outputs": [
    {
     "data": {
      "text/plain": [
       "name               0.0\n",
       "platform           0.0\n",
       "year_of_release    0.0\n",
       "genre              0.0\n",
       "na_sales           0.0\n",
       "eu_sales           0.0\n",
       "jp_sales           0.0\n",
       "other_sales        0.0\n",
       "critic_score       0.0\n",
       "user_score         0.0\n",
       "rating             0.0\n",
       "dtype: float64"
      ]
     },
     "execution_count": 25,
     "metadata": {},
     "output_type": "execute_result"
    }
   ],
   "source": [
    "# Проверяем результат\n",
    "df.isna().sum() / len(df) * 100"
   ]
  },
  {
   "cell_type": "markdown",
   "id": "a63363fd",
   "metadata": {
    "id": "a63363fd"
   },
   "source": [
    "###  Явные и неявные дубликаты в данных\n",
    "\n"
   ]
  },
  {
   "cell_type": "code",
   "execution_count": 26,
   "id": "491c9c39",
   "metadata": {
    "id": "491c9c39"
   },
   "outputs": [],
   "source": [
    "# Редактируем регистры, с целью минимизировать неявные дубликаты\n",
    "\n",
    "df['name'] = df['name'].str.lower() \n",
    "df['genre'] = df['genre'].str.lower() \n",
    "df['platform'] = df['platform'].str.lower() \n",
    "df['rating'] = df['rating'].str.upper() "
   ]
  },
  {
   "cell_type": "code",
   "execution_count": 27,
   "id": "f1627198",
   "metadata": {
    "id": "f1627198",
    "scrolled": true
   },
   "outputs": [
    {
     "data": {
      "text/plain": [
       "array([' beyblade burst', ' fire emblem fates', \" frozen: olaf's quest\",\n",
       "       ..., 'zwei!!', 'zyuden sentai kyoryuger: game de gaburincho!!',\n",
       "       '¡shin chan flipa en colores!'], dtype=object)"
      ]
     },
     "execution_count": 27,
     "metadata": {},
     "output_type": "execute_result"
    }
   ],
   "source": [
    "# Проверяем уникальные значения в столбце 'genre'\n",
    "df.sort_values(by='genre')['genre'].unique()"
   ]
  },
  {
   "cell_type": "code",
   "execution_count": 28,
   "id": "f5b2db4f",
   "metadata": {},
   "outputs": [
    {
     "data": {
      "text/plain": [
       "array([  -1, 1980, 1981, 1982, 1983, 1984, 1985, 1986, 1987, 1988, 1989,\n",
       "       1990, 1991, 1992, 1993, 1994, 1995, 1996, 1997, 1998, 1999, 2000,\n",
       "       2001, 2002, 2003, 2004, 2005, 2006, 2007, 2008, 2009, 2010, 2011,\n",
       "       2012, 2013, 2014, 2015, 2016])"
      ]
     },
     "execution_count": 28,
     "metadata": {},
     "output_type": "execute_result"
    }
   ],
   "source": [
    "# Проверяем уникальные значения в столбце 'year_of_release'\n",
    "df.sort_values(by='year_of_release')['year_of_release'].unique()"
   ]
  },
  {
   "cell_type": "code",
   "execution_count": 29,
   "id": "87f77231",
   "metadata": {},
   "outputs": [
    {
     "data": {
      "text/plain": [
       "array(['AO', 'E', 'E10+', 'EC', 'K-A', 'M', 'RP', 'T', 'UNKNOWN'],\n",
       "      dtype=object)"
      ]
     },
     "execution_count": 29,
     "metadata": {},
     "output_type": "execute_result"
    }
   ],
   "source": [
    "# Проверяем уникальные значения в столбце 'rating'\n",
    "df.sort_values(by='rating')['rating'].unique()"
   ]
  },
  {
   "cell_type": "code",
   "execution_count": 30,
   "id": "70abc5d6",
   "metadata": {},
   "outputs": [
    {
     "data": {
      "text/plain": [
       "array(['2600', '3do', '3ds', 'dc', 'ds', 'gb', 'gba', 'gc', 'gen', 'gg',\n",
       "       'n64', 'nes', 'ng', 'pc', 'pcfx', 'ps', 'ps2', 'ps3', 'ps4', 'psp',\n",
       "       'psv', 'sat', 'scd', 'snes', 'tg16', 'wii', 'wiiu', 'ws', 'x360',\n",
       "       'xb', 'xone'], dtype=object)"
      ]
     },
     "execution_count": 30,
     "metadata": {},
     "output_type": "execute_result"
    }
   ],
   "source": [
    "# Проверяем уникальные значения в столбце 'platform'\n",
    "df.sort_values(by='platform')['platform'].unique()"
   ]
  },
  {
   "cell_type": "markdown",
   "id": "95becb59",
   "metadata": {},
   "source": [
    "Проделанная работа по поиску по неявных дубликатов:\n",
    "\n",
    "- Нормализовали регистры для каждого стобца.\n",
    "- Проверили уникальне значения категориальных данных на опечатки предарительно отсортировав данные в порядке возрастания\n",
    "\n",
    "Итоги: неявных дубликатов не обнаружено."
   ]
  },
  {
   "cell_type": "code",
   "execution_count": 31,
   "id": "a0cac80c",
   "metadata": {
    "id": "a0cac80c"
   },
   "outputs": [
    {
     "data": {
      "text/plain": [
       "16956"
      ]
     },
     "execution_count": 31,
     "metadata": {},
     "output_type": "execute_result"
    }
   ],
   "source": [
    "# Проверяем общее кол-во строк датафрейма\n",
    "df.shape[0]"
   ]
  },
  {
   "cell_type": "code",
   "execution_count": 32,
   "id": "96d8fba7",
   "metadata": {},
   "outputs": [
    {
     "data": {
      "text/plain": [
       "241"
      ]
     },
     "execution_count": 32,
     "metadata": {},
     "output_type": "execute_result"
    }
   ],
   "source": [
    "# Узнаем сумму явных дубликатов\n",
    "df.duplicated().sum()"
   ]
  },
  {
   "cell_type": "code",
   "execution_count": 33,
   "id": "cd546fcb",
   "metadata": {},
   "outputs": [
    {
     "data": {
      "text/plain": [
       "1.421325784383109"
      ]
     },
     "execution_count": 33,
     "metadata": {},
     "output_type": "execute_result"
    }
   ],
   "source": [
    "# Высчитаем процент дубликатов от датафрема\n",
    "df.duplicated().sum() / df.shape[0] * 100"
   ]
  },
  {
   "cell_type": "code",
   "execution_count": 34,
   "id": "20ce219d",
   "metadata": {},
   "outputs": [],
   "source": [
    "# Удаляем дубликаты\n",
    "df = df.drop_duplicates()"
   ]
  },
  {
   "cell_type": "code",
   "execution_count": 35,
   "id": "b0650adf",
   "metadata": {},
   "outputs": [
    {
     "data": {
      "text/plain": [
       "0"
      ]
     },
     "execution_count": 35,
     "metadata": {},
     "output_type": "execute_result"
    }
   ],
   "source": [
    "# Проверяем результат\n",
    "df.duplicated().sum()"
   ]
  },
  {
   "cell_type": "code",
   "execution_count": 36,
   "id": "fc5c91b5",
   "metadata": {
    "id": "fc5c91b5"
   },
   "outputs": [
    {
     "data": {
      "text/plain": [
       "16715"
      ]
     },
     "execution_count": 36,
     "metadata": {},
     "output_type": "execute_result"
    }
   ],
   "source": [
    "df.shape[0]"
   ]
  },
  {
   "cell_type": "markdown",
   "id": "6887f640",
   "metadata": {
    "id": "2f61e076"
   },
   "source": [
    "Проделанная работа по явным дубликатам:\n",
    "\n",
    "- Найдено и удалено 241 дубликатов, что составляет приблизительно 1,4% от нашего датафрейма"
   ]
  },
  {
   "cell_type": "markdown",
   "id": "996659f6",
   "metadata": {
    "id": "1e48a7ce"
   },
   "source": [
    "-------"
   ]
  },
  {
   "cell_type": "markdown",
   "id": "0414c296",
   "metadata": {
    "id": "12a69dba"
   },
   "source": [
    "Итоги и промежуточные выводы предобработки данных:\n",
    "\n",
    "- Все даннные преобразованы в необходимый для дальнейшего анализа тип\n",
    "- Часть пропусков имели очень маленький процент относительно кол-ва строк(меньше процента) поэтому были успешно заполненны усредненными данными, которые не исказят аналитическую картину. Однако другая часть данных имеет слишком большой процент пропусков(больше 30%). Было принято решение заменить их значением - индикатором. \n",
    "- Проведена успешая работа с неявнымми и явными дубликатами, доля которых составила лишь 1,4% от датафрейма.\n",
    "- Датафрейрм отфильтрован в связи с потребнотями поставленных задач. Все данные успешно нормализованы, за исключением некоторызз пропусков."
   ]
  },
  {
   "cell_type": "markdown",
   "id": "613f0eb0",
   "metadata": {
    "id": "613f0eb0"
   },
   "source": [
    "---\n",
    "\n",
    "##  Фильтрация данных\n",
    "\n",
    "Коллеги хотят изучить историю продаж игр в начале XXI века, и их интересует период с 2000 по 2013 год включительно. Отберите данные по этому показателю. Сохраните новый срез данных в отдельном датафрейме, например `df_actual`."
   ]
  },
  {
   "cell_type": "code",
   "execution_count": 37,
   "id": "235935b3",
   "metadata": {},
   "outputs": [],
   "source": [
    "# Отфильтруем данные во временном интервале, необходимом для задачи\n",
    "df_actual = df[(df['year_of_release'] >= 2000) & (df['year_of_release'] <= 2013)]"
   ]
  },
  {
   "cell_type": "code",
   "execution_count": 38,
   "id": "2344916d",
   "metadata": {
    "id": "2344916d"
   },
   "outputs": [
    {
     "data": {
      "text/html": [
       "<div>\n",
       "<style scoped>\n",
       "    .dataframe tbody tr th:only-of-type {\n",
       "        vertical-align: middle;\n",
       "    }\n",
       "\n",
       "    .dataframe tbody tr th {\n",
       "        vertical-align: top;\n",
       "    }\n",
       "\n",
       "    .dataframe thead th {\n",
       "        text-align: right;\n",
       "    }\n",
       "</style>\n",
       "<table border=\"1\" class=\"dataframe\">\n",
       "  <thead>\n",
       "    <tr style=\"text-align: right;\">\n",
       "      <th></th>\n",
       "      <th>name</th>\n",
       "      <th>platform</th>\n",
       "      <th>year_of_release</th>\n",
       "      <th>genre</th>\n",
       "      <th>na_sales</th>\n",
       "      <th>eu_sales</th>\n",
       "      <th>jp_sales</th>\n",
       "      <th>other_sales</th>\n",
       "      <th>critic_score</th>\n",
       "      <th>user_score</th>\n",
       "      <th>rating</th>\n",
       "    </tr>\n",
       "  </thead>\n",
       "  <tbody>\n",
       "    <tr>\n",
       "      <th>0</th>\n",
       "      <td>wii sports</td>\n",
       "      <td>wii</td>\n",
       "      <td>2006</td>\n",
       "      <td>wii sports</td>\n",
       "      <td>41.36</td>\n",
       "      <td>28.96</td>\n",
       "      <td>3.77</td>\n",
       "      <td>8.45</td>\n",
       "      <td>76</td>\n",
       "      <td>8.0</td>\n",
       "      <td>E</td>\n",
       "    </tr>\n",
       "    <tr>\n",
       "      <th>2</th>\n",
       "      <td>mario kart wii</td>\n",
       "      <td>wii</td>\n",
       "      <td>2008</td>\n",
       "      <td>mario kart wii</td>\n",
       "      <td>15.68</td>\n",
       "      <td>12.76</td>\n",
       "      <td>3.79</td>\n",
       "      <td>3.29</td>\n",
       "      <td>82</td>\n",
       "      <td>8.3</td>\n",
       "      <td>E</td>\n",
       "    </tr>\n",
       "    <tr>\n",
       "      <th>3</th>\n",
       "      <td>wii sports resort</td>\n",
       "      <td>wii</td>\n",
       "      <td>2009</td>\n",
       "      <td>wii sports resort</td>\n",
       "      <td>15.61</td>\n",
       "      <td>10.93</td>\n",
       "      <td>3.28</td>\n",
       "      <td>2.95</td>\n",
       "      <td>80</td>\n",
       "      <td>8.0</td>\n",
       "      <td>E</td>\n",
       "    </tr>\n",
       "    <tr>\n",
       "      <th>6</th>\n",
       "      <td>new super mario bros.</td>\n",
       "      <td>ds</td>\n",
       "      <td>2006</td>\n",
       "      <td>new super mario bros.</td>\n",
       "      <td>11.28</td>\n",
       "      <td>9.14</td>\n",
       "      <td>6.50</td>\n",
       "      <td>2.88</td>\n",
       "      <td>89</td>\n",
       "      <td>8.5</td>\n",
       "      <td>E</td>\n",
       "    </tr>\n",
       "    <tr>\n",
       "      <th>7</th>\n",
       "      <td>wii play</td>\n",
       "      <td>wii</td>\n",
       "      <td>2006</td>\n",
       "      <td>wii play</td>\n",
       "      <td>13.96</td>\n",
       "      <td>9.18</td>\n",
       "      <td>2.93</td>\n",
       "      <td>2.84</td>\n",
       "      <td>58</td>\n",
       "      <td>6.6</td>\n",
       "      <td>E</td>\n",
       "    </tr>\n",
       "  </tbody>\n",
       "</table>\n",
       "</div>"
      ],
      "text/plain": [
       "                    name platform  year_of_release                  genre  \\\n",
       "0             wii sports      wii             2006             wii sports   \n",
       "2         mario kart wii      wii             2008         mario kart wii   \n",
       "3      wii sports resort      wii             2009      wii sports resort   \n",
       "6  new super mario bros.       ds             2006  new super mario bros.   \n",
       "7               wii play      wii             2006               wii play   \n",
       "\n",
       "   na_sales  eu_sales  jp_sales  other_sales  critic_score  user_score rating  \n",
       "0     41.36     28.96      3.77         8.45            76         8.0      E  \n",
       "2     15.68     12.76      3.79         3.29            82         8.3      E  \n",
       "3     15.61     10.93      3.28         2.95            80         8.0      E  \n",
       "6     11.28      9.14      6.50         2.88            89         8.5      E  \n",
       "7     13.96      9.18      2.93         2.84            58         6.6      E  "
      ]
     },
     "execution_count": 38,
     "metadata": {},
     "output_type": "execute_result"
    }
   ],
   "source": [
    "df_actual.head()"
   ]
  },
  {
   "cell_type": "markdown",
   "id": "a6f10b01",
   "metadata": {
    "id": "a6f10b01"
   },
   "source": [
    "---\n",
    "\n",
    "## Категоризация данных\n",
    "    \n",
    "Проведите категоризацию данных:\n",
    "- Разделите все игры по оценкам пользователей и выделите такие категории: высокая оценка (от 8 до 10 включительно), средняя оценка (от 3 до 8, не включая правую границу интервала) и низкая оценка (от 0 до 3, не включая правую границу интервала)."
   ]
  },
  {
   "cell_type": "code",
   "execution_count": 39,
   "id": "3db87229",
   "metadata": {
    "id": "3db87229"
   },
   "outputs": [],
   "source": [
    "# Разделяем данные на категории по столбцы 'user_score'\n",
    "df_actual['user_score_group'] = pd.cut(df_actual['user_score'],bins=[-1.1,0,2,7,10], labels=[\"без оценки\",\"низкая оценка\",\"средняя оценка\",\"высокая оценка\"])"
   ]
  },
  {
   "cell_type": "code",
   "execution_count": 40,
   "id": "9b0ca0f2",
   "metadata": {
    "id": "9b0ca0f2"
   },
   "outputs": [
    {
     "data": {
      "text/html": [
       "<div>\n",
       "<style scoped>\n",
       "    .dataframe tbody tr th:only-of-type {\n",
       "        vertical-align: middle;\n",
       "    }\n",
       "\n",
       "    .dataframe tbody tr th {\n",
       "        vertical-align: top;\n",
       "    }\n",
       "\n",
       "    .dataframe thead th {\n",
       "        text-align: right;\n",
       "    }\n",
       "</style>\n",
       "<table border=\"1\" class=\"dataframe\">\n",
       "  <thead>\n",
       "    <tr style=\"text-align: right;\">\n",
       "      <th></th>\n",
       "      <th>name</th>\n",
       "      <th>platform</th>\n",
       "      <th>year_of_release</th>\n",
       "      <th>genre</th>\n",
       "      <th>na_sales</th>\n",
       "      <th>eu_sales</th>\n",
       "      <th>jp_sales</th>\n",
       "      <th>other_sales</th>\n",
       "      <th>critic_score</th>\n",
       "      <th>user_score</th>\n",
       "      <th>rating</th>\n",
       "      <th>user_score_group</th>\n",
       "    </tr>\n",
       "  </thead>\n",
       "  <tbody>\n",
       "    <tr>\n",
       "      <th>0</th>\n",
       "      <td>wii sports</td>\n",
       "      <td>wii</td>\n",
       "      <td>2006</td>\n",
       "      <td>wii sports</td>\n",
       "      <td>41.36</td>\n",
       "      <td>28.96</td>\n",
       "      <td>3.77</td>\n",
       "      <td>8.45</td>\n",
       "      <td>76</td>\n",
       "      <td>8.0</td>\n",
       "      <td>E</td>\n",
       "      <td>высокая оценка</td>\n",
       "    </tr>\n",
       "    <tr>\n",
       "      <th>2</th>\n",
       "      <td>mario kart wii</td>\n",
       "      <td>wii</td>\n",
       "      <td>2008</td>\n",
       "      <td>mario kart wii</td>\n",
       "      <td>15.68</td>\n",
       "      <td>12.76</td>\n",
       "      <td>3.79</td>\n",
       "      <td>3.29</td>\n",
       "      <td>82</td>\n",
       "      <td>8.3</td>\n",
       "      <td>E</td>\n",
       "      <td>высокая оценка</td>\n",
       "    </tr>\n",
       "    <tr>\n",
       "      <th>3</th>\n",
       "      <td>wii sports resort</td>\n",
       "      <td>wii</td>\n",
       "      <td>2009</td>\n",
       "      <td>wii sports resort</td>\n",
       "      <td>15.61</td>\n",
       "      <td>10.93</td>\n",
       "      <td>3.28</td>\n",
       "      <td>2.95</td>\n",
       "      <td>80</td>\n",
       "      <td>8.0</td>\n",
       "      <td>E</td>\n",
       "      <td>высокая оценка</td>\n",
       "    </tr>\n",
       "    <tr>\n",
       "      <th>6</th>\n",
       "      <td>new super mario bros.</td>\n",
       "      <td>ds</td>\n",
       "      <td>2006</td>\n",
       "      <td>new super mario bros.</td>\n",
       "      <td>11.28</td>\n",
       "      <td>9.14</td>\n",
       "      <td>6.50</td>\n",
       "      <td>2.88</td>\n",
       "      <td>89</td>\n",
       "      <td>8.5</td>\n",
       "      <td>E</td>\n",
       "      <td>высокая оценка</td>\n",
       "    </tr>\n",
       "    <tr>\n",
       "      <th>7</th>\n",
       "      <td>wii play</td>\n",
       "      <td>wii</td>\n",
       "      <td>2006</td>\n",
       "      <td>wii play</td>\n",
       "      <td>13.96</td>\n",
       "      <td>9.18</td>\n",
       "      <td>2.93</td>\n",
       "      <td>2.84</td>\n",
       "      <td>58</td>\n",
       "      <td>6.6</td>\n",
       "      <td>E</td>\n",
       "      <td>средняя оценка</td>\n",
       "    </tr>\n",
       "  </tbody>\n",
       "</table>\n",
       "</div>"
      ],
      "text/plain": [
       "                    name platform  year_of_release                  genre  \\\n",
       "0             wii sports      wii             2006             wii sports   \n",
       "2         mario kart wii      wii             2008         mario kart wii   \n",
       "3      wii sports resort      wii             2009      wii sports resort   \n",
       "6  new super mario bros.       ds             2006  new super mario bros.   \n",
       "7               wii play      wii             2006               wii play   \n",
       "\n",
       "   na_sales  eu_sales  jp_sales  other_sales  critic_score  user_score rating  \\\n",
       "0     41.36     28.96      3.77         8.45            76         8.0      E   \n",
       "2     15.68     12.76      3.79         3.29            82         8.3      E   \n",
       "3     15.61     10.93      3.28         2.95            80         8.0      E   \n",
       "6     11.28      9.14      6.50         2.88            89         8.5      E   \n",
       "7     13.96      9.18      2.93         2.84            58         6.6      E   \n",
       "\n",
       "  user_score_group  \n",
       "0   высокая оценка  \n",
       "2   высокая оценка  \n",
       "3   высокая оценка  \n",
       "6   высокая оценка  \n",
       "7   средняя оценка  "
      ]
     },
     "execution_count": 40,
     "metadata": {},
     "output_type": "execute_result"
    }
   ],
   "source": [
    "df_actual.head()"
   ]
  },
  {
   "cell_type": "markdown",
   "id": "f8f34b40",
   "metadata": {
    "id": "f8f34b40"
   },
   "source": [
    "- Разделите все игры по оценкам критиков и выделите такие категории: высокая оценка (от 80 до 100 включительно), средняя оценка (от 30 до 80, не включая правую границу интервала) и низкая оценка (от 0 до 30, не включая правую границу интервала)."
   ]
  },
  {
   "cell_type": "code",
   "execution_count": 41,
   "id": "e3f7acb0",
   "metadata": {
    "id": "e3f7acb0"
   },
   "outputs": [],
   "source": [
    "# Разделяем данные на категории по столбцу 'critic_score'\n",
    "df_actual['critic_score_group'] = pd.cut(df_actual['critic_score'],bins=[-1.1,0,29,79,100], labels=[\"без оценки\",\"низкая оценка\",\"средняя оценка\",\"высокая оценка\"])"
   ]
  },
  {
   "cell_type": "code",
   "execution_count": 42,
   "id": "548fde17",
   "metadata": {
    "id": "548fde17"
   },
   "outputs": [
    {
     "data": {
      "text/html": [
       "<div>\n",
       "<style scoped>\n",
       "    .dataframe tbody tr th:only-of-type {\n",
       "        vertical-align: middle;\n",
       "    }\n",
       "\n",
       "    .dataframe tbody tr th {\n",
       "        vertical-align: top;\n",
       "    }\n",
       "\n",
       "    .dataframe thead th {\n",
       "        text-align: right;\n",
       "    }\n",
       "</style>\n",
       "<table border=\"1\" class=\"dataframe\">\n",
       "  <thead>\n",
       "    <tr style=\"text-align: right;\">\n",
       "      <th></th>\n",
       "      <th>name</th>\n",
       "      <th>platform</th>\n",
       "      <th>year_of_release</th>\n",
       "      <th>genre</th>\n",
       "      <th>na_sales</th>\n",
       "      <th>eu_sales</th>\n",
       "      <th>jp_sales</th>\n",
       "      <th>other_sales</th>\n",
       "      <th>critic_score</th>\n",
       "      <th>user_score</th>\n",
       "      <th>rating</th>\n",
       "      <th>user_score_group</th>\n",
       "      <th>critic_score_group</th>\n",
       "    </tr>\n",
       "  </thead>\n",
       "  <tbody>\n",
       "    <tr>\n",
       "      <th>0</th>\n",
       "      <td>wii sports</td>\n",
       "      <td>wii</td>\n",
       "      <td>2006</td>\n",
       "      <td>wii sports</td>\n",
       "      <td>41.36</td>\n",
       "      <td>28.96</td>\n",
       "      <td>3.77</td>\n",
       "      <td>8.45</td>\n",
       "      <td>76</td>\n",
       "      <td>8.0</td>\n",
       "      <td>E</td>\n",
       "      <td>высокая оценка</td>\n",
       "      <td>средняя оценка</td>\n",
       "    </tr>\n",
       "    <tr>\n",
       "      <th>2</th>\n",
       "      <td>mario kart wii</td>\n",
       "      <td>wii</td>\n",
       "      <td>2008</td>\n",
       "      <td>mario kart wii</td>\n",
       "      <td>15.68</td>\n",
       "      <td>12.76</td>\n",
       "      <td>3.79</td>\n",
       "      <td>3.29</td>\n",
       "      <td>82</td>\n",
       "      <td>8.3</td>\n",
       "      <td>E</td>\n",
       "      <td>высокая оценка</td>\n",
       "      <td>высокая оценка</td>\n",
       "    </tr>\n",
       "    <tr>\n",
       "      <th>3</th>\n",
       "      <td>wii sports resort</td>\n",
       "      <td>wii</td>\n",
       "      <td>2009</td>\n",
       "      <td>wii sports resort</td>\n",
       "      <td>15.61</td>\n",
       "      <td>10.93</td>\n",
       "      <td>3.28</td>\n",
       "      <td>2.95</td>\n",
       "      <td>80</td>\n",
       "      <td>8.0</td>\n",
       "      <td>E</td>\n",
       "      <td>высокая оценка</td>\n",
       "      <td>высокая оценка</td>\n",
       "    </tr>\n",
       "    <tr>\n",
       "      <th>6</th>\n",
       "      <td>new super mario bros.</td>\n",
       "      <td>ds</td>\n",
       "      <td>2006</td>\n",
       "      <td>new super mario bros.</td>\n",
       "      <td>11.28</td>\n",
       "      <td>9.14</td>\n",
       "      <td>6.50</td>\n",
       "      <td>2.88</td>\n",
       "      <td>89</td>\n",
       "      <td>8.5</td>\n",
       "      <td>E</td>\n",
       "      <td>высокая оценка</td>\n",
       "      <td>высокая оценка</td>\n",
       "    </tr>\n",
       "    <tr>\n",
       "      <th>7</th>\n",
       "      <td>wii play</td>\n",
       "      <td>wii</td>\n",
       "      <td>2006</td>\n",
       "      <td>wii play</td>\n",
       "      <td>13.96</td>\n",
       "      <td>9.18</td>\n",
       "      <td>2.93</td>\n",
       "      <td>2.84</td>\n",
       "      <td>58</td>\n",
       "      <td>6.6</td>\n",
       "      <td>E</td>\n",
       "      <td>средняя оценка</td>\n",
       "      <td>средняя оценка</td>\n",
       "    </tr>\n",
       "  </tbody>\n",
       "</table>\n",
       "</div>"
      ],
      "text/plain": [
       "                    name platform  year_of_release                  genre  \\\n",
       "0             wii sports      wii             2006             wii sports   \n",
       "2         mario kart wii      wii             2008         mario kart wii   \n",
       "3      wii sports resort      wii             2009      wii sports resort   \n",
       "6  new super mario bros.       ds             2006  new super mario bros.   \n",
       "7               wii play      wii             2006               wii play   \n",
       "\n",
       "   na_sales  eu_sales  jp_sales  other_sales  critic_score  user_score rating  \\\n",
       "0     41.36     28.96      3.77         8.45            76         8.0      E   \n",
       "2     15.68     12.76      3.79         3.29            82         8.3      E   \n",
       "3     15.61     10.93      3.28         2.95            80         8.0      E   \n",
       "6     11.28      9.14      6.50         2.88            89         8.5      E   \n",
       "7     13.96      9.18      2.93         2.84            58         6.6      E   \n",
       "\n",
       "  user_score_group critic_score_group  \n",
       "0   высокая оценка     средняя оценка  \n",
       "2   высокая оценка     высокая оценка  \n",
       "3   высокая оценка     высокая оценка  \n",
       "6   высокая оценка     высокая оценка  \n",
       "7   средняя оценка     средняя оценка  "
      ]
     },
     "execution_count": 42,
     "metadata": {},
     "output_type": "execute_result"
    }
   ],
   "source": [
    "df_actual.head()"
   ]
  },
  {
   "cell_type": "markdown",
   "id": "olkTlTlAUDR9",
   "metadata": {
    "id": "olkTlTlAUDR9"
   },
   "source": [
    "- После категоризации данных проверьте результат: сгруппируйте данные по выделенным категориям и посчитайте количество игр в каждой категории."
   ]
  },
  {
   "cell_type": "code",
   "execution_count": 43,
   "id": "HW0Nsp-4UMSL",
   "metadata": {
    "id": "HW0Nsp-4UMSL"
   },
   "outputs": [
    {
     "data": {
      "text/plain": [
       "user_score_group\n",
       "без оценки        6299\n",
       "низкая оценка       46\n",
       "средняя оценка    2351\n",
       "высокая оценка    4085\n",
       "Name: user_score_group, dtype: int64"
      ]
     },
     "execution_count": 43,
     "metadata": {},
     "output_type": "execute_result"
    }
   ],
   "source": [
    "# Группируем данные по новым категориям и вычисляем кол-во игр в кажой категории\n",
    "df_actual.groupby('user_score_group')['user_score_group'].count()"
   ]
  },
  {
   "cell_type": "code",
   "execution_count": 44,
   "id": "x2ne0HIpUMMD",
   "metadata": {
    "id": "x2ne0HIpUMMD"
   },
   "outputs": [
    {
     "data": {
      "text/plain": [
       "critic_score_group\n",
       "без оценки        5612\n",
       "низкая оценка       55\n",
       "средняя оценка    5422\n",
       "высокая оценка    1692\n",
       "Name: critic_score_group, dtype: int64"
      ]
     },
     "execution_count": 44,
     "metadata": {},
     "output_type": "execute_result"
    }
   ],
   "source": [
    "df_actual.groupby('critic_score_group')['critic_score_group'].count()"
   ]
  },
  {
   "cell_type": "markdown",
   "id": "6a98444c",
   "metadata": {
    "id": "6a98444c"
   },
   "source": [
    "- Выделите топ-7 платформ по количеству игр, выпущенных за весь актуальный период."
   ]
  },
  {
   "cell_type": "code",
   "execution_count": 45,
   "id": "003caa2c",
   "metadata": {
    "id": "003caa2c"
   },
   "outputs": [
    {
     "data": {
      "text/plain": [
       "platform\n",
       "ps2     2127\n",
       "ds      2120\n",
       "wii     1275\n",
       "psp     1180\n",
       "x360    1121\n",
       "ps3     1087\n",
       "gba      811\n",
       "Name: platform, dtype: int64"
      ]
     },
     "execution_count": 45,
     "metadata": {},
     "output_type": "execute_result"
    }
   ],
   "source": [
    "# Выводим топ-7 платформ \n",
    "df_actual.groupby('platform')['platform'].count().sort_values(ascending=False).head(7)"
   ]
  },
  {
   "cell_type": "markdown",
   "id": "c0158881",
   "metadata": {
    "id": "c0158881"
   },
   "source": [
    "---\n",
    "\n",
    "## Итоговый вывод\n",
    "\n"
   ]
  },
  {
   "cell_type": "markdown",
   "id": "4d01db9a",
   "metadata": {},
   "source": [
    "- Сделана полная предобратка данных (преобразование стиля, изменеие типов данных, редатирование пропусков, удаление дубликатов)\n",
    "- Проведена нобходимая для задачи фильтрация и категоризация данных"
   ]
  },
  {
   "cell_type": "code",
   "execution_count": 46,
   "id": "185994e4",
   "metadata": {},
   "outputs": [
    {
     "name": "stdout",
     "output_type": "stream",
     "text": [
      "<class 'pandas.core.frame.DataFrame'>\n",
      "Int64Index: 12781 entries, 0 to 16954\n",
      "Data columns (total 13 columns):\n",
      " #   Column              Non-Null Count  Dtype   \n",
      "---  ------              --------------  -----   \n",
      " 0   name                12781 non-null  object  \n",
      " 1   platform            12781 non-null  object  \n",
      " 2   year_of_release     12781 non-null  int64   \n",
      " 3   genre               12781 non-null  object  \n",
      " 4   na_sales            12781 non-null  float64 \n",
      " 5   eu_sales            12781 non-null  float64 \n",
      " 6   jp_sales            12781 non-null  float64 \n",
      " 7   other_sales         12781 non-null  float64 \n",
      " 8   critic_score        12781 non-null  int64   \n",
      " 9   user_score          12781 non-null  float64 \n",
      " 10  rating              12781 non-null  object  \n",
      " 11  user_score_group    12781 non-null  category\n",
      " 12  critic_score_group  12781 non-null  category\n",
      "dtypes: category(2), float64(5), int64(2), object(4)\n",
      "memory usage: 1.2+ MB\n"
     ]
    }
   ],
   "source": [
    "# Выгрузим информацию о финальном варианте датафрейма в нужном срезе и с новыми категориями\n",
    "df_actual.info()"
   ]
  },
  {
   "cell_type": "markdown",
   "id": "4f92a89d",
   "metadata": {},
   "source": [
    "Обновленное описание данных:\n",
    "\n",
    "- `name` — название игры.\n",
    "- `platform` — название платформы.\n",
    "- `year_of_release` — год выпуска игры.\n",
    "- `genre` — жанр игры.\n",
    "- `na_sales` — продажи в Северной Америке (в миллионах проданных копий).\n",
    "- `eu_sales` — продажи в Европе (в миллионах проданных копий).\n",
    "- `jp_sales` — продажи в Японии (в миллионах проданных копий).\n",
    "- `other_sales` — продажи в других странах (в миллионах проданных копий).\n",
    "- `critic_score` — оценка критиков (от 0 до 100).\n",
    "- `user_score` — оценка пользователей (от 0 до 10).\n",
    "- `rating` — рейтинг организации ESRB (англ. Entertainment Software Rating Board). Эта ассоциация определяет рейтинг компьютерных игр и присваивает им подходящую возрастную категорию.\n",
    "- `user_score_group` - категория в зависимости от оценки пользователя (без оценки, высркая,средняя,низкая).\n",
    "- `critic_score_group` - - категория в зависимости от оценки критиков (без оценки, высркая,средняя,низкая)."
   ]
  },
  {
   "cell_type": "markdown",
   "id": "3581d525",
   "metadata": {},
   "source": [
    "Выводы:\n",
    "\n",
    "- В топе платформ по релизу игр наблюдаем двух явных лидеров: `ps2` и `ds` опережающих следующую группу платформ приблизительно на 900 релизов\n",
    "- Преобладаемая категория в срезах оценок критиков и пользователей - \"без оценки\". Что сильно ослажняет анализ ввиду простого отсутсвия данных. Однако наблюаем одинковую тенденцию - в обоих срезах самая значительно непопулярная категория (55 и 46 против ближайших показателей 1692 и 2351 соотвестввенно) - \"низкая оценка\". Так же наблюдаем, что пользоваетели более лояльне чем критики, ведь второй по поулярности результат у первых - \"высокая оценка\" в отличии от \"средняя оценка\" вторых."
   ]
  }
 ],
 "metadata": {
  "ExecuteTimeLog": [
   {
    "duration": 405,
    "start_time": "2025-03-03T18:20:43.631Z"
   },
   {
    "duration": 127,
    "start_time": "2025-03-03T18:25:18.102Z"
   },
   {
    "duration": 17,
    "start_time": "2025-03-03T18:25:57.370Z"
   },
   {
    "duration": 32,
    "start_time": "2025-03-03T18:28:54.406Z"
   },
   {
    "duration": 23,
    "start_time": "2025-03-03T18:29:14.209Z"
   },
   {
    "duration": 15,
    "start_time": "2025-03-03T18:29:24.856Z"
   },
   {
    "duration": 21,
    "start_time": "2025-03-03T18:32:42.065Z"
   },
   {
    "duration": 12,
    "start_time": "2025-03-03T18:32:55.021Z"
   },
   {
    "duration": 15,
    "start_time": "2025-03-03T18:33:20.701Z"
   },
   {
    "duration": 70,
    "start_time": "2025-03-03T18:35:36.679Z"
   },
   {
    "duration": 4,
    "start_time": "2025-03-03T18:36:05.733Z"
   },
   {
    "duration": 79,
    "start_time": "2025-03-03T18:36:19.583Z"
   },
   {
    "duration": 6,
    "start_time": "2025-03-03T18:39:17.206Z"
   },
   {
    "duration": 4,
    "start_time": "2025-03-03T18:42:42.481Z"
   },
   {
    "duration": 4,
    "start_time": "2025-03-03T19:45:46.138Z"
   },
   {
    "duration": 5,
    "start_time": "2025-03-03T19:48:17.864Z"
   },
   {
    "duration": 4,
    "start_time": "2025-03-03T19:48:18.773Z"
   },
   {
    "duration": 5,
    "start_time": "2025-03-03T19:48:41.383Z"
   },
   {
    "duration": 4,
    "start_time": "2025-03-03T19:48:45.058Z"
   },
   {
    "duration": 4,
    "start_time": "2025-03-03T19:48:48.699Z"
   },
   {
    "duration": 45,
    "start_time": "2025-03-07T11:15:20.659Z"
   },
   {
    "duration": 6,
    "start_time": "2025-03-07T11:16:46.031Z"
   },
   {
    "duration": 6,
    "start_time": "2025-03-07T11:17:25.602Z"
   },
   {
    "duration": 5,
    "start_time": "2025-03-07T11:18:46.584Z"
   },
   {
    "duration": 6,
    "start_time": "2025-03-07T11:19:46.735Z"
   },
   {
    "duration": 6,
    "start_time": "2025-03-07T11:19:52.670Z"
   },
   {
    "duration": 6,
    "start_time": "2025-03-07T11:21:24.535Z"
   },
   {
    "duration": 6,
    "start_time": "2025-03-07T11:21:52.210Z"
   },
   {
    "duration": 7,
    "start_time": "2025-03-07T11:22:32.936Z"
   },
   {
    "duration": 377,
    "start_time": "2025-03-07T11:22:42.693Z"
   },
   {
    "duration": 3,
    "start_time": "2025-03-07T11:22:45.617Z"
   },
   {
    "duration": 133,
    "start_time": "2025-03-07T11:22:46.553Z"
   },
   {
    "duration": 2,
    "start_time": "2025-03-07T11:23:10.171Z"
   },
   {
    "duration": 123,
    "start_time": "2025-03-07T11:23:36.865Z"
   },
   {
    "duration": 20,
    "start_time": "2025-03-07T11:23:41.472Z"
   },
   {
    "duration": 13,
    "start_time": "2025-03-07T11:23:44.369Z"
   },
   {
    "duration": 15,
    "start_time": "2025-03-07T11:23:46.916Z"
   },
   {
    "duration": 4,
    "start_time": "2025-03-07T11:23:52.443Z"
   },
   {
    "duration": 5,
    "start_time": "2025-03-07T11:23:57.255Z"
   },
   {
    "duration": 4,
    "start_time": "2025-03-07T11:24:09.123Z"
   },
   {
    "duration": 4,
    "start_time": "2025-03-07T11:24:11.317Z"
   },
   {
    "duration": 333,
    "start_time": "2025-03-07T11:24:16.059Z"
   },
   {
    "duration": 12,
    "start_time": "2025-03-07T11:30:39.473Z"
   },
   {
    "duration": 10,
    "start_time": "2025-03-07T11:30:44.063Z"
   },
   {
    "duration": 46,
    "start_time": "2025-03-07T13:51:08.762Z"
   },
   {
    "duration": 387,
    "start_time": "2025-03-07T13:51:21.828Z"
   },
   {
    "duration": 123,
    "start_time": "2025-03-07T13:51:22.828Z"
   },
   {
    "duration": 20,
    "start_time": "2025-03-07T13:51:23.610Z"
   },
   {
    "duration": 16,
    "start_time": "2025-03-07T13:51:23.920Z"
   },
   {
    "duration": 4,
    "start_time": "2025-03-07T13:51:26.761Z"
   },
   {
    "duration": 9,
    "start_time": "2025-03-07T13:51:26.767Z"
   },
   {
    "duration": 6,
    "start_time": "2025-03-07T13:51:27.276Z"
   },
   {
    "duration": 34,
    "start_time": "2025-03-07T13:51:29.906Z"
   },
   {
    "duration": 309,
    "start_time": "2025-03-07T13:55:36.626Z"
   },
   {
    "duration": 4,
    "start_time": "2025-03-07T13:58:01.935Z"
   },
   {
    "duration": 12,
    "start_time": "2025-03-07T13:59:42.859Z"
   },
   {
    "duration": 7,
    "start_time": "2025-03-07T14:02:53.579Z"
   },
   {
    "duration": 12,
    "start_time": "2025-03-07T14:04:22.274Z"
   },
   {
    "duration": 4,
    "start_time": "2025-03-07T14:04:50.405Z"
   },
   {
    "duration": 4,
    "start_time": "2025-03-07T14:04:55.531Z"
   },
   {
    "duration": 9,
    "start_time": "2025-03-07T14:05:10.394Z"
   },
   {
    "duration": 16,
    "start_time": "2025-03-07T14:09:52.591Z"
   },
   {
    "duration": 22,
    "start_time": "2025-03-07T14:10:04.458Z"
   },
   {
    "duration": 12,
    "start_time": "2025-03-07T14:20:34.912Z"
   },
   {
    "duration": 12,
    "start_time": "2025-03-07T14:21:22.540Z"
   },
   {
    "duration": 13,
    "start_time": "2025-03-07T14:23:55.942Z"
   },
   {
    "duration": 14,
    "start_time": "2025-03-07T14:24:36.903Z"
   },
   {
    "duration": 5,
    "start_time": "2025-03-07T14:28:47.995Z"
   },
   {
    "duration": 4,
    "start_time": "2025-03-07T14:28:50.822Z"
   },
   {
    "duration": 9,
    "start_time": "2025-03-07T14:28:59.224Z"
   },
   {
    "duration": 7,
    "start_time": "2025-03-07T14:47:07.032Z"
   },
   {
    "duration": 5,
    "start_time": "2025-03-07T14:47:27.132Z"
   },
   {
    "duration": 4,
    "start_time": "2025-03-07T14:48:12.424Z"
   },
   {
    "duration": 4,
    "start_time": "2025-03-07T14:48:16.648Z"
   },
   {
    "duration": 4,
    "start_time": "2025-03-07T14:48:25.604Z"
   },
   {
    "duration": 5,
    "start_time": "2025-03-07T14:52:42.315Z"
   },
   {
    "duration": 4,
    "start_time": "2025-03-07T14:52:54.187Z"
   },
   {
    "duration": 4,
    "start_time": "2025-03-07T14:53:42.453Z"
   },
   {
    "duration": 5,
    "start_time": "2025-03-07T14:54:00.255Z"
   },
   {
    "duration": 4,
    "start_time": "2025-03-07T14:54:29.869Z"
   },
   {
    "duration": 4,
    "start_time": "2025-03-07T14:54:33.107Z"
   },
   {
    "duration": 4,
    "start_time": "2025-03-07T14:55:03.635Z"
   },
   {
    "duration": 96,
    "start_time": "2025-03-07T14:56:07.384Z"
   },
   {
    "duration": 13,
    "start_time": "2025-03-07T14:56:09.133Z"
   },
   {
    "duration": 16,
    "start_time": "2025-03-07T14:56:20.429Z"
   },
   {
    "duration": 4,
    "start_time": "2025-03-07T14:57:08.861Z"
   },
   {
    "duration": 4,
    "start_time": "2025-03-07T14:57:44.886Z"
   },
   {
    "duration": 3,
    "start_time": "2025-03-07T14:57:59.213Z"
   },
   {
    "duration": 2,
    "start_time": "2025-03-07T14:58:50.664Z"
   },
   {
    "duration": 106,
    "start_time": "2025-03-07T14:58:53.829Z"
   },
   {
    "duration": 13,
    "start_time": "2025-03-07T14:59:00.163Z"
   },
   {
    "duration": 17,
    "start_time": "2025-03-07T14:59:04.734Z"
   },
   {
    "duration": 13,
    "start_time": "2025-03-07T14:59:15.248Z"
   },
   {
    "duration": 14,
    "start_time": "2025-03-07T14:59:16.653Z"
   },
   {
    "duration": 4,
    "start_time": "2025-03-07T14:59:26.731Z"
   },
   {
    "duration": 5,
    "start_time": "2025-03-07T14:59:30.332Z"
   },
   {
    "duration": 4,
    "start_time": "2025-03-07T14:59:35.193Z"
   },
   {
    "duration": 16,
    "start_time": "2025-03-07T15:02:03.485Z"
   },
   {
    "duration": 4,
    "start_time": "2025-03-07T15:08:11.113Z"
   },
   {
    "duration": 5,
    "start_time": "2025-03-07T15:08:23.349Z"
   },
   {
    "duration": 6,
    "start_time": "2025-03-07T15:09:26.454Z"
   },
   {
    "duration": 7,
    "start_time": "2025-03-07T15:11:18.212Z"
   },
   {
    "duration": 6,
    "start_time": "2025-03-07T15:19:04.731Z"
   },
   {
    "duration": 7,
    "start_time": "2025-03-07T15:19:29.447Z"
   },
   {
    "duration": 7,
    "start_time": "2025-03-07T15:19:31.834Z"
   },
   {
    "duration": 5,
    "start_time": "2025-03-07T15:22:34.583Z"
   },
   {
    "duration": 44,
    "start_time": "2025-03-07T15:22:37.830Z"
   },
   {
    "duration": 15,
    "start_time": "2025-03-07T15:23:25.695Z"
   },
   {
    "duration": 6,
    "start_time": "2025-03-07T15:25:21.787Z"
   },
   {
    "duration": 12,
    "start_time": "2025-03-07T15:25:24.420Z"
   },
   {
    "duration": 12,
    "start_time": "2025-03-07T15:29:03.693Z"
   },
   {
    "duration": 4,
    "start_time": "2025-03-07T15:35:49.249Z"
   },
   {
    "duration": 10,
    "start_time": "2025-03-07T15:35:49.984Z"
   },
   {
    "duration": 13,
    "start_time": "2025-03-07T15:35:51.233Z"
   },
   {
    "duration": 9,
    "start_time": "2025-03-07T15:41:53.313Z"
   },
   {
    "duration": 8,
    "start_time": "2025-03-07T15:42:29.712Z"
   },
   {
    "duration": 2,
    "start_time": "2025-03-07T15:43:15.077Z"
   },
   {
    "duration": 133,
    "start_time": "2025-03-07T15:43:15.494Z"
   },
   {
    "duration": 13,
    "start_time": "2025-03-07T15:43:15.840Z"
   },
   {
    "duration": 14,
    "start_time": "2025-03-07T15:43:16.035Z"
   },
   {
    "duration": 4,
    "start_time": "2025-03-07T15:43:17.115Z"
   },
   {
    "duration": 4,
    "start_time": "2025-03-07T15:43:17.337Z"
   },
   {
    "duration": 4,
    "start_time": "2025-03-07T15:43:17.553Z"
   },
   {
    "duration": 17,
    "start_time": "2025-03-07T15:43:18.245Z"
   },
   {
    "duration": 4,
    "start_time": "2025-03-07T15:43:18.454Z"
   },
   {
    "duration": 14,
    "start_time": "2025-03-07T15:43:18.670Z"
   },
   {
    "duration": 9,
    "start_time": "2025-03-07T15:43:19.331Z"
   },
   {
    "duration": 11,
    "start_time": "2025-03-07T15:45:08.139Z"
   },
   {
    "duration": 4,
    "start_time": "2025-03-07T15:52:00.345Z"
   },
   {
    "duration": 12,
    "start_time": "2025-03-07T15:52:00.961Z"
   },
   {
    "duration": 13,
    "start_time": "2025-03-07T15:52:01.664Z"
   },
   {
    "duration": 9,
    "start_time": "2025-03-07T15:52:04.325Z"
   },
   {
    "duration": 11,
    "start_time": "2025-03-07T15:52:05.947Z"
   },
   {
    "duration": 2,
    "start_time": "2025-03-07T15:52:52.818Z"
   },
   {
    "duration": 92,
    "start_time": "2025-03-07T15:52:53.058Z"
   },
   {
    "duration": 13,
    "start_time": "2025-03-07T15:52:53.534Z"
   },
   {
    "duration": 15,
    "start_time": "2025-03-07T15:52:53.752Z"
   },
   {
    "duration": 4,
    "start_time": "2025-03-07T15:52:55.032Z"
   },
   {
    "duration": 5,
    "start_time": "2025-03-07T15:52:55.271Z"
   },
   {
    "duration": 3,
    "start_time": "2025-03-07T15:52:55.563Z"
   },
   {
    "duration": 17,
    "start_time": "2025-03-07T15:52:56.299Z"
   },
   {
    "duration": 5,
    "start_time": "2025-03-07T15:52:56.521Z"
   },
   {
    "duration": 13,
    "start_time": "2025-03-07T15:52:56.739Z"
   },
   {
    "duration": 9,
    "start_time": "2025-03-07T15:52:57.491Z"
   },
   {
    "duration": 9,
    "start_time": "2025-03-07T15:52:57.721Z"
   },
   {
    "duration": 16,
    "start_time": "2025-03-07T15:59:08.132Z"
   },
   {
    "duration": 14,
    "start_time": "2025-03-07T15:59:25.631Z"
   },
   {
    "duration": 2704,
    "start_time": "2025-03-07T16:00:28.660Z"
   },
   {
    "duration": 1682,
    "start_time": "2025-03-07T16:00:35.553Z"
   },
   {
    "duration": 5,
    "start_time": "2025-03-07T16:00:52.254Z"
   },
   {
    "duration": 5,
    "start_time": "2025-03-07T16:01:06.977Z"
   },
   {
    "duration": 14,
    "start_time": "2025-03-07T16:01:25.949Z"
   },
   {
    "duration": 3,
    "start_time": "2025-03-07T16:01:44.581Z"
   },
   {
    "duration": 3,
    "start_time": "2025-03-07T16:01:53.054Z"
   },
   {
    "duration": 13,
    "start_time": "2025-03-07T16:01:53.563Z"
   },
   {
    "duration": 9,
    "start_time": "2025-03-07T16:01:57.926Z"
   },
   {
    "duration": 10,
    "start_time": "2025-03-07T16:01:58.137Z"
   },
   {
    "duration": 11,
    "start_time": "2025-03-07T16:01:58.337Z"
   },
   {
    "duration": 13,
    "start_time": "2025-03-07T16:02:45.344Z"
   },
   {
    "duration": 13,
    "start_time": "2025-03-07T16:04:17.984Z"
   },
   {
    "duration": 12,
    "start_time": "2025-03-07T16:04:38.466Z"
   },
   {
    "duration": 6,
    "start_time": "2025-03-07T16:04:54.700Z"
   },
   {
    "duration": 9,
    "start_time": "2025-03-07T16:05:28.237Z"
   },
   {
    "duration": 10,
    "start_time": "2025-03-07T16:05:49.884Z"
   },
   {
    "duration": 12,
    "start_time": "2025-03-07T16:07:03.093Z"
   },
   {
    "duration": 10,
    "start_time": "2025-03-07T16:08:35.822Z"
   },
   {
    "duration": 10,
    "start_time": "2025-03-07T16:08:42.001Z"
   },
   {
    "duration": 9,
    "start_time": "2025-03-07T16:09:00.364Z"
   },
   {
    "duration": 15,
    "start_time": "2025-03-07T16:09:19.163Z"
   },
   {
    "duration": 4,
    "start_time": "2025-03-07T16:10:49.664Z"
   },
   {
    "duration": 14,
    "start_time": "2025-03-07T16:10:54.198Z"
   },
   {
    "duration": 15,
    "start_time": "2025-03-07T16:11:10.330Z"
   },
   {
    "duration": 5,
    "start_time": "2025-03-07T16:12:32.715Z"
   },
   {
    "duration": 13,
    "start_time": "2025-03-07T16:13:25.341Z"
   },
   {
    "duration": 11,
    "start_time": "2025-03-07T16:14:16.318Z"
   },
   {
    "duration": 9,
    "start_time": "2025-03-07T16:14:36.644Z"
   },
   {
    "duration": 10,
    "start_time": "2025-03-07T16:14:37.179Z"
   },
   {
    "duration": 13,
    "start_time": "2025-03-07T16:14:43.064Z"
   },
   {
    "duration": 9,
    "start_time": "2025-03-07T16:16:39.864Z"
   },
   {
    "duration": 5,
    "start_time": "2025-03-07T16:24:35.943Z"
   },
   {
    "duration": 6,
    "start_time": "2025-03-07T16:25:45.948Z"
   },
   {
    "duration": 7,
    "start_time": "2025-03-07T16:26:23.130Z"
   },
   {
    "duration": 7,
    "start_time": "2025-03-07T16:26:33.373Z"
   },
   {
    "duration": 7,
    "start_time": "2025-03-07T16:26:44.924Z"
   },
   {
    "duration": 7,
    "start_time": "2025-03-07T16:27:07.514Z"
   },
   {
    "duration": 12,
    "start_time": "2025-03-07T16:27:24.749Z"
   },
   {
    "duration": 12,
    "start_time": "2025-03-07T16:27:32.151Z"
   },
   {
    "duration": 9,
    "start_time": "2025-03-07T16:27:41.765Z"
   },
   {
    "duration": 8,
    "start_time": "2025-03-07T16:29:00.815Z"
   },
   {
    "duration": 7,
    "start_time": "2025-03-07T16:29:51.567Z"
   },
   {
    "duration": 8,
    "start_time": "2025-03-07T16:32:12.238Z"
   },
   {
    "duration": 8,
    "start_time": "2025-03-07T16:32:32.494Z"
   },
   {
    "duration": 7,
    "start_time": "2025-03-07T16:34:28.611Z"
   },
   {
    "duration": 1358,
    "start_time": "2025-03-07T16:34:43.485Z"
   },
   {
    "duration": 4,
    "start_time": "2025-03-07T16:35:02.780Z"
   },
   {
    "duration": 6,
    "start_time": "2025-03-07T16:35:17.835Z"
   },
   {
    "duration": 7,
    "start_time": "2025-03-07T16:35:48.294Z"
   },
   {
    "duration": 4,
    "start_time": "2025-03-07T16:36:10.254Z"
   },
   {
    "duration": 8,
    "start_time": "2025-03-07T16:36:12.197Z"
   },
   {
    "duration": 4,
    "start_time": "2025-03-07T16:36:35.183Z"
   },
   {
    "duration": 7,
    "start_time": "2025-03-07T16:36:36.226Z"
   },
   {
    "duration": 4,
    "start_time": "2025-03-07T16:36:42.033Z"
   },
   {
    "duration": 7,
    "start_time": "2025-03-07T16:36:42.618Z"
   },
   {
    "duration": 451,
    "start_time": "2025-03-07T19:09:30.417Z"
   },
   {
    "duration": 157,
    "start_time": "2025-03-07T19:09:30.870Z"
   },
   {
    "duration": 23,
    "start_time": "2025-03-07T19:09:31.029Z"
   },
   {
    "duration": 18,
    "start_time": "2025-03-07T19:09:31.055Z"
   },
   {
    "duration": 22,
    "start_time": "2025-03-07T19:09:31.075Z"
   },
   {
    "duration": 14,
    "start_time": "2025-03-07T19:09:31.099Z"
   },
   {
    "duration": 15,
    "start_time": "2025-03-07T19:09:31.115Z"
   },
   {
    "duration": 21,
    "start_time": "2025-03-07T19:09:31.132Z"
   },
   {
    "duration": 29,
    "start_time": "2025-03-07T19:09:31.155Z"
   },
   {
    "duration": 15,
    "start_time": "2025-03-07T19:09:31.187Z"
   },
   {
    "duration": 20,
    "start_time": "2025-03-07T19:09:31.205Z"
   },
   {
    "duration": 27,
    "start_time": "2025-03-07T19:09:31.228Z"
   },
   {
    "duration": 15,
    "start_time": "2025-03-07T19:09:31.257Z"
   },
   {
    "duration": 28,
    "start_time": "2025-03-07T19:09:31.274Z"
   },
   {
    "duration": 6,
    "start_time": "2025-03-07T19:10:57.824Z"
   },
   {
    "duration": 15,
    "start_time": "2025-03-07T19:11:02.389Z"
   },
   {
    "duration": 6,
    "start_time": "2025-03-07T19:13:01.512Z"
   },
   {
    "duration": 10,
    "start_time": "2025-03-07T19:13:02.123Z"
   },
   {
    "duration": 6,
    "start_time": "2025-03-07T19:16:11.324Z"
   },
   {
    "duration": 11,
    "start_time": "2025-03-07T19:16:27.811Z"
   },
   {
    "duration": 5,
    "start_time": "2025-03-07T19:21:14.670Z"
   },
   {
    "duration": 16,
    "start_time": "2025-03-07T19:21:15.422Z"
   },
   {
    "duration": 86,
    "start_time": "2025-03-07T19:24:29.516Z"
   },
   {
    "duration": 15,
    "start_time": "2025-03-07T19:26:38.437Z"
   },
   {
    "duration": 14,
    "start_time": "2025-03-07T19:26:57.688Z"
   },
   {
    "duration": 3,
    "start_time": "2025-03-07T19:28:21.351Z"
   },
   {
    "duration": 4,
    "start_time": "2025-03-07T19:28:27.230Z"
   },
   {
    "duration": 6,
    "start_time": "2025-03-07T19:29:25.085Z"
   },
   {
    "duration": 14,
    "start_time": "2025-03-07T19:29:26.508Z"
   },
   {
    "duration": 5,
    "start_time": "2025-03-07T19:29:53.571Z"
   },
   {
    "duration": 14,
    "start_time": "2025-03-07T19:29:55.941Z"
   },
   {
    "duration": 372,
    "start_time": "2025-03-10T08:51:11.845Z"
   },
   {
    "duration": 127,
    "start_time": "2025-03-10T08:51:12.218Z"
   },
   {
    "duration": 19,
    "start_time": "2025-03-10T08:51:12.347Z"
   },
   {
    "duration": 15,
    "start_time": "2025-03-10T08:51:12.368Z"
   },
   {
    "duration": 14,
    "start_time": "2025-03-10T08:51:12.384Z"
   },
   {
    "duration": 10,
    "start_time": "2025-03-10T08:51:12.399Z"
   },
   {
    "duration": 9,
    "start_time": "2025-03-10T08:51:12.410Z"
   },
   {
    "duration": 20,
    "start_time": "2025-03-10T08:51:12.421Z"
   },
   {
    "duration": 14,
    "start_time": "2025-03-10T08:51:12.442Z"
   },
   {
    "duration": 24,
    "start_time": "2025-03-10T08:51:12.458Z"
   },
   {
    "duration": 22,
    "start_time": "2025-03-10T08:51:12.484Z"
   },
   {
    "duration": 8,
    "start_time": "2025-03-10T08:51:12.508Z"
   },
   {
    "duration": 66,
    "start_time": "2025-03-10T08:51:12.517Z"
   },
   {
    "duration": 9,
    "start_time": "2025-03-10T08:52:20.842Z"
   },
   {
    "duration": 5,
    "start_time": "2025-03-10T08:52:27.557Z"
   },
   {
    "duration": 9,
    "start_time": "2025-03-10T08:52:28.428Z"
   },
   {
    "duration": 8,
    "start_time": "2025-03-10T09:51:17.575Z"
   },
   {
    "duration": 371,
    "start_time": "2025-03-10T09:52:12.221Z"
   },
   {
    "duration": 26,
    "start_time": "2025-03-10T09:52:37.370Z"
   },
   {
    "duration": 24,
    "start_time": "2025-03-10T09:52:49.240Z"
   },
   {
    "duration": 135,
    "start_time": "2025-03-10T09:53:12.656Z"
   },
   {
    "duration": 125,
    "start_time": "2025-03-10T09:53:35.720Z"
   },
   {
    "duration": 9,
    "start_time": "2025-03-10T09:54:13.980Z"
   },
   {
    "duration": 141,
    "start_time": "2025-03-10T09:55:33.819Z"
   },
   {
    "duration": 142,
    "start_time": "2025-03-10T09:55:44.563Z"
   },
   {
    "duration": 138,
    "start_time": "2025-03-10T09:55:47.501Z"
   },
   {
    "duration": 128,
    "start_time": "2025-03-10T09:55:48.067Z"
   },
   {
    "duration": 9,
    "start_time": "2025-03-10T09:57:13.534Z"
   },
   {
    "duration": 143,
    "start_time": "2025-03-10T10:00:38.393Z"
   },
   {
    "duration": 1260,
    "start_time": "2025-03-10T10:01:44.285Z"
   },
   {
    "duration": 889,
    "start_time": "2025-03-10T10:02:07.626Z"
   },
   {
    "duration": 5,
    "start_time": "2025-03-10T10:02:52.954Z"
   },
   {
    "duration": 1257,
    "start_time": "2025-03-10T10:03:17.954Z"
   },
   {
    "duration": 6,
    "start_time": "2025-03-10T10:04:31.725Z"
   },
   {
    "duration": 5,
    "start_time": "2025-03-10T10:04:34.639Z"
   },
   {
    "duration": 468,
    "start_time": "2025-03-10T10:04:59.302Z"
   },
   {
    "duration": 153,
    "start_time": "2025-03-10T10:04:59.772Z"
   },
   {
    "duration": 20,
    "start_time": "2025-03-10T10:04:59.927Z"
   },
   {
    "duration": 37,
    "start_time": "2025-03-10T10:04:59.948Z"
   },
   {
    "duration": 3,
    "start_time": "2025-03-10T10:04:59.988Z"
   },
   {
    "duration": 6,
    "start_time": "2025-03-10T10:04:59.993Z"
   },
   {
    "duration": 10,
    "start_time": "2025-03-10T10:05:00.000Z"
   },
   {
    "duration": 67,
    "start_time": "2025-03-10T10:05:00.013Z"
   },
   {
    "duration": 39,
    "start_time": "2025-03-10T10:05:00.082Z"
   },
   {
    "duration": 34,
    "start_time": "2025-03-10T10:05:00.122Z"
   },
   {
    "duration": 45,
    "start_time": "2025-03-10T10:05:00.157Z"
   },
   {
    "duration": 21,
    "start_time": "2025-03-10T10:05:00.203Z"
   },
   {
    "duration": 38,
    "start_time": "2025-03-10T10:05:00.226Z"
   },
   {
    "duration": 134,
    "start_time": "2025-03-10T10:05:00.266Z"
   },
   {
    "duration": 145,
    "start_time": "2025-03-10T10:05:00.406Z"
   },
   {
    "duration": 5,
    "start_time": "2025-03-10T10:05:00.552Z"
   },
   {
    "duration": 139,
    "start_time": "2025-03-10T10:05:23.321Z"
   },
   {
    "duration": 93,
    "start_time": "2025-03-10T10:05:37.894Z"
   },
   {
    "duration": 133,
    "start_time": "2025-03-10T10:05:44.179Z"
   },
   {
    "duration": 5,
    "start_time": "2025-03-10T10:06:00.785Z"
   },
   {
    "duration": 9,
    "start_time": "2025-03-10T10:06:17.561Z"
   },
   {
    "duration": 129,
    "start_time": "2025-03-10T10:06:37.227Z"
   },
   {
    "duration": 138,
    "start_time": "2025-03-10T10:06:38.095Z"
   },
   {
    "duration": 9,
    "start_time": "2025-03-10T10:06:42.336Z"
   },
   {
    "duration": 146,
    "start_time": "2025-03-10T10:07:26.278Z"
   },
   {
    "duration": 5,
    "start_time": "2025-03-10T10:07:27.076Z"
   },
   {
    "duration": 10,
    "start_time": "2025-03-10T10:07:27.258Z"
   },
   {
    "duration": 6,
    "start_time": "2025-03-10T10:08:04.422Z"
   },
   {
    "duration": 10,
    "start_time": "2025-03-10T10:08:09.486Z"
   },
   {
    "duration": 9,
    "start_time": "2025-03-10T10:08:36.705Z"
   },
   {
    "duration": 9,
    "start_time": "2025-03-10T10:08:39.063Z"
   },
   {
    "duration": 429,
    "start_time": "2025-03-10T10:10:14.720Z"
   },
   {
    "duration": 136,
    "start_time": "2025-03-10T10:10:15.151Z"
   },
   {
    "duration": 32,
    "start_time": "2025-03-10T10:10:15.289Z"
   },
   {
    "duration": 24,
    "start_time": "2025-03-10T10:10:15.325Z"
   },
   {
    "duration": 8,
    "start_time": "2025-03-10T10:10:15.351Z"
   },
   {
    "duration": 20,
    "start_time": "2025-03-10T10:10:15.360Z"
   },
   {
    "duration": 6,
    "start_time": "2025-03-10T10:10:15.382Z"
   },
   {
    "duration": 34,
    "start_time": "2025-03-10T10:10:15.390Z"
   },
   {
    "duration": 23,
    "start_time": "2025-03-10T10:10:15.426Z"
   },
   {
    "duration": 28,
    "start_time": "2025-03-10T10:10:15.450Z"
   },
   {
    "duration": 43,
    "start_time": "2025-03-10T10:10:15.479Z"
   },
   {
    "duration": 7,
    "start_time": "2025-03-10T10:10:15.525Z"
   },
   {
    "duration": 10,
    "start_time": "2025-03-10T10:10:15.533Z"
   },
   {
    "duration": 5,
    "start_time": "2025-03-10T10:10:15.546Z"
   },
   {
    "duration": 17,
    "start_time": "2025-03-10T10:10:15.553Z"
   },
   {
    "duration": 150,
    "start_time": "2025-03-10T10:11:15.481Z"
   },
   {
    "duration": 5,
    "start_time": "2025-03-10T10:11:20.181Z"
   },
   {
    "duration": 10,
    "start_time": "2025-03-10T10:11:21.853Z"
   },
   {
    "duration": 148,
    "start_time": "2025-03-10T10:12:06.111Z"
   },
   {
    "duration": 5,
    "start_time": "2025-03-10T10:12:08.649Z"
   },
   {
    "duration": 11,
    "start_time": "2025-03-10T10:12:09.467Z"
   },
   {
    "duration": 8,
    "start_time": "2025-03-10T10:12:30.654Z"
   },
   {
    "duration": 13,
    "start_time": "2025-03-10T10:12:54.819Z"
   },
   {
    "duration": 3,
    "start_time": "2025-03-10T10:46:59.009Z"
   },
   {
    "duration": 218,
    "start_time": "2025-03-10T10:46:59.631Z"
   },
   {
    "duration": 413,
    "start_time": "2025-03-10T10:47:03.787Z"
   },
   {
    "duration": 203,
    "start_time": "2025-03-10T10:47:04.202Z"
   },
   {
    "duration": 28,
    "start_time": "2025-03-10T10:47:04.407Z"
   },
   {
    "duration": 43,
    "start_time": "2025-03-10T10:47:04.436Z"
   },
   {
    "duration": 4,
    "start_time": "2025-03-10T10:47:04.481Z"
   },
   {
    "duration": 6,
    "start_time": "2025-03-10T10:47:04.486Z"
   },
   {
    "duration": 18,
    "start_time": "2025-03-10T10:47:04.493Z"
   },
   {
    "duration": 23,
    "start_time": "2025-03-10T10:47:04.513Z"
   },
   {
    "duration": 37,
    "start_time": "2025-03-10T10:47:04.538Z"
   },
   {
    "duration": 9,
    "start_time": "2025-03-10T10:47:04.576Z"
   },
   {
    "duration": 12,
    "start_time": "2025-03-10T10:47:04.586Z"
   },
   {
    "duration": 86,
    "start_time": "2025-03-10T10:47:04.599Z"
   },
   {
    "duration": 33,
    "start_time": "2025-03-10T10:47:04.687Z"
   },
   {
    "duration": 133,
    "start_time": "2025-03-10T10:47:04.723Z"
   },
   {
    "duration": 145,
    "start_time": "2025-03-10T10:47:04.858Z"
   },
   {
    "duration": 16,
    "start_time": "2025-03-10T10:47:05.005Z"
   },
   {
    "duration": 19,
    "start_time": "2025-03-10T10:47:05.023Z"
   },
   {
    "duration": 4,
    "start_time": "2025-03-10T11:35:49.099Z"
   },
   {
    "duration": 11,
    "start_time": "2025-03-10T11:35:49.746Z"
   },
   {
    "duration": 7,
    "start_time": "2025-03-10T11:54:47.395Z"
   },
   {
    "duration": 5,
    "start_time": "2025-03-10T11:58:45.422Z"
   },
   {
    "duration": 65,
    "start_time": "2025-03-10T11:59:10.498Z"
   },
   {
    "duration": 9,
    "start_time": "2025-03-10T11:59:43.308Z"
   },
   {
    "duration": 13,
    "start_time": "2025-03-10T11:59:55.942Z"
   },
   {
    "duration": 13,
    "start_time": "2025-03-10T12:10:13.493Z"
   },
   {
    "duration": 23,
    "start_time": "2025-03-10T12:38:50.841Z"
   },
   {
    "duration": 1229,
    "start_time": "2025-03-10T12:38:57.472Z"
   },
   {
    "duration": 0,
    "start_time": "2025-03-10T12:38:58.703Z"
   },
   {
    "duration": 10,
    "start_time": "2025-03-10T12:39:26.099Z"
   },
   {
    "duration": 8,
    "start_time": "2025-03-10T12:39:28.605Z"
   },
   {
    "duration": 653,
    "start_time": "2025-03-10T12:39:41.809Z"
   },
   {
    "duration": 12,
    "start_time": "2025-03-10T12:41:36.573Z"
   },
   {
    "duration": 8,
    "start_time": "2025-03-10T12:41:50.420Z"
   },
   {
    "duration": 10,
    "start_time": "2025-03-10T12:42:40.829Z"
   },
   {
    "duration": 7,
    "start_time": "2025-03-10T12:43:03.360Z"
   },
   {
    "duration": 1173,
    "start_time": "2025-03-10T12:43:26.770Z"
   },
   {
    "duration": 9,
    "start_time": "2025-03-10T12:43:52.087Z"
   },
   {
    "duration": 582,
    "start_time": "2025-03-10T12:44:27.138Z"
   },
   {
    "duration": 8,
    "start_time": "2025-03-10T12:44:57.921Z"
   },
   {
    "duration": 12,
    "start_time": "2025-03-10T12:45:42.805Z"
   },
   {
    "duration": 14,
    "start_time": "2025-03-10T12:45:47.520Z"
   },
   {
    "duration": 16,
    "start_time": "2025-03-10T12:46:59.788Z"
   },
   {
    "duration": 13,
    "start_time": "2025-03-10T12:47:05.874Z"
   },
   {
    "duration": 34,
    "start_time": "2025-03-10T13:03:26.133Z"
   },
   {
    "duration": 22,
    "start_time": "2025-03-10T13:03:27.367Z"
   },
   {
    "duration": 25,
    "start_time": "2025-03-10T13:03:40.984Z"
   },
   {
    "duration": 15,
    "start_time": "2025-03-10T13:03:41.936Z"
   },
   {
    "duration": 22,
    "start_time": "2025-03-10T13:03:45.431Z"
   },
   {
    "duration": 22,
    "start_time": "2025-03-10T13:03:48.416Z"
   },
   {
    "duration": 16,
    "start_time": "2025-03-10T13:03:49.117Z"
   },
   {
    "duration": 31,
    "start_time": "2025-03-10T13:03:51.397Z"
   },
   {
    "duration": 14,
    "start_time": "2025-03-10T13:03:54.147Z"
   },
   {
    "duration": 35,
    "start_time": "2025-03-10T13:04:03.634Z"
   },
   {
    "duration": 20,
    "start_time": "2025-03-10T13:04:05.326Z"
   },
   {
    "duration": 21,
    "start_time": "2025-03-10T13:04:14.464Z"
   },
   {
    "duration": 14,
    "start_time": "2025-03-10T13:04:28.012Z"
   },
   {
    "duration": 429,
    "start_time": "2025-03-10T13:04:54.399Z"
   },
   {
    "duration": 115,
    "start_time": "2025-03-10T13:04:54.831Z"
   },
   {
    "duration": 23,
    "start_time": "2025-03-10T13:04:54.948Z"
   },
   {
    "duration": 17,
    "start_time": "2025-03-10T13:04:54.973Z"
   },
   {
    "duration": 16,
    "start_time": "2025-03-10T13:04:54.994Z"
   },
   {
    "duration": 9,
    "start_time": "2025-03-10T13:04:55.012Z"
   },
   {
    "duration": 9,
    "start_time": "2025-03-10T13:04:55.023Z"
   },
   {
    "duration": 51,
    "start_time": "2025-03-10T13:04:55.033Z"
   },
   {
    "duration": 36,
    "start_time": "2025-03-10T13:04:55.085Z"
   },
   {
    "duration": 76,
    "start_time": "2025-03-10T13:04:55.123Z"
   },
   {
    "duration": 18,
    "start_time": "2025-03-10T13:04:55.201Z"
   },
   {
    "duration": 9,
    "start_time": "2025-03-10T13:04:55.221Z"
   },
   {
    "duration": 33,
    "start_time": "2025-03-10T13:04:55.232Z"
   },
   {
    "duration": 154,
    "start_time": "2025-03-10T13:04:55.269Z"
   },
   {
    "duration": 145,
    "start_time": "2025-03-10T13:04:55.425Z"
   },
   {
    "duration": 5,
    "start_time": "2025-03-10T13:04:55.572Z"
   },
   {
    "duration": 55,
    "start_time": "2025-03-10T13:04:55.579Z"
   },
   {
    "duration": 34,
    "start_time": "2025-03-10T13:04:55.636Z"
   },
   {
    "duration": 33,
    "start_time": "2025-03-10T13:04:55.671Z"
   },
   {
    "duration": 35,
    "start_time": "2025-03-10T13:08:52.523Z"
   },
   {
    "duration": 21,
    "start_time": "2025-03-10T13:08:53.798Z"
   },
   {
    "duration": 22,
    "start_time": "2025-03-10T13:09:00.313Z"
   },
   {
    "duration": 21,
    "start_time": "2025-03-10T13:09:01.578Z"
   },
   {
    "duration": 546,
    "start_time": "2025-03-10T13:09:16.541Z"
   },
   {
    "duration": 326,
    "start_time": "2025-03-10T13:09:17.089Z"
   },
   {
    "duration": 34,
    "start_time": "2025-03-10T13:09:17.417Z"
   },
   {
    "duration": 39,
    "start_time": "2025-03-10T13:09:17.453Z"
   },
   {
    "duration": 14,
    "start_time": "2025-03-10T13:09:17.495Z"
   },
   {
    "duration": 7,
    "start_time": "2025-03-10T13:09:17.511Z"
   },
   {
    "duration": 9,
    "start_time": "2025-03-10T13:09:17.521Z"
   },
   {
    "duration": 30,
    "start_time": "2025-03-10T13:09:17.532Z"
   },
   {
    "duration": 19,
    "start_time": "2025-03-10T13:09:17.563Z"
   },
   {
    "duration": 12,
    "start_time": "2025-03-10T13:09:17.607Z"
   },
   {
    "duration": 16,
    "start_time": "2025-03-10T13:09:17.620Z"
   },
   {
    "duration": 17,
    "start_time": "2025-03-10T13:09:17.637Z"
   },
   {
    "duration": 13,
    "start_time": "2025-03-10T13:09:17.656Z"
   },
   {
    "duration": 239,
    "start_time": "2025-03-10T13:09:17.673Z"
   },
   {
    "duration": 218,
    "start_time": "2025-03-10T13:09:17.915Z"
   },
   {
    "duration": 6,
    "start_time": "2025-03-10T13:09:18.135Z"
   },
   {
    "duration": 19,
    "start_time": "2025-03-10T13:09:18.143Z"
   },
   {
    "duration": 55,
    "start_time": "2025-03-10T13:09:18.166Z"
   },
   {
    "duration": 22,
    "start_time": "2025-03-10T13:09:18.223Z"
   },
   {
    "duration": 23,
    "start_time": "2025-03-10T13:09:34.350Z"
   },
   {
    "duration": 7,
    "start_time": "2025-03-10T13:16:42.487Z"
   },
   {
    "duration": 105,
    "start_time": "2025-03-10T13:17:06.411Z"
   },
   {
    "duration": 64,
    "start_time": "2025-03-10T13:17:12.957Z"
   },
   {
    "duration": 9,
    "start_time": "2025-03-10T13:17:20.912Z"
   },
   {
    "duration": 7,
    "start_time": "2025-03-10T13:17:32.646Z"
   },
   {
    "duration": 9,
    "start_time": "2025-03-10T13:17:51.179Z"
   },
   {
    "duration": 3,
    "start_time": "2025-03-10T13:18:10.182Z"
   },
   {
    "duration": 10,
    "start_time": "2025-03-10T13:19:24.886Z"
   },
   {
    "duration": 14,
    "start_time": "2025-03-10T13:19:45.040Z"
   },
   {
    "duration": 9,
    "start_time": "2025-03-10T13:21:04.257Z"
   },
   {
    "duration": 4,
    "start_time": "2025-03-10T13:21:13.211Z"
   },
   {
    "duration": 5,
    "start_time": "2025-03-10T13:21:26.463Z"
   },
   {
    "duration": 4,
    "start_time": "2025-03-10T13:21:35.960Z"
   },
   {
    "duration": 14,
    "start_time": "2025-03-10T13:29:34.194Z"
   },
   {
    "duration": 15,
    "start_time": "2025-03-10T13:29:37.956Z"
   },
   {
    "duration": 22,
    "start_time": "2025-03-10T13:29:59.947Z"
   },
   {
    "duration": 21,
    "start_time": "2025-03-10T13:30:35.740Z"
   },
   {
    "duration": 53,
    "start_time": "2025-03-13T09:10:18.480Z"
   },
   {
    "duration": 388,
    "start_time": "2025-03-13T09:10:31.636Z"
   },
   {
    "duration": 129,
    "start_time": "2025-03-13T09:10:32.026Z"
   },
   {
    "duration": 20,
    "start_time": "2025-03-13T09:10:32.157Z"
   },
   {
    "duration": 16,
    "start_time": "2025-03-13T09:10:32.179Z"
   },
   {
    "duration": 4,
    "start_time": "2025-03-13T09:10:32.198Z"
   },
   {
    "duration": 17,
    "start_time": "2025-03-13T09:10:32.204Z"
   },
   {
    "duration": 30,
    "start_time": "2025-03-13T09:10:32.222Z"
   },
   {
    "duration": 26,
    "start_time": "2025-03-13T09:10:32.254Z"
   },
   {
    "duration": 15,
    "start_time": "2025-03-13T09:10:32.282Z"
   },
   {
    "duration": 33,
    "start_time": "2025-03-13T09:10:32.299Z"
   },
   {
    "duration": 39,
    "start_time": "2025-03-13T09:10:32.334Z"
   },
   {
    "duration": 16,
    "start_time": "2025-03-13T09:10:32.375Z"
   },
   {
    "duration": 30,
    "start_time": "2025-03-13T09:10:32.393Z"
   },
   {
    "duration": 152,
    "start_time": "2025-03-13T09:10:32.427Z"
   },
   {
    "duration": 141,
    "start_time": "2025-03-13T09:10:32.581Z"
   },
   {
    "duration": 4,
    "start_time": "2025-03-13T09:10:32.724Z"
   },
   {
    "duration": 61,
    "start_time": "2025-03-13T09:10:32.729Z"
   },
   {
    "duration": 28,
    "start_time": "2025-03-13T09:10:32.792Z"
   },
   {
    "duration": 6,
    "start_time": "2025-03-13T09:10:32.822Z"
   },
   {
    "duration": 24,
    "start_time": "2025-03-13T09:10:32.830Z"
   },
   {
    "duration": 32,
    "start_time": "2025-03-13T09:10:32.855Z"
   },
   {
    "duration": 32,
    "start_time": "2025-03-13T09:10:37.617Z"
   },
   {
    "duration": 8,
    "start_time": "2025-03-13T09:10:38.469Z"
   },
   {
    "duration": 3,
    "start_time": "2025-03-13T09:10:39.142Z"
   },
   {
    "duration": 14,
    "start_time": "2025-03-13T09:10:39.503Z"
   },
   {
    "duration": 13,
    "start_time": "2025-03-13T09:26:30.549Z"
   },
   {
    "duration": 14,
    "start_time": "2025-03-13T09:26:49.317Z"
   },
   {
    "duration": 79,
    "start_time": "2025-03-13T09:30:57.176Z"
   },
   {
    "duration": 3,
    "start_time": "2025-03-13T09:32:55.393Z"
   },
   {
    "duration": 7,
    "start_time": "2025-03-13T09:33:08.701Z"
   },
   {
    "duration": 15,
    "start_time": "2025-03-13T09:39:26.015Z"
   },
   {
    "duration": 15,
    "start_time": "2025-03-13T09:39:31.787Z"
   },
   {
    "duration": 20,
    "start_time": "2025-03-13T09:39:49.789Z"
   },
   {
    "duration": 101,
    "start_time": "2025-03-13T09:41:45.444Z"
   },
   {
    "duration": 107,
    "start_time": "2025-03-13T09:42:16.375Z"
   },
   {
    "duration": 70,
    "start_time": "2025-03-13T09:42:54.678Z"
   },
   {
    "duration": 105,
    "start_time": "2025-03-13T09:42:58.858Z"
   },
   {
    "duration": 1064,
    "start_time": "2025-03-13T10:38:14.976Z"
   },
   {
    "duration": 1207,
    "start_time": "2025-03-13T10:39:05.553Z"
   },
   {
    "duration": 1061,
    "start_time": "2025-03-13T10:39:16.397Z"
   },
   {
    "duration": 1548,
    "start_time": "2025-03-13T10:44:06.303Z"
   },
   {
    "duration": 4,
    "start_time": "2025-03-13T10:44:48.394Z"
   },
   {
    "duration": 3,
    "start_time": "2025-03-13T10:44:55.533Z"
   },
   {
    "duration": 4,
    "start_time": "2025-03-13T11:10:40.176Z"
   },
   {
    "duration": 8,
    "start_time": "2025-03-13T11:11:30.639Z"
   },
   {
    "duration": 84,
    "start_time": "2025-03-13T11:12:36.509Z"
   },
   {
    "duration": 96,
    "start_time": "2025-03-13T11:14:29.110Z"
   },
   {
    "duration": 11,
    "start_time": "2025-03-13T11:14:42.074Z"
   },
   {
    "duration": 29,
    "start_time": "2025-03-13T11:18:53.290Z"
   },
   {
    "duration": 1430,
    "start_time": "2025-03-13T11:19:54.675Z"
   },
   {
    "duration": 1037,
    "start_time": "2025-03-13T11:20:12.405Z"
   },
   {
    "duration": 1075,
    "start_time": "2025-03-13T11:20:32.887Z"
   },
   {
    "duration": 1571,
    "start_time": "2025-03-13T11:20:56.968Z"
   },
   {
    "duration": 11,
    "start_time": "2025-03-13T11:21:06.895Z"
   },
   {
    "duration": 955,
    "start_time": "2025-03-13T11:21:22.084Z"
   },
   {
    "duration": 1972,
    "start_time": "2025-03-13T11:21:43.423Z"
   },
   {
    "duration": 927,
    "start_time": "2025-03-13T11:22:27.055Z"
   },
   {
    "duration": 15,
    "start_time": "2025-03-13T11:24:37.793Z"
   },
   {
    "duration": 2097,
    "start_time": "2025-03-13T11:30:17.811Z"
   },
   {
    "duration": 1529,
    "start_time": "2025-03-13T11:30:45.757Z"
   },
   {
    "duration": 1507,
    "start_time": "2025-03-13T11:31:33.266Z"
   },
   {
    "duration": 11,
    "start_time": "2025-03-13T11:32:10.584Z"
   },
   {
    "duration": 10,
    "start_time": "2025-03-13T11:32:13.789Z"
   },
   {
    "duration": 435,
    "start_time": "2025-03-13T11:33:31.271Z"
   },
   {
    "duration": 146,
    "start_time": "2025-03-13T11:33:31.708Z"
   },
   {
    "duration": 21,
    "start_time": "2025-03-13T11:33:31.856Z"
   },
   {
    "duration": 38,
    "start_time": "2025-03-13T11:33:31.878Z"
   },
   {
    "duration": 26,
    "start_time": "2025-03-13T11:33:31.918Z"
   },
   {
    "duration": 31,
    "start_time": "2025-03-13T11:33:31.946Z"
   },
   {
    "duration": 45,
    "start_time": "2025-03-13T11:33:31.978Z"
   },
   {
    "duration": 39,
    "start_time": "2025-03-13T11:33:32.024Z"
   },
   {
    "duration": 32,
    "start_time": "2025-03-13T11:33:32.065Z"
   },
   {
    "duration": 23,
    "start_time": "2025-03-13T11:33:32.099Z"
   },
   {
    "duration": 24,
    "start_time": "2025-03-13T11:33:32.124Z"
   },
   {
    "duration": 25,
    "start_time": "2025-03-13T11:33:32.150Z"
   },
   {
    "duration": 35,
    "start_time": "2025-03-13T11:33:32.176Z"
   },
   {
    "duration": 159,
    "start_time": "2025-03-13T11:33:32.215Z"
   },
   {
    "duration": 150,
    "start_time": "2025-03-13T11:33:32.375Z"
   },
   {
    "duration": 5,
    "start_time": "2025-03-13T11:33:32.527Z"
   },
   {
    "duration": 27,
    "start_time": "2025-03-13T11:33:32.533Z"
   },
   {
    "duration": 49,
    "start_time": "2025-03-13T11:33:32.562Z"
   },
   {
    "duration": 89,
    "start_time": "2025-03-13T11:33:32.612Z"
   },
   {
    "duration": 0,
    "start_time": "2025-03-13T11:33:32.703Z"
   },
   {
    "duration": 0,
    "start_time": "2025-03-13T11:33:32.705Z"
   },
   {
    "duration": 0,
    "start_time": "2025-03-13T11:33:32.706Z"
   },
   {
    "duration": 0,
    "start_time": "2025-03-13T11:33:32.708Z"
   },
   {
    "duration": 0,
    "start_time": "2025-03-13T11:33:32.709Z"
   },
   {
    "duration": 0,
    "start_time": "2025-03-13T11:33:32.711Z"
   },
   {
    "duration": 0,
    "start_time": "2025-03-13T11:33:32.712Z"
   },
   {
    "duration": 0,
    "start_time": "2025-03-13T11:33:32.714Z"
   },
   {
    "duration": 12,
    "start_time": "2025-03-13T11:33:41.695Z"
   },
   {
    "duration": 13,
    "start_time": "2025-03-13T11:33:46.322Z"
   },
   {
    "duration": 17,
    "start_time": "2025-03-13T11:33:58.217Z"
   },
   {
    "duration": 15,
    "start_time": "2025-03-13T11:34:22.304Z"
   },
   {
    "duration": 9,
    "start_time": "2025-03-13T11:38:09.226Z"
   },
   {
    "duration": 5,
    "start_time": "2025-03-13T11:38:22.206Z"
   },
   {
    "duration": 6,
    "start_time": "2025-03-13T11:38:58.553Z"
   },
   {
    "duration": 5,
    "start_time": "2025-03-13T11:40:44.584Z"
   },
   {
    "duration": 3,
    "start_time": "2025-03-13T11:40:57.850Z"
   },
   {
    "duration": 5,
    "start_time": "2025-03-13T11:41:14.482Z"
   },
   {
    "duration": 5,
    "start_time": "2025-03-13T11:42:17.822Z"
   },
   {
    "duration": 6,
    "start_time": "2025-03-13T11:42:29.186Z"
   },
   {
    "duration": 4,
    "start_time": "2025-03-13T11:43:09.099Z"
   },
   {
    "duration": 28,
    "start_time": "2025-03-13T11:47:31.848Z"
   },
   {
    "duration": 6,
    "start_time": "2025-03-13T11:47:42.132Z"
   },
   {
    "duration": 4,
    "start_time": "2025-03-13T11:47:51.562Z"
   },
   {
    "duration": 21,
    "start_time": "2025-03-13T11:49:03.731Z"
   },
   {
    "duration": 13,
    "start_time": "2025-03-13T11:50:07.024Z"
   },
   {
    "duration": 21,
    "start_time": "2025-03-13T11:51:36.013Z"
   },
   {
    "duration": 26,
    "start_time": "2025-03-13T11:53:03.997Z"
   },
   {
    "duration": 24,
    "start_time": "2025-03-13T11:55:49.520Z"
   },
   {
    "duration": 18,
    "start_time": "2025-03-13T11:55:50.125Z"
   },
   {
    "duration": 10,
    "start_time": "2025-03-13T11:55:50.843Z"
   },
   {
    "duration": 14,
    "start_time": "2025-03-13T11:55:51.335Z"
   },
   {
    "duration": 18,
    "start_time": "2025-03-13T11:55:51.970Z"
   },
   {
    "duration": 4,
    "start_time": "2025-03-13T11:55:59.723Z"
   },
   {
    "duration": 16,
    "start_time": "2025-03-13T11:56:00.406Z"
   },
   {
    "duration": 16,
    "start_time": "2025-03-13T12:03:26.317Z"
   },
   {
    "duration": 16,
    "start_time": "2025-03-13T12:03:36.253Z"
   },
   {
    "duration": 27,
    "start_time": "2025-03-13T12:04:28.403Z"
   },
   {
    "duration": 16,
    "start_time": "2025-03-13T12:04:38.257Z"
   },
   {
    "duration": 16,
    "start_time": "2025-03-13T12:04:40.086Z"
   },
   {
    "duration": 16,
    "start_time": "2025-03-13T12:04:46.869Z"
   },
   {
    "duration": 21,
    "start_time": "2025-03-13T12:04:47.217Z"
   },
   {
    "duration": 4,
    "start_time": "2025-03-13T12:04:47.656Z"
   },
   {
    "duration": 60,
    "start_time": "2025-03-13T12:04:58.888Z"
   },
   {
    "duration": 439,
    "start_time": "2025-03-13T12:05:07.733Z"
   },
   {
    "duration": 136,
    "start_time": "2025-03-13T12:05:08.174Z"
   },
   {
    "duration": 27,
    "start_time": "2025-03-13T12:05:08.312Z"
   },
   {
    "duration": 17,
    "start_time": "2025-03-13T12:05:08.341Z"
   },
   {
    "duration": 4,
    "start_time": "2025-03-13T12:05:08.360Z"
   },
   {
    "duration": 39,
    "start_time": "2025-03-13T12:05:08.366Z"
   },
   {
    "duration": 5,
    "start_time": "2025-03-13T12:05:08.407Z"
   },
   {
    "duration": 26,
    "start_time": "2025-03-13T12:05:08.414Z"
   },
   {
    "duration": 17,
    "start_time": "2025-03-13T12:05:08.442Z"
   },
   {
    "duration": 11,
    "start_time": "2025-03-13T12:05:08.462Z"
   },
   {
    "duration": 42,
    "start_time": "2025-03-13T12:05:08.474Z"
   },
   {
    "duration": 21,
    "start_time": "2025-03-13T12:05:08.519Z"
   },
   {
    "duration": 9,
    "start_time": "2025-03-13T12:05:08.542Z"
   },
   {
    "duration": 178,
    "start_time": "2025-03-13T12:05:08.553Z"
   },
   {
    "duration": 148,
    "start_time": "2025-03-13T12:05:08.732Z"
   },
   {
    "duration": 4,
    "start_time": "2025-03-13T12:05:08.882Z"
   },
   {
    "duration": 30,
    "start_time": "2025-03-13T12:05:08.888Z"
   },
   {
    "duration": 26,
    "start_time": "2025-03-13T12:05:08.920Z"
   },
   {
    "duration": 18,
    "start_time": "2025-03-13T12:05:08.948Z"
   },
   {
    "duration": 9,
    "start_time": "2025-03-13T12:05:08.968Z"
   },
   {
    "duration": 25,
    "start_time": "2025-03-13T12:05:09.003Z"
   },
   {
    "duration": 16,
    "start_time": "2025-03-13T12:05:09.030Z"
   },
   {
    "duration": 10,
    "start_time": "2025-03-13T12:05:09.048Z"
   },
   {
    "duration": 48,
    "start_time": "2025-03-13T12:05:09.060Z"
   },
   {
    "duration": 28,
    "start_time": "2025-03-13T12:05:09.111Z"
   },
   {
    "duration": 13,
    "start_time": "2025-03-13T12:05:09.140Z"
   },
   {
    "duration": 14,
    "start_time": "2025-03-13T12:05:09.154Z"
   },
   {
    "duration": 4,
    "start_time": "2025-03-13T12:05:09.171Z"
   },
   {
    "duration": 3,
    "start_time": "2025-03-13T12:05:18.878Z"
   },
   {
    "duration": 128,
    "start_time": "2025-03-13T12:05:19.156Z"
   },
   {
    "duration": 17,
    "start_time": "2025-03-13T12:05:19.590Z"
   },
   {
    "duration": 17,
    "start_time": "2025-03-13T12:05:19.767Z"
   },
   {
    "duration": 7,
    "start_time": "2025-03-13T12:05:20.728Z"
   },
   {
    "duration": 8,
    "start_time": "2025-03-13T12:05:20.902Z"
   },
   {
    "duration": 8,
    "start_time": "2025-03-13T12:05:21.102Z"
   },
   {
    "duration": 19,
    "start_time": "2025-03-13T12:05:21.670Z"
   },
   {
    "duration": 15,
    "start_time": "2025-03-13T12:05:21.852Z"
   },
   {
    "duration": 13,
    "start_time": "2025-03-13T12:05:22.437Z"
   },
   {
    "duration": 17,
    "start_time": "2025-03-13T12:05:22.620Z"
   },
   {
    "duration": 6,
    "start_time": "2025-03-13T12:05:23.028Z"
   },
   {
    "duration": 19,
    "start_time": "2025-03-13T12:05:23.203Z"
   },
   {
    "duration": 437,
    "start_time": "2025-03-13T12:06:18.933Z"
   },
   {
    "duration": 122,
    "start_time": "2025-03-13T12:06:19.372Z"
   },
   {
    "duration": 29,
    "start_time": "2025-03-13T12:06:19.495Z"
   },
   {
    "duration": 18,
    "start_time": "2025-03-13T12:06:19.527Z"
   },
   {
    "duration": 5,
    "start_time": "2025-03-13T12:06:19.546Z"
   },
   {
    "duration": 5,
    "start_time": "2025-03-13T12:06:19.553Z"
   },
   {
    "duration": 5,
    "start_time": "2025-03-13T12:06:19.560Z"
   },
   {
    "duration": 46,
    "start_time": "2025-03-13T12:06:19.566Z"
   },
   {
    "duration": 24,
    "start_time": "2025-03-13T12:06:19.613Z"
   },
   {
    "duration": 11,
    "start_time": "2025-03-13T12:06:19.639Z"
   },
   {
    "duration": 11,
    "start_time": "2025-03-13T12:06:19.651Z"
   },
   {
    "duration": 7,
    "start_time": "2025-03-13T12:06:19.664Z"
   },
   {
    "duration": 19,
    "start_time": "2025-03-13T12:06:19.705Z"
   },
   {
    "duration": 195,
    "start_time": "2025-03-13T12:06:19.726Z"
   },
   {
    "duration": 151,
    "start_time": "2025-03-13T12:06:19.923Z"
   },
   {
    "duration": 4,
    "start_time": "2025-03-13T12:06:20.076Z"
   },
   {
    "duration": 25,
    "start_time": "2025-03-13T12:06:20.082Z"
   },
   {
    "duration": 29,
    "start_time": "2025-03-13T12:06:20.110Z"
   },
   {
    "duration": 22,
    "start_time": "2025-03-13T12:06:20.140Z"
   },
   {
    "duration": 8,
    "start_time": "2025-03-13T12:06:20.164Z"
   },
   {
    "duration": 32,
    "start_time": "2025-03-13T12:06:20.173Z"
   },
   {
    "duration": 25,
    "start_time": "2025-03-13T12:06:20.208Z"
   },
   {
    "duration": 5,
    "start_time": "2025-03-13T12:06:20.235Z"
   },
   {
    "duration": 19,
    "start_time": "2025-03-13T12:06:20.242Z"
   },
   {
    "duration": 48,
    "start_time": "2025-03-13T12:06:20.263Z"
   },
   {
    "duration": 14,
    "start_time": "2025-03-13T12:06:20.312Z"
   },
   {
    "duration": 21,
    "start_time": "2025-03-13T12:06:20.328Z"
   },
   {
    "duration": 4,
    "start_time": "2025-03-13T12:06:20.352Z"
   },
   {
    "duration": 14,
    "start_time": "2025-03-13T12:06:45.631Z"
   },
   {
    "duration": 14,
    "start_time": "2025-03-13T12:07:20.024Z"
   },
   {
    "duration": 13,
    "start_time": "2025-03-13T12:07:29.285Z"
   },
   {
    "duration": 15,
    "start_time": "2025-03-13T12:07:29.622Z"
   },
   {
    "duration": 4,
    "start_time": "2025-03-13T12:09:31.667Z"
   },
   {
    "duration": 12,
    "start_time": "2025-03-13T12:10:09.184Z"
   },
   {
    "duration": 14,
    "start_time": "2025-03-13T12:10:34.901Z"
   },
   {
    "duration": 4,
    "start_time": "2025-03-13T12:10:35.718Z"
   },
   {
    "duration": 15,
    "start_time": "2025-03-13T13:10:30.979Z"
   },
   {
    "duration": 387,
    "start_time": "2025-03-13T13:55:15.131Z"
   },
   {
    "duration": 134,
    "start_time": "2025-03-13T13:55:15.520Z"
   },
   {
    "duration": 22,
    "start_time": "2025-03-13T13:55:15.656Z"
   },
   {
    "duration": 22,
    "start_time": "2025-03-13T13:55:15.680Z"
   },
   {
    "duration": 4,
    "start_time": "2025-03-13T13:55:15.705Z"
   },
   {
    "duration": 6,
    "start_time": "2025-03-13T13:55:15.711Z"
   },
   {
    "duration": 5,
    "start_time": "2025-03-13T13:55:15.718Z"
   },
   {
    "duration": 18,
    "start_time": "2025-03-13T13:55:15.725Z"
   },
   {
    "duration": 21,
    "start_time": "2025-03-13T13:55:15.745Z"
   },
   {
    "duration": 39,
    "start_time": "2025-03-13T13:55:15.768Z"
   },
   {
    "duration": 13,
    "start_time": "2025-03-13T13:55:15.809Z"
   },
   {
    "duration": 7,
    "start_time": "2025-03-13T13:55:15.824Z"
   },
   {
    "duration": 18,
    "start_time": "2025-03-13T13:55:15.833Z"
   },
   {
    "duration": 156,
    "start_time": "2025-03-13T13:55:15.854Z"
   },
   {
    "duration": 142,
    "start_time": "2025-03-13T13:55:16.012Z"
   },
   {
    "duration": 4,
    "start_time": "2025-03-13T13:55:16.155Z"
   },
   {
    "duration": 30,
    "start_time": "2025-03-13T13:55:16.161Z"
   },
   {
    "duration": 21,
    "start_time": "2025-03-13T13:55:16.192Z"
   },
   {
    "duration": 16,
    "start_time": "2025-03-13T13:55:16.215Z"
   },
   {
    "duration": 7,
    "start_time": "2025-03-13T13:55:16.232Z"
   },
   {
    "duration": 14,
    "start_time": "2025-03-13T13:55:16.241Z"
   },
   {
    "duration": 15,
    "start_time": "2025-03-13T13:55:16.256Z"
   },
   {
    "duration": 33,
    "start_time": "2025-03-13T13:55:16.272Z"
   },
   {
    "duration": 16,
    "start_time": "2025-03-13T13:55:16.306Z"
   },
   {
    "duration": 12,
    "start_time": "2025-03-13T13:55:16.324Z"
   },
   {
    "duration": 12,
    "start_time": "2025-03-13T13:55:16.337Z"
   },
   {
    "duration": 12,
    "start_time": "2025-03-13T13:55:16.350Z"
   },
   {
    "duration": 3,
    "start_time": "2025-03-13T13:55:16.364Z"
   },
   {
    "duration": 15,
    "start_time": "2025-03-13T13:55:16.403Z"
   },
   {
    "duration": 76,
    "start_time": "2025-03-13T13:55:16.420Z"
   },
   {
    "duration": 5,
    "start_time": "2025-03-13T13:56:05.289Z"
   },
   {
    "duration": 5,
    "start_time": "2025-03-13T13:56:11.200Z"
   },
   {
    "duration": 406,
    "start_time": "2025-03-13T13:56:20.775Z"
   },
   {
    "duration": 159,
    "start_time": "2025-03-13T13:56:21.183Z"
   },
   {
    "duration": 22,
    "start_time": "2025-03-13T13:56:21.344Z"
   },
   {
    "duration": 34,
    "start_time": "2025-03-13T13:56:21.368Z"
   },
   {
    "duration": 17,
    "start_time": "2025-03-13T13:56:21.404Z"
   },
   {
    "duration": 48,
    "start_time": "2025-03-13T13:56:21.422Z"
   },
   {
    "duration": 15,
    "start_time": "2025-03-13T13:56:21.471Z"
   },
   {
    "duration": 56,
    "start_time": "2025-03-13T13:56:21.488Z"
   },
   {
    "duration": 46,
    "start_time": "2025-03-13T13:56:21.546Z"
   },
   {
    "duration": 22,
    "start_time": "2025-03-13T13:56:21.593Z"
   },
   {
    "duration": 69,
    "start_time": "2025-03-13T13:56:21.618Z"
   },
   {
    "duration": 28,
    "start_time": "2025-03-13T13:56:21.688Z"
   },
   {
    "duration": 46,
    "start_time": "2025-03-13T13:56:21.719Z"
   },
   {
    "duration": 161,
    "start_time": "2025-03-13T13:56:21.767Z"
   },
   {
    "duration": 141,
    "start_time": "2025-03-13T13:56:21.930Z"
   },
   {
    "duration": 5,
    "start_time": "2025-03-13T13:56:22.072Z"
   },
   {
    "duration": 26,
    "start_time": "2025-03-13T13:56:22.078Z"
   },
   {
    "duration": 21,
    "start_time": "2025-03-13T13:56:22.106Z"
   },
   {
    "duration": 26,
    "start_time": "2025-03-13T13:56:22.129Z"
   },
   {
    "duration": 22,
    "start_time": "2025-03-13T13:56:22.157Z"
   },
   {
    "duration": 23,
    "start_time": "2025-03-13T13:56:22.181Z"
   },
   {
    "duration": 17,
    "start_time": "2025-03-13T13:56:22.206Z"
   },
   {
    "duration": 5,
    "start_time": "2025-03-13T13:56:22.225Z"
   },
   {
    "duration": 21,
    "start_time": "2025-03-13T13:56:22.232Z"
   },
   {
    "duration": 13,
    "start_time": "2025-03-13T13:56:22.255Z"
   },
   {
    "duration": 51,
    "start_time": "2025-03-13T13:56:22.270Z"
   },
   {
    "duration": 25,
    "start_time": "2025-03-13T13:56:22.323Z"
   },
   {
    "duration": 5,
    "start_time": "2025-03-13T13:56:22.350Z"
   },
   {
    "duration": 43,
    "start_time": "2025-03-13T13:56:22.356Z"
   },
   {
    "duration": 5,
    "start_time": "2025-03-13T13:56:22.404Z"
   },
   {
    "duration": 6,
    "start_time": "2025-03-13T13:56:33.847Z"
   },
   {
    "duration": 16,
    "start_time": "2025-03-13T13:57:06.233Z"
   },
   {
    "duration": 15,
    "start_time": "2025-03-13T13:58:17.142Z"
   },
   {
    "duration": 434,
    "start_time": "2025-03-13T13:58:24.270Z"
   },
   {
    "duration": 125,
    "start_time": "2025-03-13T13:58:24.706Z"
   },
   {
    "duration": 21,
    "start_time": "2025-03-13T13:58:24.833Z"
   },
   {
    "duration": 17,
    "start_time": "2025-03-13T13:58:24.855Z"
   },
   {
    "duration": 3,
    "start_time": "2025-03-13T13:58:24.875Z"
   },
   {
    "duration": 29,
    "start_time": "2025-03-13T13:58:24.880Z"
   },
   {
    "duration": 10,
    "start_time": "2025-03-13T13:58:24.911Z"
   },
   {
    "duration": 36,
    "start_time": "2025-03-13T13:58:24.923Z"
   },
   {
    "duration": 15,
    "start_time": "2025-03-13T13:58:24.960Z"
   },
   {
    "duration": 11,
    "start_time": "2025-03-13T13:58:24.977Z"
   },
   {
    "duration": 25,
    "start_time": "2025-03-13T13:58:24.989Z"
   },
   {
    "duration": 10,
    "start_time": "2025-03-13T13:58:25.016Z"
   },
   {
    "duration": 12,
    "start_time": "2025-03-13T13:58:25.029Z"
   },
   {
    "duration": 183,
    "start_time": "2025-03-13T13:58:25.043Z"
   },
   {
    "duration": 140,
    "start_time": "2025-03-13T13:58:25.228Z"
   },
   {
    "duration": 5,
    "start_time": "2025-03-13T13:58:25.369Z"
   },
   {
    "duration": 12,
    "start_time": "2025-03-13T13:58:25.375Z"
   },
   {
    "duration": 33,
    "start_time": "2025-03-13T13:58:25.389Z"
   },
   {
    "duration": 16,
    "start_time": "2025-03-13T13:58:25.423Z"
   },
   {
    "duration": 8,
    "start_time": "2025-03-13T13:58:25.441Z"
   },
   {
    "duration": 16,
    "start_time": "2025-03-13T13:58:25.450Z"
   },
   {
    "duration": 54,
    "start_time": "2025-03-13T13:58:25.469Z"
   },
   {
    "duration": 10,
    "start_time": "2025-03-13T13:58:25.525Z"
   },
   {
    "duration": 22,
    "start_time": "2025-03-13T13:58:25.537Z"
   },
   {
    "duration": 18,
    "start_time": "2025-03-13T13:58:25.561Z"
   },
   {
    "duration": 33,
    "start_time": "2025-03-13T13:58:25.581Z"
   },
   {
    "duration": 25,
    "start_time": "2025-03-13T13:58:25.616Z"
   },
   {
    "duration": 8,
    "start_time": "2025-03-13T13:58:25.643Z"
   },
   {
    "duration": 36,
    "start_time": "2025-03-13T13:58:25.653Z"
   },
   {
    "duration": 6,
    "start_time": "2025-03-13T13:58:25.691Z"
   },
   {
    "duration": 23,
    "start_time": "2025-03-13T13:58:25.699Z"
   },
   {
    "duration": 6,
    "start_time": "2025-03-13T14:00:15.612Z"
   },
   {
    "duration": 17,
    "start_time": "2025-03-13T14:00:16.161Z"
   },
   {
    "duration": 432,
    "start_time": "2025-03-13T18:50:29.387Z"
   },
   {
    "duration": 130,
    "start_time": "2025-03-13T18:50:29.821Z"
   },
   {
    "duration": 21,
    "start_time": "2025-03-13T18:50:29.953Z"
   },
   {
    "duration": 18,
    "start_time": "2025-03-13T18:50:29.976Z"
   },
   {
    "duration": 3,
    "start_time": "2025-03-13T18:50:29.996Z"
   },
   {
    "duration": 13,
    "start_time": "2025-03-13T18:50:30.001Z"
   },
   {
    "duration": 5,
    "start_time": "2025-03-13T18:50:30.016Z"
   },
   {
    "duration": 19,
    "start_time": "2025-03-13T18:50:30.022Z"
   },
   {
    "duration": 44,
    "start_time": "2025-03-13T18:50:30.043Z"
   },
   {
    "duration": 21,
    "start_time": "2025-03-13T18:50:30.090Z"
   },
   {
    "duration": 82,
    "start_time": "2025-03-13T18:50:30.113Z"
   },
   {
    "duration": 8,
    "start_time": "2025-03-13T18:50:30.197Z"
   },
   {
    "duration": 34,
    "start_time": "2025-03-13T18:50:30.206Z"
   },
   {
    "duration": 219,
    "start_time": "2025-03-13T18:50:30.242Z"
   },
   {
    "duration": 146,
    "start_time": "2025-03-13T18:50:30.463Z"
   },
   {
    "duration": 4,
    "start_time": "2025-03-13T18:50:30.614Z"
   },
   {
    "duration": 10,
    "start_time": "2025-03-13T18:50:30.620Z"
   },
   {
    "duration": 28,
    "start_time": "2025-03-13T18:50:30.631Z"
   },
   {
    "duration": 16,
    "start_time": "2025-03-13T18:50:30.661Z"
   },
   {
    "duration": 9,
    "start_time": "2025-03-13T18:50:30.678Z"
   },
   {
    "duration": 13,
    "start_time": "2025-03-13T18:50:30.713Z"
   },
   {
    "duration": 16,
    "start_time": "2025-03-13T18:50:30.728Z"
   },
   {
    "duration": 4,
    "start_time": "2025-03-13T18:50:30.745Z"
   },
   {
    "duration": 24,
    "start_time": "2025-03-13T18:50:30.750Z"
   },
   {
    "duration": 13,
    "start_time": "2025-03-13T18:50:30.776Z"
   },
   {
    "duration": 13,
    "start_time": "2025-03-13T18:50:30.814Z"
   },
   {
    "duration": 28,
    "start_time": "2025-03-13T18:50:30.828Z"
   },
   {
    "duration": 4,
    "start_time": "2025-03-13T18:50:30.859Z"
   },
   {
    "duration": 14,
    "start_time": "2025-03-13T18:50:30.864Z"
   },
   {
    "duration": 7,
    "start_time": "2025-03-13T18:50:30.879Z"
   },
   {
    "duration": 32,
    "start_time": "2025-03-13T18:50:30.887Z"
   },
   {
    "duration": 27,
    "start_time": "2025-03-13T18:50:30.920Z"
   },
   {
    "duration": 15,
    "start_time": "2025-03-13T18:50:30.949Z"
   },
   {
    "duration": 68,
    "start_time": "2025-03-13T18:50:40.301Z"
   },
   {
    "duration": 6,
    "start_time": "2025-03-13T18:51:03.606Z"
   },
   {
    "duration": 6,
    "start_time": "2025-03-13T18:54:34.791Z"
   },
   {
    "duration": 7,
    "start_time": "2025-03-13T18:54:57.786Z"
   },
   {
    "duration": 17,
    "start_time": "2025-03-13T18:55:00.507Z"
   },
   {
    "duration": 7,
    "start_time": "2025-03-13T18:55:08.606Z"
   },
   {
    "duration": 7,
    "start_time": "2025-03-13T18:55:42.392Z"
   },
   {
    "duration": 6,
    "start_time": "2025-03-13T18:56:39.550Z"
   },
   {
    "duration": 17,
    "start_time": "2025-03-13T18:56:45.073Z"
   },
   {
    "duration": 17,
    "start_time": "2025-03-13T19:04:05.554Z"
   },
   {
    "duration": 6,
    "start_time": "2025-03-13T19:04:12.553Z"
   },
   {
    "duration": 16,
    "start_time": "2025-03-13T19:04:13.992Z"
   },
   {
    "duration": 7,
    "start_time": "2025-03-13T19:05:28.890Z"
   },
   {
    "duration": 8,
    "start_time": "2025-03-13T19:06:45.536Z"
   },
   {
    "duration": 8,
    "start_time": "2025-03-13T19:19:57.738Z"
   },
   {
    "duration": 16,
    "start_time": "2025-03-13T19:23:20.208Z"
   },
   {
    "duration": 9,
    "start_time": "2025-03-13T19:23:39.559Z"
   },
   {
    "duration": 7,
    "start_time": "2025-03-13T19:25:29.706Z"
   },
   {
    "duration": 55,
    "start_time": "2025-03-16T07:52:57.778Z"
   },
   {
    "duration": 437,
    "start_time": "2025-03-16T07:53:10.551Z"
   },
   {
    "duration": 111,
    "start_time": "2025-03-16T07:53:10.990Z"
   },
   {
    "duration": 19,
    "start_time": "2025-03-16T07:53:11.103Z"
   },
   {
    "duration": 16,
    "start_time": "2025-03-16T07:53:11.124Z"
   },
   {
    "duration": 4,
    "start_time": "2025-03-16T07:53:11.142Z"
   },
   {
    "duration": 37,
    "start_time": "2025-03-16T07:53:11.147Z"
   },
   {
    "duration": 4,
    "start_time": "2025-03-16T07:53:11.186Z"
   },
   {
    "duration": 6,
    "start_time": "2025-03-16T07:53:11.192Z"
   },
   {
    "duration": 18,
    "start_time": "2025-03-16T07:53:11.199Z"
   },
   {
    "duration": 17,
    "start_time": "2025-03-16T07:53:11.218Z"
   },
   {
    "duration": 10,
    "start_time": "2025-03-16T07:53:11.237Z"
   },
   {
    "duration": 46,
    "start_time": "2025-03-16T07:53:11.248Z"
   },
   {
    "duration": 7,
    "start_time": "2025-03-16T07:53:11.295Z"
   },
   {
    "duration": 8,
    "start_time": "2025-03-16T07:53:11.305Z"
   },
   {
    "duration": 170,
    "start_time": "2025-03-16T07:53:11.315Z"
   },
   {
    "duration": 144,
    "start_time": "2025-03-16T07:53:11.486Z"
   },
   {
    "duration": 4,
    "start_time": "2025-03-16T07:53:11.632Z"
   },
   {
    "duration": 54,
    "start_time": "2025-03-16T07:53:11.637Z"
   },
   {
    "duration": 22,
    "start_time": "2025-03-16T07:53:11.693Z"
   },
   {
    "duration": 15,
    "start_time": "2025-03-16T07:53:11.716Z"
   },
   {
    "duration": 7,
    "start_time": "2025-03-16T07:53:11.733Z"
   },
   {
    "duration": 43,
    "start_time": "2025-03-16T07:53:11.742Z"
   },
   {
    "duration": 16,
    "start_time": "2025-03-16T07:53:11.787Z"
   },
   {
    "duration": 3,
    "start_time": "2025-03-16T07:53:11.805Z"
   },
   {
    "duration": 15,
    "start_time": "2025-03-16T07:53:11.810Z"
   },
   {
    "duration": 13,
    "start_time": "2025-03-16T07:53:11.827Z"
   },
   {
    "duration": 43,
    "start_time": "2025-03-16T07:53:11.842Z"
   },
   {
    "duration": 13,
    "start_time": "2025-03-16T07:53:11.887Z"
   },
   {
    "duration": 4,
    "start_time": "2025-03-16T07:53:11.901Z"
   },
   {
    "duration": 13,
    "start_time": "2025-03-16T07:53:11.906Z"
   },
   {
    "duration": 7,
    "start_time": "2025-03-16T07:53:11.920Z"
   },
   {
    "duration": 15,
    "start_time": "2025-03-16T07:53:11.928Z"
   },
   {
    "duration": 40,
    "start_time": "2025-03-16T07:53:11.944Z"
   },
   {
    "duration": 17,
    "start_time": "2025-03-16T07:53:11.986Z"
   },
   {
    "duration": 7,
    "start_time": "2025-03-16T07:53:12.004Z"
   },
   {
    "duration": 12,
    "start_time": "2025-03-16T07:53:12.012Z"
   },
   {
    "duration": 14,
    "start_time": "2025-03-16T07:53:12.025Z"
   },
   {
    "duration": 7,
    "start_time": "2025-03-16T07:54:42.186Z"
   },
   {
    "duration": 6,
    "start_time": "2025-03-16T07:55:22.305Z"
   },
   {
    "duration": 5,
    "start_time": "2025-03-16T07:56:09.022Z"
   },
   {
    "duration": 107,
    "start_time": "2025-03-16T08:01:01.499Z"
   },
   {
    "duration": 10,
    "start_time": "2025-03-16T08:05:33.508Z"
   },
   {
    "duration": 217,
    "start_time": "2025-03-16T08:18:50.905Z"
   },
   {
    "duration": 213,
    "start_time": "2025-03-16T08:18:55.235Z"
   },
   {
    "duration": 181,
    "start_time": "2025-03-16T08:19:40.905Z"
   },
   {
    "duration": 172,
    "start_time": "2025-03-16T08:21:33.264Z"
   },
   {
    "duration": 5,
    "start_time": "2025-03-16T08:22:01.399Z"
   },
   {
    "duration": 5,
    "start_time": "2025-03-16T08:23:27.400Z"
   },
   {
    "duration": 6,
    "start_time": "2025-03-16T08:24:03.459Z"
   },
   {
    "duration": 5,
    "start_time": "2025-03-16T08:24:24.200Z"
   },
   {
    "duration": 5,
    "start_time": "2025-03-16T08:24:47.701Z"
   },
   {
    "duration": 4,
    "start_time": "2025-03-16T08:25:52.244Z"
   },
   {
    "duration": 4,
    "start_time": "2025-03-16T08:33:17.131Z"
   },
   {
    "duration": 4,
    "start_time": "2025-03-16T08:33:22.200Z"
   },
   {
    "duration": 4,
    "start_time": "2025-03-16T08:34:03.505Z"
   },
   {
    "duration": 6,
    "start_time": "2025-03-16T08:34:20.494Z"
   },
   {
    "duration": 84,
    "start_time": "2025-03-16T08:36:22.869Z"
   },
   {
    "duration": 5,
    "start_time": "2025-03-16T08:37:38.585Z"
   },
   {
    "duration": 4,
    "start_time": "2025-03-16T08:37:43.597Z"
   },
   {
    "duration": 5,
    "start_time": "2025-03-16T08:38:12.386Z"
   },
   {
    "duration": 6,
    "start_time": "2025-03-16T08:38:14.723Z"
   },
   {
    "duration": 1368,
    "start_time": "2025-03-16T08:38:30.548Z"
   },
   {
    "duration": 13,
    "start_time": "2025-03-16T08:38:45.367Z"
   },
   {
    "duration": 12,
    "start_time": "2025-03-16T08:39:04.424Z"
   },
   {
    "duration": 5,
    "start_time": "2025-03-16T08:39:18.489Z"
   },
   {
    "duration": 15,
    "start_time": "2025-03-16T08:40:09.371Z"
   },
   {
    "duration": 10,
    "start_time": "2025-03-16T08:40:35.011Z"
   },
   {
    "duration": 12,
    "start_time": "2025-03-16T08:41:41.081Z"
   },
   {
    "duration": 219,
    "start_time": "2025-03-16T08:42:09.513Z"
   },
   {
    "duration": 186,
    "start_time": "2025-03-16T08:42:22.382Z"
   },
   {
    "duration": 175,
    "start_time": "2025-03-16T08:42:23.147Z"
   },
   {
    "duration": 4,
    "start_time": "2025-03-16T08:42:23.632Z"
   },
   {
    "duration": 6,
    "start_time": "2025-03-16T08:42:24.298Z"
   },
   {
    "duration": 5,
    "start_time": "2025-03-16T08:42:24.762Z"
   },
   {
    "duration": 5,
    "start_time": "2025-03-16T08:42:25.385Z"
   },
   {
    "duration": 4,
    "start_time": "2025-03-16T08:42:25.731Z"
   },
   {
    "duration": 9,
    "start_time": "2025-03-16T08:42:26.589Z"
   },
   {
    "duration": 11,
    "start_time": "2025-03-16T08:42:33.535Z"
   },
   {
    "duration": 98,
    "start_time": "2025-03-16T08:44:47.598Z"
   },
   {
    "duration": 9,
    "start_time": "2025-03-16T08:55:20.650Z"
   },
   {
    "duration": 5,
    "start_time": "2025-03-16T08:55:46.810Z"
   },
   {
    "duration": 4,
    "start_time": "2025-03-16T08:55:50.028Z"
   },
   {
    "duration": 6,
    "start_time": "2025-03-16T08:56:10.088Z"
   },
   {
    "duration": 7,
    "start_time": "2025-03-16T08:56:18.273Z"
   },
   {
    "duration": 5,
    "start_time": "2025-03-16T08:56:18.861Z"
   },
   {
    "duration": 5,
    "start_time": "2025-03-16T08:56:19.099Z"
   },
   {
    "duration": 4,
    "start_time": "2025-03-16T08:56:19.560Z"
   },
   {
    "duration": 4,
    "start_time": "2025-03-16T08:56:20.194Z"
   },
   {
    "duration": 9,
    "start_time": "2025-03-16T08:56:22.986Z"
   },
   {
    "duration": 11,
    "start_time": "2025-03-16T08:58:07.206Z"
   },
   {
    "duration": 8,
    "start_time": "2025-03-16T09:03:59.658Z"
   },
   {
    "duration": 4,
    "start_time": "2025-03-16T09:04:01.453Z"
   },
   {
    "duration": 5,
    "start_time": "2025-03-16T09:04:02.148Z"
   },
   {
    "duration": 5,
    "start_time": "2025-03-16T09:04:03.226Z"
   },
   {
    "duration": 5,
    "start_time": "2025-03-16T09:04:04.828Z"
   },
   {
    "duration": 5,
    "start_time": "2025-03-16T09:04:05.360Z"
   },
   {
    "duration": 9,
    "start_time": "2025-03-16T09:04:06.144Z"
   },
   {
    "duration": 11,
    "start_time": "2025-03-16T09:04:10.686Z"
   },
   {
    "duration": 11,
    "start_time": "2025-03-16T09:04:19.328Z"
   },
   {
    "duration": 6,
    "start_time": "2025-03-16T09:12:03.288Z"
   },
   {
    "duration": 13,
    "start_time": "2025-03-16T09:12:06.444Z"
   },
   {
    "duration": 13,
    "start_time": "2025-03-16T09:12:28.630Z"
   },
   {
    "duration": 3,
    "start_time": "2025-03-16T09:13:18.661Z"
   },
   {
    "duration": 101,
    "start_time": "2025-03-16T09:13:21.453Z"
   },
   {
    "duration": 13,
    "start_time": "2025-03-16T09:13:25.494Z"
   },
   {
    "duration": 17,
    "start_time": "2025-03-16T09:13:27.538Z"
   },
   {
    "duration": 1235,
    "start_time": "2025-03-16T09:18:47.645Z"
   },
   {
    "duration": 427,
    "start_time": "2025-03-16T09:19:09.464Z"
   },
   {
    "duration": 119,
    "start_time": "2025-03-16T09:19:09.894Z"
   },
   {
    "duration": 20,
    "start_time": "2025-03-16T09:19:10.014Z"
   },
   {
    "duration": 27,
    "start_time": "2025-03-16T09:19:10.036Z"
   },
   {
    "duration": 4,
    "start_time": "2025-03-16T09:19:10.065Z"
   },
   {
    "duration": 25,
    "start_time": "2025-03-16T09:19:10.072Z"
   },
   {
    "duration": 36,
    "start_time": "2025-03-16T09:19:10.099Z"
   },
   {
    "duration": 16,
    "start_time": "2025-03-16T09:19:10.137Z"
   },
   {
    "duration": 10,
    "start_time": "2025-03-16T09:19:10.155Z"
   },
   {
    "duration": 22,
    "start_time": "2025-03-16T09:19:10.167Z"
   },
   {
    "duration": 19,
    "start_time": "2025-03-16T09:19:10.190Z"
   },
   {
    "duration": 13,
    "start_time": "2025-03-16T09:19:10.211Z"
   },
   {
    "duration": 8,
    "start_time": "2025-03-16T09:19:10.226Z"
   },
   {
    "duration": 11,
    "start_time": "2025-03-16T09:19:10.236Z"
   },
   {
    "duration": 36,
    "start_time": "2025-03-16T09:19:10.249Z"
   },
   {
    "duration": 184,
    "start_time": "2025-03-16T09:19:10.287Z"
   },
   {
    "duration": 182,
    "start_time": "2025-03-16T09:19:10.473Z"
   },
   {
    "duration": 8,
    "start_time": "2025-03-16T09:19:10.656Z"
   },
   {
    "duration": 18,
    "start_time": "2025-03-16T09:19:10.673Z"
   },
   {
    "duration": 9,
    "start_time": "2025-03-16T09:19:10.693Z"
   },
   {
    "duration": 5,
    "start_time": "2025-03-16T09:19:10.703Z"
   },
   {
    "duration": 5,
    "start_time": "2025-03-16T09:19:10.709Z"
   },
   {
    "duration": 4,
    "start_time": "2025-03-16T09:19:10.715Z"
   },
   {
    "duration": 8,
    "start_time": "2025-03-16T09:19:10.721Z"
   },
   {
    "duration": 11,
    "start_time": "2025-03-16T09:19:10.730Z"
   },
   {
    "duration": 94,
    "start_time": "2025-03-16T09:19:10.742Z"
   },
   {
    "duration": 0,
    "start_time": "2025-03-16T09:19:10.838Z"
   },
   {
    "duration": 0,
    "start_time": "2025-03-16T09:19:10.839Z"
   },
   {
    "duration": 0,
    "start_time": "2025-03-16T09:19:10.840Z"
   },
   {
    "duration": 0,
    "start_time": "2025-03-16T09:19:10.842Z"
   },
   {
    "duration": 0,
    "start_time": "2025-03-16T09:19:10.842Z"
   },
   {
    "duration": 1,
    "start_time": "2025-03-16T09:19:10.843Z"
   },
   {
    "duration": 0,
    "start_time": "2025-03-16T09:19:10.845Z"
   },
   {
    "duration": 0,
    "start_time": "2025-03-16T09:19:10.846Z"
   },
   {
    "duration": 0,
    "start_time": "2025-03-16T09:19:10.847Z"
   },
   {
    "duration": 0,
    "start_time": "2025-03-16T09:19:10.847Z"
   },
   {
    "duration": 0,
    "start_time": "2025-03-16T09:19:10.848Z"
   },
   {
    "duration": 0,
    "start_time": "2025-03-16T09:19:10.877Z"
   },
   {
    "duration": 0,
    "start_time": "2025-03-16T09:19:10.878Z"
   },
   {
    "duration": 1,
    "start_time": "2025-03-16T09:19:10.884Z"
   },
   {
    "duration": 0,
    "start_time": "2025-03-16T09:19:10.887Z"
   },
   {
    "duration": 0,
    "start_time": "2025-03-16T09:19:10.888Z"
   },
   {
    "duration": 0,
    "start_time": "2025-03-16T09:19:10.889Z"
   },
   {
    "duration": 0,
    "start_time": "2025-03-16T09:19:10.890Z"
   },
   {
    "duration": 0,
    "start_time": "2025-03-16T09:19:10.891Z"
   },
   {
    "duration": 26,
    "start_time": "2025-03-16T09:20:19.306Z"
   },
   {
    "duration": 24,
    "start_time": "2025-03-16T09:20:55.402Z"
   },
   {
    "duration": 10,
    "start_time": "2025-03-16T09:21:06.789Z"
   },
   {
    "duration": 20,
    "start_time": "2025-03-16T09:21:13.624Z"
   },
   {
    "duration": 20,
    "start_time": "2025-03-16T09:21:19.391Z"
   },
   {
    "duration": 4,
    "start_time": "2025-03-16T09:22:18.399Z"
   },
   {
    "duration": 28,
    "start_time": "2025-03-16T09:22:19.558Z"
   },
   {
    "duration": 15,
    "start_time": "2025-03-16T09:22:21.622Z"
   },
   {
    "duration": 22,
    "start_time": "2025-03-16T09:22:23.558Z"
   },
   {
    "duration": 17,
    "start_time": "2025-03-16T09:22:25.405Z"
   },
   {
    "duration": 3,
    "start_time": "2025-03-16T09:22:27.548Z"
   },
   {
    "duration": 6,
    "start_time": "2025-03-16T09:23:28.719Z"
   },
   {
    "duration": 15,
    "start_time": "2025-03-16T09:23:29.442Z"
   },
   {
    "duration": 6,
    "start_time": "2025-03-16T09:23:36.285Z"
   },
   {
    "duration": 14,
    "start_time": "2025-03-16T09:23:36.852Z"
   },
   {
    "duration": 6,
    "start_time": "2025-03-16T09:23:58.833Z"
   },
   {
    "duration": 15,
    "start_time": "2025-03-16T09:23:59.839Z"
   },
   {
    "duration": 9,
    "start_time": "2025-03-16T09:29:50.760Z"
   },
   {
    "duration": 16,
    "start_time": "2025-03-16T09:32:31.646Z"
   },
   {
    "duration": 409,
    "start_time": "2025-03-16T09:38:35.442Z"
   },
   {
    "duration": 147,
    "start_time": "2025-03-16T09:38:35.853Z"
   },
   {
    "duration": 19,
    "start_time": "2025-03-16T09:38:36.002Z"
   },
   {
    "duration": 17,
    "start_time": "2025-03-16T09:38:36.023Z"
   },
   {
    "duration": 9,
    "start_time": "2025-03-16T09:38:36.042Z"
   },
   {
    "duration": 24,
    "start_time": "2025-03-16T09:38:36.053Z"
   },
   {
    "duration": 14,
    "start_time": "2025-03-16T09:38:36.080Z"
   },
   {
    "duration": 8,
    "start_time": "2025-03-16T09:38:36.095Z"
   },
   {
    "duration": 22,
    "start_time": "2025-03-16T09:38:36.105Z"
   },
   {
    "duration": 6,
    "start_time": "2025-03-16T09:38:36.129Z"
   },
   {
    "duration": 98,
    "start_time": "2025-03-16T09:38:36.137Z"
   },
   {
    "duration": 15,
    "start_time": "2025-03-16T09:38:36.237Z"
   },
   {
    "duration": 10,
    "start_time": "2025-03-16T09:38:36.253Z"
   },
   {
    "duration": 30,
    "start_time": "2025-03-16T09:38:36.264Z"
   },
   {
    "duration": 15,
    "start_time": "2025-03-16T09:38:36.296Z"
   },
   {
    "duration": 233,
    "start_time": "2025-03-16T09:38:36.313Z"
   },
   {
    "duration": 201,
    "start_time": "2025-03-16T09:38:36.547Z"
   },
   {
    "duration": 9,
    "start_time": "2025-03-16T09:38:36.750Z"
   },
   {
    "duration": 28,
    "start_time": "2025-03-16T09:38:36.761Z"
   },
   {
    "duration": 7,
    "start_time": "2025-03-16T09:38:36.791Z"
   },
   {
    "duration": 21,
    "start_time": "2025-03-16T09:38:36.799Z"
   },
   {
    "duration": 5,
    "start_time": "2025-03-16T09:38:36.821Z"
   },
   {
    "duration": 5,
    "start_time": "2025-03-16T09:38:36.827Z"
   },
   {
    "duration": 10,
    "start_time": "2025-03-16T09:38:36.833Z"
   },
   {
    "duration": 12,
    "start_time": "2025-03-16T09:38:36.844Z"
   },
   {
    "duration": 50,
    "start_time": "2025-03-16T09:38:36.858Z"
   },
   {
    "duration": 23,
    "start_time": "2025-03-16T09:38:36.910Z"
   },
   {
    "duration": 9,
    "start_time": "2025-03-16T09:38:36.936Z"
   },
   {
    "duration": 35,
    "start_time": "2025-03-16T09:38:36.947Z"
   },
   {
    "duration": 23,
    "start_time": "2025-03-16T09:38:36.985Z"
   },
   {
    "duration": 3,
    "start_time": "2025-03-16T09:38:37.010Z"
   },
   {
    "duration": 25,
    "start_time": "2025-03-16T09:38:37.015Z"
   },
   {
    "duration": 40,
    "start_time": "2025-03-16T09:38:37.042Z"
   },
   {
    "duration": 17,
    "start_time": "2025-03-16T09:38:37.084Z"
   },
   {
    "duration": 37,
    "start_time": "2025-03-16T09:38:37.103Z"
   },
   {
    "duration": 4,
    "start_time": "2025-03-16T09:38:37.141Z"
   },
   {
    "duration": 26,
    "start_time": "2025-03-16T09:38:37.146Z"
   },
   {
    "duration": 22,
    "start_time": "2025-03-16T09:38:37.174Z"
   },
   {
    "duration": 11,
    "start_time": "2025-03-16T09:38:37.198Z"
   },
   {
    "duration": 22,
    "start_time": "2025-03-16T09:38:37.210Z"
   },
   {
    "duration": 35,
    "start_time": "2025-03-16T09:38:37.234Z"
   },
   {
    "duration": 32,
    "start_time": "2025-03-16T09:38:37.270Z"
   },
   {
    "duration": 25,
    "start_time": "2025-03-16T09:38:37.305Z"
   },
   {
    "duration": 6,
    "start_time": "2025-03-16T09:38:37.332Z"
   },
   {
    "duration": 10,
    "start_time": "2025-03-16T09:38:37.339Z"
   },
   {
    "duration": 14,
    "start_time": "2025-03-16T09:38:37.350Z"
   },
   {
    "duration": 368,
    "start_time": "2025-03-16T09:45:50.241Z"
   },
   {
    "duration": 109,
    "start_time": "2025-03-16T09:45:50.611Z"
   },
   {
    "duration": 21,
    "start_time": "2025-03-16T09:45:50.721Z"
   },
   {
    "duration": 17,
    "start_time": "2025-03-16T09:45:50.745Z"
   },
   {
    "duration": 4,
    "start_time": "2025-03-16T09:45:50.764Z"
   },
   {
    "duration": 11,
    "start_time": "2025-03-16T09:45:50.777Z"
   },
   {
    "duration": 3,
    "start_time": "2025-03-16T09:45:50.790Z"
   },
   {
    "duration": 5,
    "start_time": "2025-03-16T09:45:50.795Z"
   },
   {
    "duration": 6,
    "start_time": "2025-03-16T09:45:50.801Z"
   },
   {
    "duration": 5,
    "start_time": "2025-03-16T09:45:50.809Z"
   },
   {
    "duration": 23,
    "start_time": "2025-03-16T09:45:50.816Z"
   },
   {
    "duration": 46,
    "start_time": "2025-03-16T09:45:50.841Z"
   },
   {
    "duration": 9,
    "start_time": "2025-03-16T09:45:50.889Z"
   },
   {
    "duration": 22,
    "start_time": "2025-03-16T09:45:50.899Z"
   },
   {
    "duration": 10,
    "start_time": "2025-03-16T09:45:50.922Z"
   },
   {
    "duration": 195,
    "start_time": "2025-03-16T09:45:50.933Z"
   },
   {
    "duration": 195,
    "start_time": "2025-03-16T09:45:51.129Z"
   },
   {
    "duration": 9,
    "start_time": "2025-03-16T09:45:51.326Z"
   },
   {
    "duration": 7,
    "start_time": "2025-03-16T09:45:51.337Z"
   },
   {
    "duration": 5,
    "start_time": "2025-03-16T09:45:51.346Z"
   },
   {
    "duration": 29,
    "start_time": "2025-03-16T09:45:51.353Z"
   },
   {
    "duration": 6,
    "start_time": "2025-03-16T09:45:51.386Z"
   },
   {
    "duration": 4,
    "start_time": "2025-03-16T09:45:51.394Z"
   },
   {
    "duration": 14,
    "start_time": "2025-03-16T09:45:51.400Z"
   },
   {
    "duration": 12,
    "start_time": "2025-03-16T09:45:51.416Z"
   },
   {
    "duration": 61,
    "start_time": "2025-03-16T09:45:51.430Z"
   },
   {
    "duration": 25,
    "start_time": "2025-03-16T09:45:51.492Z"
   },
   {
    "duration": 38,
    "start_time": "2025-03-16T09:45:51.521Z"
   },
   {
    "duration": 29,
    "start_time": "2025-03-16T09:45:51.561Z"
   },
   {
    "duration": 21,
    "start_time": "2025-03-16T09:45:51.592Z"
   },
   {
    "duration": 4,
    "start_time": "2025-03-16T09:45:51.615Z"
   },
   {
    "duration": 23,
    "start_time": "2025-03-16T09:45:51.621Z"
   },
   {
    "duration": 41,
    "start_time": "2025-03-16T09:45:51.646Z"
   },
   {
    "duration": 15,
    "start_time": "2025-03-16T09:45:51.689Z"
   },
   {
    "duration": 16,
    "start_time": "2025-03-16T09:45:51.706Z"
   },
   {
    "duration": 20,
    "start_time": "2025-03-16T09:45:51.723Z"
   },
   {
    "duration": 26,
    "start_time": "2025-03-16T09:45:51.744Z"
   },
   {
    "duration": 19,
    "start_time": "2025-03-16T09:45:51.771Z"
   },
   {
    "duration": 7,
    "start_time": "2025-03-16T09:45:51.792Z"
   },
   {
    "duration": 16,
    "start_time": "2025-03-16T09:45:51.800Z"
   },
   {
    "duration": 11,
    "start_time": "2025-03-16T09:45:51.818Z"
   },
   {
    "duration": 16,
    "start_time": "2025-03-16T09:45:51.830Z"
   },
   {
    "duration": 16,
    "start_time": "2025-03-16T09:45:51.848Z"
   },
   {
    "duration": 24,
    "start_time": "2025-03-16T09:45:51.866Z"
   },
   {
    "duration": 8,
    "start_time": "2025-03-16T09:45:51.891Z"
   },
   {
    "duration": 22,
    "start_time": "2025-03-16T09:45:51.901Z"
   }
  ],
  "colab": {
   "provenance": []
  },
  "kernelspec": {
   "display_name": "Python 3 (ipykernel)",
   "language": "python",
   "name": "python3"
  },
  "language_info": {
   "codemirror_mode": {
    "name": "ipython",
    "version": 3
   },
   "file_extension": ".py",
   "mimetype": "text/x-python",
   "name": "python",
   "nbconvert_exporter": "python",
   "pygments_lexer": "ipython3",
   "version": "3.9.7"
  },
  "toc": {
   "base_numbering": 1,
   "nav_menu": {},
   "number_sections": true,
   "sideBar": true,
   "skip_h1_title": true,
   "title_cell": "Table of Contents",
   "title_sidebar": "Contents",
   "toc_cell": false,
   "toc_position": {
    "height": "calc(100% - 180px)",
    "left": "10px",
    "top": "150px",
    "width": "229px"
   },
   "toc_section_display": true,
   "toc_window_display": true
  }
 },
 "nbformat": 4,
 "nbformat_minor": 5
}
