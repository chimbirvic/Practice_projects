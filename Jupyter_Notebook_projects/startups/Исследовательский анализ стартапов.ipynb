{
 "cells": [
  {
   "cell_type": "markdown",
   "metadata": {
    "id": "4mJbK1knrJgz"
   },
   "source": [
    "# Проект: Исследование стартапов"
   ]
  },
  {
   "cell_type": "markdown",
   "metadata": {},
   "source": [
    "Автор: Чимбир В.И.\n",
    "\n",
    "Дата: 21.04.2025."
   ]
  },
  {
   "cell_type": "markdown",
   "metadata": {
    "id": "P6j0r3worJg0"
   },
   "source": [
    "## Введение"
   ]
  },
  {
   "cell_type": "markdown",
   "metadata": {},
   "source": [
    "Финансовая компания, которая предоставляет льготные займы стартапам, хочет войти на инвестиционный рынок с прицелом на покупку, развитие и последующую перепродажу перспективных стартапов. Для разработки модели бизнеса нужна информация. Чтобы выработать общее понимание, какие данные могут быть полезны, проводится исследование на исторических данных."
   ]
  },
  {
   "cell_type": "markdown",
   "metadata": {},
   "source": [
    "Цели проекта:\n",
    "\n",
    "Подготовить датасет и проверить, что данные в нём соответствуют здравому смыслу, а также ответить на вопросы заказчика как о предобработке, так и о значении данных для бизнеса."
   ]
  },
  {
   "cell_type": "markdown",
   "metadata": {
    "id": "xqr6uttCrJg0"
   },
   "source": [
    "\n",
    "## Шаг 1. Знакомство с данными: загрузка и первичная предобработка\n",
    "\n",
    "Названия файлов:\n",
    "* acquisition.csv\n",
    "* company_and_rounds.csv\n",
    "* people.csv\n",
    "* education.csv\n",
    "* degrees.csv\n",
    "\n",
    "Опциональные датасеты:\n",
    "* fund.csv\n",
    "* investment.csv\n",
    "\n",
    "\n",
    "### 1.1. Вывод общей информации, исправление названия столбцов\n",
    "\n",
    "- Загрузите все данные по проекту.\n",
    "- Проверьте названия столбцов.\n",
    "- Выведите информацию, которая необходима вам для принятия решений о предобработке, для каждого из датасетов."
   ]
  },
  {
   "cell_type": "code",
   "execution_count": 62,
   "metadata": {
    "colab": {
     "base_uri": "https://localhost:8080/"
    },
    "id": "W_W4jRazrJg0",
    "outputId": "d2409aad-233f-4bb4-ec71-7da96594f9df",
    "vscode": {
     "languageId": "plaintext"
    }
   },
   "outputs": [
    {
     "name": "stdout",
     "output_type": "stream",
     "text": [
      "Requirement already satisfied: matplotlib-venn in /Users/viktorcimbir/opt/anaconda3/lib/python3.9/site-packages (1.1.2)\r\n",
      "Requirement already satisfied: numpy in /Users/viktorcimbir/opt/anaconda3/lib/python3.9/site-packages (from matplotlib-venn) (1.20.3)\r\n",
      "Requirement already satisfied: scipy in /Users/viktorcimbir/opt/anaconda3/lib/python3.9/site-packages (from matplotlib-venn) (1.7.1)\r\n",
      "Requirement already satisfied: matplotlib in /Users/viktorcimbir/opt/anaconda3/lib/python3.9/site-packages (from matplotlib-venn) (3.4.3)\r\n",
      "Requirement already satisfied: python-dateutil>=2.7 in /Users/viktorcimbir/opt/anaconda3/lib/python3.9/site-packages (from matplotlib->matplotlib-venn) (2.8.2)\r\n",
      "Requirement already satisfied: kiwisolver>=1.0.1 in /Users/viktorcimbir/opt/anaconda3/lib/python3.9/site-packages (from matplotlib->matplotlib-venn) (1.3.1)\r\n",
      "Requirement already satisfied: pyparsing>=2.2.1 in /Users/viktorcimbir/opt/anaconda3/lib/python3.9/site-packages (from matplotlib->matplotlib-venn) (3.0.4)\r\n",
      "Requirement already satisfied: pillow>=6.2.0 in /Users/viktorcimbir/opt/anaconda3/lib/python3.9/site-packages (from matplotlib->matplotlib-venn) (8.4.0)\r\n",
      "Requirement already satisfied: cycler>=0.10 in /Users/viktorcimbir/opt/anaconda3/lib/python3.9/site-packages (from matplotlib->matplotlib-venn) (0.10.0)\r\n",
      "Requirement already satisfied: six in /Users/viktorcimbir/opt/anaconda3/lib/python3.9/site-packages (from cycler>=0.10->matplotlib->matplotlib-venn) (1.16.0)\r\n"
     ]
    }
   ],
   "source": [
    "# Импортируем библиотеку pandas\n",
    "import pandas as pd\n",
    "import matplotlib.pyplot as plt \n",
    "import seaborn as sns\n",
    "pd.options.mode.chained_assignment = None\n",
    "import sys\n",
    "!{sys.executable} -m pip install matplotlib-venn\n",
    "from matplotlib_venn import venn2, venn3 \n"
   ]
  },
  {
   "cell_type": "code",
   "execution_count": 2,
   "metadata": {
    "id": "2Tm4Pk__Felf"
   },
   "outputs": [],
   "source": [
    "# Загрузим необходимые датасеты\n",
    "acquisition_df = pd.read_csv('https://code.s3.yandex.net/datasets/acquisition.csv')\n",
    "company_and_rounds_df = pd.read_csv('https://code.s3.yandex.net/datasets/company_and_rounds.csv')\n",
    "people_df = pd.read_csv('https://code.s3.yandex.net/datasets/people.csv')\n",
    "education_df = pd.read_csv('https://code.s3.yandex.net/datasets/education.csv')\n",
    "degrees_df = pd.read_csv('https://code.s3.yandex.net/datasets/degrees.csv')\n",
    "\n",
    "# Загрузим дополнительные датасеты\n",
    "fund_df = pd.read_csv('https://code.s3.yandex.net/datasets/fund.csv')\n",
    "investment_df = pd.read_csv('https://code.s3.yandex.net/datasets/investment.csv')"
   ]
  },
  {
   "cell_type": "markdown",
   "metadata": {},
   "source": [
    "Таблица `acquisition` содержит информацию о покупках одними компаниями других компаний:\n",
    "\n",
    "- `id` — идентификатор покупки.\n",
    "- `acquiring_company_id` — идентификатор покупающей компании.\n",
    "- `acquired_company_id` — идентификатор покупаемой компании.\n",
    "- `term_code` — варианты расчёта.\n",
    "- `price_amount` — сумма сделки.\n",
    "- `acquired_at` — дата сделки."
   ]
  },
  {
   "cell_type": "code",
   "execution_count": 3,
   "metadata": {
    "id": "oNqJ2qpRFebv"
   },
   "outputs": [
    {
     "name": "stdout",
     "output_type": "stream",
     "text": [
      "<class 'pandas.core.frame.DataFrame'>\n",
      "RangeIndex: 9407 entries, 0 to 9406\n",
      "Data columns (total 6 columns):\n",
      " #   Column                Non-Null Count  Dtype \n",
      "---  ------                --------------  ----- \n",
      " 0   id                    9407 non-null   int64 \n",
      " 1   acquiring_company_id  9407 non-null   int64 \n",
      " 2   acquired_company_id   9407 non-null   int64 \n",
      " 3   term_code             1831 non-null   object\n",
      " 4   price_amount          9407 non-null   int64 \n",
      " 5   acquired_at           9378 non-null   object\n",
      "dtypes: int64(4), object(2)\n",
      "memory usage: 441.1+ KB\n"
     ]
    }
   ],
   "source": [
    "# Выгрузим информацию о датафрейме acquisition_df\n",
    "acquisition_df.info()"
   ]
  },
  {
   "cell_type": "code",
   "execution_count": 4,
   "metadata": {},
   "outputs": [
    {
     "data": {
      "text/html": [
       "<div>\n",
       "<style scoped>\n",
       "    .dataframe tbody tr th:only-of-type {\n",
       "        vertical-align: middle;\n",
       "    }\n",
       "\n",
       "    .dataframe tbody tr th {\n",
       "        vertical-align: top;\n",
       "    }\n",
       "\n",
       "    .dataframe thead th {\n",
       "        text-align: right;\n",
       "    }\n",
       "</style>\n",
       "<table border=\"1\" class=\"dataframe\">\n",
       "  <thead>\n",
       "    <tr style=\"text-align: right;\">\n",
       "      <th></th>\n",
       "      <th>id</th>\n",
       "      <th>acquiring_company_id</th>\n",
       "      <th>acquired_company_id</th>\n",
       "      <th>term_code</th>\n",
       "      <th>price_amount</th>\n",
       "      <th>acquired_at</th>\n",
       "    </tr>\n",
       "  </thead>\n",
       "  <tbody>\n",
       "    <tr>\n",
       "      <th>0</th>\n",
       "      <td>1</td>\n",
       "      <td>11</td>\n",
       "      <td>10</td>\n",
       "      <td>NaN</td>\n",
       "      <td>20000000</td>\n",
       "      <td>2007-05-30</td>\n",
       "    </tr>\n",
       "    <tr>\n",
       "      <th>1</th>\n",
       "      <td>7</td>\n",
       "      <td>59</td>\n",
       "      <td>72</td>\n",
       "      <td>cash</td>\n",
       "      <td>60000000</td>\n",
       "      <td>2007-07-01</td>\n",
       "    </tr>\n",
       "    <tr>\n",
       "      <th>2</th>\n",
       "      <td>8</td>\n",
       "      <td>24</td>\n",
       "      <td>132</td>\n",
       "      <td>cash</td>\n",
       "      <td>280000000</td>\n",
       "      <td>2007-05-01</td>\n",
       "    </tr>\n",
       "    <tr>\n",
       "      <th>3</th>\n",
       "      <td>9</td>\n",
       "      <td>59</td>\n",
       "      <td>155</td>\n",
       "      <td>cash</td>\n",
       "      <td>100000000</td>\n",
       "      <td>2007-06-01</td>\n",
       "    </tr>\n",
       "    <tr>\n",
       "      <th>4</th>\n",
       "      <td>10</td>\n",
       "      <td>212</td>\n",
       "      <td>215</td>\n",
       "      <td>cash</td>\n",
       "      <td>25000000</td>\n",
       "      <td>2007-07-01</td>\n",
       "    </tr>\n",
       "  </tbody>\n",
       "</table>\n",
       "</div>"
      ],
      "text/plain": [
       "   id  acquiring_company_id  acquired_company_id term_code  price_amount  \\\n",
       "0   1                    11                   10       NaN      20000000   \n",
       "1   7                    59                   72      cash      60000000   \n",
       "2   8                    24                  132      cash     280000000   \n",
       "3   9                    59                  155      cash     100000000   \n",
       "4  10                   212                  215      cash      25000000   \n",
       "\n",
       "  acquired_at  \n",
       "0  2007-05-30  \n",
       "1  2007-07-01  \n",
       "2  2007-05-01  \n",
       "3  2007-06-01  \n",
       "4  2007-07-01  "
      ]
     },
     "execution_count": 4,
     "metadata": {},
     "output_type": "execute_result"
    }
   ],
   "source": [
    "acquisition_df.head()"
   ]
  },
  {
   "cell_type": "markdown",
   "metadata": {},
   "source": [
    "Названия столбцов датафрейма `acquisition_df` соответсвуют данным и единому стилю.  "
   ]
  },
  {
   "cell_type": "markdown",
   "metadata": {},
   "source": [
    "-----"
   ]
  },
  {
   "cell_type": "markdown",
   "metadata": {},
   "source": [
    "Таблица `company_and_rounds` cодержит информацию о компаниях и раундах финансирования:\n",
    "\n",
    "- `company ID` — идентификатор компании.\n",
    "- `name` — название компании.\n",
    "- `category code` — категория области деятельности компании.\n",
    "- `status` — статус компании.\n",
    "- `founded at` — дата инвестирования.\n",
    "- `closed at` — дата закрытия компании.\n",
    "- `domain` — официальный сайт компании.\n",
    "- `network username` — ник компании в сети.\n",
    "- `country code` — код страны компании.\n",
    "- `investment rounds` — число инвестиционных раундов.\n",
    "- `funding rounds` — число раундов финансирования.\n",
    "- `funding total` — сумма финансирования.\n",
    "- `milestones` — вехи финансирования.\n",
    "- `funding round id` — идентификатор этапа финансирования.\n",
    "- `company id` — идентификатор компании.\n",
    "- `funded at` — дата финансирования.\n",
    "- `funding round type` — тип финансирования.\n",
    "- `raised amount` — сумма финансирования.\n",
    "- `pre money valuation` — предварительная денежная оценка.\n",
    "- `participants` — число участников.\n",
    "- `is first round` — является ли раунд первым.\n",
    "- `is last round` — является раунд последним.\n"
   ]
  },
  {
   "cell_type": "code",
   "execution_count": 5,
   "metadata": {},
   "outputs": [
    {
     "name": "stdout",
     "output_type": "stream",
     "text": [
      "<class 'pandas.core.frame.DataFrame'>\n",
      "RangeIndex: 217774 entries, 0 to 217773\n",
      "Data columns (total 22 columns):\n",
      " #   Column                 Non-Null Count   Dtype  \n",
      "---  ------                 --------------   -----  \n",
      " 0   company  ID            217472 non-null  float64\n",
      " 1   name                   217472 non-null  object \n",
      " 2   category  code         143886 non-null  object \n",
      " 3   status                 217472 non-null  object \n",
      " 4   founded  at            109956 non-null  object \n",
      " 5   closed  at             3449 non-null    object \n",
      " 6   domain                 147159 non-null  object \n",
      " 7   network  username      95534 non-null   object \n",
      " 8   country  code          108607 non-null  object \n",
      " 9   investment  rounds     217472 non-null  float64\n",
      " 10  funding  rounds        217472 non-null  float64\n",
      " 11  funding  total         217472 non-null  float64\n",
      " 12  milestones             217472 non-null  float64\n",
      " 13  funding  round  id     52928 non-null   float64\n",
      " 14  company  id            52928 non-null   float64\n",
      " 15  funded  at             52680 non-null   object \n",
      " 16  funding  round  type   52928 non-null   object \n",
      " 17  raised  amount         52928 non-null   float64\n",
      " 18  pre  money  valuation  52928 non-null   float64\n",
      " 19  participants           52928 non-null   float64\n",
      " 20  is  first  round       52928 non-null   float64\n",
      " 21  is  last  round        52928 non-null   float64\n",
      "dtypes: float64(12), object(10)\n",
      "memory usage: 36.6+ MB\n"
     ]
    }
   ],
   "source": [
    "# Выгрузим информацию о датафрейме company_and_rounds_df\n",
    "company_and_rounds_df.info()"
   ]
  },
  {
   "cell_type": "code",
   "execution_count": 6,
   "metadata": {},
   "outputs": [
    {
     "data": {
      "text/html": [
       "<div>\n",
       "<style scoped>\n",
       "    .dataframe tbody tr th:only-of-type {\n",
       "        vertical-align: middle;\n",
       "    }\n",
       "\n",
       "    .dataframe tbody tr th {\n",
       "        vertical-align: top;\n",
       "    }\n",
       "\n",
       "    .dataframe thead th {\n",
       "        text-align: right;\n",
       "    }\n",
       "</style>\n",
       "<table border=\"1\" class=\"dataframe\">\n",
       "  <thead>\n",
       "    <tr style=\"text-align: right;\">\n",
       "      <th></th>\n",
       "      <th>company  ID</th>\n",
       "      <th>name</th>\n",
       "      <th>category  code</th>\n",
       "      <th>status</th>\n",
       "      <th>founded  at</th>\n",
       "      <th>closed  at</th>\n",
       "      <th>domain</th>\n",
       "      <th>network  username</th>\n",
       "      <th>country  code</th>\n",
       "      <th>investment  rounds</th>\n",
       "      <th>...</th>\n",
       "      <th>milestones</th>\n",
       "      <th>funding  round  id</th>\n",
       "      <th>company  id</th>\n",
       "      <th>funded  at</th>\n",
       "      <th>funding  round  type</th>\n",
       "      <th>raised  amount</th>\n",
       "      <th>pre  money  valuation</th>\n",
       "      <th>participants</th>\n",
       "      <th>is  first  round</th>\n",
       "      <th>is  last  round</th>\n",
       "    </tr>\n",
       "  </thead>\n",
       "  <tbody>\n",
       "    <tr>\n",
       "      <th>0</th>\n",
       "      <td>1.0</td>\n",
       "      <td>Wetpaint</td>\n",
       "      <td>web</td>\n",
       "      <td>operating</td>\n",
       "      <td>2005-10-17</td>\n",
       "      <td>NaN</td>\n",
       "      <td>wetpaint-inc.com</td>\n",
       "      <td>BachelrWetpaint</td>\n",
       "      <td>USA</td>\n",
       "      <td>0.0</td>\n",
       "      <td>...</td>\n",
       "      <td>5.0</td>\n",
       "      <td>888.0</td>\n",
       "      <td>1.0</td>\n",
       "      <td>2005-10-01</td>\n",
       "      <td>series-a</td>\n",
       "      <td>5250000.0</td>\n",
       "      <td>0.0</td>\n",
       "      <td>2.0</td>\n",
       "      <td>0.0</td>\n",
       "      <td>1.0</td>\n",
       "    </tr>\n",
       "    <tr>\n",
       "      <th>1</th>\n",
       "      <td>1.0</td>\n",
       "      <td>Wetpaint</td>\n",
       "      <td>web</td>\n",
       "      <td>operating</td>\n",
       "      <td>2005-10-17</td>\n",
       "      <td>NaN</td>\n",
       "      <td>wetpaint-inc.com</td>\n",
       "      <td>BachelrWetpaint</td>\n",
       "      <td>USA</td>\n",
       "      <td>0.0</td>\n",
       "      <td>...</td>\n",
       "      <td>5.0</td>\n",
       "      <td>889.0</td>\n",
       "      <td>1.0</td>\n",
       "      <td>2007-01-01</td>\n",
       "      <td>series-b</td>\n",
       "      <td>9500000.0</td>\n",
       "      <td>0.0</td>\n",
       "      <td>3.0</td>\n",
       "      <td>0.0</td>\n",
       "      <td>0.0</td>\n",
       "    </tr>\n",
       "    <tr>\n",
       "      <th>2</th>\n",
       "      <td>1.0</td>\n",
       "      <td>Wetpaint</td>\n",
       "      <td>web</td>\n",
       "      <td>operating</td>\n",
       "      <td>2005-10-17</td>\n",
       "      <td>NaN</td>\n",
       "      <td>wetpaint-inc.com</td>\n",
       "      <td>BachelrWetpaint</td>\n",
       "      <td>USA</td>\n",
       "      <td>0.0</td>\n",
       "      <td>...</td>\n",
       "      <td>5.0</td>\n",
       "      <td>2312.0</td>\n",
       "      <td>1.0</td>\n",
       "      <td>2008-05-19</td>\n",
       "      <td>series-c+</td>\n",
       "      <td>25000000.0</td>\n",
       "      <td>0.0</td>\n",
       "      <td>4.0</td>\n",
       "      <td>1.0</td>\n",
       "      <td>0.0</td>\n",
       "    </tr>\n",
       "    <tr>\n",
       "      <th>3</th>\n",
       "      <td>10.0</td>\n",
       "      <td>Flektor</td>\n",
       "      <td>games_video</td>\n",
       "      <td>acquired</td>\n",
       "      <td>NaN</td>\n",
       "      <td>NaN</td>\n",
       "      <td>flektor.com</td>\n",
       "      <td>NaN</td>\n",
       "      <td>USA</td>\n",
       "      <td>0.0</td>\n",
       "      <td>...</td>\n",
       "      <td>0.0</td>\n",
       "      <td>NaN</td>\n",
       "      <td>NaN</td>\n",
       "      <td>NaN</td>\n",
       "      <td>NaN</td>\n",
       "      <td>NaN</td>\n",
       "      <td>NaN</td>\n",
       "      <td>NaN</td>\n",
       "      <td>NaN</td>\n",
       "      <td>NaN</td>\n",
       "    </tr>\n",
       "    <tr>\n",
       "      <th>4</th>\n",
       "      <td>100.0</td>\n",
       "      <td>There</td>\n",
       "      <td>games_video</td>\n",
       "      <td>acquired</td>\n",
       "      <td>NaN</td>\n",
       "      <td>NaN</td>\n",
       "      <td>there.com</td>\n",
       "      <td>NaN</td>\n",
       "      <td>USA</td>\n",
       "      <td>0.0</td>\n",
       "      <td>...</td>\n",
       "      <td>4.0</td>\n",
       "      <td>NaN</td>\n",
       "      <td>NaN</td>\n",
       "      <td>NaN</td>\n",
       "      <td>NaN</td>\n",
       "      <td>NaN</td>\n",
       "      <td>NaN</td>\n",
       "      <td>NaN</td>\n",
       "      <td>NaN</td>\n",
       "      <td>NaN</td>\n",
       "    </tr>\n",
       "  </tbody>\n",
       "</table>\n",
       "<p>5 rows × 22 columns</p>\n",
       "</div>"
      ],
      "text/plain": [
       "   company  ID      name category  code     status founded  at closed  at  \\\n",
       "0          1.0  Wetpaint            web  operating  2005-10-17        NaN   \n",
       "1          1.0  Wetpaint            web  operating  2005-10-17        NaN   \n",
       "2          1.0  Wetpaint            web  operating  2005-10-17        NaN   \n",
       "3         10.0   Flektor    games_video   acquired         NaN        NaN   \n",
       "4        100.0     There    games_video   acquired         NaN        NaN   \n",
       "\n",
       "             domain network  username country  code  investment  rounds  ...  \\\n",
       "0  wetpaint-inc.com   BachelrWetpaint           USA                 0.0  ...   \n",
       "1  wetpaint-inc.com   BachelrWetpaint           USA                 0.0  ...   \n",
       "2  wetpaint-inc.com   BachelrWetpaint           USA                 0.0  ...   \n",
       "3       flektor.com               NaN           USA                 0.0  ...   \n",
       "4         there.com               NaN           USA                 0.0  ...   \n",
       "\n",
       "   milestones  funding  round  id  company  id  funded  at  \\\n",
       "0         5.0               888.0          1.0  2005-10-01   \n",
       "1         5.0               889.0          1.0  2007-01-01   \n",
       "2         5.0              2312.0          1.0  2008-05-19   \n",
       "3         0.0                 NaN          NaN         NaN   \n",
       "4         4.0                 NaN          NaN         NaN   \n",
       "\n",
       "   funding  round  type raised  amount pre  money  valuation  participants  \\\n",
       "0              series-a      5250000.0                   0.0           2.0   \n",
       "1              series-b      9500000.0                   0.0           3.0   \n",
       "2             series-c+     25000000.0                   0.0           4.0   \n",
       "3                   NaN            NaN                   NaN           NaN   \n",
       "4                   NaN            NaN                   NaN           NaN   \n",
       "\n",
       "   is  first  round  is  last  round  \n",
       "0               0.0              1.0  \n",
       "1               0.0              0.0  \n",
       "2               1.0              0.0  \n",
       "3               NaN              NaN  \n",
       "4               NaN              NaN  \n",
       "\n",
       "[5 rows x 22 columns]"
      ]
     },
     "execution_count": 6,
     "metadata": {},
     "output_type": "execute_result"
    }
   ],
   "source": [
    "company_and_rounds_df.head()"
   ]
  },
  {
   "cell_type": "markdown",
   "metadata": {},
   "source": [
    "Названия столбцов датафрейма `company_and_rounds` следует отредактировать: привести все столбцы к единому стилю snake_case."
   ]
  },
  {
   "cell_type": "code",
   "execution_count": 7,
   "metadata": {},
   "outputs": [],
   "source": [
    "# Приведем названия столбцов к единому стилю\n",
    "company_and_rounds_df = company_and_rounds_df.rename(columns = {'company  ID':'company_id_x',\n",
    "                                                                'category  code':'category_code',\n",
    "                                                                'founded  at': 'founded_at',\n",
    "                                                                'closed  at': 'closed_at',\n",
    "                                                                'network  username':'network_username',\n",
    "                                                                'country  code':'country_code',\n",
    "                                                                'investment  rounds':'investment_rounds',\n",
    "                                                                'funding  rounds':'funding_rounds',\n",
    "                                                                'funding  total' : 'funding_total',\n",
    "                                                                'funding  round  id':'funding_round_id',\n",
    "                                                                'company  id':'company_id',\n",
    "                                                                'funded  at':'funded_at',\n",
    "                                                                'funding  round  type':'funding_round_type',\n",
    "                                                                'raised  amount':'raised_amount',\n",
    "                                                                'pre  money  valuation':'pre_money_valuation',\n",
    "                                                                'is  first  round':'is_first_round',\n",
    "                                                                'is  last  round':'is_last_round'})"
   ]
  },
  {
   "cell_type": "code",
   "execution_count": 8,
   "metadata": {},
   "outputs": [
    {
     "name": "stdout",
     "output_type": "stream",
     "text": [
      "<class 'pandas.core.frame.DataFrame'>\n",
      "RangeIndex: 217774 entries, 0 to 217773\n",
      "Data columns (total 22 columns):\n",
      " #   Column               Non-Null Count   Dtype  \n",
      "---  ------               --------------   -----  \n",
      " 0   company_id_x         217472 non-null  float64\n",
      " 1   name                 217472 non-null  object \n",
      " 2   category_code        143886 non-null  object \n",
      " 3   status               217472 non-null  object \n",
      " 4   founded_at           109956 non-null  object \n",
      " 5   closed_at            3449 non-null    object \n",
      " 6   domain               147159 non-null  object \n",
      " 7   network_username     95534 non-null   object \n",
      " 8   country_code         108607 non-null  object \n",
      " 9   investment_rounds    217472 non-null  float64\n",
      " 10  funding_rounds       217472 non-null  float64\n",
      " 11  funding_total        217472 non-null  float64\n",
      " 12  milestones           217472 non-null  float64\n",
      " 13  funding_round_id     52928 non-null   float64\n",
      " 14  company_id           52928 non-null   float64\n",
      " 15  funded_at            52680 non-null   object \n",
      " 16  funding_round_type   52928 non-null   object \n",
      " 17  raised_amount        52928 non-null   float64\n",
      " 18  pre_money_valuation  52928 non-null   float64\n",
      " 19  participants         52928 non-null   float64\n",
      " 20  is_first_round       52928 non-null   float64\n",
      " 21  is_last_round        52928 non-null   float64\n",
      "dtypes: float64(12), object(10)\n",
      "memory usage: 36.6+ MB\n"
     ]
    }
   ],
   "source": [
    "# Проверим результат\n",
    "company_and_rounds_df.info()"
   ]
  },
  {
   "cell_type": "markdown",
   "metadata": {},
   "source": [
    "Наблюдаем дюбликат столбца `company_id`"
   ]
  },
  {
   "cell_type": "markdown",
   "metadata": {},
   "source": [
    "-----\n"
   ]
  },
  {
   "cell_type": "markdown",
   "metadata": {},
   "source": [
    "Таблица `people` cодержит информацию о сотрудниках:\n",
    "\n",
    "- `id` — идентификатор сотрудника.\n",
    "- `first_name` — имя сотрудника.\n",
    "- `last_name` — фамилия сотрудника.\n",
    "- `company_id` — идентификатор компании.\n",
    "- `network_username` — ник в социальных сетях.\n"
   ]
  },
  {
   "cell_type": "code",
   "execution_count": 9,
   "metadata": {},
   "outputs": [
    {
     "name": "stdout",
     "output_type": "stream",
     "text": [
      "<class 'pandas.core.frame.DataFrame'>\n",
      "RangeIndex: 226709 entries, 0 to 226708\n",
      "Data columns (total 5 columns):\n",
      " #   Column            Non-Null Count   Dtype  \n",
      "---  ------            --------------   -----  \n",
      " 0   id                226709 non-null  int64  \n",
      " 1   first_name        226704 non-null  object \n",
      " 2   last_name         226708 non-null  object \n",
      " 3   company_id        34615 non-null   float64\n",
      " 4   network_username  38867 non-null   object \n",
      "dtypes: float64(1), int64(1), object(3)\n",
      "memory usage: 8.6+ MB\n"
     ]
    }
   ],
   "source": [
    "# Выгрузим информацию о датафрейме people_df\n",
    "people_df.info()"
   ]
  },
  {
   "cell_type": "code",
   "execution_count": 10,
   "metadata": {},
   "outputs": [
    {
     "data": {
      "text/html": [
       "<div>\n",
       "<style scoped>\n",
       "    .dataframe tbody tr th:only-of-type {\n",
       "        vertical-align: middle;\n",
       "    }\n",
       "\n",
       "    .dataframe tbody tr th {\n",
       "        vertical-align: top;\n",
       "    }\n",
       "\n",
       "    .dataframe thead th {\n",
       "        text-align: right;\n",
       "    }\n",
       "</style>\n",
       "<table border=\"1\" class=\"dataframe\">\n",
       "  <thead>\n",
       "    <tr style=\"text-align: right;\">\n",
       "      <th></th>\n",
       "      <th>id</th>\n",
       "      <th>first_name</th>\n",
       "      <th>last_name</th>\n",
       "      <th>company_id</th>\n",
       "      <th>network_username</th>\n",
       "    </tr>\n",
       "  </thead>\n",
       "  <tbody>\n",
       "    <tr>\n",
       "      <th>0</th>\n",
       "      <td>10</td>\n",
       "      <td>Mark</td>\n",
       "      <td>Zuckerberg</td>\n",
       "      <td>5.0</td>\n",
       "      <td>NaN</td>\n",
       "    </tr>\n",
       "    <tr>\n",
       "      <th>1</th>\n",
       "      <td>100</td>\n",
       "      <td>Peter</td>\n",
       "      <td>Lester</td>\n",
       "      <td>27.0</td>\n",
       "      <td>NaN</td>\n",
       "    </tr>\n",
       "    <tr>\n",
       "      <th>2</th>\n",
       "      <td>1000</td>\n",
       "      <td>Dr. Steven</td>\n",
       "      <td>E. Saunders</td>\n",
       "      <td>292.0</td>\n",
       "      <td>NaN</td>\n",
       "    </tr>\n",
       "    <tr>\n",
       "      <th>3</th>\n",
       "      <td>10000</td>\n",
       "      <td>Neil</td>\n",
       "      <td>Capel</td>\n",
       "      <td>2526.0</td>\n",
       "      <td>NaN</td>\n",
       "    </tr>\n",
       "    <tr>\n",
       "      <th>4</th>\n",
       "      <td>100000</td>\n",
       "      <td>Sue</td>\n",
       "      <td>Pilsch</td>\n",
       "      <td>NaN</td>\n",
       "      <td>NaN</td>\n",
       "    </tr>\n",
       "  </tbody>\n",
       "</table>\n",
       "</div>"
      ],
      "text/plain": [
       "       id  first_name    last_name  company_id network_username\n",
       "0      10        Mark   Zuckerberg         5.0              NaN\n",
       "1     100       Peter       Lester        27.0              NaN\n",
       "2    1000  Dr. Steven  E. Saunders       292.0              NaN\n",
       "3   10000        Neil        Capel      2526.0              NaN\n",
       "4  100000         Sue       Pilsch         NaN              NaN"
      ]
     },
     "execution_count": 10,
     "metadata": {},
     "output_type": "execute_result"
    }
   ],
   "source": [
    "people_df.head()"
   ]
  },
  {
   "cell_type": "markdown",
   "metadata": {},
   "source": [
    "Названия столбцов датафрейма `people_df` соответсвуют содержанию и представлены в едином стиле."
   ]
  },
  {
   "cell_type": "markdown",
   "metadata": {},
   "source": [
    "-----"
   ]
  },
  {
   "cell_type": "markdown",
   "metadata": {},
   "source": [
    "Таблица `education` cодержит информацию об образовании сотрудника:\n",
    "\n",
    "\n",
    "- `id` — идентификатор записи об образовании.\n",
    "- `person_id` — идентификатор работника.\n",
    "- `instituition` — название учебного заведения.\n",
    "- `graduated_at` — дата получения образования.\n"
   ]
  },
  {
   "cell_type": "code",
   "execution_count": 11,
   "metadata": {},
   "outputs": [
    {
     "name": "stdout",
     "output_type": "stream",
     "text": [
      "<class 'pandas.core.frame.DataFrame'>\n",
      "RangeIndex: 109610 entries, 0 to 109609\n",
      "Data columns (total 4 columns):\n",
      " #   Column        Non-Null Count   Dtype \n",
      "---  ------        --------------   ----- \n",
      " 0   id            109610 non-null  int64 \n",
      " 1   person_id     109610 non-null  int64 \n",
      " 2   instituition  109555 non-null  object\n",
      " 3   graduated_at  58054 non-null   object\n",
      "dtypes: int64(2), object(2)\n",
      "memory usage: 3.3+ MB\n"
     ]
    }
   ],
   "source": [
    "# Выгрузим информацию о датафрейме education_df\n",
    "education_df.info()"
   ]
  },
  {
   "cell_type": "code",
   "execution_count": 12,
   "metadata": {},
   "outputs": [
    {
     "data": {
      "text/html": [
       "<div>\n",
       "<style scoped>\n",
       "    .dataframe tbody tr th:only-of-type {\n",
       "        vertical-align: middle;\n",
       "    }\n",
       "\n",
       "    .dataframe tbody tr th {\n",
       "        vertical-align: top;\n",
       "    }\n",
       "\n",
       "    .dataframe thead th {\n",
       "        text-align: right;\n",
       "    }\n",
       "</style>\n",
       "<table border=\"1\" class=\"dataframe\">\n",
       "  <thead>\n",
       "    <tr style=\"text-align: right;\">\n",
       "      <th></th>\n",
       "      <th>id</th>\n",
       "      <th>person_id</th>\n",
       "      <th>instituition</th>\n",
       "      <th>graduated_at</th>\n",
       "    </tr>\n",
       "  </thead>\n",
       "  <tbody>\n",
       "    <tr>\n",
       "      <th>0</th>\n",
       "      <td>1</td>\n",
       "      <td>6117</td>\n",
       "      <td>NaN</td>\n",
       "      <td>NaN</td>\n",
       "    </tr>\n",
       "    <tr>\n",
       "      <th>1</th>\n",
       "      <td>2</td>\n",
       "      <td>6136</td>\n",
       "      <td>Washington University, St. Louis</td>\n",
       "      <td>1990-01-01</td>\n",
       "    </tr>\n",
       "    <tr>\n",
       "      <th>2</th>\n",
       "      <td>3</td>\n",
       "      <td>6136</td>\n",
       "      <td>Boston University</td>\n",
       "      <td>1992-01-01</td>\n",
       "    </tr>\n",
       "    <tr>\n",
       "      <th>3</th>\n",
       "      <td>4</td>\n",
       "      <td>6005</td>\n",
       "      <td>University of Greenwich</td>\n",
       "      <td>2006-01-01</td>\n",
       "    </tr>\n",
       "    <tr>\n",
       "      <th>4</th>\n",
       "      <td>5</td>\n",
       "      <td>5832</td>\n",
       "      <td>Rice University</td>\n",
       "      <td>NaN</td>\n",
       "    </tr>\n",
       "  </tbody>\n",
       "</table>\n",
       "</div>"
      ],
      "text/plain": [
       "   id  person_id                      instituition graduated_at\n",
       "0   1       6117                               NaN          NaN\n",
       "1   2       6136  Washington University, St. Louis   1990-01-01\n",
       "2   3       6136                 Boston University   1992-01-01\n",
       "3   4       6005           University of Greenwich   2006-01-01\n",
       "4   5       5832                   Rice University          NaN"
      ]
     },
     "execution_count": 12,
     "metadata": {},
     "output_type": "execute_result"
    }
   ],
   "source": [
    "education_df.head()"
   ]
  },
  {
   "cell_type": "markdown",
   "metadata": {},
   "source": [
    "Столбцы датафрейма `education_df` соответсвуют содержанию и представлены в едином стиле."
   ]
  },
  {
   "cell_type": "markdown",
   "metadata": {},
   "source": [
    "------"
   ]
  },
  {
   "cell_type": "markdown",
   "metadata": {},
   "source": [
    "Таблица `degrees` cодержит информацию о типе образования сотрудника:\n",
    "\n",
    "- `id` — идентификатор записи.\n",
    "- `object_id` — идентификатор сотрудника.\n",
    "- `degree_type` — тип образования.\n",
    "- `subject` — специальность.\n"
   ]
  },
  {
   "cell_type": "code",
   "execution_count": 13,
   "metadata": {},
   "outputs": [
    {
     "name": "stdout",
     "output_type": "stream",
     "text": [
      "<class 'pandas.core.frame.DataFrame'>\n",
      "RangeIndex: 109610 entries, 0 to 109609\n",
      "Data columns (total 4 columns):\n",
      " #   Column       Non-Null Count   Dtype \n",
      "---  ------       --------------   ----- \n",
      " 0   id           109610 non-null  int64 \n",
      " 1   object_id    109610 non-null  object\n",
      " 2   degree_type  98392 non-null   object\n",
      " 3   subject      81298 non-null   object\n",
      "dtypes: int64(1), object(3)\n",
      "memory usage: 3.3+ MB\n"
     ]
    }
   ],
   "source": [
    "# Выгрузим информацию о датафрейме degrees_df\n",
    "degrees_df.info()"
   ]
  },
  {
   "cell_type": "code",
   "execution_count": 14,
   "metadata": {},
   "outputs": [
    {
     "data": {
      "text/html": [
       "<div>\n",
       "<style scoped>\n",
       "    .dataframe tbody tr th:only-of-type {\n",
       "        vertical-align: middle;\n",
       "    }\n",
       "\n",
       "    .dataframe tbody tr th {\n",
       "        vertical-align: top;\n",
       "    }\n",
       "\n",
       "    .dataframe thead th {\n",
       "        text-align: right;\n",
       "    }\n",
       "</style>\n",
       "<table border=\"1\" class=\"dataframe\">\n",
       "  <thead>\n",
       "    <tr style=\"text-align: right;\">\n",
       "      <th></th>\n",
       "      <th>id</th>\n",
       "      <th>object_id</th>\n",
       "      <th>degree_type</th>\n",
       "      <th>subject</th>\n",
       "    </tr>\n",
       "  </thead>\n",
       "  <tbody>\n",
       "    <tr>\n",
       "      <th>0</th>\n",
       "      <td>1</td>\n",
       "      <td>p:6117</td>\n",
       "      <td>MBA</td>\n",
       "      <td>NaN</td>\n",
       "    </tr>\n",
       "    <tr>\n",
       "      <th>1</th>\n",
       "      <td>2</td>\n",
       "      <td>p:6136</td>\n",
       "      <td>BA</td>\n",
       "      <td>English, French</td>\n",
       "    </tr>\n",
       "    <tr>\n",
       "      <th>2</th>\n",
       "      <td>3</td>\n",
       "      <td>p:6136</td>\n",
       "      <td>MS</td>\n",
       "      <td>Mass Communication</td>\n",
       "    </tr>\n",
       "    <tr>\n",
       "      <th>3</th>\n",
       "      <td>4</td>\n",
       "      <td>p:6005</td>\n",
       "      <td>MS</td>\n",
       "      <td>Internet Technology</td>\n",
       "    </tr>\n",
       "    <tr>\n",
       "      <th>4</th>\n",
       "      <td>5</td>\n",
       "      <td>p:5832</td>\n",
       "      <td>BCS</td>\n",
       "      <td>Computer Science, Psychology</td>\n",
       "    </tr>\n",
       "  </tbody>\n",
       "</table>\n",
       "</div>"
      ],
      "text/plain": [
       "   id object_id degree_type                       subject\n",
       "0   1    p:6117         MBA                           NaN\n",
       "1   2    p:6136          BA               English, French\n",
       "2   3    p:6136          MS            Mass Communication\n",
       "3   4    p:6005          MS           Internet Technology\n",
       "4   5    p:5832         BCS  Computer Science, Psychology"
      ]
     },
     "execution_count": 14,
     "metadata": {},
     "output_type": "execute_result"
    }
   ],
   "source": [
    "degrees_df.head()"
   ]
  },
  {
   "cell_type": "markdown",
   "metadata": {},
   "source": [
    "Данные датафрейма `degrees_df` соответсвуют содержанию и представлены в едином стиле."
   ]
  },
  {
   "cell_type": "markdown",
   "metadata": {},
   "source": [
    "----"
   ]
  },
  {
   "cell_type": "markdown",
   "metadata": {},
   "source": [
    "Таблица `fund` cодержит информацию о фондах:\n",
    "\n",
    "- `id` — идентификатор фонда.\n",
    "- `name` — название фонда.\n",
    "- `category_code` — категория области деятельности компании.\n",
    "- `founded_at` — дата создания фонда.\n",
    "- `domain` — сайт фонда.\n",
    "- `network_username` — ник фонда в сети.\n",
    "- `country_code` — код страны фонда.\n",
    "- `investment_rounds` — число инвестиционных раундов.\n",
    "- `invested_companies` — число профинансированных компаний.\n",
    "- `milestones` — вехи финансирования.\n"
   ]
  },
  {
   "cell_type": "code",
   "execution_count": 15,
   "metadata": {},
   "outputs": [
    {
     "name": "stdout",
     "output_type": "stream",
     "text": [
      "<class 'pandas.core.frame.DataFrame'>\n",
      "RangeIndex: 11652 entries, 0 to 11651\n",
      "Data columns (total 9 columns):\n",
      " #   Column              Non-Null Count  Dtype \n",
      "---  ------              --------------  ----- \n",
      " 0   id                  11652 non-null  int64 \n",
      " 1   name                11650 non-null  object\n",
      " 2   founded_at          4605 non-null   object\n",
      " 3   domain              7362 non-null   object\n",
      " 4   network_username    2149 non-null   object\n",
      " 5   country_code        7053 non-null   object\n",
      " 6   investment_rounds   11652 non-null  int64 \n",
      " 7   invested_companies  11652 non-null  int64 \n",
      " 8   milestones          11652 non-null  int64 \n",
      "dtypes: int64(4), object(5)\n",
      "memory usage: 819.4+ KB\n"
     ]
    }
   ],
   "source": [
    "# Выгрузим информацию о датафрейме fund_df\n",
    "fund_df.info()"
   ]
  },
  {
   "cell_type": "code",
   "execution_count": 16,
   "metadata": {},
   "outputs": [
    {
     "data": {
      "text/html": [
       "<div>\n",
       "<style scoped>\n",
       "    .dataframe tbody tr th:only-of-type {\n",
       "        vertical-align: middle;\n",
       "    }\n",
       "\n",
       "    .dataframe tbody tr th {\n",
       "        vertical-align: top;\n",
       "    }\n",
       "\n",
       "    .dataframe thead th {\n",
       "        text-align: right;\n",
       "    }\n",
       "</style>\n",
       "<table border=\"1\" class=\"dataframe\">\n",
       "  <thead>\n",
       "    <tr style=\"text-align: right;\">\n",
       "      <th></th>\n",
       "      <th>id</th>\n",
       "      <th>name</th>\n",
       "      <th>founded_at</th>\n",
       "      <th>domain</th>\n",
       "      <th>network_username</th>\n",
       "      <th>country_code</th>\n",
       "      <th>investment_rounds</th>\n",
       "      <th>invested_companies</th>\n",
       "      <th>milestones</th>\n",
       "    </tr>\n",
       "  </thead>\n",
       "  <tbody>\n",
       "    <tr>\n",
       "      <th>0</th>\n",
       "      <td>13131</td>\n",
       "      <td>NaN</td>\n",
       "      <td>NaN</td>\n",
       "      <td>NaN</td>\n",
       "      <td>NaN</td>\n",
       "      <td>NaN</td>\n",
       "      <td>0</td>\n",
       "      <td>0</td>\n",
       "      <td>0</td>\n",
       "    </tr>\n",
       "    <tr>\n",
       "      <th>1</th>\n",
       "      <td>1</td>\n",
       "      <td>Greylock Partners</td>\n",
       "      <td>1965-01-01</td>\n",
       "      <td>greylock.com</td>\n",
       "      <td>greylockvc</td>\n",
       "      <td>USA</td>\n",
       "      <td>307</td>\n",
       "      <td>196</td>\n",
       "      <td>0</td>\n",
       "    </tr>\n",
       "    <tr>\n",
       "      <th>2</th>\n",
       "      <td>10</td>\n",
       "      <td>Mission Ventures</td>\n",
       "      <td>1996-01-01</td>\n",
       "      <td>missionventures.com</td>\n",
       "      <td>NaN</td>\n",
       "      <td>USA</td>\n",
       "      <td>58</td>\n",
       "      <td>33</td>\n",
       "      <td>0</td>\n",
       "    </tr>\n",
       "    <tr>\n",
       "      <th>3</th>\n",
       "      <td>100</td>\n",
       "      <td>Kapor Enterprises, Inc.</td>\n",
       "      <td>NaN</td>\n",
       "      <td>kei.com</td>\n",
       "      <td>NaN</td>\n",
       "      <td>USA</td>\n",
       "      <td>2</td>\n",
       "      <td>1</td>\n",
       "      <td>0</td>\n",
       "    </tr>\n",
       "    <tr>\n",
       "      <th>4</th>\n",
       "      <td>1000</td>\n",
       "      <td>Speed Ventures</td>\n",
       "      <td>NaN</td>\n",
       "      <td>NaN</td>\n",
       "      <td>NaN</td>\n",
       "      <td>NaN</td>\n",
       "      <td>0</td>\n",
       "      <td>0</td>\n",
       "      <td>1</td>\n",
       "    </tr>\n",
       "  </tbody>\n",
       "</table>\n",
       "</div>"
      ],
      "text/plain": [
       "      id                     name  founded_at               domain  \\\n",
       "0  13131                      NaN         NaN                  NaN   \n",
       "1      1        Greylock Partners  1965-01-01         greylock.com   \n",
       "2     10         Mission Ventures  1996-01-01  missionventures.com   \n",
       "3    100  Kapor Enterprises, Inc.         NaN              kei.com   \n",
       "4   1000           Speed Ventures         NaN                  NaN   \n",
       "\n",
       "  network_username country_code  investment_rounds  invested_companies  \\\n",
       "0              NaN          NaN                  0                   0   \n",
       "1       greylockvc          USA                307                 196   \n",
       "2              NaN          USA                 58                  33   \n",
       "3              NaN          USA                  2                   1   \n",
       "4              NaN          NaN                  0                   0   \n",
       "\n",
       "   milestones  \n",
       "0           0  \n",
       "1           0  \n",
       "2           0  \n",
       "3           0  \n",
       "4           1  "
      ]
     },
     "execution_count": 16,
     "metadata": {},
     "output_type": "execute_result"
    }
   ],
   "source": [
    "fund_df.head()"
   ]
  },
  {
   "cell_type": "markdown",
   "metadata": {},
   "source": [
    "Столбцы датафрейма `fund_df` соответсвуют содержанию и представлены в едином стиле."
   ]
  },
  {
   "cell_type": "markdown",
   "metadata": {},
   "source": [
    "------"
   ]
  },
  {
   "cell_type": "markdown",
   "metadata": {},
   "source": [
    "Таблица `investment` cодержит информацию о раундах инвестирования:\n",
    "\n",
    "- `id` — идентификатор этапа инвестирования.\n",
    "- `funding_round_id` — идентификатор раунда инвестирования.\n",
    "- `company_id` — индентификатор компании.\n",
    "- `funding_round_type` — тип финансирования.\n",
    "- `fund_id` — идентификатор фонда."
   ]
  },
  {
   "cell_type": "code",
   "execution_count": 17,
   "metadata": {},
   "outputs": [
    {
     "name": "stdout",
     "output_type": "stream",
     "text": [
      "<class 'pandas.core.frame.DataFrame'>\n",
      "RangeIndex: 61403 entries, 0 to 61402\n",
      "Data columns (total 4 columns):\n",
      " #   Column            Non-Null Count  Dtype\n",
      "---  ------            --------------  -----\n",
      " 0   id                61403 non-null  int64\n",
      " 1   funding_round_id  61403 non-null  int64\n",
      " 2   company_id        61403 non-null  int64\n",
      " 3   fund_id           61403 non-null  int64\n",
      "dtypes: int64(4)\n",
      "memory usage: 1.9 MB\n"
     ]
    }
   ],
   "source": [
    "# Выгрузим информацию о датафрейме investment_df\n",
    "investment_df.info()"
   ]
  },
  {
   "cell_type": "code",
   "execution_count": 18,
   "metadata": {},
   "outputs": [
    {
     "data": {
      "text/html": [
       "<div>\n",
       "<style scoped>\n",
       "    .dataframe tbody tr th:only-of-type {\n",
       "        vertical-align: middle;\n",
       "    }\n",
       "\n",
       "    .dataframe tbody tr th {\n",
       "        vertical-align: top;\n",
       "    }\n",
       "\n",
       "    .dataframe thead th {\n",
       "        text-align: right;\n",
       "    }\n",
       "</style>\n",
       "<table border=\"1\" class=\"dataframe\">\n",
       "  <thead>\n",
       "    <tr style=\"text-align: right;\">\n",
       "      <th></th>\n",
       "      <th>id</th>\n",
       "      <th>funding_round_id</th>\n",
       "      <th>company_id</th>\n",
       "      <th>fund_id</th>\n",
       "    </tr>\n",
       "  </thead>\n",
       "  <tbody>\n",
       "    <tr>\n",
       "      <th>0</th>\n",
       "      <td>1</td>\n",
       "      <td>1</td>\n",
       "      <td>4</td>\n",
       "      <td>1</td>\n",
       "    </tr>\n",
       "    <tr>\n",
       "      <th>1</th>\n",
       "      <td>2</td>\n",
       "      <td>1</td>\n",
       "      <td>4</td>\n",
       "      <td>2</td>\n",
       "    </tr>\n",
       "    <tr>\n",
       "      <th>2</th>\n",
       "      <td>3</td>\n",
       "      <td>3</td>\n",
       "      <td>5</td>\n",
       "      <td>4</td>\n",
       "    </tr>\n",
       "    <tr>\n",
       "      <th>3</th>\n",
       "      <td>4</td>\n",
       "      <td>4</td>\n",
       "      <td>5</td>\n",
       "      <td>1</td>\n",
       "    </tr>\n",
       "    <tr>\n",
       "      <th>4</th>\n",
       "      <td>5</td>\n",
       "      <td>4</td>\n",
       "      <td>5</td>\n",
       "      <td>5</td>\n",
       "    </tr>\n",
       "  </tbody>\n",
       "</table>\n",
       "</div>"
      ],
      "text/plain": [
       "   id  funding_round_id  company_id  fund_id\n",
       "0   1                 1           4        1\n",
       "1   2                 1           4        2\n",
       "2   3                 3           5        4\n",
       "3   4                 4           5        1\n",
       "4   5                 4           5        5"
      ]
     },
     "execution_count": 18,
     "metadata": {},
     "output_type": "execute_result"
    }
   ],
   "source": [
    "investment_df.head()"
   ]
  },
  {
   "cell_type": "markdown",
   "metadata": {},
   "source": [
    "Столбцы датафрейма `investment_df` соответсвуют содержанию и представлены в едином стиле."
   ]
  },
  {
   "cell_type": "markdown",
   "metadata": {},
   "source": [
    "-------"
   ]
  },
  {
   "cell_type": "markdown",
   "metadata": {},
   "source": [
    "Промежуточные итоги:\n",
    "\n",
    "- познакомились с данными каждого датасета.\n",
    "- привели к единому стилю snake_case названия столбцов.\n",
    "- наблюдаем пропуски практически в каждом датафрейме. \n"
   ]
  },
  {
   "cell_type": "markdown",
   "metadata": {
    "id": "mg2gEwh0rJg0"
   },
   "source": [
    "### 1.2. Смена типов и анализ пропусков\n",
    "\n",
    "- Обработайте типы данных в столбцах, которые хранят значения даты и времени, если это необходимо.\n",
    "- Оцените полноту данных — сделайте предварительный вывод, достаточно ли данных для решения задач проекта."
   ]
  },
  {
   "cell_type": "code",
   "execution_count": 19,
   "metadata": {
    "id": "FsL0A8RBrJg1",
    "vscode": {
     "languageId": "plaintext"
    }
   },
   "outputs": [],
   "source": [
    "# Преобразуем тип данных в столбцах, которые хранят дату и время в датафрейме company_and_rounds_df\n",
    "company_and_rounds_df['founded_at'] = pd.to_datetime(company_and_rounds_df['founded_at'])\n",
    "company_and_rounds_df['closed_at'] = pd.to_datetime(company_and_rounds_df['closed_at'])\n",
    "company_and_rounds_df['funded_at'] = pd.to_datetime(company_and_rounds_df['funded_at'])"
   ]
  },
  {
   "cell_type": "code",
   "execution_count": 20,
   "metadata": {
    "id": "46VskrGyFeJ-"
   },
   "outputs": [],
   "source": [
    "# Преобразуем тип данных, в столбцах, которые хранят дату и время в датафрейме education_df\n",
    "education_df['graduated_at'] = pd.to_datetime(education_df['graduated_at'])\n"
   ]
  },
  {
   "cell_type": "code",
   "execution_count": 21,
   "metadata": {},
   "outputs": [],
   "source": [
    "# Преобразуем типы данных в датафрейме acquisition_df\n",
    "acquisition_df['acquired_at'] = pd.to_datetime(acquisition_df['acquired_at'])"
   ]
  },
  {
   "cell_type": "code",
   "execution_count": 22,
   "metadata": {
    "id": "DEg1tl8DFeBn"
   },
   "outputs": [],
   "source": [
    "# Так же преобразуем тип данных, хранящие дату и время в датафрейме fund_df\n",
    "fund_df['founded_at'] = pd.to_datetime(fund_df['founded_at'])\n"
   ]
  },
  {
   "cell_type": "markdown",
   "metadata": {},
   "source": [
    "Изучим доли пропусков в каждой серии каждого датафрейма:"
   ]
  },
  {
   "cell_type": "code",
   "execution_count": 23,
   "metadata": {},
   "outputs": [
    {
     "data": {
      "text/plain": [
       "id                       0.000000\n",
       "acquiring_company_id     0.000000\n",
       "acquired_company_id      0.000000\n",
       "term_code               80.535771\n",
       "price_amount             0.000000\n",
       "acquired_at              0.308281\n",
       "dtype: float64"
      ]
     },
     "execution_count": 23,
     "metadata": {},
     "output_type": "execute_result"
    }
   ],
   "source": [
    "# Изучим доли пропусков серий датафрейма acquisition_df\n",
    "acquisition_df.isna().sum() / acquisition_df.shape[0]*100"
   ]
  },
  {
   "cell_type": "markdown",
   "metadata": {},
   "source": [
    "- 80% пропусков в данных с информацией о типе оплаты. Доля очень большая, но для целей нашего ислледования отсутсвие этих данных не критично.\n",
    "- крайне незначительные пропуски в столбце с информацией о дате сделки. \n",
    "- отсутсвуют пропуски в id сделок и id компаний. "
   ]
  },
  {
   "cell_type": "code",
   "execution_count": 24,
   "metadata": {},
   "outputs": [
    {
     "data": {
      "text/plain": [
       "company_id_x            0.138676\n",
       "name                    0.138676\n",
       "category_code          33.928752\n",
       "status                  0.138676\n",
       "founded_at             49.509124\n",
       "closed_at              98.416248\n",
       "domain                 32.425818\n",
       "network_username       56.131586\n",
       "country_code           50.128574\n",
       "investment_rounds       0.138676\n",
       "funding_rounds          0.138676\n",
       "funding_total           0.138676\n",
       "milestones              0.138676\n",
       "funding_round_id       75.695905\n",
       "company_id             75.695905\n",
       "funded_at              75.809784\n",
       "funding_round_type     75.695905\n",
       "raised_amount          75.695905\n",
       "pre_money_valuation    75.695905\n",
       "participants           75.695905\n",
       "is_first_round         75.695905\n",
       "is_last_round          75.695905\n",
       "dtype: float64"
      ]
     },
     "execution_count": 24,
     "metadata": {},
     "output_type": "execute_result"
    }
   ],
   "source": [
    "# Изучим доли пропусков серий датафрейма company_and_rounds_df\n",
    "company_and_rounds_df.isna().sum() / company_and_rounds_df.shape[0]*100"
   ]
  },
  {
   "cell_type": "markdown",
   "metadata": {},
   "source": [
    "- Наблюдаем очень похожие доли пропусков у некоторых столбцов - возможно это реультат присоединения двух датасетов до этого.\n",
    "- Пропуски в столбце `closed_at`, содержащем информацию о дате закрытия компании, вполне естественны. \n",
    "- Пропуски в столбцах `domain` , `network_username` никак не повляют на решение задач исследования.\n",
    "- Практически у половины данных нет информации либо о дате создания компании, либо о стране. Но это так же не должно исказить результаты иследования.\n",
    "- Большие пропуски (около 76%) в столбцах содержащих информацию о финансировании и раундах. Это достаточно сильно может искзаить результаты ислледования."
   ]
  },
  {
   "cell_type": "code",
   "execution_count": 25,
   "metadata": {},
   "outputs": [
    {
     "data": {
      "text/plain": [
       "id                   0.000000\n",
       "first_name           0.002205\n",
       "last_name            0.000441\n",
       "company_id          84.731528\n",
       "network_username    82.855996\n",
       "dtype: float64"
      ]
     },
     "execution_count": 25,
     "metadata": {},
     "output_type": "execute_result"
    }
   ],
   "source": [
    "# Изучим доли пропусков серий датафрейма people_df\n",
    "people_df.isna().sum() / people_df.shape[0]*100"
   ]
  },
  {
   "cell_type": "markdown",
   "metadata": {},
   "source": [
    "- Больше 80% пропусков в столбцах с id и никнеймом компании."
   ]
  },
  {
   "cell_type": "code",
   "execution_count": 26,
   "metadata": {},
   "outputs": [
    {
     "data": {
      "text/plain": [
       "id               0.000000\n",
       "person_id        0.000000\n",
       "instituition     0.050178\n",
       "graduated_at    47.035854\n",
       "dtype: float64"
      ]
     },
     "execution_count": 26,
     "metadata": {},
     "output_type": "execute_result"
    }
   ],
   "source": [
    "# Изучим доли пропусков серий датафрейма education_df\n",
    "education_df.isna().sum() / education_df.shape[0]*100"
   ]
  },
  {
   "cell_type": "markdown",
   "metadata": {},
   "source": [
    "- Почти у половины данных отсутвует информация о дате окончания обучения. "
   ]
  },
  {
   "cell_type": "code",
   "execution_count": 27,
   "metadata": {},
   "outputs": [
    {
     "data": {
      "text/plain": [
       "id              0.000000\n",
       "object_id       0.000000\n",
       "degree_type    10.234468\n",
       "subject        25.829760\n",
       "dtype: float64"
      ]
     },
     "execution_count": 27,
     "metadata": {},
     "output_type": "execute_result"
    }
   ],
   "source": [
    "# Изучим доли пропусков серий датафрейма degrees_df\n",
    "degrees_df.isna().sum() / degrees_df.shape[0] * 100"
   ]
  },
  {
   "cell_type": "markdown",
   "metadata": {},
   "source": [
    "- Пропуски сильно повлияющие на анализ отсутсвуют."
   ]
  },
  {
   "cell_type": "code",
   "execution_count": 28,
   "metadata": {},
   "outputs": [
    {
     "data": {
      "text/plain": [
       "id                     0.000000\n",
       "name                   0.017164\n",
       "founded_at            60.478888\n",
       "domain                36.817714\n",
       "network_username      81.556814\n",
       "country_code          39.469619\n",
       "investment_rounds      0.000000\n",
       "invested_companies     0.000000\n",
       "milestones             0.000000\n",
       "dtype: float64"
      ]
     },
     "execution_count": 28,
     "metadata": {},
     "output_type": "execute_result"
    }
   ],
   "source": [
    "# Изучим доли пропусков серий датафрейма fund_df\n",
    "fund_df.isna().sum() / fund_df.shape[0] * 100"
   ]
  },
  {
   "cell_type": "markdown",
   "metadata": {},
   "source": [
    "- Так же, как и в таблице с компаниями и финансированием, наблюдаем высокие доли пропусков в столбцах `founded_at`,`country_code`\n",
    "- Пропуски в столбцах `domain` и `network_username` повлиять на анализ никак не должны."
   ]
  },
  {
   "cell_type": "code",
   "execution_count": 29,
   "metadata": {},
   "outputs": [
    {
     "data": {
      "text/plain": [
       "id                  0.0\n",
       "funding_round_id    0.0\n",
       "company_id          0.0\n",
       "fund_id             0.0\n",
       "dtype: float64"
      ]
     },
     "execution_count": 29,
     "metadata": {},
     "output_type": "execute_result"
    }
   ],
   "source": [
    "# Изучим доли пропусков серий датафрейма investment_df\n",
    "investment_df.isna().sum() / investment_df.shape[0] * 100"
   ]
  },
  {
   "cell_type": "markdown",
   "metadata": {},
   "source": [
    "- Пропуски отсутствуют."
   ]
  },
  {
   "cell_type": "markdown",
   "metadata": {},
   "source": [
    "--------"
   ]
  },
  {
   "cell_type": "markdown",
   "metadata": {},
   "source": [
    "Промежуточные итоги и выводы:\n",
    "\n",
    "- Изменили типы данных для столбцов, содержащих информацию о дате и времени.\n",
    "- Нашли большое количество пропусках в нескольких датафреймах. Часть из них закономерна, часть не повлияет на исследнвание.\n",
    "- Так же есть часть пропусков, которые могут исказить аналитическую картину, а именно пропуски в столбцах содержащих информацию о финансировании и раундах финансирования."
   ]
  },
  {
   "cell_type": "markdown",
   "metadata": {
    "id": "u60cHsn6rJg1"
   },
   "source": [
    "## Шаг 2. Предобработка данных, предварительное исследование"
   ]
  },
  {
   "cell_type": "markdown",
   "metadata": {
    "id": "g2bHIIjcrJg1"
   },
   "source": [
    "\n",
    "### 2.1. Раунды финансирования по годам\n",
    "\n",
    "Задание необходимо выполнить без объединения и дополнительной предобработки на основе датасета `company_and_rounds.csv`.\n",
    "\n",
    "- Составьте сводную таблицу по годам, в которой на основании столбца `raised_amount` для каждого года указан:\n",
    "    - типичный размер средств, выделяемый в рамках одного раунда;\n",
    "    - общее количество раундов финансирования за этот год.\n",
    "    \n",
    "- Оставьте в таблице информацию только для тех лет, для которых есть информация о более чем 50 раундах финансирования.\n",
    "- На основе получившейся таблицы постройте график, который будет отражать динамику типичного размера средств, которые стартапы получали в рамках одного раунда финансирования.\n",
    "\n",
    "На основе полученных данных ответьте на вопросы:\n",
    "\n",
    "- В каком году типичный размер собранных в рамках одного раунда средств был максимален?\n",
    "- Какая тенденция по количеству раундов и выделяемых в рамках каждого раунда средств наблюдалась в 2013 году?"
   ]
  },
  {
   "cell_type": "markdown",
   "metadata": {},
   "source": [
    "--------"
   ]
  },
  {
   "cell_type": "code",
   "execution_count": 30,
   "metadata": {
    "id": "Cf5IjfOQrJg1",
    "vscode": {
     "languageId": "plaintext"
    }
   },
   "outputs": [],
   "source": [
    "# Создадим новый столбец для разделения периодов финансирования по годам\n",
    "company_and_rounds_df['funded_year'] = company_and_rounds_df['funded_at'].dt.year"
   ]
  },
  {
   "cell_type": "code",
   "execution_count": 31,
   "metadata": {},
   "outputs": [
    {
     "data": {
      "text/plain": [
       "count    5.292800e+04\n",
       "mean     7.946092e+06\n",
       "std      4.216821e+07\n",
       "min      0.000000e+00\n",
       "25%      2.463300e+05\n",
       "50%      1.600000e+06\n",
       "75%      6.700000e+06\n",
       "max      3.835050e+09\n",
       "Name: raised_amount, dtype: float64"
      ]
     },
     "execution_count": 31,
     "metadata": {},
     "output_type": "execute_result"
    }
   ],
   "source": [
    "# Проверим стандартные показатели серии, по которой будем делать агрегацию\n",
    "company_and_rounds_df['raised_amount'].describe()"
   ]
  },
  {
   "cell_type": "code",
   "execution_count": 32,
   "metadata": {},
   "outputs": [],
   "source": [
    "# Сгруппируем данные\n",
    "pivot = company_and_rounds_df.groupby('funded_year')['raised_amount'].agg(['count','median'])"
   ]
  },
  {
   "cell_type": "code",
   "execution_count": 33,
   "metadata": {},
   "outputs": [],
   "source": [
    "# Отфильтруем данные согласно требованиям заказчика\n",
    "filtered_pivot = pivot[pivot['count']>50]"
   ]
  },
  {
   "cell_type": "code",
   "execution_count": 34,
   "metadata": {},
   "outputs": [
    {
     "data": {
      "text/html": [
       "<div>\n",
       "<style scoped>\n",
       "    .dataframe tbody tr th:only-of-type {\n",
       "        vertical-align: middle;\n",
       "    }\n",
       "\n",
       "    .dataframe tbody tr th {\n",
       "        vertical-align: top;\n",
       "    }\n",
       "\n",
       "    .dataframe thead th {\n",
       "        text-align: right;\n",
       "    }\n",
       "</style>\n",
       "<table border=\"1\" class=\"dataframe\">\n",
       "  <thead>\n",
       "    <tr style=\"text-align: right;\">\n",
       "      <th></th>\n",
       "      <th>funded_year</th>\n",
       "      <th>count</th>\n",
       "      <th>median</th>\n",
       "    </tr>\n",
       "  </thead>\n",
       "  <tbody>\n",
       "    <tr>\n",
       "      <th>0</th>\n",
       "      <td>1999.0</td>\n",
       "      <td>76</td>\n",
       "      <td>2000000.0</td>\n",
       "    </tr>\n",
       "    <tr>\n",
       "      <th>1</th>\n",
       "      <td>2000.0</td>\n",
       "      <td>125</td>\n",
       "      <td>4200000.0</td>\n",
       "    </tr>\n",
       "    <tr>\n",
       "      <th>2</th>\n",
       "      <td>2001.0</td>\n",
       "      <td>96</td>\n",
       "      <td>3000000.0</td>\n",
       "    </tr>\n",
       "    <tr>\n",
       "      <th>3</th>\n",
       "      <td>2002.0</td>\n",
       "      <td>116</td>\n",
       "      <td>4200000.0</td>\n",
       "    </tr>\n",
       "    <tr>\n",
       "      <th>4</th>\n",
       "      <td>2003.0</td>\n",
       "      <td>159</td>\n",
       "      <td>3000000.0</td>\n",
       "    </tr>\n",
       "    <tr>\n",
       "      <th>5</th>\n",
       "      <td>2004.0</td>\n",
       "      <td>291</td>\n",
       "      <td>5000000.0</td>\n",
       "    </tr>\n",
       "    <tr>\n",
       "      <th>6</th>\n",
       "      <td>2005.0</td>\n",
       "      <td>1633</td>\n",
       "      <td>5500000.0</td>\n",
       "    </tr>\n",
       "    <tr>\n",
       "      <th>7</th>\n",
       "      <td>2006.0</td>\n",
       "      <td>2436</td>\n",
       "      <td>5000000.0</td>\n",
       "    </tr>\n",
       "    <tr>\n",
       "      <th>8</th>\n",
       "      <td>2007.0</td>\n",
       "      <td>3279</td>\n",
       "      <td>3973320.0</td>\n",
       "    </tr>\n",
       "    <tr>\n",
       "      <th>9</th>\n",
       "      <td>2008.0</td>\n",
       "      <td>3774</td>\n",
       "      <td>3110000.0</td>\n",
       "    </tr>\n",
       "    <tr>\n",
       "      <th>10</th>\n",
       "      <td>2009.0</td>\n",
       "      <td>4151</td>\n",
       "      <td>2000000.0</td>\n",
       "    </tr>\n",
       "    <tr>\n",
       "      <th>11</th>\n",
       "      <td>2010.0</td>\n",
       "      <td>6221</td>\n",
       "      <td>1602500.0</td>\n",
       "    </tr>\n",
       "    <tr>\n",
       "      <th>12</th>\n",
       "      <td>2011.0</td>\n",
       "      <td>9204</td>\n",
       "      <td>1200000.0</td>\n",
       "    </tr>\n",
       "    <tr>\n",
       "      <th>13</th>\n",
       "      <td>2012.0</td>\n",
       "      <td>9970</td>\n",
       "      <td>1000000.0</td>\n",
       "    </tr>\n",
       "    <tr>\n",
       "      <th>14</th>\n",
       "      <td>2013.0</td>\n",
       "      <td>11072</td>\n",
       "      <td>1200000.0</td>\n",
       "    </tr>\n",
       "  </tbody>\n",
       "</table>\n",
       "</div>"
      ],
      "text/plain": [
       "    funded_year  count     median\n",
       "0        1999.0     76  2000000.0\n",
       "1        2000.0    125  4200000.0\n",
       "2        2001.0     96  3000000.0\n",
       "3        2002.0    116  4200000.0\n",
       "4        2003.0    159  3000000.0\n",
       "5        2004.0    291  5000000.0\n",
       "6        2005.0   1633  5500000.0\n",
       "7        2006.0   2436  5000000.0\n",
       "8        2007.0   3279  3973320.0\n",
       "9        2008.0   3774  3110000.0\n",
       "10       2009.0   4151  2000000.0\n",
       "11       2010.0   6221  1602500.0\n",
       "12       2011.0   9204  1200000.0\n",
       "13       2012.0   9970  1000000.0\n",
       "14       2013.0  11072  1200000.0"
      ]
     },
     "execution_count": 34,
     "metadata": {},
     "output_type": "execute_result"
    }
   ],
   "source": [
    "# Выгрузим таблицу\n",
    "filtered_pivot.reset_index()"
   ]
  },
  {
   "cell_type": "code",
   "execution_count": 35,
   "metadata": {},
   "outputs": [
    {
     "data": {
      "image/png": "[encoded data removed]",
      "text/plain": [
       "<Figure size 720x576 with 1 Axes>"
      ]
     },
     "metadata": {
      "needs_background": "light"
     },
     "output_type": "display_data"
    }
   ],
   "source": [
    "filtered_pivot.plot.line(figsize=(10,8), y='median')\n",
    "\n",
    "plt.title('Динамика типичного размера средств, которые стартапы получали в рамках одного раунда финансирования.')\n",
    "plt.xlabel('Год финансирования')\n",
    "plt.ylabel('Типичный размер средств на один раунд')\n",
    "plt.grid()\n",
    "\n"
   ]
  },
  {
   "cell_type": "markdown",
   "metadata": {},
   "source": [
    "Ответы на вопросы задачи:\n",
    "\n",
    "- Максимально большой типичный сбор средств за один раунд приходтся на 2005-ый год.\n",
    "- в 2013-ом году мы имеем самое большое количество раундов из выборки наших данных за все года, при этом типичное значение собранных средств за раунд - наоборот практически наименьшее (меньше только в 2012-ом году)."
   ]
  },
  {
   "cell_type": "markdown",
   "metadata": {
    "id": "45if1en1rJg2"
   },
   "source": [
    "\n",
    "### 2.2. Люди и их образование\n",
    "\n",
    "Заказчик хочет понять, зависит ли полнота сведений о сотрудниках (например, об их образовании) от размера компаний.\n",
    "\n",
    "- Оцените, насколько информация об образовании сотрудников полна. Используя датасеты `people.csv` и `education.csv`, разделите все компании на несколько групп по количеству сотрудников и оцените среднюю долю сотрудников без информации об образовании в каждой из групп. Обоснуйте выбранные границы групп.\n",
    "- Оцените, возможно ли для выполнения задания присоединить к этим таблицам ещё и таблицу `degrees.csv`."
   ]
  },
  {
   "cell_type": "markdown",
   "metadata": {
    "id": "psPO7C4MrJg2",
    "vscode": {
     "languageId": "plaintext"
    }
   },
   "source": [
    "-------------"
   ]
  },
  {
   "cell_type": "markdown",
   "metadata": {},
   "source": [
    "Присоединим таблицу `education` к таблице `people`, что поможет оценить долю сотрудников без информации об образовании"
   ]
  },
  {
   "cell_type": "code",
   "execution_count": 36,
   "metadata": {},
   "outputs": [],
   "source": [
    "# Присоединяем таблицы\n",
    "people_education = people_df.merge(education_df, left_on='id',right_on='person_id', how='left')"
   ]
  },
  {
   "cell_type": "code",
   "execution_count": 37,
   "metadata": {
    "scrolled": true
   },
   "outputs": [
    {
     "name": "stdout",
     "output_type": "stream",
     "text": [
      "<class 'pandas.core.frame.DataFrame'>\n",
      "Int64Index: 267694 entries, 0 to 267693\n",
      "Data columns (total 9 columns):\n",
      " #   Column            Non-Null Count   Dtype         \n",
      "---  ------            --------------   -----         \n",
      " 0   id_x              267694 non-null  int64         \n",
      " 1   first_name        267689 non-null  object        \n",
      " 2   last_name         267693 non-null  object        \n",
      " 3   company_id        44789 non-null   float64       \n",
      " 4   network_username  50775 non-null   object        \n",
      " 5   id_y              109056 non-null  float64       \n",
      " 6   person_id         109056 non-null  float64       \n",
      " 7   instituition      109002 non-null  object        \n",
      " 8   graduated_at      57691 non-null   datetime64[ns]\n",
      "dtypes: datetime64[ns](1), float64(3), int64(1), object(4)\n",
      "memory usage: 20.4+ MB\n"
     ]
    }
   ],
   "source": [
    "# Выводим информацию\n",
    "people_education.info()"
   ]
  },
  {
   "cell_type": "code",
   "execution_count": 38,
   "metadata": {},
   "outputs": [
    {
     "data": {
      "text/plain": [
       "id_x                0.000000\n",
       "first_name          0.000019\n",
       "last_name           0.000004\n",
       "company_id          0.832686\n",
       "network_username    0.810324\n",
       "id_y                0.592609\n",
       "person_id           0.592609\n",
       "instituition        0.592811\n",
       "graduated_at        0.784489\n",
       "dtype: float64"
      ]
     },
     "execution_count": 38,
     "metadata": {},
     "output_type": "execute_result"
    }
   ],
   "source": [
    "# Изучаем пропуски\n",
    "people_education.isna().sum()/people_education.shape[0]"
   ]
  },
  {
   "cell_type": "markdown",
   "metadata": {},
   "source": [
    "Информация об образовании присутсвует лишь для 59% сотрудников"
   ]
  },
  {
   "cell_type": "code",
   "execution_count": 39,
   "metadata": {},
   "outputs": [],
   "source": [
    "# Сгруппируем данные \n",
    "cat_1 = people_education.groupby('company_id')['id_x'].count().reset_index()"
   ]
  },
  {
   "cell_type": "code",
   "execution_count": 40,
   "metadata": {},
   "outputs": [],
   "source": [
    "cat_1 = cat_1.rename(columns={'id_x':'count_people'})"
   ]
  },
  {
   "cell_type": "code",
   "execution_count": 41,
   "metadata": {},
   "outputs": [
    {
     "data": {
      "text/plain": [
       "count    22922.000000\n",
       "mean         1.953974\n",
       "std          4.087373\n",
       "min          1.000000\n",
       "25%          1.000000\n",
       "50%          1.000000\n",
       "75%          2.000000\n",
       "max        376.000000\n",
       "Name: count_people, dtype: float64"
      ]
     },
     "execution_count": 41,
     "metadata": {},
     "output_type": "execute_result"
    }
   ],
   "source": [
    "cat_1['count_people'].describe()"
   ]
  },
  {
   "cell_type": "code",
   "execution_count": 42,
   "metadata": {},
   "outputs": [],
   "source": [
    "# Отредактирую в след. ячейке\n",
    "# Разделим данные по категориям, по размеру штата сотрудников\n",
    "# cat_1['category'] = pd.cut(cat_1['count_people'],bins=[0,50,100,377],labels=['Мало','Средне','Много'])"
   ]
  },
  {
   "cell_type": "code",
   "execution_count": 43,
   "metadata": {},
   "outputs": [],
   "source": [
    "cat_1['category'] = pd.cut(cat_1['count_people'],bins=[0,1,10,50,200,500,1000], labels=['1', '2–10', '11–50', '51–200', '201–500', '500+'])"
   ]
  },
  {
   "cell_type": "code",
   "execution_count": 44,
   "metadata": {},
   "outputs": [
    {
     "data": {
      "text/html": [
       "<div>\n",
       "<style scoped>\n",
       "    .dataframe tbody tr th:only-of-type {\n",
       "        vertical-align: middle;\n",
       "    }\n",
       "\n",
       "    .dataframe tbody tr th {\n",
       "        vertical-align: top;\n",
       "    }\n",
       "\n",
       "    .dataframe thead th {\n",
       "        text-align: right;\n",
       "    }\n",
       "</style>\n",
       "<table border=\"1\" class=\"dataframe\">\n",
       "  <thead>\n",
       "    <tr style=\"text-align: right;\">\n",
       "      <th></th>\n",
       "      <th>company_id</th>\n",
       "      <th>count_people</th>\n",
       "      <th>category</th>\n",
       "    </tr>\n",
       "  </thead>\n",
       "  <tbody>\n",
       "    <tr>\n",
       "      <th>0</th>\n",
       "      <td>1.0</td>\n",
       "      <td>3</td>\n",
       "      <td>2–10</td>\n",
       "    </tr>\n",
       "    <tr>\n",
       "      <th>1</th>\n",
       "      <td>2.0</td>\n",
       "      <td>1</td>\n",
       "      <td>1</td>\n",
       "    </tr>\n",
       "    <tr>\n",
       "      <th>2</th>\n",
       "      <td>3.0</td>\n",
       "      <td>5</td>\n",
       "      <td>2–10</td>\n",
       "    </tr>\n",
       "    <tr>\n",
       "      <th>3</th>\n",
       "      <td>4.0</td>\n",
       "      <td>18</td>\n",
       "      <td>11–50</td>\n",
       "    </tr>\n",
       "    <tr>\n",
       "      <th>4</th>\n",
       "      <td>5.0</td>\n",
       "      <td>84</td>\n",
       "      <td>51–200</td>\n",
       "    </tr>\n",
       "    <tr>\n",
       "      <th>...</th>\n",
       "      <td>...</td>\n",
       "      <td>...</td>\n",
       "      <td>...</td>\n",
       "    </tr>\n",
       "    <tr>\n",
       "      <th>22917</th>\n",
       "      <td>285897.0</td>\n",
       "      <td>2</td>\n",
       "      <td>2–10</td>\n",
       "    </tr>\n",
       "    <tr>\n",
       "      <th>22918</th>\n",
       "      <td>285953.0</td>\n",
       "      <td>1</td>\n",
       "      <td>1</td>\n",
       "    </tr>\n",
       "    <tr>\n",
       "      <th>22919</th>\n",
       "      <td>285972.0</td>\n",
       "      <td>2</td>\n",
       "      <td>2–10</td>\n",
       "    </tr>\n",
       "    <tr>\n",
       "      <th>22920</th>\n",
       "      <td>285996.0</td>\n",
       "      <td>1</td>\n",
       "      <td>1</td>\n",
       "    </tr>\n",
       "    <tr>\n",
       "      <th>22921</th>\n",
       "      <td>286091.0</td>\n",
       "      <td>7</td>\n",
       "      <td>2–10</td>\n",
       "    </tr>\n",
       "  </tbody>\n",
       "</table>\n",
       "<p>22922 rows × 3 columns</p>\n",
       "</div>"
      ],
      "text/plain": [
       "       company_id  count_people category\n",
       "0             1.0             3     2–10\n",
       "1             2.0             1        1\n",
       "2             3.0             5     2–10\n",
       "3             4.0            18    11–50\n",
       "4             5.0            84   51–200\n",
       "...           ...           ...      ...\n",
       "22917    285897.0             2     2–10\n",
       "22918    285953.0             1        1\n",
       "22919    285972.0             2     2–10\n",
       "22920    285996.0             1        1\n",
       "22921    286091.0             7     2–10\n",
       "\n",
       "[22922 rows x 3 columns]"
      ]
     },
     "execution_count": 44,
     "metadata": {},
     "output_type": "execute_result"
    }
   ],
   "source": [
    "cat_1"
   ]
  },
  {
   "cell_type": "code",
   "execution_count": 45,
   "metadata": {},
   "outputs": [],
   "source": [
    "# Присоединим информацию о категориях к датасету\n",
    "people_education_2 = people_education.merge(cat_1,on='company_id')"
   ]
  },
  {
   "cell_type": "code",
   "execution_count": 46,
   "metadata": {},
   "outputs": [
    {
     "data": {
      "text/html": [
       "<div>\n",
       "<style scoped>\n",
       "    .dataframe tbody tr th:only-of-type {\n",
       "        vertical-align: middle;\n",
       "    }\n",
       "\n",
       "    .dataframe tbody tr th {\n",
       "        vertical-align: top;\n",
       "    }\n",
       "\n",
       "    .dataframe thead th {\n",
       "        text-align: right;\n",
       "    }\n",
       "</style>\n",
       "<table border=\"1\" class=\"dataframe\">\n",
       "  <thead>\n",
       "    <tr style=\"text-align: right;\">\n",
       "      <th></th>\n",
       "      <th>id_x</th>\n",
       "      <th>first_name</th>\n",
       "      <th>last_name</th>\n",
       "      <th>company_id</th>\n",
       "      <th>network_username</th>\n",
       "      <th>id_y</th>\n",
       "      <th>person_id</th>\n",
       "      <th>instituition</th>\n",
       "      <th>graduated_at</th>\n",
       "      <th>count_people</th>\n",
       "      <th>category</th>\n",
       "    </tr>\n",
       "  </thead>\n",
       "  <tbody>\n",
       "    <tr>\n",
       "      <th>0</th>\n",
       "      <td>10</td>\n",
       "      <td>Mark</td>\n",
       "      <td>Zuckerberg</td>\n",
       "      <td>5.0</td>\n",
       "      <td>NaN</td>\n",
       "      <td>2415.0</td>\n",
       "      <td>10.0</td>\n",
       "      <td>Harvard University</td>\n",
       "      <td>NaT</td>\n",
       "      <td>84</td>\n",
       "      <td>51–200</td>\n",
       "    </tr>\n",
       "    <tr>\n",
       "      <th>1</th>\n",
       "      <td>10430</td>\n",
       "      <td>Ruchi</td>\n",
       "      <td>Sanghvi</td>\n",
       "      <td>5.0</td>\n",
       "      <td>rsanghvi</td>\n",
       "      <td>4247.0</td>\n",
       "      <td>10430.0</td>\n",
       "      <td>Carnegie Mellon University</td>\n",
       "      <td>NaT</td>\n",
       "      <td>84</td>\n",
       "      <td>51–200</td>\n",
       "    </tr>\n",
       "    <tr>\n",
       "      <th>2</th>\n",
       "      <td>10430</td>\n",
       "      <td>Ruchi</td>\n",
       "      <td>Sanghvi</td>\n",
       "      <td>5.0</td>\n",
       "      <td>rsanghvi</td>\n",
       "      <td>4248.0</td>\n",
       "      <td>10430.0</td>\n",
       "      <td>Carnegie Mellon University</td>\n",
       "      <td>NaT</td>\n",
       "      <td>84</td>\n",
       "      <td>51–200</td>\n",
       "    </tr>\n",
       "    <tr>\n",
       "      <th>3</th>\n",
       "      <td>106199</td>\n",
       "      <td>Adam</td>\n",
       "      <td>Marchick</td>\n",
       "      <td>5.0</td>\n",
       "      <td>adammarstanford</td>\n",
       "      <td>15666.0</td>\n",
       "      <td>106199.0</td>\n",
       "      <td>Stanford University</td>\n",
       "      <td>2002-01-01</td>\n",
       "      <td>84</td>\n",
       "      <td>51–200</td>\n",
       "    </tr>\n",
       "    <tr>\n",
       "      <th>4</th>\n",
       "      <td>108814</td>\n",
       "      <td>Jimmy</td>\n",
       "      <td>Zhu</td>\n",
       "      <td>5.0</td>\n",
       "      <td>jyzhu</td>\n",
       "      <td>16050.0</td>\n",
       "      <td>108814.0</td>\n",
       "      <td>Massachusetts Institute of Technology (MIT)</td>\n",
       "      <td>NaT</td>\n",
       "      <td>84</td>\n",
       "      <td>51–200</td>\n",
       "    </tr>\n",
       "  </tbody>\n",
       "</table>\n",
       "</div>"
      ],
      "text/plain": [
       "     id_x first_name   last_name  company_id network_username     id_y  \\\n",
       "0      10       Mark  Zuckerberg         5.0              NaN   2415.0   \n",
       "1   10430      Ruchi     Sanghvi         5.0         rsanghvi   4247.0   \n",
       "2   10430      Ruchi     Sanghvi         5.0         rsanghvi   4248.0   \n",
       "3  106199       Adam    Marchick         5.0  adammarstanford  15666.0   \n",
       "4  108814      Jimmy         Zhu         5.0            jyzhu  16050.0   \n",
       "\n",
       "   person_id                                 instituition graduated_at  \\\n",
       "0       10.0                           Harvard University          NaT   \n",
       "1    10430.0                   Carnegie Mellon University          NaT   \n",
       "2    10430.0                   Carnegie Mellon University          NaT   \n",
       "3   106199.0                          Stanford University   2002-01-01   \n",
       "4   108814.0  Massachusetts Institute of Technology (MIT)          NaT   \n",
       "\n",
       "   count_people category  \n",
       "0            84   51–200  \n",
       "1            84   51–200  \n",
       "2            84   51–200  \n",
       "3            84   51–200  \n",
       "4            84   51–200  "
      ]
     },
     "execution_count": 46,
     "metadata": {},
     "output_type": "execute_result"
    }
   ],
   "source": [
    "# Проверим результат\n",
    "people_education_2.head()"
   ]
  },
  {
   "cell_type": "code",
   "execution_count": 47,
   "metadata": {},
   "outputs": [],
   "source": [
    "# Сгруппируем данные о сотрудниках по категориям\n",
    "cat_people_education = people_education_2.groupby('category').agg({'person_id': 'count',\n",
    "                                 'id_x': 'count'})"
   ]
  },
  {
   "cell_type": "code",
   "execution_count": 48,
   "metadata": {},
   "outputs": [
    {
     "data": {
      "text/html": [
       "<div>\n",
       "<style scoped>\n",
       "    .dataframe tbody tr th:only-of-type {\n",
       "        vertical-align: middle;\n",
       "    }\n",
       "\n",
       "    .dataframe tbody tr th {\n",
       "        vertical-align: top;\n",
       "    }\n",
       "\n",
       "    .dataframe thead th {\n",
       "        text-align: right;\n",
       "    }\n",
       "</style>\n",
       "<table border=\"1\" class=\"dataframe\">\n",
       "  <thead>\n",
       "    <tr style=\"text-align: right;\">\n",
       "      <th></th>\n",
       "      <th>person_id</th>\n",
       "      <th>id_x</th>\n",
       "    </tr>\n",
       "    <tr>\n",
       "      <th>category</th>\n",
       "      <th></th>\n",
       "      <th></th>\n",
       "    </tr>\n",
       "  </thead>\n",
       "  <tbody>\n",
       "    <tr>\n",
       "      <th>1</th>\n",
       "      <td>5769</td>\n",
       "      <td>14150</td>\n",
       "    </tr>\n",
       "    <tr>\n",
       "      <th>2–10</th>\n",
       "      <td>18991</td>\n",
       "      <td>25485</td>\n",
       "    </tr>\n",
       "    <tr>\n",
       "      <th>11–50</th>\n",
       "      <td>2564</td>\n",
       "      <td>3546</td>\n",
       "    </tr>\n",
       "    <tr>\n",
       "      <th>51–200</th>\n",
       "      <td>833</td>\n",
       "      <td>1011</td>\n",
       "    </tr>\n",
       "    <tr>\n",
       "      <th>201–500</th>\n",
       "      <td>481</td>\n",
       "      <td>597</td>\n",
       "    </tr>\n",
       "    <tr>\n",
       "      <th>500+</th>\n",
       "      <td>0</td>\n",
       "      <td>0</td>\n",
       "    </tr>\n",
       "  </tbody>\n",
       "</table>\n",
       "</div>"
      ],
      "text/plain": [
       "          person_id   id_x\n",
       "category                  \n",
       "1              5769  14150\n",
       "2–10          18991  25485\n",
       "11–50          2564   3546\n",
       "51–200          833   1011\n",
       "201–500         481    597\n",
       "500+              0      0"
      ]
     },
     "execution_count": 48,
     "metadata": {},
     "output_type": "execute_result"
    }
   ],
   "source": [
    "cat_people_education"
   ]
  },
  {
   "cell_type": "code",
   "execution_count": 49,
   "metadata": {},
   "outputs": [],
   "source": [
    "# Рассчитаем полноту данных по категориям\n",
    "cat_percent = cat_people_education['person_id']/cat_people_education['id_x']"
   ]
  },
  {
   "cell_type": "code",
   "execution_count": 50,
   "metadata": {},
   "outputs": [
    {
     "data": {
      "text/html": [
       "<div>\n",
       "<style scoped>\n",
       "    .dataframe tbody tr th:only-of-type {\n",
       "        vertical-align: middle;\n",
       "    }\n",
       "\n",
       "    .dataframe tbody tr th {\n",
       "        vertical-align: top;\n",
       "    }\n",
       "\n",
       "    .dataframe thead th {\n",
       "        text-align: right;\n",
       "    }\n",
       "</style>\n",
       "<table border=\"1\" class=\"dataframe\">\n",
       "  <thead>\n",
       "    <tr style=\"text-align: right;\">\n",
       "      <th></th>\n",
       "      <th>category</th>\n",
       "      <th>0</th>\n",
       "    </tr>\n",
       "  </thead>\n",
       "  <tbody>\n",
       "    <tr>\n",
       "      <th>0</th>\n",
       "      <td>1</td>\n",
       "      <td>0.407703</td>\n",
       "    </tr>\n",
       "    <tr>\n",
       "      <th>1</th>\n",
       "      <td>2–10</td>\n",
       "      <td>0.745183</td>\n",
       "    </tr>\n",
       "    <tr>\n",
       "      <th>2</th>\n",
       "      <td>11–50</td>\n",
       "      <td>0.723068</td>\n",
       "    </tr>\n",
       "    <tr>\n",
       "      <th>3</th>\n",
       "      <td>51–200</td>\n",
       "      <td>0.823937</td>\n",
       "    </tr>\n",
       "    <tr>\n",
       "      <th>4</th>\n",
       "      <td>201–500</td>\n",
       "      <td>0.805695</td>\n",
       "    </tr>\n",
       "    <tr>\n",
       "      <th>5</th>\n",
       "      <td>500+</td>\n",
       "      <td>NaN</td>\n",
       "    </tr>\n",
       "  </tbody>\n",
       "</table>\n",
       "</div>"
      ],
      "text/plain": [
       "  category         0\n",
       "0        1  0.407703\n",
       "1     2–10  0.745183\n",
       "2    11–50  0.723068\n",
       "3   51–200  0.823937\n",
       "4  201–500  0.805695\n",
       "5     500+       NaN"
      ]
     },
     "execution_count": 50,
     "metadata": {},
     "output_type": "execute_result"
    }
   ],
   "source": [
    "cat_percent.reset_index()"
   ]
  },
  {
   "cell_type": "markdown",
   "metadata": {},
   "source": []
  },
  {
   "cell_type": "code",
   "execution_count": 51,
   "metadata": {},
   "outputs": [
    {
     "data": {
      "text/html": [
       "<div>\n",
       "<style scoped>\n",
       "    .dataframe tbody tr th:only-of-type {\n",
       "        vertical-align: middle;\n",
       "    }\n",
       "\n",
       "    .dataframe tbody tr th {\n",
       "        vertical-align: top;\n",
       "    }\n",
       "\n",
       "    .dataframe thead th {\n",
       "        text-align: right;\n",
       "    }\n",
       "</style>\n",
       "<table border=\"1\" class=\"dataframe\">\n",
       "  <thead>\n",
       "    <tr style=\"text-align: right;\">\n",
       "      <th></th>\n",
       "      <th>id</th>\n",
       "      <th>object_id</th>\n",
       "      <th>degree_type</th>\n",
       "      <th>subject</th>\n",
       "    </tr>\n",
       "  </thead>\n",
       "  <tbody>\n",
       "    <tr>\n",
       "      <th>0</th>\n",
       "      <td>1</td>\n",
       "      <td>p:6117</td>\n",
       "      <td>MBA</td>\n",
       "      <td>NaN</td>\n",
       "    </tr>\n",
       "    <tr>\n",
       "      <th>1</th>\n",
       "      <td>2</td>\n",
       "      <td>p:6136</td>\n",
       "      <td>BA</td>\n",
       "      <td>English, French</td>\n",
       "    </tr>\n",
       "    <tr>\n",
       "      <th>2</th>\n",
       "      <td>3</td>\n",
       "      <td>p:6136</td>\n",
       "      <td>MS</td>\n",
       "      <td>Mass Communication</td>\n",
       "    </tr>\n",
       "    <tr>\n",
       "      <th>3</th>\n",
       "      <td>4</td>\n",
       "      <td>p:6005</td>\n",
       "      <td>MS</td>\n",
       "      <td>Internet Technology</td>\n",
       "    </tr>\n",
       "    <tr>\n",
       "      <th>4</th>\n",
       "      <td>5</td>\n",
       "      <td>p:5832</td>\n",
       "      <td>BCS</td>\n",
       "      <td>Computer Science, Psychology</td>\n",
       "    </tr>\n",
       "    <tr>\n",
       "      <th>5</th>\n",
       "      <td>6</td>\n",
       "      <td>p:1017</td>\n",
       "      <td>BS</td>\n",
       "      <td>Computer Science</td>\n",
       "    </tr>\n",
       "    <tr>\n",
       "      <th>6</th>\n",
       "      <td>7</td>\n",
       "      <td>p:6176</td>\n",
       "      <td>BS</td>\n",
       "      <td>Computer Science</td>\n",
       "    </tr>\n",
       "    <tr>\n",
       "      <th>7</th>\n",
       "      <td>8</td>\n",
       "      <td>p:5412</td>\n",
       "      <td>MS</td>\n",
       "      <td>Politics</td>\n",
       "    </tr>\n",
       "    <tr>\n",
       "      <th>8</th>\n",
       "      <td>9</td>\n",
       "      <td>p:1243</td>\n",
       "      <td>BA</td>\n",
       "      <td>International Business &amp; Marketing</td>\n",
       "    </tr>\n",
       "    <tr>\n",
       "      <th>9</th>\n",
       "      <td>10</td>\n",
       "      <td>p:6265</td>\n",
       "      <td>BS</td>\n",
       "      <td>Economics</td>\n",
       "    </tr>\n",
       "  </tbody>\n",
       "</table>\n",
       "</div>"
      ],
      "text/plain": [
       "   id object_id degree_type                             subject\n",
       "0   1    p:6117         MBA                                 NaN\n",
       "1   2    p:6136          BA                     English, French\n",
       "2   3    p:6136          MS                  Mass Communication\n",
       "3   4    p:6005          MS                 Internet Technology\n",
       "4   5    p:5832         BCS        Computer Science, Psychology\n",
       "5   6    p:1017          BS                    Computer Science\n",
       "6   7    p:6176          BS                    Computer Science\n",
       "7   8    p:5412          MS                            Politics\n",
       "8   9    p:1243          BA  International Business & Marketing\n",
       "9  10    p:6265          BS                           Economics"
      ]
     },
     "execution_count": 51,
     "metadata": {},
     "output_type": "execute_result"
    }
   ],
   "source": [
    "degrees_df.head(10)"
   ]
  },
  {
   "cell_type": "code",
   "execution_count": 52,
   "metadata": {},
   "outputs": [
    {
     "data": {
      "text/html": [
       "<div>\n",
       "<style scoped>\n",
       "    .dataframe tbody tr th:only-of-type {\n",
       "        vertical-align: middle;\n",
       "    }\n",
       "\n",
       "    .dataframe tbody tr th {\n",
       "        vertical-align: top;\n",
       "    }\n",
       "\n",
       "    .dataframe thead th {\n",
       "        text-align: right;\n",
       "    }\n",
       "</style>\n",
       "<table border=\"1\" class=\"dataframe\">\n",
       "  <thead>\n",
       "    <tr style=\"text-align: right;\">\n",
       "      <th></th>\n",
       "      <th>id</th>\n",
       "      <th>person_id</th>\n",
       "      <th>instituition</th>\n",
       "      <th>graduated_at</th>\n",
       "    </tr>\n",
       "  </thead>\n",
       "  <tbody>\n",
       "    <tr>\n",
       "      <th>0</th>\n",
       "      <td>1</td>\n",
       "      <td>6117</td>\n",
       "      <td>NaN</td>\n",
       "      <td>NaT</td>\n",
       "    </tr>\n",
       "    <tr>\n",
       "      <th>1</th>\n",
       "      <td>2</td>\n",
       "      <td>6136</td>\n",
       "      <td>Washington University, St. Louis</td>\n",
       "      <td>1990-01-01</td>\n",
       "    </tr>\n",
       "    <tr>\n",
       "      <th>2</th>\n",
       "      <td>3</td>\n",
       "      <td>6136</td>\n",
       "      <td>Boston University</td>\n",
       "      <td>1992-01-01</td>\n",
       "    </tr>\n",
       "    <tr>\n",
       "      <th>3</th>\n",
       "      <td>4</td>\n",
       "      <td>6005</td>\n",
       "      <td>University of Greenwich</td>\n",
       "      <td>2006-01-01</td>\n",
       "    </tr>\n",
       "    <tr>\n",
       "      <th>4</th>\n",
       "      <td>5</td>\n",
       "      <td>5832</td>\n",
       "      <td>Rice University</td>\n",
       "      <td>NaT</td>\n",
       "    </tr>\n",
       "    <tr>\n",
       "      <th>5</th>\n",
       "      <td>6</td>\n",
       "      <td>1017</td>\n",
       "      <td>Northeastern University</td>\n",
       "      <td>1988-01-01</td>\n",
       "    </tr>\n",
       "    <tr>\n",
       "      <th>6</th>\n",
       "      <td>7</td>\n",
       "      <td>6176</td>\n",
       "      <td>Rochester Institute of Technology</td>\n",
       "      <td>2002-01-01</td>\n",
       "    </tr>\n",
       "    <tr>\n",
       "      <th>7</th>\n",
       "      <td>8</td>\n",
       "      <td>5412</td>\n",
       "      <td>University of Cambridge</td>\n",
       "      <td>2002-01-01</td>\n",
       "    </tr>\n",
       "    <tr>\n",
       "      <th>8</th>\n",
       "      <td>9</td>\n",
       "      <td>1243</td>\n",
       "      <td>University of Oregon</td>\n",
       "      <td>1997-01-01</td>\n",
       "    </tr>\n",
       "    <tr>\n",
       "      <th>9</th>\n",
       "      <td>10</td>\n",
       "      <td>6265</td>\n",
       "      <td>University of Pennsylvania</td>\n",
       "      <td>1989-01-01</td>\n",
       "    </tr>\n",
       "  </tbody>\n",
       "</table>\n",
       "</div>"
      ],
      "text/plain": [
       "   id  person_id                       instituition graduated_at\n",
       "0   1       6117                                NaN          NaT\n",
       "1   2       6136   Washington University, St. Louis   1990-01-01\n",
       "2   3       6136                  Boston University   1992-01-01\n",
       "3   4       6005            University of Greenwich   2006-01-01\n",
       "4   5       5832                    Rice University          NaT\n",
       "5   6       1017            Northeastern University   1988-01-01\n",
       "6   7       6176  Rochester Institute of Technology   2002-01-01\n",
       "7   8       5412            University of Cambridge   2002-01-01\n",
       "8   9       1243               University of Oregon   1997-01-01\n",
       "9  10       6265         University of Pennsylvania   1989-01-01"
      ]
     },
     "execution_count": 52,
     "metadata": {},
     "output_type": "execute_result"
    }
   ],
   "source": [
    "education_df.head(10)"
   ]
  },
  {
   "cell_type": "markdown",
   "metadata": {},
   "source": [
    "Столбцы `person_id` из таблицы education и `object_id` из таблицы degrees похожи на ключ. Однако `object_id` требует преобразования."
   ]
  },
  {
   "cell_type": "code",
   "execution_count": 53,
   "metadata": {},
   "outputs": [],
   "source": [
    "# Отредактируем столбец \n",
    "degrees_df['object_id'] = degrees_df['object_id'].str.replace('p:','')"
   ]
  },
  {
   "cell_type": "code",
   "execution_count": 54,
   "metadata": {},
   "outputs": [
    {
     "data": {
      "text/html": [
       "<div>\n",
       "<style scoped>\n",
       "    .dataframe tbody tr th:only-of-type {\n",
       "        vertical-align: middle;\n",
       "    }\n",
       "\n",
       "    .dataframe tbody tr th {\n",
       "        vertical-align: top;\n",
       "    }\n",
       "\n",
       "    .dataframe thead th {\n",
       "        text-align: right;\n",
       "    }\n",
       "</style>\n",
       "<table border=\"1\" class=\"dataframe\">\n",
       "  <thead>\n",
       "    <tr style=\"text-align: right;\">\n",
       "      <th></th>\n",
       "      <th>id</th>\n",
       "      <th>object_id</th>\n",
       "      <th>degree_type</th>\n",
       "      <th>subject</th>\n",
       "    </tr>\n",
       "  </thead>\n",
       "  <tbody>\n",
       "    <tr>\n",
       "      <th>0</th>\n",
       "      <td>1</td>\n",
       "      <td>6117</td>\n",
       "      <td>MBA</td>\n",
       "      <td>NaN</td>\n",
       "    </tr>\n",
       "    <tr>\n",
       "      <th>1</th>\n",
       "      <td>2</td>\n",
       "      <td>6136</td>\n",
       "      <td>BA</td>\n",
       "      <td>English, French</td>\n",
       "    </tr>\n",
       "    <tr>\n",
       "      <th>2</th>\n",
       "      <td>3</td>\n",
       "      <td>6136</td>\n",
       "      <td>MS</td>\n",
       "      <td>Mass Communication</td>\n",
       "    </tr>\n",
       "    <tr>\n",
       "      <th>3</th>\n",
       "      <td>4</td>\n",
       "      <td>6005</td>\n",
       "      <td>MS</td>\n",
       "      <td>Internet Technology</td>\n",
       "    </tr>\n",
       "    <tr>\n",
       "      <th>4</th>\n",
       "      <td>5</td>\n",
       "      <td>5832</td>\n",
       "      <td>BCS</td>\n",
       "      <td>Computer Science, Psychology</td>\n",
       "    </tr>\n",
       "  </tbody>\n",
       "</table>\n",
       "</div>"
      ],
      "text/plain": [
       "   id object_id degree_type                       subject\n",
       "0   1      6117         MBA                           NaN\n",
       "1   2      6136          BA               English, French\n",
       "2   3      6136          MS            Mass Communication\n",
       "3   4      6005          MS           Internet Technology\n",
       "4   5      5832         BCS  Computer Science, Psychology"
      ]
     },
     "execution_count": 54,
     "metadata": {},
     "output_type": "execute_result"
    }
   ],
   "source": [
    "degrees_df.head()"
   ]
  },
  {
   "cell_type": "markdown",
   "metadata": {},
   "source": [
    "Промежуточный итог:\n",
    "\n",
    "- Оценили неполноту данных об образовании относительно категорий компаний по штату сотрудников. \n",
    "- После редактирования таблицу `degrees_df` можно присоединить к `education_df` по столбцам `object_id` и `person_id` соответственно. "
   ]
  },
  {
   "cell_type": "markdown",
   "metadata": {
    "id": "Lz7qjM32xglW"
   },
   "source": [
    "### 2.3. Объединять или не объединять — вот в чём вопрос\n",
    "\n",
    "Некоторые названия столбцов встречаются в датасетах чаще других. В результате предварительной проверки датасетов было выяснено, что столбец `company_id` подходит для объединения данных.\n",
    "\n",
    "- Установите, подходит ли для объединения данных столбец `network_username`, который встречается в нескольких датасетах. Нам необходимо понимать, дублируется ли для разных датасетов информация в столбцах с таким названием, и если да — то насколько часто.\n",
    "- Оцените, можно ли использовать столбцы с именем `network_username` для объединения данных."
   ]
  },
  {
   "cell_type": "markdown",
   "metadata": {},
   "source": [
    "-------"
   ]
  },
  {
   "cell_type": "markdown",
   "metadata": {},
   "source": [
    "Изучим уникалные значения для каждого столбца с названием `network_username` в разных датасетах:"
   ]
  },
  {
   "cell_type": "code",
   "execution_count": 55,
   "metadata": {
    "id": "zyI3rt0rxg1O"
   },
   "outputs": [
    {
     "data": {
      "text/plain": [
       "array([nan, 'jobsbostontech', 'fbroulette', ..., 'itechsocialnet',\n",
       "       'socialnethubs', 'esocialnetlike'], dtype=object)"
      ]
     },
     "execution_count": 55,
     "metadata": {},
     "output_type": "execute_result"
    }
   ],
   "source": [
    "people_df['network_username'].unique()"
   ]
  },
  {
   "cell_type": "code",
   "execution_count": 56,
   "metadata": {
    "id": "RxOS5rwmFcNW"
   },
   "outputs": [
    {
     "data": {
      "text/plain": [
       "array(['BachelrWetpaint', nan, 'Hostnine', ..., 'networkzend',\n",
       "       'pPhotonet', 'Photonet'], dtype=object)"
      ]
     },
     "execution_count": 56,
     "metadata": {},
     "output_type": "execute_result"
    }
   ],
   "source": [
    "company_and_rounds_df['network_username'].unique()"
   ]
  },
  {
   "cell_type": "code",
   "execution_count": 57,
   "metadata": {
    "id": "_7gjdrGOFcB2"
   },
   "outputs": [
    {
     "data": {
      "text/plain": [
       "array([nan, 'greylockvc', 'imi_vc', ..., 'CalSTRS', 'haystack_fund',\n",
       "       'fbFund'], dtype=object)"
      ]
     },
     "execution_count": 57,
     "metadata": {},
     "output_type": "execute_result"
    }
   ],
   "source": [
    "fund_df['network_username'].unique()"
   ]
  },
  {
   "cell_type": "markdown",
   "metadata": {},
   "source": [
    "На этапе знакоства с данными было выясненно, что данные под одинаковым названием столбца в разных датасетах - имеют разный контекст. \n",
    "\n",
    "При изучении уникальных значений - схожести так же не обнаружено."
   ]
  },
  {
   "cell_type": "code",
   "execution_count": 63,
   "metadata": {},
   "outputs": [
    {
     "data": {
      "image/png": "[encoded data removed]",
      "text/plain": [
       "<Figure size 432x288 with 1 Axes>"
      ]
     },
     "metadata": {},
     "output_type": "display_data"
    }
   ],
   "source": [
    "\n",
    "from matplotlib_venn import venn2, venn3 \n",
    "import matplotlib.pyplot as plt\n",
    "\n",
    "# Строим диаграмму Венна\n",
    "venn3([set(people_df['network_username']), set(company_and_rounds_df['network_username']),set(fund_df['network_username'])], set_labels=('people_nicknames','company_nicknames', 'fund_nicknames'))\n",
    "\n",
    "# Отображаем график\n",
    "plt.title(\"Пересечение данных столбца network_username в разных датасетах\")\n",
    "plt.show()        "
   ]
  },
  {
   "cell_type": "markdown",
   "metadata": {},
   "source": [
    "Диограмма показывает очень низкий процент пересечения данных. Объединение данных по столбцу `network_username` не является корректным."
   ]
  },
  {
   "cell_type": "markdown",
   "metadata": {
    "id": "EHcODomVrJg1"
   },
   "source": [
    "\n",
    "### 2.4. Проблемный датасет и причина возникновения пропусков\n",
    "\n",
    "Во время собственного анализа данных у заказчика больше всего вопросов возникло к датасету `company_and_rounds.csv`. В нём много пропусков как раз в информации о раундах, которая заказчику важна.\n",
    "\n",
    "- Любым удобным способом приведите данные в вид, который позволит в дальнейшем проводить анализ в разрезе отдельных компаний. Обратите внимание на структуру датасета, порядок и названия столбцов, проанализируйте значения.\n",
    "\n",
    "По гипотезе заказчика данные по компаниям из этой таблицы раньше хранились иначе, более удобным для исследования образом.\n",
    "\n",
    "- Максимальным образом сохраняя данные, сохранив их связность и исключив возможные возникающие при этом ошибки, подготовьте данные так, чтобы удобно было отобрать компании по параметрам и рассчитать показатели из расчёта на одну компанию без промежуточных агрегаций."
   ]
  },
  {
   "cell_type": "markdown",
   "metadata": {},
   "source": [
    "----------"
   ]
  },
  {
   "cell_type": "code",
   "execution_count": 64,
   "metadata": {
    "id": "oSk7xqu_FbaN"
   },
   "outputs": [
    {
     "name": "stdout",
     "output_type": "stream",
     "text": [
      "<class 'pandas.core.frame.DataFrame'>\n",
      "RangeIndex: 217774 entries, 0 to 217773\n",
      "Data columns (total 23 columns):\n",
      " #   Column               Non-Null Count   Dtype         \n",
      "---  ------               --------------   -----         \n",
      " 0   company_id_x         217472 non-null  float64       \n",
      " 1   name                 217472 non-null  object        \n",
      " 2   category_code        143886 non-null  object        \n",
      " 3   status               217472 non-null  object        \n",
      " 4   founded_at           109956 non-null  datetime64[ns]\n",
      " 5   closed_at            3449 non-null    datetime64[ns]\n",
      " 6   domain               147159 non-null  object        \n",
      " 7   network_username     95534 non-null   object        \n",
      " 8   country_code         108607 non-null  object        \n",
      " 9   investment_rounds    217472 non-null  float64       \n",
      " 10  funding_rounds       217472 non-null  float64       \n",
      " 11  funding_total        217472 non-null  float64       \n",
      " 12  milestones           217472 non-null  float64       \n",
      " 13  funding_round_id     52928 non-null   float64       \n",
      " 14  company_id           52928 non-null   float64       \n",
      " 15  funded_at            52680 non-null   datetime64[ns]\n",
      " 16  funding_round_type   52928 non-null   object        \n",
      " 17  raised_amount        52928 non-null   float64       \n",
      " 18  pre_money_valuation  52928 non-null   float64       \n",
      " 19  participants         52928 non-null   float64       \n",
      " 20  is_first_round       52928 non-null   float64       \n",
      " 21  is_last_round        52928 non-null   float64       \n",
      " 22  funded_year          52680 non-null   float64       \n",
      "dtypes: datetime64[ns](3), float64(13), object(7)\n",
      "memory usage: 38.2+ MB\n"
     ]
    }
   ],
   "source": [
    "# Еще раз выведем информацию о датасете\n",
    "company_and_rounds_df.info()"
   ]
  },
  {
   "cell_type": "code",
   "execution_count": 65,
   "metadata": {},
   "outputs": [
    {
     "data": {
      "text/plain": [
       "company_id_x            0.138676\n",
       "name                    0.138676\n",
       "category_code          33.928752\n",
       "status                  0.138676\n",
       "founded_at             49.509124\n",
       "closed_at              98.416248\n",
       "domain                 32.425818\n",
       "network_username       56.131586\n",
       "country_code           50.128574\n",
       "investment_rounds       0.138676\n",
       "funding_rounds          0.138676\n",
       "funding_total           0.138676\n",
       "milestones              0.138676\n",
       "funding_round_id       75.695905\n",
       "company_id             75.695905\n",
       "funded_at              75.809784\n",
       "funding_round_type     75.695905\n",
       "raised_amount          75.695905\n",
       "pre_money_valuation    75.695905\n",
       "participants           75.695905\n",
       "is_first_round         75.695905\n",
       "is_last_round          75.695905\n",
       "funded_year            75.809784\n",
       "dtype: float64"
      ]
     },
     "execution_count": 65,
     "metadata": {},
     "output_type": "execute_result"
    }
   ],
   "source": [
    "# Выведем пропуски в процентах\n",
    "company_and_rounds_df.isna().sum() / company_and_rounds_df.shape[0]*100"
   ]
  },
  {
   "cell_type": "code",
   "execution_count": null,
   "metadata": {
    "id": "9BY9lTUcFbJ-"
   },
   "outputs": [],
   "source": [
    "# Отсортируем по полю `company_id` для наглядности\n",
    "company_and_rounds_df.sort_values(by='company_id').head(10)"
   ]
  },
  {
   "cell_type": "markdown",
   "metadata": {
    "id": "tJ6Sl6MKrJg1",
    "vscode": {
     "languageId": "plaintext"
    }
   },
   "source": [
    "Судя по схожим долям пропусков между столбцами из начала и конца таблицы - скорее всего это последствия присоединения двух датасетов по полю `company_id` с параметром `full`"
   ]
  },
  {
   "cell_type": "markdown",
   "metadata": {},
   "source": [
    "Для удобства разделим текущий датафрейм на два разных датасета:"
   ]
  },
  {
   "cell_type": "code",
   "execution_count": 66,
   "metadata": {},
   "outputs": [],
   "source": [
    "# Создадим новый датафрейм, содержащий информацию о компаниях\n",
    "company_df = company_and_rounds_df.iloc[:,:13]"
   ]
  },
  {
   "cell_type": "code",
   "execution_count": 67,
   "metadata": {},
   "outputs": [],
   "source": [
    "company_df = company_df.drop_duplicates(subset=['company_id_x', 'name', 'category_code', 'status', \n",
    "                             'founded_at', 'closed_at', 'domain', \n",
    "                             'network_username', 'country_code', 'investment_rounds', 'funding_rounds', \n",
    "                            'funding_total', 'milestones'], keep='first')"
   ]
  },
  {
   "cell_type": "code",
   "execution_count": 68,
   "metadata": {},
   "outputs": [],
   "source": [
    "company_df = company_df.dropna(subset=['company_id_x'])"
   ]
  },
  {
   "cell_type": "code",
   "execution_count": 69,
   "metadata": {},
   "outputs": [
    {
     "name": "stdout",
     "output_type": "stream",
     "text": [
      "<class 'pandas.core.frame.DataFrame'>\n",
      "Int64Index: 196553 entries, 0 to 217469\n",
      "Data columns (total 13 columns):\n",
      " #   Column             Non-Null Count   Dtype         \n",
      "---  ------             --------------   -----         \n",
      " 0   company_id_x       196553 non-null  float64       \n",
      " 1   name               196553 non-null  object        \n",
      " 2   category_code      123186 non-null  object        \n",
      " 3   status             196553 non-null  object        \n",
      " 4   founded_at         91227 non-null   datetime64[ns]\n",
      " 5   closed_at          2620 non-null    datetime64[ns]\n",
      " 6   domain             126545 non-null  object        \n",
      " 7   network_username   80591 non-null   object        \n",
      " 8   country_code       87990 non-null   object        \n",
      " 9   investment_rounds  196553 non-null  float64       \n",
      " 10  funding_rounds     196553 non-null  float64       \n",
      " 11  funding_total      196553 non-null  float64       \n",
      " 12  milestones         196553 non-null  float64       \n",
      "dtypes: datetime64[ns](2), float64(5), object(6)\n",
      "memory usage: 21.0+ MB\n"
     ]
    }
   ],
   "source": [
    "company_df.info()"
   ]
  },
  {
   "cell_type": "code",
   "execution_count": 70,
   "metadata": {},
   "outputs": [],
   "source": [
    "# Преобразуем типы данных\n",
    "company_df['funding_total'] = company_df['funding_total'].astype('int64')"
   ]
  },
  {
   "cell_type": "code",
   "execution_count": 76,
   "metadata": {},
   "outputs": [],
   "source": [
    "# Делаем отдельную таблицу по раундам инвестирования\n",
    "rounds_df = company_and_rounds_df[['company_id', 'raised_amount', 'funding_round_id', \n",
    "                            'funded_at', 'funding_round_type', 'pre_money_valuation', \n",
    "                            'participants', 'is_first_round', \n",
    "                            'is_last_round', 'funded_year']]"
   ]
  },
  {
   "cell_type": "code",
   "execution_count": 77,
   "metadata": {},
   "outputs": [
    {
     "data": {
      "text/html": [
       "<div>\n",
       "<style scoped>\n",
       "    .dataframe tbody tr th:only-of-type {\n",
       "        vertical-align: middle;\n",
       "    }\n",
       "\n",
       "    .dataframe tbody tr th {\n",
       "        vertical-align: top;\n",
       "    }\n",
       "\n",
       "    .dataframe thead th {\n",
       "        text-align: right;\n",
       "    }\n",
       "</style>\n",
       "<table border=\"1\" class=\"dataframe\">\n",
       "  <thead>\n",
       "    <tr style=\"text-align: right;\">\n",
       "      <th></th>\n",
       "      <th>company_id</th>\n",
       "      <th>raised_amount</th>\n",
       "      <th>funding_round_id</th>\n",
       "      <th>funded_at</th>\n",
       "      <th>funding_round_type</th>\n",
       "      <th>pre_money_valuation</th>\n",
       "      <th>participants</th>\n",
       "      <th>is_first_round</th>\n",
       "      <th>is_last_round</th>\n",
       "      <th>funded_year</th>\n",
       "    </tr>\n",
       "  </thead>\n",
       "  <tbody>\n",
       "    <tr>\n",
       "      <th>3</th>\n",
       "      <td>NaN</td>\n",
       "      <td>NaN</td>\n",
       "      <td>NaN</td>\n",
       "      <td>NaT</td>\n",
       "      <td>NaN</td>\n",
       "      <td>NaN</td>\n",
       "      <td>NaN</td>\n",
       "      <td>NaN</td>\n",
       "      <td>NaN</td>\n",
       "      <td>NaN</td>\n",
       "    </tr>\n",
       "    <tr>\n",
       "      <th>4</th>\n",
       "      <td>NaN</td>\n",
       "      <td>NaN</td>\n",
       "      <td>NaN</td>\n",
       "      <td>NaT</td>\n",
       "      <td>NaN</td>\n",
       "      <td>NaN</td>\n",
       "      <td>NaN</td>\n",
       "      <td>NaN</td>\n",
       "      <td>NaN</td>\n",
       "      <td>NaN</td>\n",
       "    </tr>\n",
       "    <tr>\n",
       "      <th>5</th>\n",
       "      <td>NaN</td>\n",
       "      <td>NaN</td>\n",
       "      <td>NaN</td>\n",
       "      <td>NaT</td>\n",
       "      <td>NaN</td>\n",
       "      <td>NaN</td>\n",
       "      <td>NaN</td>\n",
       "      <td>NaN</td>\n",
       "      <td>NaN</td>\n",
       "      <td>NaN</td>\n",
       "    </tr>\n",
       "    <tr>\n",
       "      <th>6</th>\n",
       "      <td>NaN</td>\n",
       "      <td>NaN</td>\n",
       "      <td>NaN</td>\n",
       "      <td>NaT</td>\n",
       "      <td>NaN</td>\n",
       "      <td>NaN</td>\n",
       "      <td>NaN</td>\n",
       "      <td>NaN</td>\n",
       "      <td>NaN</td>\n",
       "      <td>NaN</td>\n",
       "    </tr>\n",
       "    <tr>\n",
       "      <th>7</th>\n",
       "      <td>NaN</td>\n",
       "      <td>NaN</td>\n",
       "      <td>NaN</td>\n",
       "      <td>NaT</td>\n",
       "      <td>NaN</td>\n",
       "      <td>NaN</td>\n",
       "      <td>NaN</td>\n",
       "      <td>NaN</td>\n",
       "      <td>NaN</td>\n",
       "      <td>NaN</td>\n",
       "    </tr>\n",
       "  </tbody>\n",
       "</table>\n",
       "</div>"
      ],
      "text/plain": [
       "   company_id  raised_amount  funding_round_id funded_at funding_round_type  \\\n",
       "3         NaN            NaN               NaN       NaT                NaN   \n",
       "4         NaN            NaN               NaN       NaT                NaN   \n",
       "5         NaN            NaN               NaN       NaT                NaN   \n",
       "6         NaN            NaN               NaN       NaT                NaN   \n",
       "7         NaN            NaN               NaN       NaT                NaN   \n",
       "\n",
       "   pre_money_valuation  participants  is_first_round  is_last_round  \\\n",
       "3                  NaN           NaN             NaN            NaN   \n",
       "4                  NaN           NaN             NaN            NaN   \n",
       "5                  NaN           NaN             NaN            NaN   \n",
       "6                  NaN           NaN             NaN            NaN   \n",
       "7                  NaN           NaN             NaN            NaN   \n",
       "\n",
       "   funded_year  \n",
       "3          NaN  \n",
       "4          NaN  \n",
       "5          NaN  \n",
       "6          NaN  \n",
       "7          NaN  "
      ]
     },
     "metadata": {},
     "output_type": "display_data"
    }
   ],
   "source": [
    "# Cмотрим пропуски\n",
    "display(rounds_df[rounds_df['funding_round_type'].isna()].head()) "
   ]
  },
  {
   "cell_type": "code",
   "execution_count": 78,
   "metadata": {},
   "outputs": [],
   "source": [
    "# Удаляем пропуски\n",
    "rounds_df=rounds_df.dropna(subset=['funding_round_type'])"
   ]
  },
  {
   "cell_type": "markdown",
   "metadata": {},
   "source": [
    "Промежуточный итог:\n",
    "\n",
    "- Данные датасета `company_and_rounds` скорее всего содержались ранее в разных датасетах.\n",
    "- Проанализировав данные и пропуски, принято решение разделить датасет на две исходные таблицы: `company_df` и `rounds_df`"
   ]
  },
  {
   "cell_type": "markdown",
   "metadata": {
    "id": "bmVYhphNrJg2"
   },
   "source": [
    "\n",
    "## Шаг 3. Исследовательский анализ объединённых таблиц\n"
   ]
  },
  {
   "cell_type": "markdown",
   "metadata": {
    "id": "3Di6tCT3rJg2"
   },
   "source": [
    "\n",
    "### 3.1. Объединение данных\n",
    "\n",
    "Объедините данные для ответа на вопросы заказчика, которые касаются интересующих его компаний. Заказчика прежде всего интересуют те компании, которые меняли или готовы менять владельцев. Получение инвестиций или финансирования, по мнению заказчика, означает интерес к покупке или продаже компании.\n",
    "\n",
    "В качестве основы для объединённой таблицы возьмите данные из обработанного датасета `company_and_rounds.csv` — выберите только те компании, у которых указаны значения `funding_rounds` или `investment_rounds` больше нуля, или те, у которых в колонке `status` указано `acquired`. В результирующей таблице должно получиться порядка 40 тысяч компаний.\n",
    "\n",
    "Проверьте полноту и корректность получившейся таблицы. Далее работайте только с этими данными."
   ]
  },
  {
   "cell_type": "code",
   "execution_count": 79,
   "metadata": {
    "id": "kuV1b5MXFg3_"
   },
   "outputs": [],
   "source": [
    "# Отфильтруем датафрейм согласно заданию\n",
    "filtered_company_df = company_df[(company_df['funding_rounds']>0)|\n",
    "                                 (company_df['investment_rounds']>0)|\n",
    "                                 (company_df['status']=='acquired')]"
   ]
  },
  {
   "cell_type": "code",
   "execution_count": 80,
   "metadata": {
    "id": "93v3fEX5FgtP"
   },
   "outputs": [
    {
     "name": "stdout",
     "output_type": "stream",
     "text": [
      "<class 'pandas.core.frame.DataFrame'>\n",
      "Int64Index: 40747 entries, 0 to 217469\n",
      "Data columns (total 13 columns):\n",
      " #   Column             Non-Null Count  Dtype         \n",
      "---  ------             --------------  -----         \n",
      " 0   company_id_x       40747 non-null  float64       \n",
      " 1   name               40747 non-null  object        \n",
      " 2   category_code      35315 non-null  object        \n",
      " 3   status             40747 non-null  object        \n",
      " 4   founded_at         27807 non-null  datetime64[ns]\n",
      " 5   closed_at          2128 non-null   datetime64[ns]\n",
      " 6   domain             35754 non-null  object        \n",
      " 7   network_username   20850 non-null  object        \n",
      " 8   country_code       34742 non-null  object        \n",
      " 9   investment_rounds  40747 non-null  float64       \n",
      " 10  funding_rounds     40747 non-null  float64       \n",
      " 11  funding_total      40747 non-null  int64         \n",
      " 12  milestones         40747 non-null  float64       \n",
      "dtypes: datetime64[ns](2), float64(4), int64(1), object(6)\n",
      "memory usage: 4.4+ MB\n"
     ]
    }
   ],
   "source": [
    "filtered_company_df.info()"
   ]
  },
  {
   "cell_type": "code",
   "execution_count": 81,
   "metadata": {},
   "outputs": [],
   "source": [
    "# Объединим таблицы acquisition_df и filtered_company_df\n",
    "merged_df = pd.merge(filtered_company_df,acquisition_df, left_on='company_id_x',right_on='acquired_company_id',how='left')"
   ]
  },
  {
   "cell_type": "code",
   "execution_count": 82,
   "metadata": {},
   "outputs": [
    {
     "name": "stdout",
     "output_type": "stream",
     "text": [
      "<class 'pandas.core.frame.DataFrame'>\n",
      "Int64Index: 40890 entries, 0 to 40889\n",
      "Data columns (total 19 columns):\n",
      " #   Column                Non-Null Count  Dtype         \n",
      "---  ------                --------------  -----         \n",
      " 0   company_id_x          40890 non-null  float64       \n",
      " 1   name                  40890 non-null  object        \n",
      " 2   category_code         35436 non-null  object        \n",
      " 3   status                40890 non-null  object        \n",
      " 4   founded_at            27911 non-null  datetime64[ns]\n",
      " 5   closed_at             2128 non-null   datetime64[ns]\n",
      " 6   domain                35883 non-null  object        \n",
      " 7   network_username      20938 non-null  object        \n",
      " 8   country_code          34858 non-null  object        \n",
      " 9   investment_rounds     40890 non-null  float64       \n",
      " 10  funding_rounds        40890 non-null  float64       \n",
      " 11  funding_total         40890 non-null  int64         \n",
      " 12  milestones            40890 non-null  float64       \n",
      " 13  id                    9390 non-null   float64       \n",
      " 14  acquiring_company_id  9390 non-null   float64       \n",
      " 15  acquired_company_id   9390 non-null   float64       \n",
      " 16  term_code             1830 non-null   object        \n",
      " 17  price_amount          9390 non-null   float64       \n",
      " 18  acquired_at           9361 non-null   datetime64[ns]\n",
      "dtypes: datetime64[ns](3), float64(8), int64(1), object(7)\n",
      "memory usage: 6.2+ MB\n"
     ]
    }
   ],
   "source": [
    "merged_df.info()"
   ]
  },
  {
   "cell_type": "markdown",
   "metadata": {
    "id": "DFHINkV3rJg2"
   },
   "source": [
    "\n",
    "### 3.2. Анализ выбросов\n",
    "\n",
    "Заказчика интересует обычный для рассматриваемого периода размер средств, который предоставлялся компаниям.\n",
    "\n",
    "- По предобработанному столбцу `funding_total` графическим способом оцените, какой размер общего финансирования для одной компании будет типичным, а какой — выбивающимся.\n",
    "- В процессе расчёта значений обратите внимание, например, на показатели, возвращаемые методом `.describe()`, — объясните их. Применимы ли к таким данным обычные способы нахождения типичных значений?"
   ]
  },
  {
   "cell_type": "code",
   "execution_count": 83,
   "metadata": {
    "id": "8jm75fKXrJg2",
    "vscode": {
     "languageId": "plaintext"
    }
   },
   "outputs": [
    {
     "data": {
      "text/plain": [
       "count    4.074700e+04\n",
       "mean     1.013561e+07\n",
       "std      5.646436e+07\n",
       "min      0.000000e+00\n",
       "25%      0.000000e+00\n",
       "50%      6.000000e+05\n",
       "75%      5.650650e+06\n",
       "max      5.700000e+09\n",
       "Name: funding_total, dtype: float64"
      ]
     },
     "execution_count": 83,
     "metadata": {},
     "output_type": "execute_result"
    }
   ],
   "source": [
    "# Посмотрим стандартные показатели\n",
    "filtered_company_df['funding_total'].describe()"
   ]
  },
  {
   "cell_type": "code",
   "execution_count": 84,
   "metadata": {},
   "outputs": [
    {
     "data": {
      "image/png": "[encoded data removed]",
      "text/plain": [
       "<Figure size 720x432 with 1 Axes>"
      ]
     },
     "metadata": {
      "needs_background": "light"
     },
     "output_type": "display_data"
    }
   ],
   "source": [
    "# Гистограмма для оценки распределения\n",
    "plt.figure(figsize=(10, 6))\n",
    "plt.hist(filtered_company_df['funding_total']/1e6, bins=50,edgecolor='black')\n",
    "plt.title('Распределение общего финансирования')\n",
    "plt.xlabel('Общее финансирование(млн)')\n",
    "plt.ylabel('Количество компаний')\n",
    "plt.grid()\n"
   ]
  },
  {
   "cell_type": "code",
   "execution_count": 85,
   "metadata": {},
   "outputs": [
    {
     "data": {
      "image/png": "[encoded data removed]",
      "text/plain": [
       "<Figure size 720x432 with 1 Axes>"
      ]
     },
     "metadata": {
      "needs_background": "light"
     },
     "output_type": "display_data"
    }
   ],
   "source": [
    "# Ящик с усами для выявления выбросов\n",
    "plt.figure(figsize=(10, 6))\n",
    "plt.boxplot(filtered_company_df['funding_total']/1e6, vert=False, whis=1.5)\n",
    "plt.title('Ящик с усами для общего финансирования')\n",
    "plt.xlabel('Общее финансирование(млн.)')\n",
    "plt.grid(axis='x', alpha=0.75)\n"
   ]
  },
  {
   "cell_type": "markdown",
   "metadata": {},
   "source": [
    "Изучаемый набор данных содержит информацию о финансах разной степени давности для компаний разного уровня. Медиана очень сильно отличается от среднего значения. \n",
    "\n",
    "Изучив данные и графики прихожу к выводу, что стандартные методы оценки типичных значений и выбросов для этого столбца не применимы.\n",
    "\n",
    "Посчитаем выбросы с помощью IQR:"
   ]
  },
  {
   "cell_type": "code",
   "execution_count": 86,
   "metadata": {},
   "outputs": [],
   "source": [
    "funding_total_values = filtered_company_df['funding_total']\n",
    "\n",
    "Q1 = funding_total_values.quantile(0.25)\n",
    "Q3 = funding_total_values.quantile(0.75)\n",
    "IQR = Q3 - Q1"
   ]
  },
  {
   "cell_type": "code",
   "execution_count": 87,
   "metadata": {},
   "outputs": [
    {
     "name": "stdout",
     "output_type": "stream",
     "text": [
      "-8475975.0\n",
      "14126625.0\n"
     ]
    }
   ],
   "source": [
    "# Посчитаем границы\n",
    "lower_bound = Q1 - 1.5 * IQR\n",
    "upper_bound = Q3 + 1.5 * IQR\n",
    "print(lower_bound)\n",
    "print(upper_bound)"
   ]
  },
  {
   "cell_type": "code",
   "execution_count": 88,
   "metadata": {},
   "outputs": [
    {
     "data": {
      "text/plain": [
       "14.376518516700616"
      ]
     },
     "execution_count": 88,
     "metadata": {},
     "output_type": "execute_result"
    }
   ],
   "source": [
    "# Узнаем процентиль верхней границы\n",
    "(funding_total_values > upper_bound).mean() * 100\n"
   ]
  },
  {
   "cell_type": "markdown",
   "metadata": {},
   "source": [
    "Промежуточные итоги и выводы:\n",
    "\n",
    "- Стандартные показатели не применимы для оценки выбросов и типичных. \n",
    "- Выбросов снизу не обнаружно. \n",
    "- Верхняя граница выбросов - $14.126.625 (~14%)"
   ]
  },
  {
   "cell_type": "markdown",
   "metadata": {
    "id": "JqkRAQrIrJg2"
   },
   "source": [
    "\n",
    "### 3.3. Куплены забесплатно?\n",
    "\n",
    "- Исследуйте компании, которые были проданы за ноль или за один доллар, и при этом известно, что у них был ненулевой общий объём финансирования.\n",
    "\n",
    "- Рассчитайте аналитически верхнюю и нижнюю границу выбросов для столбца `funding_total` и укажите, каким процентилям границы соответствуют."
   ]
  },
  {
   "cell_type": "code",
   "execution_count": 89,
   "metadata": {
    "id": "wJHXCBwwrJg2",
    "vscode": {
     "languageId": "plaintext"
    }
   },
   "outputs": [],
   "source": [
    "# Отфильтруем данные по условиям задачи\n",
    "cheap_sales = merged_df[(merged_df['price_amount'].isin([0,1]))&(merged_df['funding_total'] > 0)]"
   ]
  },
  {
   "cell_type": "code",
   "execution_count": 90,
   "metadata": {
    "id": "9IDTHfYQFhuX"
   },
   "outputs": [
    {
     "data": {
      "text/html": [
       "<div>\n",
       "<style scoped>\n",
       "    .dataframe tbody tr th:only-of-type {\n",
       "        vertical-align: middle;\n",
       "    }\n",
       "\n",
       "    .dataframe tbody tr th {\n",
       "        vertical-align: top;\n",
       "    }\n",
       "\n",
       "    .dataframe thead th {\n",
       "        text-align: right;\n",
       "    }\n",
       "</style>\n",
       "<table border=\"1\" class=\"dataframe\">\n",
       "  <thead>\n",
       "    <tr style=\"text-align: right;\">\n",
       "      <th></th>\n",
       "      <th>company_id_x</th>\n",
       "      <th>name</th>\n",
       "      <th>category_code</th>\n",
       "      <th>status</th>\n",
       "      <th>founded_at</th>\n",
       "      <th>closed_at</th>\n",
       "      <th>domain</th>\n",
       "      <th>network_username</th>\n",
       "      <th>country_code</th>\n",
       "      <th>investment_rounds</th>\n",
       "      <th>funding_rounds</th>\n",
       "      <th>funding_total</th>\n",
       "      <th>milestones</th>\n",
       "      <th>id</th>\n",
       "      <th>acquiring_company_id</th>\n",
       "      <th>acquired_company_id</th>\n",
       "      <th>term_code</th>\n",
       "      <th>price_amount</th>\n",
       "      <th>acquired_at</th>\n",
       "    </tr>\n",
       "  </thead>\n",
       "  <tbody>\n",
       "    <tr>\n",
       "      <th>25</th>\n",
       "      <td>10054.0</td>\n",
       "      <td>Jumptap</td>\n",
       "      <td>mobile</td>\n",
       "      <td>acquired</td>\n",
       "      <td>2005-01-01</td>\n",
       "      <td>NaT</td>\n",
       "      <td>jumptap.com</td>\n",
       "      <td>jumptap</td>\n",
       "      <td>USA</td>\n",
       "      <td>0.0</td>\n",
       "      <td>7.0</td>\n",
       "      <td>121500000</td>\n",
       "      <td>3.0</td>\n",
       "      <td>9288.0</td>\n",
       "      <td>23283.0</td>\n",
       "      <td>10054.0</td>\n",
       "      <td>cash_and_stock</td>\n",
       "      <td>0.0</td>\n",
       "      <td>2013-08-13</td>\n",
       "    </tr>\n",
       "    <tr>\n",
       "      <th>63</th>\n",
       "      <td>101312.0</td>\n",
       "      <td>SideTour</td>\n",
       "      <td>web</td>\n",
       "      <td>acquired</td>\n",
       "      <td>2011-06-01</td>\n",
       "      <td>NaT</td>\n",
       "      <td>sidetour.com</td>\n",
       "      <td>sidetour</td>\n",
       "      <td>USA</td>\n",
       "      <td>0.0</td>\n",
       "      <td>3.0</td>\n",
       "      <td>4000000</td>\n",
       "      <td>2.0</td>\n",
       "      <td>9653.0</td>\n",
       "      <td>11391.0</td>\n",
       "      <td>101312.0</td>\n",
       "      <td>NaN</td>\n",
       "      <td>0.0</td>\n",
       "      <td>2013-09-18</td>\n",
       "    </tr>\n",
       "    <tr>\n",
       "      <th>66</th>\n",
       "      <td>101340.0</td>\n",
       "      <td>ChoicePass</td>\n",
       "      <td>enterprise</td>\n",
       "      <td>acquired</td>\n",
       "      <td>2011-07-01</td>\n",
       "      <td>NaT</td>\n",
       "      <td>choicepass.com</td>\n",
       "      <td>choicepass</td>\n",
       "      <td>USA</td>\n",
       "      <td>0.0</td>\n",
       "      <td>1.0</td>\n",
       "      <td>250000</td>\n",
       "      <td>1.0</td>\n",
       "      <td>7272.0</td>\n",
       "      <td>1972.0</td>\n",
       "      <td>101340.0</td>\n",
       "      <td>NaN</td>\n",
       "      <td>0.0</td>\n",
       "      <td>2012-06-18</td>\n",
       "    </tr>\n",
       "    <tr>\n",
       "      <th>67</th>\n",
       "      <td>10137.0</td>\n",
       "      <td>Producteev</td>\n",
       "      <td>software</td>\n",
       "      <td>acquired</td>\n",
       "      <td>2008-07-08</td>\n",
       "      <td>NaT</td>\n",
       "      <td>producteev.com</td>\n",
       "      <td>producteev</td>\n",
       "      <td>USA</td>\n",
       "      <td>0.0</td>\n",
       "      <td>3.0</td>\n",
       "      <td>1310000</td>\n",
       "      <td>2.0</td>\n",
       "      <td>8254.0</td>\n",
       "      <td>757.0</td>\n",
       "      <td>10137.0</td>\n",
       "      <td>cash_and_stock</td>\n",
       "      <td>0.0</td>\n",
       "      <td>2012-11-05</td>\n",
       "    </tr>\n",
       "    <tr>\n",
       "      <th>68</th>\n",
       "      <td>10139.0</td>\n",
       "      <td>TradeCard</td>\n",
       "      <td>enterprise</td>\n",
       "      <td>acquired</td>\n",
       "      <td>1999-01-01</td>\n",
       "      <td>NaT</td>\n",
       "      <td>tradecard.com</td>\n",
       "      <td>TradeCard</td>\n",
       "      <td>USA</td>\n",
       "      <td>0.0</td>\n",
       "      <td>2.0</td>\n",
       "      <td>44925000</td>\n",
       "      <td>1.0</td>\n",
       "      <td>9326.0</td>\n",
       "      <td>44008.0</td>\n",
       "      <td>10139.0</td>\n",
       "      <td>NaN</td>\n",
       "      <td>0.0</td>\n",
       "      <td>2013-04-01</td>\n",
       "    </tr>\n",
       "  </tbody>\n",
       "</table>\n",
       "</div>"
      ],
      "text/plain": [
       "    company_id_x        name category_code    status founded_at closed_at  \\\n",
       "25       10054.0     Jumptap        mobile  acquired 2005-01-01       NaT   \n",
       "63      101312.0    SideTour           web  acquired 2011-06-01       NaT   \n",
       "66      101340.0  ChoicePass    enterprise  acquired 2011-07-01       NaT   \n",
       "67       10137.0  Producteev      software  acquired 2008-07-08       NaT   \n",
       "68       10139.0   TradeCard    enterprise  acquired 1999-01-01       NaT   \n",
       "\n",
       "            domain network_username country_code  investment_rounds  \\\n",
       "25     jumptap.com          jumptap          USA                0.0   \n",
       "63    sidetour.com         sidetour          USA                0.0   \n",
       "66  choicepass.com       choicepass          USA                0.0   \n",
       "67  producteev.com       producteev          USA                0.0   \n",
       "68   tradecard.com        TradeCard          USA                0.0   \n",
       "\n",
       "    funding_rounds  funding_total  milestones      id  acquiring_company_id  \\\n",
       "25             7.0      121500000         3.0  9288.0               23283.0   \n",
       "63             3.0        4000000         2.0  9653.0               11391.0   \n",
       "66             1.0         250000         1.0  7272.0                1972.0   \n",
       "67             3.0        1310000         2.0  8254.0                 757.0   \n",
       "68             2.0       44925000         1.0  9326.0               44008.0   \n",
       "\n",
       "    acquired_company_id       term_code  price_amount acquired_at  \n",
       "25              10054.0  cash_and_stock           0.0  2013-08-13  \n",
       "63             101312.0             NaN           0.0  2013-09-18  \n",
       "66             101340.0             NaN           0.0  2012-06-18  \n",
       "67              10137.0  cash_and_stock           0.0  2012-11-05  \n",
       "68              10139.0             NaN           0.0  2013-04-01  "
      ]
     },
     "execution_count": 90,
     "metadata": {},
     "output_type": "execute_result"
    }
   ],
   "source": [
    "cheap_sales.head()"
   ]
  },
  {
   "cell_type": "code",
   "execution_count": 91,
   "metadata": {},
   "outputs": [
    {
     "data": {
      "text/plain": [
       "1618"
      ]
     },
     "execution_count": 91,
     "metadata": {},
     "output_type": "execute_result"
    }
   ],
   "source": [
    "# Узнаем количество таких компаний\n",
    "cheap_sales.shape[0]"
   ]
  },
  {
   "cell_type": "markdown",
   "metadata": {},
   "source": [
    "Для исследования рассмотрим динамику таких сделок по годам. "
   ]
  },
  {
   "cell_type": "code",
   "execution_count": 92,
   "metadata": {},
   "outputs": [],
   "source": [
    "# Создадим с толбец с информацией о годе сделки\n",
    "cheap_sales['year'] = cheap_sales['acquired_at'].dt.year\n",
    "# Cгруппируем данные по годам\n",
    "deals_by_year = cheap_sales.groupby('year').size()"
   ]
  },
  {
   "cell_type": "code",
   "execution_count": 93,
   "metadata": {},
   "outputs": [
    {
     "data": {
      "image/png": "[encoded data removed]",
      "text/plain": [
       "<Figure size 720x432 with 1 Axes>"
      ]
     },
     "metadata": {
      "needs_background": "light"
     },
     "output_type": "display_data"
    }
   ],
   "source": [
    "# Построим диограмму\n",
    "plt.figure(figsize=(10, 6))\n",
    "deals_by_year.plot(kind='bar')\n",
    "plt.title('Количество \"нулевых\" сделок по годам')\n",
    "plt.xlabel('Год')\n",
    "plt.ylabel('Количество сделок')\n",
    "plt.xticks(rotation=45)\n",
    "plt.grid(axis='y')"
   ]
  },
  {
   "cell_type": "markdown",
   "metadata": {},
   "source": [
    "- Найдено 1618 таких компаний\n",
    "- Больше всего таких сделок (более 300) в 2011 и в 2012 годах."
   ]
  },
  {
   "cell_type": "markdown",
   "metadata": {},
   "source": [
    "Исследуем выбросы столбца `funding_total` с помощью IQR:"
   ]
  },
  {
   "cell_type": "code",
   "execution_count": 94,
   "metadata": {},
   "outputs": [],
   "source": [
    "# Посчитаем значение IQR\n",
    "funding_values = cheap_sales['funding_total']\n",
    "\n",
    "Q1 = funding_values.quantile(0.25)\n",
    "Q3 = funding_values.quantile(0.75)\n",
    "IQR = Q3 - Q1\n"
   ]
  },
  {
   "cell_type": "code",
   "execution_count": 95,
   "metadata": {},
   "outputs": [
    {
     "name": "stdout",
     "output_type": "stream",
     "text": [
      "-18250000.0\n",
      "35750000.0\n"
     ]
    }
   ],
   "source": [
    "# Посчитаем границы\n",
    "lower_bound = Q1 - 1.5 * IQR\n",
    "upper_bound = Q3 + 1.5 * IQR\n",
    "print(lower_bound)\n",
    "print(upper_bound)"
   ]
  },
  {
   "cell_type": "markdown",
   "metadata": {},
   "source": [
    "Нижняя граница имеет отрицательное значение. Так как финансы не могут иметь отрицательного значения, делаем вывод, что выбросы снизу отсутсвуют (Процентиль равен 0).\n",
    "\n",
    "Рассчитаем процентиль верхней границы:\n"
   ]
  },
  {
   "cell_type": "code",
   "execution_count": 96,
   "metadata": {},
   "outputs": [
    {
     "data": {
      "text/plain": [
       "9.085290482076639"
      ]
     },
     "execution_count": 96,
     "metadata": {},
     "output_type": "execute_result"
    }
   ],
   "source": [
    "(funding_values > upper_bound).mean() * 100\n"
   ]
  },
  {
   "cell_type": "markdown",
   "metadata": {},
   "source": [
    "Итоги:\n",
    "\n",
    "- Найдено 1618 компаний которые были проданы за ноль или за один доллар, и при этом известно, что у них был ненулевой общий объём финансирования.\n",
    "- Больше всех таких сделок в 2011 и в 2012 годах\n",
    "\n",
    "Посчитали выбросы для столбца `funding_total`:\n",
    "\n",
    "- Выбросов снизу не обнаружено.\n",
    "- Верхняя граница выбросов имеет значение $35.750.000 (~9%)"
   ]
  },
  {
   "cell_type": "markdown",
   "metadata": {
    "id": "mEiWpROjrJg2"
   },
   "source": [
    "\n",
    "### 3.4. Цены стартапов по категориям\n",
    "\n",
    "Категории стартапов с типично высокими ценами покупки стартапов и значительным разбросом цен могут быть привлекательными для крупных инвесторов, которые готовы к высоким рискам ради потенциально больших доходов. Среди категорий стартапов выделите категории стартапов, характеризующиеся:\n",
    "\n",
    "- типично высокими ценами;\n",
    "- и наибольшим разбросом цен за стартап.\n",
    "\n",
    "Объясните, почему решили составить топ именно из такого числа категорий и почему рассчитывали именно так."
   ]
  },
  {
   "cell_type": "markdown",
   "metadata": {},
   "source": [
    "------"
   ]
  },
  {
   "cell_type": "markdown",
   "metadata": {},
   "source": [
    "Для каждой категории компаний посчитаем медианное значение (типичное), стандартное отклонение (оно покажет разброс цен) и количество сделок (для оценки выборки). "
   ]
  },
  {
   "cell_type": "code",
   "execution_count": 97,
   "metadata": {
    "id": "jQ09dYUWrJg2",
    "vscode": {
     "languageId": "plaintext"
    }
   },
   "outputs": [],
   "source": [
    "# Оставим только те данные, для которых указана цена сделки\n",
    "category_df = merged_df[merged_df['price_amount']>0]\n",
    "\n",
    "# Сгруппируем данные и посчитаем необзодимые показатели\n",
    "сategory_stats = category_df.groupby('category_code')['price_amount'].agg(['median','std','count'])\n",
    "\n",
    "# Отсортируем по медиане и стандартному отклонению по убыванию\n",
    "сategory_stats = сategory_stats.sort_values(by=['median','std'],ascending=False)\n",
    "\n",
    "# Отфильтруем по количеству сделок, оставим данные с выборкой не меньше пяти сделок\n",
    "сategory_stats = сategory_stats[сategory_stats['count']>=5] "
   ]
  },
  {
   "cell_type": "code",
   "execution_count": 98,
   "metadata": {
    "id": "eF1aULm5FjfY"
   },
   "outputs": [],
   "source": [
    "# Выведем топ-10 категорий \n",
    "сategory_stats = сategory_stats.reset_index().head(10)"
   ]
  },
  {
   "cell_type": "code",
   "execution_count": 99,
   "metadata": {},
   "outputs": [
    {
     "data": {
      "image/png": "[encoded data removed]",
      "text/plain": [
       "<Figure size 864x432 with 1 Axes>"
      ]
     },
     "metadata": {
      "needs_background": "light"
     },
     "output_type": "display_data"
    }
   ],
   "source": [
    "plt.figure(figsize=(12, 6))\n",
    "plt.bar(\n",
    "    сategory_stats['category_code'],\n",
    "    сategory_stats['median'],\n",
    "    yerr=сategory_stats['std'],\n",
    "    capsize=5\n",
    "    \n",
    "\n",
    ")\n",
    "plt.xticks(rotation=45)\n",
    "plt.ylabel('Медианная цена покупки')\n",
    "plt.title('Топ-10 категорий стартапов по медиане и разбросу цены покупки')\n",
    "plt.tight_layout()\n",
    "plt.grid(axis='y', linestyle='--', alpha=0.7)\n"
   ]
  },
  {
   "cell_type": "markdown",
   "metadata": {},
   "source": [
    "Промежуточные итоги и выводы: \n",
    "\n",
    "- `real_estate` - категория находится в Топ-1 по размеру медианы цены и Топ-2 по размаху цен.\n",
    "- Самый большой размах цен (вне конкуренции) мы видим в категории `public_relation`, но при этом эта категория лишь на 9-ом месте по размеру медианы цены.\n"
   ]
  },
  {
   "cell_type": "markdown",
   "metadata": {
    "id": "ADOfyVY_rJg3"
   },
   "source": [
    "\n",
    "### 3.5. Сколько раундов продержится стартап перед покупкой\n",
    "\n",
    "- Необходимо проанализировать столбец `funding_rounds`. Исследуйте значения столбца. Заказчика интересует типичное значение количества раундов для каждого возможного статуса стартапа.\n",
    "- Постройте график, который отображает, сколько в среднем раундов финансирования проходило для стартапов из каждой группы. Сделайте выводы."
   ]
  },
  {
   "cell_type": "code",
   "execution_count": 100,
   "metadata": {
    "id": "pV3e7kw5Fj1Y"
   },
   "outputs": [
    {
     "data": {
      "text/plain": [
       "array([ 3.,  0.,  1.,  5.,  2.,  7.,  4.,  6.,  8., 10.,  9., 13., 11.,\n",
       "       15., 14., 12.])"
      ]
     },
     "execution_count": 100,
     "metadata": {},
     "output_type": "execute_result"
    }
   ],
   "source": [
    "# Посмотрим уникальные значения столбца 'funding_rounds'\n",
    "merged_df['funding_rounds'].unique()"
   ]
  },
  {
   "cell_type": "code",
   "execution_count": 101,
   "metadata": {},
   "outputs": [
    {
     "data": {
      "text/plain": [
       "count    40890.000000\n",
       "mean         1.289313\n",
       "std          1.264921\n",
       "min          0.000000\n",
       "25%          1.000000\n",
       "50%          1.000000\n",
       "75%          2.000000\n",
       "max         15.000000\n",
       "Name: funding_rounds, dtype: float64"
      ]
     },
     "execution_count": 101,
     "metadata": {},
     "output_type": "execute_result"
    }
   ],
   "source": [
    "# Посмотрим стандартные показатели столбца funding_rounds\n",
    "merged_df['funding_rounds'].describe()"
   ]
  },
  {
   "cell_type": "code",
   "execution_count": 102,
   "metadata": {},
   "outputs": [
    {
     "data": {
      "text/plain": [
       "Text(0.5, 1.0, 'Анализ выбросов столбца funding_rounds')"
      ]
     },
     "execution_count": 102,
     "metadata": {},
     "output_type": "execute_result"
    },
    {
     "data": {
      "image/png": "[encoded data removed]",
      "text/plain": [
       "<Figure size 720x432 with 1 Axes>"
      ]
     },
     "metadata": {
      "needs_background": "light"
     },
     "output_type": "display_data"
    }
   ],
   "source": [
    "plt.figure(figsize=(10,6))\n",
    "merged_df.boxplot(column='funding_rounds', vert=False)\n",
    "plt.xlabel('Количество раундов финансирования')\n",
    "plt.title('Анализ выбросов столбца funding_rounds')"
   ]
  },
  {
   "cell_type": "code",
   "execution_count": 103,
   "metadata": {},
   "outputs": [
    {
     "data": {
      "image/png": "[encoded data removed]",
      "text/plain": [
       "<Figure size 720x432 with 1 Axes>"
      ]
     },
     "metadata": {
      "needs_background": "light"
     },
     "output_type": "display_data"
    }
   ],
   "source": [
    "# Пострим гистограмму по столбцу funding_rounds\n",
    "plt.figure(figsize=(10, 6))\n",
    "sns.histplot(merged_df['funding_rounds'], bins=30, kde=True)\n",
    "\n",
    "plt.xlabel(\"Количество раундов финансирования\")\n",
    "plt.ylabel(\"Количество стартапов\")\n",
    "plt.title(\"Гистограмма распределения количества раундов финансирования\")\n",
    "plt.grid()\n",
    "plt.tight_layout()"
   ]
  },
  {
   "cell_type": "markdown",
   "metadata": {},
   "source": [
    "- Показатели среднего значения и медианы достаточно близки.\n",
    "- Наблюдаем правый хвост, имеем выбросы по правой границе.\n",
    "- В целом для всех компаний типичное количество раундов финансирования - 1 раунд.\n",
    "\n",
    "Теперь рассмотрим в разрезе статусов:"
   ]
  },
  {
   "cell_type": "code",
   "execution_count": 104,
   "metadata": {},
   "outputs": [],
   "source": [
    "# Рассчитаем cреднее количество раундов в разрезе статуса\n",
    "avg_rounds_by_status = merged_df.groupby('status')['funding_rounds'].mean().sort_values(ascending=False)"
   ]
  },
  {
   "cell_type": "code",
   "execution_count": 105,
   "metadata": {},
   "outputs": [
    {
     "data": {
      "image/png": "[encoded data removed]",
      "text/plain": [
       "<Figure size 720x432 with 1 Axes>"
      ]
     },
     "metadata": {
      "needs_background": "light"
     },
     "output_type": "display_data"
    }
   ],
   "source": [
    "# Визуализируем рассчет\n",
    "\n",
    "plt.figure(figsize=(10, 6))\n",
    "sns.barplot(x=avg_rounds_by_status.index, y=avg_rounds_by_status.values, palette=\"Blues_d\")\n",
    "plt.ylabel(\"Среднее количество раундов финансирования\")\n",
    "plt.xlabel(\"Статус стартапа\")\n",
    "plt.title(\"Среднее число раундов финансирования по статусам стартапов\")\n",
    "plt.xticks(rotation=45)\n",
    "plt.grid(axis='y')\n",
    "plt.tight_layout()"
   ]
  },
  {
   "cell_type": "markdown",
   "metadata": {},
   "source": [
    "- Показатели категории `acquired` сильно меньше остальных категорий. Скорее всего это связано с пропусками и отсутсвием данных о сделке. Это искажает анализ.\n",
    "\n",
    "- Остальные категории имеют логичные для своего статуса показатели."
   ]
  },
  {
   "cell_type": "markdown",
   "metadata": {
    "id": "VAFEZ2HBrJg3"
   },
   "source": [
    "\n",
    "## Шаг 4. Итоговый вывод и рекомендации\n",
    "\n",
    "Опишите, что было сделано в проекте, какие были сделаны выводы, подкрепляют ли они друг друга или заставляют сомневаться в полученных результатах."
   ]
  },
  {
   "cell_type": "markdown",
   "metadata": {},
   "source": [
    "------"
   ]
  },
  {
   "cell_type": "markdown",
   "metadata": {},
   "source": [
    "`Проделаная работа`:\n",
    "\n",
    "Предобработка и предварительно ислледование:\n",
    "\n",
    "- Выгружены все датасеты, познакомились с даннми.\n",
    "- Проанализированы пропуски и оптимизированы типы данных.\n",
    "- Проведена предобработка данных.\n",
    "- Исследовали раунды финансирования по годам.\n",
    "- Оценили полноту данных об образовании сотрудников.\n",
    "- Проанализированы столбцы по которым можно объединить таблицы.\n",
    "- Проделана работа с проблемным датасетом.\n",
    "\n",
    "`Иследовательский анализ`:\n",
    "\n",
    "- Объединили данные в необходимый для задач датафрейм.\n",
    "- Провели анализ выбросов определенных столбцов.\n",
    "- Исследовали \"бесплатно\" проданные компании.\n",
    "- Исследовали цены стартапов в разрезе категории.\n",
    "- Исследовалии данные о раундах финансирования.\n",
    "\n",
    "`Итоги и выводы`:\n",
    "\n",
    "- В работе имели достаточно нерпостые разноразмерные датасеты с большим количеством пропусков. Даже после предобработки данных некоторые пропуски могли немного точечно исказить аналитическую картину.\n",
    "- К анализу выбросов и типичных значений показателей общего финансирования не применимы стандартные методы исследования. \n",
    "- Налюдаем 1618 компаний, которые были приобретены за 0 или 1 доллар. Самое большое количество подобных сделок было в 2011 и в 2012 годах.\n",
    "- Самой привлекательной категорий в плане величины типичной стоимости и размаха показетелей - является категория `real_estate`. Она входит в топ-2 по обоим исследуемым показателям.\n",
    "- В среднем перед покупкой стартам имеет 1 раунд финансирования. Однако мы наблюдаем не мало выбросов в данных о раундах. "
   ]
  },
  {
   "cell_type": "markdown",
   "metadata": {},
   "source": [
    "Полезность полученных данных зависит от конкретной задачи. Часть данных соотвестует здравому смыслу, однако добиться четкости во всех направлениях исследования - вряд ли получится."
   ]
  }
 ],
 "metadata": {
  "ExecuteTimeLog": [
   {
    "duration": 423,
    "start_time": "2025-04-21T16:18:13.216Z"
   },
   {
    "duration": 3168,
    "start_time": "2025-04-21T16:26:58.903Z"
   },
   {
    "duration": 47,
    "start_time": "2025-04-22T11:49:28.982Z"
   },
   {
    "duration": 378,
    "start_time": "2025-04-22T11:49:32.677Z"
   },
   {
    "duration": 2011,
    "start_time": "2025-04-22T11:49:34.120Z"
   },
   {
    "duration": 13,
    "start_time": "2025-04-22T11:50:32.249Z"
   },
   {
    "duration": 21,
    "start_time": "2025-04-22T11:51:08.827Z"
   },
   {
    "duration": 98,
    "start_time": "2025-04-22T11:52:07.893Z"
   },
   {
    "duration": 24,
    "start_time": "2025-04-22T11:52:23.864Z"
   },
   {
    "duration": 42,
    "start_time": "2025-04-22T11:55:21.256Z"
   },
   {
    "duration": 9,
    "start_time": "2025-04-22T11:55:35.158Z"
   },
   {
    "duration": 20,
    "start_time": "2025-04-22T11:56:42.400Z"
   },
   {
    "duration": 10,
    "start_time": "2025-04-22T11:56:58.662Z"
   },
   {
    "duration": 25,
    "start_time": "2025-04-22T11:57:40.624Z"
   },
   {
    "duration": 8,
    "start_time": "2025-04-22T11:57:49.371Z"
   },
   {
    "duration": 13,
    "start_time": "2025-04-22T11:59:13.027Z"
   },
   {
    "duration": 16,
    "start_time": "2025-04-22T11:59:27.095Z"
   },
   {
    "duration": 11,
    "start_time": "2025-04-22T12:00:27.720Z"
   },
   {
    "duration": 6,
    "start_time": "2025-04-22T12:00:33.367Z"
   },
   {
    "duration": 100,
    "start_time": "2025-04-22T12:37:58.447Z"
   },
   {
    "duration": 45,
    "start_time": "2025-04-22T12:38:05.760Z"
   },
   {
    "duration": 102,
    "start_time": "2025-04-22T12:38:06.750Z"
   },
   {
    "duration": 99,
    "start_time": "2025-04-22T12:39:11.973Z"
   },
   {
    "duration": 51,
    "start_time": "2025-04-22T13:12:36.389Z"
   },
   {
    "duration": 93,
    "start_time": "2025-04-22T13:12:36.948Z"
   },
   {
    "duration": 53,
    "start_time": "2025-04-22T13:14:18.103Z"
   },
   {
    "duration": 29,
    "start_time": "2025-04-22T13:14:34.480Z"
   },
   {
    "duration": 12,
    "start_time": "2025-04-22T13:14:50.722Z"
   },
   {
    "duration": 89,
    "start_time": "2025-04-22T13:15:03.868Z"
   },
   {
    "duration": 24,
    "start_time": "2025-04-22T13:15:14.478Z"
   },
   {
    "duration": 112,
    "start_time": "2025-04-22T13:18:58.996Z"
   },
   {
    "duration": 7,
    "start_time": "2025-04-22T13:21:24.796Z"
   },
   {
    "duration": 17,
    "start_time": "2025-04-22T13:21:42.705Z"
   },
   {
    "duration": 6,
    "start_time": "2025-04-22T13:24:01.157Z"
   },
   {
    "duration": 10,
    "start_time": "2025-04-22T13:42:55.575Z"
   },
   {
    "duration": 8,
    "start_time": "2025-04-22T13:43:42.895Z"
   },
   {
    "duration": 9,
    "start_time": "2025-04-22T13:44:40.893Z"
   },
   {
    "duration": 89,
    "start_time": "2025-04-22T13:45:09.691Z"
   },
   {
    "duration": 35,
    "start_time": "2025-04-22T13:51:36.064Z"
   },
   {
    "duration": 39,
    "start_time": "2025-04-22T13:51:50.824Z"
   },
   {
    "duration": 11,
    "start_time": "2025-04-22T13:53:09.993Z"
   },
   {
    "duration": 20,
    "start_time": "2025-04-22T13:54:20.413Z"
   },
   {
    "duration": 19,
    "start_time": "2025-04-22T13:54:46.427Z"
   },
   {
    "duration": 7,
    "start_time": "2025-04-22T13:56:36.249Z"
   },
   {
    "duration": 20,
    "start_time": "2025-04-22T13:56:39.296Z"
   },
   {
    "duration": 7,
    "start_time": "2025-04-22T13:59:51.891Z"
   },
   {
    "duration": 73,
    "start_time": "2025-04-22T13:59:57.048Z"
   },
   {
    "duration": 36,
    "start_time": "2025-04-22T13:59:57.266Z"
   },
   {
    "duration": 13,
    "start_time": "2025-04-22T13:59:57.581Z"
   },
   {
    "duration": 20,
    "start_time": "2025-04-22T13:59:57.848Z"
   },
   {
    "duration": 8,
    "start_time": "2025-04-22T13:59:58.102Z"
   },
   {
    "duration": 19,
    "start_time": "2025-04-22T13:59:58.375Z"
   },
   {
    "duration": 6,
    "start_time": "2025-04-22T13:59:58.602Z"
   },
   {
    "duration": 13,
    "start_time": "2025-04-22T14:12:29.845Z"
   },
   {
    "duration": 20,
    "start_time": "2025-04-22T14:12:30.476Z"
   },
   {
    "duration": 9,
    "start_time": "2025-04-22T14:12:31.195Z"
   },
   {
    "duration": 7,
    "start_time": "2025-04-22T14:12:31.741Z"
   },
   {
    "duration": 74,
    "start_time": "2025-04-22T16:33:16.268Z"
   },
   {
    "duration": 7,
    "start_time": "2025-04-22T16:33:36.608Z"
   },
   {
    "duration": 435,
    "start_time": "2025-04-22T16:33:42.896Z"
   },
   {
    "duration": 2901,
    "start_time": "2025-04-22T16:33:43.363Z"
   },
   {
    "duration": 15,
    "start_time": "2025-04-22T16:33:46.266Z"
   },
   {
    "duration": 223,
    "start_time": "2025-04-22T16:33:46.283Z"
   },
   {
    "duration": 103,
    "start_time": "2025-04-22T16:33:46.510Z"
   },
   {
    "duration": 28,
    "start_time": "2025-04-22T16:33:46.615Z"
   },
   {
    "duration": 276,
    "start_time": "2025-04-22T16:33:46.660Z"
   },
   {
    "duration": 396,
    "start_time": "2025-04-22T16:33:52.503Z"
   },
   {
    "duration": 3490,
    "start_time": "2025-04-22T16:33:52.901Z"
   },
   {
    "duration": 15,
    "start_time": "2025-04-22T16:33:56.393Z"
   },
   {
    "duration": 21,
    "start_time": "2025-04-22T16:33:56.410Z"
   },
   {
    "duration": 113,
    "start_time": "2025-04-22T16:33:56.435Z"
   },
   {
    "duration": 31,
    "start_time": "2025-04-22T16:33:56.550Z"
   },
   {
    "duration": 50,
    "start_time": "2025-04-22T16:33:56.583Z"
   },
   {
    "duration": 142,
    "start_time": "2025-04-22T16:33:56.634Z"
   },
   {
    "duration": 172,
    "start_time": "2025-04-22T16:33:56.779Z"
   },
   {
    "duration": 10,
    "start_time": "2025-04-22T16:33:56.954Z"
   },
   {
    "duration": 74,
    "start_time": "2025-04-22T16:33:56.966Z"
   },
   {
    "duration": 31,
    "start_time": "2025-04-22T16:33:57.042Z"
   },
   {
    "duration": 40,
    "start_time": "2025-04-22T16:33:57.075Z"
   },
   {
    "duration": 24,
    "start_time": "2025-04-22T16:33:57.119Z"
   },
   {
    "duration": 25,
    "start_time": "2025-04-22T16:33:57.145Z"
   },
   {
    "duration": 19,
    "start_time": "2025-04-22T16:33:57.172Z"
   },
   {
    "duration": 27,
    "start_time": "2025-04-22T16:33:57.193Z"
   },
   {
    "duration": 30,
    "start_time": "2025-04-22T16:33:57.222Z"
   },
   {
    "duration": 188,
    "start_time": "2025-04-22T16:33:57.254Z"
   },
   {
    "duration": 38,
    "start_time": "2025-04-22T16:33:57.444Z"
   },
   {
    "duration": 10,
    "start_time": "2025-04-22T16:33:57.485Z"
   },
   {
    "duration": 13,
    "start_time": "2025-04-22T16:33:57.498Z"
   },
   {
    "duration": 137,
    "start_time": "2025-04-22T16:33:57.514Z"
   },
   {
    "duration": 43,
    "start_time": "2025-04-22T16:33:57.652Z"
   },
   {
    "duration": 13,
    "start_time": "2025-04-22T16:33:57.697Z"
   },
   {
    "duration": 22,
    "start_time": "2025-04-22T16:33:57.712Z"
   },
   {
    "duration": 32,
    "start_time": "2025-04-22T16:33:57.735Z"
   },
   {
    "duration": 10,
    "start_time": "2025-04-22T16:33:57.770Z"
   },
   {
    "duration": 1807,
    "start_time": "2025-04-22T17:14:59.120Z"
   },
   {
    "duration": 15,
    "start_time": "2025-04-22T17:15:16.714Z"
   },
   {
    "duration": 42,
    "start_time": "2025-04-22T17:15:20.217Z"
   },
   {
    "duration": 72,
    "start_time": "2025-04-22T17:22:03.544Z"
   },
   {
    "duration": 8,
    "start_time": "2025-04-22T17:22:15.006Z"
   },
   {
    "duration": 14,
    "start_time": "2025-04-22T17:22:27.855Z"
   },
   {
    "duration": 12,
    "start_time": "2025-04-22T17:22:31.881Z"
   },
   {
    "duration": 13,
    "start_time": "2025-04-22T17:26:10.268Z"
   },
   {
    "duration": 12,
    "start_time": "2025-04-22T17:26:17.747Z"
   },
   {
    "duration": 3,
    "start_time": "2025-04-22T17:29:28.599Z"
   },
   {
    "duration": 9,
    "start_time": "2025-04-22T17:29:41.086Z"
   },
   {
    "duration": 13,
    "start_time": "2025-04-22T17:32:07.101Z"
   },
   {
    "duration": 9,
    "start_time": "2025-04-22T17:32:12.499Z"
   },
   {
    "duration": 23,
    "start_time": "2025-04-22T17:35:28.736Z"
   },
   {
    "duration": 13,
    "start_time": "2025-04-22T17:35:33.450Z"
   },
   {
    "duration": 13,
    "start_time": "2025-04-22T17:36:15.012Z"
   },
   {
    "duration": 11,
    "start_time": "2025-04-22T17:36:17.069Z"
   },
   {
    "duration": 21,
    "start_time": "2025-04-22T17:37:15.743Z"
   },
   {
    "duration": 26,
    "start_time": "2025-04-22T17:37:58.027Z"
   },
   {
    "duration": 23,
    "start_time": "2025-04-22T17:39:17.890Z"
   },
   {
    "duration": 12,
    "start_time": "2025-04-22T17:39:24.528Z"
   },
   {
    "duration": 21,
    "start_time": "2025-04-22T17:40:49.272Z"
   },
   {
    "duration": 20,
    "start_time": "2025-04-22T17:42:10.846Z"
   },
   {
    "duration": 1229,
    "start_time": "2025-04-22T17:42:45.354Z"
   },
   {
    "duration": 18,
    "start_time": "2025-04-22T17:43:07.326Z"
   },
   {
    "duration": 22,
    "start_time": "2025-04-22T17:44:18.679Z"
   },
   {
    "duration": 14,
    "start_time": "2025-04-22T17:44:47.312Z"
   },
   {
    "duration": 10,
    "start_time": "2025-04-22T17:53:45.789Z"
   },
   {
    "duration": 13,
    "start_time": "2025-04-22T17:53:53.340Z"
   },
   {
    "duration": 10,
    "start_time": "2025-04-22T17:54:01.444Z"
   },
   {
    "duration": 12,
    "start_time": "2025-04-22T17:55:00.881Z"
   },
   {
    "duration": 11,
    "start_time": "2025-04-22T17:55:01.233Z"
   },
   {
    "duration": 5,
    "start_time": "2025-04-22T17:55:55.962Z"
   },
   {
    "duration": 5,
    "start_time": "2025-04-22T17:55:59.044Z"
   },
   {
    "duration": 9,
    "start_time": "2025-04-22T17:56:07.317Z"
   },
   {
    "duration": 6,
    "start_time": "2025-04-22T17:58:41.577Z"
   },
   {
    "duration": 12,
    "start_time": "2025-04-22T17:58:50.191Z"
   },
   {
    "duration": 4,
    "start_time": "2025-04-22T17:58:50.775Z"
   },
   {
    "duration": 9,
    "start_time": "2025-04-22T17:58:51.274Z"
   },
   {
    "duration": 12,
    "start_time": "2025-04-22T18:00:15.436Z"
   },
   {
    "duration": 21,
    "start_time": "2025-04-22T18:00:21.453Z"
   },
   {
    "duration": 10,
    "start_time": "2025-04-22T18:00:43.887Z"
   },
   {
    "duration": 23,
    "start_time": "2025-04-22T18:01:03.035Z"
   },
   {
    "duration": 14,
    "start_time": "2025-04-22T18:01:31.034Z"
   },
   {
    "duration": 4,
    "start_time": "2025-04-22T18:01:31.836Z"
   },
   {
    "duration": 9,
    "start_time": "2025-04-22T18:01:32.611Z"
   },
   {
    "duration": 20,
    "start_time": "2025-04-22T18:02:52.793Z"
   },
   {
    "duration": 4,
    "start_time": "2025-04-22T18:04:11.190Z"
   },
   {
    "duration": 9,
    "start_time": "2025-04-22T18:04:12.033Z"
   },
   {
    "duration": 10,
    "start_time": "2025-04-22T18:04:36.487Z"
   },
   {
    "duration": 448,
    "start_time": "2025-04-22T18:08:36.566Z"
   },
   {
    "duration": 2053,
    "start_time": "2025-04-22T18:08:37.247Z"
   },
   {
    "duration": 12,
    "start_time": "2025-04-22T18:08:39.303Z"
   },
   {
    "duration": 24,
    "start_time": "2025-04-22T18:08:39.317Z"
   },
   {
    "duration": 650,
    "start_time": "2025-04-22T18:08:41.910Z"
   },
   {
    "duration": 1988,
    "start_time": "2025-04-22T18:08:42.562Z"
   },
   {
    "duration": 13,
    "start_time": "2025-04-22T18:08:44.554Z"
   },
   {
    "duration": 149,
    "start_time": "2025-04-22T18:08:44.569Z"
   },
   {
    "duration": 101,
    "start_time": "2025-04-22T18:08:44.720Z"
   },
   {
    "duration": 25,
    "start_time": "2025-04-22T18:08:44.823Z"
   },
   {
    "duration": 74,
    "start_time": "2025-04-22T18:08:44.850Z"
   },
   {
    "duration": 102,
    "start_time": "2025-04-22T18:08:44.926Z"
   },
   {
    "duration": 47,
    "start_time": "2025-04-22T18:08:45.029Z"
   },
   {
    "duration": 267,
    "start_time": "2025-04-22T18:08:45.078Z"
   },
   {
    "duration": 54,
    "start_time": "2025-04-22T18:08:45.347Z"
   },
   {
    "duration": 34,
    "start_time": "2025-04-22T18:08:45.403Z"
   },
   {
    "duration": 30,
    "start_time": "2025-04-22T18:08:45.440Z"
   },
   {
    "duration": 26,
    "start_time": "2025-04-22T18:08:45.471Z"
   },
   {
    "duration": 33,
    "start_time": "2025-04-22T18:08:45.499Z"
   },
   {
    "duration": 11,
    "start_time": "2025-04-22T18:08:45.534Z"
   },
   {
    "duration": 21,
    "start_time": "2025-04-22T18:08:45.548Z"
   },
   {
    "duration": 25,
    "start_time": "2025-04-22T18:08:45.571Z"
   },
   {
    "duration": 172,
    "start_time": "2025-04-22T18:08:45.598Z"
   },
   {
    "duration": 19,
    "start_time": "2025-04-22T18:08:45.773Z"
   },
   {
    "duration": 46,
    "start_time": "2025-04-22T18:08:45.794Z"
   },
   {
    "duration": 10,
    "start_time": "2025-04-22T18:08:45.842Z"
   },
   {
    "duration": 77,
    "start_time": "2025-04-22T18:08:45.854Z"
   },
   {
    "duration": 51,
    "start_time": "2025-04-22T18:08:45.933Z"
   },
   {
    "duration": 13,
    "start_time": "2025-04-22T18:08:45.986Z"
   },
   {
    "duration": 23,
    "start_time": "2025-04-22T18:08:46.001Z"
   },
   {
    "duration": 39,
    "start_time": "2025-04-22T18:08:46.026Z"
   },
   {
    "duration": 8,
    "start_time": "2025-04-22T18:08:46.068Z"
   },
   {
    "duration": 19,
    "start_time": "2025-04-22T18:08:46.078Z"
   },
   {
    "duration": 63,
    "start_time": "2025-04-22T18:08:46.099Z"
   },
   {
    "duration": 15,
    "start_time": "2025-04-22T18:08:46.164Z"
   },
   {
    "duration": 5,
    "start_time": "2025-04-22T18:08:46.180Z"
   },
   {
    "duration": 23,
    "start_time": "2025-04-22T18:08:46.187Z"
   },
   {
    "duration": 44,
    "start_time": "2025-04-22T22:23:43.283Z"
   },
   {
    "duration": 761,
    "start_time": "2025-04-22T22:23:52.978Z"
   },
   {
    "duration": 2547,
    "start_time": "2025-04-22T22:23:53.741Z"
   },
   {
    "duration": 13,
    "start_time": "2025-04-22T22:23:56.289Z"
   },
   {
    "duration": 13,
    "start_time": "2025-04-22T22:23:56.303Z"
   },
   {
    "duration": 91,
    "start_time": "2025-04-22T22:23:56.318Z"
   },
   {
    "duration": 30,
    "start_time": "2025-04-22T22:23:56.411Z"
   },
   {
    "duration": 41,
    "start_time": "2025-04-22T22:23:56.442Z"
   },
   {
    "duration": 102,
    "start_time": "2025-04-22T22:23:56.485Z"
   },
   {
    "duration": 36,
    "start_time": "2025-04-22T22:23:56.588Z"
   },
   {
    "duration": 20,
    "start_time": "2025-04-22T22:23:56.626Z"
   },
   {
    "duration": 19,
    "start_time": "2025-04-22T22:23:56.648Z"
   },
   {
    "duration": 7,
    "start_time": "2025-04-22T22:23:56.668Z"
   },
   {
    "duration": 23,
    "start_time": "2025-04-22T22:23:56.676Z"
   },
   {
    "duration": 37,
    "start_time": "2025-04-22T22:23:56.702Z"
   },
   {
    "duration": 12,
    "start_time": "2025-04-22T22:23:56.741Z"
   },
   {
    "duration": 9,
    "start_time": "2025-04-22T22:23:56.755Z"
   },
   {
    "duration": 11,
    "start_time": "2025-04-22T22:23:56.766Z"
   },
   {
    "duration": 12,
    "start_time": "2025-04-22T22:23:56.778Z"
   },
   {
    "duration": 182,
    "start_time": "2025-04-22T22:23:56.791Z"
   },
   {
    "duration": 16,
    "start_time": "2025-04-22T22:23:56.975Z"
   },
   {
    "duration": 7,
    "start_time": "2025-04-22T22:23:56.993Z"
   },
   {
    "duration": 9,
    "start_time": "2025-04-22T22:23:57.002Z"
   },
   {
    "duration": 93,
    "start_time": "2025-04-22T22:23:57.013Z"
   },
   {
    "duration": 49,
    "start_time": "2025-04-22T22:23:57.107Z"
   },
   {
    "duration": 12,
    "start_time": "2025-04-22T22:23:57.158Z"
   },
   {
    "duration": 21,
    "start_time": "2025-04-22T22:23:57.171Z"
   },
   {
    "duration": 10,
    "start_time": "2025-04-22T22:23:57.194Z"
   },
   {
    "duration": 36,
    "start_time": "2025-04-22T22:23:57.206Z"
   },
   {
    "duration": 16,
    "start_time": "2025-04-22T22:23:57.244Z"
   },
   {
    "duration": 40,
    "start_time": "2025-04-22T22:23:57.261Z"
   },
   {
    "duration": 37,
    "start_time": "2025-04-22T22:23:57.303Z"
   },
   {
    "duration": 3,
    "start_time": "2025-04-22T22:23:57.342Z"
   },
   {
    "duration": 9,
    "start_time": "2025-04-22T22:23:57.347Z"
   },
   {
    "duration": 1445,
    "start_time": "2025-04-22T22:23:57.359Z"
   },
   {
    "duration": 6,
    "start_time": "2025-04-22T22:24:20.852Z"
   },
   {
    "duration": 13,
    "start_time": "2025-04-22T22:25:23.849Z"
   },
   {
    "duration": 1130,
    "start_time": "2025-04-22T22:27:00.728Z"
   },
   {
    "duration": 1119,
    "start_time": "2025-04-22T22:27:13.824Z"
   },
   {
    "duration": 11,
    "start_time": "2025-04-22T22:27:22.653Z"
   },
   {
    "duration": 1183,
    "start_time": "2025-04-22T22:27:23.373Z"
   },
   {
    "duration": 1165,
    "start_time": "2025-04-22T22:27:51.748Z"
   },
   {
    "duration": 173,
    "start_time": "2025-04-22T22:28:05.606Z"
   },
   {
    "duration": 170,
    "start_time": "2025-04-22T22:29:52.672Z"
   },
   {
    "duration": 159,
    "start_time": "2025-04-22T22:30:17.389Z"
   },
   {
    "duration": 177,
    "start_time": "2025-04-22T22:31:05.341Z"
   },
   {
    "duration": 216,
    "start_time": "2025-04-22T22:32:06.754Z"
   },
   {
    "duration": 174,
    "start_time": "2025-04-22T22:32:29.150Z"
   },
   {
    "duration": 10,
    "start_time": "2025-04-22T22:42:31.450Z"
   },
   {
    "duration": 8,
    "start_time": "2025-04-22T22:42:59.416Z"
   },
   {
    "duration": 8,
    "start_time": "2025-04-22T22:43:05.485Z"
   },
   {
    "duration": 51,
    "start_time": "2025-04-22T22:45:02.829Z"
   },
   {
    "duration": 15,
    "start_time": "2025-04-22T22:45:24.095Z"
   },
   {
    "duration": 80,
    "start_time": "2025-04-22T22:50:27.697Z"
   },
   {
    "duration": 56,
    "start_time": "2025-04-22T22:50:51.320Z"
   },
   {
    "duration": 84,
    "start_time": "2025-04-22T22:54:08.430Z"
   },
   {
    "duration": 13,
    "start_time": "2025-04-22T22:57:47.043Z"
   },
   {
    "duration": 16,
    "start_time": "2025-04-22T22:58:07.193Z"
   },
   {
    "duration": 17,
    "start_time": "2025-04-22T22:58:46.518Z"
   },
   {
    "duration": 17,
    "start_time": "2025-04-22T22:59:12.442Z"
   },
   {
    "duration": 52,
    "start_time": "2025-04-22T23:01:54.581Z"
   },
   {
    "duration": 40,
    "start_time": "2025-04-22T23:09:18.751Z"
   },
   {
    "duration": 22,
    "start_time": "2025-04-22T23:09:38.358Z"
   },
   {
    "duration": 12,
    "start_time": "2025-04-22T23:10:19.558Z"
   },
   {
    "duration": 13,
    "start_time": "2025-04-22T23:10:25.827Z"
   },
   {
    "duration": 12,
    "start_time": "2025-04-22T23:10:28.733Z"
   },
   {
    "duration": 13,
    "start_time": "2025-04-22T23:10:29.190Z"
   },
   {
    "duration": 51,
    "start_time": "2025-04-22T23:10:40.084Z"
   },
   {
    "duration": 11,
    "start_time": "2025-04-22T23:10:40.693Z"
   },
   {
    "duration": 13,
    "start_time": "2025-04-22T23:10:41.216Z"
   },
   {
    "duration": 14,
    "start_time": "2025-04-22T23:10:51.657Z"
   },
   {
    "duration": 20,
    "start_time": "2025-04-22T23:11:17.687Z"
   },
   {
    "duration": 13,
    "start_time": "2025-04-22T23:11:30.443Z"
   },
   {
    "duration": 13,
    "start_time": "2025-04-22T23:11:38.977Z"
   },
   {
    "duration": 638,
    "start_time": "2025-04-22T23:11:44.126Z"
   },
   {
    "duration": 2277,
    "start_time": "2025-04-22T23:11:44.766Z"
   },
   {
    "duration": 12,
    "start_time": "2025-04-22T23:11:47.046Z"
   },
   {
    "duration": 11,
    "start_time": "2025-04-22T23:11:47.060Z"
   },
   {
    "duration": 109,
    "start_time": "2025-04-22T23:11:47.073Z"
   },
   {
    "duration": 22,
    "start_time": "2025-04-22T23:11:47.183Z"
   },
   {
    "duration": 62,
    "start_time": "2025-04-22T23:11:47.206Z"
   },
   {
    "duration": 99,
    "start_time": "2025-04-22T23:11:47.270Z"
   },
   {
    "duration": 36,
    "start_time": "2025-04-22T23:11:47.371Z"
   },
   {
    "duration": 9,
    "start_time": "2025-04-22T23:11:47.408Z"
   },
   {
    "duration": 34,
    "start_time": "2025-04-22T23:11:47.419Z"
   },
   {
    "duration": 7,
    "start_time": "2025-04-22T23:11:47.455Z"
   },
   {
    "duration": 28,
    "start_time": "2025-04-22T23:11:47.463Z"
   },
   {
    "duration": 8,
    "start_time": "2025-04-22T23:11:47.493Z"
   },
   {
    "duration": 18,
    "start_time": "2025-04-22T23:11:47.502Z"
   },
   {
    "duration": 10,
    "start_time": "2025-04-22T23:11:47.540Z"
   },
   {
    "duration": 13,
    "start_time": "2025-04-22T23:11:47.551Z"
   },
   {
    "duration": 6,
    "start_time": "2025-04-22T23:11:47.566Z"
   },
   {
    "duration": 194,
    "start_time": "2025-04-22T23:11:47.573Z"
   },
   {
    "duration": 15,
    "start_time": "2025-04-22T23:11:47.769Z"
   },
   {
    "duration": 6,
    "start_time": "2025-04-22T23:11:47.786Z"
   },
   {
    "duration": 22,
    "start_time": "2025-04-22T23:11:47.793Z"
   },
   {
    "duration": 80,
    "start_time": "2025-04-22T23:11:47.817Z"
   },
   {
    "duration": 33,
    "start_time": "2025-04-22T23:11:47.899Z"
   },
   {
    "duration": 23,
    "start_time": "2025-04-22T23:11:47.939Z"
   },
   {
    "duration": 25,
    "start_time": "2025-04-22T23:11:47.963Z"
   },
   {
    "duration": 10,
    "start_time": "2025-04-22T23:11:47.991Z"
   },
   {
    "duration": 17,
    "start_time": "2025-04-22T23:11:48.002Z"
   },
   {
    "duration": 35,
    "start_time": "2025-04-22T23:11:48.020Z"
   },
   {
    "duration": 38,
    "start_time": "2025-04-22T23:11:48.057Z"
   },
   {
    "duration": 11,
    "start_time": "2025-04-22T23:11:48.097Z"
   },
   {
    "duration": 3,
    "start_time": "2025-04-22T23:11:48.110Z"
   },
   {
    "duration": 28,
    "start_time": "2025-04-22T23:11:48.114Z"
   },
   {
    "duration": 195,
    "start_time": "2025-04-22T23:11:48.144Z"
   },
   {
    "duration": 84,
    "start_time": "2025-04-22T23:11:48.340Z"
   },
   {
    "duration": 63,
    "start_time": "2025-04-22T23:11:48.426Z"
   },
   {
    "duration": 65,
    "start_time": "2025-04-22T23:11:48.491Z"
   },
   {
    "duration": 31,
    "start_time": "2025-04-22T23:11:48.557Z"
   },
   {
    "duration": 19,
    "start_time": "2025-04-22T23:11:48.590Z"
   },
   {
    "duration": 30,
    "start_time": "2025-04-22T23:11:48.610Z"
   },
   {
    "duration": 15,
    "start_time": "2025-04-22T23:12:03.466Z"
   },
   {
    "duration": 12,
    "start_time": "2025-04-22T23:13:32.514Z"
   },
   {
    "duration": 12,
    "start_time": "2025-04-22T23:13:58.514Z"
   },
   {
    "duration": 13,
    "start_time": "2025-04-22T23:17:15.550Z"
   },
   {
    "duration": 14,
    "start_time": "2025-04-22T23:17:43.778Z"
   },
   {
    "duration": 14,
    "start_time": "2025-04-22T23:19:36.575Z"
   },
   {
    "duration": 14,
    "start_time": "2025-04-22T23:19:45.680Z"
   },
   {
    "duration": 13,
    "start_time": "2025-04-22T23:19:55.551Z"
   },
   {
    "duration": 13,
    "start_time": "2025-04-22T23:20:06.275Z"
   },
   {
    "duration": 13,
    "start_time": "2025-04-22T23:20:13.732Z"
   },
   {
    "duration": 13,
    "start_time": "2025-04-22T23:20:20.792Z"
   },
   {
    "duration": 13,
    "start_time": "2025-04-22T23:20:29.145Z"
   },
   {
    "duration": 12,
    "start_time": "2025-04-22T23:20:40.491Z"
   },
   {
    "duration": 13,
    "start_time": "2025-04-22T23:21:00.151Z"
   },
   {
    "duration": 13,
    "start_time": "2025-04-22T23:21:16.733Z"
   },
   {
    "duration": 68,
    "start_time": "2025-04-22T23:44:56.452Z"
   },
   {
    "duration": 71,
    "start_time": "2025-04-22T23:45:08.271Z"
   },
   {
    "duration": 10,
    "start_time": "2025-04-22T23:46:43.037Z"
   },
   {
    "duration": 54,
    "start_time": "2025-04-22T23:47:12.422Z"
   },
   {
    "duration": 11,
    "start_time": "2025-04-22T23:47:12.813Z"
   },
   {
    "duration": 21,
    "start_time": "2025-04-22T23:47:13.373Z"
   },
   {
    "duration": 13,
    "start_time": "2025-04-22T23:47:13.828Z"
   },
   {
    "duration": 9,
    "start_time": "2025-04-22T23:47:14.415Z"
   },
   {
    "duration": 12,
    "start_time": "2025-04-22T23:48:40.095Z"
   },
   {
    "duration": 9,
    "start_time": "2025-04-22T23:48:41.071Z"
   },
   {
    "duration": 615,
    "start_time": "2025-04-22T23:48:49.004Z"
   },
   {
    "duration": 2433,
    "start_time": "2025-04-22T23:48:49.621Z"
   },
   {
    "duration": 11,
    "start_time": "2025-04-22T23:48:52.056Z"
   },
   {
    "duration": 10,
    "start_time": "2025-04-22T23:48:52.069Z"
   },
   {
    "duration": 110,
    "start_time": "2025-04-22T23:48:52.081Z"
   },
   {
    "duration": 22,
    "start_time": "2025-04-22T23:48:52.192Z"
   },
   {
    "duration": 62,
    "start_time": "2025-04-22T23:48:52.215Z"
   },
   {
    "duration": 99,
    "start_time": "2025-04-22T23:48:52.279Z"
   },
   {
    "duration": 38,
    "start_time": "2025-04-22T23:48:52.379Z"
   },
   {
    "duration": 22,
    "start_time": "2025-04-22T23:48:52.418Z"
   },
   {
    "duration": 20,
    "start_time": "2025-04-22T23:48:52.441Z"
   },
   {
    "duration": 7,
    "start_time": "2025-04-22T23:48:52.462Z"
   },
   {
    "duration": 24,
    "start_time": "2025-04-22T23:48:52.470Z"
   },
   {
    "duration": 10,
    "start_time": "2025-04-22T23:48:52.497Z"
   },
   {
    "duration": 41,
    "start_time": "2025-04-22T23:48:52.509Z"
   },
   {
    "duration": 12,
    "start_time": "2025-04-22T23:48:52.552Z"
   },
   {
    "duration": 29,
    "start_time": "2025-04-22T23:48:52.566Z"
   },
   {
    "duration": 16,
    "start_time": "2025-04-22T23:48:52.597Z"
   },
   {
    "duration": 165,
    "start_time": "2025-04-22T23:48:52.614Z"
   },
   {
    "duration": 18,
    "start_time": "2025-04-22T23:48:52.781Z"
   },
   {
    "duration": 15,
    "start_time": "2025-04-22T23:48:52.800Z"
   },
   {
    "duration": 17,
    "start_time": "2025-04-22T23:48:52.816Z"
   },
   {
    "duration": 77,
    "start_time": "2025-04-22T23:48:52.834Z"
   },
   {
    "duration": 33,
    "start_time": "2025-04-22T23:48:52.912Z"
   },
   {
    "duration": 10,
    "start_time": "2025-04-22T23:48:52.946Z"
   },
   {
    "duration": 20,
    "start_time": "2025-04-22T23:48:52.958Z"
   },
   {
    "duration": 8,
    "start_time": "2025-04-22T23:48:52.979Z"
   },
   {
    "duration": 10,
    "start_time": "2025-04-22T23:48:52.988Z"
   },
   {
    "duration": 23,
    "start_time": "2025-04-22T23:48:52.999Z"
   },
   {
    "duration": 49,
    "start_time": "2025-04-22T23:48:53.023Z"
   },
   {
    "duration": 12,
    "start_time": "2025-04-22T23:48:53.073Z"
   },
   {
    "duration": 3,
    "start_time": "2025-04-22T23:48:53.086Z"
   },
   {
    "duration": 20,
    "start_time": "2025-04-22T23:48:53.091Z"
   },
   {
    "duration": 200,
    "start_time": "2025-04-22T23:48:53.112Z"
   },
   {
    "duration": 86,
    "start_time": "2025-04-22T23:48:53.313Z"
   },
   {
    "duration": 59,
    "start_time": "2025-04-22T23:48:53.401Z"
   },
   {
    "duration": 54,
    "start_time": "2025-04-22T23:48:53.462Z"
   },
   {
    "duration": 48,
    "start_time": "2025-04-22T23:48:53.517Z"
   },
   {
    "duration": 20,
    "start_time": "2025-04-22T23:48:53.566Z"
   },
   {
    "duration": 11,
    "start_time": "2025-04-22T23:48:53.588Z"
   },
   {
    "duration": 86,
    "start_time": "2025-04-22T23:48:53.602Z"
   },
   {
    "duration": 5,
    "start_time": "2025-04-22T23:49:21.392Z"
   },
   {
    "duration": 16,
    "start_time": "2025-04-22T23:49:25.631Z"
   },
   {
    "duration": 5,
    "start_time": "2025-04-22T23:50:00.439Z"
   },
   {
    "duration": 8,
    "start_time": "2025-04-22T23:50:33.969Z"
   },
   {
    "duration": 10,
    "start_time": "2025-04-22T23:50:45.764Z"
   },
   {
    "duration": 6,
    "start_time": "2025-04-22T23:50:57.964Z"
   },
   {
    "duration": 11,
    "start_time": "2025-04-22T23:51:27.880Z"
   },
   {
    "duration": 6,
    "start_time": "2025-04-22T23:51:42.188Z"
   },
   {
    "duration": 13,
    "start_time": "2025-04-22T23:51:51.472Z"
   },
   {
    "duration": 16,
    "start_time": "2025-04-22T23:51:54.923Z"
   },
   {
    "duration": 12,
    "start_time": "2025-04-22T23:53:56.905Z"
   },
   {
    "duration": 9,
    "start_time": "2025-04-22T23:59:09.682Z"
   },
   {
    "duration": 9,
    "start_time": "2025-04-22T23:59:53.923Z"
   },
   {
    "duration": 7,
    "start_time": "2025-04-23T00:04:35.818Z"
   },
   {
    "duration": 9,
    "start_time": "2025-04-23T00:05:08.923Z"
   },
   {
    "duration": 8,
    "start_time": "2025-04-23T00:06:01.755Z"
   },
   {
    "duration": 8,
    "start_time": "2025-04-23T00:13:21.791Z"
   },
   {
    "duration": 51,
    "start_time": "2025-04-23T00:14:02.077Z"
   },
   {
    "duration": 13,
    "start_time": "2025-04-23T00:14:33.124Z"
   },
   {
    "duration": 15,
    "start_time": "2025-04-23T00:14:40.996Z"
   },
   {
    "duration": 90,
    "start_time": "2025-04-23T00:17:32.686Z"
   },
   {
    "duration": 14,
    "start_time": "2025-04-23T00:17:52.139Z"
   },
   {
    "duration": 558,
    "start_time": "2025-04-23T00:35:38.895Z"
   },
   {
    "duration": 2389,
    "start_time": "2025-04-23T00:35:39.455Z"
   },
   {
    "duration": 11,
    "start_time": "2025-04-23T00:35:41.846Z"
   },
   {
    "duration": 17,
    "start_time": "2025-04-23T00:35:41.859Z"
   },
   {
    "duration": 114,
    "start_time": "2025-04-23T00:35:41.879Z"
   },
   {
    "duration": 22,
    "start_time": "2025-04-23T00:35:41.994Z"
   },
   {
    "duration": 56,
    "start_time": "2025-04-23T00:35:42.018Z"
   },
   {
    "duration": 101,
    "start_time": "2025-04-23T00:35:42.075Z"
   },
   {
    "duration": 39,
    "start_time": "2025-04-23T00:35:42.177Z"
   },
   {
    "duration": 23,
    "start_time": "2025-04-23T00:35:42.217Z"
   },
   {
    "duration": 23,
    "start_time": "2025-04-23T00:35:42.242Z"
   },
   {
    "duration": 7,
    "start_time": "2025-04-23T00:35:42.266Z"
   },
   {
    "duration": 22,
    "start_time": "2025-04-23T00:35:42.275Z"
   },
   {
    "duration": 7,
    "start_time": "2025-04-23T00:35:42.300Z"
   },
   {
    "duration": 34,
    "start_time": "2025-04-23T00:35:42.308Z"
   },
   {
    "duration": 9,
    "start_time": "2025-04-23T00:35:42.344Z"
   },
   {
    "duration": 12,
    "start_time": "2025-04-23T00:35:42.354Z"
   },
   {
    "duration": 5,
    "start_time": "2025-04-23T00:35:42.368Z"
   },
   {
    "duration": 185,
    "start_time": "2025-04-23T00:35:42.375Z"
   },
   {
    "duration": 18,
    "start_time": "2025-04-23T00:35:42.561Z"
   },
   {
    "duration": 6,
    "start_time": "2025-04-23T00:35:42.581Z"
   },
   {
    "duration": 9,
    "start_time": "2025-04-23T00:35:42.588Z"
   },
   {
    "duration": 95,
    "start_time": "2025-04-23T00:35:42.599Z"
   },
   {
    "duration": 35,
    "start_time": "2025-04-23T00:35:42.695Z"
   },
   {
    "duration": 13,
    "start_time": "2025-04-23T00:35:42.739Z"
   },
   {
    "duration": 24,
    "start_time": "2025-04-23T00:35:42.753Z"
   },
   {
    "duration": 8,
    "start_time": "2025-04-23T00:35:42.779Z"
   },
   {
    "duration": 13,
    "start_time": "2025-04-23T00:35:42.788Z"
   },
   {
    "duration": 36,
    "start_time": "2025-04-23T00:35:42.803Z"
   },
   {
    "duration": 40,
    "start_time": "2025-04-23T00:35:42.841Z"
   },
   {
    "duration": 12,
    "start_time": "2025-04-23T00:35:42.882Z"
   },
   {
    "duration": 3,
    "start_time": "2025-04-23T00:35:42.896Z"
   },
   {
    "duration": 22,
    "start_time": "2025-04-23T00:35:42.901Z"
   },
   {
    "duration": 210,
    "start_time": "2025-04-23T00:35:42.938Z"
   },
   {
    "duration": 101,
    "start_time": "2025-04-23T00:35:43.150Z"
   },
   {
    "duration": 7,
    "start_time": "2025-04-23T00:35:43.253Z"
   },
   {
    "duration": 23,
    "start_time": "2025-04-23T00:35:43.261Z"
   },
   {
    "duration": 16,
    "start_time": "2025-04-23T00:35:43.285Z"
   },
   {
    "duration": 8,
    "start_time": "2025-04-23T00:35:43.302Z"
   },
   {
    "duration": 68,
    "start_time": "2025-04-23T00:35:43.311Z"
   },
   {
    "duration": 33,
    "start_time": "2025-04-23T00:35:43.382Z"
   },
   {
    "duration": 34,
    "start_time": "2025-04-23T00:35:43.416Z"
   },
   {
    "duration": 9,
    "start_time": "2025-04-23T00:35:43.452Z"
   },
   {
    "duration": 5,
    "start_time": "2025-04-23T00:35:43.462Z"
   },
   {
    "duration": 9,
    "start_time": "2025-04-23T00:35:43.469Z"
   },
   {
    "duration": 21,
    "start_time": "2025-04-23T00:35:43.480Z"
   },
   {
    "duration": 27,
    "start_time": "2025-04-23T00:36:32.118Z"
   },
   {
    "duration": 4,
    "start_time": "2025-04-23T00:38:21.525Z"
   },
   {
    "duration": 50,
    "start_time": "2025-04-23T10:15:13.560Z"
   },
   {
    "duration": 6,
    "start_time": "2025-04-23T10:15:18.740Z"
   },
   {
    "duration": 823,
    "start_time": "2025-04-23T10:15:24.213Z"
   },
   {
    "duration": 2530,
    "start_time": "2025-04-23T10:15:25.039Z"
   },
   {
    "duration": 15,
    "start_time": "2025-04-23T10:15:27.571Z"
   },
   {
    "duration": 15,
    "start_time": "2025-04-23T10:15:27.588Z"
   },
   {
    "duration": 120,
    "start_time": "2025-04-23T10:15:27.607Z"
   },
   {
    "duration": 26,
    "start_time": "2025-04-23T10:15:27.729Z"
   },
   {
    "duration": 66,
    "start_time": "2025-04-23T10:15:27.763Z"
   },
   {
    "duration": 103,
    "start_time": "2025-04-23T10:15:27.831Z"
   },
   {
    "duration": 48,
    "start_time": "2025-04-23T10:15:27.936Z"
   },
   {
    "duration": 9,
    "start_time": "2025-04-23T10:15:27.985Z"
   },
   {
    "duration": 36,
    "start_time": "2025-04-23T10:15:27.996Z"
   },
   {
    "duration": 9,
    "start_time": "2025-04-23T10:15:28.033Z"
   },
   {
    "duration": 30,
    "start_time": "2025-04-23T10:15:28.062Z"
   },
   {
    "duration": 8,
    "start_time": "2025-04-23T10:15:28.095Z"
   },
   {
    "duration": 17,
    "start_time": "2025-04-23T10:15:28.104Z"
   },
   {
    "duration": 10,
    "start_time": "2025-04-23T10:15:28.123Z"
   },
   {
    "duration": 30,
    "start_time": "2025-04-23T10:15:28.134Z"
   },
   {
    "duration": 7,
    "start_time": "2025-04-23T10:15:28.166Z"
   },
   {
    "duration": 183,
    "start_time": "2025-04-23T10:15:28.175Z"
   },
   {
    "duration": 17,
    "start_time": "2025-04-23T10:15:28.360Z"
   },
   {
    "duration": 6,
    "start_time": "2025-04-23T10:15:28.379Z"
   },
   {
    "duration": 8,
    "start_time": "2025-04-23T10:15:28.386Z"
   },
   {
    "duration": 93,
    "start_time": "2025-04-23T10:15:28.396Z"
   },
   {
    "duration": 35,
    "start_time": "2025-04-23T10:15:28.491Z"
   },
   {
    "duration": 33,
    "start_time": "2025-04-23T10:15:28.528Z"
   },
   {
    "duration": 20,
    "start_time": "2025-04-23T10:15:28.563Z"
   },
   {
    "duration": 14,
    "start_time": "2025-04-23T10:15:28.585Z"
   },
   {
    "duration": 7,
    "start_time": "2025-04-23T10:15:28.600Z"
   },
   {
    "duration": 15,
    "start_time": "2025-04-23T10:15:28.608Z"
   },
   {
    "duration": 59,
    "start_time": "2025-04-23T10:15:28.625Z"
   },
   {
    "duration": 12,
    "start_time": "2025-04-23T10:15:28.686Z"
   },
   {
    "duration": 21,
    "start_time": "2025-04-23T10:15:28.699Z"
   },
   {
    "duration": 41,
    "start_time": "2025-04-23T10:15:28.722Z"
   },
   {
    "duration": 242,
    "start_time": "2025-04-23T10:15:28.765Z"
   },
   {
    "duration": 89,
    "start_time": "2025-04-23T10:15:29.009Z"
   },
   {
    "duration": 9,
    "start_time": "2025-04-23T10:15:29.100Z"
   },
   {
    "duration": 26,
    "start_time": "2025-04-23T10:15:29.110Z"
   },
   {
    "duration": 17,
    "start_time": "2025-04-23T10:15:29.137Z"
   },
   {
    "duration": 9,
    "start_time": "2025-04-23T10:15:29.161Z"
   },
   {
    "duration": 60,
    "start_time": "2025-04-23T10:15:29.172Z"
   },
   {
    "duration": 49,
    "start_time": "2025-04-23T10:15:29.236Z"
   },
   {
    "duration": 22,
    "start_time": "2025-04-23T10:15:29.286Z"
   },
   {
    "duration": 17,
    "start_time": "2025-04-23T10:15:29.310Z"
   },
   {
    "duration": 6,
    "start_time": "2025-04-23T10:15:29.330Z"
   },
   {
    "duration": 26,
    "start_time": "2025-04-23T10:15:29.337Z"
   },
   {
    "duration": 22,
    "start_time": "2025-04-23T10:15:29.365Z"
   },
   {
    "duration": 37,
    "start_time": "2025-04-23T10:15:29.388Z"
   },
   {
    "duration": 5,
    "start_time": "2025-04-23T10:15:29.426Z"
   },
   {
    "duration": 99,
    "start_time": "2025-04-23T10:15:29.433Z"
   },
   {
    "duration": 25,
    "start_time": "2025-04-23T10:16:15.023Z"
   },
   {
    "duration": 31,
    "start_time": "2025-04-23T10:16:47.814Z"
   },
   {
    "duration": 28,
    "start_time": "2025-04-23T10:22:05.986Z"
   },
   {
    "duration": 76,
    "start_time": "2025-04-23T10:28:02.946Z"
   },
   {
    "duration": 39,
    "start_time": "2025-04-23T10:30:33.277Z"
   },
   {
    "duration": 654,
    "start_time": "2025-04-23T10:30:38.376Z"
   },
   {
    "duration": 2501,
    "start_time": "2025-04-23T10:30:39.033Z"
   },
   {
    "duration": 13,
    "start_time": "2025-04-23T10:30:41.536Z"
   },
   {
    "duration": 12,
    "start_time": "2025-04-23T10:30:41.551Z"
   },
   {
    "duration": 106,
    "start_time": "2025-04-23T10:30:41.565Z"
   },
   {
    "duration": 25,
    "start_time": "2025-04-23T10:30:41.672Z"
   },
   {
    "duration": 64,
    "start_time": "2025-04-23T10:30:41.698Z"
   },
   {
    "duration": 105,
    "start_time": "2025-04-23T10:30:41.764Z"
   },
   {
    "duration": 40,
    "start_time": "2025-04-23T10:30:41.871Z"
   },
   {
    "duration": 9,
    "start_time": "2025-04-23T10:30:41.914Z"
   },
   {
    "duration": 41,
    "start_time": "2025-04-23T10:30:41.924Z"
   },
   {
    "duration": 16,
    "start_time": "2025-04-23T10:30:41.967Z"
   },
   {
    "duration": 27,
    "start_time": "2025-04-23T10:30:41.984Z"
   },
   {
    "duration": 11,
    "start_time": "2025-04-23T10:30:42.013Z"
   },
   {
    "duration": 26,
    "start_time": "2025-04-23T10:30:42.025Z"
   },
   {
    "duration": 14,
    "start_time": "2025-04-23T10:30:42.052Z"
   },
   {
    "duration": 10,
    "start_time": "2025-04-23T10:30:42.068Z"
   },
   {
    "duration": 6,
    "start_time": "2025-04-23T10:30:42.080Z"
   },
   {
    "duration": 168,
    "start_time": "2025-04-23T10:30:42.087Z"
   },
   {
    "duration": 17,
    "start_time": "2025-04-23T10:30:42.256Z"
   },
   {
    "duration": 28,
    "start_time": "2025-04-23T10:30:42.275Z"
   },
   {
    "duration": 8,
    "start_time": "2025-04-23T10:30:42.305Z"
   },
   {
    "duration": 74,
    "start_time": "2025-04-23T10:30:42.315Z"
   },
   {
    "duration": 36,
    "start_time": "2025-04-23T10:30:42.391Z"
   },
   {
    "duration": 17,
    "start_time": "2025-04-23T10:30:42.429Z"
   },
   {
    "duration": 33,
    "start_time": "2025-04-23T10:30:42.448Z"
   },
   {
    "duration": 8,
    "start_time": "2025-04-23T10:30:42.483Z"
   },
   {
    "duration": 13,
    "start_time": "2025-04-23T10:30:42.494Z"
   },
   {
    "duration": 11,
    "start_time": "2025-04-23T10:30:42.508Z"
   },
   {
    "duration": 18,
    "start_time": "2025-04-23T10:30:42.520Z"
   },
   {
    "duration": 30,
    "start_time": "2025-04-23T10:30:42.540Z"
   },
   {
    "duration": 3,
    "start_time": "2025-04-23T10:30:42.572Z"
   },
   {
    "duration": 17,
    "start_time": "2025-04-23T10:30:42.576Z"
   },
   {
    "duration": 214,
    "start_time": "2025-04-23T10:30:42.594Z"
   },
   {
    "duration": 94,
    "start_time": "2025-04-23T10:30:42.810Z"
   },
   {
    "duration": 8,
    "start_time": "2025-04-23T10:30:42.906Z"
   },
   {
    "duration": 11,
    "start_time": "2025-04-23T10:30:42.916Z"
   },
   {
    "duration": 36,
    "start_time": "2025-04-23T10:30:42.928Z"
   },
   {
    "duration": 9,
    "start_time": "2025-04-23T10:30:42.965Z"
   },
   {
    "duration": 67,
    "start_time": "2025-04-23T10:30:42.976Z"
   },
   {
    "duration": 25,
    "start_time": "2025-04-23T10:30:43.045Z"
   },
   {
    "duration": 31,
    "start_time": "2025-04-23T10:30:43.071Z"
   },
   {
    "duration": 12,
    "start_time": "2025-04-23T10:30:43.104Z"
   },
   {
    "duration": 90,
    "start_time": "2025-04-23T10:30:43.118Z"
   },
   {
    "duration": 262,
    "start_time": "2025-04-23T10:30:43.210Z"
   },
   {
    "duration": 73,
    "start_time": "2025-04-23T10:30:43.474Z"
   },
   {
    "duration": 76,
    "start_time": "2025-04-23T10:32:25.541Z"
   },
   {
    "duration": 77,
    "start_time": "2025-04-23T10:33:06.249Z"
   },
   {
    "duration": 76,
    "start_time": "2025-04-23T10:34:52.210Z"
   },
   {
    "duration": 76,
    "start_time": "2025-04-23T10:35:38.750Z"
   },
   {
    "duration": 73,
    "start_time": "2025-04-23T10:36:33.660Z"
   },
   {
    "duration": 3,
    "start_time": "2025-04-23T11:02:28.684Z"
   },
   {
    "duration": 5,
    "start_time": "2025-04-23T11:02:42.535Z"
   },
   {
    "duration": 98,
    "start_time": "2025-04-23T11:03:20.288Z"
   },
   {
    "duration": 27,
    "start_time": "2025-04-23T11:03:20.799Z"
   },
   {
    "duration": 80,
    "start_time": "2025-04-23T11:04:19.290Z"
   },
   {
    "duration": 178,
    "start_time": "2025-04-23T11:05:22.595Z"
   },
   {
    "duration": 10,
    "start_time": "2025-04-23T11:05:23.400Z"
   },
   {
    "duration": 1253,
    "start_time": "2025-04-23T11:05:24.240Z"
   },
   {
    "duration": 1308,
    "start_time": "2025-04-23T11:06:11.100Z"
   },
   {
    "duration": 13,
    "start_time": "2025-04-23T11:06:45.867Z"
   },
   {
    "duration": 67,
    "start_time": "2025-04-23T11:07:11.400Z"
   },
   {
    "duration": 196,
    "start_time": "2025-04-23T11:07:24.879Z"
   },
   {
    "duration": 10,
    "start_time": "2025-04-23T11:07:36.770Z"
   },
   {
    "duration": 177,
    "start_time": "2025-04-23T11:07:38.952Z"
   },
   {
    "duration": 10,
    "start_time": "2025-04-23T11:07:39.522Z"
   },
   {
    "duration": 99,
    "start_time": "2025-04-23T11:07:51.782Z"
   },
   {
    "duration": 9,
    "start_time": "2025-04-23T11:07:53.517Z"
   },
   {
    "duration": 14,
    "start_time": "2025-04-23T11:08:02.633Z"
   },
   {
    "duration": 10,
    "start_time": "2025-04-23T11:08:03.483Z"
   },
   {
    "duration": 195,
    "start_time": "2025-04-23T11:08:10.672Z"
   },
   {
    "duration": 11,
    "start_time": "2025-04-23T11:08:12.633Z"
   },
   {
    "duration": 19,
    "start_time": "2025-04-23T11:08:13.357Z"
   },
   {
    "duration": 113,
    "start_time": "2025-04-23T11:08:26.541Z"
   },
   {
    "duration": 83,
    "start_time": "2025-04-23T11:08:27.122Z"
   },
   {
    "duration": 3,
    "start_time": "2025-04-23T11:09:52.649Z"
   },
   {
    "duration": 12,
    "start_time": "2025-04-23T11:09:53.171Z"
   },
   {
    "duration": 705,
    "start_time": "2025-04-23T11:10:01.679Z"
   },
   {
    "duration": 3207,
    "start_time": "2025-04-23T11:10:02.386Z"
   },
   {
    "duration": 13,
    "start_time": "2025-04-23T11:10:05.595Z"
   },
   {
    "duration": 69,
    "start_time": "2025-04-23T11:10:05.609Z"
   },
   {
    "duration": 110,
    "start_time": "2025-04-23T11:10:05.680Z"
   },
   {
    "duration": 24,
    "start_time": "2025-04-23T11:10:05.792Z"
   },
   {
    "duration": 101,
    "start_time": "2025-04-23T11:10:05.818Z"
   },
   {
    "duration": 124,
    "start_time": "2025-04-23T11:10:05.921Z"
   },
   {
    "duration": 46,
    "start_time": "2025-04-23T11:10:06.046Z"
   },
   {
    "duration": 9,
    "start_time": "2025-04-23T11:10:06.094Z"
   },
   {
    "duration": 89,
    "start_time": "2025-04-23T11:10:06.105Z"
   },
   {
    "duration": 71,
    "start_time": "2025-04-23T11:10:06.196Z"
   },
   {
    "duration": 73,
    "start_time": "2025-04-23T11:10:06.269Z"
   },
   {
    "duration": 46,
    "start_time": "2025-04-23T11:10:06.345Z"
   },
   {
    "duration": 123,
    "start_time": "2025-04-23T11:10:06.393Z"
   },
   {
    "duration": 34,
    "start_time": "2025-04-23T11:10:06.517Z"
   },
   {
    "duration": 40,
    "start_time": "2025-04-23T11:10:06.552Z"
   },
   {
    "duration": 36,
    "start_time": "2025-04-23T11:10:06.593Z"
   },
   {
    "duration": 222,
    "start_time": "2025-04-23T11:10:06.632Z"
   },
   {
    "duration": 18,
    "start_time": "2025-04-23T11:10:06.856Z"
   },
   {
    "duration": 18,
    "start_time": "2025-04-23T11:10:06.876Z"
   },
   {
    "duration": 57,
    "start_time": "2025-04-23T11:10:06.896Z"
   },
   {
    "duration": 82,
    "start_time": "2025-04-23T11:10:06.954Z"
   },
   {
    "duration": 43,
    "start_time": "2025-04-23T11:10:07.038Z"
   },
   {
    "duration": 36,
    "start_time": "2025-04-23T11:10:07.083Z"
   },
   {
    "duration": 34,
    "start_time": "2025-04-23T11:10:07.121Z"
   },
   {
    "duration": 53,
    "start_time": "2025-04-23T11:10:07.157Z"
   },
   {
    "duration": 31,
    "start_time": "2025-04-23T11:10:07.212Z"
   },
   {
    "duration": 16,
    "start_time": "2025-04-23T11:10:07.245Z"
   },
   {
    "duration": 77,
    "start_time": "2025-04-23T11:10:07.263Z"
   },
   {
    "duration": 15,
    "start_time": "2025-04-23T11:10:07.343Z"
   },
   {
    "duration": 55,
    "start_time": "2025-04-23T11:10:07.360Z"
   },
   {
    "duration": 85,
    "start_time": "2025-04-23T11:10:07.417Z"
   },
   {
    "duration": 247,
    "start_time": "2025-04-23T11:10:07.504Z"
   },
   {
    "duration": 94,
    "start_time": "2025-04-23T11:10:07.753Z"
   },
   {
    "duration": 15,
    "start_time": "2025-04-23T11:10:07.848Z"
   },
   {
    "duration": 30,
    "start_time": "2025-04-23T11:10:07.864Z"
   },
   {
    "duration": 51,
    "start_time": "2025-04-23T11:10:07.896Z"
   },
   {
    "duration": 28,
    "start_time": "2025-04-23T11:10:07.949Z"
   },
   {
    "duration": 149,
    "start_time": "2025-04-23T11:10:07.979Z"
   },
   {
    "duration": 22,
    "start_time": "2025-04-23T11:10:08.131Z"
   },
   {
    "duration": 48,
    "start_time": "2025-04-23T11:10:08.155Z"
   },
   {
    "duration": 12,
    "start_time": "2025-04-23T11:10:08.205Z"
   },
   {
    "duration": 117,
    "start_time": "2025-04-23T11:10:08.219Z"
   },
   {
    "duration": 89,
    "start_time": "2025-04-23T11:10:08.338Z"
   },
   {
    "duration": 101,
    "start_time": "2025-04-23T11:10:08.429Z"
   },
   {
    "duration": 3,
    "start_time": "2025-04-23T11:10:08.532Z"
   },
   {
    "duration": 25,
    "start_time": "2025-04-23T11:10:08.537Z"
   },
   {
    "duration": 40,
    "start_time": "2025-04-23T11:10:08.564Z"
   },
   {
    "duration": 106,
    "start_time": "2025-04-23T11:10:08.605Z"
   },
   {
    "duration": 23,
    "start_time": "2025-04-23T11:13:17.719Z"
   },
   {
    "duration": 67,
    "start_time": "2025-04-23T11:13:20.832Z"
   },
   {
    "duration": 29,
    "start_time": "2025-04-23T11:13:32.890Z"
   },
   {
    "duration": 75,
    "start_time": "2025-04-23T11:13:34.183Z"
   },
   {
    "duration": 20,
    "start_time": "2025-04-23T11:15:31.099Z"
   },
   {
    "duration": 3,
    "start_time": "2025-04-23T11:15:46.802Z"
   },
   {
    "duration": 22,
    "start_time": "2025-04-23T11:16:28.889Z"
   },
   {
    "duration": 63,
    "start_time": "2025-04-23T11:17:09.832Z"
   },
   {
    "duration": 64,
    "start_time": "2025-04-23T11:17:45.748Z"
   },
   {
    "duration": 18,
    "start_time": "2025-04-23T11:18:19.798Z"
   },
   {
    "duration": 22,
    "start_time": "2025-04-23T11:18:20.271Z"
   },
   {
    "duration": 69,
    "start_time": "2025-04-23T11:18:20.974Z"
   },
   {
    "duration": 83,
    "start_time": "2025-04-23T11:21:21.505Z"
   },
   {
    "duration": 7,
    "start_time": "2025-04-23T11:21:30.823Z"
   },
   {
    "duration": 14,
    "start_time": "2025-04-23T11:21:33.365Z"
   },
   {
    "duration": 23,
    "start_time": "2025-04-23T11:21:50.136Z"
   },
   {
    "duration": 8,
    "start_time": "2025-04-23T11:22:25.259Z"
   },
   {
    "duration": 23,
    "start_time": "2025-04-23T11:22:25.762Z"
   },
   {
    "duration": 9,
    "start_time": "2025-04-23T11:24:18.415Z"
   },
   {
    "duration": 14,
    "start_time": "2025-04-23T11:24:29.872Z"
   },
   {
    "duration": 10,
    "start_time": "2025-04-23T11:25:22.882Z"
   },
   {
    "duration": 10,
    "start_time": "2025-04-23T11:26:09.170Z"
   },
   {
    "duration": 17,
    "start_time": "2025-04-23T11:28:47.639Z"
   },
   {
    "duration": 12,
    "start_time": "2025-04-23T11:42:13.130Z"
   },
   {
    "duration": 35,
    "start_time": "2025-04-23T11:43:11.896Z"
   },
   {
    "duration": 10,
    "start_time": "2025-04-23T11:43:20.304Z"
   },
   {
    "duration": 92,
    "start_time": "2025-04-23T11:43:44.098Z"
   },
   {
    "duration": 33,
    "start_time": "2025-04-23T11:43:49.429Z"
   },
   {
    "duration": 11,
    "start_time": "2025-04-23T11:43:51.604Z"
   },
   {
    "duration": 31,
    "start_time": "2025-04-23T11:45:50.264Z"
   },
   {
    "duration": 12,
    "start_time": "2025-04-23T11:45:50.813Z"
   },
   {
    "duration": 33,
    "start_time": "2025-04-23T11:46:30.021Z"
   },
   {
    "duration": 11,
    "start_time": "2025-04-23T11:46:30.813Z"
   },
   {
    "duration": 11,
    "start_time": "2025-04-23T11:46:35.963Z"
   },
   {
    "duration": 7,
    "start_time": "2025-04-23T11:46:47.281Z"
   },
   {
    "duration": 31,
    "start_time": "2025-04-23T11:46:53.364Z"
   },
   {
    "duration": 6,
    "start_time": "2025-04-23T11:46:53.947Z"
   },
   {
    "duration": 33,
    "start_time": "2025-04-23T11:46:59.564Z"
   },
   {
    "duration": 6,
    "start_time": "2025-04-23T11:47:00.093Z"
   },
   {
    "duration": 702,
    "start_time": "2025-04-23T11:47:06.335Z"
   },
   {
    "duration": 2823,
    "start_time": "2025-04-23T11:47:07.039Z"
   },
   {
    "duration": 13,
    "start_time": "2025-04-23T11:47:09.864Z"
   },
   {
    "duration": 11,
    "start_time": "2025-04-23T11:47:09.879Z"
   },
   {
    "duration": 115,
    "start_time": "2025-04-23T11:47:09.892Z"
   },
   {
    "duration": 24,
    "start_time": "2025-04-23T11:47:10.009Z"
   },
   {
    "duration": 98,
    "start_time": "2025-04-23T11:47:10.035Z"
   },
   {
    "duration": 104,
    "start_time": "2025-04-23T11:47:10.134Z"
   },
   {
    "duration": 53,
    "start_time": "2025-04-23T11:47:10.240Z"
   },
   {
    "duration": 9,
    "start_time": "2025-04-23T11:47:10.296Z"
   },
   {
    "duration": 40,
    "start_time": "2025-04-23T11:47:10.306Z"
   },
   {
    "duration": 9,
    "start_time": "2025-04-23T11:47:10.348Z"
   },
   {
    "duration": 31,
    "start_time": "2025-04-23T11:47:10.359Z"
   },
   {
    "duration": 9,
    "start_time": "2025-04-23T11:47:10.394Z"
   },
   {
    "duration": 15,
    "start_time": "2025-04-23T11:47:10.404Z"
   },
   {
    "duration": 11,
    "start_time": "2025-04-23T11:47:10.420Z"
   },
   {
    "duration": 30,
    "start_time": "2025-04-23T11:47:10.432Z"
   },
   {
    "duration": 7,
    "start_time": "2025-04-23T11:47:10.464Z"
   },
   {
    "duration": 168,
    "start_time": "2025-04-23T11:47:10.473Z"
   },
   {
    "duration": 20,
    "start_time": "2025-04-23T11:47:10.642Z"
   },
   {
    "duration": 8,
    "start_time": "2025-04-23T11:47:10.664Z"
   },
   {
    "duration": 11,
    "start_time": "2025-04-23T11:47:10.673Z"
   },
   {
    "duration": 90,
    "start_time": "2025-04-23T11:47:10.686Z"
   },
   {
    "duration": 36,
    "start_time": "2025-04-23T11:47:10.778Z"
   },
   {
    "duration": 18,
    "start_time": "2025-04-23T11:47:10.816Z"
   },
   {
    "duration": 34,
    "start_time": "2025-04-23T11:47:10.836Z"
   },
   {
    "duration": 9,
    "start_time": "2025-04-23T11:47:10.872Z"
   },
   {
    "duration": 7,
    "start_time": "2025-04-23T11:47:10.883Z"
   },
   {
    "duration": 12,
    "start_time": "2025-04-23T11:47:10.892Z"
   },
   {
    "duration": 19,
    "start_time": "2025-04-23T11:47:10.906Z"
   },
   {
    "duration": 12,
    "start_time": "2025-04-23T11:47:10.963Z"
   },
   {
    "duration": 4,
    "start_time": "2025-04-23T11:47:10.977Z"
   },
   {
    "duration": 12,
    "start_time": "2025-04-23T11:47:10.983Z"
   },
   {
    "duration": 236,
    "start_time": "2025-04-23T11:47:10.996Z"
   },
   {
    "duration": 100,
    "start_time": "2025-04-23T11:47:11.234Z"
   },
   {
    "duration": 10,
    "start_time": "2025-04-23T11:47:11.335Z"
   },
   {
    "duration": 27,
    "start_time": "2025-04-23T11:47:11.346Z"
   },
   {
    "duration": 18,
    "start_time": "2025-04-23T11:47:11.374Z"
   },
   {
    "duration": 9,
    "start_time": "2025-04-23T11:47:11.393Z"
   },
   {
    "duration": 80,
    "start_time": "2025-04-23T11:47:11.403Z"
   },
   {
    "duration": 43,
    "start_time": "2025-04-23T11:47:11.487Z"
   },
   {
    "duration": 23,
    "start_time": "2025-04-23T11:47:11.532Z"
   },
   {
    "duration": 25,
    "start_time": "2025-04-23T11:47:11.556Z"
   },
   {
    "duration": 29,
    "start_time": "2025-04-23T11:47:11.583Z"
   },
   {
    "duration": 11,
    "start_time": "2025-04-23T11:47:11.614Z"
   },
   {
    "duration": 101,
    "start_time": "2025-04-23T11:47:11.626Z"
   },
   {
    "duration": 83,
    "start_time": "2025-04-23T11:47:11.729Z"
   },
   {
    "duration": 100,
    "start_time": "2025-04-23T11:47:11.814Z"
   },
   {
    "duration": 21,
    "start_time": "2025-04-23T11:47:11.916Z"
   },
   {
    "duration": 42,
    "start_time": "2025-04-23T11:47:11.939Z"
   },
   {
    "duration": 62,
    "start_time": "2025-04-23T11:47:11.983Z"
   },
   {
    "duration": 20,
    "start_time": "2025-04-23T11:47:12.047Z"
   },
   {
    "duration": 9,
    "start_time": "2025-04-23T11:47:12.068Z"
   },
   {
    "duration": 10,
    "start_time": "2025-04-23T11:47:12.078Z"
   },
   {
    "duration": 10,
    "start_time": "2025-04-23T11:48:10.564Z"
   },
   {
    "duration": 677,
    "start_time": "2025-04-23T11:48:17.366Z"
   },
   {
    "duration": 2444,
    "start_time": "2025-04-23T11:48:18.045Z"
   },
   {
    "duration": 13,
    "start_time": "2025-04-23T11:48:20.491Z"
   },
   {
    "duration": 19,
    "start_time": "2025-04-23T11:48:20.506Z"
   },
   {
    "duration": 104,
    "start_time": "2025-04-23T11:48:20.528Z"
   },
   {
    "duration": 39,
    "start_time": "2025-04-23T11:48:20.634Z"
   },
   {
    "duration": 49,
    "start_time": "2025-04-23T11:48:20.674Z"
   },
   {
    "duration": 108,
    "start_time": "2025-04-23T11:48:20.725Z"
   },
   {
    "duration": 54,
    "start_time": "2025-04-23T11:48:20.835Z"
   },
   {
    "duration": 9,
    "start_time": "2025-04-23T11:48:20.891Z"
   },
   {
    "duration": 28,
    "start_time": "2025-04-23T11:48:20.902Z"
   },
   {
    "duration": 26,
    "start_time": "2025-04-23T11:48:20.932Z"
   },
   {
    "duration": 25,
    "start_time": "2025-04-23T11:48:20.960Z"
   },
   {
    "duration": 24,
    "start_time": "2025-04-23T11:48:20.988Z"
   },
   {
    "duration": 25,
    "start_time": "2025-04-23T11:48:21.014Z"
   },
   {
    "duration": 12,
    "start_time": "2025-04-23T11:48:21.040Z"
   },
   {
    "duration": 14,
    "start_time": "2025-04-23T11:48:21.054Z"
   },
   {
    "duration": 7,
    "start_time": "2025-04-23T11:48:21.070Z"
   },
   {
    "duration": 175,
    "start_time": "2025-04-23T11:48:21.078Z"
   },
   {
    "duration": 24,
    "start_time": "2025-04-23T11:48:21.256Z"
   },
   {
    "duration": 9,
    "start_time": "2025-04-23T11:48:21.282Z"
   },
   {
    "duration": 10,
    "start_time": "2025-04-23T11:48:21.292Z"
   },
   {
    "duration": 95,
    "start_time": "2025-04-23T11:48:21.304Z"
   },
   {
    "duration": 37,
    "start_time": "2025-04-23T11:48:21.401Z"
   },
   {
    "duration": 28,
    "start_time": "2025-04-23T11:48:21.440Z"
   },
   {
    "duration": 22,
    "start_time": "2025-04-23T11:48:21.470Z"
   },
   {
    "duration": 59,
    "start_time": "2025-04-23T11:48:21.494Z"
   },
   {
    "duration": 22,
    "start_time": "2025-04-23T11:48:21.554Z"
   },
   {
    "duration": 20,
    "start_time": "2025-04-23T11:48:21.577Z"
   },
   {
    "duration": 20,
    "start_time": "2025-04-23T11:48:21.599Z"
   },
   {
    "duration": 11,
    "start_time": "2025-04-23T11:48:21.621Z"
   },
   {
    "duration": 4,
    "start_time": "2025-04-23T11:48:21.634Z"
   },
   {
    "duration": 22,
    "start_time": "2025-04-23T11:48:21.640Z"
   },
   {
    "duration": 213,
    "start_time": "2025-04-23T11:48:21.664Z"
   },
   {
    "duration": 97,
    "start_time": "2025-04-23T11:48:21.879Z"
   },
   {
    "duration": 8,
    "start_time": "2025-04-23T11:48:21.978Z"
   },
   {
    "duration": 14,
    "start_time": "2025-04-23T11:48:21.988Z"
   },
   {
    "duration": 17,
    "start_time": "2025-04-23T11:48:22.003Z"
   },
   {
    "duration": 9,
    "start_time": "2025-04-23T11:48:22.021Z"
   },
   {
    "duration": 86,
    "start_time": "2025-04-23T11:48:22.032Z"
   },
   {
    "duration": 10,
    "start_time": "2025-04-23T11:48:22.122Z"
   },
   {
    "duration": 59,
    "start_time": "2025-04-23T11:48:22.134Z"
   },
   {
    "duration": 5,
    "start_time": "2025-04-23T11:48:22.195Z"
   },
   {
    "duration": 24,
    "start_time": "2025-04-23T11:48:22.202Z"
   },
   {
    "duration": 41,
    "start_time": "2025-04-23T11:48:22.227Z"
   },
   {
    "duration": 25,
    "start_time": "2025-04-23T11:48:22.270Z"
   },
   {
    "duration": 84,
    "start_time": "2025-04-23T11:48:22.297Z"
   },
   {
    "duration": 80,
    "start_time": "2025-04-23T11:48:22.383Z"
   },
   {
    "duration": 99,
    "start_time": "2025-04-23T11:48:22.465Z"
   },
   {
    "duration": 22,
    "start_time": "2025-04-23T11:48:22.566Z"
   },
   {
    "duration": 35,
    "start_time": "2025-04-23T11:48:22.590Z"
   },
   {
    "duration": 77,
    "start_time": "2025-04-23T11:48:22.627Z"
   },
   {
    "duration": 8,
    "start_time": "2025-04-23T11:48:22.705Z"
   },
   {
    "duration": 10,
    "start_time": "2025-04-23T11:48:22.714Z"
   },
   {
    "duration": 10,
    "start_time": "2025-04-23T11:48:22.725Z"
   },
   {
    "duration": 83,
    "start_time": "2025-04-23T11:51:02.267Z"
   },
   {
    "duration": 8,
    "start_time": "2025-04-23T11:51:08.487Z"
   },
   {
    "duration": 29,
    "start_time": "2025-04-23T11:51:21.030Z"
   },
   {
    "duration": 6,
    "start_time": "2025-04-23T11:51:26.763Z"
   },
   {
    "duration": 15,
    "start_time": "2025-04-23T11:52:45.816Z"
   },
   {
    "duration": 48,
    "start_time": "2025-04-23T11:56:01.039Z"
   },
   {
    "duration": 6,
    "start_time": "2025-04-23T11:56:02.186Z"
   },
   {
    "duration": 53,
    "start_time": "2025-04-23T11:56:11.222Z"
   },
   {
    "duration": 7,
    "start_time": "2025-04-23T11:56:11.745Z"
   },
   {
    "duration": 672,
    "start_time": "2025-04-23T11:56:16.066Z"
   },
   {
    "duration": 2171,
    "start_time": "2025-04-23T11:56:16.739Z"
   },
   {
    "duration": 11,
    "start_time": "2025-04-23T11:56:18.912Z"
   },
   {
    "duration": 16,
    "start_time": "2025-04-23T11:56:18.925Z"
   },
   {
    "duration": 97,
    "start_time": "2025-04-23T11:56:18.943Z"
   },
   {
    "duration": 30,
    "start_time": "2025-04-23T11:56:19.042Z"
   },
   {
    "duration": 47,
    "start_time": "2025-04-23T11:56:19.073Z"
   },
   {
    "duration": 112,
    "start_time": "2025-04-23T11:56:19.121Z"
   },
   {
    "duration": 43,
    "start_time": "2025-04-23T11:56:19.235Z"
   },
   {
    "duration": 18,
    "start_time": "2025-04-23T11:56:19.279Z"
   },
   {
    "duration": 22,
    "start_time": "2025-04-23T11:56:19.298Z"
   },
   {
    "duration": 12,
    "start_time": "2025-04-23T11:56:19.321Z"
   },
   {
    "duration": 37,
    "start_time": "2025-04-23T11:56:19.334Z"
   },
   {
    "duration": 8,
    "start_time": "2025-04-23T11:56:19.374Z"
   },
   {
    "duration": 21,
    "start_time": "2025-04-23T11:56:19.383Z"
   },
   {
    "duration": 12,
    "start_time": "2025-04-23T11:56:19.405Z"
   },
   {
    "duration": 14,
    "start_time": "2025-04-23T11:56:19.418Z"
   },
   {
    "duration": 7,
    "start_time": "2025-04-23T11:56:19.434Z"
   },
   {
    "duration": 171,
    "start_time": "2025-04-23T11:56:19.443Z"
   },
   {
    "duration": 17,
    "start_time": "2025-04-23T11:56:19.615Z"
   },
   {
    "duration": 8,
    "start_time": "2025-04-23T11:56:19.634Z"
   },
   {
    "duration": 23,
    "start_time": "2025-04-23T11:56:19.644Z"
   },
   {
    "duration": 74,
    "start_time": "2025-04-23T11:56:19.668Z"
   },
   {
    "duration": 59,
    "start_time": "2025-04-23T11:56:19.743Z"
   },
   {
    "duration": 14,
    "start_time": "2025-04-23T11:56:19.804Z"
   },
   {
    "duration": 21,
    "start_time": "2025-04-23T11:56:19.819Z"
   },
   {
    "duration": 26,
    "start_time": "2025-04-23T11:56:19.842Z"
   },
   {
    "duration": 17,
    "start_time": "2025-04-23T11:56:19.869Z"
   },
   {
    "duration": 15,
    "start_time": "2025-04-23T11:56:19.888Z"
   },
   {
    "duration": 20,
    "start_time": "2025-04-23T11:56:19.905Z"
   },
   {
    "duration": 10,
    "start_time": "2025-04-23T11:56:19.927Z"
   },
   {
    "duration": 24,
    "start_time": "2025-04-23T11:56:19.939Z"
   },
   {
    "duration": 25,
    "start_time": "2025-04-23T11:56:19.964Z"
   },
   {
    "duration": 241,
    "start_time": "2025-04-23T11:56:19.990Z"
   },
   {
    "duration": 99,
    "start_time": "2025-04-23T11:56:20.233Z"
   },
   {
    "duration": 9,
    "start_time": "2025-04-23T11:56:20.333Z"
   },
   {
    "duration": 19,
    "start_time": "2025-04-23T11:56:20.344Z"
   },
   {
    "duration": 31,
    "start_time": "2025-04-23T11:56:20.365Z"
   },
   {
    "duration": 9,
    "start_time": "2025-04-23T11:56:20.398Z"
   },
   {
    "duration": 66,
    "start_time": "2025-04-23T11:56:20.408Z"
   },
   {
    "duration": 11,
    "start_time": "2025-04-23T11:56:20.478Z"
   },
   {
    "duration": 106,
    "start_time": "2025-04-23T11:56:20.491Z"
   },
   {
    "duration": 6,
    "start_time": "2025-04-23T11:56:20.599Z"
   },
   {
    "duration": 48,
    "start_time": "2025-04-23T11:56:20.606Z"
   },
   {
    "duration": 105,
    "start_time": "2025-04-23T11:56:20.656Z"
   },
   {
    "duration": 18,
    "start_time": "2025-04-23T11:56:20.762Z"
   },
   {
    "duration": 86,
    "start_time": "2025-04-23T11:56:20.781Z"
   },
   {
    "duration": 76,
    "start_time": "2025-04-23T11:56:20.868Z"
   },
   {
    "duration": 108,
    "start_time": "2025-04-23T11:56:20.946Z"
   },
   {
    "duration": 23,
    "start_time": "2025-04-23T11:56:21.062Z"
   },
   {
    "duration": 59,
    "start_time": "2025-04-23T11:56:21.087Z"
   },
   {
    "duration": 78,
    "start_time": "2025-04-23T11:56:21.148Z"
   },
   {
    "duration": 8,
    "start_time": "2025-04-23T11:56:21.227Z"
   },
   {
    "duration": 29,
    "start_time": "2025-04-23T11:56:21.237Z"
   },
   {
    "duration": 11,
    "start_time": "2025-04-23T11:56:21.268Z"
   },
   {
    "duration": 8,
    "start_time": "2025-04-23T11:56:52.939Z"
   },
   {
    "duration": 57,
    "start_time": "2025-04-23T12:09:11.271Z"
   },
   {
    "duration": 7,
    "start_time": "2025-04-23T12:09:11.804Z"
   },
   {
    "duration": 684,
    "start_time": "2025-04-23T12:48:22.552Z"
   },
   {
    "duration": 2809,
    "start_time": "2025-04-23T12:48:23.238Z"
   },
   {
    "duration": 13,
    "start_time": "2025-04-23T12:48:26.051Z"
   },
   {
    "duration": 12,
    "start_time": "2025-04-23T12:48:26.066Z"
   },
   {
    "duration": 117,
    "start_time": "2025-04-23T12:48:26.079Z"
   },
   {
    "duration": 25,
    "start_time": "2025-04-23T12:48:26.198Z"
   },
   {
    "duration": 60,
    "start_time": "2025-04-23T12:48:26.225Z"
   },
   {
    "duration": 107,
    "start_time": "2025-04-23T12:48:26.287Z"
   },
   {
    "duration": 40,
    "start_time": "2025-04-23T12:48:26.396Z"
   },
   {
    "duration": 9,
    "start_time": "2025-04-23T12:48:26.437Z"
   },
   {
    "duration": 31,
    "start_time": "2025-04-23T12:48:26.448Z"
   },
   {
    "duration": 17,
    "start_time": "2025-04-23T12:48:26.481Z"
   },
   {
    "duration": 26,
    "start_time": "2025-04-23T12:48:26.501Z"
   },
   {
    "duration": 7,
    "start_time": "2025-04-23T12:48:26.529Z"
   },
   {
    "duration": 34,
    "start_time": "2025-04-23T12:48:26.538Z"
   },
   {
    "duration": 10,
    "start_time": "2025-04-23T12:48:26.574Z"
   },
   {
    "duration": 11,
    "start_time": "2025-04-23T12:48:26.586Z"
   },
   {
    "duration": 7,
    "start_time": "2025-04-23T12:48:26.598Z"
   },
   {
    "duration": 177,
    "start_time": "2025-04-23T12:48:26.606Z"
   },
   {
    "duration": 18,
    "start_time": "2025-04-23T12:48:26.784Z"
   },
   {
    "duration": 6,
    "start_time": "2025-04-23T12:48:26.803Z"
   },
   {
    "duration": 8,
    "start_time": "2025-04-23T12:48:26.811Z"
   },
   {
    "duration": 95,
    "start_time": "2025-04-23T12:48:26.821Z"
   },
   {
    "duration": 46,
    "start_time": "2025-04-23T12:48:26.917Z"
   },
   {
    "duration": 12,
    "start_time": "2025-04-23T12:48:26.965Z"
   },
   {
    "duration": 38,
    "start_time": "2025-04-23T12:48:26.978Z"
   },
   {
    "duration": 9,
    "start_time": "2025-04-23T12:48:27.018Z"
   },
   {
    "duration": 6,
    "start_time": "2025-04-23T12:48:27.028Z"
   },
   {
    "duration": 26,
    "start_time": "2025-04-23T12:48:27.036Z"
   },
   {
    "duration": 18,
    "start_time": "2025-04-23T12:48:27.064Z"
   },
   {
    "duration": 10,
    "start_time": "2025-04-23T12:48:27.084Z"
   },
   {
    "duration": 3,
    "start_time": "2025-04-23T12:48:27.096Z"
   },
   {
    "duration": 14,
    "start_time": "2025-04-23T12:48:27.100Z"
   },
   {
    "duration": 249,
    "start_time": "2025-04-23T12:48:27.115Z"
   },
   {
    "duration": 11,
    "start_time": "2025-04-23T12:48:27.366Z"
   },
   {
    "duration": 11,
    "start_time": "2025-04-23T12:48:27.378Z"
   },
   {
    "duration": 24,
    "start_time": "2025-04-23T12:48:27.392Z"
   },
   {
    "duration": 21,
    "start_time": "2025-04-23T12:48:27.418Z"
   },
   {
    "duration": 13,
    "start_time": "2025-04-23T12:48:27.462Z"
   },
   {
    "duration": 96,
    "start_time": "2025-04-23T12:48:27.480Z"
   },
   {
    "duration": 0,
    "start_time": "2025-04-23T12:48:27.578Z"
   },
   {
    "duration": 0,
    "start_time": "2025-04-23T12:48:27.579Z"
   },
   {
    "duration": 0,
    "start_time": "2025-04-23T12:48:27.581Z"
   },
   {
    "duration": 0,
    "start_time": "2025-04-23T12:48:27.582Z"
   },
   {
    "duration": 0,
    "start_time": "2025-04-23T12:48:27.583Z"
   },
   {
    "duration": 0,
    "start_time": "2025-04-23T12:48:27.584Z"
   },
   {
    "duration": 0,
    "start_time": "2025-04-23T12:48:27.585Z"
   },
   {
    "duration": 0,
    "start_time": "2025-04-23T12:48:27.586Z"
   },
   {
    "duration": 0,
    "start_time": "2025-04-23T12:48:27.587Z"
   },
   {
    "duration": 0,
    "start_time": "2025-04-23T12:48:27.588Z"
   },
   {
    "duration": 0,
    "start_time": "2025-04-23T12:48:27.589Z"
   },
   {
    "duration": 0,
    "start_time": "2025-04-23T12:48:27.590Z"
   },
   {
    "duration": 0,
    "start_time": "2025-04-23T12:48:27.591Z"
   },
   {
    "duration": 0,
    "start_time": "2025-04-23T12:48:27.593Z"
   },
   {
    "duration": 8,
    "start_time": "2025-04-23T12:49:58.458Z"
   },
   {
    "duration": 10,
    "start_time": "2025-04-23T12:50:13.817Z"
   },
   {
    "duration": 8,
    "start_time": "2025-04-23T12:50:26.019Z"
   },
   {
    "duration": 2205,
    "start_time": "2025-04-23T12:51:17.464Z"
   },
   {
    "duration": 1228,
    "start_time": "2025-04-23T12:51:35.657Z"
   },
   {
    "duration": 3,
    "start_time": "2025-04-23T12:51:45.188Z"
   },
   {
    "duration": 8,
    "start_time": "2025-04-23T12:51:56.701Z"
   },
   {
    "duration": 10,
    "start_time": "2025-04-23T12:55:09.353Z"
   },
   {
    "duration": 78,
    "start_time": "2025-04-23T12:55:28.982Z"
   },
   {
    "duration": 9,
    "start_time": "2025-04-23T12:55:29.547Z"
   },
   {
    "duration": 658,
    "start_time": "2025-04-23T12:55:56.626Z"
   },
   {
    "duration": 3109,
    "start_time": "2025-04-23T12:55:57.288Z"
   },
   {
    "duration": 12,
    "start_time": "2025-04-23T12:56:00.399Z"
   },
   {
    "duration": 48,
    "start_time": "2025-04-23T12:56:00.413Z"
   },
   {
    "duration": 146,
    "start_time": "2025-04-23T12:56:00.463Z"
   },
   {
    "duration": 25,
    "start_time": "2025-04-23T12:56:00.611Z"
   },
   {
    "duration": 58,
    "start_time": "2025-04-23T12:56:00.637Z"
   },
   {
    "duration": 108,
    "start_time": "2025-04-23T12:56:00.697Z"
   },
   {
    "duration": 40,
    "start_time": "2025-04-23T12:56:00.807Z"
   },
   {
    "duration": 20,
    "start_time": "2025-04-23T12:56:00.849Z"
   },
   {
    "duration": 40,
    "start_time": "2025-04-23T12:56:00.870Z"
   },
   {
    "duration": 10,
    "start_time": "2025-04-23T12:56:00.912Z"
   },
   {
    "duration": 30,
    "start_time": "2025-04-23T12:56:00.923Z"
   },
   {
    "duration": 13,
    "start_time": "2025-04-23T12:56:00.956Z"
   },
   {
    "duration": 30,
    "start_time": "2025-04-23T12:56:00.970Z"
   },
   {
    "duration": 16,
    "start_time": "2025-04-23T12:56:01.002Z"
   },
   {
    "duration": 23,
    "start_time": "2025-04-23T12:56:01.020Z"
   },
   {
    "duration": 7,
    "start_time": "2025-04-23T12:56:01.044Z"
   },
   {
    "duration": 160,
    "start_time": "2025-04-23T12:56:01.052Z"
   },
   {
    "duration": 20,
    "start_time": "2025-04-23T12:56:01.213Z"
   },
   {
    "duration": 6,
    "start_time": "2025-04-23T12:56:01.235Z"
   },
   {
    "duration": 25,
    "start_time": "2025-04-23T12:56:01.243Z"
   },
   {
    "duration": 75,
    "start_time": "2025-04-23T12:56:01.270Z"
   },
   {
    "duration": 51,
    "start_time": "2025-04-23T12:56:01.347Z"
   },
   {
    "duration": 29,
    "start_time": "2025-04-23T12:56:01.400Z"
   },
   {
    "duration": 26,
    "start_time": "2025-04-23T12:56:01.430Z"
   },
   {
    "duration": 9,
    "start_time": "2025-04-23T12:56:01.458Z"
   },
   {
    "duration": 31,
    "start_time": "2025-04-23T12:56:01.468Z"
   },
   {
    "duration": 31,
    "start_time": "2025-04-23T12:56:01.501Z"
   },
   {
    "duration": 22,
    "start_time": "2025-04-23T12:56:01.534Z"
   },
   {
    "duration": 13,
    "start_time": "2025-04-23T12:56:01.558Z"
   },
   {
    "duration": 17,
    "start_time": "2025-04-23T12:56:01.573Z"
   },
   {
    "duration": 32,
    "start_time": "2025-04-23T12:56:01.592Z"
   },
   {
    "duration": 223,
    "start_time": "2025-04-23T12:56:01.626Z"
   },
   {
    "duration": 13,
    "start_time": "2025-04-23T12:56:01.851Z"
   },
   {
    "duration": 19,
    "start_time": "2025-04-23T12:56:01.866Z"
   },
   {
    "duration": 3,
    "start_time": "2025-04-23T12:56:01.887Z"
   },
   {
    "duration": 40,
    "start_time": "2025-04-23T12:56:01.892Z"
   },
   {
    "duration": 27,
    "start_time": "2025-04-23T12:56:01.933Z"
   },
   {
    "duration": 23,
    "start_time": "2025-04-23T12:56:01.962Z"
   },
   {
    "duration": 37,
    "start_time": "2025-04-23T12:56:01.989Z"
   },
   {
    "duration": 28,
    "start_time": "2025-04-23T12:56:02.027Z"
   },
   {
    "duration": 94,
    "start_time": "2025-04-23T12:56:02.057Z"
   },
   {
    "duration": 8,
    "start_time": "2025-04-23T12:56:02.153Z"
   },
   {
    "duration": 61,
    "start_time": "2025-04-23T12:56:02.162Z"
   },
   {
    "duration": 44,
    "start_time": "2025-04-23T12:56:02.225Z"
   },
   {
    "duration": 22,
    "start_time": "2025-04-23T12:56:02.271Z"
   },
   {
    "duration": 101,
    "start_time": "2025-04-23T12:56:02.295Z"
   },
   {
    "duration": 82,
    "start_time": "2025-04-23T12:56:02.397Z"
   },
   {
    "duration": 99,
    "start_time": "2025-04-23T12:56:02.481Z"
   },
   {
    "duration": 22,
    "start_time": "2025-04-23T12:56:02.582Z"
   },
   {
    "duration": 34,
    "start_time": "2025-04-23T12:56:02.606Z"
   },
   {
    "duration": 81,
    "start_time": "2025-04-23T12:56:02.642Z"
   },
   {
    "duration": 7,
    "start_time": "2025-04-23T12:56:02.725Z"
   },
   {
    "duration": 26,
    "start_time": "2025-04-23T12:56:02.734Z"
   },
   {
    "duration": 15,
    "start_time": "2025-04-23T12:56:02.762Z"
   },
   {
    "duration": 9,
    "start_time": "2025-04-23T12:57:02.125Z"
   },
   {
    "duration": 9,
    "start_time": "2025-04-23T12:57:07.117Z"
   },
   {
    "duration": 34,
    "start_time": "2025-04-23T12:59:45.008Z"
   },
   {
    "duration": 41,
    "start_time": "2025-04-23T13:00:14.859Z"
   },
   {
    "duration": 78,
    "start_time": "2025-04-23T13:01:44.893Z"
   },
   {
    "duration": 80,
    "start_time": "2025-04-23T13:02:04.706Z"
   },
   {
    "duration": 36,
    "start_time": "2025-04-23T13:02:23.217Z"
   },
   {
    "duration": 36,
    "start_time": "2025-04-23T13:02:50.712Z"
   },
   {
    "duration": 11,
    "start_time": "2025-04-23T13:03:59.016Z"
   },
   {
    "duration": 13,
    "start_time": "2025-04-23T13:04:06.899Z"
   },
   {
    "duration": 13,
    "start_time": "2025-04-23T13:04:33.883Z"
   },
   {
    "duration": 104,
    "start_time": "2025-04-23T13:06:26.783Z"
   },
   {
    "duration": 60,
    "start_time": "2025-04-23T13:06:27.600Z"
   },
   {
    "duration": 18,
    "start_time": "2025-04-23T13:06:55.416Z"
   },
   {
    "duration": 57,
    "start_time": "2025-04-23T13:09:32.306Z"
   },
   {
    "duration": 59,
    "start_time": "2025-04-23T13:10:13.488Z"
   },
   {
    "duration": 14,
    "start_time": "2025-04-23T13:11:54.522Z"
   },
   {
    "duration": 20,
    "start_time": "2025-04-23T13:12:07.023Z"
   },
   {
    "duration": 19,
    "start_time": "2025-04-23T13:12:17.482Z"
   },
   {
    "duration": 13,
    "start_time": "2025-04-23T13:13:02.522Z"
   },
   {
    "duration": 6,
    "start_time": "2025-04-23T13:15:26.056Z"
   },
   {
    "duration": 6,
    "start_time": "2025-04-23T13:15:29.137Z"
   },
   {
    "duration": 7,
    "start_time": "2025-04-23T13:15:37.048Z"
   },
   {
    "duration": 13,
    "start_time": "2025-04-23T13:16:28.104Z"
   },
   {
    "duration": 13,
    "start_time": "2025-04-23T13:17:36.480Z"
   },
   {
    "duration": 14,
    "start_time": "2025-04-23T13:17:43.604Z"
   },
   {
    "duration": 14,
    "start_time": "2025-04-23T13:17:59.246Z"
   },
   {
    "duration": 5,
    "start_time": "2025-04-23T13:18:48.914Z"
   },
   {
    "duration": 8,
    "start_time": "2025-04-23T13:20:46.004Z"
   },
   {
    "duration": 53,
    "start_time": "2025-04-23T13:20:56.498Z"
   },
   {
    "duration": 8,
    "start_time": "2025-04-23T13:21:09.800Z"
   },
   {
    "duration": 16,
    "start_time": "2025-04-23T13:21:14.930Z"
   },
   {
    "duration": 11,
    "start_time": "2025-04-23T13:29:20.889Z"
   },
   {
    "duration": 69,
    "start_time": "2025-04-23T13:32:45.916Z"
   },
   {
    "duration": 9,
    "start_time": "2025-04-23T13:32:51.698Z"
   },
   {
    "duration": 4,
    "start_time": "2025-04-23T13:33:38.531Z"
   },
   {
    "duration": 12,
    "start_time": "2025-04-23T13:33:46.949Z"
   },
   {
    "duration": 7,
    "start_time": "2025-04-23T13:34:37.563Z"
   },
   {
    "duration": 1243,
    "start_time": "2025-04-23T13:35:07.203Z"
   },
   {
    "duration": 7,
    "start_time": "2025-04-23T13:35:12.831Z"
   },
   {
    "duration": 6,
    "start_time": "2025-04-23T13:35:14.180Z"
   },
   {
    "duration": 7,
    "start_time": "2025-04-23T13:35:41.351Z"
   },
   {
    "duration": 4,
    "start_time": "2025-04-23T13:35:44.570Z"
   },
   {
    "duration": 9,
    "start_time": "2025-04-23T13:35:45.170Z"
   },
   {
    "duration": 8,
    "start_time": "2025-04-23T13:45:20.389Z"
   },
   {
    "duration": 104,
    "start_time": "2025-04-23T13:45:35.695Z"
   },
   {
    "duration": 63,
    "start_time": "2025-04-23T13:45:36.334Z"
   },
   {
    "duration": 58,
    "start_time": "2025-04-23T13:45:43.642Z"
   },
   {
    "duration": 15,
    "start_time": "2025-04-23T13:46:45.836Z"
   },
   {
    "duration": 5,
    "start_time": "2025-04-23T13:46:46.376Z"
   },
   {
    "duration": 7,
    "start_time": "2025-04-23T13:47:09.323Z"
   },
   {
    "duration": 5,
    "start_time": "2025-04-23T13:47:09.831Z"
   },
   {
    "duration": 4,
    "start_time": "2025-04-23T13:47:42.693Z"
   },
   {
    "duration": 55,
    "start_time": "2025-04-23T13:47:43.183Z"
   },
   {
    "duration": 15,
    "start_time": "2025-04-23T13:47:57.244Z"
   },
   {
    "duration": 7,
    "start_time": "2025-04-23T13:48:39.584Z"
   },
   {
    "duration": 7,
    "start_time": "2025-04-23T13:48:52.173Z"
   },
   {
    "duration": 4,
    "start_time": "2025-04-23T13:48:52.665Z"
   },
   {
    "duration": 3,
    "start_time": "2025-04-23T13:49:23.382Z"
   },
   {
    "duration": 9,
    "start_time": "2025-04-23T13:49:23.987Z"
   },
   {
    "duration": 8,
    "start_time": "2025-04-23T13:49:43.543Z"
   },
   {
    "duration": 4,
    "start_time": "2025-04-23T13:49:46.076Z"
   },
   {
    "duration": 10,
    "start_time": "2025-04-23T13:49:46.564Z"
   },
   {
    "duration": 63,
    "start_time": "2025-04-23T13:51:27.726Z"
   },
   {
    "duration": 55,
    "start_time": "2025-04-23T13:51:44.547Z"
   },
   {
    "duration": 15,
    "start_time": "2025-04-23T13:52:55.090Z"
   },
   {
    "duration": 7,
    "start_time": "2025-04-23T13:53:29.783Z"
   },
   {
    "duration": 15,
    "start_time": "2025-04-23T13:53:46.625Z"
   },
   {
    "duration": 5,
    "start_time": "2025-04-23T13:54:01.276Z"
   },
   {
    "duration": 53,
    "start_time": "2025-04-23T13:54:02.043Z"
   },
   {
    "duration": 655,
    "start_time": "2025-04-23T13:54:07.500Z"
   },
   {
    "duration": 2760,
    "start_time": "2025-04-23T13:54:08.158Z"
   },
   {
    "duration": 12,
    "start_time": "2025-04-23T13:54:10.921Z"
   },
   {
    "duration": 16,
    "start_time": "2025-04-23T13:54:10.935Z"
   },
   {
    "duration": 103,
    "start_time": "2025-04-23T13:54:10.953Z"
   },
   {
    "duration": 26,
    "start_time": "2025-04-23T13:54:11.058Z"
   },
   {
    "duration": 49,
    "start_time": "2025-04-23T13:54:11.086Z"
   },
   {
    "duration": 125,
    "start_time": "2025-04-23T13:54:11.137Z"
   },
   {
    "duration": 43,
    "start_time": "2025-04-23T13:54:11.264Z"
   },
   {
    "duration": 9,
    "start_time": "2025-04-23T13:54:11.308Z"
   },
   {
    "duration": 43,
    "start_time": "2025-04-23T13:54:11.319Z"
   },
   {
    "duration": 8,
    "start_time": "2025-04-23T13:54:11.365Z"
   },
   {
    "duration": 26,
    "start_time": "2025-04-23T13:54:11.375Z"
   },
   {
    "duration": 9,
    "start_time": "2025-04-23T13:54:11.404Z"
   },
   {
    "duration": 17,
    "start_time": "2025-04-23T13:54:11.414Z"
   },
   {
    "duration": 35,
    "start_time": "2025-04-23T13:54:11.433Z"
   },
   {
    "duration": 11,
    "start_time": "2025-04-23T13:54:11.470Z"
   },
   {
    "duration": 6,
    "start_time": "2025-04-23T13:54:11.483Z"
   },
   {
    "duration": 177,
    "start_time": "2025-04-23T13:54:11.490Z"
   },
   {
    "duration": 18,
    "start_time": "2025-04-23T13:54:11.669Z"
   },
   {
    "duration": 10,
    "start_time": "2025-04-23T13:54:11.689Z"
   },
   {
    "duration": 11,
    "start_time": "2025-04-23T13:54:11.701Z"
   },
   {
    "duration": 94,
    "start_time": "2025-04-23T13:54:11.714Z"
   },
   {
    "duration": 38,
    "start_time": "2025-04-23T13:54:11.809Z"
   },
   {
    "duration": 31,
    "start_time": "2025-04-23T13:54:11.862Z"
   },
   {
    "duration": 22,
    "start_time": "2025-04-23T13:54:11.895Z"
   },
   {
    "duration": 10,
    "start_time": "2025-04-23T13:54:11.919Z"
   },
   {
    "duration": 7,
    "start_time": "2025-04-23T13:54:11.931Z"
   },
   {
    "duration": 26,
    "start_time": "2025-04-23T13:54:11.939Z"
   },
   {
    "duration": 21,
    "start_time": "2025-04-23T13:54:11.967Z"
   },
   {
    "duration": 11,
    "start_time": "2025-04-23T13:54:11.990Z"
   },
   {
    "duration": 8,
    "start_time": "2025-04-23T13:54:12.003Z"
   },
   {
    "duration": 27,
    "start_time": "2025-04-23T13:54:12.013Z"
   },
   {
    "duration": 233,
    "start_time": "2025-04-23T13:54:12.042Z"
   },
   {
    "duration": 108,
    "start_time": "2025-04-23T13:54:12.277Z"
   },
   {
    "duration": 75,
    "start_time": "2025-04-23T13:54:12.387Z"
   },
   {
    "duration": 138,
    "start_time": "2025-04-23T13:54:12.464Z"
   },
   {
    "duration": 0,
    "start_time": "2025-04-23T13:54:12.605Z"
   },
   {
    "duration": 0,
    "start_time": "2025-04-23T13:54:12.606Z"
   },
   {
    "duration": 0,
    "start_time": "2025-04-23T13:54:12.608Z"
   },
   {
    "duration": 0,
    "start_time": "2025-04-23T13:54:12.610Z"
   },
   {
    "duration": 0,
    "start_time": "2025-04-23T13:54:12.612Z"
   },
   {
    "duration": 0,
    "start_time": "2025-04-23T13:54:12.613Z"
   },
   {
    "duration": 0,
    "start_time": "2025-04-23T13:54:12.615Z"
   },
   {
    "duration": 0,
    "start_time": "2025-04-23T13:54:12.616Z"
   },
   {
    "duration": 0,
    "start_time": "2025-04-23T13:54:12.618Z"
   },
   {
    "duration": 0,
    "start_time": "2025-04-23T13:54:12.619Z"
   },
   {
    "duration": 0,
    "start_time": "2025-04-23T13:54:12.621Z"
   },
   {
    "duration": 0,
    "start_time": "2025-04-23T13:54:12.622Z"
   },
   {
    "duration": 0,
    "start_time": "2025-04-23T13:54:12.624Z"
   },
   {
    "duration": 0,
    "start_time": "2025-04-23T13:54:12.625Z"
   },
   {
    "duration": 0,
    "start_time": "2025-04-23T13:54:12.663Z"
   },
   {
    "duration": 0,
    "start_time": "2025-04-23T13:54:12.665Z"
   },
   {
    "duration": 0,
    "start_time": "2025-04-23T13:54:12.666Z"
   },
   {
    "duration": 0,
    "start_time": "2025-04-23T13:54:12.668Z"
   },
   {
    "duration": 0,
    "start_time": "2025-04-23T13:54:12.670Z"
   },
   {
    "duration": 0,
    "start_time": "2025-04-23T13:54:12.671Z"
   },
   {
    "duration": 0,
    "start_time": "2025-04-23T13:54:12.673Z"
   },
   {
    "duration": 0,
    "start_time": "2025-04-23T13:54:12.674Z"
   },
   {
    "duration": 0,
    "start_time": "2025-04-23T13:54:12.676Z"
   },
   {
    "duration": 0,
    "start_time": "2025-04-23T13:54:12.677Z"
   },
   {
    "duration": 58,
    "start_time": "2025-04-23T13:54:41.530Z"
   },
   {
    "duration": 15,
    "start_time": "2025-04-23T13:54:47.263Z"
   },
   {
    "duration": 6,
    "start_time": "2025-04-23T13:54:47.889Z"
   },
   {
    "duration": 5,
    "start_time": "2025-04-23T13:54:48.512Z"
   },
   {
    "duration": 54,
    "start_time": "2025-04-23T13:54:49.088Z"
   },
   {
    "duration": 15,
    "start_time": "2025-04-23T13:54:50.013Z"
   },
   {
    "duration": 53,
    "start_time": "2025-04-23T13:55:16.263Z"
   },
   {
    "duration": 6,
    "start_time": "2025-04-23T13:55:37.863Z"
   },
   {
    "duration": 15,
    "start_time": "2025-04-23T13:56:09.525Z"
   },
   {
    "duration": 10,
    "start_time": "2025-04-23T13:56:55.712Z"
   },
   {
    "duration": 5,
    "start_time": "2025-04-23T13:56:56.230Z"
   },
   {
    "duration": 8,
    "start_time": "2025-04-23T13:56:56.653Z"
   },
   {
    "duration": 8,
    "start_time": "2025-04-23T13:56:57.146Z"
   },
   {
    "duration": 6,
    "start_time": "2025-04-23T13:58:19.246Z"
   },
   {
    "duration": 7,
    "start_time": "2025-04-23T14:00:56.298Z"
   },
   {
    "duration": 8,
    "start_time": "2025-04-23T14:01:06.158Z"
   },
   {
    "duration": 13,
    "start_time": "2025-04-23T14:01:27.762Z"
   },
   {
    "duration": 14,
    "start_time": "2025-04-23T14:01:34.063Z"
   },
   {
    "duration": 4,
    "start_time": "2025-04-23T14:01:34.812Z"
   },
   {
    "duration": 12,
    "start_time": "2025-04-23T14:01:35.596Z"
   },
   {
    "duration": 6,
    "start_time": "2025-04-23T14:01:57.006Z"
   },
   {
    "duration": 5,
    "start_time": "2025-04-23T14:01:57.556Z"
   },
   {
    "duration": 52,
    "start_time": "2025-04-23T14:01:57.834Z"
   },
   {
    "duration": 13,
    "start_time": "2025-04-23T14:01:58.202Z"
   },
   {
    "duration": 9,
    "start_time": "2025-04-23T14:01:59.275Z"
   },
   {
    "duration": 13,
    "start_time": "2025-04-23T14:02:00.001Z"
   },
   {
    "duration": 7,
    "start_time": "2025-04-23T14:02:00.835Z"
   },
   {
    "duration": 5,
    "start_time": "2025-04-23T14:02:36.995Z"
   },
   {
    "duration": 7,
    "start_time": "2025-04-23T14:02:37.317Z"
   },
   {
    "duration": 54,
    "start_time": "2025-04-23T14:02:37.548Z"
   },
   {
    "duration": 14,
    "start_time": "2025-04-23T14:02:37.730Z"
   },
   {
    "duration": 7,
    "start_time": "2025-04-23T14:02:38.134Z"
   },
   {
    "duration": 12,
    "start_time": "2025-04-23T14:02:38.728Z"
   },
   {
    "duration": 6,
    "start_time": "2025-04-23T14:02:39.346Z"
   },
   {
    "duration": 7,
    "start_time": "2025-04-23T14:02:40.011Z"
   },
   {
    "duration": 4,
    "start_time": "2025-04-23T14:03:03.963Z"
   },
   {
    "duration": 13,
    "start_time": "2025-04-23T14:03:04.471Z"
   },
   {
    "duration": 68,
    "start_time": "2025-04-23T14:03:28.363Z"
   },
   {
    "duration": 14,
    "start_time": "2025-04-23T14:03:37.978Z"
   },
   {
    "duration": 13,
    "start_time": "2025-04-23T14:04:57.682Z"
   },
   {
    "duration": 10,
    "start_time": "2025-04-23T14:05:09.994Z"
   },
   {
    "duration": 4,
    "start_time": "2025-04-23T14:06:25.537Z"
   },
   {
    "duration": 10,
    "start_time": "2025-04-23T14:06:34.527Z"
   },
   {
    "duration": 8,
    "start_time": "2025-04-23T14:06:54.599Z"
   },
   {
    "duration": 5,
    "start_time": "2025-04-23T14:07:40.562Z"
   },
   {
    "duration": 6,
    "start_time": "2025-04-23T14:07:51.115Z"
   },
   {
    "duration": 6,
    "start_time": "2025-04-23T14:09:14.595Z"
   },
   {
    "duration": 12,
    "start_time": "2025-04-23T14:09:15.128Z"
   },
   {
    "duration": 60,
    "start_time": "2025-04-23T14:10:31.344Z"
   },
   {
    "duration": 15,
    "start_time": "2025-04-23T14:10:32.011Z"
   },
   {
    "duration": 9,
    "start_time": "2025-04-23T14:11:01.217Z"
   },
   {
    "duration": 7,
    "start_time": "2025-04-23T14:11:01.950Z"
   },
   {
    "duration": 4,
    "start_time": "2025-04-23T14:11:11.477Z"
   },
   {
    "duration": 8,
    "start_time": "2025-04-23T14:11:12.120Z"
   },
   {
    "duration": 685,
    "start_time": "2025-04-23T14:44:10.730Z"
   },
   {
    "duration": 2099,
    "start_time": "2025-04-23T14:44:11.417Z"
   },
   {
    "duration": 13,
    "start_time": "2025-04-23T14:44:13.518Z"
   },
   {
    "duration": 50,
    "start_time": "2025-04-23T14:44:13.533Z"
   },
   {
    "duration": 123,
    "start_time": "2025-04-23T14:44:13.585Z"
   },
   {
    "duration": 24,
    "start_time": "2025-04-23T14:44:13.710Z"
   },
   {
    "duration": 67,
    "start_time": "2025-04-23T14:44:13.736Z"
   },
   {
    "duration": 109,
    "start_time": "2025-04-23T14:44:13.804Z"
   },
   {
    "duration": 48,
    "start_time": "2025-04-23T14:44:13.915Z"
   },
   {
    "duration": 38,
    "start_time": "2025-04-23T14:44:13.965Z"
   },
   {
    "duration": 33,
    "start_time": "2025-04-23T14:44:14.004Z"
   },
   {
    "duration": 12,
    "start_time": "2025-04-23T14:44:14.038Z"
   },
   {
    "duration": 30,
    "start_time": "2025-04-23T14:44:14.052Z"
   },
   {
    "duration": 20,
    "start_time": "2025-04-23T14:44:14.085Z"
   },
   {
    "duration": 15,
    "start_time": "2025-04-23T14:44:14.106Z"
   },
   {
    "duration": 10,
    "start_time": "2025-04-23T14:44:14.123Z"
   },
   {
    "duration": 15,
    "start_time": "2025-04-23T14:44:14.134Z"
   },
   {
    "duration": 16,
    "start_time": "2025-04-23T14:44:14.150Z"
   },
   {
    "duration": 167,
    "start_time": "2025-04-23T14:44:14.169Z"
   },
   {
    "duration": 24,
    "start_time": "2025-04-23T14:44:14.338Z"
   },
   {
    "duration": 7,
    "start_time": "2025-04-23T14:44:14.364Z"
   },
   {
    "duration": 9,
    "start_time": "2025-04-23T14:44:14.372Z"
   },
   {
    "duration": 87,
    "start_time": "2025-04-23T14:44:14.382Z"
   },
   {
    "duration": 37,
    "start_time": "2025-04-23T14:44:14.470Z"
   },
   {
    "duration": 16,
    "start_time": "2025-04-23T14:44:14.509Z"
   },
   {
    "duration": 40,
    "start_time": "2025-04-23T14:44:14.527Z"
   },
   {
    "duration": 9,
    "start_time": "2025-04-23T14:44:14.568Z"
   },
   {
    "duration": 7,
    "start_time": "2025-04-23T14:44:14.578Z"
   },
   {
    "duration": 10,
    "start_time": "2025-04-23T14:44:14.586Z"
   },
   {
    "duration": 18,
    "start_time": "2025-04-23T14:44:14.598Z"
   },
   {
    "duration": 10,
    "start_time": "2025-04-23T14:44:14.618Z"
   },
   {
    "duration": 33,
    "start_time": "2025-04-23T14:44:14.630Z"
   },
   {
    "duration": 10,
    "start_time": "2025-04-23T14:44:14.665Z"
   },
   {
    "duration": 222,
    "start_time": "2025-04-23T14:44:14.676Z"
   },
   {
    "duration": 104,
    "start_time": "2025-04-23T14:44:14.899Z"
   },
   {
    "duration": 71,
    "start_time": "2025-04-23T14:44:15.005Z"
   },
   {
    "duration": 59,
    "start_time": "2025-04-23T14:44:15.078Z"
   },
   {
    "duration": 31,
    "start_time": "2025-04-23T14:44:15.139Z"
   },
   {
    "duration": 4,
    "start_time": "2025-04-23T14:44:15.172Z"
   },
   {
    "duration": 66,
    "start_time": "2025-04-23T14:44:15.177Z"
   },
   {
    "duration": 13,
    "start_time": "2025-04-23T14:44:15.247Z"
   },
   {
    "duration": 36,
    "start_time": "2025-04-23T14:44:15.262Z"
   },
   {
    "duration": 80,
    "start_time": "2025-04-23T14:44:15.300Z"
   },
   {
    "duration": 14,
    "start_time": "2025-04-23T14:44:15.382Z"
   },
   {
    "duration": 25,
    "start_time": "2025-04-23T14:44:15.397Z"
   },
   {
    "duration": 12,
    "start_time": "2025-04-23T14:44:15.424Z"
   },
   {
    "duration": 21,
    "start_time": "2025-04-23T14:44:15.438Z"
   },
   {
    "duration": 10,
    "start_time": "2025-04-23T14:44:15.461Z"
   },
   {
    "duration": 34,
    "start_time": "2025-04-23T14:44:15.473Z"
   },
   {
    "duration": 24,
    "start_time": "2025-04-23T14:44:15.509Z"
   },
   {
    "duration": 77,
    "start_time": "2025-04-23T14:44:15.535Z"
   },
   {
    "duration": 9,
    "start_time": "2025-04-23T14:44:15.613Z"
   },
   {
    "duration": 27,
    "start_time": "2025-04-23T14:44:15.623Z"
   },
   {
    "duration": 34,
    "start_time": "2025-04-23T14:44:15.651Z"
   },
   {
    "duration": 36,
    "start_time": "2025-04-23T14:44:15.687Z"
   },
   {
    "duration": 81,
    "start_time": "2025-04-23T14:44:15.724Z"
   },
   {
    "duration": 76,
    "start_time": "2025-04-23T14:44:15.807Z"
   },
   {
    "duration": 99,
    "start_time": "2025-04-23T14:44:15.884Z"
   },
   {
    "duration": 23,
    "start_time": "2025-04-23T14:44:15.984Z"
   },
   {
    "duration": 31,
    "start_time": "2025-04-23T14:44:16.009Z"
   },
   {
    "duration": 78,
    "start_time": "2025-04-23T14:44:16.042Z"
   },
   {
    "duration": 7,
    "start_time": "2025-04-23T14:44:16.122Z"
   },
   {
    "duration": 14,
    "start_time": "2025-04-23T14:44:16.130Z"
   },
   {
    "duration": 20,
    "start_time": "2025-04-23T14:44:16.146Z"
   },
   {
    "duration": 7,
    "start_time": "2025-04-23T14:51:21.555Z"
   },
   {
    "duration": 737,
    "start_time": "2025-04-23T14:58:42.649Z"
   },
   {
    "duration": 3840,
    "start_time": "2025-04-23T14:58:43.388Z"
   },
   {
    "duration": 13,
    "start_time": "2025-04-23T14:58:47.230Z"
   },
   {
    "duration": 12,
    "start_time": "2025-04-23T14:58:47.245Z"
   },
   {
    "duration": 164,
    "start_time": "2025-04-23T14:58:47.260Z"
   },
   {
    "duration": 24,
    "start_time": "2025-04-23T14:58:47.426Z"
   },
   {
    "duration": 48,
    "start_time": "2025-04-23T14:58:47.462Z"
   },
   {
    "duration": 121,
    "start_time": "2025-04-23T14:58:47.512Z"
   },
   {
    "duration": 60,
    "start_time": "2025-04-23T14:58:47.634Z"
   },
   {
    "duration": 9,
    "start_time": "2025-04-23T14:58:47.695Z"
   },
   {
    "duration": 28,
    "start_time": "2025-04-23T14:58:47.705Z"
   },
   {
    "duration": 7,
    "start_time": "2025-04-23T14:58:47.735Z"
   },
   {
    "duration": 55,
    "start_time": "2025-04-23T14:58:47.743Z"
   },
   {
    "duration": 8,
    "start_time": "2025-04-23T14:58:47.801Z"
   },
   {
    "duration": 15,
    "start_time": "2025-04-23T14:58:47.811Z"
   },
   {
    "duration": 10,
    "start_time": "2025-04-23T14:58:47.827Z"
   },
   {
    "duration": 34,
    "start_time": "2025-04-23T14:58:47.838Z"
   },
   {
    "duration": 9,
    "start_time": "2025-04-23T14:58:47.874Z"
   },
   {
    "duration": 182,
    "start_time": "2025-04-23T14:58:47.884Z"
   },
   {
    "duration": 23,
    "start_time": "2025-04-23T14:58:48.068Z"
   },
   {
    "duration": 6,
    "start_time": "2025-04-23T14:58:48.093Z"
   },
   {
    "duration": 8,
    "start_time": "2025-04-23T14:58:48.101Z"
   },
   {
    "duration": 112,
    "start_time": "2025-04-23T14:58:48.111Z"
   },
   {
    "duration": 42,
    "start_time": "2025-04-23T14:58:48.224Z"
   },
   {
    "duration": 21,
    "start_time": "2025-04-23T14:58:48.268Z"
   },
   {
    "duration": 21,
    "start_time": "2025-04-23T14:58:48.291Z"
   },
   {
    "duration": 11,
    "start_time": "2025-04-23T14:58:48.314Z"
   },
   {
    "duration": 38,
    "start_time": "2025-04-23T14:58:48.327Z"
   },
   {
    "duration": 12,
    "start_time": "2025-04-23T14:58:48.367Z"
   },
   {
    "duration": 19,
    "start_time": "2025-04-23T14:58:48.380Z"
   },
   {
    "duration": 11,
    "start_time": "2025-04-23T14:58:48.401Z"
   },
   {
    "duration": 3,
    "start_time": "2025-04-23T14:58:48.414Z"
   },
   {
    "duration": 13,
    "start_time": "2025-04-23T14:58:48.418Z"
   },
   {
    "duration": 234,
    "start_time": "2025-04-23T14:58:48.433Z"
   },
   {
    "duration": 102,
    "start_time": "2025-04-23T14:58:48.669Z"
   },
   {
    "duration": 60,
    "start_time": "2025-04-23T14:58:48.773Z"
   },
   {
    "duration": 65,
    "start_time": "2025-04-23T14:58:48.835Z"
   },
   {
    "duration": 14,
    "start_time": "2025-04-23T14:58:48.902Z"
   },
   {
    "duration": 3,
    "start_time": "2025-04-23T14:58:48.918Z"
   },
   {
    "duration": 16,
    "start_time": "2025-04-23T14:58:48.923Z"
   },
   {
    "duration": 6,
    "start_time": "2025-04-23T14:58:48.962Z"
   },
   {
    "duration": 14,
    "start_time": "2025-04-23T14:58:48.970Z"
   },
   {
    "duration": 78,
    "start_time": "2025-04-23T14:58:48.986Z"
   },
   {
    "duration": 15,
    "start_time": "2025-04-23T14:58:49.066Z"
   },
   {
    "duration": 8,
    "start_time": "2025-04-23T14:58:49.083Z"
   },
   {
    "duration": 6,
    "start_time": "2025-04-23T14:58:49.092Z"
   },
   {
    "duration": 3,
    "start_time": "2025-04-23T14:58:49.099Z"
   },
   {
    "duration": 9,
    "start_time": "2025-04-23T14:58:49.104Z"
   },
   {
    "duration": 8,
    "start_time": "2025-04-23T14:58:49.115Z"
   },
   {
    "duration": 47,
    "start_time": "2025-04-23T14:58:49.124Z"
   },
   {
    "duration": 90,
    "start_time": "2025-04-23T14:58:49.173Z"
   },
   {
    "duration": 10,
    "start_time": "2025-04-23T14:58:49.264Z"
   },
   {
    "duration": 28,
    "start_time": "2025-04-23T14:58:49.276Z"
   },
   {
    "duration": 29,
    "start_time": "2025-04-23T14:58:49.305Z"
   },
   {
    "duration": 28,
    "start_time": "2025-04-23T14:58:49.336Z"
   },
   {
    "duration": 81,
    "start_time": "2025-04-23T14:58:49.366Z"
   },
   {
    "duration": 78,
    "start_time": "2025-04-23T14:58:49.463Z"
   },
   {
    "duration": 105,
    "start_time": "2025-04-23T14:58:49.544Z"
   },
   {
    "duration": 29,
    "start_time": "2025-04-23T14:58:49.651Z"
   },
   {
    "duration": 33,
    "start_time": "2025-04-23T14:58:49.682Z"
   },
   {
    "duration": 84,
    "start_time": "2025-04-23T14:58:49.716Z"
   },
   {
    "duration": 7,
    "start_time": "2025-04-23T14:58:49.802Z"
   },
   {
    "duration": 9,
    "start_time": "2025-04-23T14:58:49.810Z"
   },
   {
    "duration": 9,
    "start_time": "2025-04-23T14:58:49.821Z"
   },
   {
    "duration": 745,
    "start_time": "2025-04-23T15:01:00.932Z"
   },
   {
    "duration": 2129,
    "start_time": "2025-04-23T15:01:01.679Z"
   },
   {
    "duration": 14,
    "start_time": "2025-04-23T15:01:03.809Z"
   },
   {
    "duration": 13,
    "start_time": "2025-04-23T15:01:03.825Z"
   },
   {
    "duration": 123,
    "start_time": "2025-04-23T15:01:03.840Z"
   },
   {
    "duration": 24,
    "start_time": "2025-04-23T15:01:03.966Z"
   },
   {
    "duration": 90,
    "start_time": "2025-04-23T15:01:03.992Z"
   },
   {
    "duration": 106,
    "start_time": "2025-04-23T15:01:04.084Z"
   },
   {
    "duration": 42,
    "start_time": "2025-04-23T15:01:04.192Z"
   },
   {
    "duration": 25,
    "start_time": "2025-04-23T15:01:04.237Z"
   },
   {
    "duration": 20,
    "start_time": "2025-04-23T15:01:04.264Z"
   },
   {
    "duration": 41,
    "start_time": "2025-04-23T15:01:04.285Z"
   },
   {
    "duration": 31,
    "start_time": "2025-04-23T15:01:04.328Z"
   },
   {
    "duration": 34,
    "start_time": "2025-04-23T15:01:04.360Z"
   },
   {
    "duration": 32,
    "start_time": "2025-04-23T15:01:04.395Z"
   },
   {
    "duration": 14,
    "start_time": "2025-04-23T15:01:04.429Z"
   },
   {
    "duration": 12,
    "start_time": "2025-04-23T15:01:04.445Z"
   },
   {
    "duration": 13,
    "start_time": "2025-04-23T15:01:04.458Z"
   },
   {
    "duration": 173,
    "start_time": "2025-04-23T15:01:04.472Z"
   },
   {
    "duration": 18,
    "start_time": "2025-04-23T15:01:04.647Z"
   },
   {
    "duration": 26,
    "start_time": "2025-04-23T15:01:04.666Z"
   },
   {
    "duration": 23,
    "start_time": "2025-04-23T15:01:04.694Z"
   },
   {
    "duration": 86,
    "start_time": "2025-04-23T15:01:04.718Z"
   },
   {
    "duration": 38,
    "start_time": "2025-04-23T15:01:04.805Z"
   },
   {
    "duration": 29,
    "start_time": "2025-04-23T15:01:04.845Z"
   },
   {
    "duration": 56,
    "start_time": "2025-04-23T15:01:04.876Z"
   },
   {
    "duration": 52,
    "start_time": "2025-04-23T15:01:04.934Z"
   },
   {
    "duration": 34,
    "start_time": "2025-04-23T15:01:04.990Z"
   },
   {
    "duration": 28,
    "start_time": "2025-04-23T15:01:05.025Z"
   },
   {
    "duration": 23,
    "start_time": "2025-04-23T15:01:05.055Z"
   },
   {
    "duration": 16,
    "start_time": "2025-04-23T15:01:05.080Z"
   },
   {
    "duration": 15,
    "start_time": "2025-04-23T15:01:05.098Z"
   },
   {
    "duration": 49,
    "start_time": "2025-04-23T15:01:05.114Z"
   },
   {
    "duration": 258,
    "start_time": "2025-04-23T15:01:05.165Z"
   },
   {
    "duration": 104,
    "start_time": "2025-04-23T15:01:05.425Z"
   },
   {
    "duration": 61,
    "start_time": "2025-04-23T15:01:05.530Z"
   },
   {
    "duration": 97,
    "start_time": "2025-04-23T15:01:05.593Z"
   },
   {
    "duration": 17,
    "start_time": "2025-04-23T15:01:05.692Z"
   },
   {
    "duration": 31,
    "start_time": "2025-04-23T15:01:05.711Z"
   },
   {
    "duration": 23,
    "start_time": "2025-04-23T15:01:05.744Z"
   },
   {
    "duration": 20,
    "start_time": "2025-04-23T15:01:05.768Z"
   },
   {
    "duration": 28,
    "start_time": "2025-04-23T15:01:05.790Z"
   },
   {
    "duration": 89,
    "start_time": "2025-04-23T15:01:05.820Z"
   },
   {
    "duration": 14,
    "start_time": "2025-04-23T15:01:05.911Z"
   },
   {
    "duration": 17,
    "start_time": "2025-04-23T15:01:05.927Z"
   },
   {
    "duration": 86,
    "start_time": "2025-04-23T15:01:05.946Z"
   },
   {
    "duration": 29,
    "start_time": "2025-04-23T15:01:06.034Z"
   },
   {
    "duration": 30,
    "start_time": "2025-04-23T15:01:06.065Z"
   },
   {
    "duration": 36,
    "start_time": "2025-04-23T15:01:06.097Z"
   },
   {
    "duration": 27,
    "start_time": "2025-04-23T15:01:06.135Z"
   },
   {
    "duration": 81,
    "start_time": "2025-04-23T15:01:06.164Z"
   },
   {
    "duration": 16,
    "start_time": "2025-04-23T15:01:06.247Z"
   },
   {
    "duration": 36,
    "start_time": "2025-04-23T15:01:06.265Z"
   },
   {
    "duration": 62,
    "start_time": "2025-04-23T15:01:06.303Z"
   },
   {
    "duration": 15,
    "start_time": "2025-04-23T15:01:06.367Z"
   },
   {
    "duration": 85,
    "start_time": "2025-04-23T15:01:06.384Z"
   },
   {
    "duration": 77,
    "start_time": "2025-04-23T15:01:06.471Z"
   },
   {
    "duration": 100,
    "start_time": "2025-04-23T15:01:06.563Z"
   },
   {
    "duration": 25,
    "start_time": "2025-04-23T15:01:06.665Z"
   },
   {
    "duration": 53,
    "start_time": "2025-04-23T15:01:06.692Z"
   },
   {
    "duration": 92,
    "start_time": "2025-04-23T15:01:06.747Z"
   },
   {
    "duration": 7,
    "start_time": "2025-04-23T15:01:06.841Z"
   },
   {
    "duration": 18,
    "start_time": "2025-04-23T15:01:06.850Z"
   },
   {
    "duration": 10,
    "start_time": "2025-04-23T15:01:06.870Z"
   },
   {
    "duration": 754,
    "start_time": "2025-04-23T15:33:18.938Z"
   },
   {
    "duration": 4529,
    "start_time": "2025-04-23T15:33:19.694Z"
   },
   {
    "duration": 12,
    "start_time": "2025-04-23T15:33:24.225Z"
   },
   {
    "duration": 15,
    "start_time": "2025-04-23T15:33:24.239Z"
   },
   {
    "duration": 99,
    "start_time": "2025-04-23T15:33:24.256Z"
   },
   {
    "duration": 27,
    "start_time": "2025-04-23T15:33:24.357Z"
   },
   {
    "duration": 53,
    "start_time": "2025-04-23T15:33:24.386Z"
   },
   {
    "duration": 114,
    "start_time": "2025-04-23T15:33:24.440Z"
   },
   {
    "duration": 46,
    "start_time": "2025-04-23T15:33:24.556Z"
   },
   {
    "duration": 10,
    "start_time": "2025-04-23T15:33:24.605Z"
   },
   {
    "duration": 27,
    "start_time": "2025-04-23T15:33:24.617Z"
   },
   {
    "duration": 8,
    "start_time": "2025-04-23T15:33:24.663Z"
   },
   {
    "duration": 24,
    "start_time": "2025-04-23T15:33:24.673Z"
   },
   {
    "duration": 10,
    "start_time": "2025-04-23T15:33:24.699Z"
   },
   {
    "duration": 34,
    "start_time": "2025-04-23T15:33:24.711Z"
   },
   {
    "duration": 10,
    "start_time": "2025-04-23T15:33:24.747Z"
   },
   {
    "duration": 10,
    "start_time": "2025-04-23T15:33:24.762Z"
   },
   {
    "duration": 7,
    "start_time": "2025-04-23T15:33:24.774Z"
   },
   {
    "duration": 177,
    "start_time": "2025-04-23T15:33:24.782Z"
   },
   {
    "duration": 19,
    "start_time": "2025-04-23T15:33:24.961Z"
   },
   {
    "duration": 14,
    "start_time": "2025-04-23T15:33:24.981Z"
   },
   {
    "duration": 14,
    "start_time": "2025-04-23T15:33:24.996Z"
   },
   {
    "duration": 84,
    "start_time": "2025-04-23T15:33:25.011Z"
   },
   {
    "duration": 36,
    "start_time": "2025-04-23T15:33:25.097Z"
   },
   {
    "duration": 28,
    "start_time": "2025-04-23T15:33:25.135Z"
   },
   {
    "duration": 21,
    "start_time": "2025-04-23T15:33:25.164Z"
   },
   {
    "duration": 13,
    "start_time": "2025-04-23T15:33:25.186Z"
   },
   {
    "duration": 7,
    "start_time": "2025-04-23T15:33:25.203Z"
   },
   {
    "duration": 16,
    "start_time": "2025-04-23T15:33:25.211Z"
   },
   {
    "duration": 43,
    "start_time": "2025-04-23T15:33:25.228Z"
   },
   {
    "duration": 10,
    "start_time": "2025-04-23T15:33:25.273Z"
   },
   {
    "duration": 3,
    "start_time": "2025-04-23T15:33:25.284Z"
   },
   {
    "duration": 12,
    "start_time": "2025-04-23T15:33:25.289Z"
   },
   {
    "duration": 234,
    "start_time": "2025-04-23T15:33:25.302Z"
   },
   {
    "duration": 94,
    "start_time": "2025-04-23T15:33:25.538Z"
   },
   {
    "duration": 67,
    "start_time": "2025-04-23T15:33:25.634Z"
   },
   {
    "duration": 65,
    "start_time": "2025-04-23T15:33:25.702Z"
   },
   {
    "duration": 15,
    "start_time": "2025-04-23T15:33:25.768Z"
   },
   {
    "duration": 3,
    "start_time": "2025-04-23T15:33:25.785Z"
   },
   {
    "duration": 9,
    "start_time": "2025-04-23T15:33:25.789Z"
   },
   {
    "duration": 5,
    "start_time": "2025-04-23T15:33:25.800Z"
   },
   {
    "duration": 13,
    "start_time": "2025-04-23T15:33:25.806Z"
   },
   {
    "duration": 91,
    "start_time": "2025-04-23T15:33:25.820Z"
   },
   {
    "duration": 14,
    "start_time": "2025-04-23T15:33:25.912Z"
   },
   {
    "duration": 11,
    "start_time": "2025-04-23T15:33:25.927Z"
   },
   {
    "duration": 6,
    "start_time": "2025-04-23T15:33:25.939Z"
   },
   {
    "duration": 3,
    "start_time": "2025-04-23T15:33:25.962Z"
   },
   {
    "duration": 9,
    "start_time": "2025-04-23T15:33:25.967Z"
   },
   {
    "duration": 8,
    "start_time": "2025-04-23T15:33:25.977Z"
   },
   {
    "duration": 12,
    "start_time": "2025-04-23T15:33:25.986Z"
   },
   {
    "duration": 92,
    "start_time": "2025-04-23T15:33:25.999Z"
   },
   {
    "duration": 8,
    "start_time": "2025-04-23T15:33:26.093Z"
   },
   {
    "duration": 24,
    "start_time": "2025-04-23T15:33:26.103Z"
   },
   {
    "duration": 43,
    "start_time": "2025-04-23T15:33:26.129Z"
   },
   {
    "duration": 7,
    "start_time": "2025-04-23T15:33:26.173Z"
   },
   {
    "duration": 90,
    "start_time": "2025-04-23T15:33:26.182Z"
   },
   {
    "duration": 75,
    "start_time": "2025-04-23T15:33:26.274Z"
   },
   {
    "duration": 97,
    "start_time": "2025-04-23T15:33:26.350Z"
   },
   {
    "duration": 30,
    "start_time": "2025-04-23T15:33:26.448Z"
   },
   {
    "duration": 32,
    "start_time": "2025-04-23T15:33:26.480Z"
   },
   {
    "duration": 78,
    "start_time": "2025-04-23T15:33:26.513Z"
   },
   {
    "duration": 7,
    "start_time": "2025-04-23T15:33:26.593Z"
   },
   {
    "duration": 15,
    "start_time": "2025-04-23T15:33:26.601Z"
   },
   {
    "duration": 10,
    "start_time": "2025-04-23T15:33:26.617Z"
   },
   {
    "duration": 910,
    "start_time": "2025-04-23T17:11:36.017Z"
   },
   {
    "duration": 2742,
    "start_time": "2025-04-23T17:11:36.931Z"
   },
   {
    "duration": 20,
    "start_time": "2025-04-23T17:11:39.675Z"
   },
   {
    "duration": 14,
    "start_time": "2025-04-23T17:11:39.698Z"
   },
   {
    "duration": 135,
    "start_time": "2025-04-23T17:11:39.714Z"
   },
   {
    "duration": 49,
    "start_time": "2025-04-23T17:11:39.851Z"
   },
   {
    "duration": 63,
    "start_time": "2025-04-23T17:11:39.902Z"
   },
   {
    "duration": 121,
    "start_time": "2025-04-23T17:11:39.967Z"
   },
   {
    "duration": 45,
    "start_time": "2025-04-23T17:11:40.090Z"
   },
   {
    "duration": 25,
    "start_time": "2025-04-23T17:11:40.137Z"
   },
   {
    "duration": 25,
    "start_time": "2025-04-23T17:11:40.164Z"
   },
   {
    "duration": 12,
    "start_time": "2025-04-23T17:11:40.191Z"
   },
   {
    "duration": 65,
    "start_time": "2025-04-23T17:11:40.205Z"
   },
   {
    "duration": 42,
    "start_time": "2025-04-23T17:11:40.273Z"
   },
   {
    "duration": 15,
    "start_time": "2025-04-23T17:11:40.318Z"
   },
   {
    "duration": 11,
    "start_time": "2025-04-23T17:11:40.334Z"
   },
   {
    "duration": 20,
    "start_time": "2025-04-23T17:11:40.346Z"
   },
   {
    "duration": 8,
    "start_time": "2025-04-23T17:11:40.368Z"
   },
   {
    "duration": 201,
    "start_time": "2025-04-23T17:11:40.378Z"
   },
   {
    "duration": 20,
    "start_time": "2025-04-23T17:11:40.581Z"
   },
   {
    "duration": 8,
    "start_time": "2025-04-23T17:11:40.602Z"
   },
   {
    "duration": 17,
    "start_time": "2025-04-23T17:11:40.612Z"
   },
   {
    "duration": 139,
    "start_time": "2025-04-23T17:11:40.631Z"
   },
   {
    "duration": 43,
    "start_time": "2025-04-23T17:11:40.773Z"
   },
   {
    "duration": 29,
    "start_time": "2025-04-23T17:11:40.818Z"
   },
   {
    "duration": 27,
    "start_time": "2025-04-23T17:11:40.849Z"
   },
   {
    "duration": 24,
    "start_time": "2025-04-23T17:11:40.878Z"
   },
   {
    "duration": 14,
    "start_time": "2025-04-23T17:11:40.904Z"
   },
   {
    "duration": 12,
    "start_time": "2025-04-23T17:11:40.920Z"
   },
   {
    "duration": 43,
    "start_time": "2025-04-23T17:11:40.934Z"
   },
   {
    "duration": 18,
    "start_time": "2025-04-23T17:11:40.979Z"
   },
   {
    "duration": 5,
    "start_time": "2025-04-23T17:11:41.000Z"
   },
   {
    "duration": 83,
    "start_time": "2025-04-23T17:11:41.008Z"
   },
   {
    "duration": 232,
    "start_time": "2025-04-23T17:11:41.093Z"
   },
   {
    "duration": 117,
    "start_time": "2025-04-23T17:11:41.326Z"
   },
   {
    "duration": 70,
    "start_time": "2025-04-23T17:11:41.445Z"
   },
   {
    "duration": 76,
    "start_time": "2025-04-23T17:11:41.516Z"
   },
   {
    "duration": 18,
    "start_time": "2025-04-23T17:11:41.594Z"
   },
   {
    "duration": 4,
    "start_time": "2025-04-23T17:11:41.613Z"
   },
   {
    "duration": 25,
    "start_time": "2025-04-23T17:11:41.620Z"
   },
   {
    "duration": 3,
    "start_time": "2025-04-23T17:11:41.664Z"
   },
   {
    "duration": 76,
    "start_time": "2025-04-23T17:11:41.668Z"
   },
   {
    "duration": 0,
    "start_time": "2025-04-23T17:11:41.746Z"
   },
   {
    "duration": 0,
    "start_time": "2025-04-23T17:11:41.747Z"
   },
   {
    "duration": 0,
    "start_time": "2025-04-23T17:11:41.749Z"
   },
   {
    "duration": 0,
    "start_time": "2025-04-23T17:11:41.750Z"
   },
   {
    "duration": 0,
    "start_time": "2025-04-23T17:11:41.752Z"
   },
   {
    "duration": 0,
    "start_time": "2025-04-23T17:11:41.754Z"
   },
   {
    "duration": 0,
    "start_time": "2025-04-23T17:11:41.756Z"
   },
   {
    "duration": 0,
    "start_time": "2025-04-23T17:11:41.757Z"
   },
   {
    "duration": 0,
    "start_time": "2025-04-23T17:11:41.759Z"
   },
   {
    "duration": 0,
    "start_time": "2025-04-23T17:11:41.760Z"
   },
   {
    "duration": 0,
    "start_time": "2025-04-23T17:11:41.762Z"
   },
   {
    "duration": 0,
    "start_time": "2025-04-23T17:11:41.764Z"
   },
   {
    "duration": 0,
    "start_time": "2025-04-23T17:11:41.765Z"
   },
   {
    "duration": 0,
    "start_time": "2025-04-23T17:11:41.767Z"
   },
   {
    "duration": 0,
    "start_time": "2025-04-23T17:11:41.768Z"
   },
   {
    "duration": 0,
    "start_time": "2025-04-23T17:11:41.770Z"
   },
   {
    "duration": 0,
    "start_time": "2025-04-23T17:11:41.772Z"
   },
   {
    "duration": 0,
    "start_time": "2025-04-23T17:11:41.773Z"
   },
   {
    "duration": 0,
    "start_time": "2025-04-23T17:11:41.775Z"
   },
   {
    "duration": 0,
    "start_time": "2025-04-23T17:11:41.777Z"
   },
   {
    "duration": 0,
    "start_time": "2025-04-23T17:11:41.779Z"
   },
   {
    "duration": 0,
    "start_time": "2025-04-23T17:11:41.780Z"
   },
   {
    "duration": 0,
    "start_time": "2025-04-23T17:11:41.782Z"
   },
   {
    "duration": 7,
    "start_time": "2025-04-23T17:12:53.924Z"
   },
   {
    "duration": 16,
    "start_time": "2025-04-23T17:12:54.955Z"
   },
   {
    "duration": 64,
    "start_time": "2025-04-23T17:13:10.689Z"
   },
   {
    "duration": 15,
    "start_time": "2025-04-23T17:13:11.460Z"
   },
   {
    "duration": 12,
    "start_time": "2025-04-23T17:13:12.959Z"
   },
   {
    "duration": 10,
    "start_time": "2025-04-23T17:13:14.388Z"
   },
   {
    "duration": 4,
    "start_time": "2025-04-23T17:13:16.740Z"
   },
   {
    "duration": 15,
    "start_time": "2025-04-23T17:13:17.687Z"
   },
   {
    "duration": 10,
    "start_time": "2025-04-23T17:13:34.052Z"
   },
   {
    "duration": 13,
    "start_time": "2025-04-23T17:13:34.558Z"
   },
   {
    "duration": 121,
    "start_time": "2025-04-23T17:13:37.454Z"
   },
   {
    "duration": 10,
    "start_time": "2025-04-23T17:13:38.157Z"
   },
   {
    "duration": 78,
    "start_time": "2025-04-23T17:29:33.100Z"
   },
   {
    "duration": 708,
    "start_time": "2025-04-23T17:29:42.190Z"
   },
   {
    "duration": 2215,
    "start_time": "2025-04-23T17:29:42.900Z"
   },
   {
    "duration": 14,
    "start_time": "2025-04-23T17:29:45.116Z"
   },
   {
    "duration": 49,
    "start_time": "2025-04-23T17:29:45.132Z"
   },
   {
    "duration": 105,
    "start_time": "2025-04-23T17:29:45.184Z"
   },
   {
    "duration": 26,
    "start_time": "2025-04-23T17:29:45.291Z"
   },
   {
    "duration": 61,
    "start_time": "2025-04-23T17:29:45.319Z"
   },
   {
    "duration": 115,
    "start_time": "2025-04-23T17:29:45.382Z"
   },
   {
    "duration": 61,
    "start_time": "2025-04-23T17:29:45.500Z"
   },
   {
    "duration": 10,
    "start_time": "2025-04-23T17:29:45.563Z"
   },
   {
    "duration": 25,
    "start_time": "2025-04-23T17:29:45.575Z"
   },
   {
    "duration": 9,
    "start_time": "2025-04-23T17:29:45.602Z"
   },
   {
    "duration": 50,
    "start_time": "2025-04-23T17:29:45.612Z"
   },
   {
    "duration": 9,
    "start_time": "2025-04-23T17:29:45.666Z"
   },
   {
    "duration": 18,
    "start_time": "2025-04-23T17:29:45.677Z"
   },
   {
    "duration": 11,
    "start_time": "2025-04-23T17:29:45.697Z"
   },
   {
    "duration": 11,
    "start_time": "2025-04-23T17:29:45.710Z"
   },
   {
    "duration": 43,
    "start_time": "2025-04-23T17:29:45.723Z"
   },
   {
    "duration": 184,
    "start_time": "2025-04-23T17:29:45.769Z"
   },
   {
    "duration": 22,
    "start_time": "2025-04-23T17:29:45.955Z"
   },
   {
    "duration": 9,
    "start_time": "2025-04-23T17:29:45.979Z"
   },
   {
    "duration": 11,
    "start_time": "2025-04-23T17:29:45.990Z"
   },
   {
    "duration": 102,
    "start_time": "2025-04-23T17:29:46.003Z"
   },
   {
    "duration": 38,
    "start_time": "2025-04-23T17:29:46.107Z"
   },
   {
    "duration": 26,
    "start_time": "2025-04-23T17:29:46.147Z"
   },
   {
    "duration": 34,
    "start_time": "2025-04-23T17:29:46.174Z"
   },
   {
    "duration": 12,
    "start_time": "2025-04-23T17:29:46.210Z"
   },
   {
    "duration": 11,
    "start_time": "2025-04-23T17:29:46.224Z"
   },
   {
    "duration": 24,
    "start_time": "2025-04-23T17:29:46.236Z"
   },
   {
    "duration": 21,
    "start_time": "2025-04-23T17:29:46.262Z"
   },
   {
    "duration": 11,
    "start_time": "2025-04-23T17:29:46.284Z"
   },
   {
    "duration": 4,
    "start_time": "2025-04-23T17:29:46.297Z"
   },
   {
    "duration": 15,
    "start_time": "2025-04-23T17:29:46.303Z"
   },
   {
    "duration": 256,
    "start_time": "2025-04-23T17:29:46.320Z"
   },
   {
    "duration": 112,
    "start_time": "2025-04-23T17:29:46.578Z"
   },
   {
    "duration": 93,
    "start_time": "2025-04-23T17:29:46.692Z"
   },
   {
    "duration": 60,
    "start_time": "2025-04-23T17:29:46.787Z"
   },
   {
    "duration": 24,
    "start_time": "2025-04-23T17:29:46.849Z"
   },
   {
    "duration": 22,
    "start_time": "2025-04-23T17:29:46.874Z"
   },
   {
    "duration": 11,
    "start_time": "2025-04-23T17:29:46.898Z"
   },
   {
    "duration": 3,
    "start_time": "2025-04-23T17:29:46.913Z"
   },
   {
    "duration": 9,
    "start_time": "2025-04-23T17:29:46.917Z"
   },
   {
    "duration": 34,
    "start_time": "2025-04-23T17:29:46.927Z"
   },
   {
    "duration": 72,
    "start_time": "2025-04-23T17:29:46.964Z"
   },
   {
    "duration": 23,
    "start_time": "2025-04-23T17:29:47.038Z"
   },
   {
    "duration": 9,
    "start_time": "2025-04-23T17:29:47.064Z"
   },
   {
    "duration": 90,
    "start_time": "2025-04-23T17:29:47.075Z"
   },
   {
    "duration": 4,
    "start_time": "2025-04-23T17:29:47.168Z"
   },
   {
    "duration": 10,
    "start_time": "2025-04-23T17:29:47.174Z"
   },
   {
    "duration": 9,
    "start_time": "2025-04-23T17:29:47.186Z"
   },
   {
    "duration": 10,
    "start_time": "2025-04-23T17:29:47.197Z"
   },
   {
    "duration": 115,
    "start_time": "2025-04-23T17:29:47.209Z"
   },
   {
    "duration": 9,
    "start_time": "2025-04-23T17:29:47.326Z"
   },
   {
    "duration": 34,
    "start_time": "2025-04-23T17:29:47.337Z"
   },
   {
    "duration": 30,
    "start_time": "2025-04-23T17:29:47.373Z"
   },
   {
    "duration": 16,
    "start_time": "2025-04-23T17:29:47.404Z"
   },
   {
    "duration": 93,
    "start_time": "2025-04-23T17:29:47.421Z"
   },
   {
    "duration": 86,
    "start_time": "2025-04-23T17:29:47.516Z"
   },
   {
    "duration": 104,
    "start_time": "2025-04-23T17:29:47.603Z"
   },
   {
    "duration": 2,
    "start_time": "2025-04-23T17:29:47.709Z"
   },
   {
    "duration": 7,
    "start_time": "2025-04-23T17:29:47.713Z"
   },
   {
    "duration": 10,
    "start_time": "2025-04-23T17:29:47.722Z"
   },
   {
    "duration": 17,
    "start_time": "2025-04-23T17:29:47.734Z"
   },
   {
    "duration": 3,
    "start_time": "2025-04-23T17:29:47.753Z"
   },
   {
    "duration": 3,
    "start_time": "2025-04-23T17:29:47.761Z"
   },
   {
    "duration": 75,
    "start_time": "2025-04-23T17:29:47.766Z"
   },
   {
    "duration": 11,
    "start_time": "2025-04-23T17:30:05.952Z"
   },
   {
    "duration": 14,
    "start_time": "2025-04-23T17:30:48.434Z"
   },
   {
    "duration": 32,
    "start_time": "2025-04-23T17:32:02.624Z"
   },
   {
    "duration": 33,
    "start_time": "2025-04-23T17:32:05.390Z"
   },
   {
    "duration": 21,
    "start_time": "2025-04-23T17:32:13.032Z"
   },
   {
    "duration": 21,
    "start_time": "2025-04-23T17:33:01.841Z"
   },
   {
    "duration": 333,
    "start_time": "2025-04-23T17:34:17.492Z"
   },
   {
    "duration": 295,
    "start_time": "2025-04-23T17:34:52.693Z"
   },
   {
    "duration": 9,
    "start_time": "2025-04-23T17:35:19.778Z"
   },
   {
    "duration": 8,
    "start_time": "2025-04-23T17:36:33.675Z"
   },
   {
    "duration": 30,
    "start_time": "2025-04-23T17:36:43.125Z"
   },
   {
    "duration": 19,
    "start_time": "2025-04-23T17:37:39.773Z"
   },
   {
    "duration": 12,
    "start_time": "2025-04-23T17:39:07.844Z"
   },
   {
    "duration": 30,
    "start_time": "2025-04-23T17:40:07.787Z"
   },
   {
    "duration": 13,
    "start_time": "2025-04-23T17:47:34.284Z"
   },
   {
    "duration": 21,
    "start_time": "2025-04-23T17:47:56.827Z"
   },
   {
    "duration": 20,
    "start_time": "2025-04-23T17:48:00.362Z"
   },
   {
    "duration": 8,
    "start_time": "2025-04-23T17:48:20.139Z"
   },
   {
    "duration": 12,
    "start_time": "2025-04-23T17:48:30.793Z"
   },
   {
    "duration": 746,
    "start_time": "2025-04-23T18:05:29.170Z"
   },
   {
    "duration": 2988,
    "start_time": "2025-04-23T18:05:29.918Z"
   },
   {
    "duration": 13,
    "start_time": "2025-04-23T18:05:32.908Z"
   },
   {
    "duration": 98,
    "start_time": "2025-04-23T18:05:32.923Z"
   },
   {
    "duration": 109,
    "start_time": "2025-04-23T18:05:33.024Z"
   },
   {
    "duration": 27,
    "start_time": "2025-04-23T18:05:33.135Z"
   },
   {
    "duration": 50,
    "start_time": "2025-04-23T18:05:33.165Z"
   },
   {
    "duration": 151,
    "start_time": "2025-04-23T18:05:33.217Z"
   },
   {
    "duration": 43,
    "start_time": "2025-04-23T18:05:33.370Z"
   },
   {
    "duration": 10,
    "start_time": "2025-04-23T18:05:33.415Z"
   },
   {
    "duration": 42,
    "start_time": "2025-04-23T18:05:33.427Z"
   },
   {
    "duration": 9,
    "start_time": "2025-04-23T18:05:33.471Z"
   },
   {
    "duration": 35,
    "start_time": "2025-04-23T18:05:33.481Z"
   },
   {
    "duration": 9,
    "start_time": "2025-04-23T18:05:33.519Z"
   },
   {
    "duration": 36,
    "start_time": "2025-04-23T18:05:33.530Z"
   },
   {
    "duration": 50,
    "start_time": "2025-04-23T18:05:33.568Z"
   },
   {
    "duration": 48,
    "start_time": "2025-04-23T18:05:33.620Z"
   },
   {
    "duration": 9,
    "start_time": "2025-04-23T18:05:33.670Z"
   },
   {
    "duration": 181,
    "start_time": "2025-04-23T18:05:33.681Z"
   },
   {
    "duration": 21,
    "start_time": "2025-04-23T18:05:33.865Z"
   },
   {
    "duration": 13,
    "start_time": "2025-04-23T18:05:33.887Z"
   },
   {
    "duration": 17,
    "start_time": "2025-04-23T18:05:33.902Z"
   },
   {
    "duration": 97,
    "start_time": "2025-04-23T18:05:33.921Z"
   },
   {
    "duration": 43,
    "start_time": "2025-04-23T18:05:34.020Z"
   },
   {
    "duration": 14,
    "start_time": "2025-04-23T18:05:34.065Z"
   },
   {
    "duration": 22,
    "start_time": "2025-04-23T18:05:34.081Z"
   },
   {
    "duration": 28,
    "start_time": "2025-04-23T18:05:34.105Z"
   },
   {
    "duration": 30,
    "start_time": "2025-04-23T18:05:34.135Z"
   },
   {
    "duration": 14,
    "start_time": "2025-04-23T18:05:34.167Z"
   },
   {
    "duration": 20,
    "start_time": "2025-04-23T18:05:34.183Z"
   },
   {
    "duration": 12,
    "start_time": "2025-04-23T18:05:34.205Z"
   },
   {
    "duration": 4,
    "start_time": "2025-04-23T18:05:34.219Z"
   },
   {
    "duration": 12,
    "start_time": "2025-04-23T18:05:34.261Z"
   },
   {
    "duration": 248,
    "start_time": "2025-04-23T18:05:34.275Z"
   },
   {
    "duration": 115,
    "start_time": "2025-04-23T18:05:34.525Z"
   },
   {
    "duration": 74,
    "start_time": "2025-04-23T18:05:34.642Z"
   },
   {
    "duration": 75,
    "start_time": "2025-04-23T18:05:34.718Z"
   },
   {
    "duration": 15,
    "start_time": "2025-04-23T18:05:34.795Z"
   },
   {
    "duration": 76,
    "start_time": "2025-04-23T18:05:34.811Z"
   },
   {
    "duration": 36,
    "start_time": "2025-04-23T18:05:34.889Z"
   },
   {
    "duration": 72,
    "start_time": "2025-04-23T18:05:34.930Z"
   },
   {
    "duration": 46,
    "start_time": "2025-04-23T18:05:35.004Z"
   },
   {
    "duration": 23,
    "start_time": "2025-04-23T18:05:35.052Z"
   },
   {
    "duration": 88,
    "start_time": "2025-04-23T18:05:35.077Z"
   },
   {
    "duration": 15,
    "start_time": "2025-04-23T18:05:35.167Z"
   },
   {
    "duration": 75,
    "start_time": "2025-04-23T18:05:35.184Z"
   },
   {
    "duration": 17,
    "start_time": "2025-04-23T18:05:35.261Z"
   },
   {
    "duration": 4,
    "start_time": "2025-04-23T18:05:35.280Z"
   },
   {
    "duration": 14,
    "start_time": "2025-04-23T18:05:35.286Z"
   },
   {
    "duration": 10,
    "start_time": "2025-04-23T18:05:35.302Z"
   },
   {
    "duration": 29,
    "start_time": "2025-04-23T18:05:35.314Z"
   },
   {
    "duration": 111,
    "start_time": "2025-04-23T18:05:35.345Z"
   },
   {
    "duration": 8,
    "start_time": "2025-04-23T18:05:35.458Z"
   },
   {
    "duration": 23,
    "start_time": "2025-04-23T18:05:35.468Z"
   },
   {
    "duration": 37,
    "start_time": "2025-04-23T18:05:35.493Z"
   },
   {
    "duration": 29,
    "start_time": "2025-04-23T18:05:35.532Z"
   },
   {
    "duration": 3175,
    "start_time": "2025-04-23T18:05:35.563Z"
   },
   {
    "duration": 109,
    "start_time": "2025-04-23T18:05:38.740Z"
   },
   {
    "duration": 85,
    "start_time": "2025-04-23T18:05:38.851Z"
   },
   {
    "duration": 167,
    "start_time": "2025-04-23T18:05:38.938Z"
   },
   {
    "duration": 3,
    "start_time": "2025-04-23T18:05:39.107Z"
   },
   {
    "duration": 3,
    "start_time": "2025-04-23T18:05:39.112Z"
   },
   {
    "duration": 10,
    "start_time": "2025-04-23T18:05:39.117Z"
   },
   {
    "duration": 5,
    "start_time": "2025-04-23T18:05:39.129Z"
   },
   {
    "duration": 29,
    "start_time": "2025-04-23T18:05:39.136Z"
   },
   {
    "duration": 82,
    "start_time": "2025-04-23T18:05:39.167Z"
   },
   {
    "duration": 42,
    "start_time": "2025-04-23T18:05:39.252Z"
   },
   {
    "duration": 360,
    "start_time": "2025-04-23T18:05:39.296Z"
   },
   {
    "duration": 9,
    "start_time": "2025-04-23T18:05:39.659Z"
   },
   {
    "duration": 34,
    "start_time": "2025-04-23T18:05:39.670Z"
   },
   {
    "duration": 20,
    "start_time": "2025-04-23T18:05:39.706Z"
   },
   {
    "duration": 36,
    "start_time": "2025-04-23T18:14:22.726Z"
   },
   {
    "duration": 2822,
    "start_time": "2025-04-23T18:19:10.511Z"
   },
   {
    "duration": 2881,
    "start_time": "2025-04-23T18:20:25.643Z"
   },
   {
    "duration": 2968,
    "start_time": "2025-04-23T18:24:51.888Z"
   },
   {
    "duration": 734,
    "start_time": "2025-04-23T18:39:49.043Z"
   },
   {
    "duration": 2304,
    "start_time": "2025-04-23T18:39:49.779Z"
   },
   {
    "duration": 13,
    "start_time": "2025-04-23T18:39:52.085Z"
   },
   {
    "duration": 29,
    "start_time": "2025-04-23T18:39:52.100Z"
   },
   {
    "duration": 110,
    "start_time": "2025-04-23T18:39:52.132Z"
   },
   {
    "duration": 31,
    "start_time": "2025-04-23T18:39:52.244Z"
   },
   {
    "duration": 85,
    "start_time": "2025-04-23T18:39:52.277Z"
   },
   {
    "duration": 115,
    "start_time": "2025-04-23T18:39:52.364Z"
   },
   {
    "duration": 45,
    "start_time": "2025-04-23T18:39:52.481Z"
   },
   {
    "duration": 10,
    "start_time": "2025-04-23T18:39:52.528Z"
   },
   {
    "duration": 75,
    "start_time": "2025-04-23T18:39:52.560Z"
   },
   {
    "duration": 39,
    "start_time": "2025-04-23T18:39:52.637Z"
   },
   {
    "duration": 35,
    "start_time": "2025-04-23T18:39:52.678Z"
   },
   {
    "duration": 8,
    "start_time": "2025-04-23T18:39:52.717Z"
   },
   {
    "duration": 40,
    "start_time": "2025-04-23T18:39:52.727Z"
   },
   {
    "duration": 15,
    "start_time": "2025-04-23T18:39:52.769Z"
   },
   {
    "duration": 12,
    "start_time": "2025-04-23T18:39:52.786Z"
   },
   {
    "duration": 8,
    "start_time": "2025-04-23T18:39:52.800Z"
   },
   {
    "duration": 204,
    "start_time": "2025-04-23T18:39:52.810Z"
   },
   {
    "duration": 19,
    "start_time": "2025-04-23T18:39:53.016Z"
   },
   {
    "duration": 27,
    "start_time": "2025-04-23T18:39:53.036Z"
   },
   {
    "duration": 13,
    "start_time": "2025-04-23T18:39:53.065Z"
   },
   {
    "duration": 153,
    "start_time": "2025-04-23T18:39:53.079Z"
   },
   {
    "duration": 44,
    "start_time": "2025-04-23T18:39:53.234Z"
   },
   {
    "duration": 13,
    "start_time": "2025-04-23T18:39:53.280Z"
   },
   {
    "duration": 108,
    "start_time": "2025-04-23T18:39:53.295Z"
   },
   {
    "duration": 12,
    "start_time": "2025-04-23T18:39:53.405Z"
   },
   {
    "duration": 9,
    "start_time": "2025-04-23T18:39:53.418Z"
   },
   {
    "duration": 11,
    "start_time": "2025-04-23T18:39:53.429Z"
   },
   {
    "duration": 33,
    "start_time": "2025-04-23T18:39:53.442Z"
   },
   {
    "duration": 12,
    "start_time": "2025-04-23T18:39:53.477Z"
   },
   {
    "duration": 7,
    "start_time": "2025-04-23T18:39:53.490Z"
   },
   {
    "duration": 11,
    "start_time": "2025-04-23T18:39:53.499Z"
   },
   {
    "duration": 266,
    "start_time": "2025-04-23T18:39:53.512Z"
   },
   {
    "duration": 131,
    "start_time": "2025-04-23T18:39:53.780Z"
   },
   {
    "duration": 72,
    "start_time": "2025-04-23T18:39:53.913Z"
   },
   {
    "duration": 86,
    "start_time": "2025-04-23T18:39:53.987Z"
   },
   {
    "duration": 20,
    "start_time": "2025-04-23T18:39:54.074Z"
   },
   {
    "duration": 4,
    "start_time": "2025-04-23T18:39:54.096Z"
   },
   {
    "duration": 14,
    "start_time": "2025-04-23T18:39:54.102Z"
   },
   {
    "duration": 40,
    "start_time": "2025-04-23T18:39:54.121Z"
   },
   {
    "duration": 25,
    "start_time": "2025-04-23T18:39:54.163Z"
   },
   {
    "duration": 17,
    "start_time": "2025-04-23T18:39:54.190Z"
   },
   {
    "duration": 69,
    "start_time": "2025-04-23T18:39:54.209Z"
   },
   {
    "duration": 15,
    "start_time": "2025-04-23T18:39:54.280Z"
   },
   {
    "duration": 23,
    "start_time": "2025-04-23T18:39:54.296Z"
   },
   {
    "duration": 8,
    "start_time": "2025-04-23T18:39:54.321Z"
   },
   {
    "duration": 4,
    "start_time": "2025-04-23T18:39:54.331Z"
   },
   {
    "duration": 25,
    "start_time": "2025-04-23T18:39:54.337Z"
   },
   {
    "duration": 14,
    "start_time": "2025-04-23T18:39:54.365Z"
   },
   {
    "duration": 18,
    "start_time": "2025-04-23T18:39:54.382Z"
   },
   {
    "duration": 137,
    "start_time": "2025-04-23T18:39:54.402Z"
   },
   {
    "duration": 9,
    "start_time": "2025-04-23T18:39:54.541Z"
   },
   {
    "duration": 86,
    "start_time": "2025-04-23T18:39:54.559Z"
   },
   {
    "duration": 31,
    "start_time": "2025-04-23T18:39:54.647Z"
   },
   {
    "duration": 5,
    "start_time": "2025-04-23T18:39:54.680Z"
   },
   {
    "duration": 3365,
    "start_time": "2025-04-23T18:39:54.687Z"
   },
   {
    "duration": 110,
    "start_time": "2025-04-23T18:39:58.055Z"
   },
   {
    "duration": 96,
    "start_time": "2025-04-23T18:39:58.166Z"
   },
   {
    "duration": 107,
    "start_time": "2025-04-23T18:39:58.264Z"
   },
   {
    "duration": 2,
    "start_time": "2025-04-23T18:39:58.373Z"
   },
   {
    "duration": 4,
    "start_time": "2025-04-23T18:39:58.377Z"
   },
   {
    "duration": 7,
    "start_time": "2025-04-23T18:39:58.383Z"
   },
   {
    "duration": 15,
    "start_time": "2025-04-23T18:39:58.392Z"
   },
   {
    "duration": 6,
    "start_time": "2025-04-23T18:39:58.409Z"
   },
   {
    "duration": 6,
    "start_time": "2025-04-23T18:39:58.416Z"
   },
   {
    "duration": 42,
    "start_time": "2025-04-23T18:39:58.424Z"
   },
   {
    "duration": 380,
    "start_time": "2025-04-23T18:39:58.468Z"
   },
   {
    "duration": 12,
    "start_time": "2025-04-23T18:39:58.850Z"
   },
   {
    "duration": 35,
    "start_time": "2025-04-23T18:39:58.864Z"
   },
   {
    "duration": 21,
    "start_time": "2025-04-23T18:39:58.901Z"
   },
   {
    "duration": 102,
    "start_time": "2025-04-23T18:52:16.796Z"
   },
   {
    "duration": 10,
    "start_time": "2025-04-23T18:52:28.397Z"
   },
   {
    "duration": 38,
    "start_time": "2025-04-23T19:02:13.468Z"
   },
   {
    "duration": 80,
    "start_time": "2025-04-23T19:02:25.047Z"
   },
   {
    "duration": 746,
    "start_time": "2025-04-23T19:02:50.315Z"
   },
   {
    "duration": 2603,
    "start_time": "2025-04-23T19:02:51.063Z"
   },
   {
    "duration": 14,
    "start_time": "2025-04-23T19:02:53.668Z"
   },
   {
    "duration": 14,
    "start_time": "2025-04-23T19:02:53.684Z"
   },
   {
    "duration": 136,
    "start_time": "2025-04-23T19:02:53.701Z"
   },
   {
    "duration": 36,
    "start_time": "2025-04-23T19:02:53.839Z"
   },
   {
    "duration": 51,
    "start_time": "2025-04-23T19:02:53.876Z"
   },
   {
    "duration": 152,
    "start_time": "2025-04-23T19:02:53.929Z"
   },
   {
    "duration": 47,
    "start_time": "2025-04-23T19:02:54.083Z"
   },
   {
    "duration": 28,
    "start_time": "2025-04-23T19:02:54.132Z"
   },
   {
    "duration": 23,
    "start_time": "2025-04-23T19:02:54.163Z"
   },
   {
    "duration": 21,
    "start_time": "2025-04-23T19:02:54.187Z"
   },
   {
    "duration": 52,
    "start_time": "2025-04-23T19:02:54.209Z"
   },
   {
    "duration": 9,
    "start_time": "2025-04-23T19:02:54.265Z"
   },
   {
    "duration": 16,
    "start_time": "2025-04-23T19:02:54.276Z"
   },
   {
    "duration": 11,
    "start_time": "2025-04-23T19:02:54.294Z"
   },
   {
    "duration": 15,
    "start_time": "2025-04-23T19:02:54.307Z"
   },
   {
    "duration": 8,
    "start_time": "2025-04-23T19:02:54.361Z"
   },
   {
    "duration": 188,
    "start_time": "2025-04-23T19:02:54.372Z"
   },
   {
    "duration": 21,
    "start_time": "2025-04-23T19:02:54.562Z"
   },
   {
    "duration": 8,
    "start_time": "2025-04-23T19:02:54.585Z"
   },
   {
    "duration": 12,
    "start_time": "2025-04-23T19:02:54.596Z"
   },
   {
    "duration": 117,
    "start_time": "2025-04-23T19:02:54.611Z"
   },
   {
    "duration": 50,
    "start_time": "2025-04-23T19:02:54.730Z"
   },
   {
    "duration": 15,
    "start_time": "2025-04-23T19:02:54.782Z"
   },
   {
    "duration": 25,
    "start_time": "2025-04-23T19:02:54.799Z"
   },
   {
    "duration": 39,
    "start_time": "2025-04-23T19:02:54.826Z"
   },
   {
    "duration": 10,
    "start_time": "2025-04-23T19:02:54.867Z"
   },
   {
    "duration": 15,
    "start_time": "2025-04-23T19:02:54.880Z"
   },
   {
    "duration": 23,
    "start_time": "2025-04-23T19:02:54.897Z"
   },
   {
    "duration": 45,
    "start_time": "2025-04-23T19:02:54.922Z"
   },
   {
    "duration": 5,
    "start_time": "2025-04-23T19:02:54.969Z"
   },
   {
    "duration": 16,
    "start_time": "2025-04-23T19:02:54.976Z"
   },
   {
    "duration": 278,
    "start_time": "2025-04-23T19:02:54.994Z"
   },
   {
    "duration": 129,
    "start_time": "2025-04-23T19:02:55.274Z"
   },
   {
    "duration": 78,
    "start_time": "2025-04-23T19:02:55.405Z"
   },
   {
    "duration": 99,
    "start_time": "2025-04-23T19:02:55.484Z"
   },
   {
    "duration": 17,
    "start_time": "2025-04-23T19:02:55.586Z"
   },
   {
    "duration": 4,
    "start_time": "2025-04-23T19:02:55.605Z"
   },
   {
    "duration": 30,
    "start_time": "2025-04-23T19:02:55.612Z"
   },
   {
    "duration": 6,
    "start_time": "2025-04-23T19:02:55.660Z"
   },
   {
    "duration": 9,
    "start_time": "2025-04-23T19:02:55.670Z"
   },
   {
    "duration": 22,
    "start_time": "2025-04-23T19:02:55.681Z"
   },
   {
    "duration": 129,
    "start_time": "2025-04-23T19:02:55.705Z"
   },
   {
    "duration": 28,
    "start_time": "2025-04-23T19:02:55.837Z"
   },
   {
    "duration": 16,
    "start_time": "2025-04-23T19:02:55.867Z"
   },
   {
    "duration": 11,
    "start_time": "2025-04-23T19:02:55.886Z"
   },
   {
    "duration": 4,
    "start_time": "2025-04-23T19:02:55.899Z"
   },
   {
    "duration": 13,
    "start_time": "2025-04-23T19:02:55.905Z"
   },
   {
    "duration": 44,
    "start_time": "2025-04-23T19:02:55.921Z"
   },
   {
    "duration": 11,
    "start_time": "2025-04-23T19:02:55.968Z"
   },
   {
    "duration": 112,
    "start_time": "2025-04-23T19:02:55.981Z"
   },
   {
    "duration": 9,
    "start_time": "2025-04-23T19:02:56.095Z"
   },
   {
    "duration": 27,
    "start_time": "2025-04-23T19:02:56.105Z"
   },
   {
    "duration": 85,
    "start_time": "2025-04-23T19:02:56.134Z"
   },
   {
    "duration": 8,
    "start_time": "2025-04-23T19:02:56.221Z"
   },
   {
    "duration": 3416,
    "start_time": "2025-04-23T19:02:56.231Z"
   },
   {
    "duration": 127,
    "start_time": "2025-04-23T19:02:59.649Z"
   },
   {
    "duration": 112,
    "start_time": "2025-04-23T19:02:59.778Z"
   },
   {
    "duration": 115,
    "start_time": "2025-04-23T19:02:59.892Z"
   },
   {
    "duration": 3,
    "start_time": "2025-04-23T19:03:00.009Z"
   },
   {
    "duration": 20,
    "start_time": "2025-04-23T19:03:00.013Z"
   },
   {
    "duration": 27,
    "start_time": "2025-04-23T19:03:00.035Z"
   },
   {
    "duration": 5,
    "start_time": "2025-04-23T19:03:00.065Z"
   },
   {
    "duration": 8,
    "start_time": "2025-04-23T19:03:00.072Z"
   },
   {
    "duration": 9,
    "start_time": "2025-04-23T19:03:00.082Z"
   },
   {
    "duration": 31,
    "start_time": "2025-04-23T19:03:00.094Z"
   },
   {
    "duration": 419,
    "start_time": "2025-04-23T19:03:00.128Z"
   },
   {
    "duration": 13,
    "start_time": "2025-04-23T19:03:00.550Z"
   },
   {
    "duration": 46,
    "start_time": "2025-04-23T19:03:00.566Z"
   },
   {
    "duration": 80,
    "start_time": "2025-04-23T19:03:00.614Z"
   },
   {
    "duration": 44,
    "start_time": "2025-04-23T19:03:00.697Z"
   },
   {
    "duration": 87,
    "start_time": "2025-04-23T19:03:00.743Z"
   },
   {
    "duration": 348,
    "start_time": "2025-04-23T19:03:18.138Z"
   },
   {
    "duration": 41,
    "start_time": "2025-04-23T19:03:29.522Z"
   },
   {
    "duration": 81,
    "start_time": "2025-04-23T19:03:30.238Z"
   },
   {
    "duration": 79,
    "start_time": "2025-04-23T19:04:12.985Z"
   },
   {
    "duration": 23,
    "start_time": "2025-04-23T19:04:24.640Z"
   },
   {
    "duration": 336,
    "start_time": "2025-04-23T19:04:25.176Z"
   },
   {
    "duration": 15,
    "start_time": "2025-04-23T19:04:25.701Z"
   },
   {
    "duration": 31,
    "start_time": "2025-04-23T19:04:26.375Z"
   },
   {
    "duration": 21,
    "start_time": "2025-04-23T19:04:27.006Z"
   },
   {
    "duration": 85,
    "start_time": "2025-04-23T19:04:30.540Z"
   },
   {
    "duration": 49,
    "start_time": "2025-04-23T19:04:31.523Z"
   },
   {
    "duration": 763,
    "start_time": "2025-04-23T19:04:37.337Z"
   },
   {
    "duration": 2446,
    "start_time": "2025-04-23T19:04:38.102Z"
   },
   {
    "duration": 14,
    "start_time": "2025-04-23T19:04:40.551Z"
   },
   {
    "duration": 14,
    "start_time": "2025-04-23T19:04:40.567Z"
   },
   {
    "duration": 118,
    "start_time": "2025-04-23T19:04:40.584Z"
   },
   {
    "duration": 28,
    "start_time": "2025-04-23T19:04:40.704Z"
   },
   {
    "duration": 69,
    "start_time": "2025-04-23T19:04:40.733Z"
   },
   {
    "duration": 114,
    "start_time": "2025-04-23T19:04:40.804Z"
   },
   {
    "duration": 53,
    "start_time": "2025-04-23T19:04:40.919Z"
   },
   {
    "duration": 11,
    "start_time": "2025-04-23T19:04:40.974Z"
   },
   {
    "duration": 41,
    "start_time": "2025-04-23T19:04:40.987Z"
   },
   {
    "duration": 32,
    "start_time": "2025-04-23T19:04:41.030Z"
   },
   {
    "duration": 27,
    "start_time": "2025-04-23T19:04:41.064Z"
   },
   {
    "duration": 9,
    "start_time": "2025-04-23T19:04:41.094Z"
   },
   {
    "duration": 16,
    "start_time": "2025-04-23T19:04:41.105Z"
   },
   {
    "duration": 44,
    "start_time": "2025-04-23T19:04:41.122Z"
   },
   {
    "duration": 10,
    "start_time": "2025-04-23T19:04:41.168Z"
   },
   {
    "duration": 9,
    "start_time": "2025-04-23T19:04:41.180Z"
   },
   {
    "duration": 198,
    "start_time": "2025-04-23T19:04:41.191Z"
   },
   {
    "duration": 21,
    "start_time": "2025-04-23T19:04:41.391Z"
   },
   {
    "duration": 58,
    "start_time": "2025-04-23T19:04:41.414Z"
   },
   {
    "duration": 10,
    "start_time": "2025-04-23T19:04:41.474Z"
   },
   {
    "duration": 82,
    "start_time": "2025-04-23T19:04:41.486Z"
   },
   {
    "duration": 39,
    "start_time": "2025-04-23T19:04:41.570Z"
   },
   {
    "duration": 13,
    "start_time": "2025-04-23T19:04:41.611Z"
   },
   {
    "duration": 44,
    "start_time": "2025-04-23T19:04:41.626Z"
   },
   {
    "duration": 15,
    "start_time": "2025-04-23T19:04:41.672Z"
   },
   {
    "duration": 8,
    "start_time": "2025-04-23T19:04:41.689Z"
   },
   {
    "duration": 14,
    "start_time": "2025-04-23T19:04:41.698Z"
   },
   {
    "duration": 48,
    "start_time": "2025-04-23T19:04:41.714Z"
   },
   {
    "duration": 12,
    "start_time": "2025-04-23T19:04:41.764Z"
   },
   {
    "duration": 48,
    "start_time": "2025-04-23T19:04:41.778Z"
   },
   {
    "duration": 16,
    "start_time": "2025-04-23T19:04:41.828Z"
   },
   {
    "duration": 235,
    "start_time": "2025-04-23T19:04:41.846Z"
   },
   {
    "duration": 120,
    "start_time": "2025-04-23T19:04:42.083Z"
   },
   {
    "duration": 76,
    "start_time": "2025-04-23T19:04:42.205Z"
   },
   {
    "duration": 62,
    "start_time": "2025-04-23T19:04:42.283Z"
   },
   {
    "duration": 32,
    "start_time": "2025-04-23T19:04:42.347Z"
   },
   {
    "duration": 4,
    "start_time": "2025-04-23T19:04:42.381Z"
   },
   {
    "duration": 16,
    "start_time": "2025-04-23T19:04:42.387Z"
   },
   {
    "duration": 2,
    "start_time": "2025-04-23T19:04:42.408Z"
   },
   {
    "duration": 9,
    "start_time": "2025-04-23T19:04:42.412Z"
   },
   {
    "duration": 44,
    "start_time": "2025-04-23T19:04:42.423Z"
   },
   {
    "duration": 84,
    "start_time": "2025-04-23T19:04:42.469Z"
   },
   {
    "duration": 15,
    "start_time": "2025-04-23T19:04:42.555Z"
   },
   {
    "duration": 11,
    "start_time": "2025-04-23T19:04:42.572Z"
   },
   {
    "duration": 8,
    "start_time": "2025-04-23T19:04:42.585Z"
   },
   {
    "duration": 6,
    "start_time": "2025-04-23T19:04:42.595Z"
   },
   {
    "duration": 56,
    "start_time": "2025-04-23T19:04:42.603Z"
   },
   {
    "duration": 40,
    "start_time": "2025-04-23T19:04:42.661Z"
   },
   {
    "duration": 10,
    "start_time": "2025-04-23T19:04:42.703Z"
   },
   {
    "duration": 79,
    "start_time": "2025-04-23T19:04:42.716Z"
   },
   {
    "duration": 8,
    "start_time": "2025-04-23T19:04:42.797Z"
   },
   {
    "duration": 24,
    "start_time": "2025-04-23T19:04:42.807Z"
   },
   {
    "duration": 56,
    "start_time": "2025-04-23T19:04:42.832Z"
   },
   {
    "duration": 8,
    "start_time": "2025-04-23T19:04:42.889Z"
   },
   {
    "duration": 3362,
    "start_time": "2025-04-23T19:04:42.898Z"
   },
   {
    "duration": 110,
    "start_time": "2025-04-23T19:04:46.262Z"
   },
   {
    "duration": 88,
    "start_time": "2025-04-23T19:04:46.374Z"
   },
   {
    "duration": 105,
    "start_time": "2025-04-23T19:04:46.464Z"
   },
   {
    "duration": 3,
    "start_time": "2025-04-23T19:04:46.571Z"
   },
   {
    "duration": 10,
    "start_time": "2025-04-23T19:04:46.575Z"
   },
   {
    "duration": 5,
    "start_time": "2025-04-23T19:04:46.587Z"
   },
   {
    "duration": 7,
    "start_time": "2025-04-23T19:04:46.593Z"
   },
   {
    "duration": 73,
    "start_time": "2025-04-23T19:04:46.602Z"
   },
   {
    "duration": 3,
    "start_time": "2025-04-23T19:04:46.678Z"
   },
   {
    "duration": 29,
    "start_time": "2025-04-23T19:04:46.684Z"
   },
   {
    "duration": 375,
    "start_time": "2025-04-23T19:04:46.715Z"
   },
   {
    "duration": 9,
    "start_time": "2025-04-23T19:04:47.092Z"
   },
   {
    "duration": 32,
    "start_time": "2025-04-23T19:04:47.103Z"
   },
   {
    "duration": 37,
    "start_time": "2025-04-23T19:04:47.137Z"
   },
   {
    "duration": 117,
    "start_time": "2025-04-23T19:04:47.176Z"
   },
   {
    "duration": 40,
    "start_time": "2025-04-23T19:04:47.295Z"
   },
   {
    "duration": 95,
    "start_time": "2025-04-23T19:04:47.337Z"
   },
   {
    "duration": 29,
    "start_time": "2025-04-23T19:05:07.394Z"
   },
   {
    "duration": 72,
    "start_time": "2025-04-23T19:05:20.985Z"
   },
   {
    "duration": 74,
    "start_time": "2025-04-23T19:05:51.672Z"
   },
   {
    "duration": 38,
    "start_time": "2025-04-23T19:06:00.954Z"
   },
   {
    "duration": 80,
    "start_time": "2025-04-23T19:06:01.704Z"
   },
   {
    "duration": 28,
    "start_time": "2025-04-23T19:07:00.412Z"
   },
   {
    "duration": 20,
    "start_time": "2025-04-23T19:07:01.024Z"
   },
   {
    "duration": 37,
    "start_time": "2025-04-23T19:07:13.339Z"
   },
   {
    "duration": 72,
    "start_time": "2025-04-23T19:07:14.489Z"
   },
   {
    "duration": 79,
    "start_time": "2025-04-23T19:07:59.514Z"
   },
   {
    "duration": 52,
    "start_time": "2025-04-23T19:08:04.441Z"
   },
   {
    "duration": 71,
    "start_time": "2025-04-23T19:08:05.091Z"
   },
   {
    "duration": 833,
    "start_time": "2025-04-23T19:08:18.346Z"
   },
   {
    "duration": 2199,
    "start_time": "2025-04-23T19:08:19.182Z"
   },
   {
    "duration": 15,
    "start_time": "2025-04-23T19:08:21.382Z"
   },
   {
    "duration": 13,
    "start_time": "2025-04-23T19:08:21.399Z"
   },
   {
    "duration": 189,
    "start_time": "2025-04-23T19:08:21.415Z"
   },
   {
    "duration": 28,
    "start_time": "2025-04-23T19:08:21.606Z"
   },
   {
    "duration": 65,
    "start_time": "2025-04-23T19:08:21.636Z"
   },
   {
    "duration": 116,
    "start_time": "2025-04-23T19:08:21.703Z"
   },
   {
    "duration": 55,
    "start_time": "2025-04-23T19:08:21.821Z"
   },
   {
    "duration": 10,
    "start_time": "2025-04-23T19:08:21.878Z"
   },
   {
    "duration": 22,
    "start_time": "2025-04-23T19:08:21.890Z"
   },
   {
    "duration": 9,
    "start_time": "2025-04-23T19:08:21.914Z"
   },
   {
    "duration": 28,
    "start_time": "2025-04-23T19:08:21.961Z"
   },
   {
    "duration": 9,
    "start_time": "2025-04-23T19:08:21.992Z"
   },
   {
    "duration": 35,
    "start_time": "2025-04-23T19:08:22.004Z"
   },
   {
    "duration": 21,
    "start_time": "2025-04-23T19:08:22.041Z"
   },
   {
    "duration": 12,
    "start_time": "2025-04-23T19:08:22.063Z"
   },
   {
    "duration": 8,
    "start_time": "2025-04-23T19:08:22.076Z"
   },
   {
    "duration": 204,
    "start_time": "2025-04-23T19:08:22.085Z"
   },
   {
    "duration": 19,
    "start_time": "2025-04-23T19:08:22.291Z"
   },
   {
    "duration": 8,
    "start_time": "2025-04-23T19:08:22.312Z"
   },
   {
    "duration": 10,
    "start_time": "2025-04-23T19:08:22.322Z"
   },
   {
    "duration": 81,
    "start_time": "2025-04-23T19:08:22.360Z"
   },
   {
    "duration": 55,
    "start_time": "2025-04-23T19:08:22.443Z"
   },
   {
    "duration": 14,
    "start_time": "2025-04-23T19:08:22.500Z"
   },
   {
    "duration": 51,
    "start_time": "2025-04-23T19:08:22.515Z"
   },
   {
    "duration": 11,
    "start_time": "2025-04-23T19:08:22.568Z"
   },
   {
    "duration": 9,
    "start_time": "2025-04-23T19:08:22.581Z"
   },
   {
    "duration": 13,
    "start_time": "2025-04-23T19:08:22.592Z"
   },
   {
    "duration": 61,
    "start_time": "2025-04-23T19:08:22.607Z"
   },
   {
    "duration": 14,
    "start_time": "2025-04-23T19:08:22.670Z"
   },
   {
    "duration": 45,
    "start_time": "2025-04-23T19:08:22.686Z"
   },
   {
    "duration": 22,
    "start_time": "2025-04-23T19:08:22.733Z"
   },
   {
    "duration": 261,
    "start_time": "2025-04-23T19:08:22.757Z"
   },
   {
    "duration": 122,
    "start_time": "2025-04-23T19:08:23.020Z"
   },
   {
    "duration": 68,
    "start_time": "2025-04-23T19:08:23.144Z"
   },
   {
    "duration": 77,
    "start_time": "2025-04-23T19:08:23.214Z"
   },
   {
    "duration": 15,
    "start_time": "2025-04-23T19:08:23.293Z"
   },
   {
    "duration": 4,
    "start_time": "2025-04-23T19:08:23.310Z"
   },
   {
    "duration": 22,
    "start_time": "2025-04-23T19:08:23.315Z"
   },
   {
    "duration": 19,
    "start_time": "2025-04-23T19:08:23.342Z"
   },
   {
    "duration": 9,
    "start_time": "2025-04-23T19:08:23.363Z"
   },
   {
    "duration": 16,
    "start_time": "2025-04-23T19:08:23.374Z"
   },
   {
    "duration": 94,
    "start_time": "2025-04-23T19:08:23.392Z"
   },
   {
    "duration": 17,
    "start_time": "2025-04-23T19:08:23.488Z"
   },
   {
    "duration": 9,
    "start_time": "2025-04-23T19:08:23.508Z"
   },
   {
    "duration": 8,
    "start_time": "2025-04-23T19:08:23.520Z"
   },
   {
    "duration": 32,
    "start_time": "2025-04-23T19:08:23.529Z"
   },
   {
    "duration": 15,
    "start_time": "2025-04-23T19:08:23.562Z"
   },
   {
    "duration": 10,
    "start_time": "2025-04-23T19:08:23.578Z"
   },
   {
    "duration": 13,
    "start_time": "2025-04-23T19:08:23.590Z"
   },
   {
    "duration": 109,
    "start_time": "2025-04-23T19:08:23.605Z"
   },
   {
    "duration": 9,
    "start_time": "2025-04-23T19:08:23.716Z"
   },
   {
    "duration": 37,
    "start_time": "2025-04-23T19:08:23.727Z"
   },
   {
    "duration": 97,
    "start_time": "2025-04-23T19:08:23.765Z"
   },
   {
    "duration": 18,
    "start_time": "2025-04-23T19:08:23.864Z"
   },
   {
    "duration": 3376,
    "start_time": "2025-04-23T19:08:23.884Z"
   },
   {
    "duration": 109,
    "start_time": "2025-04-23T19:08:27.262Z"
   },
   {
    "duration": 89,
    "start_time": "2025-04-23T19:08:27.373Z"
   },
   {
    "duration": 106,
    "start_time": "2025-04-23T19:08:27.464Z"
   },
   {
    "duration": 2,
    "start_time": "2025-04-23T19:08:27.572Z"
   },
   {
    "duration": 4,
    "start_time": "2025-04-23T19:08:27.576Z"
   },
   {
    "duration": 7,
    "start_time": "2025-04-23T19:08:27.582Z"
   },
   {
    "duration": 3,
    "start_time": "2025-04-23T19:08:27.592Z"
   },
   {
    "duration": 12,
    "start_time": "2025-04-23T19:08:27.597Z"
   },
   {
    "duration": 3,
    "start_time": "2025-04-23T19:08:27.611Z"
   },
   {
    "duration": 55,
    "start_time": "2025-04-23T19:08:27.616Z"
   },
   {
    "duration": 76,
    "start_time": "2025-04-23T19:08:27.673Z"
   },
   {
    "duration": 349,
    "start_time": "2025-04-23T19:08:27.760Z"
   },
   {
    "duration": 8,
    "start_time": "2025-04-23T19:08:28.111Z"
   },
   {
    "duration": 47,
    "start_time": "2025-04-23T19:08:28.121Z"
   },
   {
    "duration": 21,
    "start_time": "2025-04-23T19:08:28.169Z"
   },
   {
    "duration": 93,
    "start_time": "2025-04-23T19:08:28.192Z"
   },
   {
    "duration": 39,
    "start_time": "2025-04-23T19:08:28.287Z"
   },
   {
    "duration": 96,
    "start_time": "2025-04-23T19:08:28.328Z"
   },
   {
    "duration": 78,
    "start_time": "2025-04-23T19:09:09.806Z"
   },
   {
    "duration": 77,
    "start_time": "2025-04-23T19:09:17.494Z"
   },
   {
    "duration": 78,
    "start_time": "2025-04-23T19:09:18.042Z"
   },
   {
    "duration": 50,
    "start_time": "2025-04-23T19:09:33.066Z"
   },
   {
    "duration": 76,
    "start_time": "2025-04-23T19:09:33.607Z"
   },
   {
    "duration": 77,
    "start_time": "2025-04-23T19:09:34.671Z"
   },
   {
    "duration": 91,
    "start_time": "2025-04-23T19:10:32.259Z"
   },
   {
    "duration": 22,
    "start_time": "2025-04-23T19:10:39.911Z"
   },
   {
    "duration": 74,
    "start_time": "2025-04-23T19:10:40.261Z"
   },
   {
    "duration": 288,
    "start_time": "2025-04-23T19:10:40.488Z"
   },
   {
    "duration": 10,
    "start_time": "2025-04-23T19:10:40.778Z"
   },
   {
    "duration": 32,
    "start_time": "2025-04-23T19:10:40.990Z"
   },
   {
    "duration": 20,
    "start_time": "2025-04-23T19:10:41.271Z"
   },
   {
    "duration": 40,
    "start_time": "2025-04-23T19:10:43.259Z"
   },
   {
    "duration": 77,
    "start_time": "2025-04-23T19:10:44.492Z"
   },
   {
    "duration": 90,
    "start_time": "2025-04-23T19:10:45.544Z"
   },
   {
    "duration": 97,
    "start_time": "2025-04-23T19:10:46.128Z"
   },
   {
    "duration": 86,
    "start_time": "2025-04-23T19:15:30.047Z"
   },
   {
    "duration": 291,
    "start_time": "2025-04-23T19:15:31.045Z"
   },
   {
    "duration": 22,
    "start_time": "2025-04-23T19:15:37.592Z"
   },
   {
    "duration": 71,
    "start_time": "2025-04-23T19:15:38.247Z"
   },
   {
    "duration": 304,
    "start_time": "2025-04-23T19:15:40.445Z"
   },
   {
    "duration": 9,
    "start_time": "2025-04-23T19:15:41.278Z"
   },
   {
    "duration": 29,
    "start_time": "2025-04-23T19:15:41.915Z"
   },
   {
    "duration": 21,
    "start_time": "2025-04-23T19:15:42.580Z"
   },
   {
    "duration": 45,
    "start_time": "2025-04-23T19:15:50.832Z"
   },
   {
    "duration": 117,
    "start_time": "2025-04-23T19:15:52.661Z"
   },
   {
    "duration": 80,
    "start_time": "2025-04-23T19:16:01.548Z"
   },
   {
    "duration": 20,
    "start_time": "2025-04-23T19:16:18.880Z"
   },
   {
    "duration": 78,
    "start_time": "2025-04-23T19:16:27.181Z"
   },
   {
    "duration": 40,
    "start_time": "2025-04-23T19:16:33.007Z"
   },
   {
    "duration": 72,
    "start_time": "2025-04-23T19:16:37.257Z"
   },
   {
    "duration": 72,
    "start_time": "2025-04-23T19:16:44.145Z"
   },
   {
    "duration": 72,
    "start_time": "2025-04-23T19:16:46.296Z"
   },
   {
    "duration": 21,
    "start_time": "2025-04-23T19:17:36.259Z"
   },
   {
    "duration": 29,
    "start_time": "2025-04-23T19:17:46.660Z"
   },
   {
    "duration": 7,
    "start_time": "2025-04-23T19:18:25.858Z"
   },
   {
    "duration": 36,
    "start_time": "2025-04-23T19:18:35.885Z"
   },
   {
    "duration": 28,
    "start_time": "2025-04-23T19:18:36.696Z"
   },
   {
    "duration": 47,
    "start_time": "2025-04-23T19:19:19.028Z"
   },
   {
    "duration": 97,
    "start_time": "2025-04-23T19:19:19.542Z"
   },
   {
    "duration": 37,
    "start_time": "2025-04-23T19:20:11.492Z"
   },
   {
    "duration": 83,
    "start_time": "2025-04-23T19:20:12.115Z"
   },
   {
    "duration": 23,
    "start_time": "2025-04-23T19:25:37.581Z"
   },
   {
    "duration": 12,
    "start_time": "2025-04-23T19:26:08.875Z"
   },
   {
    "duration": 12,
    "start_time": "2025-04-23T19:26:14.263Z"
   },
   {
    "duration": 24,
    "start_time": "2025-04-23T19:26:26.945Z"
   },
   {
    "duration": 9,
    "start_time": "2025-04-23T19:26:28.120Z"
   },
   {
    "duration": 36,
    "start_time": "2025-04-23T19:26:29.023Z"
   },
   {
    "duration": 22,
    "start_time": "2025-04-23T19:26:29.681Z"
   },
   {
    "duration": 38,
    "start_time": "2025-04-23T19:26:32.405Z"
   },
   {
    "duration": 74,
    "start_time": "2025-04-23T19:26:32.693Z"
   },
   {
    "duration": 84,
    "start_time": "2025-04-23T19:26:33.854Z"
   },
   {
    "duration": 39,
    "start_time": "2025-04-23T19:26:35.030Z"
   },
   {
    "duration": 107,
    "start_time": "2025-04-23T19:26:35.703Z"
   },
   {
    "duration": 743,
    "start_time": "2025-04-23T19:27:07.294Z"
   },
   {
    "duration": 2345,
    "start_time": "2025-04-23T19:27:08.039Z"
   },
   {
    "duration": 14,
    "start_time": "2025-04-23T19:27:10.387Z"
   },
   {
    "duration": 14,
    "start_time": "2025-04-23T19:27:10.404Z"
   },
   {
    "duration": 143,
    "start_time": "2025-04-23T19:27:10.420Z"
   },
   {
    "duration": 42,
    "start_time": "2025-04-23T19:27:10.566Z"
   },
   {
    "duration": 72,
    "start_time": "2025-04-23T19:27:10.610Z"
   },
   {
    "duration": 137,
    "start_time": "2025-04-23T19:27:10.686Z"
   },
   {
    "duration": 54,
    "start_time": "2025-04-23T19:27:10.825Z"
   },
   {
    "duration": 10,
    "start_time": "2025-04-23T19:27:10.883Z"
   },
   {
    "duration": 31,
    "start_time": "2025-04-23T19:27:10.895Z"
   },
   {
    "duration": 32,
    "start_time": "2025-04-23T19:27:10.929Z"
   },
   {
    "duration": 39,
    "start_time": "2025-04-23T19:27:10.963Z"
   },
   {
    "duration": 8,
    "start_time": "2025-04-23T19:27:11.004Z"
   },
   {
    "duration": 16,
    "start_time": "2025-04-23T19:27:11.014Z"
   },
   {
    "duration": 15,
    "start_time": "2025-04-23T19:27:11.060Z"
   },
   {
    "duration": 61,
    "start_time": "2025-04-23T19:27:11.078Z"
   },
   {
    "duration": 8,
    "start_time": "2025-04-23T19:27:11.141Z"
   },
   {
    "duration": 186,
    "start_time": "2025-04-23T19:27:11.150Z"
   },
   {
    "duration": 23,
    "start_time": "2025-04-23T19:27:11.338Z"
   },
   {
    "duration": 12,
    "start_time": "2025-04-23T19:27:11.363Z"
   },
   {
    "duration": 34,
    "start_time": "2025-04-23T19:27:11.377Z"
   },
   {
    "duration": 87,
    "start_time": "2025-04-23T19:27:11.414Z"
   },
   {
    "duration": 39,
    "start_time": "2025-04-23T19:27:11.503Z"
   },
   {
    "duration": 28,
    "start_time": "2025-04-23T19:27:11.544Z"
   },
   {
    "duration": 29,
    "start_time": "2025-04-23T19:27:11.574Z"
   },
   {
    "duration": 12,
    "start_time": "2025-04-23T19:27:11.604Z"
   },
   {
    "duration": 38,
    "start_time": "2025-04-23T19:27:11.624Z"
   },
   {
    "duration": 13,
    "start_time": "2025-04-23T19:27:11.665Z"
   },
   {
    "duration": 23,
    "start_time": "2025-04-23T19:27:11.680Z"
   },
   {
    "duration": 13,
    "start_time": "2025-04-23T19:27:11.705Z"
   },
   {
    "duration": 40,
    "start_time": "2025-04-23T19:27:11.720Z"
   },
   {
    "duration": 14,
    "start_time": "2025-04-23T19:27:11.763Z"
   },
   {
    "duration": 262,
    "start_time": "2025-04-23T19:27:11.780Z"
   },
   {
    "duration": 133,
    "start_time": "2025-04-23T19:27:12.044Z"
   },
   {
    "duration": 80,
    "start_time": "2025-04-23T19:27:12.180Z"
   },
   {
    "duration": 61,
    "start_time": "2025-04-23T19:27:12.265Z"
   },
   {
    "duration": 41,
    "start_time": "2025-04-23T19:27:12.328Z"
   },
   {
    "duration": 5,
    "start_time": "2025-04-23T19:27:12.372Z"
   },
   {
    "duration": 26,
    "start_time": "2025-04-23T19:27:12.378Z"
   },
   {
    "duration": 4,
    "start_time": "2025-04-23T19:27:12.406Z"
   },
   {
    "duration": 8,
    "start_time": "2025-04-23T19:27:12.412Z"
   },
   {
    "duration": 15,
    "start_time": "2025-04-23T19:27:12.422Z"
   },
   {
    "duration": 72,
    "start_time": "2025-04-23T19:27:12.462Z"
   },
   {
    "duration": 30,
    "start_time": "2025-04-23T19:27:12.536Z"
   },
   {
    "duration": 12,
    "start_time": "2025-04-23T19:27:12.568Z"
   },
   {
    "duration": 9,
    "start_time": "2025-04-23T19:27:12.582Z"
   },
   {
    "duration": 5,
    "start_time": "2025-04-23T19:27:12.593Z"
   },
   {
    "duration": 10,
    "start_time": "2025-04-23T19:27:12.600Z"
   },
   {
    "duration": 65,
    "start_time": "2025-04-23T19:27:12.612Z"
   },
   {
    "duration": 86,
    "start_time": "2025-04-23T19:27:12.680Z"
   },
   {
    "duration": 89,
    "start_time": "2025-04-23T19:27:12.768Z"
   },
   {
    "duration": 14,
    "start_time": "2025-04-23T19:27:12.860Z"
   },
   {
    "duration": 26,
    "start_time": "2025-04-23T19:27:12.876Z"
   },
   {
    "duration": 33,
    "start_time": "2025-04-23T19:27:12.904Z"
   },
   {
    "duration": 8,
    "start_time": "2025-04-23T19:27:12.961Z"
   },
   {
    "duration": 3825,
    "start_time": "2025-04-23T19:27:12.972Z"
   },
   {
    "duration": 117,
    "start_time": "2025-04-23T19:27:16.799Z"
   },
   {
    "duration": 104,
    "start_time": "2025-04-23T19:27:16.919Z"
   },
   {
    "duration": 113,
    "start_time": "2025-04-23T19:27:17.025Z"
   },
   {
    "duration": 3,
    "start_time": "2025-04-23T19:27:17.140Z"
   },
   {
    "duration": 16,
    "start_time": "2025-04-23T19:27:17.145Z"
   },
   {
    "duration": 3,
    "start_time": "2025-04-23T19:27:17.164Z"
   },
   {
    "duration": 4,
    "start_time": "2025-04-23T19:27:17.170Z"
   },
   {
    "duration": 3,
    "start_time": "2025-04-23T19:27:17.176Z"
   },
   {
    "duration": 4,
    "start_time": "2025-04-23T19:27:17.182Z"
   },
   {
    "duration": 26,
    "start_time": "2025-04-23T19:27:17.188Z"
   },
   {
    "duration": 136,
    "start_time": "2025-04-23T19:27:17.216Z"
   },
   {
    "duration": 355,
    "start_time": "2025-04-23T19:27:17.353Z"
   },
   {
    "duration": 37,
    "start_time": "2025-04-23T19:27:17.710Z"
   },
   {
    "duration": 10,
    "start_time": "2025-04-23T19:27:17.760Z"
   },
   {
    "duration": 34,
    "start_time": "2025-04-23T19:27:17.773Z"
   },
   {
    "duration": 22,
    "start_time": "2025-04-23T19:27:17.810Z"
   },
   {
    "duration": 107,
    "start_time": "2025-04-23T19:27:17.860Z"
   },
   {
    "duration": 82,
    "start_time": "2025-04-23T19:27:17.970Z"
   },
   {
    "duration": 111,
    "start_time": "2025-04-23T19:27:18.061Z"
   },
   {
    "duration": 46,
    "start_time": "2025-04-23T19:27:18.174Z"
   },
   {
    "duration": 109,
    "start_time": "2025-04-23T19:27:18.222Z"
   },
   {
    "duration": 30,
    "start_time": "2025-04-23T19:27:41.097Z"
   },
   {
    "duration": 81,
    "start_time": "2025-04-23T19:27:41.652Z"
   },
   {
    "duration": 325,
    "start_time": "2025-04-23T19:27:42.529Z"
   },
   {
    "duration": 31,
    "start_time": "2025-04-23T19:27:44.782Z"
   },
   {
    "duration": 9,
    "start_time": "2025-04-23T19:27:45.130Z"
   },
   {
    "duration": 32,
    "start_time": "2025-04-23T19:27:45.358Z"
   },
   {
    "duration": 31,
    "start_time": "2025-04-23T19:27:45.606Z"
   },
   {
    "duration": 45,
    "start_time": "2025-04-23T19:27:48.714Z"
   },
   {
    "duration": 88,
    "start_time": "2025-04-23T19:27:49.946Z"
   },
   {
    "duration": 78,
    "start_time": "2025-04-23T19:27:51.280Z"
   },
   {
    "duration": 39,
    "start_time": "2025-04-23T19:27:51.815Z"
   },
   {
    "duration": 90,
    "start_time": "2025-04-23T19:27:52.358Z"
   },
   {
    "duration": 24,
    "start_time": "2025-04-23T19:28:18.447Z"
   },
   {
    "duration": 87,
    "start_time": "2025-04-23T19:28:19.053Z"
   },
   {
    "duration": 301,
    "start_time": "2025-04-23T19:28:19.614Z"
   },
   {
    "duration": 31,
    "start_time": "2025-04-23T19:28:20.681Z"
   },
   {
    "duration": 10,
    "start_time": "2025-04-23T19:28:21.397Z"
   },
   {
    "duration": 37,
    "start_time": "2025-04-23T19:28:21.642Z"
   },
   {
    "duration": 32,
    "start_time": "2025-04-23T19:28:21.890Z"
   },
   {
    "duration": 56,
    "start_time": "2025-04-23T19:28:24.097Z"
   },
   {
    "duration": 84,
    "start_time": "2025-04-23T19:28:24.996Z"
   },
   {
    "duration": 102,
    "start_time": "2025-04-23T19:28:25.815Z"
   },
   {
    "duration": 52,
    "start_time": "2025-04-23T19:28:26.200Z"
   },
   {
    "duration": 89,
    "start_time": "2025-04-23T19:28:26.443Z"
   },
   {
    "duration": 81,
    "start_time": "2025-04-23T19:28:36.381Z"
   },
   {
    "duration": 818,
    "start_time": "2025-04-23T19:29:34.014Z"
   },
   {
    "duration": 2475,
    "start_time": "2025-04-23T19:29:34.834Z"
   },
   {
    "duration": 13,
    "start_time": "2025-04-23T19:29:37.311Z"
   },
   {
    "duration": 14,
    "start_time": "2025-04-23T19:29:37.326Z"
   },
   {
    "duration": 140,
    "start_time": "2025-04-23T19:29:37.343Z"
   },
   {
    "duration": 35,
    "start_time": "2025-04-23T19:29:37.485Z"
   },
   {
    "duration": 95,
    "start_time": "2025-04-23T19:29:37.521Z"
   },
   {
    "duration": 132,
    "start_time": "2025-04-23T19:29:37.618Z"
   },
   {
    "duration": 67,
    "start_time": "2025-04-23T19:29:37.752Z"
   },
   {
    "duration": 10,
    "start_time": "2025-04-23T19:29:37.821Z"
   },
   {
    "duration": 77,
    "start_time": "2025-04-23T19:29:37.833Z"
   },
   {
    "duration": 9,
    "start_time": "2025-04-23T19:29:37.912Z"
   },
   {
    "duration": 30,
    "start_time": "2025-04-23T19:29:37.922Z"
   },
   {
    "duration": 11,
    "start_time": "2025-04-23T19:29:37.955Z"
   },
   {
    "duration": 25,
    "start_time": "2025-04-23T19:29:37.968Z"
   },
   {
    "duration": 12,
    "start_time": "2025-04-23T19:29:37.995Z"
   },
   {
    "duration": 12,
    "start_time": "2025-04-23T19:29:38.009Z"
   },
   {
    "duration": 7,
    "start_time": "2025-04-23T19:29:38.023Z"
   },
   {
    "duration": 211,
    "start_time": "2025-04-23T19:29:38.069Z"
   },
   {
    "duration": 25,
    "start_time": "2025-04-23T19:29:38.283Z"
   },
   {
    "duration": 7,
    "start_time": "2025-04-23T19:29:38.309Z"
   },
   {
    "duration": 10,
    "start_time": "2025-04-23T19:29:38.318Z"
   },
   {
    "duration": 121,
    "start_time": "2025-04-23T19:29:38.330Z"
   },
   {
    "duration": 59,
    "start_time": "2025-04-23T19:29:38.453Z"
   },
   {
    "duration": 13,
    "start_time": "2025-04-23T19:29:38.513Z"
   },
   {
    "duration": 51,
    "start_time": "2025-04-23T19:29:38.528Z"
   },
   {
    "duration": 15,
    "start_time": "2025-04-23T19:29:38.582Z"
   },
   {
    "duration": 18,
    "start_time": "2025-04-23T19:29:38.600Z"
   },
   {
    "duration": 13,
    "start_time": "2025-04-23T19:29:38.620Z"
   },
   {
    "duration": 62,
    "start_time": "2025-04-23T19:29:38.634Z"
   },
   {
    "duration": 13,
    "start_time": "2025-04-23T19:29:38.697Z"
   },
   {
    "duration": 37,
    "start_time": "2025-04-23T19:29:38.711Z"
   },
   {
    "duration": 18,
    "start_time": "2025-04-23T19:29:38.750Z"
   },
   {
    "duration": 278,
    "start_time": "2025-04-23T19:29:38.771Z"
   },
   {
    "duration": 143,
    "start_time": "2025-04-23T19:29:39.051Z"
   },
   {
    "duration": 79,
    "start_time": "2025-04-23T19:29:39.196Z"
   },
   {
    "duration": 65,
    "start_time": "2025-04-23T19:29:39.277Z"
   },
   {
    "duration": 34,
    "start_time": "2025-04-23T19:29:39.344Z"
   },
   {
    "duration": 5,
    "start_time": "2025-04-23T19:29:39.381Z"
   },
   {
    "duration": 11,
    "start_time": "2025-04-23T19:29:39.388Z"
   },
   {
    "duration": 3,
    "start_time": "2025-04-23T19:29:39.404Z"
   },
   {
    "duration": 8,
    "start_time": "2025-04-23T19:29:39.409Z"
   },
   {
    "duration": 55,
    "start_time": "2025-04-23T19:29:39.419Z"
   },
   {
    "duration": 65,
    "start_time": "2025-04-23T19:29:39.476Z"
   },
   {
    "duration": 37,
    "start_time": "2025-04-23T19:29:39.543Z"
   },
   {
    "duration": 10,
    "start_time": "2025-04-23T19:29:39.582Z"
   },
   {
    "duration": 7,
    "start_time": "2025-04-23T19:29:39.594Z"
   },
   {
    "duration": 5,
    "start_time": "2025-04-23T19:29:39.604Z"
   },
   {
    "duration": 16,
    "start_time": "2025-04-23T19:29:39.611Z"
   },
   {
    "duration": 41,
    "start_time": "2025-04-23T19:29:39.630Z"
   },
   {
    "duration": 12,
    "start_time": "2025-04-23T19:29:39.673Z"
   },
   {
    "duration": 110,
    "start_time": "2025-04-23T19:29:39.687Z"
   },
   {
    "duration": 9,
    "start_time": "2025-04-23T19:29:39.799Z"
   },
   {
    "duration": 23,
    "start_time": "2025-04-23T19:29:39.810Z"
   },
   {
    "duration": 99,
    "start_time": "2025-04-23T19:29:39.834Z"
   },
   {
    "duration": 6,
    "start_time": "2025-04-23T19:29:39.934Z"
   },
   {
    "duration": 3392,
    "start_time": "2025-04-23T19:29:39.942Z"
   },
   {
    "duration": 114,
    "start_time": "2025-04-23T19:29:43.336Z"
   },
   {
    "duration": 120,
    "start_time": "2025-04-23T19:29:43.461Z"
   },
   {
    "duration": 114,
    "start_time": "2025-04-23T19:29:43.583Z"
   },
   {
    "duration": 2,
    "start_time": "2025-04-23T19:29:43.699Z"
   },
   {
    "duration": 11,
    "start_time": "2025-04-23T19:29:43.703Z"
   },
   {
    "duration": 14,
    "start_time": "2025-04-23T19:29:43.716Z"
   },
   {
    "duration": 3,
    "start_time": "2025-04-23T19:29:43.733Z"
   },
   {
    "duration": 3,
    "start_time": "2025-04-23T19:29:43.738Z"
   },
   {
    "duration": 17,
    "start_time": "2025-04-23T19:29:43.743Z"
   },
   {
    "duration": 35,
    "start_time": "2025-04-23T19:29:43.763Z"
   },
   {
    "duration": 100,
    "start_time": "2025-04-23T19:29:43.801Z"
   },
   {
    "duration": 369,
    "start_time": "2025-04-23T19:29:43.902Z"
   },
   {
    "duration": 46,
    "start_time": "2025-04-23T19:29:44.273Z"
   },
   {
    "duration": 9,
    "start_time": "2025-04-23T19:29:44.321Z"
   },
   {
    "duration": 63,
    "start_time": "2025-04-23T19:29:44.331Z"
   },
   {
    "duration": 21,
    "start_time": "2025-04-23T19:29:44.395Z"
   },
   {
    "duration": 67,
    "start_time": "2025-04-23T19:29:44.418Z"
   },
   {
    "duration": 101,
    "start_time": "2025-04-23T19:29:44.488Z"
   },
   {
    "duration": 87,
    "start_time": "2025-04-23T19:29:44.591Z"
   },
   {
    "duration": 48,
    "start_time": "2025-04-23T19:29:44.680Z"
   },
   {
    "duration": 114,
    "start_time": "2025-04-23T19:29:44.730Z"
   },
   {
    "duration": 28,
    "start_time": "2025-04-23T19:30:06.797Z"
   },
   {
    "duration": 74,
    "start_time": "2025-04-23T19:30:07.680Z"
   },
   {
    "duration": 331,
    "start_time": "2025-04-23T19:30:07.890Z"
   },
   {
    "duration": 51,
    "start_time": "2025-04-23T19:30:08.224Z"
   },
   {
    "duration": 8,
    "start_time": "2025-04-23T19:30:08.324Z"
   },
   {
    "duration": 29,
    "start_time": "2025-04-23T19:30:09.280Z"
   },
   {
    "duration": 21,
    "start_time": "2025-04-23T19:30:09.678Z"
   },
   {
    "duration": 41,
    "start_time": "2025-04-23T19:30:13.330Z"
   },
   {
    "duration": 89,
    "start_time": "2025-04-23T19:30:14.334Z"
   },
   {
    "duration": 93,
    "start_time": "2025-04-23T19:30:34.113Z"
   },
   {
    "duration": 92,
    "start_time": "2025-04-23T19:30:43.336Z"
   },
   {
    "duration": 20,
    "start_time": "2025-04-23T19:30:47.413Z"
   },
   {
    "duration": 87,
    "start_time": "2025-04-23T19:30:47.944Z"
   },
   {
    "duration": 98,
    "start_time": "2025-04-23T19:30:58.936Z"
   },
   {
    "duration": 37,
    "start_time": "2025-04-23T19:31:37.497Z"
   },
   {
    "duration": 84,
    "start_time": "2025-04-23T19:31:38.815Z"
   },
   {
    "duration": 38,
    "start_time": "2025-04-23T19:32:15.237Z"
   },
   {
    "duration": 80,
    "start_time": "2025-04-23T19:32:15.921Z"
   },
   {
    "duration": 37,
    "start_time": "2025-04-23T19:32:17.123Z"
   },
   {
    "duration": 70,
    "start_time": "2025-04-23T19:32:17.882Z"
   },
   {
    "duration": 36,
    "start_time": "2025-04-23T19:36:27.214Z"
   },
   {
    "duration": 71,
    "start_time": "2025-04-23T19:40:32.328Z"
   },
   {
    "duration": 36,
    "start_time": "2025-04-23T19:42:43.711Z"
   },
   {
    "duration": 69,
    "start_time": "2025-04-23T19:42:44.651Z"
   },
   {
    "duration": 38,
    "start_time": "2025-04-23T19:42:45.484Z"
   },
   {
    "duration": 72,
    "start_time": "2025-04-23T19:42:46.210Z"
   },
   {
    "duration": 36,
    "start_time": "2025-04-23T19:46:39.073Z"
   },
   {
    "duration": 20,
    "start_time": "2025-04-23T19:46:42.107Z"
   },
   {
    "duration": 7,
    "start_time": "2025-04-23T19:48:04.467Z"
   },
   {
    "duration": 75,
    "start_time": "2025-04-23T19:48:37.861Z"
   },
   {
    "duration": 77,
    "start_time": "2025-04-23T19:49:10.667Z"
   },
   {
    "duration": 6,
    "start_time": "2025-04-23T19:49:16.450Z"
   },
   {
    "duration": 282,
    "start_time": "2025-04-23T19:50:41.901Z"
   },
   {
    "duration": 77,
    "start_time": "2025-04-23T19:50:54.141Z"
   },
   {
    "duration": 26,
    "start_time": "2025-04-23T19:51:06.126Z"
   },
   {
    "duration": 288,
    "start_time": "2025-04-23T19:51:06.711Z"
   },
   {
    "duration": 79,
    "start_time": "2025-04-23T19:51:07.359Z"
   },
   {
    "duration": 19,
    "start_time": "2025-04-23T19:51:13.904Z"
   },
   {
    "duration": 282,
    "start_time": "2025-04-23T19:51:14.005Z"
   },
   {
    "duration": 76,
    "start_time": "2025-04-23T19:51:14.489Z"
   },
   {
    "duration": 34,
    "start_time": "2025-04-23T19:51:15.311Z"
   },
   {
    "duration": 9,
    "start_time": "2025-04-23T19:51:16.009Z"
   },
   {
    "duration": 80,
    "start_time": "2025-04-23T19:51:20.904Z"
   },
   {
    "duration": 784,
    "start_time": "2025-04-23T19:51:28.728Z"
   },
   {
    "duration": 2566,
    "start_time": "2025-04-23T19:51:29.514Z"
   },
   {
    "duration": 14,
    "start_time": "2025-04-23T19:51:32.082Z"
   },
   {
    "duration": 16,
    "start_time": "2025-04-23T19:51:32.099Z"
   },
   {
    "duration": 123,
    "start_time": "2025-04-23T19:51:32.117Z"
   },
   {
    "duration": 37,
    "start_time": "2025-04-23T19:51:32.242Z"
   },
   {
    "duration": 48,
    "start_time": "2025-04-23T19:51:32.281Z"
   },
   {
    "duration": 125,
    "start_time": "2025-04-23T19:51:32.331Z"
   },
   {
    "duration": 44,
    "start_time": "2025-04-23T19:51:32.461Z"
   },
   {
    "duration": 10,
    "start_time": "2025-04-23T19:51:32.508Z"
   },
   {
    "duration": 49,
    "start_time": "2025-04-23T19:51:32.519Z"
   },
   {
    "duration": 8,
    "start_time": "2025-04-23T19:51:32.570Z"
   },
   {
    "duration": 31,
    "start_time": "2025-04-23T19:51:32.580Z"
   },
   {
    "duration": 8,
    "start_time": "2025-04-23T19:51:32.613Z"
   },
   {
    "duration": 43,
    "start_time": "2025-04-23T19:51:32.623Z"
   },
   {
    "duration": 20,
    "start_time": "2025-04-23T19:51:32.668Z"
   },
   {
    "duration": 12,
    "start_time": "2025-04-23T19:51:32.690Z"
   },
   {
    "duration": 11,
    "start_time": "2025-04-23T19:51:32.704Z"
   },
   {
    "duration": 195,
    "start_time": "2025-04-23T19:51:32.717Z"
   },
   {
    "duration": 19,
    "start_time": "2025-04-23T19:51:32.914Z"
   },
   {
    "duration": 10,
    "start_time": "2025-04-23T19:51:32.935Z"
   },
   {
    "duration": 23,
    "start_time": "2025-04-23T19:51:32.947Z"
   },
   {
    "duration": 96,
    "start_time": "2025-04-23T19:51:32.972Z"
   },
   {
    "duration": 42,
    "start_time": "2025-04-23T19:51:33.070Z"
   },
   {
    "duration": 20,
    "start_time": "2025-04-23T19:51:33.113Z"
   },
   {
    "duration": 35,
    "start_time": "2025-04-23T19:51:33.135Z"
   },
   {
    "duration": 40,
    "start_time": "2025-04-23T19:51:33.172Z"
   },
   {
    "duration": 8,
    "start_time": "2025-04-23T19:51:33.217Z"
   },
   {
    "duration": 25,
    "start_time": "2025-04-23T19:51:33.227Z"
   },
   {
    "duration": 22,
    "start_time": "2025-04-23T19:51:33.254Z"
   },
   {
    "duration": 12,
    "start_time": "2025-04-23T19:51:33.278Z"
   },
   {
    "duration": 66,
    "start_time": "2025-04-23T19:51:33.292Z"
   },
   {
    "duration": 12,
    "start_time": "2025-04-23T19:51:33.360Z"
   },
   {
    "duration": 239,
    "start_time": "2025-04-23T19:51:33.374Z"
   },
   {
    "duration": 115,
    "start_time": "2025-04-23T19:51:33.615Z"
   },
   {
    "duration": 70,
    "start_time": "2025-04-23T19:51:33.732Z"
   },
   {
    "duration": 78,
    "start_time": "2025-04-23T19:51:33.803Z"
   },
   {
    "duration": 15,
    "start_time": "2025-04-23T19:51:33.883Z"
   },
   {
    "duration": 61,
    "start_time": "2025-04-23T19:51:33.899Z"
   },
   {
    "duration": 10,
    "start_time": "2025-04-23T19:51:33.962Z"
   },
   {
    "duration": 2,
    "start_time": "2025-04-23T19:51:33.974Z"
   },
   {
    "duration": 8,
    "start_time": "2025-04-23T19:51:33.978Z"
   },
   {
    "duration": 15,
    "start_time": "2025-04-23T19:51:33.988Z"
   },
   {
    "duration": 104,
    "start_time": "2025-04-23T19:51:34.005Z"
   },
   {
    "duration": 15,
    "start_time": "2025-04-23T19:51:34.111Z"
   },
   {
    "duration": 21,
    "start_time": "2025-04-23T19:51:34.127Z"
   },
   {
    "duration": 12,
    "start_time": "2025-04-23T19:51:34.150Z"
   },
   {
    "duration": 4,
    "start_time": "2025-04-23T19:51:34.164Z"
   },
   {
    "duration": 16,
    "start_time": "2025-04-23T19:51:34.170Z"
   },
   {
    "duration": 17,
    "start_time": "2025-04-23T19:51:34.188Z"
   },
   {
    "duration": 19,
    "start_time": "2025-04-23T19:51:34.207Z"
   },
   {
    "duration": 98,
    "start_time": "2025-04-23T19:51:34.228Z"
   },
   {
    "duration": 10,
    "start_time": "2025-04-23T19:51:34.327Z"
   },
   {
    "duration": 42,
    "start_time": "2025-04-23T19:51:34.339Z"
   },
   {
    "duration": 44,
    "start_time": "2025-04-23T19:51:34.383Z"
   },
   {
    "duration": 8,
    "start_time": "2025-04-23T19:51:34.429Z"
   },
   {
    "duration": 3404,
    "start_time": "2025-04-23T19:51:34.439Z"
   },
   {
    "duration": 105,
    "start_time": "2025-04-23T19:51:37.845Z"
   },
   {
    "duration": 82,
    "start_time": "2025-04-23T19:51:37.960Z"
   },
   {
    "duration": 117,
    "start_time": "2025-04-23T19:51:38.044Z"
   },
   {
    "duration": 3,
    "start_time": "2025-04-23T19:51:38.163Z"
   },
   {
    "duration": 3,
    "start_time": "2025-04-23T19:51:38.168Z"
   },
   {
    "duration": 5,
    "start_time": "2025-04-23T19:51:38.172Z"
   },
   {
    "duration": 4,
    "start_time": "2025-04-23T19:51:38.178Z"
   },
   {
    "duration": 4,
    "start_time": "2025-04-23T19:51:38.184Z"
   },
   {
    "duration": 4,
    "start_time": "2025-04-23T19:51:38.189Z"
   },
   {
    "duration": 27,
    "start_time": "2025-04-23T19:51:38.194Z"
   },
   {
    "duration": 378,
    "start_time": "2025-04-23T19:51:38.222Z"
   },
   {
    "duration": 84,
    "start_time": "2025-04-23T19:51:38.601Z"
   },
   {
    "duration": 35,
    "start_time": "2025-04-23T19:51:38.687Z"
   },
   {
    "duration": 9,
    "start_time": "2025-04-23T19:51:38.724Z"
   },
   {
    "duration": 98,
    "start_time": "2025-04-23T19:51:38.735Z"
   },
   {
    "duration": 22,
    "start_time": "2025-04-23T19:51:38.835Z"
   },
   {
    "duration": 41,
    "start_time": "2025-04-23T19:51:38.859Z"
   },
   {
    "duration": 103,
    "start_time": "2025-04-23T19:51:38.902Z"
   },
   {
    "duration": 9,
    "start_time": "2025-04-23T19:51:39.008Z"
   },
   {
    "duration": 24,
    "start_time": "2025-04-23T19:51:39.019Z"
   },
   {
    "duration": 24,
    "start_time": "2025-04-23T19:51:39.060Z"
   },
   {
    "duration": 23,
    "start_time": "2025-04-23T19:52:02.058Z"
   },
   {
    "duration": 309,
    "start_time": "2025-04-23T19:52:02.661Z"
   },
   {
    "duration": 79,
    "start_time": "2025-04-23T19:52:03.137Z"
   },
   {
    "duration": 21,
    "start_time": "2025-04-23T19:52:10.136Z"
   },
   {
    "duration": 296,
    "start_time": "2025-04-23T19:52:10.728Z"
   },
   {
    "duration": 77,
    "start_time": "2025-04-23T19:52:11.127Z"
   },
   {
    "duration": 738,
    "start_time": "2025-04-23T19:52:35.106Z"
   },
   {
    "duration": 2304,
    "start_time": "2025-04-23T19:52:35.894Z"
   },
   {
    "duration": 15,
    "start_time": "2025-04-23T19:52:38.200Z"
   },
   {
    "duration": 15,
    "start_time": "2025-04-23T19:52:38.218Z"
   },
   {
    "duration": 109,
    "start_time": "2025-04-23T19:52:41.510Z"
   },
   {
    "duration": 29,
    "start_time": "2025-04-23T19:52:42.978Z"
   },
   {
    "duration": 66,
    "start_time": "2025-04-23T19:52:44.248Z"
   },
   {
    "duration": 134,
    "start_time": "2025-04-23T19:52:44.888Z"
   },
   {
    "duration": 71,
    "start_time": "2025-04-23T19:52:45.737Z"
   },
   {
    "duration": 12,
    "start_time": "2025-04-23T19:52:45.954Z"
   },
   {
    "duration": 31,
    "start_time": "2025-04-23T19:52:46.840Z"
   },
   {
    "duration": 10,
    "start_time": "2025-04-23T19:52:47.055Z"
   },
   {
    "duration": 45,
    "start_time": "2025-04-23T19:52:47.904Z"
   },
   {
    "duration": 14,
    "start_time": "2025-04-23T19:52:48.121Z"
   },
   {
    "duration": 25,
    "start_time": "2025-04-23T19:52:48.988Z"
   },
   {
    "duration": 12,
    "start_time": "2025-04-23T19:52:49.205Z"
   },
   {
    "duration": 11,
    "start_time": "2025-04-23T19:52:50.130Z"
   },
   {
    "duration": 7,
    "start_time": "2025-04-23T19:52:50.355Z"
   },
   {
    "duration": 164,
    "start_time": "2025-04-23T19:52:51.773Z"
   },
   {
    "duration": 19,
    "start_time": "2025-04-23T19:52:51.987Z"
   },
   {
    "duration": 8,
    "start_time": "2025-04-23T19:52:52.238Z"
   },
   {
    "duration": 11,
    "start_time": "2025-04-23T19:52:52.739Z"
   },
   {
    "duration": 79,
    "start_time": "2025-04-23T19:52:53.541Z"
   },
   {
    "duration": 40,
    "start_time": "2025-04-23T19:52:54.226Z"
   },
   {
    "duration": 13,
    "start_time": "2025-04-23T19:52:55.043Z"
   },
   {
    "duration": 28,
    "start_time": "2025-04-23T19:52:55.711Z"
   },
   {
    "duration": 10,
    "start_time": "2025-04-23T19:52:56.144Z"
   },
   {
    "duration": 8,
    "start_time": "2025-04-23T19:52:56.605Z"
   },
   {
    "duration": 12,
    "start_time": "2025-04-23T19:52:58.710Z"
   },
   {
    "duration": 21,
    "start_time": "2025-04-23T19:52:59.218Z"
   },
   {
    "duration": 12,
    "start_time": "2025-04-23T19:52:59.576Z"
   },
   {
    "duration": 4,
    "start_time": "2025-04-23T19:52:59.856Z"
   },
   {
    "duration": 12,
    "start_time": "2025-04-23T19:53:00.113Z"
   },
   {
    "duration": 232,
    "start_time": "2025-04-23T19:53:00.370Z"
   },
   {
    "duration": 103,
    "start_time": "2025-04-23T19:53:03.388Z"
   },
   {
    "duration": 65,
    "start_time": "2025-04-23T19:53:03.603Z"
   },
   {
    "duration": 60,
    "start_time": "2025-04-23T19:53:03.820Z"
   },
   {
    "duration": 18,
    "start_time": "2025-04-23T19:53:04.296Z"
   },
   {
    "duration": 4,
    "start_time": "2025-04-23T19:53:04.559Z"
   },
   {
    "duration": 9,
    "start_time": "2025-04-23T19:53:04.737Z"
   },
   {
    "duration": 2,
    "start_time": "2025-04-23T19:53:04.972Z"
   },
   {
    "duration": 6,
    "start_time": "2025-04-23T19:53:05.205Z"
   },
   {
    "duration": 19,
    "start_time": "2025-04-23T19:53:05.439Z"
   },
   {
    "duration": 73,
    "start_time": "2025-04-23T19:53:05.669Z"
   },
   {
    "duration": 25,
    "start_time": "2025-04-23T19:53:05.922Z"
   },
   {
    "duration": 12,
    "start_time": "2025-04-23T19:53:06.272Z"
   },
   {
    "duration": 11,
    "start_time": "2025-04-23T19:53:06.678Z"
   },
   {
    "duration": 5,
    "start_time": "2025-04-23T19:53:07.099Z"
   },
   {
    "duration": 11,
    "start_time": "2025-04-23T19:53:07.848Z"
   },
   {
    "duration": 9,
    "start_time": "2025-04-23T19:53:09.526Z"
   },
   {
    "duration": 9,
    "start_time": "2025-04-23T19:53:09.854Z"
   },
   {
    "duration": 81,
    "start_time": "2025-04-23T19:53:10.421Z"
   },
   {
    "duration": 9,
    "start_time": "2025-04-23T19:53:10.759Z"
   },
   {
    "duration": 25,
    "start_time": "2025-04-23T19:53:14.074Z"
   },
   {
    "duration": 32,
    "start_time": "2025-04-23T19:53:14.364Z"
   },
   {
    "duration": 5,
    "start_time": "2025-04-23T19:53:14.604Z"
   },
   {
    "duration": 3342,
    "start_time": "2025-04-23T19:53:15.925Z"
   },
   {
    "duration": 56,
    "start_time": "2025-04-23T19:53:29.549Z"
   },
   {
    "duration": 339,
    "start_time": "2025-04-23T19:53:30.393Z"
   },
   {
    "duration": 78,
    "start_time": "2025-04-23T19:53:39.925Z"
   },
   {
    "duration": 683,
    "start_time": "2025-04-23T19:59:16.205Z"
   },
   {
    "duration": 2221,
    "start_time": "2025-04-23T19:59:16.891Z"
   },
   {
    "duration": 13,
    "start_time": "2025-04-23T19:59:19.115Z"
   },
   {
    "duration": 13,
    "start_time": "2025-04-23T19:59:19.131Z"
   },
   {
    "duration": 108,
    "start_time": "2025-04-23T19:59:19.146Z"
   },
   {
    "duration": 30,
    "start_time": "2025-04-23T19:59:19.256Z"
   },
   {
    "duration": 48,
    "start_time": "2025-04-23T19:59:19.288Z"
   },
   {
    "duration": 114,
    "start_time": "2025-04-23T19:59:19.361Z"
   },
   {
    "duration": 44,
    "start_time": "2025-04-23T19:59:19.477Z"
   },
   {
    "duration": 10,
    "start_time": "2025-04-23T19:59:19.524Z"
   },
   {
    "duration": 22,
    "start_time": "2025-04-23T19:59:19.560Z"
   },
   {
    "duration": 8,
    "start_time": "2025-04-23T19:59:19.584Z"
   },
   {
    "duration": 37,
    "start_time": "2025-04-23T19:59:19.594Z"
   },
   {
    "duration": 9,
    "start_time": "2025-04-23T19:59:19.632Z"
   },
   {
    "duration": 31,
    "start_time": "2025-04-23T19:59:19.643Z"
   },
   {
    "duration": 12,
    "start_time": "2025-04-23T19:59:19.677Z"
   },
   {
    "duration": 11,
    "start_time": "2025-04-23T19:59:19.691Z"
   },
   {
    "duration": 7,
    "start_time": "2025-04-23T19:59:19.705Z"
   },
   {
    "duration": 204,
    "start_time": "2025-04-23T19:59:19.714Z"
   },
   {
    "duration": 19,
    "start_time": "2025-04-23T19:59:19.919Z"
   },
   {
    "duration": 31,
    "start_time": "2025-04-23T19:59:19.941Z"
   },
   {
    "duration": 10,
    "start_time": "2025-04-23T19:59:19.974Z"
   },
   {
    "duration": 86,
    "start_time": "2025-04-23T19:59:19.986Z"
   },
   {
    "duration": 39,
    "start_time": "2025-04-23T19:59:20.074Z"
   },
   {
    "duration": 14,
    "start_time": "2025-04-23T19:59:20.114Z"
   },
   {
    "duration": 45,
    "start_time": "2025-04-23T19:59:20.130Z"
   },
   {
    "duration": 11,
    "start_time": "2025-04-23T19:59:20.177Z"
   },
   {
    "duration": 7,
    "start_time": "2025-04-23T19:59:20.192Z"
   },
   {
    "duration": 11,
    "start_time": "2025-04-23T19:59:20.201Z"
   },
   {
    "duration": 49,
    "start_time": "2025-04-23T19:59:20.214Z"
   },
   {
    "duration": 12,
    "start_time": "2025-04-23T19:59:20.265Z"
   },
   {
    "duration": 4,
    "start_time": "2025-04-23T19:59:20.279Z"
   },
   {
    "duration": 14,
    "start_time": "2025-04-23T19:59:20.285Z"
   },
   {
    "duration": 246,
    "start_time": "2025-04-23T19:59:20.301Z"
   },
   {
    "duration": 104,
    "start_time": "2025-04-23T19:59:20.549Z"
   },
   {
    "duration": 64,
    "start_time": "2025-04-23T19:59:20.659Z"
   },
   {
    "duration": 72,
    "start_time": "2025-04-23T19:59:20.725Z"
   },
   {
    "duration": 67,
    "start_time": "2025-04-23T19:59:20.799Z"
   },
   {
    "duration": 4,
    "start_time": "2025-04-23T19:59:20.868Z"
   },
   {
    "duration": 26,
    "start_time": "2025-04-23T19:59:20.874Z"
   },
   {
    "duration": 12,
    "start_time": "2025-04-23T19:59:20.901Z"
   },
   {
    "duration": 6,
    "start_time": "2025-04-23T19:59:20.915Z"
   },
   {
    "duration": 14,
    "start_time": "2025-04-23T19:59:20.923Z"
   },
   {
    "duration": 80,
    "start_time": "2025-04-23T19:59:20.939Z"
   },
   {
    "duration": 15,
    "start_time": "2025-04-23T19:59:21.021Z"
   },
   {
    "duration": 26,
    "start_time": "2025-04-23T19:59:21.038Z"
   },
   {
    "duration": 11,
    "start_time": "2025-04-23T19:59:21.066Z"
   },
   {
    "duration": 5,
    "start_time": "2025-04-23T19:59:21.080Z"
   },
   {
    "duration": 22,
    "start_time": "2025-04-23T19:59:21.087Z"
   },
   {
    "duration": 19,
    "start_time": "2025-04-23T19:59:21.111Z"
   },
   {
    "duration": 38,
    "start_time": "2025-04-23T19:59:21.132Z"
   },
   {
    "duration": 170,
    "start_time": "2025-04-23T19:59:21.172Z"
   },
   {
    "duration": 9,
    "start_time": "2025-04-23T19:59:21.343Z"
   },
   {
    "duration": 32,
    "start_time": "2025-04-23T19:59:21.354Z"
   },
   {
    "duration": 41,
    "start_time": "2025-04-23T19:59:21.388Z"
   },
   {
    "duration": 42,
    "start_time": "2025-04-23T19:59:21.431Z"
   },
   {
    "duration": 3168,
    "start_time": "2025-04-23T19:59:21.475Z"
   },
   {
    "duration": 99,
    "start_time": "2025-04-23T19:59:24.645Z"
   },
   {
    "duration": 94,
    "start_time": "2025-04-23T19:59:24.745Z"
   },
   {
    "duration": 126,
    "start_time": "2025-04-23T19:59:24.841Z"
   },
   {
    "duration": 3,
    "start_time": "2025-04-23T19:59:24.968Z"
   },
   {
    "duration": 5,
    "start_time": "2025-04-23T19:59:24.973Z"
   },
   {
    "duration": 6,
    "start_time": "2025-04-23T19:59:24.981Z"
   },
   {
    "duration": 3,
    "start_time": "2025-04-23T19:59:24.989Z"
   },
   {
    "duration": 15,
    "start_time": "2025-04-23T19:59:24.993Z"
   },
   {
    "duration": 4,
    "start_time": "2025-04-23T19:59:25.010Z"
   },
   {
    "duration": 60,
    "start_time": "2025-04-23T19:59:25.016Z"
   },
   {
    "duration": 346,
    "start_time": "2025-04-23T19:59:25.077Z"
   },
   {
    "duration": 90,
    "start_time": "2025-04-23T19:59:25.425Z"
   },
   {
    "duration": 47,
    "start_time": "2025-04-23T19:59:25.517Z"
   },
   {
    "duration": 8,
    "start_time": "2025-04-23T19:59:25.566Z"
   },
   {
    "duration": 30,
    "start_time": "2025-04-23T19:59:25.576Z"
   },
   {
    "duration": 78,
    "start_time": "2025-04-23T19:59:25.607Z"
   },
   {
    "duration": 40,
    "start_time": "2025-04-23T19:59:25.687Z"
   },
   {
    "duration": 114,
    "start_time": "2025-04-23T19:59:25.729Z"
   },
   {
    "duration": 16,
    "start_time": "2025-04-23T19:59:25.845Z"
   },
   {
    "duration": 21,
    "start_time": "2025-04-23T19:59:25.863Z"
   },
   {
    "duration": 19,
    "start_time": "2025-04-23T19:59:25.886Z"
   },
   {
    "duration": 28,
    "start_time": "2025-04-23T19:59:37.872Z"
   },
   {
    "duration": 277,
    "start_time": "2025-04-23T19:59:38.438Z"
   },
   {
    "duration": 76,
    "start_time": "2025-04-23T19:59:39.123Z"
   },
   {
    "duration": 75,
    "start_time": "2025-04-23T19:59:42.361Z"
   },
   {
    "duration": 21,
    "start_time": "2025-04-23T19:59:46.307Z"
   },
   {
    "duration": 283,
    "start_time": "2025-04-23T19:59:46.857Z"
   },
   {
    "duration": 76,
    "start_time": "2025-04-23T19:59:47.582Z"
   },
   {
    "duration": 25,
    "start_time": "2025-04-23T20:00:16.513Z"
   },
   {
    "duration": 77,
    "start_time": "2025-04-23T20:00:36.770Z"
   },
   {
    "duration": 105,
    "start_time": "2025-04-23T20:02:56.425Z"
   },
   {
    "duration": 287,
    "start_time": "2025-04-23T20:03:06.936Z"
   },
   {
    "duration": 268,
    "start_time": "2025-04-23T20:05:23.104Z"
   },
   {
    "duration": 80,
    "start_time": "2025-04-23T20:05:38.303Z"
   },
   {
    "duration": 25,
    "start_time": "2025-04-23T20:06:40.555Z"
   },
   {
    "duration": 33,
    "start_time": "2025-04-23T20:06:52.358Z"
   },
   {
    "duration": 79,
    "start_time": "2025-04-23T20:06:58.451Z"
   },
   {
    "duration": 80,
    "start_time": "2025-04-23T20:07:38.143Z"
   },
   {
    "duration": 67,
    "start_time": "2025-04-23T20:08:23.505Z"
   },
   {
    "duration": 35,
    "start_time": "2025-04-23T20:08:27.490Z"
   },
   {
    "duration": 65,
    "start_time": "2025-04-23T20:08:46.091Z"
   },
   {
    "duration": 65,
    "start_time": "2025-04-23T20:08:52.224Z"
   },
   {
    "duration": 4,
    "start_time": "2025-04-23T20:09:31.457Z"
   },
   {
    "duration": 66,
    "start_time": "2025-04-23T20:09:31.978Z"
   },
   {
    "duration": 4,
    "start_time": "2025-04-23T20:09:42.981Z"
   },
   {
    "duration": 5,
    "start_time": "2025-04-23T20:10:07.371Z"
   },
   {
    "duration": 29,
    "start_time": "2025-04-23T20:10:41.366Z"
   },
   {
    "duration": 29,
    "start_time": "2025-04-23T20:10:43.499Z"
   },
   {
    "duration": 8,
    "start_time": "2025-04-23T20:12:47.824Z"
   },
   {
    "duration": 28,
    "start_time": "2025-04-23T20:12:48.410Z"
   },
   {
    "duration": 20,
    "start_time": "2025-04-23T20:12:53.625Z"
   },
   {
    "duration": 15,
    "start_time": "2025-04-23T20:14:08.424Z"
   },
   {
    "duration": 210,
    "start_time": "2025-04-23T20:14:18.391Z"
   },
   {
    "duration": 24,
    "start_time": "2025-04-23T20:14:19.424Z"
   },
   {
    "duration": 67,
    "start_time": "2025-04-23T20:14:24.690Z"
   },
   {
    "duration": 3,
    "start_time": "2025-04-23T20:14:25.242Z"
   },
   {
    "duration": 2,
    "start_time": "2025-04-23T20:14:26.377Z"
   },
   {
    "duration": 3,
    "start_time": "2025-04-23T20:14:26.708Z"
   },
   {
    "duration": 18,
    "start_time": "2025-04-23T20:14:27.758Z"
   },
   {
    "duration": 30,
    "start_time": "2025-04-23T20:14:28.614Z"
   },
   {
    "duration": 21,
    "start_time": "2025-04-23T20:14:29.407Z"
   },
   {
    "duration": 19,
    "start_time": "2025-04-23T20:22:38.972Z"
   },
   {
    "duration": 8,
    "start_time": "2025-04-23T20:23:04.506Z"
   },
   {
    "duration": 7,
    "start_time": "2025-04-23T20:25:56.685Z"
   },
   {
    "duration": 18,
    "start_time": "2025-04-23T20:26:25.737Z"
   },
   {
    "duration": 4,
    "start_time": "2025-04-23T20:26:38.592Z"
   },
   {
    "duration": 64,
    "start_time": "2025-04-23T20:26:49.897Z"
   },
   {
    "duration": 29,
    "start_time": "2025-04-23T20:27:17.476Z"
   },
   {
    "duration": 37,
    "start_time": "2025-04-23T20:27:24.713Z"
   },
   {
    "duration": 31,
    "start_time": "2025-04-23T20:27:26.385Z"
   },
   {
    "duration": 10,
    "start_time": "2025-04-23T20:27:41.760Z"
   },
   {
    "duration": 30,
    "start_time": "2025-04-23T20:28:04.229Z"
   },
   {
    "duration": 5,
    "start_time": "2025-04-23T20:28:58.392Z"
   },
   {
    "duration": 7,
    "start_time": "2025-04-23T20:29:34.578Z"
   },
   {
    "duration": 19,
    "start_time": "2025-04-23T20:36:44.991Z"
   },
   {
    "duration": 215,
    "start_time": "2025-04-23T20:39:31.002Z"
   },
   {
    "duration": 162,
    "start_time": "2025-04-23T20:39:58.490Z"
   },
   {
    "duration": 237,
    "start_time": "2025-04-23T20:40:05.806Z"
   },
   {
    "duration": 346,
    "start_time": "2025-04-23T20:41:42.742Z"
   },
   {
    "duration": 300,
    "start_time": "2025-04-23T20:41:54.749Z"
   },
   {
    "duration": 140,
    "start_time": "2025-04-23T20:44:04.838Z"
   },
   {
    "duration": 213,
    "start_time": "2025-04-23T20:44:22.602Z"
   },
   {
    "duration": 163,
    "start_time": "2025-04-23T20:44:29.480Z"
   },
   {
    "duration": 13,
    "start_time": "2025-04-23T20:58:40.386Z"
   },
   {
    "duration": 224,
    "start_time": "2025-04-23T20:59:26.867Z"
   },
   {
    "duration": 128,
    "start_time": "2025-04-23T21:00:46.358Z"
   },
   {
    "duration": 156,
    "start_time": "2025-04-23T21:03:22.288Z"
   },
   {
    "duration": 128,
    "start_time": "2025-04-23T21:06:03.451Z"
   },
   {
    "duration": 222,
    "start_time": "2025-04-23T21:06:24.636Z"
   },
   {
    "duration": 251,
    "start_time": "2025-04-23T21:06:47.648Z"
   },
   {
    "duration": 246,
    "start_time": "2025-04-23T21:07:02.157Z"
   },
   {
    "duration": 708,
    "start_time": "2025-04-23T21:10:00.014Z"
   },
   {
    "duration": 17,
    "start_time": "2025-04-23T21:12:17.971Z"
   },
   {
    "duration": 693,
    "start_time": "2025-04-23T21:13:57.176Z"
   },
   {
    "duration": 2642,
    "start_time": "2025-04-23T21:13:57.871Z"
   },
   {
    "duration": 14,
    "start_time": "2025-04-23T21:14:00.515Z"
   },
   {
    "duration": 17,
    "start_time": "2025-04-23T21:14:00.531Z"
   },
   {
    "duration": 110,
    "start_time": "2025-04-23T21:14:00.550Z"
   },
   {
    "duration": 27,
    "start_time": "2025-04-23T21:14:00.662Z"
   },
   {
    "duration": 72,
    "start_time": "2025-04-23T21:14:00.691Z"
   },
   {
    "duration": 115,
    "start_time": "2025-04-23T21:14:00.766Z"
   },
   {
    "duration": 42,
    "start_time": "2025-04-23T21:14:00.883Z"
   },
   {
    "duration": 35,
    "start_time": "2025-04-23T21:14:00.927Z"
   },
   {
    "duration": 39,
    "start_time": "2025-04-23T21:14:00.964Z"
   },
   {
    "duration": 13,
    "start_time": "2025-04-23T21:14:01.005Z"
   },
   {
    "duration": 26,
    "start_time": "2025-04-23T21:14:01.020Z"
   },
   {
    "duration": 9,
    "start_time": "2025-04-23T21:14:01.060Z"
   },
   {
    "duration": 15,
    "start_time": "2025-04-23T21:14:01.070Z"
   },
   {
    "duration": 11,
    "start_time": "2025-04-23T21:14:01.087Z"
   },
   {
    "duration": 19,
    "start_time": "2025-04-23T21:14:01.099Z"
   },
   {
    "duration": 7,
    "start_time": "2025-04-23T21:14:01.120Z"
   },
   {
    "duration": 188,
    "start_time": "2025-04-23T21:14:01.162Z"
   },
   {
    "duration": 23,
    "start_time": "2025-04-23T21:14:01.352Z"
   },
   {
    "duration": 25,
    "start_time": "2025-04-23T21:14:01.377Z"
   },
   {
    "duration": 52,
    "start_time": "2025-04-23T21:14:01.404Z"
   },
   {
    "duration": 84,
    "start_time": "2025-04-23T21:14:01.461Z"
   },
   {
    "duration": 54,
    "start_time": "2025-04-23T21:14:01.548Z"
   },
   {
    "duration": 22,
    "start_time": "2025-04-23T21:14:01.605Z"
   },
   {
    "duration": 47,
    "start_time": "2025-04-23T21:14:01.629Z"
   },
   {
    "duration": 18,
    "start_time": "2025-04-23T21:14:01.678Z"
   },
   {
    "duration": 18,
    "start_time": "2025-04-23T21:14:01.698Z"
   },
   {
    "duration": 16,
    "start_time": "2025-04-23T21:14:01.717Z"
   },
   {
    "duration": 42,
    "start_time": "2025-04-23T21:14:01.735Z"
   },
   {
    "duration": 12,
    "start_time": "2025-04-23T21:14:01.779Z"
   },
   {
    "duration": 3,
    "start_time": "2025-04-23T21:14:01.793Z"
   },
   {
    "duration": 16,
    "start_time": "2025-04-23T21:14:01.798Z"
   },
   {
    "duration": 254,
    "start_time": "2025-04-23T21:14:01.816Z"
   },
   {
    "duration": 107,
    "start_time": "2025-04-23T21:14:02.072Z"
   },
   {
    "duration": 64,
    "start_time": "2025-04-23T21:14:02.181Z"
   },
   {
    "duration": 72,
    "start_time": "2025-04-23T21:14:02.247Z"
   },
   {
    "duration": 16,
    "start_time": "2025-04-23T21:14:02.321Z"
   },
   {
    "duration": 22,
    "start_time": "2025-04-23T21:14:02.339Z"
   },
   {
    "duration": 15,
    "start_time": "2025-04-23T21:14:02.362Z"
   },
   {
    "duration": 3,
    "start_time": "2025-04-23T21:14:02.379Z"
   },
   {
    "duration": 7,
    "start_time": "2025-04-23T21:14:02.384Z"
   },
   {
    "duration": 15,
    "start_time": "2025-04-23T21:14:02.393Z"
   },
   {
    "duration": 100,
    "start_time": "2025-04-23T21:14:02.409Z"
   },
   {
    "duration": 15,
    "start_time": "2025-04-23T21:14:02.511Z"
   },
   {
    "duration": 13,
    "start_time": "2025-04-23T21:14:02.527Z"
   },
   {
    "duration": 24,
    "start_time": "2025-04-23T21:14:02.542Z"
   },
   {
    "duration": 22,
    "start_time": "2025-04-23T21:14:02.567Z"
   },
   {
    "duration": 24,
    "start_time": "2025-04-23T21:14:02.591Z"
   },
   {
    "duration": 21,
    "start_time": "2025-04-23T21:14:02.617Z"
   },
   {
    "duration": 10,
    "start_time": "2025-04-23T21:14:02.640Z"
   },
   {
    "duration": 82,
    "start_time": "2025-04-23T21:14:02.660Z"
   },
   {
    "duration": 8,
    "start_time": "2025-04-23T21:14:02.744Z"
   },
   {
    "duration": 27,
    "start_time": "2025-04-23T21:14:02.754Z"
   },
   {
    "duration": 43,
    "start_time": "2025-04-23T21:14:02.783Z"
   },
   {
    "duration": 14,
    "start_time": "2025-04-23T21:14:02.828Z"
   },
   {
    "duration": 3310,
    "start_time": "2025-04-23T21:14:02.844Z"
   },
   {
    "duration": 102,
    "start_time": "2025-04-23T21:14:06.160Z"
   },
   {
    "duration": 80,
    "start_time": "2025-04-23T21:14:06.263Z"
   },
   {
    "duration": 121,
    "start_time": "2025-04-23T21:14:06.345Z"
   },
   {
    "duration": 26,
    "start_time": "2025-04-23T21:14:06.468Z"
   },
   {
    "duration": 369,
    "start_time": "2025-04-23T21:14:06.496Z"
   },
   {
    "duration": 27,
    "start_time": "2025-04-23T21:14:06.866Z"
   },
   {
    "duration": 83,
    "start_time": "2025-04-23T21:14:06.895Z"
   },
   {
    "duration": 7,
    "start_time": "2025-04-23T21:14:06.980Z"
   },
   {
    "duration": 67,
    "start_time": "2025-04-23T21:14:06.989Z"
   },
   {
    "duration": 3,
    "start_time": "2025-04-23T21:14:07.058Z"
   },
   {
    "duration": 6,
    "start_time": "2025-04-23T21:14:07.066Z"
   },
   {
    "duration": 13,
    "start_time": "2025-04-23T21:14:07.073Z"
   },
   {
    "duration": 44,
    "start_time": "2025-04-23T21:14:07.088Z"
   },
   {
    "duration": 30,
    "start_time": "2025-04-23T21:14:07.134Z"
   },
   {
    "duration": 25,
    "start_time": "2025-04-23T21:14:07.167Z"
   },
   {
    "duration": 29,
    "start_time": "2025-04-23T21:14:07.194Z"
   },
   {
    "duration": 39,
    "start_time": "2025-04-23T21:14:07.225Z"
   },
   {
    "duration": 627,
    "start_time": "2025-04-23T21:14:07.267Z"
   },
   {
    "duration": 294,
    "start_time": "2025-04-23T21:14:07.896Z"
   },
   {
    "duration": 134497,
    "start_time": "2025-04-23T21:14:08.192Z"
   },
   {
    "duration": 130,
    "start_time": "2025-04-23T21:16:22.692Z"
   },
   {
    "duration": 274,
    "start_time": "2025-04-23T21:20:06.123Z"
   },
   {
    "duration": 95,
    "start_time": "2025-04-23T21:23:11.787Z"
   },
   {
    "duration": 12,
    "start_time": "2025-04-23T21:24:04.080Z"
   },
   {
    "duration": 26,
    "start_time": "2025-04-23T21:24:12.841Z"
   },
   {
    "duration": 268,
    "start_time": "2025-04-23T21:27:19.852Z"
   },
   {
    "duration": 249,
    "start_time": "2025-04-23T21:29:02.391Z"
   },
   {
    "duration": 10,
    "start_time": "2025-04-23T22:38:14.234Z"
   },
   {
    "duration": 4,
    "start_time": "2025-04-23T22:38:18.010Z"
   },
   {
    "duration": 40,
    "start_time": "2025-04-23T22:38:31.091Z"
   },
   {
    "duration": 22,
    "start_time": "2025-04-23T22:38:31.979Z"
   },
   {
    "duration": 47,
    "start_time": "2025-04-23T22:39:03.828Z"
   },
   {
    "duration": 33,
    "start_time": "2025-04-23T22:39:04.527Z"
   },
   {
    "duration": 29,
    "start_time": "2025-04-23T22:39:15.279Z"
   },
   {
    "duration": 27,
    "start_time": "2025-04-23T22:44:32.241Z"
   },
   {
    "duration": 15,
    "start_time": "2025-04-23T22:44:53.336Z"
   },
   {
    "duration": 21,
    "start_time": "2025-04-23T22:46:14.395Z"
   },
   {
    "duration": 5,
    "start_time": "2025-04-23T22:47:03.573Z"
   },
   {
    "duration": 7,
    "start_time": "2025-04-23T22:47:40.246Z"
   },
   {
    "duration": 5,
    "start_time": "2025-04-23T22:48:00.879Z"
   },
   {
    "duration": 55,
    "start_time": "2025-04-25T09:11:09.486Z"
   },
   {
    "duration": 27647,
    "start_time": "2025-04-25T09:11:23.881Z"
   },
   {
    "duration": 2092,
    "start_time": "2025-04-25T09:11:51.531Z"
   },
   {
    "duration": 15,
    "start_time": "2025-04-25T09:11:53.625Z"
   },
   {
    "duration": 50,
    "start_time": "2025-04-25T09:11:53.642Z"
   },
   {
    "duration": 112,
    "start_time": "2025-04-25T09:11:53.695Z"
   },
   {
    "duration": 44,
    "start_time": "2025-04-25T09:11:53.808Z"
   },
   {
    "duration": 56,
    "start_time": "2025-04-25T09:11:53.854Z"
   },
   {
    "duration": 108,
    "start_time": "2025-04-25T09:11:53.912Z"
   },
   {
    "duration": 43,
    "start_time": "2025-04-25T09:11:54.021Z"
   },
   {
    "duration": 9,
    "start_time": "2025-04-25T09:11:54.065Z"
   },
   {
    "duration": 39,
    "start_time": "2025-04-25T09:11:54.076Z"
   },
   {
    "duration": 8,
    "start_time": "2025-04-25T09:11:54.116Z"
   },
   {
    "duration": 27,
    "start_time": "2025-04-25T09:11:54.126Z"
   },
   {
    "duration": 8,
    "start_time": "2025-04-25T09:11:54.157Z"
   },
   {
    "duration": 40,
    "start_time": "2025-04-25T09:11:54.167Z"
   },
   {
    "duration": 11,
    "start_time": "2025-04-25T09:11:54.208Z"
   },
   {
    "duration": 12,
    "start_time": "2025-04-25T09:11:54.221Z"
   },
   {
    "duration": 7,
    "start_time": "2025-04-25T09:11:54.235Z"
   },
   {
    "duration": 176,
    "start_time": "2025-04-25T09:11:54.244Z"
   },
   {
    "duration": 19,
    "start_time": "2025-04-25T09:11:54.422Z"
   },
   {
    "duration": 11,
    "start_time": "2025-04-25T09:11:54.443Z"
   },
   {
    "duration": 13,
    "start_time": "2025-04-25T09:11:54.456Z"
   },
   {
    "duration": 102,
    "start_time": "2025-04-25T09:11:54.471Z"
   },
   {
    "duration": 43,
    "start_time": "2025-04-25T09:11:54.574Z"
   },
   {
    "duration": 132,
    "start_time": "2025-04-25T09:11:54.618Z"
   },
   {
    "duration": 27,
    "start_time": "2025-04-25T09:11:54.752Z"
   },
   {
    "duration": 26,
    "start_time": "2025-04-25T09:11:54.781Z"
   },
   {
    "duration": 32,
    "start_time": "2025-04-25T09:11:54.808Z"
   },
   {
    "duration": 32,
    "start_time": "2025-04-25T09:11:54.841Z"
   },
   {
    "duration": 35,
    "start_time": "2025-04-25T09:11:54.875Z"
   },
   {
    "duration": 12,
    "start_time": "2025-04-25T09:11:54.913Z"
   },
   {
    "duration": 15,
    "start_time": "2025-04-25T09:11:54.927Z"
   },
   {
    "duration": 110,
    "start_time": "2025-04-25T09:11:54.943Z"
   },
   {
    "duration": 248,
    "start_time": "2025-04-25T09:11:55.056Z"
   },
   {
    "duration": 110,
    "start_time": "2025-04-25T09:11:55.307Z"
   },
   {
    "duration": 66,
    "start_time": "2025-04-25T09:11:55.419Z"
   },
   {
    "duration": 80,
    "start_time": "2025-04-25T09:11:55.487Z"
   },
   {
    "duration": 37,
    "start_time": "2025-04-25T09:11:55.569Z"
   },
   {
    "duration": 5,
    "start_time": "2025-04-25T09:11:55.608Z"
   },
   {
    "duration": 19,
    "start_time": "2025-04-25T09:11:55.615Z"
   },
   {
    "duration": 15,
    "start_time": "2025-04-25T09:11:55.639Z"
   },
   {
    "duration": 14,
    "start_time": "2025-04-25T09:11:55.656Z"
   },
   {
    "duration": 22,
    "start_time": "2025-04-25T09:11:55.672Z"
   },
   {
    "duration": 82,
    "start_time": "2025-04-25T09:11:55.696Z"
   },
   {
    "duration": 65,
    "start_time": "2025-04-25T09:11:55.780Z"
   },
   {
    "duration": 14,
    "start_time": "2025-04-25T09:11:55.847Z"
   },
   {
    "duration": 26,
    "start_time": "2025-04-25T09:11:55.863Z"
   },
   {
    "duration": 123,
    "start_time": "2025-04-25T09:11:55.891Z"
   },
   {
    "duration": 37,
    "start_time": "2025-04-25T09:11:56.016Z"
   },
   {
    "duration": 22,
    "start_time": "2025-04-25T09:11:56.056Z"
   },
   {
    "duration": 12,
    "start_time": "2025-04-25T09:11:56.081Z"
   },
   {
    "duration": 111,
    "start_time": "2025-04-25T09:11:56.095Z"
   },
   {
    "duration": 9,
    "start_time": "2025-04-25T09:11:56.207Z"
   },
   {
    "duration": 24,
    "start_time": "2025-04-25T09:11:56.218Z"
   },
   {
    "duration": 32,
    "start_time": "2025-04-25T09:11:56.244Z"
   },
   {
    "duration": 8,
    "start_time": "2025-04-25T09:11:56.278Z"
   },
   {
    "duration": 10005,
    "start_time": "2025-04-25T09:11:56.303Z"
   },
   {
    "duration": 113,
    "start_time": "2025-04-25T09:12:06.311Z"
   },
   {
    "duration": 89,
    "start_time": "2025-04-25T09:12:06.426Z"
   },
   {
    "duration": 108,
    "start_time": "2025-04-25T09:12:06.517Z"
   },
   {
    "duration": 104,
    "start_time": "2025-04-25T09:12:06.628Z"
   },
   {
    "duration": 392,
    "start_time": "2025-04-25T09:12:06.735Z"
   },
   {
    "duration": 26,
    "start_time": "2025-04-25T09:12:07.129Z"
   },
   {
    "duration": 207,
    "start_time": "2025-04-25T09:12:07.157Z"
   },
   {
    "duration": 6,
    "start_time": "2025-04-25T09:12:07.366Z"
   },
   {
    "duration": 29,
    "start_time": "2025-04-25T09:12:07.374Z"
   },
   {
    "duration": 19,
    "start_time": "2025-04-25T09:12:07.405Z"
   },
   {
    "duration": 46,
    "start_time": "2025-04-25T09:12:07.426Z"
   },
   {
    "duration": 45,
    "start_time": "2025-04-25T09:12:07.474Z"
   },
   {
    "duration": 87,
    "start_time": "2025-04-25T09:12:07.521Z"
   },
   {
    "duration": 48,
    "start_time": "2025-04-25T09:12:07.610Z"
   },
   {
    "duration": 54,
    "start_time": "2025-04-25T09:12:07.660Z"
   },
   {
    "duration": 33,
    "start_time": "2025-04-25T09:12:07.716Z"
   },
   {
    "duration": 169,
    "start_time": "2025-04-25T09:12:07.752Z"
   },
   {
    "duration": 106,
    "start_time": "2025-04-25T09:12:07.923Z"
   },
   {
    "duration": 21,
    "start_time": "2025-04-25T09:12:08.031Z"
   },
   {
    "duration": 253,
    "start_time": "2025-04-25T09:12:08.054Z"
   },
   {
    "duration": 170,
    "start_time": "2025-04-25T09:12:08.310Z"
   },
   {
    "duration": 22,
    "start_time": "2025-04-25T09:12:08.482Z"
   },
   {
    "duration": 54,
    "start_time": "2025-04-25T09:12:08.506Z"
   },
   {
    "duration": 165,
    "start_time": "2025-04-25T09:12:08.562Z"
   },
   {
    "duration": 752,
    "start_time": "2025-04-25T09:12:20.519Z"
   },
   {
    "duration": 2078,
    "start_time": "2025-04-25T09:12:21.274Z"
   },
   {
    "duration": 15,
    "start_time": "2025-04-25T09:12:23.353Z"
   },
   {
    "duration": 26,
    "start_time": "2025-04-25T09:12:23.370Z"
   },
   {
    "duration": 119,
    "start_time": "2025-04-25T09:12:23.398Z"
   },
   {
    "duration": 26,
    "start_time": "2025-04-25T09:12:23.519Z"
   },
   {
    "duration": 63,
    "start_time": "2025-04-25T09:12:23.546Z"
   },
   {
    "duration": 115,
    "start_time": "2025-04-25T09:12:23.611Z"
   },
   {
    "duration": 44,
    "start_time": "2025-04-25T09:12:23.728Z"
   },
   {
    "duration": 96,
    "start_time": "2025-04-25T09:12:23.774Z"
   },
   {
    "duration": 36,
    "start_time": "2025-04-25T09:12:23.873Z"
   },
   {
    "duration": 25,
    "start_time": "2025-04-25T09:12:23.911Z"
   },
   {
    "duration": 216,
    "start_time": "2025-04-25T09:12:23.938Z"
   },
   {
    "duration": 9,
    "start_time": "2025-04-25T09:12:24.158Z"
   },
   {
    "duration": 51,
    "start_time": "2025-04-25T09:12:24.169Z"
   },
   {
    "duration": 16,
    "start_time": "2025-04-25T09:12:24.222Z"
   },
   {
    "duration": 46,
    "start_time": "2025-04-25T09:12:24.240Z"
   },
   {
    "duration": 10,
    "start_time": "2025-04-25T09:12:24.289Z"
   },
   {
    "duration": 179,
    "start_time": "2025-04-25T09:12:24.302Z"
   },
   {
    "duration": 26,
    "start_time": "2025-04-25T09:12:24.483Z"
   },
   {
    "duration": 7,
    "start_time": "2025-04-25T09:12:24.511Z"
   },
   {
    "duration": 17,
    "start_time": "2025-04-25T09:12:24.520Z"
   },
   {
    "duration": 100,
    "start_time": "2025-04-25T09:12:24.539Z"
   },
   {
    "duration": 123,
    "start_time": "2025-04-25T09:12:24.640Z"
   },
   {
    "duration": 13,
    "start_time": "2025-04-25T09:12:24.765Z"
   },
   {
    "duration": 35,
    "start_time": "2025-04-25T09:12:24.780Z"
   },
   {
    "duration": 27,
    "start_time": "2025-04-25T09:12:24.817Z"
   },
   {
    "duration": 9,
    "start_time": "2025-04-25T09:12:24.846Z"
   },
   {
    "duration": 27,
    "start_time": "2025-04-25T09:12:24.857Z"
   },
   {
    "duration": 40,
    "start_time": "2025-04-25T09:12:24.886Z"
   },
   {
    "duration": 13,
    "start_time": "2025-04-25T09:12:24.928Z"
   },
   {
    "duration": 4,
    "start_time": "2025-04-25T09:12:24.943Z"
   },
   {
    "duration": 108,
    "start_time": "2025-04-25T09:12:24.949Z"
   },
   {
    "duration": 389,
    "start_time": "2025-04-25T09:12:25.059Z"
   },
   {
    "duration": 112,
    "start_time": "2025-04-25T09:12:25.449Z"
   },
   {
    "duration": 80,
    "start_time": "2025-04-25T09:12:25.563Z"
   },
   {
    "duration": 76,
    "start_time": "2025-04-25T09:12:25.645Z"
   },
   {
    "duration": 15,
    "start_time": "2025-04-25T09:12:25.722Z"
   },
   {
    "duration": 4,
    "start_time": "2025-04-25T09:12:25.739Z"
   },
   {
    "duration": 109,
    "start_time": "2025-04-25T09:12:25.745Z"
   },
   {
    "duration": 2,
    "start_time": "2025-04-25T09:12:25.860Z"
   },
   {
    "duration": 14,
    "start_time": "2025-04-25T09:12:25.864Z"
   },
   {
    "duration": 15,
    "start_time": "2025-04-25T09:12:25.879Z"
   },
   {
    "duration": 76,
    "start_time": "2025-04-25T09:12:25.896Z"
   },
   {
    "duration": 17,
    "start_time": "2025-04-25T09:12:25.974Z"
   },
   {
    "duration": 61,
    "start_time": "2025-04-25T09:12:25.993Z"
   },
   {
    "duration": 15,
    "start_time": "2025-04-25T09:12:26.056Z"
   },
   {
    "duration": 24,
    "start_time": "2025-04-25T09:12:26.073Z"
   },
   {
    "duration": 13,
    "start_time": "2025-04-25T09:12:26.099Z"
   },
   {
    "duration": 23,
    "start_time": "2025-04-25T09:12:26.113Z"
   },
   {
    "duration": 15,
    "start_time": "2025-04-25T09:12:26.137Z"
   },
   {
    "duration": 87,
    "start_time": "2025-04-25T09:12:26.154Z"
   },
   {
    "duration": 9,
    "start_time": "2025-04-25T09:12:26.243Z"
   },
   {
    "duration": 37,
    "start_time": "2025-04-25T09:12:26.254Z"
   },
   {
    "duration": 49,
    "start_time": "2025-04-25T09:12:26.293Z"
   },
   {
    "duration": 37,
    "start_time": "2025-04-25T09:12:26.344Z"
   },
   {
    "duration": 3403,
    "start_time": "2025-04-25T09:12:26.383Z"
   },
   {
    "duration": 111,
    "start_time": "2025-04-25T09:12:29.787Z"
   },
   {
    "duration": 80,
    "start_time": "2025-04-25T09:12:29.904Z"
   },
   {
    "duration": 111,
    "start_time": "2025-04-25T09:12:29.985Z"
   },
   {
    "duration": 44,
    "start_time": "2025-04-25T09:12:30.098Z"
   },
   {
    "duration": 429,
    "start_time": "2025-04-25T09:12:30.144Z"
   },
   {
    "duration": 34,
    "start_time": "2025-04-25T09:12:30.576Z"
   },
   {
    "duration": 179,
    "start_time": "2025-04-25T09:12:30.613Z"
   },
   {
    "duration": 7,
    "start_time": "2025-04-25T09:12:30.794Z"
   },
   {
    "duration": 5,
    "start_time": "2025-04-25T09:12:30.803Z"
   },
   {
    "duration": 18,
    "start_time": "2025-04-25T09:12:30.810Z"
   },
   {
    "duration": 16,
    "start_time": "2025-04-25T09:12:30.829Z"
   },
   {
    "duration": 48,
    "start_time": "2025-04-25T09:12:30.847Z"
   },
   {
    "duration": 36,
    "start_time": "2025-04-25T09:12:30.897Z"
   },
   {
    "duration": 20,
    "start_time": "2025-04-25T09:12:30.935Z"
   },
   {
    "duration": 152,
    "start_time": "2025-04-25T09:12:30.956Z"
   },
   {
    "duration": 130,
    "start_time": "2025-04-25T09:12:31.110Z"
   },
   {
    "duration": 41,
    "start_time": "2025-04-25T09:12:31.242Z"
   },
   {
    "duration": 32,
    "start_time": "2025-04-25T09:12:31.284Z"
   },
   {
    "duration": 26,
    "start_time": "2025-04-25T09:12:31.318Z"
   },
   {
    "duration": 240,
    "start_time": "2025-04-25T09:12:31.346Z"
   },
   {
    "duration": 145,
    "start_time": "2025-04-25T09:12:31.588Z"
   },
   {
    "duration": 17,
    "start_time": "2025-04-25T09:12:31.736Z"
   },
   {
    "duration": 134,
    "start_time": "2025-04-25T09:12:31.756Z"
   },
   {
    "duration": 12,
    "start_time": "2025-04-25T09:12:31.893Z"
   },
   {
    "duration": 130,
    "start_time": "2025-04-25T09:14:26.597Z"
   },
   {
    "duration": 99,
    "start_time": "2025-04-25T09:20:56.420Z"
   },
   {
    "duration": 1341,
    "start_time": "2025-04-25T09:23:47.701Z"
   },
   {
    "duration": 7,
    "start_time": "2025-04-25T09:24:17.283Z"
   },
   {
    "duration": 12,
    "start_time": "2025-04-25T09:24:31.115Z"
   },
   {
    "duration": 710,
    "start_time": "2025-04-25T09:24:43.908Z"
   },
   {
    "duration": 2305,
    "start_time": "2025-04-25T09:24:44.621Z"
   },
   {
    "duration": 13,
    "start_time": "2025-04-25T09:24:46.928Z"
   },
   {
    "duration": 14,
    "start_time": "2025-04-25T09:24:46.943Z"
   },
   {
    "duration": 117,
    "start_time": "2025-04-25T09:24:46.959Z"
   },
   {
    "duration": 34,
    "start_time": "2025-04-25T09:24:47.077Z"
   },
   {
    "duration": 55,
    "start_time": "2025-04-25T09:24:47.113Z"
   },
   {
    "duration": 102,
    "start_time": "2025-04-25T09:24:47.170Z"
   },
   {
    "duration": 50,
    "start_time": "2025-04-25T09:24:47.274Z"
   },
   {
    "duration": 10,
    "start_time": "2025-04-25T09:24:47.325Z"
   },
   {
    "duration": 29,
    "start_time": "2025-04-25T09:24:47.336Z"
   },
   {
    "duration": 8,
    "start_time": "2025-04-25T09:24:47.367Z"
   },
   {
    "duration": 45,
    "start_time": "2025-04-25T09:24:47.377Z"
   },
   {
    "duration": 8,
    "start_time": "2025-04-25T09:24:47.425Z"
   },
   {
    "duration": 16,
    "start_time": "2025-04-25T09:24:47.435Z"
   },
   {
    "duration": 10,
    "start_time": "2025-04-25T09:24:47.453Z"
   },
   {
    "duration": 14,
    "start_time": "2025-04-25T09:24:47.464Z"
   },
   {
    "duration": 10,
    "start_time": "2025-04-25T09:24:47.505Z"
   },
   {
    "duration": 182,
    "start_time": "2025-04-25T09:24:47.517Z"
   },
   {
    "duration": 19,
    "start_time": "2025-04-25T09:24:47.701Z"
   },
   {
    "duration": 7,
    "start_time": "2025-04-25T09:24:47.722Z"
   },
   {
    "duration": 7,
    "start_time": "2025-04-25T09:24:47.731Z"
   },
   {
    "duration": 8,
    "start_time": "2025-04-25T09:24:47.740Z"
   },
   {
    "duration": 101,
    "start_time": "2025-04-25T09:24:47.750Z"
   },
   {
    "duration": 37,
    "start_time": "2025-04-25T09:24:47.852Z"
   },
   {
    "duration": 24,
    "start_time": "2025-04-25T09:24:47.891Z"
   },
   {
    "duration": 22,
    "start_time": "2025-04-25T09:24:47.916Z"
   },
   {
    "duration": 9,
    "start_time": "2025-04-25T09:24:47.939Z"
   },
   {
    "duration": 6,
    "start_time": "2025-04-25T09:24:47.950Z"
   },
   {
    "duration": 46,
    "start_time": "2025-04-25T09:24:47.958Z"
   },
   {
    "duration": 20,
    "start_time": "2025-04-25T09:24:48.006Z"
   },
   {
    "duration": 57,
    "start_time": "2025-04-25T09:24:48.028Z"
   },
   {
    "duration": 4,
    "start_time": "2025-04-25T09:24:48.087Z"
   },
   {
    "duration": 20,
    "start_time": "2025-04-25T09:24:48.093Z"
   },
   {
    "duration": 242,
    "start_time": "2025-04-25T09:24:48.115Z"
   },
   {
    "duration": 106,
    "start_time": "2025-04-25T09:24:48.360Z"
   },
   {
    "duration": 67,
    "start_time": "2025-04-25T09:24:48.468Z"
   },
   {
    "duration": 70,
    "start_time": "2025-04-25T09:24:48.537Z"
   },
   {
    "duration": 15,
    "start_time": "2025-04-25T09:24:48.609Z"
   },
   {
    "duration": 3,
    "start_time": "2025-04-25T09:24:48.626Z"
   },
   {
    "duration": 142,
    "start_time": "2025-04-25T09:24:48.633Z"
   },
   {
    "duration": 2,
    "start_time": "2025-04-25T09:24:48.777Z"
   },
   {
    "duration": 19,
    "start_time": "2025-04-25T09:24:48.780Z"
   },
   {
    "duration": 24,
    "start_time": "2025-04-25T09:24:48.801Z"
   },
   {
    "duration": 69,
    "start_time": "2025-04-25T09:24:48.826Z"
   },
   {
    "duration": 15,
    "start_time": "2025-04-25T09:24:48.897Z"
   },
   {
    "duration": 20,
    "start_time": "2025-04-25T09:24:48.914Z"
   },
   {
    "duration": 19,
    "start_time": "2025-04-25T09:24:48.936Z"
   },
   {
    "duration": 12,
    "start_time": "2025-04-25T09:24:48.957Z"
   },
   {
    "duration": 13,
    "start_time": "2025-04-25T09:24:48.971Z"
   },
   {
    "duration": 31,
    "start_time": "2025-04-25T09:24:48.986Z"
   },
   {
    "duration": 103,
    "start_time": "2025-04-25T09:24:49.019Z"
   },
   {
    "duration": 91,
    "start_time": "2025-04-25T09:24:49.124Z"
   },
   {
    "duration": 83,
    "start_time": "2025-04-25T09:24:49.217Z"
   },
   {
    "duration": 29,
    "start_time": "2025-04-25T09:24:49.302Z"
   },
   {
    "duration": 35,
    "start_time": "2025-04-25T09:24:49.333Z"
   },
   {
    "duration": 17,
    "start_time": "2025-04-25T09:24:49.371Z"
   },
   {
    "duration": 3161,
    "start_time": "2025-04-25T09:24:49.390Z"
   },
   {
    "duration": 95,
    "start_time": "2025-04-25T09:24:52.553Z"
   },
   {
    "duration": 93,
    "start_time": "2025-04-25T09:24:52.650Z"
   },
   {
    "duration": 115,
    "start_time": "2025-04-25T09:24:52.745Z"
   },
   {
    "duration": 23,
    "start_time": "2025-04-25T09:24:52.862Z"
   },
   {
    "duration": 318,
    "start_time": "2025-04-25T09:24:52.886Z"
   },
   {
    "duration": 25,
    "start_time": "2025-04-25T09:24:53.205Z"
   },
   {
    "duration": 219,
    "start_time": "2025-04-25T09:24:53.232Z"
   },
   {
    "duration": 5,
    "start_time": "2025-04-25T09:24:53.453Z"
   },
   {
    "duration": 36,
    "start_time": "2025-04-25T09:24:53.460Z"
   },
   {
    "duration": 15,
    "start_time": "2025-04-25T09:24:53.497Z"
   },
   {
    "duration": 5,
    "start_time": "2025-04-25T09:24:53.514Z"
   },
   {
    "duration": 21,
    "start_time": "2025-04-25T09:24:53.520Z"
   },
   {
    "duration": 44,
    "start_time": "2025-04-25T09:24:53.543Z"
   },
   {
    "duration": 23,
    "start_time": "2025-04-25T09:24:53.589Z"
   },
   {
    "duration": 37,
    "start_time": "2025-04-25T09:24:53.613Z"
   },
   {
    "duration": 26,
    "start_time": "2025-04-25T09:24:53.651Z"
   },
   {
    "duration": 51,
    "start_time": "2025-04-25T09:24:53.679Z"
   },
   {
    "duration": 32,
    "start_time": "2025-04-25T09:24:53.731Z"
   },
   {
    "duration": 8,
    "start_time": "2025-04-25T09:24:53.765Z"
   },
   {
    "duration": 314,
    "start_time": "2025-04-25T09:24:53.775Z"
   },
   {
    "duration": 134,
    "start_time": "2025-04-25T09:24:54.091Z"
   },
   {
    "duration": 15,
    "start_time": "2025-04-25T09:24:54.226Z"
   },
   {
    "duration": 32,
    "start_time": "2025-04-25T09:24:54.243Z"
   },
   {
    "duration": 5,
    "start_time": "2025-04-25T09:24:54.277Z"
   },
   {
    "duration": 21,
    "start_time": "2025-04-25T09:24:54.284Z"
   },
   {
    "duration": 5,
    "start_time": "2025-04-25T09:26:38.696Z"
   },
   {
    "duration": 99,
    "start_time": "2025-04-25T09:28:09.253Z"
   },
   {
    "duration": 221,
    "start_time": "2025-04-25T09:28:24.774Z"
   },
   {
    "duration": 6,
    "start_time": "2025-04-25T09:47:08.865Z"
   },
   {
    "duration": 5,
    "start_time": "2025-04-25T09:47:12.101Z"
   },
   {
    "duration": 3,
    "start_time": "2025-04-25T09:47:50.307Z"
   },
   {
    "duration": 3,
    "start_time": "2025-04-25T09:49:28.626Z"
   },
   {
    "duration": 3,
    "start_time": "2025-04-25T09:49:32.999Z"
   },
   {
    "duration": 8,
    "start_time": "2025-04-25T09:49:53.662Z"
   },
   {
    "duration": 2,
    "start_time": "2025-04-25T09:50:12.836Z"
   },
   {
    "duration": 3,
    "start_time": "2025-04-25T09:52:03.337Z"
   },
   {
    "duration": 5,
    "start_time": "2025-04-25T10:21:54.604Z"
   },
   {
    "duration": 5,
    "start_time": "2025-04-25T10:22:12.537Z"
   },
   {
    "duration": 6,
    "start_time": "2025-04-25T10:29:44.644Z"
   },
   {
    "duration": 4,
    "start_time": "2025-04-25T10:30:00.336Z"
   },
   {
    "duration": 4,
    "start_time": "2025-04-25T10:30:12.371Z"
   },
   {
    "duration": 2,
    "start_time": "2025-04-25T10:33:22.970Z"
   },
   {
    "duration": 9,
    "start_time": "2025-04-25T10:35:08.177Z"
   },
   {
    "duration": 10,
    "start_time": "2025-04-25T10:35:15.345Z"
   },
   {
    "duration": 7,
    "start_time": "2025-04-25T10:35:21.437Z"
   },
   {
    "duration": 5,
    "start_time": "2025-04-25T10:35:21.562Z"
   },
   {
    "duration": 5,
    "start_time": "2025-04-25T10:35:22.102Z"
   },
   {
    "duration": 10,
    "start_time": "2025-04-25T10:43:32.451Z"
   },
   {
    "duration": 11,
    "start_time": "2025-04-25T11:02:53.459Z"
   },
   {
    "duration": 21,
    "start_time": "2025-04-25T11:03:07.431Z"
   },
   {
    "duration": 12,
    "start_time": "2025-04-25T11:03:21.746Z"
   },
   {
    "duration": 25,
    "start_time": "2025-04-25T11:03:22.696Z"
   },
   {
    "duration": 9,
    "start_time": "2025-04-25T11:03:54.512Z"
   },
   {
    "duration": 8,
    "start_time": "2025-04-25T11:04:02.801Z"
   },
   {
    "duration": 9,
    "start_time": "2025-04-25T11:04:06.949Z"
   },
   {
    "duration": 9,
    "start_time": "2025-04-25T11:04:07.335Z"
   },
   {
    "duration": 10,
    "start_time": "2025-04-25T11:04:20.683Z"
   },
   {
    "duration": 53,
    "start_time": "2025-04-25T11:42:22.120Z"
   },
   {
    "duration": 819,
    "start_time": "2025-04-25T11:42:26.892Z"
   },
   {
    "duration": 2598,
    "start_time": "2025-04-25T11:42:27.713Z"
   },
   {
    "duration": 16,
    "start_time": "2025-04-25T11:42:30.313Z"
   },
   {
    "duration": 207,
    "start_time": "2025-04-25T11:42:30.330Z"
   },
   {
    "duration": 228,
    "start_time": "2025-04-25T11:42:30.540Z"
   },
   {
    "duration": 39,
    "start_time": "2025-04-25T11:42:30.771Z"
   },
   {
    "duration": 64,
    "start_time": "2025-04-25T11:42:30.812Z"
   },
   {
    "duration": 116,
    "start_time": "2025-04-25T11:42:30.879Z"
   },
   {
    "duration": 52,
    "start_time": "2025-04-25T11:42:30.997Z"
   },
   {
    "duration": 17,
    "start_time": "2025-04-25T11:42:31.051Z"
   },
   {
    "duration": 107,
    "start_time": "2025-04-25T11:42:31.070Z"
   },
   {
    "duration": 35,
    "start_time": "2025-04-25T11:42:31.180Z"
   },
   {
    "duration": 63,
    "start_time": "2025-04-25T11:42:31.217Z"
   },
   {
    "duration": 9,
    "start_time": "2025-04-25T11:42:31.283Z"
   },
   {
    "duration": 33,
    "start_time": "2025-04-25T11:42:31.293Z"
   },
   {
    "duration": 32,
    "start_time": "2025-04-25T11:42:31.328Z"
   },
   {
    "duration": 52,
    "start_time": "2025-04-25T11:42:31.362Z"
   },
   {
    "duration": 144,
    "start_time": "2025-04-25T11:42:31.416Z"
   },
   {
    "duration": 201,
    "start_time": "2025-04-25T11:42:31.563Z"
   },
   {
    "duration": 20,
    "start_time": "2025-04-25T11:42:31.766Z"
   },
   {
    "duration": 66,
    "start_time": "2025-04-25T11:42:31.788Z"
   },
   {
    "duration": 27,
    "start_time": "2025-04-25T11:42:31.856Z"
   },
   {
    "duration": 22,
    "start_time": "2025-04-25T11:42:31.885Z"
   },
   {
    "duration": 174,
    "start_time": "2025-04-25T11:42:31.909Z"
   },
   {
    "duration": 45,
    "start_time": "2025-04-25T11:42:32.085Z"
   },
   {
    "duration": 14,
    "start_time": "2025-04-25T11:42:32.131Z"
   },
   {
    "duration": 44,
    "start_time": "2025-04-25T11:42:32.148Z"
   },
   {
    "duration": 30,
    "start_time": "2025-04-25T11:42:32.194Z"
   },
   {
    "duration": 26,
    "start_time": "2025-04-25T11:42:32.226Z"
   },
   {
    "duration": 36,
    "start_time": "2025-04-25T11:42:32.254Z"
   },
   {
    "duration": 33,
    "start_time": "2025-04-25T11:42:32.292Z"
   },
   {
    "duration": 10,
    "start_time": "2025-04-25T11:42:32.327Z"
   },
   {
    "duration": 35,
    "start_time": "2025-04-25T11:42:32.339Z"
   },
   {
    "duration": 14,
    "start_time": "2025-04-25T11:42:32.377Z"
   },
   {
    "duration": 232,
    "start_time": "2025-04-25T11:42:32.393Z"
   },
   {
    "duration": 105,
    "start_time": "2025-04-25T11:42:32.627Z"
   },
   {
    "duration": 79,
    "start_time": "2025-04-25T11:42:32.734Z"
   },
   {
    "duration": 71,
    "start_time": "2025-04-25T11:42:32.816Z"
   },
   {
    "duration": 32,
    "start_time": "2025-04-25T11:42:32.889Z"
   },
   {
    "duration": 4,
    "start_time": "2025-04-25T11:42:32.923Z"
   },
   {
    "duration": 27,
    "start_time": "2025-04-25T11:42:32.933Z"
   },
   {
    "duration": 18,
    "start_time": "2025-04-25T11:42:32.962Z"
   },
   {
    "duration": 15,
    "start_time": "2025-04-25T11:42:32.983Z"
   },
   {
    "duration": 20,
    "start_time": "2025-04-25T11:42:33.000Z"
   },
   {
    "duration": 71,
    "start_time": "2025-04-25T11:42:33.022Z"
   },
   {
    "duration": 23,
    "start_time": "2025-04-25T11:42:33.095Z"
   },
   {
    "duration": 61,
    "start_time": "2025-04-25T11:42:33.120Z"
   },
   {
    "duration": 22,
    "start_time": "2025-04-25T11:42:33.183Z"
   },
   {
    "duration": 41,
    "start_time": "2025-04-25T11:42:33.207Z"
   },
   {
    "duration": 44,
    "start_time": "2025-04-25T11:42:33.251Z"
   },
   {
    "duration": 16,
    "start_time": "2025-04-25T11:42:33.297Z"
   },
   {
    "duration": 62,
    "start_time": "2025-04-25T11:42:33.315Z"
   },
   {
    "duration": 81,
    "start_time": "2025-04-25T11:42:33.379Z"
   },
   {
    "duration": 31,
    "start_time": "2025-04-25T11:42:33.462Z"
   },
   {
    "duration": 110,
    "start_time": "2025-04-25T11:42:33.496Z"
   },
   {
    "duration": 39,
    "start_time": "2025-04-25T11:42:33.608Z"
   },
   {
    "duration": 34,
    "start_time": "2025-04-25T11:42:33.649Z"
   },
   {
    "duration": 3503,
    "start_time": "2025-04-25T11:42:33.684Z"
   },
   {
    "duration": 107,
    "start_time": "2025-04-25T11:42:37.189Z"
   },
   {
    "duration": 109,
    "start_time": "2025-04-25T11:42:37.304Z"
   },
   {
    "duration": 212,
    "start_time": "2025-04-25T11:42:37.415Z"
   },
   {
    "duration": 26,
    "start_time": "2025-04-25T11:42:37.629Z"
   },
   {
    "duration": 507,
    "start_time": "2025-04-25T11:42:37.657Z"
   },
   {
    "duration": 48,
    "start_time": "2025-04-25T11:42:38.166Z"
   },
   {
    "duration": 113,
    "start_time": "2025-04-25T11:42:38.216Z"
   },
   {
    "duration": 8,
    "start_time": "2025-04-25T11:42:38.332Z"
   },
   {
    "duration": 169,
    "start_time": "2025-04-25T11:42:38.342Z"
   },
   {
    "duration": 18,
    "start_time": "2025-04-25T11:42:38.513Z"
   },
   {
    "duration": 25,
    "start_time": "2025-04-25T11:42:38.533Z"
   },
   {
    "duration": 124,
    "start_time": "2025-04-25T11:42:38.560Z"
   },
   {
    "duration": 65,
    "start_time": "2025-04-25T11:42:38.685Z"
   },
   {
    "duration": 30,
    "start_time": "2025-04-25T11:42:38.752Z"
   },
   {
    "duration": 26,
    "start_time": "2025-04-25T11:42:38.784Z"
   },
   {
    "duration": 63,
    "start_time": "2025-04-25T11:42:38.813Z"
   },
   {
    "duration": 65,
    "start_time": "2025-04-25T11:42:38.878Z"
   },
   {
    "duration": 42,
    "start_time": "2025-04-25T11:42:38.945Z"
   },
   {
    "duration": 23,
    "start_time": "2025-04-25T11:42:38.988Z"
   },
   {
    "duration": 285,
    "start_time": "2025-04-25T11:42:39.013Z"
   },
   {
    "duration": 151,
    "start_time": "2025-04-25T11:42:39.303Z"
   },
   {
    "duration": 9,
    "start_time": "2025-04-25T11:42:39.457Z"
   },
   {
    "duration": 41,
    "start_time": "2025-04-25T11:42:39.468Z"
   },
   {
    "duration": 10,
    "start_time": "2025-04-25T11:42:39.510Z"
   },
   {
    "duration": 21,
    "start_time": "2025-04-25T11:42:39.521Z"
   },
   {
    "duration": 22,
    "start_time": "2025-04-25T11:42:39.544Z"
   },
   {
    "duration": 14,
    "start_time": "2025-04-25T11:42:39.567Z"
   },
   {
    "duration": 26,
    "start_time": "2025-04-25T11:42:39.583Z"
   },
   {
    "duration": 223,
    "start_time": "2025-04-25T11:42:39.610Z"
   },
   {
    "duration": 7,
    "start_time": "2025-04-25T11:42:39.834Z"
   },
   {
    "duration": 18,
    "start_time": "2025-04-25T11:42:39.842Z"
   },
   {
    "duration": 33,
    "start_time": "2025-04-25T11:42:39.862Z"
   },
   {
    "duration": 15,
    "start_time": "2025-04-25T11:42:39.897Z"
   },
   {
    "duration": 153,
    "start_time": "2025-04-25T11:42:39.914Z"
   },
   {
    "duration": 142,
    "start_time": "2025-04-25T11:44:41.437Z"
   },
   {
    "duration": 26,
    "start_time": "2025-04-25T11:44:54.040Z"
   },
   {
    "duration": 17,
    "start_time": "2025-04-25T11:47:13.943Z"
   },
   {
    "duration": 17,
    "start_time": "2025-04-25T11:47:20.529Z"
   },
   {
    "duration": 12,
    "start_time": "2025-04-25T11:47:32.622Z"
   },
   {
    "duration": 12,
    "start_time": "2025-04-25T11:48:15.247Z"
   },
   {
    "duration": 9,
    "start_time": "2025-04-25T11:48:40.503Z"
   },
   {
    "duration": 10,
    "start_time": "2025-04-25T11:51:50.691Z"
   },
   {
    "duration": 9,
    "start_time": "2025-04-25T11:53:53.637Z"
   },
   {
    "duration": 16,
    "start_time": "2025-04-25T11:54:01.112Z"
   },
   {
    "duration": 13,
    "start_time": "2025-04-25T11:56:17.543Z"
   },
   {
    "duration": 12,
    "start_time": "2025-04-25T11:56:18.208Z"
   },
   {
    "duration": 12,
    "start_time": "2025-04-25T11:56:30.923Z"
   },
   {
    "duration": 13,
    "start_time": "2025-04-25T11:57:33.356Z"
   },
   {
    "duration": 12,
    "start_time": "2025-04-25T11:57:33.906Z"
   },
   {
    "duration": 16,
    "start_time": "2025-04-25T12:58:42.900Z"
   },
   {
    "duration": 17,
    "start_time": "2025-04-25T12:58:47.557Z"
   },
   {
    "duration": 12,
    "start_time": "2025-04-25T13:00:26.049Z"
   },
   {
    "duration": 299,
    "start_time": "2025-04-25T13:00:40.917Z"
   },
   {
    "duration": 537,
    "start_time": "2025-04-25T13:01:10.394Z"
   },
   {
    "duration": 15,
    "start_time": "2025-04-25T13:02:41.043Z"
   },
   {
    "duration": 479,
    "start_time": "2025-04-25T13:03:43.004Z"
   },
   {
    "duration": 15,
    "start_time": "2025-04-25T13:04:25.223Z"
   },
   {
    "duration": 507,
    "start_time": "2025-04-25T13:04:51.201Z"
   },
   {
    "duration": 5,
    "start_time": "2025-04-25T13:05:51.041Z"
   },
   {
    "duration": 350,
    "start_time": "2025-04-25T13:05:54.643Z"
   },
   {
    "duration": 121,
    "start_time": "2025-04-25T13:06:47.364Z"
   },
   {
    "duration": 118,
    "start_time": "2025-04-25T13:06:57.011Z"
   },
   {
    "duration": 334,
    "start_time": "2025-04-25T13:07:07.554Z"
   },
   {
    "duration": 312,
    "start_time": "2025-04-25T13:07:42.681Z"
   },
   {
    "duration": 318,
    "start_time": "2025-04-25T13:08:10.819Z"
   },
   {
    "duration": 332,
    "start_time": "2025-04-25T13:08:59.519Z"
   },
   {
    "duration": 334,
    "start_time": "2025-04-25T13:09:39.389Z"
   },
   {
    "duration": 114,
    "start_time": "2025-04-25T13:09:58.348Z"
   },
   {
    "duration": 382,
    "start_time": "2025-04-25T13:14:10.561Z"
   },
   {
    "duration": 455,
    "start_time": "2025-04-25T13:17:48.558Z"
   },
   {
    "duration": 304,
    "start_time": "2025-04-25T13:18:24.905Z"
   },
   {
    "duration": 348,
    "start_time": "2025-04-25T13:18:57.685Z"
   },
   {
    "duration": 335,
    "start_time": "2025-04-25T13:19:19.470Z"
   },
   {
    "duration": 911,
    "start_time": "2025-04-26T03:15:12.866Z"
   },
   {
    "duration": 2600,
    "start_time": "2025-04-26T03:15:13.779Z"
   },
   {
    "duration": 14,
    "start_time": "2025-04-26T03:15:16.381Z"
   },
   {
    "duration": 14,
    "start_time": "2025-04-26T03:15:16.397Z"
   },
   {
    "duration": 141,
    "start_time": "2025-04-26T03:15:16.414Z"
   },
   {
    "duration": 35,
    "start_time": "2025-04-26T03:15:16.557Z"
   },
   {
    "duration": 48,
    "start_time": "2025-04-26T03:15:16.593Z"
   },
   {
    "duration": 121,
    "start_time": "2025-04-26T03:15:16.643Z"
   },
   {
    "duration": 50,
    "start_time": "2025-04-26T03:15:16.766Z"
   },
   {
    "duration": 10,
    "start_time": "2025-04-26T03:15:16.818Z"
   },
   {
    "duration": 20,
    "start_time": "2025-04-26T03:15:16.830Z"
   },
   {
    "duration": 32,
    "start_time": "2025-04-26T03:15:16.852Z"
   },
   {
    "duration": 26,
    "start_time": "2025-04-26T03:15:16.886Z"
   },
   {
    "duration": 8,
    "start_time": "2025-04-26T03:15:16.915Z"
   },
   {
    "duration": 14,
    "start_time": "2025-04-26T03:15:16.925Z"
   },
   {
    "duration": 43,
    "start_time": "2025-04-26T03:15:16.941Z"
   },
   {
    "duration": 13,
    "start_time": "2025-04-26T03:15:16.985Z"
   },
   {
    "duration": 7,
    "start_time": "2025-04-26T03:15:16.999Z"
   },
   {
    "duration": 204,
    "start_time": "2025-04-26T03:15:17.008Z"
   },
   {
    "duration": 19,
    "start_time": "2025-04-26T03:15:17.214Z"
   },
   {
    "duration": 32,
    "start_time": "2025-04-26T03:15:17.235Z"
   },
   {
    "duration": 12,
    "start_time": "2025-04-26T03:15:17.269Z"
   },
   {
    "duration": 10,
    "start_time": "2025-04-26T03:15:17.282Z"
   },
   {
    "duration": 89,
    "start_time": "2025-04-26T03:15:17.294Z"
   },
   {
    "duration": 39,
    "start_time": "2025-04-26T03:15:17.385Z"
   },
   {
    "duration": 13,
    "start_time": "2025-04-26T03:15:17.426Z"
   },
   {
    "duration": 43,
    "start_time": "2025-04-26T03:15:17.441Z"
   },
   {
    "duration": 10,
    "start_time": "2025-04-26T03:15:17.486Z"
   },
   {
    "duration": 8,
    "start_time": "2025-04-26T03:15:17.498Z"
   },
   {
    "duration": 11,
    "start_time": "2025-04-26T03:15:17.508Z"
   },
   {
    "duration": 106,
    "start_time": "2025-04-26T03:15:17.521Z"
   },
   {
    "duration": 12,
    "start_time": "2025-04-26T03:15:17.629Z"
   },
   {
    "duration": 4,
    "start_time": "2025-04-26T03:15:17.643Z"
   },
   {
    "duration": 15,
    "start_time": "2025-04-26T03:15:17.648Z"
   },
   {
    "duration": 224,
    "start_time": "2025-04-26T03:15:17.665Z"
   },
   {
    "duration": 110,
    "start_time": "2025-04-26T03:15:17.890Z"
   },
   {
    "duration": 75,
    "start_time": "2025-04-26T03:15:18.001Z"
   },
   {
    "duration": 61,
    "start_time": "2025-04-26T03:15:18.078Z"
   },
   {
    "duration": 18,
    "start_time": "2025-04-26T03:15:18.140Z"
   },
   {
    "duration": 4,
    "start_time": "2025-04-26T03:15:18.176Z"
   },
   {
    "duration": 9,
    "start_time": "2025-04-26T03:15:18.186Z"
   },
   {
    "duration": 2,
    "start_time": "2025-04-26T03:15:18.197Z"
   },
   {
    "duration": 7,
    "start_time": "2025-04-26T03:15:18.200Z"
   },
   {
    "duration": 14,
    "start_time": "2025-04-26T03:15:18.209Z"
   },
   {
    "duration": 98,
    "start_time": "2025-04-26T03:15:18.225Z"
   },
   {
    "duration": 18,
    "start_time": "2025-04-26T03:15:18.325Z"
   },
   {
    "duration": 39,
    "start_time": "2025-04-26T03:15:18.345Z"
   },
   {
    "duration": 7,
    "start_time": "2025-04-26T03:15:18.386Z"
   },
   {
    "duration": 13,
    "start_time": "2025-04-26T03:15:18.394Z"
   },
   {
    "duration": 10,
    "start_time": "2025-04-26T03:15:18.408Z"
   },
   {
    "duration": 22,
    "start_time": "2025-04-26T03:15:18.420Z"
   },
   {
    "duration": 18,
    "start_time": "2025-04-26T03:15:18.444Z"
   },
   {
    "duration": 110,
    "start_time": "2025-04-26T03:15:18.463Z"
   },
   {
    "duration": 8,
    "start_time": "2025-04-26T03:15:18.575Z"
   },
   {
    "duration": 22,
    "start_time": "2025-04-26T03:15:18.585Z"
   },
   {
    "duration": 121,
    "start_time": "2025-04-26T03:15:18.608Z"
   },
   {
    "duration": 69,
    "start_time": "2025-04-26T03:15:18.731Z"
   },
   {
    "duration": 9952,
    "start_time": "2025-04-26T03:15:18.802Z"
   },
   {
    "duration": 105,
    "start_time": "2025-04-26T03:15:28.756Z"
   },
   {
    "duration": 83,
    "start_time": "2025-04-26T03:15:28.862Z"
   },
   {
    "duration": 107,
    "start_time": "2025-04-26T03:15:28.947Z"
   },
   {
    "duration": 29,
    "start_time": "2025-04-26T03:15:29.056Z"
   },
   {
    "duration": 337,
    "start_time": "2025-04-26T03:15:29.086Z"
   },
   {
    "duration": 27,
    "start_time": "2025-04-26T03:15:29.425Z"
   },
   {
    "duration": 80,
    "start_time": "2025-04-26T03:15:29.453Z"
   },
   {
    "duration": 5,
    "start_time": "2025-04-26T03:15:29.535Z"
   },
   {
    "duration": 80,
    "start_time": "2025-04-26T03:15:29.542Z"
   },
   {
    "duration": 12,
    "start_time": "2025-04-26T03:15:29.624Z"
   },
   {
    "duration": 26,
    "start_time": "2025-04-26T03:15:29.637Z"
   },
   {
    "duration": 28,
    "start_time": "2025-04-26T03:15:29.665Z"
   },
   {
    "duration": 36,
    "start_time": "2025-04-26T03:15:29.694Z"
   },
   {
    "duration": 20,
    "start_time": "2025-04-26T03:15:29.732Z"
   },
   {
    "duration": 41,
    "start_time": "2025-04-26T03:15:29.754Z"
   },
   {
    "duration": 28,
    "start_time": "2025-04-26T03:15:29.797Z"
   },
   {
    "duration": 38,
    "start_time": "2025-04-26T03:15:29.827Z"
   },
   {
    "duration": 40,
    "start_time": "2025-04-26T03:15:29.867Z"
   },
   {
    "duration": 10,
    "start_time": "2025-04-26T03:15:29.909Z"
   },
   {
    "duration": 258,
    "start_time": "2025-04-26T03:15:29.920Z"
   },
   {
    "duration": 144,
    "start_time": "2025-04-26T03:15:30.180Z"
   },
   {
    "duration": 7,
    "start_time": "2025-04-26T03:15:30.325Z"
   },
   {
    "duration": 93,
    "start_time": "2025-04-26T03:15:30.334Z"
   },
   {
    "duration": 15,
    "start_time": "2025-04-26T03:15:30.429Z"
   },
   {
    "duration": 58,
    "start_time": "2025-04-26T03:15:30.446Z"
   },
   {
    "duration": 22,
    "start_time": "2025-04-26T03:15:30.505Z"
   },
   {
    "duration": 39,
    "start_time": "2025-04-26T03:15:30.528Z"
   },
   {
    "duration": 20,
    "start_time": "2025-04-26T03:15:30.568Z"
   },
   {
    "duration": 319,
    "start_time": "2025-04-26T03:15:30.590Z"
   },
   {
    "duration": 7,
    "start_time": "2025-04-26T03:15:30.911Z"
   },
   {
    "duration": 95,
    "start_time": "2025-04-26T03:15:30.919Z"
   },
   {
    "duration": 136,
    "start_time": "2025-04-26T03:15:31.015Z"
   },
   {
    "duration": 196,
    "start_time": "2025-04-26T03:15:31.152Z"
   },
   {
    "duration": 102,
    "start_time": "2025-04-26T03:15:31.350Z"
   },
   {
    "duration": 360,
    "start_time": "2025-04-26T03:15:31.454Z"
   },
   {
    "duration": 2,
    "start_time": "2025-04-26T03:23:02.231Z"
   },
   {
    "duration": 94,
    "start_time": "2025-04-26T03:43:10.517Z"
   },
   {
    "duration": 702,
    "start_time": "2025-04-26T03:43:18.308Z"
   },
   {
    "duration": 2575,
    "start_time": "2025-04-26T03:43:19.012Z"
   },
   {
    "duration": 14,
    "start_time": "2025-04-26T03:43:21.589Z"
   },
   {
    "duration": 24,
    "start_time": "2025-04-26T03:43:21.605Z"
   },
   {
    "duration": 128,
    "start_time": "2025-04-26T03:43:21.633Z"
   },
   {
    "duration": 31,
    "start_time": "2025-04-26T03:43:21.762Z"
   },
   {
    "duration": 63,
    "start_time": "2025-04-26T03:43:21.795Z"
   },
   {
    "duration": 116,
    "start_time": "2025-04-26T03:43:21.860Z"
   },
   {
    "duration": 63,
    "start_time": "2025-04-26T03:43:21.978Z"
   },
   {
    "duration": 10,
    "start_time": "2025-04-26T03:43:22.043Z"
   },
   {
    "duration": 38,
    "start_time": "2025-04-26T03:43:22.055Z"
   },
   {
    "duration": 8,
    "start_time": "2025-04-26T03:43:22.095Z"
   },
   {
    "duration": 44,
    "start_time": "2025-04-26T03:43:22.105Z"
   },
   {
    "duration": 21,
    "start_time": "2025-04-26T03:43:22.152Z"
   },
   {
    "duration": 21,
    "start_time": "2025-04-26T03:43:22.175Z"
   },
   {
    "duration": 11,
    "start_time": "2025-04-26T03:43:22.197Z"
   },
   {
    "duration": 10,
    "start_time": "2025-04-26T03:43:22.210Z"
   },
   {
    "duration": 8,
    "start_time": "2025-04-26T03:43:22.221Z"
   },
   {
    "duration": 168,
    "start_time": "2025-04-26T03:43:22.230Z"
   },
   {
    "duration": 19,
    "start_time": "2025-04-26T03:43:22.400Z"
   },
   {
    "duration": 7,
    "start_time": "2025-04-26T03:43:22.420Z"
   },
   {
    "duration": 11,
    "start_time": "2025-04-26T03:43:22.429Z"
   },
   {
    "duration": 17,
    "start_time": "2025-04-26T03:43:22.442Z"
   },
   {
    "duration": 89,
    "start_time": "2025-04-26T03:43:22.461Z"
   },
   {
    "duration": 50,
    "start_time": "2025-04-26T03:43:22.552Z"
   },
   {
    "duration": 13,
    "start_time": "2025-04-26T03:43:22.604Z"
   },
   {
    "duration": 22,
    "start_time": "2025-04-26T03:43:22.619Z"
   },
   {
    "duration": 9,
    "start_time": "2025-04-26T03:43:22.642Z"
   },
   {
    "duration": 8,
    "start_time": "2025-04-26T03:43:22.677Z"
   },
   {
    "duration": 17,
    "start_time": "2025-04-26T03:43:22.686Z"
   },
   {
    "duration": 20,
    "start_time": "2025-04-26T03:43:22.705Z"
   },
   {
    "duration": 12,
    "start_time": "2025-04-26T03:43:22.727Z"
   },
   {
    "duration": 72,
    "start_time": "2025-04-26T03:43:22.740Z"
   },
   {
    "duration": 92,
    "start_time": "2025-04-26T03:43:22.813Z"
   },
   {
    "duration": 213,
    "start_time": "2025-04-26T03:43:22.907Z"
   },
   {
    "duration": 111,
    "start_time": "2025-04-26T03:43:23.121Z"
   },
   {
    "duration": 75,
    "start_time": "2025-04-26T03:43:23.233Z"
   },
   {
    "duration": 71,
    "start_time": "2025-04-26T03:43:23.310Z"
   },
   {
    "duration": 61,
    "start_time": "2025-04-26T03:43:23.383Z"
   },
   {
    "duration": 4,
    "start_time": "2025-04-26T03:43:23.445Z"
   },
   {
    "duration": 70,
    "start_time": "2025-04-26T03:43:23.455Z"
   },
   {
    "duration": 3,
    "start_time": "2025-04-26T03:43:23.526Z"
   },
   {
    "duration": 6,
    "start_time": "2025-04-26T03:43:23.530Z"
   },
   {
    "duration": 14,
    "start_time": "2025-04-26T03:43:23.538Z"
   },
   {
    "duration": 63,
    "start_time": "2025-04-26T03:43:23.554Z"
   },
   {
    "duration": 14,
    "start_time": "2025-04-26T03:43:23.619Z"
   },
   {
    "duration": 79,
    "start_time": "2025-04-26T03:43:23.635Z"
   },
   {
    "duration": 6,
    "start_time": "2025-04-26T03:43:23.716Z"
   },
   {
    "duration": 4,
    "start_time": "2025-04-26T03:43:23.724Z"
   },
   {
    "duration": 9,
    "start_time": "2025-04-26T03:43:23.729Z"
   },
   {
    "duration": 11,
    "start_time": "2025-04-26T03:43:23.739Z"
   },
   {
    "duration": 10,
    "start_time": "2025-04-26T03:43:23.751Z"
   },
   {
    "duration": 92,
    "start_time": "2025-04-26T03:43:23.763Z"
   },
   {
    "duration": 9,
    "start_time": "2025-04-26T03:43:23.857Z"
   },
   {
    "duration": 21,
    "start_time": "2025-04-26T03:43:23.876Z"
   },
   {
    "duration": 36,
    "start_time": "2025-04-26T03:43:23.899Z"
   },
   {
    "duration": 11,
    "start_time": "2025-04-26T03:43:23.936Z"
   },
   {
    "duration": 3196,
    "start_time": "2025-04-26T03:43:23.948Z"
   },
   {
    "duration": 100,
    "start_time": "2025-04-26T03:43:27.145Z"
   },
   {
    "duration": 87,
    "start_time": "2025-04-26T03:43:27.247Z"
   },
   {
    "duration": 104,
    "start_time": "2025-04-26T03:43:27.335Z"
   },
   {
    "duration": 24,
    "start_time": "2025-04-26T03:43:27.440Z"
   },
   {
    "duration": 355,
    "start_time": "2025-04-26T03:43:27.476Z"
   },
   {
    "duration": 25,
    "start_time": "2025-04-26T03:43:27.833Z"
   },
   {
    "duration": 71,
    "start_time": "2025-04-26T03:43:27.860Z"
   },
   {
    "duration": 6,
    "start_time": "2025-04-26T03:43:27.932Z"
   },
   {
    "duration": 2,
    "start_time": "2025-04-26T03:43:27.940Z"
   },
   {
    "duration": 10,
    "start_time": "2025-04-26T03:43:27.944Z"
   },
   {
    "duration": 4,
    "start_time": "2025-04-26T03:43:27.955Z"
   },
   {
    "duration": 13,
    "start_time": "2025-04-26T03:43:27.977Z"
   },
   {
    "duration": 39,
    "start_time": "2025-04-26T03:43:27.992Z"
   },
   {
    "duration": 20,
    "start_time": "2025-04-26T03:43:28.033Z"
   },
   {
    "duration": 42,
    "start_time": "2025-04-26T03:43:28.055Z"
   },
   {
    "duration": 87,
    "start_time": "2025-04-26T03:43:28.099Z"
   },
   {
    "duration": 41,
    "start_time": "2025-04-26T03:43:28.188Z"
   },
   {
    "duration": 32,
    "start_time": "2025-04-26T03:43:28.231Z"
   },
   {
    "duration": 10,
    "start_time": "2025-04-26T03:43:28.276Z"
   },
   {
    "duration": 246,
    "start_time": "2025-04-26T03:43:28.287Z"
   },
   {
    "duration": 136,
    "start_time": "2025-04-26T03:43:28.534Z"
   },
   {
    "duration": 7,
    "start_time": "2025-04-26T03:43:28.676Z"
   },
   {
    "duration": 4,
    "start_time": "2025-04-26T03:43:28.685Z"
   },
   {
    "duration": 8,
    "start_time": "2025-04-26T03:43:28.690Z"
   },
   {
    "duration": 27,
    "start_time": "2025-04-26T03:43:28.700Z"
   },
   {
    "duration": 20,
    "start_time": "2025-04-26T03:43:28.729Z"
   },
   {
    "duration": 60,
    "start_time": "2025-04-26T03:43:28.751Z"
   },
   {
    "duration": 92,
    "start_time": "2025-04-26T03:43:28.813Z"
   },
   {
    "duration": 214,
    "start_time": "2025-04-26T03:43:28.907Z"
   },
   {
    "duration": 6,
    "start_time": "2025-04-26T03:43:29.124Z"
   },
   {
    "duration": 70,
    "start_time": "2025-04-26T03:43:29.131Z"
   },
   {
    "duration": 33,
    "start_time": "2025-04-26T03:43:29.203Z"
   },
   {
    "duration": 17,
    "start_time": "2025-04-26T03:43:29.238Z"
   },
   {
    "duration": 4,
    "start_time": "2025-04-26T03:43:29.256Z"
   },
   {
    "duration": 353,
    "start_time": "2025-04-26T03:43:29.262Z"
   },
   {
    "duration": 104,
    "start_time": "2025-04-26T03:43:29.617Z"
   },
   {
    "duration": 8,
    "start_time": "2025-04-26T03:43:48.016Z"
   },
   {
    "duration": 10,
    "start_time": "2025-04-26T03:44:12.565Z"
   },
   {
    "duration": 5,
    "start_time": "2025-04-26T03:44:35.766Z"
   },
   {
    "duration": 10,
    "start_time": "2025-04-26T03:46:08.023Z"
   },
   {
    "duration": 14,
    "start_time": "2025-04-26T03:48:30.882Z"
   },
   {
    "duration": 12,
    "start_time": "2025-04-26T03:48:39.750Z"
   },
   {
    "duration": 157,
    "start_time": "2025-04-26T03:48:49.250Z"
   },
   {
    "duration": 191,
    "start_time": "2025-04-26T03:51:15.717Z"
   },
   {
    "duration": 178,
    "start_time": "2025-04-26T03:52:25.832Z"
   },
   {
    "duration": 11,
    "start_time": "2025-04-26T03:54:06.815Z"
   },
   {
    "duration": 192,
    "start_time": "2025-04-26T03:54:32.096Z"
   },
   {
    "duration": 168,
    "start_time": "2025-04-26T03:55:52.319Z"
   },
   {
    "duration": 237,
    "start_time": "2025-04-26T03:58:05.238Z"
   },
   {
    "duration": 27,
    "start_time": "2025-04-26T03:59:08.747Z"
   },
   {
    "duration": 704,
    "start_time": "2025-04-26T03:59:24.410Z"
   },
   {
    "duration": 8,
    "start_time": "2025-04-26T04:05:05.824Z"
   },
   {
    "duration": 332,
    "start_time": "2025-04-26T04:06:09.311Z"
   },
   {
    "duration": 297,
    "start_time": "2025-04-26T04:06:59.859Z"
   },
   {
    "duration": 5,
    "start_time": "2025-04-26T04:45:56.180Z"
   },
   {
    "duration": 305,
    "start_time": "2025-04-26T04:46:30.014Z"
   },
   {
    "duration": 211,
    "start_time": "2025-04-26T04:46:46.195Z"
   },
   {
    "duration": 1332,
    "start_time": "2025-04-26T04:47:25.897Z"
   },
   {
    "duration": 2740,
    "start_time": "2025-04-26T04:47:27.231Z"
   },
   {
    "duration": 13,
    "start_time": "2025-04-26T04:47:29.973Z"
   },
   {
    "duration": 13,
    "start_time": "2025-04-26T04:47:29.987Z"
   },
   {
    "duration": 123,
    "start_time": "2025-04-26T04:47:30.002Z"
   },
   {
    "duration": 26,
    "start_time": "2025-04-26T04:47:30.127Z"
   },
   {
    "duration": 72,
    "start_time": "2025-04-26T04:47:30.155Z"
   },
   {
    "duration": 114,
    "start_time": "2025-04-26T04:47:30.229Z"
   },
   {
    "duration": 47,
    "start_time": "2025-04-26T04:47:30.345Z"
   },
   {
    "duration": 10,
    "start_time": "2025-04-26T04:47:30.395Z"
   },
   {
    "duration": 44,
    "start_time": "2025-04-26T04:47:30.407Z"
   },
   {
    "duration": 29,
    "start_time": "2025-04-26T04:47:30.453Z"
   },
   {
    "duration": 40,
    "start_time": "2025-04-26T04:47:30.483Z"
   },
   {
    "duration": 21,
    "start_time": "2025-04-26T04:47:30.526Z"
   },
   {
    "duration": 17,
    "start_time": "2025-04-26T04:47:30.548Z"
   },
   {
    "duration": 12,
    "start_time": "2025-04-26T04:47:30.567Z"
   },
   {
    "duration": 19,
    "start_time": "2025-04-26T04:47:30.580Z"
   },
   {
    "duration": 6,
    "start_time": "2025-04-26T04:47:30.601Z"
   },
   {
    "duration": 189,
    "start_time": "2025-04-26T04:47:30.609Z"
   },
   {
    "duration": 20,
    "start_time": "2025-04-26T04:47:30.800Z"
   },
   {
    "duration": 21,
    "start_time": "2025-04-26T04:47:30.822Z"
   },
   {
    "duration": 38,
    "start_time": "2025-04-26T04:47:30.845Z"
   },
   {
    "duration": 44,
    "start_time": "2025-04-26T04:47:30.885Z"
   },
   {
    "duration": 82,
    "start_time": "2025-04-26T04:47:30.931Z"
   },
   {
    "duration": 40,
    "start_time": "2025-04-26T04:47:31.014Z"
   },
   {
    "duration": 47,
    "start_time": "2025-04-26T04:47:31.055Z"
   },
   {
    "duration": 113,
    "start_time": "2025-04-26T04:47:31.104Z"
   },
   {
    "duration": 11,
    "start_time": "2025-04-26T04:47:31.220Z"
   },
   {
    "duration": 11,
    "start_time": "2025-04-26T04:47:31.232Z"
   },
   {
    "duration": 25,
    "start_time": "2025-04-26T04:47:31.244Z"
   },
   {
    "duration": 20,
    "start_time": "2025-04-26T04:47:31.270Z"
   },
   {
    "duration": 15,
    "start_time": "2025-04-26T04:47:31.292Z"
   },
   {
    "duration": 4,
    "start_time": "2025-04-26T04:47:31.308Z"
   },
   {
    "duration": 45,
    "start_time": "2025-04-26T04:47:31.313Z"
   },
   {
    "duration": 368,
    "start_time": "2025-04-26T04:47:31.360Z"
   },
   {
    "duration": 119,
    "start_time": "2025-04-26T04:47:31.730Z"
   },
   {
    "duration": 65,
    "start_time": "2025-04-26T04:47:31.850Z"
   },
   {
    "duration": 65,
    "start_time": "2025-04-26T04:47:31.917Z"
   },
   {
    "duration": 31,
    "start_time": "2025-04-26T04:47:31.983Z"
   },
   {
    "duration": 5,
    "start_time": "2025-04-26T04:47:32.016Z"
   },
   {
    "duration": 31,
    "start_time": "2025-04-26T04:47:32.029Z"
   },
   {
    "duration": 44,
    "start_time": "2025-04-26T04:47:32.062Z"
   },
   {
    "duration": 14,
    "start_time": "2025-04-26T04:47:32.108Z"
   },
   {
    "duration": 16,
    "start_time": "2025-04-26T04:47:32.124Z"
   },
   {
    "duration": 92,
    "start_time": "2025-04-26T04:47:32.142Z"
   },
   {
    "duration": 15,
    "start_time": "2025-04-26T04:47:32.236Z"
   },
   {
    "duration": 85,
    "start_time": "2025-04-26T04:47:32.253Z"
   },
   {
    "duration": 37,
    "start_time": "2025-04-26T04:47:32.340Z"
   },
   {
    "duration": 34,
    "start_time": "2025-04-26T04:47:32.379Z"
   },
   {
    "duration": 35,
    "start_time": "2025-04-26T04:47:32.414Z"
   },
   {
    "duration": 28,
    "start_time": "2025-04-26T04:47:32.451Z"
   },
   {
    "duration": 15,
    "start_time": "2025-04-26T04:47:32.481Z"
   },
   {
    "duration": 122,
    "start_time": "2025-04-26T04:47:32.498Z"
   },
   {
    "duration": 8,
    "start_time": "2025-04-26T04:47:32.622Z"
   },
   {
    "duration": 23,
    "start_time": "2025-04-26T04:47:32.677Z"
   },
   {
    "duration": 40,
    "start_time": "2025-04-26T04:47:32.702Z"
   },
   {
    "duration": 26,
    "start_time": "2025-04-26T04:47:32.744Z"
   },
   {
    "duration": 2883,
    "start_time": "2025-04-26T04:47:32.772Z"
   },
   {
    "duration": 105,
    "start_time": "2025-04-26T04:47:35.657Z"
   },
   {
    "duration": 92,
    "start_time": "2025-04-26T04:47:35.764Z"
   },
   {
    "duration": 110,
    "start_time": "2025-04-26T04:47:35.858Z"
   },
   {
    "duration": 26,
    "start_time": "2025-04-26T04:47:35.977Z"
   },
   {
    "duration": 364,
    "start_time": "2025-04-26T04:47:36.004Z"
   },
   {
    "duration": 32,
    "start_time": "2025-04-26T04:47:36.369Z"
   },
   {
    "duration": 82,
    "start_time": "2025-04-26T04:47:36.403Z"
   },
   {
    "duration": 6,
    "start_time": "2025-04-26T04:47:36.487Z"
   },
   {
    "duration": 7,
    "start_time": "2025-04-26T04:47:36.494Z"
   },
   {
    "duration": 29,
    "start_time": "2025-04-26T04:47:36.503Z"
   },
   {
    "duration": 17,
    "start_time": "2025-04-26T04:47:36.534Z"
   },
   {
    "duration": 17,
    "start_time": "2025-04-26T04:47:36.553Z"
   },
   {
    "duration": 208,
    "start_time": "2025-04-26T04:47:36.572Z"
   },
   {
    "duration": 21,
    "start_time": "2025-04-26T04:47:36.782Z"
   },
   {
    "duration": 24,
    "start_time": "2025-04-26T04:47:36.805Z"
   },
   {
    "duration": 50,
    "start_time": "2025-04-26T04:47:36.831Z"
   },
   {
    "duration": 40,
    "start_time": "2025-04-26T04:47:36.883Z"
   },
   {
    "duration": 52,
    "start_time": "2025-04-26T04:47:36.925Z"
   },
   {
    "duration": 10,
    "start_time": "2025-04-26T04:47:36.979Z"
   },
   {
    "duration": 345,
    "start_time": "2025-04-26T04:47:36.990Z"
   },
   {
    "duration": 136,
    "start_time": "2025-04-26T04:47:37.337Z"
   },
   {
    "duration": 6,
    "start_time": "2025-04-26T04:47:37.476Z"
   },
   {
    "duration": 90,
    "start_time": "2025-04-26T04:47:37.484Z"
   },
   {
    "duration": 37,
    "start_time": "2025-04-26T04:47:37.576Z"
   },
   {
    "duration": 30,
    "start_time": "2025-04-26T04:47:37.615Z"
   },
   {
    "duration": 21,
    "start_time": "2025-04-26T04:47:37.647Z"
   },
   {
    "duration": 106,
    "start_time": "2025-04-26T04:47:37.670Z"
   },
   {
    "duration": 59,
    "start_time": "2025-04-26T04:47:37.778Z"
   },
   {
    "duration": 328,
    "start_time": "2025-04-26T04:47:37.839Z"
   },
   {
    "duration": 6,
    "start_time": "2025-04-26T04:47:38.177Z"
   },
   {
    "duration": 16,
    "start_time": "2025-04-26T04:47:38.185Z"
   },
   {
    "duration": 16,
    "start_time": "2025-04-26T04:47:38.203Z"
   },
   {
    "duration": 13,
    "start_time": "2025-04-26T04:47:38.220Z"
   },
   {
    "duration": 4,
    "start_time": "2025-04-26T04:47:38.235Z"
   },
   {
    "duration": 372,
    "start_time": "2025-04-26T04:47:38.240Z"
   },
   {
    "duration": 5,
    "start_time": "2025-04-26T04:47:38.613Z"
   },
   {
    "duration": 131,
    "start_time": "2025-04-26T04:47:38.620Z"
   },
   {
    "duration": 192,
    "start_time": "2025-04-26T04:47:38.752Z"
   },
   {
    "duration": 834,
    "start_time": "2025-04-26T04:47:38.946Z"
   },
   {
    "duration": 9,
    "start_time": "2025-04-26T04:47:39.782Z"
   },
   {
    "duration": 323,
    "start_time": "2025-04-26T04:47:39.793Z"
   },
   {
    "duration": 1267,
    "start_time": "2025-04-26T10:31:57.023Z"
   },
   {
    "duration": 2193,
    "start_time": "2025-04-26T10:31:58.292Z"
   },
   {
    "duration": 15,
    "start_time": "2025-04-26T10:32:00.488Z"
   },
   {
    "duration": 55,
    "start_time": "2025-04-26T10:32:00.505Z"
   },
   {
    "duration": 118,
    "start_time": "2025-04-26T10:32:00.562Z"
   },
   {
    "duration": 34,
    "start_time": "2025-04-26T10:32:00.681Z"
   },
   {
    "duration": 69,
    "start_time": "2025-04-26T10:32:00.716Z"
   },
   {
    "duration": 108,
    "start_time": "2025-04-26T10:32:00.788Z"
   },
   {
    "duration": 49,
    "start_time": "2025-04-26T10:32:00.897Z"
   },
   {
    "duration": 15,
    "start_time": "2025-04-26T10:32:00.949Z"
   },
   {
    "duration": 39,
    "start_time": "2025-04-26T10:32:00.965Z"
   },
   {
    "duration": 28,
    "start_time": "2025-04-26T10:32:01.006Z"
   },
   {
    "duration": 42,
    "start_time": "2025-04-26T10:32:01.036Z"
   },
   {
    "duration": 8,
    "start_time": "2025-04-26T10:32:01.080Z"
   },
   {
    "duration": 21,
    "start_time": "2025-04-26T10:32:01.090Z"
   },
   {
    "duration": 26,
    "start_time": "2025-04-26T10:32:01.113Z"
   },
   {
    "duration": 24,
    "start_time": "2025-04-26T10:32:01.141Z"
   },
   {
    "duration": 16,
    "start_time": "2025-04-26T10:32:01.166Z"
   },
   {
    "duration": 193,
    "start_time": "2025-04-26T10:32:01.184Z"
   },
   {
    "duration": 21,
    "start_time": "2025-04-26T10:32:01.380Z"
   },
   {
    "duration": 32,
    "start_time": "2025-04-26T10:32:01.402Z"
   },
   {
    "duration": 21,
    "start_time": "2025-04-26T10:32:01.436Z"
   },
   {
    "duration": 77,
    "start_time": "2025-04-26T10:32:01.459Z"
   },
   {
    "duration": 76,
    "start_time": "2025-04-26T10:32:01.539Z"
   },
   {
    "duration": 39,
    "start_time": "2025-04-26T10:32:01.617Z"
   },
   {
    "duration": 101,
    "start_time": "2025-04-26T10:32:01.657Z"
   },
   {
    "duration": 39,
    "start_time": "2025-04-26T10:32:01.759Z"
   },
   {
    "duration": 17,
    "start_time": "2025-04-26T10:32:01.803Z"
   },
   {
    "duration": 10,
    "start_time": "2025-04-26T10:32:01.822Z"
   },
   {
    "duration": 33,
    "start_time": "2025-04-26T10:32:01.834Z"
   },
   {
    "duration": 21,
    "start_time": "2025-04-26T10:32:01.869Z"
   },
   {
    "duration": 13,
    "start_time": "2025-04-26T10:32:01.892Z"
   },
   {
    "duration": 5,
    "start_time": "2025-04-26T10:32:01.907Z"
   },
   {
    "duration": 204,
    "start_time": "2025-04-26T10:32:01.913Z"
   },
   {
    "duration": 268,
    "start_time": "2025-04-26T10:32:02.118Z"
   },
   {
    "duration": 119,
    "start_time": "2025-04-26T10:32:02.388Z"
   },
   {
    "duration": 105,
    "start_time": "2025-04-26T10:32:02.509Z"
   },
   {
    "duration": 91,
    "start_time": "2025-04-26T10:32:02.616Z"
   },
   {
    "duration": 15,
    "start_time": "2025-04-26T10:32:02.709Z"
   },
   {
    "duration": 55,
    "start_time": "2025-04-26T10:32:02.726Z"
   },
   {
    "duration": 54,
    "start_time": "2025-04-26T10:32:02.783Z"
   },
   {
    "duration": 50,
    "start_time": "2025-04-26T10:32:02.839Z"
   },
   {
    "duration": 26,
    "start_time": "2025-04-26T10:32:02.891Z"
   },
   {
    "duration": 27,
    "start_time": "2025-04-26T10:32:02.918Z"
   },
   {
    "duration": 73,
    "start_time": "2025-04-26T10:32:02.947Z"
   },
   {
    "duration": 16,
    "start_time": "2025-04-26T10:32:03.022Z"
   },
   {
    "duration": 32,
    "start_time": "2025-04-26T10:32:03.041Z"
   },
   {
    "duration": 10,
    "start_time": "2025-04-26T10:32:03.076Z"
   },
   {
    "duration": 21,
    "start_time": "2025-04-26T10:32:03.088Z"
   },
   {
    "duration": 29,
    "start_time": "2025-04-26T10:32:03.111Z"
   },
   {
    "duration": 53,
    "start_time": "2025-04-26T10:32:03.142Z"
   },
   {
    "duration": 51,
    "start_time": "2025-04-26T10:32:03.197Z"
   },
   {
    "duration": 115,
    "start_time": "2025-04-26T10:32:03.250Z"
   },
   {
    "duration": 10,
    "start_time": "2025-04-26T10:32:03.366Z"
   },
   {
    "duration": 44,
    "start_time": "2025-04-26T10:32:03.378Z"
   },
   {
    "duration": 84,
    "start_time": "2025-04-26T10:32:03.424Z"
   },
   {
    "duration": 21,
    "start_time": "2025-04-26T10:32:03.510Z"
   },
   {
    "duration": 9426,
    "start_time": "2025-04-26T10:32:03.533Z"
   },
   {
    "duration": 110,
    "start_time": "2025-04-26T10:32:12.962Z"
   },
   {
    "duration": 86,
    "start_time": "2025-04-26T10:32:13.073Z"
   },
   {
    "duration": 100,
    "start_time": "2025-04-26T10:32:13.160Z"
   },
   {
    "duration": 23,
    "start_time": "2025-04-26T10:32:13.261Z"
   },
   {
    "duration": 351,
    "start_time": "2025-04-26T10:32:13.286Z"
   },
   {
    "duration": 27,
    "start_time": "2025-04-26T10:32:13.639Z"
   },
   {
    "duration": 87,
    "start_time": "2025-04-26T10:32:13.668Z"
   },
   {
    "duration": 9,
    "start_time": "2025-04-26T10:32:13.757Z"
   },
   {
    "duration": 12,
    "start_time": "2025-04-26T10:32:13.768Z"
   },
   {
    "duration": 10,
    "start_time": "2025-04-26T10:32:13.782Z"
   },
   {
    "duration": 12,
    "start_time": "2025-04-26T10:32:13.794Z"
   },
   {
    "duration": 29,
    "start_time": "2025-04-26T10:32:13.808Z"
   },
   {
    "duration": 83,
    "start_time": "2025-04-26T10:32:13.838Z"
   },
   {
    "duration": 102,
    "start_time": "2025-04-26T10:32:13.922Z"
   },
   {
    "duration": 123,
    "start_time": "2025-04-26T10:32:14.028Z"
   },
   {
    "duration": 26,
    "start_time": "2025-04-26T10:32:14.152Z"
   },
   {
    "duration": 35,
    "start_time": "2025-04-26T10:32:14.180Z"
   },
   {
    "duration": 30,
    "start_time": "2025-04-26T10:32:14.217Z"
   },
   {
    "duration": 171,
    "start_time": "2025-04-26T10:32:14.249Z"
   },
   {
    "duration": 240,
    "start_time": "2025-04-26T10:32:14.422Z"
   },
   {
    "duration": 145,
    "start_time": "2025-04-26T10:32:14.664Z"
   },
   {
    "duration": 7,
    "start_time": "2025-04-26T10:32:14.810Z"
   },
   {
    "duration": 10,
    "start_time": "2025-04-26T10:32:14.819Z"
   },
   {
    "duration": 6,
    "start_time": "2025-04-26T10:32:14.835Z"
   },
   {
    "duration": 21,
    "start_time": "2025-04-26T10:32:14.842Z"
   },
   {
    "duration": 47,
    "start_time": "2025-04-26T10:32:14.865Z"
   },
   {
    "duration": 32,
    "start_time": "2025-04-26T10:32:14.914Z"
   },
   {
    "duration": 28,
    "start_time": "2025-04-26T10:32:14.948Z"
   },
   {
    "duration": 272,
    "start_time": "2025-04-26T10:32:14.978Z"
   },
   {
    "duration": 7,
    "start_time": "2025-04-26T10:32:15.252Z"
   },
   {
    "duration": 85,
    "start_time": "2025-04-26T10:32:15.261Z"
   },
   {
    "duration": 67,
    "start_time": "2025-04-26T10:32:15.348Z"
   },
   {
    "duration": 62,
    "start_time": "2025-04-26T10:32:15.417Z"
   },
   {
    "duration": 22,
    "start_time": "2025-04-26T10:32:15.482Z"
   },
   {
    "duration": 445,
    "start_time": "2025-04-26T10:32:15.506Z"
   },
   {
    "duration": 6,
    "start_time": "2025-04-26T10:32:15.953Z"
   },
   {
    "duration": 43,
    "start_time": "2025-04-26T10:32:15.966Z"
   },
   {
    "duration": 178,
    "start_time": "2025-04-26T10:32:16.011Z"
   },
   {
    "duration": 849,
    "start_time": "2025-04-26T10:32:16.191Z"
   },
   {
    "duration": 7,
    "start_time": "2025-04-26T10:32:17.042Z"
   },
   {
    "duration": 332,
    "start_time": "2025-04-26T10:32:17.051Z"
   }
  ],
  "colab": {
   "provenance": []
  },
  "kernelspec": {
   "display_name": "Python 3 (ipykernel)",
   "language": "python",
   "name": "python3"
  },
  "language_info": {
   "codemirror_mode": {
    "name": "ipython",
    "version": 3
   },
   "file_extension": ".py",
   "mimetype": "text/x-python",
   "name": "python",
   "nbconvert_exporter": "python",
   "pygments_lexer": "ipython3",
   "version": "3.9.7"
  },
  "toc": {
   "base_numbering": 1,
   "nav_menu": {},
   "number_sections": true,
   "sideBar": true,
   "skip_h1_title": true,
   "title_cell": "Table of Contents",
   "title_sidebar": "Contents",
   "toc_cell": false,
   "toc_position": {
    "height": "calc(100% - 180px)",
    "left": "10px",
    "top": "150px",
    "width": "275.1875px"
   },
   "toc_section_display": true,
   "toc_window_display": true
  }
 },
 "nbformat": 4,
 "nbformat_minor": 1
}
