{
 "cells": [
  {
   "cell_type": "markdown",
   "metadata": {
    "id": "LMuaGIE3lGcr"
   },
   "source": [
    "# Исследовательский анализ данных и проверка гипотез Яндекс Афиши"
   ]
  },
  {
   "cell_type": "markdown",
   "metadata": {
    "id": "PODsBKyQvbkL"
   },
   "source": [
    "Автор: Чимбир В.И.\n",
    "\n",
    "Дата: 11.07.2025"
   ]
  },
  {
   "cell_type": "markdown",
   "metadata": {
    "id": "M7nPnrn3vbkM"
   },
   "source": [
    "# Содержание\n",
    "\n",
    "1. Цели проекта.\n",
    "2. Описание данных.\n",
    "3. Загрузка библиотек, датасетов и знакомство с данными.\n",
    "4. Предобработка данных."
   ]
  },
  {
   "cell_type": "markdown",
   "metadata": {
    "id": "cB7IR4sivbkM"
   },
   "source": [
    "### Цели проекта\n",
    "\n",
    "Провести исследовательский анализ пользовательского поведения на сервисе продажи билетов, выявить сезонные и поведенческие паттерны, определить ключевых партнёров и регионы, а также проверить гипотезы об активности пользователей мобильных и стационарных устройств."
   ]
  },
  {
   "cell_type": "markdown",
   "metadata": {
    "id": "HjAHPGqmvbkM"
   },
   "source": [
    "### Описание данных\n",
    "\n",
    "#### **1. Таблица `orders_df` — данные о заказах**\n",
    "Содержит информацию о бронированиях билетов пользователями.\n",
    "\n",
    "| Название столбца        | Описание                                                                 |\n",
    "|-------------------------|--------------------------------------------------------------------------|\n",
    "| `order_id`              | Уникальный идентификатор заказа                                          |\n",
    "| `user_id`               | Уникальный идентификатор пользователя                                    |\n",
    "| `created_dt_msk`        | Дата создания заказа (МСК)                                               |\n",
    "| `created_ts_msk`        | Дата и время создания заказа (МСК)                                       |\n",
    "| `event_id`              | Идентификатор мероприятия                                                |\n",
    "| `cinema_circuit`        | Сеть кинотеатров (если применимо), иначе — `'нет'`                       |\n",
    "| `age_limit`             | Возрастное ограничение мероприятия                                       |\n",
    "| `currency_code`         | Валюта оплаты (например, `rub`, `kzt`)                                   |\n",
    "| `device_type_canonical` | Тип устройства (`mobile`, `desktop` и т.д.)                              |\n",
    "| `revenue`               | Выручка по заказу                                                        |\n",
    "| `service_name`          | Название билетного оператора                                             |\n",
    "| `tickets_count`         | Количество купленных билетов                                             |\n",
    "| `total`                 | Общая сумма заказа                                                       |\n",
    "| `days_since_prev`       | Количество дней с предыдущей покупки пользователя (NaN, если первой нет) |\n",
    "\n",
    "---\n",
    "\n",
    "#### **2. Таблица `events_df` — информация о мероприятиях**\n",
    "Содержит сведения о событиях, в том числе регион и площадку проведения.\n",
    "\n",
    "| Название столбца         | Описание                                                                 |\n",
    "|--------------------------|--------------------------------------------------------------------------|\n",
    "| `event_id`               | Уникальный идентификатор мероприятия                                     |\n",
    "| `event_name`             | Название мероприятия                                                     |\n",
    "| `event_type_description` | Подробное описание типа мероприятия                                     |\n",
    "| `event_type_main`        | Основной тип мероприятия (концерт, спектакль и т.д.)                     |\n",
    "| `organizers`             | Организаторы мероприятия                                                 |\n",
    "| `region_name`            | Название региона                                                         |\n",
    "| `city_name`              | Название города                                                          |\n",
    "| `venue_id`               | Уникальный идентификатор площадки проведения                             |\n",
    "| `venue_name`             | Название площадки                                                        |\n",
    "| `venue_address`          | Адрес площадки                                                           |\n",
    "\n",
    "---\n",
    "\n",
    "#### **3. Таблица `currency_df` — курс тенге к рублю**\n",
    "Нужна для конвертации заказов, оплаченных в тенге, в рубли.\n",
    "\n",
    "| Название столбца | Описание                                      |\n",
    "|------------------|-----------------------------------------------|\n",
    "| `nominal`        | Номинал валюты (100 тенге)                    |\n",
    "| `data`           | Дата курса                                    |\n",
    "| `curs`           | Курс тенге к рублю за 100 тенге               |\n",
    "| `cdx`            | Валюта (`kzt`)                                |\n",
    "\n",
    "---\n"
   ]
  },
  {
   "cell_type": "markdown",
   "metadata": {
    "id": "Fav5w_8YvbkN"
   },
   "source": [
    "### Загрузка библиотек, датасетов и знакомство с данными."
   ]
  },
  {
   "cell_type": "code",
   "execution_count": 13,
   "metadata": {
    "id": "O0gnKJlJvbkN"
   },
   "outputs": [],
   "source": [
    "# Импортируем необходимые инструменты\n",
    "\n",
    "import pandas as pd\n",
    "import numpy as np\n",
    "import matplotlib.pyplot as plt\n",
    "import seaborn as sns\n",
    "import calendar\n",
    "import scipy.stats as stats\n",
    "from scipy.stats import mannwhitneyu\n"
   ]
  },
  {
   "cell_type": "code",
   "execution_count": 14,
   "metadata": {
    "id": "QOUrQkOwvbkP"
   },
   "outputs": [],
   "source": [
    "# Загрузим датасеты\n",
    "\n",
    "orders_df = pd.read_csv('https://code.s3.yandex.net/datasets/final_tickets_orders_df.csv', parse_dates=['created_dt_msk', 'created_ts_msk'])\n",
    "events_df = pd.read_csv('https://code.s3.yandex.net/datasets/final_tickets_events_df.csv')\n",
    "currency_df = pd.read_csv('https://code.s3.yandex.net/datasets/final_tickets_tenge_df.csv', parse_dates=['data'])"
   ]
  },
  {
   "cell_type": "code",
   "execution_count": 15,
   "metadata": {
    "colab": {
     "base_uri": "https://localhost:8080/",
     "height": 574
    },
    "id": "iMN9ki4gvbkP",
    "outputId": "36fafe93-c228-46e1-b21b-e9e596cfd9c6"
   },
   "outputs": [
    {
     "name": "stdout",
     "output_type": "stream",
     "text": [
      "orders_df: (290849, 14)\n",
      "events_df: (22427, 11)\n",
      "currency_df: (357, 4)\n"
     ]
    },
    {
     "data": {
      "text/html": [
       "<div>\n",
       "<style scoped>\n",
       "    .dataframe tbody tr th:only-of-type {\n",
       "        vertical-align: middle;\n",
       "    }\n",
       "\n",
       "    .dataframe tbody tr th {\n",
       "        vertical-align: top;\n",
       "    }\n",
       "\n",
       "    .dataframe thead th {\n",
       "        text-align: right;\n",
       "    }\n",
       "</style>\n",
       "<table border=\"1\" class=\"dataframe\">\n",
       "  <thead>\n",
       "    <tr style=\"text-align: right;\">\n",
       "      <th></th>\n",
       "      <th>order_id</th>\n",
       "      <th>user_id</th>\n",
       "      <th>created_dt_msk</th>\n",
       "      <th>created_ts_msk</th>\n",
       "      <th>event_id</th>\n",
       "      <th>cinema_circuit</th>\n",
       "      <th>age_limit</th>\n",
       "      <th>currency_code</th>\n",
       "      <th>device_type_canonical</th>\n",
       "      <th>revenue</th>\n",
       "      <th>service_name</th>\n",
       "      <th>tickets_count</th>\n",
       "      <th>total</th>\n",
       "      <th>days_since_prev</th>\n",
       "    </tr>\n",
       "  </thead>\n",
       "  <tbody>\n",
       "    <tr>\n",
       "      <th>0</th>\n",
       "      <td>4359165</td>\n",
       "      <td>0002849b70a3ce2</td>\n",
       "      <td>2024-08-20</td>\n",
       "      <td>2024-08-20 16:08:03</td>\n",
       "      <td>169230</td>\n",
       "      <td>нет</td>\n",
       "      <td>16</td>\n",
       "      <td>rub</td>\n",
       "      <td>mobile</td>\n",
       "      <td>1521.94</td>\n",
       "      <td>Край билетов</td>\n",
       "      <td>4</td>\n",
       "      <td>10870.99</td>\n",
       "      <td>NaN</td>\n",
       "    </tr>\n",
       "    <tr>\n",
       "      <th>1</th>\n",
       "      <td>7965605</td>\n",
       "      <td>0005ca5e93f2cf4</td>\n",
       "      <td>2024-07-23</td>\n",
       "      <td>2024-07-23 18:36:24</td>\n",
       "      <td>237325</td>\n",
       "      <td>нет</td>\n",
       "      <td>0</td>\n",
       "      <td>rub</td>\n",
       "      <td>mobile</td>\n",
       "      <td>289.45</td>\n",
       "      <td>Мой билет</td>\n",
       "      <td>2</td>\n",
       "      <td>2067.51</td>\n",
       "      <td>NaN</td>\n",
       "    </tr>\n",
       "    <tr>\n",
       "      <th>2</th>\n",
       "      <td>7292370</td>\n",
       "      <td>0005ca5e93f2cf4</td>\n",
       "      <td>2024-10-06</td>\n",
       "      <td>2024-10-06 13:56:02</td>\n",
       "      <td>578454</td>\n",
       "      <td>нет</td>\n",
       "      <td>0</td>\n",
       "      <td>rub</td>\n",
       "      <td>mobile</td>\n",
       "      <td>1258.57</td>\n",
       "      <td>За билетом!</td>\n",
       "      <td>4</td>\n",
       "      <td>13984.16</td>\n",
       "      <td>75.0</td>\n",
       "    </tr>\n",
       "  </tbody>\n",
       "</table>\n",
       "</div>"
      ],
      "text/plain": [
       "   order_id          user_id created_dt_msk      created_ts_msk  event_id  \\\n",
       "0   4359165  0002849b70a3ce2     2024-08-20 2024-08-20 16:08:03    169230   \n",
       "1   7965605  0005ca5e93f2cf4     2024-07-23 2024-07-23 18:36:24    237325   \n",
       "2   7292370  0005ca5e93f2cf4     2024-10-06 2024-10-06 13:56:02    578454   \n",
       "\n",
       "  cinema_circuit  age_limit currency_code device_type_canonical  revenue  \\\n",
       "0            нет         16           rub                mobile  1521.94   \n",
       "1            нет          0           rub                mobile   289.45   \n",
       "2            нет          0           rub                mobile  1258.57   \n",
       "\n",
       "   service_name  tickets_count     total  days_since_prev  \n",
       "0  Край билетов              4  10870.99              NaN  \n",
       "1     Мой билет              2   2067.51              NaN  \n",
       "2   За билетом!              4  13984.16             75.0  "
      ]
     },
     "metadata": {},
     "output_type": "display_data"
    },
    {
     "data": {
      "text/html": [
       "<div>\n",
       "<style scoped>\n",
       "    .dataframe tbody tr th:only-of-type {\n",
       "        vertical-align: middle;\n",
       "    }\n",
       "\n",
       "    .dataframe tbody tr th {\n",
       "        vertical-align: top;\n",
       "    }\n",
       "\n",
       "    .dataframe thead th {\n",
       "        text-align: right;\n",
       "    }\n",
       "</style>\n",
       "<table border=\"1\" class=\"dataframe\">\n",
       "  <thead>\n",
       "    <tr style=\"text-align: right;\">\n",
       "      <th></th>\n",
       "      <th>event_id</th>\n",
       "      <th>event_name</th>\n",
       "      <th>event_type_description</th>\n",
       "      <th>event_type_main</th>\n",
       "      <th>organizers</th>\n",
       "      <th>region_name</th>\n",
       "      <th>city_name</th>\n",
       "      <th>city_id</th>\n",
       "      <th>venue_id</th>\n",
       "      <th>venue_name</th>\n",
       "      <th>venue_address</th>\n",
       "    </tr>\n",
       "  </thead>\n",
       "  <tbody>\n",
       "    <tr>\n",
       "      <th>0</th>\n",
       "      <td>4436</td>\n",
       "      <td>e4f26fba-da77-4c61-928a-6c3e434d793f</td>\n",
       "      <td>спектакль</td>\n",
       "      <td>театр</td>\n",
       "      <td>№4893</td>\n",
       "      <td>Североярская область</td>\n",
       "      <td>Озёрск</td>\n",
       "      <td>2</td>\n",
       "      <td>1600</td>\n",
       "      <td>Кладбище искусств \"Проблема\" и партнеры</td>\n",
       "      <td>наб. Загородная, д. 785</td>\n",
       "    </tr>\n",
       "    <tr>\n",
       "      <th>1</th>\n",
       "      <td>5785</td>\n",
       "      <td>5cc08a60-fdea-4186-9bb2-bffc3603fb77</td>\n",
       "      <td>спектакль</td>\n",
       "      <td>театр</td>\n",
       "      <td>№1931</td>\n",
       "      <td>Светополянский округ</td>\n",
       "      <td>Глиноград</td>\n",
       "      <td>54</td>\n",
       "      <td>2196</td>\n",
       "      <td>Лекции по искусству \"Свет\" Групп</td>\n",
       "      <td>ул. Ягодная, д. 942</td>\n",
       "    </tr>\n",
       "    <tr>\n",
       "      <th>2</th>\n",
       "      <td>8817</td>\n",
       "      <td>8e379a89-3a10-4811-ba06-ec22ebebe989</td>\n",
       "      <td>спектакль</td>\n",
       "      <td>театр</td>\n",
       "      <td>№4896</td>\n",
       "      <td>Североярская область</td>\n",
       "      <td>Озёрск</td>\n",
       "      <td>2</td>\n",
       "      <td>4043</td>\n",
       "      <td>Кинокомитет \"Золотая\" Инк</td>\n",
       "      <td>ш. Коммуны, д. 92 стр. 6</td>\n",
       "    </tr>\n",
       "  </tbody>\n",
       "</table>\n",
       "</div>"
      ],
      "text/plain": [
       "   event_id                            event_name event_type_description  \\\n",
       "0      4436  e4f26fba-da77-4c61-928a-6c3e434d793f              спектакль   \n",
       "1      5785  5cc08a60-fdea-4186-9bb2-bffc3603fb77              спектакль   \n",
       "2      8817  8e379a89-3a10-4811-ba06-ec22ebebe989              спектакль   \n",
       "\n",
       "  event_type_main organizers           region_name  city_name  city_id  \\\n",
       "0           театр      №4893  Североярская область     Озёрск        2   \n",
       "1           театр      №1931  Светополянский округ  Глиноград       54   \n",
       "2           театр      №4896  Североярская область     Озёрск        2   \n",
       "\n",
       "   venue_id                               venue_name             venue_address  \n",
       "0      1600  Кладбище искусств \"Проблема\" и партнеры   наб. Загородная, д. 785  \n",
       "1      2196         Лекции по искусству \"Свет\" Групп       ул. Ягодная, д. 942  \n",
       "2      4043                Кинокомитет \"Золотая\" Инк  ш. Коммуны, д. 92 стр. 6  "
      ]
     },
     "metadata": {},
     "output_type": "display_data"
    },
    {
     "data": {
      "text/html": [
       "<div>\n",
       "<style scoped>\n",
       "    .dataframe tbody tr th:only-of-type {\n",
       "        vertical-align: middle;\n",
       "    }\n",
       "\n",
       "    .dataframe tbody tr th {\n",
       "        vertical-align: top;\n",
       "    }\n",
       "\n",
       "    .dataframe thead th {\n",
       "        text-align: right;\n",
       "    }\n",
       "</style>\n",
       "<table border=\"1\" class=\"dataframe\">\n",
       "  <thead>\n",
       "    <tr style=\"text-align: right;\">\n",
       "      <th></th>\n",
       "      <th>data</th>\n",
       "      <th>nominal</th>\n",
       "      <th>curs</th>\n",
       "      <th>cdx</th>\n",
       "    </tr>\n",
       "  </thead>\n",
       "  <tbody>\n",
       "    <tr>\n",
       "      <th>0</th>\n",
       "      <td>2024-01-10</td>\n",
       "      <td>100</td>\n",
       "      <td>19.9391</td>\n",
       "      <td>kzt</td>\n",
       "    </tr>\n",
       "    <tr>\n",
       "      <th>1</th>\n",
       "      <td>2024-01-11</td>\n",
       "      <td>100</td>\n",
       "      <td>19.7255</td>\n",
       "      <td>kzt</td>\n",
       "    </tr>\n",
       "    <tr>\n",
       "      <th>2</th>\n",
       "      <td>2024-01-12</td>\n",
       "      <td>100</td>\n",
       "      <td>19.5839</td>\n",
       "      <td>kzt</td>\n",
       "    </tr>\n",
       "  </tbody>\n",
       "</table>\n",
       "</div>"
      ],
      "text/plain": [
       "        data  nominal     curs  cdx\n",
       "0 2024-01-10      100  19.9391  kzt\n",
       "1 2024-01-11      100  19.7255  kzt\n",
       "2 2024-01-12      100  19.5839  kzt"
      ]
     },
     "metadata": {},
     "output_type": "display_data"
    }
   ],
   "source": [
    "# Познакомимся с данными\n",
    "\n",
    "# Размерности\n",
    "print(\"orders_df:\", orders_df.shape)\n",
    "print(\"events_df:\", events_df.shape)\n",
    "print(\"currency_df:\", currency_df.shape)\n",
    "\n",
    "# Быстрый просмотр\n",
    "display(orders_df.head(3))\n",
    "display(events_df.head(3))\n",
    "display(currency_df.head(3))"
   ]
  },
  {
   "cell_type": "markdown",
   "metadata": {
    "id": "sEYV3zK8vbkP"
   },
   "source": [
    "Промежуточный вывод:\n",
    "\n",
    "- Все данные соответсвуют описанию и контексту.\n",
    "- Перед предобработкой данных стоит сразу объединить датафреймы и сделать конвертацию валюты."
   ]
  },
  {
   "cell_type": "markdown",
   "metadata": {
    "id": "Env13rK4vbkP"
   },
   "source": [
    "### Предобрабокта данных"
   ]
  },
  {
   "cell_type": "markdown",
   "metadata": {
    "id": "ZZ1is54TvbkQ"
   },
   "source": [
    "#### Объединение таблиц"
   ]
  },
  {
   "cell_type": "code",
   "execution_count": 4,
   "metadata": {
    "id": "-F6ErIakvbkQ"
   },
   "outputs": [],
   "source": [
    "# Объединение заказов и информации о событиях\n",
    "df = orders_df.merge(events_df, on='event_id', how='inner')"
   ]
  },
  {
   "cell_type": "code",
   "execution_count": 5,
   "metadata": {
    "colab": {
     "base_uri": "https://localhost:8080/"
    },
    "id": "HyE2tLeqvbkQ",
    "outputId": "b7f9795b-4945-44c6-9e40-076389109ca2"
   },
   "outputs": [
    {
     "name": "stdout",
     "output_type": "stream",
     "text": [
      "<class 'pandas.core.frame.DataFrame'>\n",
      "RangeIndex: 290611 entries, 0 to 290610\n",
      "Data columns (total 24 columns):\n",
      " #   Column                  Non-Null Count   Dtype         \n",
      "---  ------                  --------------   -----         \n",
      " 0   order_id                290611 non-null  int64         \n",
      " 1   user_id                 290611 non-null  object        \n",
      " 2   created_dt_msk          290611 non-null  datetime64[ns]\n",
      " 3   created_ts_msk          290611 non-null  datetime64[ns]\n",
      " 4   event_id                290611 non-null  int64         \n",
      " 5   cinema_circuit          290611 non-null  object        \n",
      " 6   age_limit               290611 non-null  int64         \n",
      " 7   currency_code           290611 non-null  object        \n",
      " 8   device_type_canonical   290611 non-null  object        \n",
      " 9   revenue                 290611 non-null  float64       \n",
      " 10  service_name            290611 non-null  object        \n",
      " 11  tickets_count           290611 non-null  int64         \n",
      " 12  total                   290611 non-null  float64       \n",
      " 13  days_since_prev         268698 non-null  float64       \n",
      " 14  event_name              290611 non-null  object        \n",
      " 15  event_type_description  290611 non-null  object        \n",
      " 16  event_type_main         290611 non-null  object        \n",
      " 17  organizers              290611 non-null  object        \n",
      " 18  region_name             290611 non-null  object        \n",
      " 19  city_name               290611 non-null  object        \n",
      " 20  city_id                 290611 non-null  int64         \n",
      " 21  venue_id                290611 non-null  int64         \n",
      " 22  venue_name              290611 non-null  object        \n",
      " 23  venue_address           290611 non-null  object        \n",
      "dtypes: datetime64[ns](2), float64(3), int64(6), object(13)\n",
      "memory usage: 53.2+ MB\n"
     ]
    }
   ],
   "source": [
    "# Выведем общую информацию о датафрейме\n",
    "df.info()"
   ]
  },
  {
   "cell_type": "markdown",
   "metadata": {
    "id": "6K8_77eTvbkQ"
   },
   "source": [
    "#### Работа с пропусками"
   ]
  },
  {
   "cell_type": "code",
   "execution_count": 6,
   "metadata": {
    "colab": {
     "base_uri": "https://localhost:8080/",
     "height": 837
    },
    "id": "IE4Q1jx8vbkQ",
    "outputId": "74d8ce84-573a-4f42-b391-f9a5bc57d4e9"
   },
   "outputs": [
    {
     "data": {
      "text/plain": [
       "order_id                      0\n",
       "user_id                       0\n",
       "created_dt_msk                0\n",
       "created_ts_msk                0\n",
       "event_id                      0\n",
       "cinema_circuit                0\n",
       "age_limit                     0\n",
       "currency_code                 0\n",
       "device_type_canonical         0\n",
       "revenue                       0\n",
       "service_name                  0\n",
       "tickets_count                 0\n",
       "total                         0\n",
       "days_since_prev           21913\n",
       "event_name                    0\n",
       "event_type_description        0\n",
       "event_type_main               0\n",
       "organizers                    0\n",
       "region_name                   0\n",
       "city_name                     0\n",
       "city_id                       0\n",
       "venue_id                      0\n",
       "venue_name                    0\n",
       "venue_address                 0\n",
       "dtype: int64"
      ]
     },
     "execution_count": 6,
     "metadata": {},
     "output_type": "execute_result"
    }
   ],
   "source": [
    "# Проверим датафрейм на пропуски\n",
    "df.isna().sum()"
   ]
  },
  {
   "cell_type": "markdown",
   "metadata": {
    "id": "1pB0A8MJvbkQ"
   },
   "source": [
    "Пропуски содержаться только в столбце `days_since_prev`.\n",
    "\n",
    "| `days_since_prev`       | Количество дней с предыдущей покупки пользователя (NaN, если первой нет) |\n",
    "\n",
    "С учетом специфики столбца - пропуски логичны, оставляем без изменения."
   ]
  },
  {
   "cell_type": "markdown",
   "metadata": {
    "id": "yadGwKodvbkR"
   },
   "source": [
    "#### Разбор категориальных значений"
   ]
  },
  {
   "cell_type": "code",
   "execution_count": 7,
   "metadata": {
    "colab": {
     "base_uri": "https://localhost:8080/"
    },
    "id": "mEueniZLvbkR",
    "outputId": "d531e124-32a3-4827-d978-07402da13cc9"
   },
   "outputs": [
    {
     "name": "stdout",
     "output_type": "stream",
     "text": [
      "\n",
      "user_id:\n",
      "user_id\n",
      "0beb8fc0c0a9ce1    10251\n",
      "18e9aead0a393e7     4368\n",
      "8187dac4be757a0     4053\n",
      "3ee7dc2e115847f     3826\n",
      "7eb4fc207ecc10f     3749\n",
      "                   ...  \n",
      "7c0f1cdb436ce17        1\n",
      "7c158eb0fb1a02c        1\n",
      "7c1908cb4b166c1        1\n",
      "7c1cf2fdeea43b2        1\n",
      "ffff00725179321        1\n",
      "Name: count, Length: 21933, dtype: int64\n",
      "\n",
      "cinema_circuit:\n",
      "cinema_circuit\n",
      "нет           289213\n",
      "Другое          1261\n",
      "КиноСити         122\n",
      "Киномакс           7\n",
      "Москино            7\n",
      "ЦентрФильм         1\n",
      "Name: count, dtype: int64\n",
      "\n",
      "currency_code:\n",
      "currency_code\n",
      "rub    285542\n",
      "kzt      5069\n",
      "Name: count, dtype: int64\n",
      "\n",
      "device_type_canonical:\n",
      "device_type_canonical\n",
      "mobile     232490\n",
      "desktop     58121\n",
      "Name: count, dtype: int64\n",
      "\n",
      "service_name:\n",
      "service_name\n",
      "Билеты без проблем        63519\n",
      "Лови билет!               41124\n",
      "Билеты в руки             40343\n",
      "Мой билет                 34839\n",
      "Облачко                   26642\n",
      "Лучшие билеты             17774\n",
      "Весь в билетах            16849\n",
      "Прачечная                 10273\n",
      "Край билетов               6207\n",
      "Тебе билет!                5228\n",
      "Яблоко                     5039\n",
      "Дом культуры               4502\n",
      "За билетом!                2865\n",
      "Городской дом культуры     2733\n",
      "Show_ticket                2200\n",
      "Мир касс                   2167\n",
      "Быстробилет                2003\n",
      "Выступления.ру             1616\n",
      "Восьмёрка                  1118\n",
      "Crazy ticket!               790\n",
      "Росбилет                    539\n",
      "Шоу начинается!             499\n",
      "Быстрый кассир              381\n",
      "Радио ticket                376\n",
      "Телебилет                   321\n",
      "КарандашРУ                  133\n",
      "Реестр                      125\n",
      "Билет по телефону            85\n",
      "Вперёд!                      80\n",
      "Дырокол                      74\n",
      "Кино билет                   67\n",
      "Цвет и билет                 61\n",
      "Тех билет                    22\n",
      "Лимоны                        8\n",
      "Зе Бест!                      5\n",
      "Билеты в интернете            4\n",
      "Name: count, dtype: int64\n",
      "\n",
      "event_name:\n",
      "event_name\n",
      "9cc55c15-4375-4129-9979-3129688ba1b4    3953\n",
      "a00e1032-6463-4fdc-a105-fdbb6789b556    2519\n",
      "0714435e-3b5f-4312-aa36-c3a9d8853ef4    1761\n",
      "58574140-962c-49a3-af70-b773a05661a3    1749\n",
      "e252d33a-2394-44b8-b11d-f0709a6f0260    1628\n",
      "                                        ... \n",
      "cc03f6e6-7788-4279-a2b8-3b544b8844de       1\n",
      "129d9d19-fac5-4341-8a96-ae0049ff41ac       1\n",
      "1ec0f3e7-18db-4204-8317-8404e98a0ebe       1\n",
      "5be61270-0ebf-44eb-8dad-c783c52692fa       1\n",
      "0fd6df8e-49e5-4337-954d-5a4606b1b899       1\n",
      "Name: count, Length: 15248, dtype: int64\n",
      "\n",
      "event_type_description:\n",
      "event_type_description\n",
      "концерт                   112049\n",
      "событие                    58605\n",
      "спектакль                  50592\n",
      "шоу                        13626\n",
      "спорт                      12837\n",
      "мюзикл                      9919\n",
      "спортивное мероприятие      9074\n",
      "балет                       5998\n",
      "выставка                    5876\n",
      "цирковое шоу                5327\n",
      "фестиваль                   4273\n",
      "опера                       1314\n",
      "ёлка                         945\n",
      "музыкальный спектакль        140\n",
      "кукольный спектакль           13\n",
      "экскурсия                      8\n",
      "оперетта                       7\n",
      "подарок                        4\n",
      "снегурочка                     3\n",
      "рок-мюзикл                     1\n",
      "Name: count, dtype: int64\n",
      "\n",
      "event_type_main:\n",
      "event_type_main\n",
      "концерты    115276\n",
      "театр        67321\n",
      "другое       65867\n",
      "спорт        21911\n",
      "стендап      13393\n",
      "выставки      4854\n",
      "ёлки          1989\n",
      "Name: count, dtype: int64\n",
      "\n",
      "organizers:\n",
      "organizers\n",
      "№1531    9748\n",
      "№2121    4738\n",
      "№4054    4362\n",
      "№4549    3972\n",
      "№4837    3368\n",
      "         ... \n",
      "№2546       1\n",
      "№2640       1\n",
      "№2952       1\n",
      "№2570       1\n",
      "№1904       1\n",
      "Name: count, Length: 4293, dtype: int64\n",
      "\n",
      "region_name:\n",
      "region_name\n",
      "Каменевский регион          91058\n",
      "Североярская область        44049\n",
      "Широковская область         16457\n",
      "Медовская область           13901\n",
      "Озернинский край            10476\n",
      "                            ...  \n",
      "Лесноярский край               19\n",
      "Крутоводский регион            18\n",
      "Верхозёрский край              11\n",
      "Сосноводолинская область       10\n",
      "Теплоозёрский округ             7\n",
      "Name: count, Length: 81, dtype: int64\n",
      "\n",
      "city_name:\n",
      "city_name\n",
      "Глиногорск      89446\n",
      "Озёрск          43910\n",
      "Радужсвет       13711\n",
      "Радужнополье     8741\n",
      "Верховино        6579\n",
      "                ...  \n",
      "Крутовичи           1\n",
      "Кристолесье         1\n",
      "Глинополянск        1\n",
      "Голубевск           1\n",
      "Ягодинска           1\n",
      "Name: count, Length: 352, dtype: int64\n",
      "\n",
      "venue_name:\n",
      "venue_name\n",
      "Студия дизайна \"Платформа\" Инкорпорэйтед           9910\n",
      "Картинная галерея \"Светлячок\" Лтд                  4406\n",
      "Креативное пространство \"Вдох\" Лимитед             4257\n",
      "Центр культурного наследия \"Заряд\" и партнеры      4099\n",
      "Студия дизайна \"Лестница\" Лимитед                  4025\n",
      "                                                   ... \n",
      "Народный ансамбль \"Профиль\" Групп                     1\n",
      "Гастрольный театр \"Шанс\" Инкорпорэйтед                1\n",
      "Скульптурная мастерская \"Праздник\" Инк                1\n",
      "Центр культурного наследия \"Steamer\" и партнеры       1\n",
      "Школа музыки \"Парадигма\" Лтд                          1\n",
      "Name: count, Length: 3217, dtype: int64\n",
      "\n",
      "venue_address:\n",
      "venue_address\n",
      "наб. Магистральная, д. 5             9910\n",
      "ул. Дальневосточная, д. 97 к. 1/4    4406\n",
      "бул. Пригородный, д. 7/1             4257\n",
      "ш. Пугачева, д. 9/7 к. 39            4099\n",
      "наб. Школьная, д. 9/8 стр. 7/5       4025\n",
      "                                     ... \n",
      "наб. 40 лет Победы, д. 2 к. 4/3         1\n",
      "пр. Депутатский, д. 299                 1\n",
      "бул. Депутатский, д. 46 к. 2            1\n",
      "пер. Омский, д. 61 к. 44                1\n",
      "пр. Сплавный, д. 236 к. 918             1\n",
      "Name: count, Length: 3225, dtype: int64\n"
     ]
    }
   ],
   "source": [
    "# Выводим уникальные значения по всем категориальным колонкам\n",
    "for col in df.select_dtypes(include='object'):\n",
    "    print(f\"\\n{col}:\")\n",
    "    print(df[col].value_counts(dropna=False))"
   ]
  },
  {
   "cell_type": "code",
   "execution_count": 16,
   "metadata": {
    "colab": {
     "base_uri": "https://localhost:8080/",
     "height": 587
    },
    "id": "IoVLxSvcvbkR",
    "outputId": "8de6f041-d1a6-428e-8052-02c370987cb8"
   },
   "outputs": [
    {
     "name": "stderr",
     "output_type": "stream",
     "text": [
      "/var/folders/xr/gthb0scx0c7dbldkflrk1qd00000gn/T/ipykernel_1072/1393940363.py:12: FutureWarning: DataFrame.applymap has been deprecated. Use DataFrame.map instead.\n",
      "  mask = df.applymap(contains_missing_string)\n"
     ]
    },
    {
     "name": "stdout",
     "output_type": "stream",
     "text": [
      "Количество подозрительных значений в датафрейме: 289213\n",
      "Примеры таких строк:\n"
     ]
    },
    {
     "data": {
      "text/html": [
       "<div>\n",
       "<style scoped>\n",
       "    .dataframe tbody tr th:only-of-type {\n",
       "        vertical-align: middle;\n",
       "    }\n",
       "\n",
       "    .dataframe tbody tr th {\n",
       "        vertical-align: top;\n",
       "    }\n",
       "\n",
       "    .dataframe thead th {\n",
       "        text-align: right;\n",
       "    }\n",
       "</style>\n",
       "<table border=\"1\" class=\"dataframe\">\n",
       "  <thead>\n",
       "    <tr style=\"text-align: right;\">\n",
       "      <th></th>\n",
       "      <th>order_id</th>\n",
       "      <th>user_id</th>\n",
       "      <th>created_dt_msk</th>\n",
       "      <th>created_ts_msk</th>\n",
       "      <th>event_id</th>\n",
       "      <th>cinema_circuit</th>\n",
       "      <th>age_limit</th>\n",
       "      <th>currency_code</th>\n",
       "      <th>device_type_canonical</th>\n",
       "      <th>revenue</th>\n",
       "      <th>...</th>\n",
       "      <th>event_name</th>\n",
       "      <th>event_type_description</th>\n",
       "      <th>event_type_main</th>\n",
       "      <th>organizers</th>\n",
       "      <th>region_name</th>\n",
       "      <th>city_name</th>\n",
       "      <th>city_id</th>\n",
       "      <th>venue_id</th>\n",
       "      <th>venue_name</th>\n",
       "      <th>venue_address</th>\n",
       "    </tr>\n",
       "  </thead>\n",
       "  <tbody>\n",
       "    <tr>\n",
       "      <th>0</th>\n",
       "      <td>4359165</td>\n",
       "      <td>0002849b70a3ce2</td>\n",
       "      <td>2024-08-20</td>\n",
       "      <td>2024-08-20 16:08:03</td>\n",
       "      <td>169230</td>\n",
       "      <td>нет</td>\n",
       "      <td>16</td>\n",
       "      <td>rub</td>\n",
       "      <td>mobile</td>\n",
       "      <td>1521.94</td>\n",
       "      <td>...</td>\n",
       "      <td>f0f7b271-04eb-4af6-bcb8-8f05cf46d6ad</td>\n",
       "      <td>спектакль</td>\n",
       "      <td>театр</td>\n",
       "      <td>№3322</td>\n",
       "      <td>Каменевский регион</td>\n",
       "      <td>Глиногорск</td>\n",
       "      <td>213</td>\n",
       "      <td>3972</td>\n",
       "      <td>Сценический центр \"Деталь\" Групп</td>\n",
       "      <td>алл. Машиностроителей, д. 19 стр. 6</td>\n",
       "    </tr>\n",
       "    <tr>\n",
       "      <th>1</th>\n",
       "      <td>7965605</td>\n",
       "      <td>0005ca5e93f2cf4</td>\n",
       "      <td>2024-07-23</td>\n",
       "      <td>2024-07-23 18:36:24</td>\n",
       "      <td>237325</td>\n",
       "      <td>нет</td>\n",
       "      <td>0</td>\n",
       "      <td>rub</td>\n",
       "      <td>mobile</td>\n",
       "      <td>289.45</td>\n",
       "      <td>...</td>\n",
       "      <td>40efeb04-81b7-4135-b41f-708ff00cc64c</td>\n",
       "      <td>событие</td>\n",
       "      <td>выставки</td>\n",
       "      <td>№4850</td>\n",
       "      <td>Каменевский регион</td>\n",
       "      <td>Глиногорск</td>\n",
       "      <td>213</td>\n",
       "      <td>2941</td>\n",
       "      <td>Музыкальная школа для детей \"Аккаунт\" Лтд</td>\n",
       "      <td>алл. Шмидта, д. 9 стр. 4</td>\n",
       "    </tr>\n",
       "    <tr>\n",
       "      <th>2</th>\n",
       "      <td>7292370</td>\n",
       "      <td>0005ca5e93f2cf4</td>\n",
       "      <td>2024-10-06</td>\n",
       "      <td>2024-10-06 13:56:02</td>\n",
       "      <td>578454</td>\n",
       "      <td>нет</td>\n",
       "      <td>0</td>\n",
       "      <td>rub</td>\n",
       "      <td>mobile</td>\n",
       "      <td>1258.57</td>\n",
       "      <td>...</td>\n",
       "      <td>01f3fb7b-ed07-4f94-b1d3-9a2e1ee5a8ca</td>\n",
       "      <td>цирковое шоу</td>\n",
       "      <td>другое</td>\n",
       "      <td>№1540</td>\n",
       "      <td>Каменевский регион</td>\n",
       "      <td>Глиногорск</td>\n",
       "      <td>213</td>\n",
       "      <td>4507</td>\n",
       "      <td>Училище искусств \"Нирвана\" Инк</td>\n",
       "      <td>алл. Юбилейная, д. 5/6</td>\n",
       "    </tr>\n",
       "    <tr>\n",
       "      <th>3</th>\n",
       "      <td>1139875</td>\n",
       "      <td>000898990054619</td>\n",
       "      <td>2024-07-13</td>\n",
       "      <td>2024-07-13 19:40:48</td>\n",
       "      <td>387271</td>\n",
       "      <td>нет</td>\n",
       "      <td>0</td>\n",
       "      <td>rub</td>\n",
       "      <td>mobile</td>\n",
       "      <td>8.49</td>\n",
       "      <td>...</td>\n",
       "      <td>2f638715-8844-466c-b43f-378a627c419f</td>\n",
       "      <td>выставка</td>\n",
       "      <td>другое</td>\n",
       "      <td>№5049</td>\n",
       "      <td>Североярская область</td>\n",
       "      <td>Озёрск</td>\n",
       "      <td>2</td>\n",
       "      <td>3574</td>\n",
       "      <td>Театр альтернативного искусства \"Ода\" Лимитед</td>\n",
       "      <td>алл. Есенина, д. 243 к. 3/8</td>\n",
       "    </tr>\n",
       "    <tr>\n",
       "      <th>4</th>\n",
       "      <td>972400</td>\n",
       "      <td>000898990054619</td>\n",
       "      <td>2024-10-04</td>\n",
       "      <td>2024-10-04 22:33:15</td>\n",
       "      <td>509453</td>\n",
       "      <td>нет</td>\n",
       "      <td>18</td>\n",
       "      <td>rub</td>\n",
       "      <td>mobile</td>\n",
       "      <td>1390.41</td>\n",
       "      <td>...</td>\n",
       "      <td>10d805d3-9809-4d8a-834e-225b7d03f95d</td>\n",
       "      <td>шоу</td>\n",
       "      <td>стендап</td>\n",
       "      <td>№832</td>\n",
       "      <td>Озернинский край</td>\n",
       "      <td>Родниковецк</td>\n",
       "      <td>240</td>\n",
       "      <td>1896</td>\n",
       "      <td>Театр кукол \"Огни\" Инкорпорэйтед</td>\n",
       "      <td>ш. Набережное, д. 595 стр. 8</td>\n",
       "    </tr>\n",
       "  </tbody>\n",
       "</table>\n",
       "<p>5 rows × 24 columns</p>\n",
       "</div>"
      ],
      "text/plain": [
       "   order_id          user_id created_dt_msk      created_ts_msk  event_id  \\\n",
       "0   4359165  0002849b70a3ce2     2024-08-20 2024-08-20 16:08:03    169230   \n",
       "1   7965605  0005ca5e93f2cf4     2024-07-23 2024-07-23 18:36:24    237325   \n",
       "2   7292370  0005ca5e93f2cf4     2024-10-06 2024-10-06 13:56:02    578454   \n",
       "3   1139875  000898990054619     2024-07-13 2024-07-13 19:40:48    387271   \n",
       "4    972400  000898990054619     2024-10-04 2024-10-04 22:33:15    509453   \n",
       "\n",
       "  cinema_circuit  age_limit currency_code device_type_canonical  revenue  ...  \\\n",
       "0            нет         16           rub                mobile  1521.94  ...   \n",
       "1            нет          0           rub                mobile   289.45  ...   \n",
       "2            нет          0           rub                mobile  1258.57  ...   \n",
       "3            нет          0           rub                mobile     8.49  ...   \n",
       "4            нет         18           rub                mobile  1390.41  ...   \n",
       "\n",
       "                             event_name  event_type_description  \\\n",
       "0  f0f7b271-04eb-4af6-bcb8-8f05cf46d6ad               спектакль   \n",
       "1  40efeb04-81b7-4135-b41f-708ff00cc64c                 событие   \n",
       "2  01f3fb7b-ed07-4f94-b1d3-9a2e1ee5a8ca            цирковое шоу   \n",
       "3  2f638715-8844-466c-b43f-378a627c419f                выставка   \n",
       "4  10d805d3-9809-4d8a-834e-225b7d03f95d                     шоу   \n",
       "\n",
       "   event_type_main  organizers           region_name    city_name city_id  \\\n",
       "0            театр       №3322    Каменевский регион   Глиногорск     213   \n",
       "1         выставки       №4850    Каменевский регион   Глиногорск     213   \n",
       "2           другое       №1540    Каменевский регион   Глиногорск     213   \n",
       "3           другое       №5049  Североярская область       Озёрск       2   \n",
       "4          стендап        №832      Озернинский край  Родниковецк     240   \n",
       "\n",
       "  venue_id                                     venue_name  \\\n",
       "0     3972               Сценический центр \"Деталь\" Групп   \n",
       "1     2941      Музыкальная школа для детей \"Аккаунт\" Лтд   \n",
       "2     4507                 Училище искусств \"Нирвана\" Инк   \n",
       "3     3574  Театр альтернативного искусства \"Ода\" Лимитед   \n",
       "4     1896               Театр кукол \"Огни\" Инкорпорэйтед   \n",
       "\n",
       "                         venue_address  \n",
       "0  алл. Машиностроителей, д. 19 стр. 6  \n",
       "1             алл. Шмидта, д. 9 стр. 4  \n",
       "2               алл. Юбилейная, д. 5/6  \n",
       "3          алл. Есенина, д. 243 к. 3/8  \n",
       "4         ш. Набережное, д. 595 стр. 8  \n",
       "\n",
       "[5 rows x 24 columns]"
      ]
     },
     "metadata": {},
     "output_type": "display_data"
    }
   ],
   "source": [
    "# Поиск пропусков\n",
    "# Список слов, которые считаются отсутствием информации\n",
    "missing_strings = ['нет', 'неизвестно', 'unknown', 'n/a']\n",
    "\n",
    "# Функция для проверки наличия мусора в ячейке\n",
    "def contains_missing_string(cell):\n",
    "    if isinstance(cell, str):\n",
    "        return cell.strip().lower() in missing_strings\n",
    "    return False\n",
    "\n",
    "# Создаём булевую маску по всему датафрейму\n",
    "mask = df.applymap(contains_missing_string)\n",
    "\n",
    "# Посмотрим, сколько таких значений\n",
    "print(\"Количество подозрительных значений в датафрейме:\", mask.sum().sum())\n",
    "\n",
    "# Если нужно — вывести сами ячейки\n",
    "print(\"Примеры таких строк:\")\n",
    "display(df[mask.any(axis=1)].head())"
   ]
  },
  {
   "cell_type": "code",
   "execution_count": 9,
   "metadata": {
    "colab": {
     "base_uri": "https://localhost:8080/"
    },
    "id": "U-T-tKDLvbkR",
    "outputId": "81b58157-c878-4370-d4a5-c7c87f5b1cbd"
   },
   "outputs": [
    {
     "name": "stdout",
     "output_type": "stream",
     "text": [
      "Количество строк со словом 'нет' в столбце cinema_circuit - 289213\n"
     ]
    }
   ],
   "source": [
    "no = df['cinema_circuit'][df['cinema_circuit']== 'нет'].count()\n",
    "print(f\"Количество строк со словом 'нет' в столбце cinema_circuit - {no}\")"
   ]
  },
  {
   "cell_type": "markdown",
   "metadata": {
    "id": "Gn2EWxV0vbkR"
   },
   "source": [
    "Все подозрительные строки (потенциальные пропуски/индикаторы) содержаться в столбце `cinema_circuit`.\n",
    "\n",
    "Исходя из контекста столбца:\n",
    "\n",
    "| `cinema_circuit`        | Сеть кинотеатров (если применимо), иначе — `'нет'`                       |\n",
    "\n",
    "Не считаем это ошибкой и оставляем без изменений."
   ]
  },
  {
   "cell_type": "markdown",
   "metadata": {
    "id": "i2UpkRRTvbkS"
   },
   "source": [
    "#### Разбор количественных значений"
   ]
  },
  {
   "cell_type": "code",
   "execution_count": 10,
   "metadata": {
    "id": "fiPRmArsvbkS"
   },
   "outputs": [],
   "source": [
    "# Отдельно рублевые и тенговые заказы\n",
    "df_ru = df[df['currency_code'] == 'rub'].copy()\n",
    "df_kz = df[df['currency_code'] == 'kzt'].copy()"
   ]
  },
  {
   "cell_type": "code",
   "execution_count": 11,
   "metadata": {
    "colab": {
     "base_uri": "https://localhost:8080/"
    },
    "id": "VaoLb_RhvbkS",
    "outputId": "2e2b39a8-7327-40b6-f83b-6df7fab2dbcf"
   },
   "outputs": [
    {
     "name": "stdout",
     "output_type": "stream",
     "text": [
      "RUB — revenue:\n",
      "count    285542.000000\n",
      "mean        548.013929\n",
      "std         871.750181\n",
      "min         -90.760000\n",
      "25%         114.170000\n",
      "50%         346.630000\n",
      "75%         793.320000\n",
      "max       81174.540000\n",
      "Name: revenue, dtype: float64\n",
      "\n",
      "RUB — tickets_count:\n",
      "count    285542.000000\n",
      "mean          2.754159\n",
      "std           1.171575\n",
      "min           1.000000\n",
      "25%           2.000000\n",
      "50%           3.000000\n",
      "75%           4.000000\n",
      "max          57.000000\n",
      "Name: tickets_count, dtype: float64\n",
      "\n",
      "KZT — revenue:\n",
      "count     5069.000000\n",
      "mean      4995.206767\n",
      "std       4916.752776\n",
      "min          0.000000\n",
      "25%        518.100000\n",
      "50%       3698.830000\n",
      "75%       7397.660000\n",
      "max      26425.860000\n",
      "Name: revenue, dtype: float64\n",
      "\n",
      "KZT — tickets_count:\n",
      "count    5069.000000\n",
      "mean        2.762872\n",
      "std         1.115558\n",
      "min         1.000000\n",
      "25%         2.000000\n",
      "50%         3.000000\n",
      "75%         4.000000\n",
      "max         6.000000\n",
      "Name: tickets_count, dtype: float64\n"
     ]
    }
   ],
   "source": [
    "# Описательные статистики для ключевых количественных столбцов\n",
    "print(\"RUB — revenue:\")\n",
    "print(df_ru['revenue'].describe())\n",
    "\n",
    "print(\"\\nRUB — tickets_count:\")\n",
    "print(df_ru['tickets_count'].describe())\n",
    "\n",
    "print(\"\\nKZT — revenue:\")\n",
    "print(df_kz['revenue'].describe())\n",
    "\n",
    "print(\"\\nKZT — tickets_count:\")\n",
    "print(df_kz['tickets_count'].describe())"
   ]
  },
  {
   "cell_type": "code",
   "execution_count": 12,
   "metadata": {
    "colab": {
     "base_uri": "https://localhost:8080/",
     "height": 807
    },
    "id": "RKFwrekEvbkS",
    "outputId": "664994ef-7bfb-4c1f-94f1-6606aab14720"
   },
   "outputs": [
    {
     "ename": "OptionError",
     "evalue": "\"No such keys(s): 'mode.use_inf_as_null'\"",
     "output_type": "error",
     "traceback": [
      "\u001b[0;31m---------------------------------------------------------------------------\u001b[0m",
      "\u001b[0;31mOptionError\u001b[0m                               Traceback (most recent call last)",
      "\u001b[0;32m/var/folders/xr/gthb0scx0c7dbldkflrk1qd00000gn/T/ipykernel_1072/550517859.py\u001b[0m in \u001b[0;36m<module>\u001b[0;34m\u001b[0m\n\u001b[1;32m      3\u001b[0m \u001b[0mfig\u001b[0m\u001b[0;34m,\u001b[0m \u001b[0maxs\u001b[0m \u001b[0;34m=\u001b[0m \u001b[0mplt\u001b[0m\u001b[0;34m.\u001b[0m\u001b[0msubplots\u001b[0m\u001b[0;34m(\u001b[0m\u001b[0;36m2\u001b[0m\u001b[0;34m,\u001b[0m \u001b[0;36m2\u001b[0m\u001b[0;34m,\u001b[0m \u001b[0mfigsize\u001b[0m\u001b[0;34m=\u001b[0m\u001b[0;34m(\u001b[0m\u001b[0;36m12\u001b[0m\u001b[0;34m,\u001b[0m \u001b[0;36m8\u001b[0m\u001b[0;34m)\u001b[0m\u001b[0;34m)\u001b[0m\u001b[0;34m\u001b[0m\u001b[0;34m\u001b[0m\u001b[0m\n\u001b[1;32m      4\u001b[0m \u001b[0;34m\u001b[0m\u001b[0m\n\u001b[0;32m----> 5\u001b[0;31m \u001b[0msns\u001b[0m\u001b[0;34m.\u001b[0m\u001b[0mhistplot\u001b[0m\u001b[0;34m(\u001b[0m\u001b[0mdf_ru\u001b[0m\u001b[0;34m[\u001b[0m\u001b[0;34m'revenue'\u001b[0m\u001b[0;34m]\u001b[0m\u001b[0;34m,\u001b[0m \u001b[0mbins\u001b[0m\u001b[0;34m=\u001b[0m\u001b[0;36m30\u001b[0m\u001b[0;34m,\u001b[0m \u001b[0mkde\u001b[0m\u001b[0;34m=\u001b[0m\u001b[0;32mTrue\u001b[0m\u001b[0;34m,\u001b[0m \u001b[0max\u001b[0m\u001b[0;34m=\u001b[0m\u001b[0maxs\u001b[0m\u001b[0;34m[\u001b[0m\u001b[0;36m0\u001b[0m\u001b[0;34m,\u001b[0m\u001b[0;36m0\u001b[0m\u001b[0;34m]\u001b[0m\u001b[0;34m)\u001b[0m\u001b[0;34m\u001b[0m\u001b[0;34m\u001b[0m\u001b[0m\n\u001b[0m\u001b[1;32m      6\u001b[0m \u001b[0maxs\u001b[0m\u001b[0;34m[\u001b[0m\u001b[0;36m0\u001b[0m\u001b[0;34m,\u001b[0m\u001b[0;36m0\u001b[0m\u001b[0;34m]\u001b[0m\u001b[0;34m.\u001b[0m\u001b[0mset_title\u001b[0m\u001b[0;34m(\u001b[0m\u001b[0;34m'RUB — Revenue'\u001b[0m\u001b[0;34m)\u001b[0m\u001b[0;34m\u001b[0m\u001b[0;34m\u001b[0m\u001b[0m\n\u001b[1;32m      7\u001b[0m \u001b[0;34m\u001b[0m\u001b[0m\n",
      "\u001b[0;32m~/opt/anaconda3/lib/python3.9/site-packages/seaborn/distributions.py\u001b[0m in \u001b[0;36mhistplot\u001b[0;34m(data, x, y, hue, weights, stat, bins, binwidth, binrange, discrete, cumulative, common_bins, common_norm, multiple, element, fill, shrink, kde, kde_kws, line_kws, thresh, pthresh, pmax, cbar, cbar_ax, cbar_kws, palette, hue_order, hue_norm, color, log_scale, legend, ax, **kwargs)\u001b[0m\n\u001b[1;32m   1460\u001b[0m     \u001b[0;32mif\u001b[0m \u001b[0mp\u001b[0m\u001b[0;34m.\u001b[0m\u001b[0munivariate\u001b[0m\u001b[0;34m:\u001b[0m\u001b[0;34m\u001b[0m\u001b[0;34m\u001b[0m\u001b[0m\n\u001b[1;32m   1461\u001b[0m \u001b[0;34m\u001b[0m\u001b[0m\n\u001b[0;32m-> 1462\u001b[0;31m         p.plot_univariate_histogram(\n\u001b[0m\u001b[1;32m   1463\u001b[0m             \u001b[0mmultiple\u001b[0m\u001b[0;34m=\u001b[0m\u001b[0mmultiple\u001b[0m\u001b[0;34m,\u001b[0m\u001b[0;34m\u001b[0m\u001b[0;34m\u001b[0m\u001b[0m\n\u001b[1;32m   1464\u001b[0m             \u001b[0melement\u001b[0m\u001b[0;34m=\u001b[0m\u001b[0melement\u001b[0m\u001b[0;34m,\u001b[0m\u001b[0;34m\u001b[0m\u001b[0;34m\u001b[0m\u001b[0m\n",
      "\u001b[0;32m~/opt/anaconda3/lib/python3.9/site-packages/seaborn/distributions.py\u001b[0m in \u001b[0;36mplot_univariate_histogram\u001b[0;34m(self, multiple, element, fill, common_norm, common_bins, shrink, kde, kde_kws, color, legend, line_kws, estimate_kws, **plot_kws)\u001b[0m\n\u001b[1;32m    416\u001b[0m             \u001b[0mkde_kws\u001b[0m\u001b[0;34m[\u001b[0m\u001b[0;34m\"cumulative\"\u001b[0m\u001b[0;34m]\u001b[0m \u001b[0;34m=\u001b[0m \u001b[0mestimate_kws\u001b[0m\u001b[0;34m[\u001b[0m\u001b[0;34m\"cumulative\"\u001b[0m\u001b[0;34m]\u001b[0m\u001b[0;34m\u001b[0m\u001b[0;34m\u001b[0m\u001b[0m\n\u001b[1;32m    417\u001b[0m             \u001b[0mlog_scale\u001b[0m \u001b[0;34m=\u001b[0m \u001b[0mself\u001b[0m\u001b[0;34m.\u001b[0m\u001b[0m_log_scaled\u001b[0m\u001b[0;34m(\u001b[0m\u001b[0mself\u001b[0m\u001b[0;34m.\u001b[0m\u001b[0mdata_variable\u001b[0m\u001b[0;34m)\u001b[0m\u001b[0;34m\u001b[0m\u001b[0;34m\u001b[0m\u001b[0m\n\u001b[0;32m--> 418\u001b[0;31m             densities = self._compute_univariate_density(\n\u001b[0m\u001b[1;32m    419\u001b[0m                 \u001b[0mself\u001b[0m\u001b[0;34m.\u001b[0m\u001b[0mdata_variable\u001b[0m\u001b[0;34m,\u001b[0m\u001b[0;34m\u001b[0m\u001b[0;34m\u001b[0m\u001b[0m\n\u001b[1;32m    420\u001b[0m                 \u001b[0mcommon_norm\u001b[0m\u001b[0;34m,\u001b[0m\u001b[0;34m\u001b[0m\u001b[0;34m\u001b[0m\u001b[0m\n",
      "\u001b[0;32m~/opt/anaconda3/lib/python3.9/site-packages/seaborn/distributions.py\u001b[0m in \u001b[0;36m_compute_univariate_density\u001b[0;34m(self, data_variable, common_norm, common_grid, estimate_kws, log_scale, warn_singular)\u001b[0m\n\u001b[1;32m    301\u001b[0m         \u001b[0mdensities\u001b[0m \u001b[0;34m=\u001b[0m \u001b[0;34m{\u001b[0m\u001b[0;34m}\u001b[0m\u001b[0;34m\u001b[0m\u001b[0;34m\u001b[0m\u001b[0m\n\u001b[1;32m    302\u001b[0m \u001b[0;34m\u001b[0m\u001b[0m\n\u001b[0;32m--> 303\u001b[0;31m         \u001b[0;32mfor\u001b[0m \u001b[0msub_vars\u001b[0m\u001b[0;34m,\u001b[0m \u001b[0msub_data\u001b[0m \u001b[0;32min\u001b[0m \u001b[0mself\u001b[0m\u001b[0;34m.\u001b[0m\u001b[0miter_data\u001b[0m\u001b[0;34m(\u001b[0m\u001b[0;34m\"hue\"\u001b[0m\u001b[0;34m,\u001b[0m \u001b[0mfrom_comp_data\u001b[0m\u001b[0;34m=\u001b[0m\u001b[0;32mTrue\u001b[0m\u001b[0;34m)\u001b[0m\u001b[0;34m:\u001b[0m\u001b[0;34m\u001b[0m\u001b[0;34m\u001b[0m\u001b[0m\n\u001b[0m\u001b[1;32m    304\u001b[0m \u001b[0;34m\u001b[0m\u001b[0m\n\u001b[1;32m    305\u001b[0m             \u001b[0;31m# Extract the data points from this sub set and remove nulls\u001b[0m\u001b[0;34m\u001b[0m\u001b[0;34m\u001b[0m\u001b[0m\n",
      "\u001b[0;32m~/opt/anaconda3/lib/python3.9/site-packages/seaborn/_core.py\u001b[0m in \u001b[0;36miter_data\u001b[0;34m(self, grouping_vars, reverse, from_comp_data)\u001b[0m\n\u001b[1;32m    981\u001b[0m \u001b[0;34m\u001b[0m\u001b[0m\n\u001b[1;32m    982\u001b[0m         \u001b[0;32mif\u001b[0m \u001b[0mfrom_comp_data\u001b[0m\u001b[0;34m:\u001b[0m\u001b[0;34m\u001b[0m\u001b[0;34m\u001b[0m\u001b[0m\n\u001b[0;32m--> 983\u001b[0;31m             \u001b[0mdata\u001b[0m \u001b[0;34m=\u001b[0m \u001b[0mself\u001b[0m\u001b[0;34m.\u001b[0m\u001b[0mcomp_data\u001b[0m\u001b[0;34m\u001b[0m\u001b[0;34m\u001b[0m\u001b[0m\n\u001b[0m\u001b[1;32m    984\u001b[0m         \u001b[0;32melse\u001b[0m\u001b[0;34m:\u001b[0m\u001b[0;34m\u001b[0m\u001b[0;34m\u001b[0m\u001b[0m\n\u001b[1;32m    985\u001b[0m             \u001b[0mdata\u001b[0m \u001b[0;34m=\u001b[0m \u001b[0mself\u001b[0m\u001b[0;34m.\u001b[0m\u001b[0mplot_data\u001b[0m\u001b[0;34m\u001b[0m\u001b[0;34m\u001b[0m\u001b[0m\n",
      "\u001b[0;32m~/opt/anaconda3/lib/python3.9/site-packages/seaborn/_core.py\u001b[0m in \u001b[0;36mcomp_data\u001b[0;34m(self)\u001b[0m\n\u001b[1;32m   1052\u001b[0m                 \u001b[0;31m# Use the converter assigned to the axis to get a float representation\u001b[0m\u001b[0;34m\u001b[0m\u001b[0;34m\u001b[0m\u001b[0m\n\u001b[1;32m   1053\u001b[0m                 \u001b[0;31m# of the data, passing np.nan or pd.NA through (pd.NA becomes np.nan)\u001b[0m\u001b[0;34m\u001b[0m\u001b[0;34m\u001b[0m\u001b[0m\n\u001b[0;32m-> 1054\u001b[0;31m                 \u001b[0;32mwith\u001b[0m \u001b[0mpd\u001b[0m\u001b[0;34m.\u001b[0m\u001b[0moption_context\u001b[0m\u001b[0;34m(\u001b[0m\u001b[0;34m'mode.use_inf_as_null'\u001b[0m\u001b[0;34m,\u001b[0m \u001b[0;32mTrue\u001b[0m\u001b[0;34m)\u001b[0m\u001b[0;34m:\u001b[0m\u001b[0;34m\u001b[0m\u001b[0;34m\u001b[0m\u001b[0m\n\u001b[0m\u001b[1;32m   1055\u001b[0m                     \u001b[0morig\u001b[0m \u001b[0;34m=\u001b[0m \u001b[0mself\u001b[0m\u001b[0;34m.\u001b[0m\u001b[0mplot_data\u001b[0m\u001b[0;34m[\u001b[0m\u001b[0mvar\u001b[0m\u001b[0;34m]\u001b[0m\u001b[0;34m.\u001b[0m\u001b[0mdropna\u001b[0m\u001b[0;34m(\u001b[0m\u001b[0;34m)\u001b[0m\u001b[0;34m\u001b[0m\u001b[0;34m\u001b[0m\u001b[0m\n\u001b[1;32m   1056\u001b[0m                 \u001b[0mcomp_col\u001b[0m \u001b[0;34m=\u001b[0m \u001b[0mpd\u001b[0m\u001b[0;34m.\u001b[0m\u001b[0mSeries\u001b[0m\u001b[0;34m(\u001b[0m\u001b[0mindex\u001b[0m\u001b[0;34m=\u001b[0m\u001b[0morig\u001b[0m\u001b[0;34m.\u001b[0m\u001b[0mindex\u001b[0m\u001b[0;34m,\u001b[0m \u001b[0mdtype\u001b[0m\u001b[0;34m=\u001b[0m\u001b[0mfloat\u001b[0m\u001b[0;34m,\u001b[0m \u001b[0mname\u001b[0m\u001b[0;34m=\u001b[0m\u001b[0mvar\u001b[0m\u001b[0;34m)\u001b[0m\u001b[0;34m\u001b[0m\u001b[0;34m\u001b[0m\u001b[0m\n",
      "\u001b[0;32m~/.local/lib/python3.9/site-packages/pandas/_config/config.py\u001b[0m in \u001b[0;36m__enter__\u001b[0;34m(self)\u001b[0m\n\u001b[1;32m    478\u001b[0m \u001b[0;34m\u001b[0m\u001b[0m\n\u001b[1;32m    479\u001b[0m     \u001b[0;32mdef\u001b[0m \u001b[0m__enter__\u001b[0m\u001b[0;34m(\u001b[0m\u001b[0mself\u001b[0m\u001b[0;34m)\u001b[0m \u001b[0;34m->\u001b[0m \u001b[0;32mNone\u001b[0m\u001b[0;34m:\u001b[0m\u001b[0;34m\u001b[0m\u001b[0;34m\u001b[0m\u001b[0m\n\u001b[0;32m--> 480\u001b[0;31m         \u001b[0mself\u001b[0m\u001b[0;34m.\u001b[0m\u001b[0mundo\u001b[0m \u001b[0;34m=\u001b[0m \u001b[0;34m[\u001b[0m\u001b[0;34m(\u001b[0m\u001b[0mpat\u001b[0m\u001b[0;34m,\u001b[0m \u001b[0m_get_option\u001b[0m\u001b[0;34m(\u001b[0m\u001b[0mpat\u001b[0m\u001b[0;34m)\u001b[0m\u001b[0;34m)\u001b[0m \u001b[0;32mfor\u001b[0m \u001b[0mpat\u001b[0m\u001b[0;34m,\u001b[0m \u001b[0mval\u001b[0m \u001b[0;32min\u001b[0m \u001b[0mself\u001b[0m\u001b[0;34m.\u001b[0m\u001b[0mops\u001b[0m\u001b[0;34m]\u001b[0m\u001b[0;34m\u001b[0m\u001b[0;34m\u001b[0m\u001b[0m\n\u001b[0m\u001b[1;32m    481\u001b[0m \u001b[0;34m\u001b[0m\u001b[0m\n\u001b[1;32m    482\u001b[0m         \u001b[0;32mfor\u001b[0m \u001b[0mpat\u001b[0m\u001b[0;34m,\u001b[0m \u001b[0mval\u001b[0m \u001b[0;32min\u001b[0m \u001b[0mself\u001b[0m\u001b[0;34m.\u001b[0m\u001b[0mops\u001b[0m\u001b[0;34m:\u001b[0m\u001b[0;34m\u001b[0m\u001b[0;34m\u001b[0m\u001b[0m\n",
      "\u001b[0;32m~/.local/lib/python3.9/site-packages/pandas/_config/config.py\u001b[0m in \u001b[0;36m<listcomp>\u001b[0;34m(.0)\u001b[0m\n\u001b[1;32m    478\u001b[0m \u001b[0;34m\u001b[0m\u001b[0m\n\u001b[1;32m    479\u001b[0m     \u001b[0;32mdef\u001b[0m \u001b[0m__enter__\u001b[0m\u001b[0;34m(\u001b[0m\u001b[0mself\u001b[0m\u001b[0;34m)\u001b[0m \u001b[0;34m->\u001b[0m \u001b[0;32mNone\u001b[0m\u001b[0;34m:\u001b[0m\u001b[0;34m\u001b[0m\u001b[0;34m\u001b[0m\u001b[0m\n\u001b[0;32m--> 480\u001b[0;31m         \u001b[0mself\u001b[0m\u001b[0;34m.\u001b[0m\u001b[0mundo\u001b[0m \u001b[0;34m=\u001b[0m \u001b[0;34m[\u001b[0m\u001b[0;34m(\u001b[0m\u001b[0mpat\u001b[0m\u001b[0;34m,\u001b[0m \u001b[0m_get_option\u001b[0m\u001b[0;34m(\u001b[0m\u001b[0mpat\u001b[0m\u001b[0;34m)\u001b[0m\u001b[0;34m)\u001b[0m \u001b[0;32mfor\u001b[0m \u001b[0mpat\u001b[0m\u001b[0;34m,\u001b[0m \u001b[0mval\u001b[0m \u001b[0;32min\u001b[0m \u001b[0mself\u001b[0m\u001b[0;34m.\u001b[0m\u001b[0mops\u001b[0m\u001b[0;34m]\u001b[0m\u001b[0;34m\u001b[0m\u001b[0;34m\u001b[0m\u001b[0m\n\u001b[0m\u001b[1;32m    481\u001b[0m \u001b[0;34m\u001b[0m\u001b[0m\n\u001b[1;32m    482\u001b[0m         \u001b[0;32mfor\u001b[0m \u001b[0mpat\u001b[0m\u001b[0;34m,\u001b[0m \u001b[0mval\u001b[0m \u001b[0;32min\u001b[0m \u001b[0mself\u001b[0m\u001b[0;34m.\u001b[0m\u001b[0mops\u001b[0m\u001b[0;34m:\u001b[0m\u001b[0;34m\u001b[0m\u001b[0;34m\u001b[0m\u001b[0m\n",
      "\u001b[0;32m~/.local/lib/python3.9/site-packages/pandas/_config/config.py\u001b[0m in \u001b[0;36m_get_option\u001b[0;34m(pat, silent)\u001b[0m\n\u001b[1;32m    144\u001b[0m \u001b[0;34m\u001b[0m\u001b[0m\n\u001b[1;32m    145\u001b[0m \u001b[0;32mdef\u001b[0m \u001b[0m_get_option\u001b[0m\u001b[0;34m(\u001b[0m\u001b[0mpat\u001b[0m\u001b[0;34m:\u001b[0m \u001b[0mstr\u001b[0m\u001b[0;34m,\u001b[0m \u001b[0msilent\u001b[0m\u001b[0;34m:\u001b[0m \u001b[0mbool\u001b[0m \u001b[0;34m=\u001b[0m \u001b[0;32mFalse\u001b[0m\u001b[0;34m)\u001b[0m \u001b[0;34m->\u001b[0m \u001b[0mAny\u001b[0m\u001b[0;34m:\u001b[0m\u001b[0;34m\u001b[0m\u001b[0;34m\u001b[0m\u001b[0m\n\u001b[0;32m--> 146\u001b[0;31m     \u001b[0mkey\u001b[0m \u001b[0;34m=\u001b[0m \u001b[0m_get_single_key\u001b[0m\u001b[0;34m(\u001b[0m\u001b[0mpat\u001b[0m\u001b[0;34m,\u001b[0m \u001b[0msilent\u001b[0m\u001b[0;34m)\u001b[0m\u001b[0;34m\u001b[0m\u001b[0;34m\u001b[0m\u001b[0m\n\u001b[0m\u001b[1;32m    147\u001b[0m \u001b[0;34m\u001b[0m\u001b[0m\n\u001b[1;32m    148\u001b[0m     \u001b[0;31m# walk the nested dict\u001b[0m\u001b[0;34m\u001b[0m\u001b[0;34m\u001b[0m\u001b[0m\n",
      "\u001b[0;32m~/.local/lib/python3.9/site-packages/pandas/_config/config.py\u001b[0m in \u001b[0;36m_get_single_key\u001b[0;34m(pat, silent)\u001b[0m\n\u001b[1;32m    130\u001b[0m         \u001b[0;32mif\u001b[0m \u001b[0;32mnot\u001b[0m \u001b[0msilent\u001b[0m\u001b[0;34m:\u001b[0m\u001b[0;34m\u001b[0m\u001b[0;34m\u001b[0m\u001b[0m\n\u001b[1;32m    131\u001b[0m             \u001b[0m_warn_if_deprecated\u001b[0m\u001b[0;34m(\u001b[0m\u001b[0mpat\u001b[0m\u001b[0;34m)\u001b[0m\u001b[0;34m\u001b[0m\u001b[0;34m\u001b[0m\u001b[0m\n\u001b[0;32m--> 132\u001b[0;31m         \u001b[0;32mraise\u001b[0m \u001b[0mOptionError\u001b[0m\u001b[0;34m(\u001b[0m\u001b[0;34mf\"No such keys(s): {repr(pat)}\"\u001b[0m\u001b[0;34m)\u001b[0m\u001b[0;34m\u001b[0m\u001b[0;34m\u001b[0m\u001b[0m\n\u001b[0m\u001b[1;32m    133\u001b[0m     \u001b[0;32mif\u001b[0m \u001b[0mlen\u001b[0m\u001b[0;34m(\u001b[0m\u001b[0mkeys\u001b[0m\u001b[0;34m)\u001b[0m \u001b[0;34m>\u001b[0m \u001b[0;36m1\u001b[0m\u001b[0;34m:\u001b[0m\u001b[0;34m\u001b[0m\u001b[0;34m\u001b[0m\u001b[0m\n\u001b[1;32m    134\u001b[0m         \u001b[0;32mraise\u001b[0m \u001b[0mOptionError\u001b[0m\u001b[0;34m(\u001b[0m\u001b[0;34m\"Pattern matched multiple keys\"\u001b[0m\u001b[0;34m)\u001b[0m\u001b[0;34m\u001b[0m\u001b[0;34m\u001b[0m\u001b[0m\n",
      "\u001b[0;31mOptionError\u001b[0m: \"No such keys(s): 'mode.use_inf_as_null'\""
     ]
    },
    {
     "data": {
      "image/png": "[encoded data removed]",
      "text/plain": [
       "<Figure size 864x576 with 4 Axes>"
      ]
     },
     "metadata": {
      "needs_background": "light"
     },
     "output_type": "display_data"
    }
   ],
   "source": [
    "# Постриом гистограммы интересющих столбцов в разрезе валюты\n",
    "\n",
    "fig, axs = plt.subplots(2, 2, figsize=(12, 8))\n",
    "\n",
    "sns.histplot(df_ru['revenue'], bins=30, kde=True, ax=axs[0,0])\n",
    "axs[0,0].set_title('RUB — Revenue')\n",
    "\n",
    "sns.histplot(df_ru['tickets_count'], bins=30, kde=True, ax=axs[0,1])\n",
    "axs[0,1].set_title('RUB — Tickets Count')\n",
    "\n",
    "sns.histplot(df_kz['revenue'], bins=30, kde=True, ax=axs[1,0])\n",
    "axs[1,0].set_title('KZT — Revenue')\n",
    "\n",
    "sns.histplot(df_kz['tickets_count'], bins=30, kde=True, ax=axs[1,1])\n",
    "axs[1,1].set_title('KZT — Tickets Count')\n",
    "\n",
    "plt.tight_layout()\n",
    "plt.show()"
   ]
  },
  {
   "cell_type": "code",
   "execution_count": null,
   "metadata": {
    "colab": {
     "base_uri": "https://localhost:8080/",
     "height": 807
    },
    "id": "vWZ9pC-SvbkS",
    "outputId": "e17f9fd4-fbc4-41c2-8173-b39c6a3fb56e"
   },
   "outputs": [],
   "source": [
    "# Постриом ящики с усами интересющих столбцов в разрезе валюты\n",
    "\n",
    "fig, axs = plt.subplots(2, 2, figsize=(12, 8))\n",
    "\n",
    "sns.boxplot(x=df_ru['revenue'], ax=axs[0,0])\n",
    "axs[0,0].set_title('RUB — Revenue')\n",
    "\n",
    "sns.boxplot(x=df_ru['tickets_count'], ax=axs[0,1])\n",
    "axs[0,1].set_title('RUB — Tickets Count')\n",
    "\n",
    "sns.boxplot(x=df_kz['revenue'], ax=axs[1,0])\n",
    "axs[1,0].set_title('KZT — Revenue')\n",
    "\n",
    "sns.boxplot(x=df_kz['tickets_count'], ax=axs[1,1])\n",
    "axs[1,1].set_title('KZT — Tickets Count')\n",
    "\n",
    "plt.tight_layout()\n",
    "plt.show()"
   ]
  },
  {
   "cell_type": "markdown",
   "metadata": {
    "id": "0OnBEPe_vbkS"
   },
   "source": [
    "- В столбцах `ticket_count` значимых выбросов не обнаружено.\n",
    "- Столбцы `revenue` имеют ощутимое различие между средним и медианой, стоит отфильтровать обе валюты по 99-му процентилю.\n",
    "- Столбец `revenue` в рублях содержит отрицательные значения. Это стоит отфильтровать."
   ]
  },
  {
   "cell_type": "code",
   "execution_count": null,
   "metadata": {
    "colab": {
     "base_uri": "https://localhost:8080/"
    },
    "id": "TNHppDHlvbkT",
    "outputId": "b7ccad7d-69ab-4521-b9c8-8672aee65b78"
   },
   "outputs": [],
   "source": [
    "# Отфильтруем данные\n",
    "quantile_ru = df_ru['revenue'].quantile(0.99)\n",
    "quantile_kz = df_kz['revenue'].quantile(0.99)\n",
    "\n",
    "df_ru = df_ru[(df_ru['revenue'] >= 0) & (df_ru['revenue'] < quantile_ru )]\n",
    "df_kz = df_kz[df_kz['revenue'] < quantile_kz]\n",
    "\n",
    "# Объединим строки\n",
    "df_filtered = pd.concat([df_ru, df_kz], ignore_index=True)\n",
    "\n",
    "# Проверим\n",
    "\n",
    "print(f\"Старый датафрейм содержит {df.shape[0]} строк после фильтрации\")\n",
    "print(f\"Обновлённый датафрейм содержит {df_filtered.shape[0]} строк после фильтрации\")\n",
    "print(f\"Удалено {df.shape[0] - df_filtered.shape[0]} строк после фильтрации\")"
   ]
  },
  {
   "cell_type": "markdown",
   "metadata": {
    "id": "pDKzYURfvbkT"
   },
   "source": [
    "На основе описательной статистики, гистограмм и ящиков с усами принято решение отфильтровать датафрейм по определенным показателям. Отфильтровано 20893 строк."
   ]
  },
  {
   "cell_type": "markdown",
   "metadata": {
    "id": "QB87Z1DtvbkT"
   },
   "source": [
    "#### Работа с явными и неявными дубликатами"
   ]
  },
  {
   "cell_type": "code",
   "execution_count": null,
   "metadata": {
    "colab": {
     "base_uri": "https://localhost:8080/"
    },
    "id": "FBgoXaplvbkT",
    "outputId": "f840ecea-2f67-4dd4-9d66-78ca3013bd9a"
   },
   "outputs": [],
   "source": [
    "# Проверим явные дубликаты\n",
    "print(f\"Количестно явных дубликатов в датафрейме - {df_filtered.duplicated().sum()}\")\n",
    "# Проверим дубликаты в первичном ключе\n",
    "print(f\"Количество явных дубликатов в первичном ключе - {df_filtered.duplicated(subset='order_id').sum()}\")"
   ]
  },
  {
   "cell_type": "code",
   "execution_count": null,
   "metadata": {
    "colab": {
     "base_uri": "https://localhost:8080/",
     "height": 568
    },
    "id": "0Jb0pXHXvbkT",
    "outputId": "22297bd8-0f63-4277-f58b-3f13b486de36"
   },
   "outputs": [],
   "source": [
    "# Список столбцов, по которым будем проверять неявные дубликаты (без order_id)\n",
    "columns_to_check = [\n",
    "    'user_id', 'created_dt_msk', 'created_ts_msk', 'event_id', 'cinema_circuit',\n",
    "    'age_limit', 'currency_code', 'device_type_canonical', 'revenue',\n",
    "    'service_name', 'tickets_count', 'total', 'days_since_prev', 'event_name',\n",
    "    'event_type_description', 'event_type_main', 'organizers', 'region_name',\n",
    "    'city_name', 'city_id', 'venue_id', 'venue_name', 'venue_address'\n",
    "]\n",
    "\n",
    "# Найдём дубликаты (все строки, у которых одинаковые значения по указанным полям)\n",
    "duplicate_bookings = df[df.duplicated(subset=columns_to_check, keep=False)]\n",
    "\n",
    "# Посмотрим, сколько и какие\n",
    "print(f\"Найдено потенциальных неявных дубликатов: {duplicate_bookings.shape[0]}\")\n",
    "duplicate_bookings.head()"
   ]
  },
  {
   "cell_type": "markdown",
   "metadata": {
    "id": "nub0dSu4vbkT"
   },
   "source": [
    "Наблюдаем 58 дубликатов. Вероятно, это повторные записи, вызванные програмной ошибкой. От таких дубликатов стоит избавиться."
   ]
  },
  {
   "cell_type": "code",
   "execution_count": null,
   "metadata": {
    "id": "RCKqc1vAvbkT"
   },
   "outputs": [],
   "source": [
    "# Удалим дубликаты\n",
    "df_cleaned = df_filtered.drop_duplicates(subset=columns_to_check, keep='first')"
   ]
  },
  {
   "cell_type": "markdown",
   "metadata": {
    "id": "M1Y17lSnvbkU"
   },
   "source": [
    "#### Работа с типами данных"
   ]
  },
  {
   "cell_type": "code",
   "execution_count": null,
   "metadata": {
    "colab": {
     "base_uri": "https://localhost:8080/"
    },
    "id": "szM-pR98vbkU",
    "outputId": "ee2d952f-700a-4c4c-af06-005a133dc6d4"
   },
   "outputs": [],
   "source": [
    "df_cleaned.info()"
   ]
  },
  {
   "cell_type": "markdown",
   "metadata": {
    "id": "VrYefSrKvbkU"
   },
   "source": [
    "Все типы данных соответсвуют контексту столбцов."
   ]
  },
  {
   "cell_type": "markdown",
   "metadata": {
    "id": "ie2LnVOyvbkU"
   },
   "source": [
    "#### Рассчет и создание необходимых столбцов"
   ]
  },
  {
   "cell_type": "markdown",
   "metadata": {
    "id": "cEkvClMgvbki"
   },
   "source": [
    "- `revenue_rub` — приведем выручку с заказа к единой валюте — российскому рублю. Для этого используем датасет с информацией о курсе казахстанского тенге по отношению к российскому рублю final_tickets_tenge_df.csv за 2024 год. Значения в рублях представлены для 100 тенге.\n",
    "\n",
    "- `one_ticket_revenue_rub` — рассчитаем выручку с продажи одного билета на мероприятие.\n",
    "\n",
    "- `month` — выделим месяц оформления заказа в отдельный столбец.\n",
    "\n",
    "- `season` — создадим столбец с информацией о сезонности, включая такие категории, как: `лето`, `осень`, `зима`, `весна`."
   ]
  },
  {
   "cell_type": "code",
   "execution_count": null,
   "metadata": {
    "id": "VN7PTqqWvbkj"
   },
   "outputs": [],
   "source": [
    "# Подготовим currency_df к объединению\n",
    "currency_df['data'] = pd.to_datetime(currency_df['data']).dt.date\n",
    "\n",
    "# Добавим колонку с датой  в заказах для дальнейшего объединения\n",
    "df_cleaned = df_cleaned.copy()\n",
    "df_cleaned['data'] = df_cleaned['created_dt_msk'].dt.date"
   ]
  },
  {
   "cell_type": "code",
   "execution_count": null,
   "metadata": {
    "id": "jw1MNVasvbkj"
   },
   "outputs": [],
   "source": [
    "# Отфильтруем заказы в тенге\n",
    "df_kzt = df_cleaned[df_cleaned['currency_code'] == 'kzt']\n",
    "\n",
    "# Присоединим курс тенге\n",
    "df_kzt = df_kzt.merge(currency_df, on='data', how='left')\n",
    "\n",
    "# Пересчитаем revenue и total в рубли\n",
    "df_kzt['revenue_rub'] = df_kzt['revenue'] / 100 * df_kzt['curs']"
   ]
  },
  {
   "cell_type": "code",
   "execution_count": null,
   "metadata": {
    "id": "x8XlazXevbkj"
   },
   "outputs": [],
   "source": [
    "# Для данных уже в рублях - просто скопируем данные\n",
    "df_rub = df[df['currency_code'] == 'rub'].copy()\n",
    "df_rub['revenue_rub'] = df_rub['revenue']\n"
   ]
  },
  {
   "cell_type": "code",
   "execution_count": null,
   "metadata": {
    "colab": {
     "base_uri": "https://localhost:8080/",
     "height": 206
    },
    "id": "FHjDZEtzvbkj",
    "outputId": "15e05201-93ee-4e58-964f-a1350950d3dd"
   },
   "outputs": [],
   "source": [
    "# Общий датафрейм со всеми заказами в рублях\n",
    "df_all = pd.concat([df_rub, df_kzt], ignore_index=True)\n",
    "\n",
    "# Проверим\n",
    "df_all[['currency_code', 'revenue', 'revenue_rub']].head()"
   ]
  },
  {
   "cell_type": "code",
   "execution_count": null,
   "metadata": {
    "id": "jQQlVfFxvbkk"
   },
   "outputs": [],
   "source": [
    "# Добавим столбец с ценой за один билет\n",
    "df_all['one_ticket_revenue_rub'] = df_all['revenue_rub'] / df_all['tickets_count']"
   ]
  },
  {
   "cell_type": "code",
   "execution_count": null,
   "metadata": {
    "id": "quQT1nLBvbkk"
   },
   "outputs": [],
   "source": [
    "# Добавим столбец с месяцем заказа\n",
    "df_all['month'] = df_all['created_dt_msk'].dt.month"
   ]
  },
  {
   "cell_type": "code",
   "execution_count": null,
   "metadata": {
    "id": "x5cf71lNvbkk"
   },
   "outputs": [],
   "source": [
    "# Добавим столбец с наименованием сезона\n",
    "def get_season(month):\n",
    "    if month in [12, 1, 2]:\n",
    "        return 'зима'\n",
    "    elif month in [3, 4, 5]:\n",
    "        return 'весна'\n",
    "    elif month in [6, 7, 8]:\n",
    "        return 'лето'\n",
    "    elif month in [9, 10, 11]:\n",
    "        return 'осень'\n",
    "\n",
    "df_all['season'] = df_all['created_dt_msk'].dt.month.apply(get_season)"
   ]
  },
  {
   "cell_type": "code",
   "execution_count": null,
   "metadata": {
    "id": "pQRB4ASQvbkk"
   },
   "outputs": [],
   "source": [
    "# Оставим только необходимые столбцы\n",
    "final_columns = [\n",
    "    'order_id', 'user_id', 'revenue_rub','one_ticket_revenue_rub', 'total', 'created_dt_msk', 'created_ts_msk', 'month','season',  'event_id',\n",
    "    'cinema_circuit', 'age_limit', 'device_type_canonical',\n",
    "    'service_name', 'tickets_count', 'days_since_prev', 'event_name',\n",
    "    'event_type_description', 'event_type_main', 'organizers', 'region_name',\n",
    "    'city_name', 'city_id', 'venue_id', 'venue_name', 'venue_address' ]\n",
    "\n",
    "df_final = df_all[final_columns]"
   ]
  },
  {
   "cell_type": "code",
   "execution_count": null,
   "metadata": {
    "colab": {
     "base_uri": "https://localhost:8080/"
    },
    "id": "0cp3wlNdvbkk",
    "outputId": "78ea1450-060b-4037-df4e-444216dfcbf8",
    "scrolled": true
   },
   "outputs": [],
   "source": [
    "# Проверим получившийся датафрейм\n",
    "df_final.info()"
   ]
  },
  {
   "cell_type": "code",
   "execution_count": null,
   "metadata": {
    "colab": {
     "base_uri": "https://localhost:8080/",
     "height": 366
    },
    "id": "uyw4JXhWvbkl",
    "outputId": "bd7ccd07-332f-4180-fa72-42d9be7364e4"
   },
   "outputs": [],
   "source": [
    "df_final.head(3)"
   ]
  },
  {
   "cell_type": "markdown",
   "metadata": {
    "id": "xwUvDeuSvbkl"
   },
   "source": [
    "Промежуточные выводы и итоги:\n",
    "\n",
    "- Объединили таблицы.\n",
    "- Проверили данные на пропуски. Значимых для анализа пропусков не обнаружено.\n",
    "- Разобрали категориальные и количественные значения. Отфильтровано 20893 строк.\n",
    "- Разобрали явные и неявные дубликаты. Отфильтровано 58 строк.\n",
    "- Проверили типы данных.\n",
    "- Сделали конвертацию валюты в рубли. Добавили новый столбец `revenue_rub`.\n",
    "- Добавили столбцы `month` - месяц заказа и `season` - с информацией о сезонности.\n"
   ]
  },
  {
   "cell_type": "markdown",
   "metadata": {
    "id": "VoCupWPovbkl"
   },
   "source": [
    "### Исследовательский анализ данных"
   ]
  },
  {
   "cell_type": "markdown",
   "metadata": {
    "id": "1ui7JyEevbkl"
   },
   "source": [
    "#### Анализ распределения заказов по сегментам и их сезонные изменения"
   ]
  },
  {
   "cell_type": "markdown",
   "metadata": {
    "id": "sCrdOC7uvbkl"
   },
   "source": [
    "Анализ дашборда показал, что в данных наблюдается сезонность — осенью количество заказов увеличивается. На стадии исследовательского анализа изучим изменение пользовательской активности или пользовательского интереса в связи с сезонностью.\n",
    "\n",
    "\n",
    "\n",
    "Задачи:\n",
    "\n",
    "- Для каждого месяца найдем количество заказов.\n",
    "- Для осеннего и летнего периодов сравним распределение заказов билетов по разным категориям: тип мероприятия, тип устройства, категория мероприятия по возрастному рейтингу.\n",
    "- Изучим изменение выручки с продажи одного билета в зависимости от типа мероприятия летом и осенью.\n"
   ]
  },
  {
   "cell_type": "code",
   "execution_count": null,
   "metadata": {
    "id": "G98D73DRvbkl"
   },
   "outputs": [],
   "source": [
    "# Для каждого месяца найдем количество заказов\n",
    "orders_by_month = df_final['month'].value_counts().sort_index()"
   ]
  },
  {
   "cell_type": "code",
   "execution_count": null,
   "metadata": {
    "colab": {
     "base_uri": "https://localhost:8080/",
     "height": 206
    },
    "id": "eSUnLgHavbkm",
    "outputId": "7640d55a-7926-4081-e0e6-71922a038112"
   },
   "outputs": [],
   "source": [
    "orders_by_month.sort_values(ascending=False).reset_index()"
   ]
  },
  {
   "cell_type": "code",
   "execution_count": null,
   "metadata": {
    "colab": {
     "base_uri": "https://localhost:8080/",
     "height": 703
    },
    "id": "gpPTzKrhvbkm",
    "outputId": "6e661490-08c8-44e5-95b3-4d563a6466c3"
   },
   "outputs": [],
   "source": [
    "# Построим столбчатую диограмму\n",
    "orders_by_month = df_final['month'].value_counts().sort_index()\n",
    "\n",
    "month_names = [calendar.month_name[i] for i in orders_by_month.index]\n",
    "\n",
    "plt.figure(figsize=(10, 6))\n",
    "sns.barplot(x=month_names, y=orders_by_month.values, palette=\"viridis\")\n",
    "plt.title('Количество заказов по месяцам')\n",
    "plt.xlabel('Месяц')\n",
    "plt.ylabel('Количество заказов')\n",
    "plt.xticks(rotation=45)\n",
    "plt.grid(axis='y', linestyle='--', alpha=0.5)\n",
    "plt.show()"
   ]
  },
  {
   "cell_type": "markdown",
   "metadata": {
    "id": "wbY8r-N-vbkm"
   },
   "source": [
    "- Наблюдаем четкую и ровную динамику роста количества заказов от Июня к Октябрю."
   ]
  },
  {
   "cell_type": "code",
   "execution_count": null,
   "metadata": {
    "id": "u4U8o00Rvbkm"
   },
   "outputs": [],
   "source": [
    "# Для осеннего и летнего периодов сравним распределение заказов билетов по разным категориям: тип мероприятия, тип устройства, категория мероприятия по возрастному рейтингу.\n",
    "\n",
    "# Подготовим функцию для визуализации долей\n",
    "def compare_seasons(feature):\n",
    "    summer = df_final[df_final['season'] == 'лето'][feature].value_counts(normalize=True).sort_index()\n",
    "    autumn = df_final[df_final['season'] == 'осень'][feature].value_counts(normalize=True).sort_index()\n",
    "\n",
    "    compare_df = pd.DataFrame({'лето': summer, 'осень': autumn}).fillna(0)\n",
    "\n",
    "    compare_df.plot(kind='bar', figsize=(12, 6), colormap='Set2')\n",
    "    plt.title(f'Распределение заказов по: {feature}')\n",
    "    plt.ylabel('Доля заказов')\n",
    "    plt.grid(axis='y', linestyle='--', alpha=0.5)\n",
    "    plt.xticks(rotation=45)\n",
    "    plt.show()"
   ]
  },
  {
   "cell_type": "code",
   "execution_count": null,
   "metadata": {
    "colab": {
     "base_uri": "https://localhost:8080/",
     "height": 1000
    },
    "id": "o1iNpPj8vbkm",
    "outputId": "f6e444fc-90de-4a76-8ad3-d1854854acc3"
   },
   "outputs": [],
   "source": [
    "# Построим графики по нужным категориям\n",
    "compare_seasons('event_type_main')\n",
    "compare_seasons('device_type_canonical')\n",
    "compare_seasons('age_limit')"
   ]
  },
  {
   "cell_type": "markdown",
   "metadata": {
    "id": "rTczgmLfvbkn"
   },
   "source": [
    "- Летом преобладают такие категории мероприятий как `концерты` и `другое`. Показатели логичные, лето - пара открытых стадионных концертов, различного рода фестивалей.\n",
    "\n",
    "- Осенью преобладают такие категории мероприятий как `спорт` и `театр`. Так же показатели логичные - осенью начало большинства регулярных сезонов в различных видах спорта.\n",
    "\n",
    "- По типам устройств в разрезе категорий показатели приблизительно равные. Однако вне категорий видим большой перевес в сторону пользователей с мобильного устройства.\n",
    "\n",
    "- В летний период наблюдается ужесточение во возрастной категории."
   ]
  },
  {
   "cell_type": "code",
   "execution_count": null,
   "metadata": {
    "colab": {
     "base_uri": "https://localhost:8080/",
     "height": 564
    },
    "id": "Bxth9k2dvbkn",
    "outputId": "2eee3ea9-1f5b-49f0-b2ac-2a5e25494fe5"
   },
   "outputs": [],
   "source": [
    "# Изучим изменение выручки с продажи одного билета в зависимости от типа мероприятия летом и осенью.\n",
    "# Группировка по сезону и типу мероприятия\n",
    "revenue_by_event_season = (\n",
    "    df_final.groupby(['season', 'event_type_main'])['one_ticket_revenue_rub']\n",
    "    .mean()\n",
    "    .unstack()\n",
    "    .T\n",
    ")\n",
    "\n",
    "# Относительное изменение: (осень - лето) / лето\n",
    "revenue_change = ((revenue_by_event_season['осень'] - revenue_by_event_season['лето']) / revenue_by_event_season['лето']) * 100\n",
    "\n",
    "plt.figure(figsize=(12, 6))\n",
    "revenue_change.sort_values().plot(kind='barh', color='cornflowerblue')\n",
    "plt.title('Изменение средней выручки с одного билета по типу мероприятия от лета к осени')\n",
    "plt.xlabel('Изменение в %')\n",
    "plt.grid(axis='x', linestyle='--', alpha=0.5)\n",
    "plt.show()"
   ]
  },
  {
   "cell_type": "markdown",
   "metadata": {
    "id": "RwVCQ9PFvbkn"
   },
   "source": [
    "- Наблюдаем сильное удешевление среднего билета в театр осенью - это объясняет увеличение популярности категории.\n",
    "- Стендап и выставки становятся дороже - так же логичное падение популярности мероприятий.\n",
    "- Концерты становтся дешевле, что говорит о стабильном высоком спросе на данную категорию в летний период, не смотря на цену билета."
   ]
  },
  {
   "cell_type": "markdown",
   "metadata": {
    "id": "IxMxV4gyvbkn"
   },
   "source": [
    "---"
   ]
  },
  {
   "cell_type": "markdown",
   "metadata": {
    "id": "U3za4ZnDvbkn"
   },
   "source": [
    "Выводы подраздела:\n",
    "\n",
    "1. Количество заказов по месяцам:\n",
    "\n",
    "- Наблюдаем четкую и ровную динамику роста количества заказов от Июня к Октябрю.\n",
    "\n",
    "2. Сравнение распределения заказов билетов по разным категориям: тип мероприятия, тип устройства, категория мероприятия по возрастному рейтингу:\n",
    "\n",
    "- Летом преобладают такие категории мероприятий как `концерты` и `другое`. Показатели логичные, лето - пара открытых стадионных концертов, различного рода фестивалей.\n",
    "\n",
    "- Осенью преобладают такие категории мероприятий как `спорт` и `театр`. Так же показатели логичные - осенью начало большинства регулярных сезонов в различных видах спорта.\n",
    "\n",
    "- По типам устройств в разрезе категорий показатели приблизительно равные. Однако вне категорий видим большой перевес в сторону пользователей с мобильного устройства.\n",
    "\n",
    "- В летний период наблюдается ужесточение во возрастной категории.\n",
    "\n",
    "3. Изменение выручки с продажи одного билета в зависимости от типа мероприятия летом и осенью:\n",
    "\n",
    "- Наблюдаем сильное удешевление среднего билета в театр осенью - это объясняет увеличение популярности категории.\n",
    "- Стендап и выставки становятся дороже - так же логичное падение популярности мероприятий.\n",
    "- Концерты становтся дешевле, что говорит о стабильном высоком спросе на данную категорию в летний период, не смотря на цену билета."
   ]
  },
  {
   "cell_type": "markdown",
   "metadata": {
    "id": "fuP2rxWmvbkn"
   },
   "source": [
    "#### Осенняя активность пользователей"
   ]
  },
  {
   "cell_type": "markdown",
   "metadata": {
    "id": "_XMnUWT9vbko"
   },
   "source": [
    "Изучите активность пользователей осенью 2024 года:\n",
    "\n",
    "- Проанализируем динамику изменений по дням.\n",
    "- Изучите недельную цикличность."
   ]
  },
  {
   "cell_type": "code",
   "execution_count": null,
   "metadata": {
    "colab": {
     "base_uri": "https://localhost:8080/",
     "height": 985
    },
    "id": "DlCBM86xvbko",
    "outputId": "99def4f3-cb94-41a8-e3a8-8cd3b4d28f5e"
   },
   "outputs": [],
   "source": [
    "# Анализ по дням\n",
    "\n",
    "# Выделим дату\n",
    "df_final = df_final.copy()\n",
    "df_final['date'] = pd.to_datetime(df_final['created_dt_msk']).dt.date\n",
    "\n",
    "# Оставим в данных только осенний период\n",
    "df_season = df_final[df_final['season']== 'осень']\n",
    "\n",
    "# Группировка по дням\n",
    "daily_stats = (\n",
    "    df_season.groupby('date')\n",
    "    .agg(\n",
    "        orders=('order_id', 'count'),\n",
    "        dau=('user_id', 'nunique'),\n",
    "        total_revenue=('revenue_rub', 'sum'),\n",
    "        total_tickets=('tickets_count', 'sum')\n",
    "    )\n",
    ")\n",
    "\n",
    "# Расчёт дополнительных метрик\n",
    "daily_stats['orders_per_user'] = daily_stats['orders'] / daily_stats['dau']\n",
    "daily_stats['avg_ticket_price'] = daily_stats['total_revenue'] / daily_stats['total_tickets']\n",
    "\n",
    "# Визуализация\n",
    "fig, axes = plt.subplots(2, 2, figsize=(16, 10), sharex=True)\n",
    "fig.suptitle('Динамика метрик по дням (Осень 2024)', fontsize=16)\n",
    "\n",
    "# Общее число заказов\n",
    "axes[0, 0].plot(daily_stats.index, daily_stats['orders'], label='Заказы', color='royalblue')\n",
    "axes[0, 0].set_title('Общее число заказов')\n",
    "axes[0, 0].grid(True)\n",
    "\n",
    "# DAU\n",
    "axes[0, 1].plot(daily_stats.index, daily_stats['dau'], label='DAU', color='darkorange')\n",
    "axes[0, 1].set_title('Число уникальных пользователей (DAU)')\n",
    "axes[0, 1].grid(True)\n",
    "\n",
    "# Среднее число заказов на одного пользователя\n",
    "axes[1, 0].plot(daily_stats.index, daily_stats['orders_per_user'], label='Заказы на пользователя', color='seagreen')\n",
    "axes[1, 0].set_title('Среднее число заказов на пользователя')\n",
    "axes[1, 0].grid(True)\n",
    "\n",
    "# Средняя стоимость одного билета\n",
    "axes[1, 1].plot(daily_stats.index, daily_stats['avg_ticket_price'], label='Цена билета', color='firebrick')\n",
    "axes[1, 1].set_title('Средняя стоимость одного билета')\n",
    "axes[1, 1].grid(True)\n",
    "\n",
    "plt.tight_layout(rect=[0, 0, 1, 0.96])\n",
    "plt.show()"
   ]
  },
  {
   "cell_type": "code",
   "execution_count": null,
   "metadata": {},
   "outputs": [],
   "source": [
    "# Проанализируем недельную цикличность\n",
    "df_season = df_final[df_final['season'] == 'осень'].copy()\n",
    "\n",
    "# 1. День недели\n",
    "df_season['day_of_week'] = pd.to_datetime(df_season['created_dt_msk']).dt.dayofweek  # 0 = Пн, 6 = Вс\n",
    "\n",
    "# 2. Будни / выходные\n",
    "df_season['day_type'] = df_season['day_of_week'].apply(lambda x: 'будни' if x < 5 else 'выходные')\n",
    "\n",
    "# 3. Агрегация\n",
    "orders_by_day = df_season.groupby('day_of_week')['order_id'].count()\n",
    "dau_by_day = df_season.groupby('day_of_week')['user_id'].nunique()\n",
    "avg_orders_per_user = orders_by_day / dau_by_day\n",
    "avg_ticket_price = df_season.groupby('day_of_week')['one_ticket_revenue_rub'].mean()\n",
    "\n",
    "# Подписи осей\n",
    "days = ['Пн', 'Вт', 'Ср', 'Чт', 'Пт', 'Сб', 'Вс']\n",
    "x = range(7)\n",
    "\n",
    "# Визуализация\n",
    "plt.figure(figsize=(18, 6))\n",
    "plt.suptitle('Пользовательская активность по дням недели (Осень 2024)', fontsize=16, y=1.05)\n",
    "\n",
    "plt.subplot(1, 4, 1)\n",
    "plt.bar(x, orders_by_day, color='skyblue')\n",
    "plt.xticks(x, days)\n",
    "plt.title('Количество заказов')\n",
    "\n",
    "plt.subplot(1, 4, 2)\n",
    "plt.bar(x, dau_by_day, color='lightgreen')\n",
    "plt.xticks(x, days)\n",
    "plt.title('DAU (уникальные пользователи)')\n",
    "\n",
    "plt.subplot(1, 4, 3)\n",
    "plt.bar(x, avg_orders_per_user, color='salmon')\n",
    "plt.xticks(x, days)\n",
    "plt.title('Среднее число заказов на пользователя')\n",
    "\n",
    "plt.subplot(1, 4, 4)\n",
    "plt.bar(x, avg_ticket_price, color='mediumpurple')\n",
    "plt.xticks(x, days)\n",
    "plt.title('Средняя стоимость билета')\n",
    "\n",
    "plt.tight_layout()\n",
    "plt.show()\n",
    "\n",
    "# 5. Будни vs Выходные (в том числе средняя стоимость)\n",
    "summary_by_type = df_season.groupby('day_type').agg({\n",
    "    'order_id': 'count',\n",
    "    'user_id': pd.Series.nunique,\n",
    "    'one_ticket_revenue_rub': 'mean'\n",
    "}).rename(columns={\n",
    "    'order_id': 'orders',\n",
    "    'user_id': 'DAU',\n",
    "    'one_ticket_revenue_rub': 'avg_ticket_price'\n",
    "})\n",
    "\n",
    "summary_by_type['avg_orders_per_user'] = summary_by_type['orders'] / summary_by_type['DAU']\n",
    "display(summary_by_type)"
   ]
  },
  {
   "cell_type": "markdown",
   "metadata": {
    "id": "vEUxlSRAvbko"
   },
   "source": [
    "Промежуточные выводы подраздела:\n",
    "\n",
    "1. Пользовательская активност по дням:\n",
    "\n",
    "- Общее число заказов, число уникальных пользователей (DAU) и среднее число заказов на пользователя показывают тенденцию роста с начала наблюдаемого периода.\n",
    "\n",
    "- Однако графики имеют зубчатую форму с резкими скачками, что говорит о сильной дневной волатильности — вероятно, активность пользователей зависит от факторов вроде выходных, афиш мероприятий или рекламных кампаний.\n",
    "\n",
    "- Средняя стоимость одного билета также отличается нестабильностью — на графике видно чередование как локальных максимумов, так и провалов. При этом в целом уровень стоимости остаётся стабильным, без выраженной тенденции к росту или падению. \n",
    "\n",
    "- Однако в самом конце исследуемого периода наблюдается плавный спад средней стоимости билета.\n",
    "\n",
    "2. Недельная цикличность:\n",
    "\n",
    "- Наибольшее количество заказов и среднее число заказов на пользователя приходятся на вторники. Это может указывать на то, что пользователи чаще совершают заказы в начале рабочей недели — возможно, планируют культурные мероприятия заранее.\n",
    "\n",
    "\n",
    "- Однако при этом наибольшее число уникальных пользователей (DAU) фиксируется в четверг и пятницу — значит в эти дни активируется более широкая аудитория, но с меньшим числом заказов на одного пользователя.\n",
    "\n",
    "\n",
    "- Наименьшая активность наблюдается в воскресенье и понедельник по всем ключевым метрикам аткивности. Вероятно, это связано с тем, что в воскресенье пользователи отдыхают от цифровой активности, а в понедельник ещё не планируют мероприятия.\n",
    "\n",
    "\n",
    "- В самый активный пользовательский день - самая низкая средняя стоимость одного билета. По вторникам пользователи заказывают много, но средняя стоимость билета значимо мала. По воскреньям же наоборот - самый неактианвый пользовательский день, однако пользователи предпочитают более дорогие мероприятия.\n"
   ]
  },
  {
   "cell_type": "markdown",
   "metadata": {},
   "source": [
    "<div class=\"alert alert-success\">\n",
    "<h2> Комментарий ревьюера <a class=\"tocSkip\"> </h2>\n",
    "\n",
    "<b>Все отлично!👍:</b> Динамика метрик и недельная цикличность изучены."
   ]
  },
  {
   "cell_type": "markdown",
   "metadata": {
    "id": "muNvZ3y-vbkp"
   },
   "source": [
    "#### Популярные события и партнёры"
   ]
  },
  {
   "cell_type": "markdown",
   "metadata": {
    "id": "L1qMqVa7vbkp"
   },
   "source": [
    "Посмотрим, как события распределены по регионам и партнёрам. Это позволит выделить ключевые регионы и партнёров, которые вносят наибольший вклад в выручку:\n",
    "\n",
    "- Для каждого региона посчитаем уникальное количество мероприятий и общее число заказов.\n",
    "- Для каждого билетного партнёра посчитаем общее число уникальных мероприятий, обработанных заказов и суммарную выручку с заказов билетов."
   ]
  },
  {
   "cell_type": "code",
   "execution_count": null,
   "metadata": {
    "colab": {
     "base_uri": "https://localhost:8080/",
     "height": 394
    },
    "id": "P1kLcN7bvbkp",
    "outputId": "386f792b-619e-4177-8468-416d22c059cc"
   },
   "outputs": [],
   "source": [
    "# Количество уникальных мероприятий и заказов по регионам осенью 2024\n",
    "region_stats = (\n",
    "    df_season.groupby('region_name')\n",
    "    .agg(\n",
    "        unique_events=('event_id', 'nunique'),\n",
    "        total_orders=('order_id', 'count')\n",
    "    )\n",
    "    .sort_values('unique_events', ascending=False)\n",
    ")\n",
    "\n",
    "# Добавим доли в процентах с округлением\n",
    "region_stats['event_share_%'] = round(region_stats['unique_events'] / region_stats['unique_events'].sum() * 100, 2)\n",
    "region_stats['order_share_%'] = round(region_stats['total_orders'] / region_stats['total_orders'].sum() * 100, 2)\n",
    "\n",
    "# Вывод топ-10\n",
    "display(region_stats.head(10))"
   ]
  },
  {
   "cell_type": "code",
   "execution_count": null,
   "metadata": {
    "colab": {
     "base_uri": "https://localhost:8080/",
     "height": 564
    },
    "id": "k__RbUP_vbkp",
    "outputId": "1d085d9e-419d-4751-b15b-243363a44d97"
   },
   "outputs": [],
   "source": [
    "# Постриом визуализацию для топ-10\n",
    "region_stats['unique_events'].sort_values(ascending=True).tail(10).plot(kind='barh', figsize=(10, 6), color='slateblue')\n",
    "plt.title('Топ-10 регионов по числу уникальных мероприятий')\n",
    "plt.xlabel('Количество мероприятий')\n",
    "plt.grid(axis='x', linestyle='--', alpha=0.6)\n",
    "plt.show()"
   ]
  },
  {
   "cell_type": "code",
   "execution_count": null,
   "metadata": {
    "colab": {
     "base_uri": "https://localhost:8080/",
     "height": 394
    },
    "id": "OZ7O7ncgvbkp",
    "outputId": "65a47184-8265-467f-dc05-da5834a1e422"
   },
   "outputs": [],
   "source": [
    "# Статистика по партнёрам\n",
    "partner_stats = (\n",
    "    df_season.groupby('service_name')\n",
    "    .agg(\n",
    "        unique_events=('event_id', 'nunique'),\n",
    "        total_orders=('order_id', 'count'),\n",
    "        total_revenue=('revenue_rub', 'sum')\n",
    "    )\n",
    "    .sort_values('total_orders', ascending=False)\n",
    ")\n",
    "\n",
    "# Доли и округления\n",
    "partner_stats['order_share_%'] = round(partner_stats['total_orders'] / partner_stats['total_orders'].sum() * 100, 2)\n",
    "partner_stats['revenue_share_%'] = round(partner_stats['total_revenue'] / partner_stats['total_revenue'].sum() * 100, 2)\n",
    "partner_stats['total_revenue'] = round(partner_stats['total_revenue'], 2)\n",
    "\n",
    "# Вывод топ-10\n",
    "partner_stats.head(10)"
   ]
  },
  {
   "cell_type": "code",
   "execution_count": null,
   "metadata": {
    "colab": {
     "base_uri": "https://localhost:8080/",
     "height": 564
    },
    "id": "V_toAL6Svbkq",
    "outputId": "3421848a-b15b-4f00-9234-e90031dcc32d"
   },
   "outputs": [],
   "source": [
    "# Визуализируем статистику по партнерам\n",
    "\n",
    "partner_stats['total_revenue'].sort_values(ascending=True).tail(10).plot(kind='barh', figsize=(10, 6), color='darkorange')\n",
    "plt.title('Топ-10 партнёров по выручке')\n",
    "plt.xlabel('Выручка (₽)')\n",
    "plt.grid(axis='x', linestyle='--', alpha=0.6)\n",
    "plt.show()"
   ]
  },
  {
   "cell_type": "markdown",
   "metadata": {
    "id": "0wZ17c8svbkq"
   },
   "source": [
    "Промежуточные выводы подраздела:\n",
    "\n",
    "1. Статистика по регионам:\n",
    "\n",
    "-  Каменевский регион: Лидер по количеству уникальных мероприятий: 5983 (≈25% от всех мероприятий). Формирует наибольшую долю заказов — 91 058 заказов (≈28% от общего количества). Это говорит о высокой вовлечённости аудитории и высокой конверсии мероприятий в заказы.\n",
    "  \n",
    "- Североярская область: Второй по числу мероприятий (3814), но при этом доля заказов (16%) немного отстаёт от доли событий (12%). Возможное объяснение: слабее интерес аудитории или менее популярные события.\n",
    "\n",
    "- Светополянский округ и Речиновская область: Относительно высокая доля мероприятий, но низкая доля заказов. Например, Светополянский округ — ~4.8% мероприятий, но только ~2.8% заказов. Это говорит о низкой окупаемости мероприятий или слабом спросе.\n",
    "\n",
    "- Имеем четкую лидерсую группу из двух регионов. Остальные регионы значительно уступают в долевых показателях.\n",
    "\n",
    "2. Статистика по партнерам:\n",
    "\n",
    "- Разные партнеры занимают разные ниши.\n",
    "\n",
    "- Часть партенров рабоает на массовость и объем, например, Билеты без проблем - ~19% всех мероприятий, но доля выручки лишь ~15%\n",
    "\n",
    "- Часть работают с дорогими мероприятиями и приносят диспропорционально высокую выручку (Мой билет, Облачко, Весь в билетах).\n"
   ]
  },
  {
   "cell_type": "markdown",
   "metadata": {
    "id": "6Glufhfvvbkq"
   },
   "source": [
    "### Статистический анализ данных"
   ]
  },
  {
   "cell_type": "markdown",
   "metadata": {
    "id": "KMLgxbdmvbkq"
   },
   "source": [
    "Проверим две гипотезы относительно активности пользователей мобильных и стационарных устройств в осенний период:\n",
    "\n"
   ]
  },
  {
   "cell_type": "code",
   "execution_count": null,
   "metadata": {
    "id": "jCobnVd4vbkq"
   },
   "outputs": [],
   "source": [
    "# Подготовим данные\n",
    "\n",
    "# Осенний период\n",
    "autumn_df = df_final[df_final['season'] == 'осень']\n",
    "\n",
    "# Мобильные и стационарные устройства\n",
    "mobile_df = autumn_df[autumn_df['device_type_canonical'] == 'mobile']\n",
    "desktop_df = autumn_df[autumn_df['device_type_canonical'] == 'desktop']"
   ]
  },
  {
   "cell_type": "markdown",
   "metadata": {
    "id": "qR4a5Zxtvbkr"
   },
   "source": [
    "#### Гипотеза: Среднее количество заказов на одного пользователя мобильного приложения выше по сравнению с пользователями стационарных устройств."
   ]
  },
  {
   "cell_type": "markdown",
   "metadata": {
    "id": "L0bjAkkDvbkr"
   },
   "source": [
    "`H₀ (нулевая гипотеза)`: Среднее количество заказов на пользователя у мобильного приложения `не больше` чем у стационарного устройства\n",
    "\n",
    "`H₁ (альтернативная гипотеза)`: Среднее количество заказов на пользователя у мобильного приложения `больше` чем у стационарного устройства"
   ]
  },
  {
   "cell_type": "code",
   "execution_count": null,
   "metadata": {
    "colab": {
     "base_uri": "https://localhost:8080/"
    },
    "id": "CZbTXbKgvbkr",
    "outputId": "67bfda96-1128-4557-9071-845f4782260a"
   },
   "outputs": [],
   "source": [
    "# Подготовка данных\n",
    "\n",
    "# Кол-во заказов на одного пользователя\n",
    "orders_mobile = mobile_df.groupby('user_id')['order_id'].nunique()\n",
    "orders_desktop = desktop_df.groupby('user_id')['order_id'].nunique()\n",
    "\n",
    "print(orders_mobile)\n"
   ]
  },
  {
   "cell_type": "code",
   "execution_count": null,
   "metadata": {
    "colab": {
     "base_uri": "https://localhost:8080/",
     "height": 564
    },
    "id": "-3x9QVnvvbkr",
    "outputId": "cfdc8c56-1fed-4763-d67b-0e674e6d095e"
   },
   "outputs": [],
   "source": [
    "# Проверим распределения\n",
    "plt.figure(figsize=(14,6))\n",
    "sns.histplot(orders_mobile, color='blue', label='Mobile', kde=False, stat='density', bins=30, alpha=0.5)\n",
    "sns.histplot(orders_desktop, color='green', label='Desktop', kde=False, stat='density', bins=30, alpha=0.5)\n",
    "plt.legend()\n",
    "plt.title('Распределение заказов на одного пользователя')\n",
    "plt.xlabel('Количество заказов')\n",
    "plt.show()"
   ]
  },
  {
   "cell_type": "code",
   "execution_count": null,
   "metadata": {
    "colab": {
     "base_uri": "https://localhost:8080/",
     "height": 507
    },
    "id": "yVoti1HGvbkr",
    "outputId": "b502e3f6-d529-4eef-9caa-149af8849aa0"
   },
   "outputs": [],
   "source": [
    "# Построим Q-Q plot для категорий\n",
    "\n",
    "# Для мобильных пользователей\n",
    "plt.figure(figsize=(12, 5))\n",
    "\n",
    "plt.subplot(1, 2, 1)\n",
    "stats.probplot(orders_mobile, dist=\"norm\", plot=plt)\n",
    "plt.title(\"Q-Q plot для заказов мобильных пользователей\")\n",
    "\n",
    "# Для десктопных пользователей\n",
    "plt.subplot(1, 2, 2)\n",
    "stats.probplot(orders_desktop, dist=\"norm\", plot=plt)\n",
    "plt.title(\"Q-Q plot для заказов десктопных пользователей\")\n",
    "\n",
    "plt.tight_layout()\n",
    "plt.show()"
   ]
  },
  {
   "cell_type": "code",
   "execution_count": null,
   "metadata": {},
   "outputs": [],
   "source": [
    "# Визуализация - boxplot\n",
    "plt.figure(figsize=(8,5))\n",
    "sns.boxplot(data=[orders_mobile, orders_desktop], showfliers=True)\n",
    "plt.xticks([0,1], ['Mobile', 'Desktop'])\n",
    "plt.title('Сравнение распределения заказов на пользователя')\n",
    "plt.ylabel('Количество заказов')\n",
    "plt.show()"
   ]
  },
  {
   "cell_type": "markdown",
   "metadata": {
    "id": "Bp0TmGRjvbks"
   },
   "source": [
    "Распределения ненормальные, так же наблюдаем немаленькое количесвто выбросов. Для проверки гипотезы выбираем непараметрический тест Манна-Уитни, который менее чуствителен к выбросам."
   ]
  },
  {
   "cell_type": "code",
   "execution_count": null,
   "metadata": {
    "colab": {
     "base_uri": "https://localhost:8080/"
    },
    "id": "djV8eUAQvbks",
    "outputId": "2d3108f2-30a5-463e-f0c0-a31cf401fd28"
   },
   "outputs": [],
   "source": [
    "# Посчитаем средние и медианы\n",
    "mean_mobile = np.mean(orders_mobile)\n",
    "mean_desktop = np.mean(orders_desktop)\n",
    "median_mobile = np.median(orders_mobile)\n",
    "median_desktop = np.median(orders_desktop)\n",
    "\n",
    "print(f\"Среднее (мобильные): {mean_mobile:.2f}, медиана: {median_mobile}\")\n",
    "print(f\"Среднее (десктоп): {mean_desktop:.2f}, медиана: {median_desktop}\")"
   ]
  },
  {
   "cell_type": "code",
   "execution_count": null,
   "metadata": {
    "colab": {
     "base_uri": "https://localhost:8080/",
     "height": 468
    },
    "id": "7TKpCTn-vbks",
    "outputId": "5a2a532a-2d20-4f89-baa0-d175ff182d2e"
   },
   "outputs": [],
   "source": [
    "# Визуализация - boxplot\n",
    "plt.figure(figsize=(8,5))\n",
    "sns.boxplot(data=[orders_mobile, orders_desktop], showfliers=False)\n",
    "plt.xticks([0,1], ['Mobile', 'Desktop'])\n",
    "plt.title('Сравнение распределения заказов на пользователя')\n",
    "plt.ylabel('Количество заказов')\n",
    "plt.show()"
   ]
  },
  {
   "cell_type": "code",
   "execution_count": null,
   "metadata": {
    "colab": {
     "base_uri": "https://localhost:8080/"
    },
    "id": "hJykc4Mxvbks",
    "outputId": "a5e33328-6a4d-4461-f7cb-306122b6ff14"
   },
   "outputs": [],
   "source": [
    "# Статистический тест Манна-Уитни с альтернативой \"greater\" (мобильные > десктоп)\n",
    "stat, p_value = mannwhitneyu(orders_mobile, orders_desktop, alternative='greater')\n",
    "print(f\"p-value (one-sided): {p_value:.4f}\")\n",
    "\n",
    "# Интерпретация\n",
    "if p_value < 0.05:\n",
    "    print(\"Отвергаем нулевую гипотезу: среднее количество заказов у мобильных статистически значимо больше, чем у десктопных.\")\n",
    "else:\n",
    "    print(\"Нет оснований отвергать нулевую гипотезу: недостаточно доказательств, что мобильные активнее.\")"
   ]
  },
  {
   "cell_type": "markdown",
   "metadata": {
    "id": "iZprih_Cvbks"
   },
   "source": [
    "#### Среднее время между заказами пользователей мобильных приложений выше по сравнению с пользователями стационарных устройств."
   ]
  },
  {
   "cell_type": "markdown",
   "metadata": {
    "id": "Wf70gEjvvbks"
   },
   "source": [
    "`H₀`:  Среднее время между заказами пользователей мобильных приложений __не выше__ по сравнению с пользователями стационарных устройств\n",
    "\n",
    "`H₁`:  Среднее время между заказами пользователей мобильных приложений __выше__ по сравнению с пользователями стационарных устройств"
   ]
  },
  {
   "cell_type": "code",
   "execution_count": null,
   "metadata": {
    "id": "Yadz4l3rvbkt"
   },
   "outputs": [],
   "source": [
    "# Подготовим данные\n",
    "\n",
    "# Разница между соседними заказами у одного пользователя\n",
    "#def get_avg_days(df):\n",
    " ##      df.sort_values(['user_id', 'created_dt_msk'])\n",
    "#        .groupby('user_id')['created_dt_msk']\n",
    "#        .apply(lambda x: x.diff().dt.days.dropna().mean())\n",
    "#    )\n",
    "\n",
    "#avg_days_mobile = get_avg_days(mobile_df).dropna()\n",
    "#avg_days_desktop = get_avg_days(desktop_df).dropna()"
   ]
  },
  {
   "cell_type": "code",
   "execution_count": null,
   "metadata": {},
   "outputs": [],
   "source": [
    "# Удалим пропуски\n",
    "mobile_days = mobile_df['days_since_prev'].dropna()\n",
    "desktop_days = desktop_df['days_since_prev'].dropna()"
   ]
  },
  {
   "cell_type": "code",
   "execution_count": null,
   "metadata": {
    "scrolled": true
   },
   "outputs": [],
   "source": [
    "# Визуализация — boxplot с выбросами\n",
    "plt.figure(figsize=(8, 5))\n",
    "sns.boxplot(data=[mobile_days, desktop_days], showfliers=True)\n",
    "plt.xticks([0, 1], ['Mobile', 'Desktop'])\n",
    "plt.title('Распределение времени между заказами (дни)')\n",
    "plt.ylabel('Дни с предыдущего заказа')\n",
    "plt.show()"
   ]
  },
  {
   "cell_type": "code",
   "execution_count": null,
   "metadata": {},
   "outputs": [],
   "source": [
    "# Построим гистограммы\n",
    "plt.figure(figsize=(10, 5))\n",
    "plt.hist(mobile_days, bins=30, color='blue', alpha=0.6, label='Mobile', density=True)\n",
    "plt.hist(desktop_days, bins=30, color='green', alpha=0.6, label='Desktop', density=True)\n",
    "plt.title('Распределение времени между заказами (дни)')\n",
    "plt.xlabel('Дни с предыдущего заказа')\n",
    "plt.ylabel('Плотность')\n",
    "plt.legend()\n",
    "plt.grid(True, linestyle='--', alpha=0.5)\n",
    "plt.show()"
   ]
  },
  {
   "cell_type": "code",
   "execution_count": null,
   "metadata": {},
   "outputs": [],
   "source": [
    "# Описательная статистика\n",
    "print('Среднее время между заказами (дни):')\n",
    "print(f\"- Mobile: {mobile_days.mean():.2f}\")\n",
    "print(f\"- Desktop: {desktop_days.mean():.2f}\\n\")\n",
    "\n",
    "print('Медиана времени между заказами (дни):')\n",
    "print(f\"- Mobile: {mobile_days.median():.2f}\")\n",
    "print(f\"- Desktop: {desktop_days.median():.2f}\")"
   ]
  },
  {
   "cell_type": "code",
   "execution_count": null,
   "metadata": {},
   "outputs": [],
   "source": [
    "# Визуализация — boxplot с выбросами\n",
    "plt.figure(figsize=(8, 5))\n",
    "sns.boxplot(data=[mobile_days, desktop_days], showfliers=False)\n",
    "plt.xticks([0, 1], ['Mobile', 'Desktop'])\n",
    "plt.title('Распределение времени между заказами (дни)')\n",
    "plt.ylabel('Дни с предыдущего заказа')\n",
    "plt.tight_layout()\n",
    "plt.show()"
   ]
  },
  {
   "cell_type": "markdown",
   "metadata": {
    "id": "BCSUfhR1vbkt"
   },
   "source": [
    "Наблюдаем положительную скошенность. Рарспределения ненормальные, так же наблюдаем большое количество выбросов. Для проверки выбираем непараметрический тест Манна-Уитни, который менее чуствителен к выбросам."
   ]
  },
  {
   "cell_type": "code",
   "execution_count": null,
   "metadata": {
    "colab": {
     "base_uri": "https://localhost:8080/"
    },
    "id": "uqfOTN4rvbkt",
    "outputId": "a01b10b0-085c-44fa-d649-36b7c7dd6144"
   },
   "outputs": [],
   "source": [
    " # Статистический тест Манна-Уитни\n",
    "stat, p_value = mannwhitneyu(mobile_days, desktop_days, alternative='greater')\n",
    "print(f\"p-value (one-sided): {p_value:.4f}\")\n",
    "\n",
    "# 4. Интерпретация\n",
    "if p_value < 0.05:\n",
    "    print(\"Отвергаем нулевую гипотезу: у мобильных пользователей интервал между заказами статистически больше.\")\n",
    "else:\n",
    "    print(\"Нет оснований отвергать H₀: различия в интервалах не подтверждены статистически.\")"
   ]
  },
  {
   "cell_type": "markdown",
   "metadata": {
    "id": "gR33UMZkvbku"
   },
   "source": [
    "Промежуточные выводы по гипотезам:\n",
    "\n",
    "\t1.\tГипотеза 1:\n",
    "Пользователи мобильных устройств в среднем делают больше заказов, чем пользователи десктопов.\n",
    "Статистически значимое различие подтверждено (p-value < 0.05).\n",
    "\n",
    "\t2.\tГипотеза 2:\n",
    "Интервал между заказами у мобильных пользователей в среднем больше, чем у десктопных.\n",
    "Статистически значимое различие подтверждено (p-value < 0.05).\n"
   ]
  },
  {
   "cell_type": "markdown",
   "metadata": {
    "id": "Dk2ElYC-vbku"
   },
   "source": [
    "### Общий вывод и рекомендации"
   ]
  },
  {
   "cell_type": "markdown",
   "metadata": {},
   "source": [
    "#### Информация о данных\n",
    "\n",
    "В ходе проекта были проанализированы данные о заказах билетов на мероприятия из сервиса, действующего на территории России и Казахстана. Данные охватывают период с июня по октябрь 2024 года и содержат информацию о событиях, пользователях, устройствах, бронированиях и билетных партнёрах. Также была доступна таблица с курсами валют для приведения выручки к рублёвому эквиваленту. В общей сложности данные включают десятки тысяч заказов, охватывающих сотни городов, партнёров и различных типов мероприятий."
   ]
  },
  {
   "cell_type": "markdown",
   "metadata": {
    "id": "qvfgo6wovbku"
   },
   "source": [
    "#### Проделанная работа\n",
    "\n",
    "    1. Предобработка данных:\n",
    "    \n",
    "- Проверили типы данных, проанализировали пропуски, удалили неявные дубликаты, отфильтровали выбросы, проверили значения рассчитали и добавили необходимые новые столбцы.\n",
    "\n",
    "\n",
    "    2. Исследователький анализ данных:\n",
    "    \n",
    "- Провели анализ распределения заказов по сегментам и их сезонные изменения\n",
    "- Изучили  осеннюю активность пользователей\n",
    "- Проанализирвоали популярность событий в разрезе партнеров и регионов\n",
    "\n",
    "\n",
    "    3. Статистический анализ данных\n",
    "   \n",
    "- С помощью тестов проверили две гипотезы по активности среди пользователей мобильным декстопным устройсвами."
   ]
  },
  {
   "cell_type": "markdown",
   "metadata": {
    "id": "TTqXc62lvbku"
   },
   "source": [
    "#### Выводы и рекомендации\n",
    "\n",
    "**Выводы**\n",
    "\n",
    "**1. Предобработка данных**\n",
    "\n",
    "- Данные обработаны. Критических ошибок, способных повлиять на анализ, не осталось.   \n",
    "\n",
    "\n",
    "---\n",
    "\n",
    "**2. Исследовательский анализ данных**\n",
    "\n",
    "**📈 Динамика заказов и категорий мероприятий**\n",
    "\n",
    "- Наблюдается чёткая динамика роста количества заказов с июня по октябрь 2024 года.  \n",
    "- Летом преобладают категории мероприятий: `концерты` и `другое`.  \n",
    "- Осенью доминируют категории: `спорт` и `театр`.  \n",
    "- По типам устройств — приблизительное равенство в категориях, но в целом **преобладают мобильные пользователи**.  \n",
    "- Летом наблюдается ужесточение возрастных категорий.  \n",
    "- Театр осенью становится дешевле → рост популярности.  \n",
    "- Стендап и выставки — дороже → вероятное снижение интереса.  \n",
    "- Концерты дешевеют, но остаются популярными — спрос стабильно высок.\n",
    "\n",
    "---\n",
    "\n",
    "**3. Динамика пользовательской активности по дням**\n",
    "\n",
    "- Кол-во заказов, DAU и среднее кол-во заказов на пользователя стабильно растут.  \n",
    "- Графики «зубчатые» — есть резкие скачки и спады, вероятно, влияние внешних факторов.  \n",
    "- Средняя стоимость билета нестабильна,резкие скачки вниз, но в целом без тренда. В конце — **спад**.\n",
    "\n",
    "---\n",
    "\n",
    "**4. Недельная цикличность**\n",
    "\n",
    "- Пик заказов и заказов на пользователя — **вторник**.  \n",
    "- Пик DAU — **четверг** (больше пользователей, но меньше заказов на одного).  \n",
    "- Наименьшая активность — **воскресенье и понедельник**.\n",
    "\n",
    "---\n",
    "\n",
    "**5. География событий**\n",
    "\n",
    "📍 **Регионы:**\n",
    "\n",
    "- **Каменевский регион** — лидер (25% мероприятий, 28% заказов).  \n",
    "- **Североярская область** — 16% мероприятий, 12% заказов.  \n",
    "- **Светополянский округ**, **Речиновская область** — много мероприятий, мало заказов → **низкая эффективность**.\n",
    "\n",
    "🤝 **Партнёры:**\n",
    "\n",
    "- «Билеты без проблем» — масштаб, но не максимальная выручка.  \n",
    "- «Мой билет», «Облачко», «Весь в билетах» — меньший объём, но большая выручка.\n",
    "\n",
    "---\n",
    "\n",
    "**6. Статистический анализ**\n",
    "\n",
    "**Гипотеза 1:**  \n",
    "Мобильные пользователи делают больше заказов → ✅ Подтверждено (p-value < 0.05)\n",
    "\n",
    "**Гипотеза 2:**  \n",
    "Интервал между заказами больше у мобильных → ✅ Подтверждено (p-value < 0.05)\n",
    "\n",
    "---\n",
    "\n",
    "**Рекомендации**\n",
    "\n",
    "- Развивать мобильное приложение: больше заказов, выше вовлечённость.  \n",
    "- Сосредоточиться на Каменевском и Североярском регионах.  \n",
    "- Пересмотреть подход к регионам с низкой конверсией.  \n",
    "- Продолжать ценовые эксперименты — особенно с театром, выставками и стендапом.  \n",
    "- Учитывать недельную цикличность в маркетинге — вторник и пятница как точки роста.    \n",
    "- Планировать пиковые кампании на осенний период.\n",
    "- Обратить внимание на популярность концертов и фестивалей в летний период.\n",
    "\n",
    "---\n",
    "\n"
   ]
  }
 ],
 "metadata": {
  "ExecuteTimeLog": [
   {
    "duration": 454,
    "start_time": "2025-07-08T14:31:21.243Z"
   },
   {
    "duration": 688,
    "start_time": "2025-07-08T14:33:51.150Z"
   },
   {
    "duration": 1542,
    "start_time": "2025-07-08T14:34:01.253Z"
   },
   {
    "duration": 423,
    "start_time": "2025-07-08T14:35:14.893Z"
   },
   {
    "duration": 1567,
    "start_time": "2025-07-08T14:38:27.909Z"
   },
   {
    "duration": 1604,
    "start_time": "2025-07-08T14:39:22.345Z"
   },
   {
    "duration": 5960,
    "start_time": "2025-07-08T14:42:36.401Z"
   },
   {
    "duration": 444,
    "start_time": "2025-07-08T14:42:44.070Z"
   },
   {
    "duration": 425,
    "start_time": "2025-07-08T14:44:37.316Z"
   },
   {
    "duration": 36438,
    "start_time": "2025-07-08T14:58:21.444Z"
   },
   {
    "duration": 1135,
    "start_time": "2025-07-08T14:59:55.917Z"
   },
   {
    "duration": 2848,
    "start_time": "2025-07-08T15:01:22.249Z"
   },
   {
    "duration": 95,
    "start_time": "2025-07-08T15:01:34.896Z"
   },
   {
    "duration": 75,
    "start_time": "2025-07-08T15:01:39.093Z"
   },
   {
    "duration": 34,
    "start_time": "2025-07-08T15:18:26.362Z"
   },
   {
    "duration": 333,
    "start_time": "2025-07-08T15:19:17.436Z"
   },
   {
    "duration": 5,
    "start_time": "2025-07-08T15:19:41.608Z"
   },
   {
    "duration": 87,
    "start_time": "2025-07-08T15:19:49.243Z"
   },
   {
    "duration": 95,
    "start_time": "2025-07-08T15:19:57.747Z"
   },
   {
    "duration": 183,
    "start_time": "2025-07-08T15:20:13.210Z"
   },
   {
    "duration": 145,
    "start_time": "2025-07-08T15:20:22.912Z"
   },
   {
    "duration": 301,
    "start_time": "2025-07-08T15:20:30.713Z"
   },
   {
    "duration": 47,
    "start_time": "2025-07-08T15:20:39.430Z"
   },
   {
    "duration": 146,
    "start_time": "2025-07-08T15:45:24.288Z"
   },
   {
    "duration": 10,
    "start_time": "2025-07-08T15:45:51.981Z"
   },
   {
    "duration": 415,
    "start_time": "2025-07-08T15:46:02.434Z"
   },
   {
    "duration": 147,
    "start_time": "2025-07-08T15:46:16.835Z"
   },
   {
    "duration": 400,
    "start_time": "2025-07-08T15:47:48.569Z"
   },
   {
    "duration": 94,
    "start_time": "2025-07-08T15:48:52.770Z"
   },
   {
    "duration": 400,
    "start_time": "2025-07-08T15:49:06.593Z"
   },
   {
    "duration": 407,
    "start_time": "2025-07-08T15:49:54.023Z"
   },
   {
    "duration": 1294,
    "start_time": "2025-07-09T11:47:42.061Z"
   },
   {
    "duration": 1980,
    "start_time": "2025-07-09T11:47:43.357Z"
   },
   {
    "duration": 34,
    "start_time": "2025-07-09T11:47:45.339Z"
   },
   {
    "duration": 319,
    "start_time": "2025-07-09T11:47:45.375Z"
   },
   {
    "duration": 103,
    "start_time": "2025-07-09T11:47:45.697Z"
   },
   {
    "duration": 189,
    "start_time": "2025-07-09T11:47:45.802Z"
   },
   {
    "duration": 147,
    "start_time": "2025-07-09T11:47:45.993Z"
   },
   {
    "duration": 302,
    "start_time": "2025-07-09T11:47:46.150Z"
   },
   {
    "duration": 42,
    "start_time": "2025-07-09T11:47:46.454Z"
   },
   {
    "duration": 173,
    "start_time": "2025-07-09T11:47:46.497Z"
   },
   {
    "duration": 465,
    "start_time": "2025-07-09T11:47:46.671Z"
   },
   {
    "duration": 160,
    "start_time": "2025-07-09T11:47:53.037Z"
   },
   {
    "duration": 152,
    "start_time": "2025-07-09T11:48:08.271Z"
   },
   {
    "duration": 36,
    "start_time": "2025-07-09T11:50:27.086Z"
   },
   {
    "duration": 200,
    "start_time": "2025-07-09T11:58:56.220Z"
   },
   {
    "duration": 572,
    "start_time": "2025-07-09T11:59:36.687Z"
   },
   {
    "duration": 521,
    "start_time": "2025-07-09T11:59:43.836Z"
   },
   {
    "duration": 208,
    "start_time": "2025-07-09T12:00:26.167Z"
   },
   {
    "duration": 475,
    "start_time": "2025-07-09T12:02:49.732Z"
   },
   {
    "duration": 276,
    "start_time": "2025-07-09T12:04:16.720Z"
   },
   {
    "duration": 203,
    "start_time": "2025-07-09T12:04:17.210Z"
   },
   {
    "duration": 481,
    "start_time": "2025-07-09T12:04:34.169Z"
   },
   {
    "duration": 183,
    "start_time": "2025-07-09T12:04:38.535Z"
   },
   {
    "duration": 528,
    "start_time": "2025-07-09T12:05:46.762Z"
   },
   {
    "duration": 4158,
    "start_time": "2025-07-09T12:10:28.305Z"
   },
   {
    "duration": 43,
    "start_time": "2025-07-09T12:12:06.134Z"
   },
   {
    "duration": 34,
    "start_time": "2025-07-09T12:16:30.501Z"
   },
   {
    "duration": 4041,
    "start_time": "2025-07-09T12:20:08.673Z"
   },
   {
    "duration": 4001,
    "start_time": "2025-07-09T12:22:07.668Z"
   },
   {
    "duration": 32,
    "start_time": "2025-07-09T12:22:11.670Z"
   },
   {
    "duration": 1507,
    "start_time": "2025-07-09T12:38:00.153Z"
   },
   {
    "duration": 107,
    "start_time": "2025-07-09T12:38:13.367Z"
   },
   {
    "duration": 48,
    "start_time": "2025-07-09T12:38:37.621Z"
   },
   {
    "duration": 39,
    "start_time": "2025-07-09T12:39:13.217Z"
   },
   {
    "duration": 37,
    "start_time": "2025-07-09T12:40:00.718Z"
   },
   {
    "duration": 34,
    "start_time": "2025-07-09T12:40:33.363Z"
   },
   {
    "duration": 3590,
    "start_time": "2025-07-09T12:41:43.215Z"
   },
   {
    "duration": 534,
    "start_time": "2025-07-09T12:45:03.164Z"
   },
   {
    "duration": 545,
    "start_time": "2025-07-09T12:45:21.447Z"
   },
   {
    "duration": 3317,
    "start_time": "2025-07-09T12:46:10.275Z"
   },
   {
    "duration": 3447,
    "start_time": "2025-07-09T12:46:58.844Z"
   },
   {
    "duration": 664,
    "start_time": "2025-07-09T12:47:16.183Z"
   },
   {
    "duration": 65,
    "start_time": "2025-07-09T13:03:07.363Z"
   },
   {
    "duration": 64,
    "start_time": "2025-07-09T13:04:51.231Z"
   },
   {
    "duration": 63,
    "start_time": "2025-07-09T13:06:08.731Z"
   },
   {
    "duration": 126,
    "start_time": "2025-07-09T13:07:11.898Z"
   },
   {
    "duration": 160,
    "start_time": "2025-07-09T13:09:05.545Z"
   },
   {
    "duration": 139,
    "start_time": "2025-07-09T13:09:58.317Z"
   },
   {
    "duration": 131,
    "start_time": "2025-07-09T13:10:14.913Z"
   },
   {
    "duration": 389,
    "start_time": "2025-07-09T13:13:26.712Z"
   },
   {
    "duration": 1290,
    "start_time": "2025-07-10T19:50:30.903Z"
   },
   {
    "duration": 2182,
    "start_time": "2025-07-10T19:50:32.196Z"
   },
   {
    "duration": 33,
    "start_time": "2025-07-10T19:50:34.380Z"
   },
   {
    "duration": 317,
    "start_time": "2025-07-10T19:50:34.415Z"
   },
   {
    "duration": 191,
    "start_time": "2025-07-10T19:50:34.735Z"
   },
   {
    "duration": 183,
    "start_time": "2025-07-10T19:50:34.928Z"
   },
   {
    "duration": 536,
    "start_time": "2025-07-10T19:50:35.113Z"
   },
   {
    "duration": 3947,
    "start_time": "2025-07-10T19:50:35.652Z"
   },
   {
    "duration": 34,
    "start_time": "2025-07-10T19:50:39.601Z"
   },
   {
    "duration": 155,
    "start_time": "2025-07-10T19:50:39.637Z"
   },
   {
    "duration": 33,
    "start_time": "2025-07-10T19:50:39.794Z"
   },
   {
    "duration": 3288,
    "start_time": "2025-07-10T19:50:39.829Z"
   },
   {
    "duration": 557,
    "start_time": "2025-07-10T19:50:43.118Z"
   },
   {
    "duration": 155,
    "start_time": "2025-07-10T19:50:43.678Z"
   },
   {
    "duration": 499,
    "start_time": "2025-07-10T19:50:43.835Z"
   },
   {
    "duration": 95,
    "start_time": "2025-07-10T19:50:44.335Z"
   },
   {
    "duration": 165,
    "start_time": "2025-07-10T19:50:44.431Z"
   },
   {
    "duration": 143,
    "start_time": "2025-07-10T19:50:44.597Z"
   },
   {
    "duration": 301,
    "start_time": "2025-07-10T19:50:44.741Z"
   },
   {
    "duration": 2,
    "start_time": "2025-07-10T19:50:45.044Z"
   },
   {
    "duration": 95,
    "start_time": "2025-07-10T19:50:45.048Z"
   },
   {
    "duration": 3,
    "start_time": "2025-07-10T20:16:00.531Z"
   },
   {
    "duration": 5,
    "start_time": "2025-07-10T20:16:29.264Z"
   },
   {
    "duration": 442,
    "start_time": "2025-07-10T20:16:51.246Z"
   },
   {
    "duration": 499,
    "start_time": "2025-07-10T20:17:49.545Z"
   },
   {
    "duration": 511,
    "start_time": "2025-07-10T20:18:10.854Z"
   },
   {
    "duration": 640,
    "start_time": "2025-07-10T20:25:51.709Z"
   },
   {
    "duration": 484,
    "start_time": "2025-07-10T20:26:09.047Z"
   },
   {
    "duration": 171,
    "start_time": "2025-07-10T20:29:12.721Z"
   },
   {
    "duration": 70,
    "start_time": "2025-07-11T12:39:58.377Z"
   },
   {
    "duration": 12,
    "start_time": "2025-07-11T12:40:23.723Z"
   },
   {
    "duration": 1523,
    "start_time": "2025-07-11T12:40:30.527Z"
   },
   {
    "duration": 2160,
    "start_time": "2025-07-11T12:40:32.053Z"
   },
   {
    "duration": 47,
    "start_time": "2025-07-11T12:40:34.215Z"
   },
   {
    "duration": 335,
    "start_time": "2025-07-11T12:40:34.264Z"
   },
   {
    "duration": 289,
    "start_time": "2025-07-11T12:40:34.602Z"
   },
   {
    "duration": 296,
    "start_time": "2025-07-11T12:40:34.893Z"
   },
   {
    "duration": 723,
    "start_time": "2025-07-11T12:40:35.191Z"
   },
   {
    "duration": 4581,
    "start_time": "2025-07-11T12:40:35.917Z"
   },
   {
    "duration": 40,
    "start_time": "2025-07-11T12:40:40.500Z"
   },
   {
    "duration": 179,
    "start_time": "2025-07-11T12:40:40.542Z"
   },
   {
    "duration": 40,
    "start_time": "2025-07-11T12:40:40.723Z"
   },
   {
    "duration": 3872,
    "start_time": "2025-07-11T12:40:40.765Z"
   },
   {
    "duration": 643,
    "start_time": "2025-07-11T12:40:44.639Z"
   },
   {
    "duration": 157,
    "start_time": "2025-07-11T12:40:45.285Z"
   },
   {
    "duration": 545,
    "start_time": "2025-07-11T12:40:45.445Z"
   },
   {
    "duration": 606,
    "start_time": "2025-07-11T12:40:45.992Z"
   },
   {
    "duration": 686,
    "start_time": "2025-07-11T12:40:46.599Z"
   },
   {
    "duration": 205,
    "start_time": "2025-07-11T12:40:47.289Z"
   },
   {
    "duration": 138,
    "start_time": "2025-07-11T12:40:47.497Z"
   },
   {
    "duration": 156,
    "start_time": "2025-07-11T12:40:47.638Z"
   },
   {
    "duration": 0,
    "start_time": "2025-07-11T12:40:47.796Z"
   },
   {
    "duration": 0,
    "start_time": "2025-07-11T12:40:47.797Z"
   },
   {
    "duration": 0,
    "start_time": "2025-07-11T12:40:47.799Z"
   },
   {
    "duration": 0,
    "start_time": "2025-07-11T12:40:47.800Z"
   },
   {
    "duration": 110,
    "start_time": "2025-07-11T12:41:23.663Z"
   },
   {
    "duration": 2,
    "start_time": "2025-07-11T12:41:39.837Z"
   },
   {
    "duration": 2276,
    "start_time": "2025-07-11T12:41:40.177Z"
   },
   {
    "duration": 39,
    "start_time": "2025-07-11T12:41:42.456Z"
   },
   {
    "duration": 344,
    "start_time": "2025-07-11T12:41:42.498Z"
   },
   {
    "duration": 221,
    "start_time": "2025-07-11T12:41:43.321Z"
   },
   {
    "duration": 316,
    "start_time": "2025-07-11T12:41:44.662Z"
   },
   {
    "duration": 571,
    "start_time": "2025-07-11T12:41:46.526Z"
   },
   {
    "duration": 4715,
    "start_time": "2025-07-11T12:41:47.100Z"
   },
   {
    "duration": 55,
    "start_time": "2025-07-11T12:41:51.817Z"
   },
   {
    "duration": 125,
    "start_time": "2025-07-11T12:41:51.891Z"
   },
   {
    "duration": 45,
    "start_time": "2025-07-11T12:41:52.017Z"
   },
   {
    "duration": 4494,
    "start_time": "2025-07-11T12:41:52.064Z"
   },
   {
    "duration": 733,
    "start_time": "2025-07-11T12:41:56.560Z"
   },
   {
    "duration": 188,
    "start_time": "2025-07-11T12:41:57.297Z"
   },
   {
    "duration": 536,
    "start_time": "2025-07-11T12:41:57.496Z"
   },
   {
    "duration": 541,
    "start_time": "2025-07-11T12:41:58.034Z"
   },
   {
    "duration": 665,
    "start_time": "2025-07-11T12:41:58.577Z"
   },
   {
    "duration": 209,
    "start_time": "2025-07-11T12:41:59.244Z"
   },
   {
    "duration": 169,
    "start_time": "2025-07-11T12:42:09.350Z"
   },
   {
    "duration": 8,
    "start_time": "2025-07-11T12:42:31.371Z"
   },
   {
    "duration": 38,
    "start_time": "2025-07-11T12:43:47.048Z"
   },
   {
    "duration": 21,
    "start_time": "2025-07-11T12:44:30.788Z"
   },
   {
    "duration": 8,
    "start_time": "2025-07-11T12:46:41.192Z"
   },
   {
    "duration": 6,
    "start_time": "2025-07-11T12:46:48.766Z"
   },
   {
    "duration": 40,
    "start_time": "2025-07-11T12:46:53.777Z"
   },
   {
    "duration": 54,
    "start_time": "2025-07-11T12:46:54.321Z"
   },
   {
    "duration": 38,
    "start_time": "2025-07-11T12:47:30.478Z"
   },
   {
    "duration": 2371,
    "start_time": "2025-07-11T12:48:01.916Z"
   },
   {
    "duration": 38,
    "start_time": "2025-07-11T12:48:06.676Z"
   },
   {
    "duration": 282,
    "start_time": "2025-07-11T12:48:07.363Z"
   },
   {
    "duration": 223,
    "start_time": "2025-07-11T12:48:07.648Z"
   },
   {
    "duration": 197,
    "start_time": "2025-07-11T12:48:07.905Z"
   },
   {
    "duration": 675,
    "start_time": "2025-07-11T12:48:08.518Z"
   },
   {
    "duration": 4631,
    "start_time": "2025-07-11T12:48:09.195Z"
   },
   {
    "duration": 80,
    "start_time": "2025-07-11T12:48:13.829Z"
   },
   {
    "duration": 189,
    "start_time": "2025-07-11T12:48:13.911Z"
   },
   {
    "duration": 40,
    "start_time": "2025-07-11T12:48:14.102Z"
   },
   {
    "duration": 4045,
    "start_time": "2025-07-11T12:48:14.144Z"
   },
   {
    "duration": 567,
    "start_time": "2025-07-11T12:48:18.191Z"
   },
   {
    "duration": 158,
    "start_time": "2025-07-11T12:48:18.760Z"
   },
   {
    "duration": 490,
    "start_time": "2025-07-11T12:48:24.933Z"
   },
   {
    "duration": 512,
    "start_time": "2025-07-11T12:48:25.584Z"
   },
   {
    "duration": 547,
    "start_time": "2025-07-11T12:48:26.453Z"
   },
   {
    "duration": 12,
    "start_time": "2025-07-11T12:48:33.544Z"
   },
   {
    "duration": 40,
    "start_time": "2025-07-11T12:48:36.795Z"
   },
   {
    "duration": 54,
    "start_time": "2025-07-11T12:48:42.450Z"
   },
   {
    "duration": 200,
    "start_time": "2025-07-11T12:49:08.463Z"
   },
   {
    "duration": 131,
    "start_time": "2025-07-11T12:49:53.142Z"
   },
   {
    "duration": 189,
    "start_time": "2025-07-11T12:49:53.795Z"
   },
   {
    "duration": 98,
    "start_time": "2025-07-11T12:50:09.161Z"
   },
   {
    "duration": 134,
    "start_time": "2025-07-11T12:50:13.578Z"
   },
   {
    "duration": 312,
    "start_time": "2025-07-11T12:50:35.352Z"
   },
   {
    "duration": 6,
    "start_time": "2025-07-11T12:56:34.892Z"
   },
   {
    "duration": 41,
    "start_time": "2025-07-11T12:59:12.473Z"
   },
   {
    "duration": 933,
    "start_time": "2025-07-11T13:00:59.111Z"
   },
   {
    "duration": 19,
    "start_time": "2025-07-11T13:02:44.509Z"
   },
   {
    "duration": 238,
    "start_time": "2025-07-11T13:02:58.443Z"
   },
   {
    "duration": 73,
    "start_time": "2025-07-11T13:03:03.849Z"
   },
   {
    "duration": 339,
    "start_time": "2025-07-11T13:03:15.143Z"
   },
   {
    "duration": 120,
    "start_time": "2025-07-11T13:04:59.529Z"
   },
   {
    "duration": 51,
    "start_time": "2025-07-11T13:05:00.598Z"
   },
   {
    "duration": 210,
    "start_time": "2025-07-11T13:05:01.400Z"
   },
   {
    "duration": 26,
    "start_time": "2025-07-11T13:05:25.397Z"
   },
   {
    "duration": 31,
    "start_time": "2025-07-11T13:05:45.348Z"
   },
   {
    "duration": 194,
    "start_time": "2025-07-11T13:06:01.079Z"
   },
   {
    "duration": 128,
    "start_time": "2025-07-11T13:35:08.420Z"
   },
   {
    "duration": 40,
    "start_time": "2025-07-11T13:35:08.550Z"
   },
   {
    "duration": 225,
    "start_time": "2025-07-11T13:35:09.905Z"
   },
   {
    "duration": 1253,
    "start_time": "2025-07-11T13:35:21.157Z"
   },
   {
    "duration": 2203,
    "start_time": "2025-07-11T13:35:22.412Z"
   },
   {
    "duration": 44,
    "start_time": "2025-07-11T13:35:24.617Z"
   },
   {
    "duration": 388,
    "start_time": "2025-07-11T13:35:24.663Z"
   },
   {
    "duration": 282,
    "start_time": "2025-07-11T13:35:25.053Z"
   },
   {
    "duration": 214,
    "start_time": "2025-07-11T13:35:25.338Z"
   },
   {
    "duration": 616,
    "start_time": "2025-07-11T13:35:25.554Z"
   },
   {
    "duration": 4572,
    "start_time": "2025-07-11T13:35:26.172Z"
   },
   {
    "duration": 49,
    "start_time": "2025-07-11T13:35:30.746Z"
   },
   {
    "duration": 172,
    "start_time": "2025-07-11T13:35:30.798Z"
   },
   {
    "duration": 54,
    "start_time": "2025-07-11T13:35:30.972Z"
   },
   {
    "duration": 3909,
    "start_time": "2025-07-11T13:35:31.028Z"
   },
   {
    "duration": 628,
    "start_time": "2025-07-11T13:35:34.939Z"
   },
   {
    "duration": 161,
    "start_time": "2025-07-11T13:35:35.570Z"
   },
   {
    "duration": 686,
    "start_time": "2025-07-11T13:35:35.732Z"
   },
   {
    "duration": 510,
    "start_time": "2025-07-11T13:35:36.420Z"
   },
   {
    "duration": 735,
    "start_time": "2025-07-11T13:35:36.932Z"
   },
   {
    "duration": 230,
    "start_time": "2025-07-11T13:35:37.669Z"
   },
   {
    "duration": 188,
    "start_time": "2025-07-11T13:35:37.902Z"
   },
   {
    "duration": 166,
    "start_time": "2025-07-11T13:35:38.094Z"
   },
   {
    "duration": 137,
    "start_time": "2025-07-11T13:35:38.261Z"
   },
   {
    "duration": 297,
    "start_time": "2025-07-11T13:35:38.400Z"
   },
   {
    "duration": 5,
    "start_time": "2025-07-11T13:35:38.699Z"
   },
   {
    "duration": 44,
    "start_time": "2025-07-11T13:35:38.706Z"
   },
   {
    "duration": 131,
    "start_time": "2025-07-11T13:35:38.753Z"
   },
   {
    "duration": 200,
    "start_time": "2025-07-11T13:35:38.886Z"
   },
   {
    "duration": 227,
    "start_time": "2025-07-11T13:35:39.088Z"
   },
   {
    "duration": 22,
    "start_time": "2025-07-11T13:35:39.317Z"
   },
   {
    "duration": 104,
    "start_time": "2025-07-11T13:42:35.464Z"
   },
   {
    "duration": 3,
    "start_time": "2025-07-11T13:46:01.790Z"
   },
   {
    "duration": 189,
    "start_time": "2025-07-11T13:46:26.559Z"
   },
   {
    "duration": 1327,
    "start_time": "2025-07-11T13:47:18.947Z"
   },
   {
    "duration": 2876,
    "start_time": "2025-07-11T13:47:20.276Z"
   },
   {
    "duration": 41,
    "start_time": "2025-07-11T13:47:23.154Z"
   },
   {
    "duration": 361,
    "start_time": "2025-07-11T13:47:23.196Z"
   },
   {
    "duration": 202,
    "start_time": "2025-07-11T13:47:23.560Z"
   },
   {
    "duration": 272,
    "start_time": "2025-07-11T13:47:23.764Z"
   },
   {
    "duration": 582,
    "start_time": "2025-07-11T13:47:24.039Z"
   },
   {
    "duration": 4475,
    "start_time": "2025-07-11T13:47:24.623Z"
   },
   {
    "duration": 44,
    "start_time": "2025-07-11T13:47:29.101Z"
   },
   {
    "duration": 167,
    "start_time": "2025-07-11T13:47:29.147Z"
   },
   {
    "duration": 40,
    "start_time": "2025-07-11T13:47:29.315Z"
   },
   {
    "duration": 3629,
    "start_time": "2025-07-11T13:47:29.357Z"
   },
   {
    "duration": 584,
    "start_time": "2025-07-11T13:47:32.989Z"
   },
   {
    "duration": 176,
    "start_time": "2025-07-11T13:47:33.576Z"
   },
   {
    "duration": 604,
    "start_time": "2025-07-11T13:47:33.754Z"
   },
   {
    "duration": 610,
    "start_time": "2025-07-11T13:47:34.360Z"
   },
   {
    "duration": 735,
    "start_time": "2025-07-11T13:47:34.971Z"
   },
   {
    "duration": 220,
    "start_time": "2025-07-11T13:47:35.708Z"
   },
   {
    "duration": 232,
    "start_time": "2025-07-11T13:47:35.929Z"
   },
   {
    "duration": 213,
    "start_time": "2025-07-11T13:47:36.163Z"
   },
   {
    "duration": 166,
    "start_time": "2025-07-11T13:47:36.378Z"
   },
   {
    "duration": 354,
    "start_time": "2025-07-11T13:47:36.591Z"
   },
   {
    "duration": 5,
    "start_time": "2025-07-11T13:47:36.947Z"
   },
   {
    "duration": 47,
    "start_time": "2025-07-11T13:47:36.953Z"
   },
   {
    "duration": 131,
    "start_time": "2025-07-11T13:47:37.002Z"
   },
   {
    "duration": 220,
    "start_time": "2025-07-11T13:47:37.135Z"
   },
   {
    "duration": 218,
    "start_time": "2025-07-11T13:47:37.357Z"
   },
   {
    "duration": 47,
    "start_time": "2025-07-11T13:47:37.576Z"
   },
   {
    "duration": 391,
    "start_time": "2025-07-11T13:47:37.625Z"
   },
   {
    "duration": 6,
    "start_time": "2025-07-11T13:48:32.745Z"
   },
   {
    "duration": 172,
    "start_time": "2025-07-11T13:51:22.723Z"
   },
   {
    "duration": 4,
    "start_time": "2025-07-11T13:52:00.339Z"
   },
   {
    "duration": 2044,
    "start_time": "2025-07-11T13:52:02.191Z"
   },
   {
    "duration": 44,
    "start_time": "2025-07-11T13:52:04.238Z"
   },
   {
    "duration": 331,
    "start_time": "2025-07-11T13:52:04.284Z"
   },
   {
    "duration": 251,
    "start_time": "2025-07-11T13:52:04.619Z"
   },
   {
    "duration": 217,
    "start_time": "2025-07-11T13:52:04.873Z"
   },
   {
    "duration": 651,
    "start_time": "2025-07-11T13:52:05.092Z"
   },
   {
    "duration": 4695,
    "start_time": "2025-07-11T13:52:05.745Z"
   },
   {
    "duration": 49,
    "start_time": "2025-07-11T13:52:10.442Z"
   },
   {
    "duration": 184,
    "start_time": "2025-07-11T13:52:10.494Z"
   },
   {
    "duration": 52,
    "start_time": "2025-07-11T13:52:10.679Z"
   },
   {
    "duration": 3830,
    "start_time": "2025-07-11T13:52:10.733Z"
   },
   {
    "duration": 642,
    "start_time": "2025-07-11T13:52:14.565Z"
   },
   {
    "duration": 175,
    "start_time": "2025-07-11T13:52:15.209Z"
   },
   {
    "duration": 527,
    "start_time": "2025-07-11T13:52:15.390Z"
   },
   {
    "duration": 601,
    "start_time": "2025-07-11T13:52:15.919Z"
   },
   {
    "duration": 586,
    "start_time": "2025-07-11T13:52:16.522Z"
   },
   {
    "duration": 225,
    "start_time": "2025-07-11T13:52:17.110Z"
   },
   {
    "duration": 144,
    "start_time": "2025-07-11T13:52:17.337Z"
   },
   {
    "duration": 185,
    "start_time": "2025-07-11T13:52:17.483Z"
   },
   {
    "duration": 101,
    "start_time": "2025-07-11T13:52:17.670Z"
   },
   {
    "duration": 371,
    "start_time": "2025-07-11T13:52:17.772Z"
   },
   {
    "duration": 5,
    "start_time": "2025-07-11T13:52:18.146Z"
   },
   {
    "duration": 43,
    "start_time": "2025-07-11T13:52:18.152Z"
   },
   {
    "duration": 140,
    "start_time": "2025-07-11T13:52:18.197Z"
   },
   {
    "duration": 187,
    "start_time": "2025-07-11T13:52:18.339Z"
   },
   {
    "duration": 224,
    "start_time": "2025-07-11T13:52:18.529Z"
   },
   {
    "duration": 36,
    "start_time": "2025-07-11T13:52:18.755Z"
   },
   {
    "duration": 211,
    "start_time": "2025-07-11T13:52:18.793Z"
   },
   {
    "duration": 6,
    "start_time": "2025-07-11T13:52:19.005Z"
   },
   {
    "duration": 225,
    "start_time": "2025-07-11T13:53:11.012Z"
   },
   {
    "duration": 162,
    "start_time": "2025-07-11T13:53:33.978Z"
   },
   {
    "duration": 1448,
    "start_time": "2025-07-11T13:54:02.096Z"
   },
   {
    "duration": 2841,
    "start_time": "2025-07-11T13:54:03.546Z"
   },
   {
    "duration": 44,
    "start_time": "2025-07-11T13:54:06.389Z"
   },
   {
    "duration": 356,
    "start_time": "2025-07-11T13:54:06.435Z"
   },
   {
    "duration": 222,
    "start_time": "2025-07-11T13:54:06.795Z"
   },
   {
    "duration": 212,
    "start_time": "2025-07-11T13:54:07.019Z"
   },
   {
    "duration": 658,
    "start_time": "2025-07-11T13:54:07.234Z"
   },
   {
    "duration": 4558,
    "start_time": "2025-07-11T13:54:07.894Z"
   },
   {
    "duration": 51,
    "start_time": "2025-07-11T13:54:12.454Z"
   },
   {
    "duration": 180,
    "start_time": "2025-07-11T13:54:12.507Z"
   },
   {
    "duration": 53,
    "start_time": "2025-07-11T13:54:12.688Z"
   },
   {
    "duration": 4201,
    "start_time": "2025-07-11T13:54:12.744Z"
   },
   {
    "duration": 620,
    "start_time": "2025-07-11T13:54:16.947Z"
   },
   {
    "duration": 161,
    "start_time": "2025-07-11T13:54:17.570Z"
   },
   {
    "duration": 547,
    "start_time": "2025-07-11T13:54:17.734Z"
   },
   {
    "duration": 528,
    "start_time": "2025-07-11T13:54:18.283Z"
   },
   {
    "duration": 653,
    "start_time": "2025-07-11T13:54:18.813Z"
   },
   {
    "duration": 200,
    "start_time": "2025-07-11T13:54:19.468Z"
   },
   {
    "duration": 215,
    "start_time": "2025-07-11T13:54:19.670Z"
   },
   {
    "duration": 186,
    "start_time": "2025-07-11T13:54:19.889Z"
   },
   {
    "duration": 105,
    "start_time": "2025-07-11T13:54:20.076Z"
   },
   {
    "duration": 307,
    "start_time": "2025-07-11T13:54:20.191Z"
   },
   {
    "duration": 12,
    "start_time": "2025-07-11T13:54:20.500Z"
   },
   {
    "duration": 38,
    "start_time": "2025-07-11T13:54:20.515Z"
   },
   {
    "duration": 121,
    "start_time": "2025-07-11T13:54:20.555Z"
   },
   {
    "duration": 232,
    "start_time": "2025-07-11T13:54:20.678Z"
   },
   {
    "duration": 204,
    "start_time": "2025-07-11T13:54:20.912Z"
   },
   {
    "duration": 37,
    "start_time": "2025-07-11T13:54:21.118Z"
   },
   {
    "duration": 157,
    "start_time": "2025-07-11T13:54:21.158Z"
   },
   {
    "duration": 0,
    "start_time": "2025-07-11T13:54:21.319Z"
   },
   {
    "duration": 242,
    "start_time": "2025-07-11T13:56:34.824Z"
   },
   {
    "duration": 7,
    "start_time": "2025-07-11T13:58:26.892Z"
   },
   {
    "duration": 7,
    "start_time": "2025-07-11T13:58:37.690Z"
   },
   {
    "duration": 8,
    "start_time": "2025-07-11T13:58:47.357Z"
   },
   {
    "duration": 10,
    "start_time": "2025-07-11T14:00:04.443Z"
   },
   {
    "duration": 6,
    "start_time": "2025-07-11T14:00:17.457Z"
   },
   {
    "duration": 7,
    "start_time": "2025-07-11T14:00:22.138Z"
   },
   {
    "duration": 8,
    "start_time": "2025-07-11T14:00:39.517Z"
   },
   {
    "duration": 10,
    "start_time": "2025-07-11T14:00:42.999Z"
   },
   {
    "duration": 204,
    "start_time": "2025-07-11T14:00:59.513Z"
   },
   {
    "duration": 6,
    "start_time": "2025-07-11T14:12:29.314Z"
   },
   {
    "duration": 8,
    "start_time": "2025-07-11T14:14:14.920Z"
   },
   {
    "duration": 1003,
    "start_time": "2025-07-11T14:14:50.152Z"
   },
   {
    "duration": 255,
    "start_time": "2025-07-11T14:26:26.138Z"
   },
   {
    "duration": 224,
    "start_time": "2025-07-11T14:30:09.325Z"
   },
   {
    "duration": 305,
    "start_time": "2025-07-11T14:39:47.810Z"
   },
   {
    "duration": 1197,
    "start_time": "2025-07-11T15:05:21.733Z"
   },
   {
    "duration": 1265,
    "start_time": "2025-07-11T15:06:14.390Z"
   },
   {
    "duration": 809,
    "start_time": "2025-07-11T15:11:08.643Z"
   },
   {
    "duration": 1438,
    "start_time": "2025-07-11T15:13:27.717Z"
   },
   {
    "duration": 787,
    "start_time": "2025-07-11T15:15:08.193Z"
   },
   {
    "duration": 906,
    "start_time": "2025-07-11T15:15:24.900Z"
   },
   {
    "duration": 933,
    "start_time": "2025-07-11T15:15:35.030Z"
   },
   {
    "duration": 795,
    "start_time": "2025-07-11T15:17:34.229Z"
   },
   {
    "duration": 772,
    "start_time": "2025-07-11T15:18:02.227Z"
   },
   {
    "duration": 775,
    "start_time": "2025-07-11T15:18:27.982Z"
   },
   {
    "duration": 62,
    "start_time": "2025-07-11T16:03:55.032Z"
   },
   {
    "duration": 255,
    "start_time": "2025-07-11T16:04:45.940Z"
   },
   {
    "duration": 277,
    "start_time": "2025-07-11T16:05:11.715Z"
   },
   {
    "duration": 59,
    "start_time": "2025-07-11T16:05:25.474Z"
   },
   {
    "duration": 64,
    "start_time": "2025-07-11T16:05:36.475Z"
   },
   {
    "duration": 208,
    "start_time": "2025-07-11T16:05:56.269Z"
   },
   {
    "duration": 65,
    "start_time": "2025-07-11T16:06:27.824Z"
   },
   {
    "duration": 191,
    "start_time": "2025-07-11T16:08:44.466Z"
   },
   {
    "duration": 205,
    "start_time": "2025-07-11T16:09:12.138Z"
   },
   {
    "duration": 233,
    "start_time": "2025-07-11T16:09:24.920Z"
   },
   {
    "duration": 53,
    "start_time": "2025-07-11T17:43:06.822Z"
   },
   {
    "duration": 1444,
    "start_time": "2025-07-11T17:43:23.423Z"
   },
   {
    "duration": 1709,
    "start_time": "2025-07-11T17:43:24.870Z"
   },
   {
    "duration": 36,
    "start_time": "2025-07-11T17:43:26.581Z"
   },
   {
    "duration": 315,
    "start_time": "2025-07-11T17:43:26.619Z"
   },
   {
    "duration": 192,
    "start_time": "2025-07-11T17:43:26.936Z"
   },
   {
    "duration": 207,
    "start_time": "2025-07-11T17:43:27.129Z"
   },
   {
    "duration": 545,
    "start_time": "2025-07-11T17:43:27.339Z"
   },
   {
    "duration": 4085,
    "start_time": "2025-07-11T17:43:27.886Z"
   },
   {
    "duration": 44,
    "start_time": "2025-07-11T17:43:31.973Z"
   },
   {
    "duration": 173,
    "start_time": "2025-07-11T17:43:32.019Z"
   },
   {
    "duration": 38,
    "start_time": "2025-07-11T17:43:32.194Z"
   },
   {
    "duration": 3513,
    "start_time": "2025-07-11T17:43:32.233Z"
   },
   {
    "duration": 592,
    "start_time": "2025-07-11T17:43:35.748Z"
   },
   {
    "duration": 159,
    "start_time": "2025-07-11T17:43:36.344Z"
   },
   {
    "duration": 530,
    "start_time": "2025-07-11T17:43:36.505Z"
   },
   {
    "duration": 503,
    "start_time": "2025-07-11T17:43:37.036Z"
   },
   {
    "duration": 629,
    "start_time": "2025-07-11T17:43:37.541Z"
   },
   {
    "duration": 187,
    "start_time": "2025-07-11T17:43:38.172Z"
   },
   {
    "duration": 164,
    "start_time": "2025-07-11T17:43:38.361Z"
   },
   {
    "duration": 177,
    "start_time": "2025-07-11T17:43:38.526Z"
   },
   {
    "duration": 182,
    "start_time": "2025-07-11T17:43:38.704Z"
   },
   {
    "duration": 283,
    "start_time": "2025-07-11T17:43:38.888Z"
   },
   {
    "duration": 5,
    "start_time": "2025-07-11T17:43:39.173Z"
   },
   {
    "duration": 51,
    "start_time": "2025-07-11T17:43:39.179Z"
   },
   {
    "duration": 102,
    "start_time": "2025-07-11T17:43:39.231Z"
   },
   {
    "duration": 197,
    "start_time": "2025-07-11T17:43:39.335Z"
   },
   {
    "duration": 189,
    "start_time": "2025-07-11T17:43:39.534Z"
   },
   {
    "duration": 22,
    "start_time": "2025-07-11T17:43:39.725Z"
   },
   {
    "duration": 7,
    "start_time": "2025-07-11T17:43:39.749Z"
   },
   {
    "duration": 11,
    "start_time": "2025-07-11T17:43:39.757Z"
   },
   {
    "duration": 156,
    "start_time": "2025-07-11T17:43:39.798Z"
   },
   {
    "duration": 6,
    "start_time": "2025-07-11T17:43:39.956Z"
   },
   {
    "duration": 959,
    "start_time": "2025-07-11T17:43:39.964Z"
   },
   {
    "duration": 228,
    "start_time": "2025-07-11T17:43:40.925Z"
   },
   {
    "duration": 1288,
    "start_time": "2025-07-11T17:43:41.155Z"
   },
   {
    "duration": 760,
    "start_time": "2025-07-11T17:43:42.445Z"
   },
   {
    "duration": 58,
    "start_time": "2025-07-11T17:43:43.207Z"
   },
   {
    "duration": 231,
    "start_time": "2025-07-11T17:43:43.267Z"
   },
   {
    "duration": 61,
    "start_time": "2025-07-11T17:43:43.500Z"
   },
   {
    "duration": 210,
    "start_time": "2025-07-11T17:43:43.562Z"
   },
   {
    "duration": 259,
    "start_time": "2025-07-11T17:43:43.776Z"
   },
   {
    "duration": 122,
    "start_time": "2025-07-11T17:43:53.814Z"
   },
   {
    "duration": 142,
    "start_time": "2025-07-11T17:44:24.644Z"
   },
   {
    "duration": 69,
    "start_time": "2025-07-11T17:48:50.080Z"
   },
   {
    "duration": 1230,
    "start_time": "2025-07-11T17:50:57.414Z"
   },
   {
    "duration": 1888,
    "start_time": "2025-07-11T17:50:58.647Z"
   },
   {
    "duration": 34,
    "start_time": "2025-07-11T17:51:00.536Z"
   },
   {
    "duration": 330,
    "start_time": "2025-07-11T17:51:00.571Z"
   },
   {
    "duration": 1229,
    "start_time": "2025-07-11T17:51:02.894Z"
   },
   {
    "duration": 1903,
    "start_time": "2025-07-11T17:51:04.125Z"
   },
   {
    "duration": 33,
    "start_time": "2025-07-11T17:51:06.030Z"
   },
   {
    "duration": 328,
    "start_time": "2025-07-11T17:51:06.064Z"
   },
   {
    "duration": 184,
    "start_time": "2025-07-11T17:51:06.394Z"
   },
   {
    "duration": 185,
    "start_time": "2025-07-11T17:51:06.580Z"
   },
   {
    "duration": 567,
    "start_time": "2025-07-11T17:51:06.767Z"
   },
   {
    "duration": 4056,
    "start_time": "2025-07-11T17:51:07.336Z"
   },
   {
    "duration": 37,
    "start_time": "2025-07-11T17:51:11.399Z"
   },
   {
    "duration": 163,
    "start_time": "2025-07-11T17:51:11.437Z"
   },
   {
    "duration": 40,
    "start_time": "2025-07-11T17:51:11.602Z"
   },
   {
    "duration": 3469,
    "start_time": "2025-07-11T17:51:11.644Z"
   },
   {
    "duration": 540,
    "start_time": "2025-07-11T17:51:15.115Z"
   },
   {
    "duration": 165,
    "start_time": "2025-07-11T17:51:15.660Z"
   },
   {
    "duration": 554,
    "start_time": "2025-07-11T17:51:15.826Z"
   },
   {
    "duration": 506,
    "start_time": "2025-07-11T17:51:16.382Z"
   },
   {
    "duration": 644,
    "start_time": "2025-07-11T17:51:16.890Z"
   },
   {
    "duration": 183,
    "start_time": "2025-07-11T17:51:17.536Z"
   },
   {
    "duration": 170,
    "start_time": "2025-07-11T17:51:17.721Z"
   },
   {
    "duration": 171,
    "start_time": "2025-07-11T17:51:17.893Z"
   },
   {
    "duration": 102,
    "start_time": "2025-07-11T17:51:18.066Z"
   },
   {
    "duration": 297,
    "start_time": "2025-07-11T17:51:18.170Z"
   },
   {
    "duration": 4,
    "start_time": "2025-07-11T17:51:18.468Z"
   },
   {
    "duration": 41,
    "start_time": "2025-07-11T17:51:18.474Z"
   },
   {
    "duration": 114,
    "start_time": "2025-07-11T17:51:18.517Z"
   },
   {
    "duration": 213,
    "start_time": "2025-07-11T17:51:18.633Z"
   },
   {
    "duration": 183,
    "start_time": "2025-07-11T17:51:18.848Z"
   },
   {
    "duration": 22,
    "start_time": "2025-07-11T17:51:19.033Z"
   },
   {
    "duration": 20,
    "start_time": "2025-07-11T17:51:19.057Z"
   },
   {
    "duration": 21,
    "start_time": "2025-07-11T17:51:19.079Z"
   },
   {
    "duration": 197,
    "start_time": "2025-07-11T17:51:19.102Z"
   },
   {
    "duration": 5,
    "start_time": "2025-07-11T17:51:19.300Z"
   },
   {
    "duration": 917,
    "start_time": "2025-07-11T17:51:19.307Z"
   },
   {
    "duration": 290,
    "start_time": "2025-07-11T17:51:20.226Z"
   },
   {
    "duration": 1281,
    "start_time": "2025-07-11T17:51:20.518Z"
   },
   {
    "duration": 730,
    "start_time": "2025-07-11T17:51:21.801Z"
   },
   {
    "duration": 70,
    "start_time": "2025-07-11T17:51:22.533Z"
   },
   {
    "duration": 220,
    "start_time": "2025-07-11T17:51:22.604Z"
   },
   {
    "duration": 61,
    "start_time": "2025-07-11T17:51:22.826Z"
   },
   {
    "duration": 195,
    "start_time": "2025-07-11T17:51:22.899Z"
   },
   {
    "duration": 269,
    "start_time": "2025-07-11T17:51:23.098Z"
   },
   {
    "duration": 67,
    "start_time": "2025-07-11T17:51:23.369Z"
   },
   {
    "duration": 63,
    "start_time": "2025-07-11T17:52:35.814Z"
   },
   {
    "duration": 70,
    "start_time": "2025-07-11T17:53:51.435Z"
   },
   {
    "duration": 36983,
    "start_time": "2025-07-11T17:54:29.308Z"
   },
   {
    "duration": 304,
    "start_time": "2025-07-11T17:57:49.870Z"
   },
   {
    "duration": 224,
    "start_time": "2025-07-11T17:58:16.843Z"
   },
   {
    "duration": 318,
    "start_time": "2025-07-11T17:59:07.126Z"
   },
   {
    "duration": 7,
    "start_time": "2025-07-11T18:01:43.596Z"
   },
   {
    "duration": 490,
    "start_time": "2025-07-11T18:02:55.058Z"
   },
   {
    "duration": 3,
    "start_time": "2025-07-11T18:03:56.966Z"
   },
   {
    "duration": 491,
    "start_time": "2025-07-11T18:05:00.027Z"
   },
   {
    "duration": 3,
    "start_time": "2025-07-11T18:06:29.894Z"
   },
   {
    "duration": 16,
    "start_time": "2025-07-11T18:07:11.378Z"
   },
   {
    "duration": 16,
    "start_time": "2025-07-11T18:12:30.537Z"
   },
   {
    "duration": 11220,
    "start_time": "2025-07-11T18:16:59.994Z"
   },
   {
    "duration": 233,
    "start_time": "2025-07-11T18:17:40.256Z"
   },
   {
    "duration": 431,
    "start_time": "2025-07-11T18:18:30.071Z"
   },
   {
    "duration": 20,
    "start_time": "2025-07-11T18:22:04.761Z"
   },
   {
    "duration": 5,
    "start_time": "2025-07-11T18:23:09.491Z"
   },
   {
    "duration": 14,
    "start_time": "2025-07-11T18:23:36.204Z"
   },
   {
    "duration": 21,
    "start_time": "2025-07-11T18:24:57.359Z"
   },
   {
    "duration": 16,
    "start_time": "2025-07-11T18:25:09.646Z"
   },
   {
    "duration": 17,
    "start_time": "2025-07-11T18:25:25.478Z"
   },
   {
    "duration": 127,
    "start_time": "2025-07-11T18:29:12.745Z"
   },
   {
    "duration": 5,
    "start_time": "2025-07-11T18:32:12.660Z"
   },
   {
    "duration": 5,
    "start_time": "2025-07-11T18:32:17.645Z"
   },
   {
    "duration": 120,
    "start_time": "2025-07-11T18:32:46.627Z"
   },
   {
    "duration": 16,
    "start_time": "2025-07-11T18:33:47.993Z"
   },
   {
    "duration": 16,
    "start_time": "2025-07-11T18:35:01.327Z"
   },
   {
    "duration": 17,
    "start_time": "2025-07-11T18:35:42.376Z"
   },
   {
    "duration": 14,
    "start_time": "2025-07-11T18:36:32.410Z"
   },
   {
    "duration": 16,
    "start_time": "2025-07-11T18:37:36.026Z"
   },
   {
    "duration": 17,
    "start_time": "2025-07-11T18:37:54.643Z"
   },
   {
    "duration": 15,
    "start_time": "2025-07-11T18:38:19.180Z"
   },
   {
    "duration": 94,
    "start_time": "2025-07-11T18:39:50.754Z"
   },
   {
    "duration": 7,
    "start_time": "2025-07-11T18:42:19.069Z"
   },
   {
    "duration": 8,
    "start_time": "2025-07-11T18:43:06.510Z"
   },
   {
    "duration": 7,
    "start_time": "2025-07-11T18:44:34.594Z"
   },
   {
    "duration": 8,
    "start_time": "2025-07-11T18:44:59.635Z"
   },
   {
    "duration": 6,
    "start_time": "2025-07-11T18:45:33.477Z"
   },
   {
    "duration": 11143,
    "start_time": "2025-07-11T18:45:46.452Z"
   },
   {
    "duration": 249,
    "start_time": "2025-07-11T18:45:57.599Z"
   },
   {
    "duration": 6,
    "start_time": "2025-07-11T18:45:57.850Z"
   },
   {
    "duration": 9,
    "start_time": "2025-07-11T18:45:58.642Z"
   },
   {
    "duration": 13,
    "start_time": "2025-07-11T18:46:51.177Z"
   },
   {
    "duration": 119,
    "start_time": "2025-07-11T18:47:23.996Z"
   },
   {
    "duration": 9,
    "start_time": "2025-07-11T18:48:32.897Z"
   },
   {
    "duration": 13,
    "start_time": "2025-07-11T18:49:02.926Z"
   },
   {
    "duration": 1213,
    "start_time": "2025-07-11T19:19:20.714Z"
   },
   {
    "duration": 2153,
    "start_time": "2025-07-11T19:19:21.929Z"
   },
   {
    "duration": 32,
    "start_time": "2025-07-11T19:19:24.084Z"
   },
   {
    "duration": 320,
    "start_time": "2025-07-11T19:19:24.118Z"
   },
   {
    "duration": 197,
    "start_time": "2025-07-11T19:19:24.440Z"
   },
   {
    "duration": 234,
    "start_time": "2025-07-11T19:19:24.639Z"
   },
   {
    "duration": 565,
    "start_time": "2025-07-11T19:19:24.875Z"
   },
   {
    "duration": 4038,
    "start_time": "2025-07-11T19:19:25.442Z"
   },
   {
    "duration": 43,
    "start_time": "2025-07-11T19:19:29.481Z"
   },
   {
    "duration": 162,
    "start_time": "2025-07-11T19:19:29.526Z"
   },
   {
    "duration": 41,
    "start_time": "2025-07-11T19:19:29.690Z"
   },
   {
    "duration": 3392,
    "start_time": "2025-07-11T19:19:29.732Z"
   },
   {
    "duration": 531,
    "start_time": "2025-07-11T19:19:33.126Z"
   },
   {
    "duration": 172,
    "start_time": "2025-07-11T19:19:33.660Z"
   },
   {
    "duration": 533,
    "start_time": "2025-07-11T19:19:33.834Z"
   },
   {
    "duration": 545,
    "start_time": "2025-07-11T19:19:34.369Z"
   },
   {
    "duration": 656,
    "start_time": "2025-07-11T19:19:34.916Z"
   },
   {
    "duration": 186,
    "start_time": "2025-07-11T19:19:35.574Z"
   },
   {
    "duration": 182,
    "start_time": "2025-07-11T19:19:35.762Z"
   },
   {
    "duration": 197,
    "start_time": "2025-07-11T19:19:35.946Z"
   },
   {
    "duration": 117,
    "start_time": "2025-07-11T19:19:36.145Z"
   },
   {
    "duration": 305,
    "start_time": "2025-07-11T19:19:36.263Z"
   },
   {
    "duration": 5,
    "start_time": "2025-07-11T19:19:36.571Z"
   },
   {
    "duration": 29,
    "start_time": "2025-07-11T19:19:36.599Z"
   },
   {
    "duration": 118,
    "start_time": "2025-07-11T19:19:36.630Z"
   },
   {
    "duration": 218,
    "start_time": "2025-07-11T19:19:36.750Z"
   },
   {
    "duration": 197,
    "start_time": "2025-07-11T19:19:36.970Z"
   },
   {
    "duration": 34,
    "start_time": "2025-07-11T19:19:37.169Z"
   },
   {
    "duration": 61,
    "start_time": "2025-07-11T19:19:37.205Z"
   },
   {
    "duration": 15,
    "start_time": "2025-07-11T19:19:37.268Z"
   },
   {
    "duration": 170,
    "start_time": "2025-07-11T19:19:37.285Z"
   },
   {
    "duration": 7,
    "start_time": "2025-07-11T19:19:37.457Z"
   },
   {
    "duration": 1003,
    "start_time": "2025-07-11T19:19:37.466Z"
   },
   {
    "duration": 216,
    "start_time": "2025-07-11T19:19:38.470Z"
   },
   {
    "duration": 1255,
    "start_time": "2025-07-11T19:19:38.687Z"
   },
   {
    "duration": 757,
    "start_time": "2025-07-11T19:19:39.944Z"
   },
   {
    "duration": 62,
    "start_time": "2025-07-11T19:19:40.702Z"
   },
   {
    "duration": 233,
    "start_time": "2025-07-11T19:19:40.766Z"
   },
   {
    "duration": 65,
    "start_time": "2025-07-11T19:19:41.000Z"
   },
   {
    "duration": 214,
    "start_time": "2025-07-11T19:19:41.067Z"
   },
   {
    "duration": 272,
    "start_time": "2025-07-11T19:19:41.286Z"
   },
   {
    "duration": 64,
    "start_time": "2025-07-11T19:19:41.560Z"
   },
   {
    "duration": 312,
    "start_time": "2025-07-11T19:19:41.626Z"
   },
   {
    "duration": 462,
    "start_time": "2025-07-11T19:19:41.940Z"
   },
   {
    "duration": 6,
    "start_time": "2025-07-11T19:19:42.403Z"
   },
   {
    "duration": 321,
    "start_time": "2025-07-11T19:19:42.410Z"
   },
   {
    "duration": 16,
    "start_time": "2025-07-11T19:19:42.733Z"
   },
   {
    "duration": 10571,
    "start_time": "2025-07-11T19:19:42.751Z"
   },
   {
    "duration": 233,
    "start_time": "2025-07-11T19:19:53.323Z"
   },
   {
    "duration": 6,
    "start_time": "2025-07-11T19:19:53.557Z"
   },
   {
    "duration": 136,
    "start_time": "2025-07-11T19:19:53.564Z"
   },
   {
    "duration": 13,
    "start_time": "2025-07-11T19:19:53.701Z"
   },
   {
    "duration": 1183,
    "start_time": "2025-07-11T19:25:08.450Z"
   },
   {
    "duration": 1937,
    "start_time": "2025-07-11T19:25:09.635Z"
   },
   {
    "duration": 34,
    "start_time": "2025-07-11T19:25:11.574Z"
   },
   {
    "duration": 325,
    "start_time": "2025-07-11T19:25:11.610Z"
   },
   {
    "duration": 199,
    "start_time": "2025-07-11T19:25:11.937Z"
   },
   {
    "duration": 188,
    "start_time": "2025-07-11T19:25:12.137Z"
   },
   {
    "duration": 561,
    "start_time": "2025-07-11T19:25:12.327Z"
   },
   {
    "duration": 4181,
    "start_time": "2025-07-11T19:25:12.890Z"
   },
   {
    "duration": 45,
    "start_time": "2025-07-11T19:25:17.072Z"
   },
   {
    "duration": 164,
    "start_time": "2025-07-11T19:25:17.119Z"
   },
   {
    "duration": 44,
    "start_time": "2025-07-11T19:25:17.285Z"
   },
   {
    "duration": 3433,
    "start_time": "2025-07-11T19:25:17.331Z"
   },
   {
    "duration": 568,
    "start_time": "2025-07-11T19:25:20.766Z"
   },
   {
    "duration": 165,
    "start_time": "2025-07-11T19:25:21.337Z"
   },
   {
    "duration": 539,
    "start_time": "2025-07-11T19:25:21.504Z"
   },
   {
    "duration": 517,
    "start_time": "2025-07-11T19:25:22.045Z"
   },
   {
    "duration": 662,
    "start_time": "2025-07-11T19:25:22.564Z"
   },
   {
    "duration": 188,
    "start_time": "2025-07-11T19:25:23.228Z"
   },
   {
    "duration": 163,
    "start_time": "2025-07-11T19:25:23.417Z"
   },
   {
    "duration": 175,
    "start_time": "2025-07-11T19:25:23.582Z"
   },
   {
    "duration": 115,
    "start_time": "2025-07-11T19:25:23.758Z"
   },
   {
    "duration": 302,
    "start_time": "2025-07-11T19:25:23.874Z"
   },
   {
    "duration": 5,
    "start_time": "2025-07-11T19:25:24.177Z"
   },
   {
    "duration": 42,
    "start_time": "2025-07-11T19:25:24.183Z"
   },
   {
    "duration": 118,
    "start_time": "2025-07-11T19:25:24.227Z"
   },
   {
    "duration": 212,
    "start_time": "2025-07-11T19:25:24.347Z"
   },
   {
    "duration": 237,
    "start_time": "2025-07-11T19:25:24.561Z"
   },
   {
    "duration": 25,
    "start_time": "2025-07-11T19:25:24.801Z"
   },
   {
    "duration": 26,
    "start_time": "2025-07-11T19:25:24.828Z"
   },
   {
    "duration": 10,
    "start_time": "2025-07-11T19:25:24.856Z"
   },
   {
    "duration": 183,
    "start_time": "2025-07-11T19:25:24.868Z"
   },
   {
    "duration": 5,
    "start_time": "2025-07-11T19:25:25.052Z"
   },
   {
    "duration": 935,
    "start_time": "2025-07-11T19:25:25.059Z"
   },
   {
    "duration": 223,
    "start_time": "2025-07-11T19:25:25.995Z"
   },
   {
    "duration": 1232,
    "start_time": "2025-07-11T19:25:26.219Z"
   },
   {
    "duration": 757,
    "start_time": "2025-07-11T19:25:27.453Z"
   },
   {
    "duration": 57,
    "start_time": "2025-07-11T19:25:28.212Z"
   },
   {
    "duration": 216,
    "start_time": "2025-07-11T19:25:28.271Z"
   },
   {
    "duration": 66,
    "start_time": "2025-07-11T19:25:28.489Z"
   },
   {
    "duration": 202,
    "start_time": "2025-07-11T19:25:28.557Z"
   },
   {
    "duration": 279,
    "start_time": "2025-07-11T19:25:28.763Z"
   },
   {
    "duration": 71,
    "start_time": "2025-07-11T19:25:29.044Z"
   },
   {
    "duration": 307,
    "start_time": "2025-07-11T19:25:29.117Z"
   },
   {
    "duration": 475,
    "start_time": "2025-07-11T19:25:29.426Z"
   },
   {
    "duration": 5,
    "start_time": "2025-07-11T19:25:29.903Z"
   },
   {
    "duration": 297,
    "start_time": "2025-07-11T19:25:29.910Z"
   },
   {
    "duration": 15,
    "start_time": "2025-07-11T19:25:30.209Z"
   },
   {
    "duration": 11060,
    "start_time": "2025-07-11T19:25:30.226Z"
   },
   {
    "duration": 240,
    "start_time": "2025-07-11T19:25:41.287Z"
   },
   {
    "duration": 6,
    "start_time": "2025-07-11T19:25:41.529Z"
   },
   {
    "duration": 136,
    "start_time": "2025-07-11T19:25:41.537Z"
   },
   {
    "duration": 24,
    "start_time": "2025-07-11T19:25:41.675Z"
   },
   {
    "duration": 710,
    "start_time": "2025-07-11T23:05:40.980Z"
   },
   {
    "duration": 0,
    "start_time": "2025-07-11T23:05:41.694Z"
   },
   {
    "duration": 0,
    "start_time": "2025-07-11T23:05:41.695Z"
   },
   {
    "duration": 0,
    "start_time": "2025-07-11T23:05:41.696Z"
   },
   {
    "duration": 0,
    "start_time": "2025-07-11T23:05:41.698Z"
   },
   {
    "duration": 0,
    "start_time": "2025-07-11T23:05:41.699Z"
   },
   {
    "duration": 0,
    "start_time": "2025-07-11T23:05:41.700Z"
   },
   {
    "duration": 0,
    "start_time": "2025-07-11T23:05:41.701Z"
   },
   {
    "duration": 0,
    "start_time": "2025-07-11T23:05:41.702Z"
   },
   {
    "duration": 0,
    "start_time": "2025-07-11T23:05:41.703Z"
   },
   {
    "duration": 0,
    "start_time": "2025-07-11T23:05:41.704Z"
   },
   {
    "duration": 0,
    "start_time": "2025-07-11T23:05:41.705Z"
   },
   {
    "duration": 0,
    "start_time": "2025-07-11T23:05:41.706Z"
   },
   {
    "duration": 0,
    "start_time": "2025-07-11T23:05:41.709Z"
   },
   {
    "duration": 0,
    "start_time": "2025-07-11T23:05:41.711Z"
   },
   {
    "duration": 0,
    "start_time": "2025-07-11T23:05:41.713Z"
   },
   {
    "duration": 0,
    "start_time": "2025-07-11T23:05:41.714Z"
   },
   {
    "duration": 0,
    "start_time": "2025-07-11T23:05:41.716Z"
   },
   {
    "duration": 0,
    "start_time": "2025-07-11T23:05:41.717Z"
   },
   {
    "duration": 0,
    "start_time": "2025-07-11T23:05:41.719Z"
   },
   {
    "duration": 0,
    "start_time": "2025-07-11T23:05:41.720Z"
   },
   {
    "duration": 0,
    "start_time": "2025-07-11T23:05:41.722Z"
   },
   {
    "duration": 0,
    "start_time": "2025-07-11T23:05:41.723Z"
   },
   {
    "duration": 0,
    "start_time": "2025-07-11T23:05:41.724Z"
   },
   {
    "duration": 0,
    "start_time": "2025-07-11T23:05:41.725Z"
   },
   {
    "duration": 0,
    "start_time": "2025-07-11T23:05:41.726Z"
   },
   {
    "duration": 0,
    "start_time": "2025-07-11T23:05:41.727Z"
   },
   {
    "duration": 0,
    "start_time": "2025-07-11T23:05:41.728Z"
   },
   {
    "duration": 0,
    "start_time": "2025-07-11T23:05:41.729Z"
   },
   {
    "duration": 0,
    "start_time": "2025-07-11T23:05:41.730Z"
   },
   {
    "duration": 0,
    "start_time": "2025-07-11T23:05:41.731Z"
   },
   {
    "duration": 0,
    "start_time": "2025-07-11T23:05:41.732Z"
   },
   {
    "duration": 0,
    "start_time": "2025-07-11T23:05:41.790Z"
   },
   {
    "duration": 0,
    "start_time": "2025-07-11T23:05:41.792Z"
   },
   {
    "duration": 0,
    "start_time": "2025-07-11T23:05:41.793Z"
   },
   {
    "duration": 0,
    "start_time": "2025-07-11T23:05:41.794Z"
   },
   {
    "duration": 0,
    "start_time": "2025-07-11T23:05:41.795Z"
   },
   {
    "duration": 0,
    "start_time": "2025-07-11T23:05:41.797Z"
   },
   {
    "duration": 0,
    "start_time": "2025-07-11T23:05:41.799Z"
   },
   {
    "duration": 0,
    "start_time": "2025-07-11T23:05:41.800Z"
   },
   {
    "duration": 0,
    "start_time": "2025-07-11T23:05:41.801Z"
   },
   {
    "duration": 0,
    "start_time": "2025-07-11T23:05:41.803Z"
   },
   {
    "duration": 0,
    "start_time": "2025-07-11T23:05:41.804Z"
   },
   {
    "duration": 0,
    "start_time": "2025-07-11T23:05:41.805Z"
   },
   {
    "duration": 0,
    "start_time": "2025-07-11T23:05:41.806Z"
   },
   {
    "duration": 0,
    "start_time": "2025-07-11T23:05:41.808Z"
   },
   {
    "duration": 0,
    "start_time": "2025-07-11T23:05:41.809Z"
   },
   {
    "duration": 0,
    "start_time": "2025-07-11T23:05:41.810Z"
   },
   {
    "duration": 0,
    "start_time": "2025-07-11T23:05:41.813Z"
   },
   {
    "duration": 0,
    "start_time": "2025-07-11T23:05:41.814Z"
   },
   {
    "duration": 0,
    "start_time": "2025-07-11T23:05:41.816Z"
   },
   {
    "duration": 0,
    "start_time": "2025-07-11T23:05:41.818Z"
   },
   {
    "duration": 96,
    "start_time": "2025-07-11T23:10:30.609Z"
   },
   {
    "duration": 54,
    "start_time": "2025-07-12T10:17:23.590Z"
   },
   {
    "duration": 1461,
    "start_time": "2025-07-12T10:17:30.075Z"
   },
   {
    "duration": 1913,
    "start_time": "2025-07-12T10:17:31.538Z"
   },
   {
    "duration": 38,
    "start_time": "2025-07-12T10:17:33.453Z"
   },
   {
    "duration": 441,
    "start_time": "2025-07-12T10:17:33.492Z"
   },
   {
    "duration": 190,
    "start_time": "2025-07-12T10:17:33.935Z"
   },
   {
    "duration": 183,
    "start_time": "2025-07-12T10:17:34.127Z"
   },
   {
    "duration": 590,
    "start_time": "2025-07-12T10:17:34.311Z"
   },
   {
    "duration": 4042,
    "start_time": "2025-07-12T10:17:34.903Z"
   },
   {
    "duration": 36,
    "start_time": "2025-07-12T10:17:38.947Z"
   },
   {
    "duration": 157,
    "start_time": "2025-07-12T10:17:38.999Z"
   },
   {
    "duration": 50,
    "start_time": "2025-07-12T10:17:39.157Z"
   },
   {
    "duration": 3345,
    "start_time": "2025-07-12T10:17:39.208Z"
   },
   {
    "duration": 576,
    "start_time": "2025-07-12T10:17:42.554Z"
   },
   {
    "duration": 160,
    "start_time": "2025-07-12T10:17:43.133Z"
   },
   {
    "duration": 532,
    "start_time": "2025-07-12T10:17:43.295Z"
   },
   {
    "duration": 506,
    "start_time": "2025-07-12T10:17:43.829Z"
   },
   {
    "duration": 670,
    "start_time": "2025-07-12T10:17:44.336Z"
   },
   {
    "duration": 186,
    "start_time": "2025-07-12T10:17:45.008Z"
   },
   {
    "duration": 165,
    "start_time": "2025-07-12T10:17:45.195Z"
   },
   {
    "duration": 176,
    "start_time": "2025-07-12T10:17:45.362Z"
   },
   {
    "duration": 109,
    "start_time": "2025-07-12T10:17:45.540Z"
   },
   {
    "duration": 310,
    "start_time": "2025-07-12T10:17:45.651Z"
   },
   {
    "duration": 5,
    "start_time": "2025-07-12T10:17:45.963Z"
   },
   {
    "duration": 60,
    "start_time": "2025-07-12T10:17:45.971Z"
   },
   {
    "duration": 105,
    "start_time": "2025-07-12T10:17:46.033Z"
   },
   {
    "duration": 200,
    "start_time": "2025-07-12T10:17:46.140Z"
   },
   {
    "duration": 188,
    "start_time": "2025-07-12T10:17:46.341Z"
   },
   {
    "duration": 21,
    "start_time": "2025-07-12T10:17:46.531Z"
   },
   {
    "duration": 90,
    "start_time": "2025-07-12T10:17:46.553Z"
   },
   {
    "duration": 8,
    "start_time": "2025-07-12T10:17:46.645Z"
   },
   {
    "duration": 181,
    "start_time": "2025-07-12T10:17:46.654Z"
   },
   {
    "duration": 5,
    "start_time": "2025-07-12T10:17:46.836Z"
   },
   {
    "duration": 887,
    "start_time": "2025-07-12T10:17:46.843Z"
   },
   {
    "duration": 219,
    "start_time": "2025-07-12T10:17:47.731Z"
   },
   {
    "duration": 1508,
    "start_time": "2025-07-12T10:17:47.951Z"
   },
   {
    "duration": 752,
    "start_time": "2025-07-12T10:17:49.461Z"
   },
   {
    "duration": 58,
    "start_time": "2025-07-12T10:17:50.215Z"
   },
   {
    "duration": 265,
    "start_time": "2025-07-12T10:17:50.275Z"
   },
   {
    "duration": 74,
    "start_time": "2025-07-12T10:17:50.541Z"
   },
   {
    "duration": 216,
    "start_time": "2025-07-12T10:17:50.617Z"
   },
   {
    "duration": 273,
    "start_time": "2025-07-12T10:17:50.837Z"
   },
   {
    "duration": 60,
    "start_time": "2025-07-12T10:17:51.112Z"
   },
   {
    "duration": 309,
    "start_time": "2025-07-12T10:17:51.174Z"
   },
   {
    "duration": 431,
    "start_time": "2025-07-12T10:17:51.485Z"
   },
   {
    "duration": 5,
    "start_time": "2025-07-12T10:17:51.918Z"
   },
   {
    "duration": 317,
    "start_time": "2025-07-12T10:17:51.924Z"
   },
   {
    "duration": 15,
    "start_time": "2025-07-12T10:17:52.243Z"
   },
   {
    "duration": 10798,
    "start_time": "2025-07-12T10:17:52.260Z"
   },
   {
    "duration": 233,
    "start_time": "2025-07-12T10:18:03.060Z"
   },
   {
    "duration": 5,
    "start_time": "2025-07-12T10:18:03.298Z"
   },
   {
    "duration": 127,
    "start_time": "2025-07-12T10:18:03.305Z"
   },
   {
    "duration": 13,
    "start_time": "2025-07-12T10:18:03.434Z"
   },
   {
    "duration": 675,
    "start_time": "2025-07-12T10:25:20.825Z"
   },
   {
    "duration": 891,
    "start_time": "2025-07-12T10:26:51.310Z"
   },
   {
    "duration": 1323,
    "start_time": "2025-07-12T10:29:44.058Z"
   },
   {
    "duration": 765,
    "start_time": "2025-07-12T10:30:08.499Z"
   },
   {
    "duration": 857,
    "start_time": "2025-07-12T10:33:18.210Z"
   },
   {
    "duration": 47,
    "start_time": "2025-07-12T10:36:00.508Z"
   },
   {
    "duration": 52,
    "start_time": "2025-07-12T10:36:40.759Z"
   },
   {
    "duration": 57,
    "start_time": "2025-07-12T10:37:03.807Z"
   },
   {
    "duration": 162,
    "start_time": "2025-07-12T10:42:06.672Z"
   },
   {
    "duration": 45,
    "start_time": "2025-07-12T10:43:10.731Z"
   },
   {
    "duration": 123,
    "start_time": "2025-07-12T10:49:24.725Z"
   },
   {
    "duration": 214,
    "start_time": "2025-07-12T10:56:48.520Z"
   },
   {
    "duration": 138,
    "start_time": "2025-07-12T10:58:58.112Z"
   },
   {
    "duration": 122,
    "start_time": "2025-07-12T10:59:11.244Z"
   },
   {
    "duration": 129,
    "start_time": "2025-07-12T10:59:29.117Z"
   },
   {
    "duration": 4,
    "start_time": "2025-07-12T11:09:38.924Z"
   },
   {
    "duration": 3,
    "start_time": "2025-07-12T11:09:40.244Z"
   },
   {
    "duration": 6,
    "start_time": "2025-07-12T11:13:00.116Z"
   },
   {
    "duration": 194,
    "start_time": "2025-07-12T11:13:53.442Z"
   },
   {
    "duration": 209,
    "start_time": "2025-07-12T11:15:31.579Z"
   },
   {
    "duration": 305,
    "start_time": "2025-07-12T11:16:50.181Z"
   },
   {
    "duration": 297,
    "start_time": "2025-07-12T11:17:23.562Z"
   },
   {
    "duration": 12,
    "start_time": "2025-07-12T11:18:35.702Z"
   },
   {
    "duration": 5,
    "start_time": "2025-07-12T11:19:06.667Z"
   },
   {
    "duration": 305,
    "start_time": "2025-07-12T11:19:07.251Z"
   },
   {
    "duration": 296,
    "start_time": "2025-07-12T11:19:08.118Z"
   },
   {
    "duration": 10,
    "start_time": "2025-07-12T11:19:09.026Z"
   },
   {
    "duration": 12,
    "start_time": "2025-07-12T11:19:25.012Z"
   },
   {
    "duration": 9,
    "start_time": "2025-07-12T11:19:39.167Z"
   },
   {
    "duration": 15,
    "start_time": "2025-07-12T11:20:22.693Z"
   },
   {
    "duration": 114,
    "start_time": "2025-07-12T11:20:46.960Z"
   },
   {
    "duration": 17,
    "start_time": "2025-07-12T11:21:01.606Z"
   },
   {
    "duration": 10,
    "start_time": "2025-07-12T11:25:53.436Z"
   },
   {
    "duration": 13,
    "start_time": "2025-07-12T11:30:50.524Z"
   },
   {
    "duration": 179,
    "start_time": "2025-07-12T11:33:23.159Z"
   },
   {
    "duration": 144,
    "start_time": "2025-07-12T11:33:34.151Z"
   },
   {
    "duration": 7,
    "start_time": "2025-07-12T11:34:53.467Z"
   },
   {
    "duration": 10,
    "start_time": "2025-07-12T11:35:09.719Z"
   },
   {
    "duration": 257,
    "start_time": "2025-07-12T11:36:45.376Z"
   },
   {
    "duration": 102,
    "start_time": "2025-07-12T11:44:12.653Z"
   }
  ],
  "colab": {
   "provenance": []
  },
  "kernelspec": {
   "display_name": "Python 3 (ipykernel)",
   "language": "python",
   "name": "python3"
  },
  "language_info": {
   "codemirror_mode": {
    "name": "ipython",
    "version": 3
   },
   "file_extension": ".py",
   "mimetype": "text/x-python",
   "name": "python",
   "nbconvert_exporter": "python",
   "pygments_lexer": "ipython3",
   "version": "3.9.7"
  },
  "toc": {
   "base_numbering": 1,
   "nav_menu": {},
   "number_sections": true,
   "sideBar": true,
   "skip_h1_title": true,
   "title_cell": "Table of Contents",
   "title_sidebar": "Contents",
   "toc_cell": false,
   "toc_position": {},
   "toc_section_display": true,
   "toc_window_display": false
  }
 },
 "nbformat": 4,
 "nbformat_minor": 1
}
