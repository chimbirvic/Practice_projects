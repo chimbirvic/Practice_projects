{
 "cells": [
  {
   "cell_type": "markdown",
   "id": "bf478e1f",
   "metadata": {},
   "source": [
    "# Анализ рынка заведений общественного питания в Москве"
   ]
  },
  {
   "cell_type": "markdown",
   "id": "790f411c",
   "metadata": {},
   "source": [
    "Автор: Чимбир В.И.\n",
    "\n",
    "Дата редактирования: 09.04.2025."
   ]
  },
  {
   "cell_type": "markdown",
   "id": "64210a80",
   "metadata": {},
   "source": [
    "### Цели и задачи проекта\n",
    "Приозвести исследовательский анализ рынка обещственного питания в Москве в целях предоставления общей картины для выбора инвесторам."
   ]
  },
  {
   "cell_type": "markdown",
   "id": "9ee2216f",
   "metadata": {},
   "source": [
    "### Данные\n",
    "\n",
    "Нам доступен датасет с заведениями общественного питания Москвы, составленный на основе данных сервисов Яндекс Карты и Яндекс Бизнес на лето 2022 года. Информация, размещённая в сервисе Яндекс Бизнес, могла быть добавлена пользователями или найдена в общедоступных источниках. Она носит исключительно справочный характер.\n"
   ]
  },
  {
   "cell_type": "markdown",
   "id": "d3c67194",
   "metadata": {},
   "source": [
    "### Описание данных\n",
    "\n",
    "Файл `/datasets/rest_info.csv` содержит информацию о заведениях общественного питания:\n",
    "\n",
    "- `name` - название заведения\n",
    "- `address` - адрес заведения\n",
    "- `district` - административный район, в котором находится заведение, например Центральный административный округ\n",
    "- `category` - категория заведения, например «кафе», «пиццерия» или «кофейня»\n",
    "- `hours` - информация о днях и часах работы\n",
    "- `rating` - рейтинг заведения по оценкам пользователей в Яндекс Картах (высшая оценка — 5.0)\n",
    "- `chain` - число, выраженное 0 или 1, которое показывает, является ли заведение сетевым (для маленьких сетей могут встречаться ошибки)\n",
    "- `seats`- количество посадочных мест"
   ]
  },
  {
   "cell_type": "markdown",
   "id": "1d5c46a2",
   "metadata": {},
   "source": [
    "Файл `/datasets/rest_price.csv` содержит информацию о среднем чеке в заведениях общественного питания:\n",
    "\n",
    "- `price` — категория цен в заведении, например «средние», «ниже среднего», «выше среднего» и так далее;\n",
    "- `avg_bill` — строка, которая хранит среднюю стоимость заказа в виде диапазона, например: \n",
    "«Средний счёт: 1000–1500 ₽»;\n",
    "«Цена чашки капучино: 130–220 ₽»;\n",
    "«Цена бокала пива: 400–600 ₽».\n",
    "и так далее;\n",
    "- `middle_avg_bill` — число с оценкой среднего чека, которое указано только для значений из столбца `avg_bill`, начинающихся с подстроки «Средний счёт»: \n",
    "Если в строке указан ценовой диапазон из двух значений, в столбец войдёт медиана этих двух значений.\n",
    "Если в строке указано одно число — цена без диапазона, то в столбец войдёт это число.\n",
    "Если значения нет или оно не начинается с подстроки «Средний счёт», то в столбец ничего не войдёт.\n",
    "- `middle_coffee_cup` — число с оценкой одной чашки капучино, которое указано только для значений из столбца `avg_bill`, начинающихся с подстроки «Цена одной чашки капучино»: \n",
    "Если в строке указан ценовой диапазон из двух значений, в столбец войдёт медиана этих двух значений.\n",
    "Если в строке указано одно число — цена без диапазона, то в столбец войдёт это число.\n",
    "Если значения нет или оно не начинается с подстроки «Цена одной чашки капучино», то в столбец ничего не войдёт.\n"
   ]
  },
  {
   "cell_type": "markdown",
   "id": "0b4c9eb9",
   "metadata": {},
   "source": [
    "## Структура проекта\n",
    "\n",
    "1. Загрузка данных и знакомство с ними.\n",
    "2. Предобработка данных.\n",
    "3. Исследовательский анализ данных.\n",
    "4. Итоговые выводы."
   ]
  },
  {
   "cell_type": "markdown",
   "id": "881b7cc6",
   "metadata": {},
   "source": [
    "## 1. Загрузка данных и знакомство с ними\n",
    "\n",
    "Начнём с загрузки библиотек и датасетов `rest_info` и `rest_price`. Будем использовать pandas и библиотеки визуализации данных matplotlib и seaborn, а также phik_matrix для построения матрицы корреляции. Данные датасетов сохраним в двух переменных: `info_df` и `price_df`."
   ]
  },
  {
   "cell_type": "code",
   "execution_count": 1,
   "id": "69b0bf29",
   "metadata": {},
   "outputs": [],
   "source": [
    "# Импортируем библиотеки\n",
    "import pandas as pd\n",
    "\n",
    "# Загружаем библиотеки для визуализации данных\n",
    "import matplotlib.pyplot as plt\n",
    "import seaborn as sns\n",
    "\n",
    "# Загружаем библиотеку для расчёта коэффициента корреляции phi_k\n",
    "from phik import phik_matrix\n",
    "\n",
    "pd.options.mode.chained_assignment = None\n"
   ]
  },
  {
   "cell_type": "code",
   "execution_count": 2,
   "id": "da1aab43",
   "metadata": {},
   "outputs": [],
   "source": [
    "# Выгружаем данные в переменные info_df и price_df\n",
    "info_df = pd.read_csv('https://code.s3.yandex.net/datasets/rest_info.csv')\n",
    "price_df = pd.read_csv('https://code.s3.yandex.net/datasets/rest_price.csv')"
   ]
  },
  {
   "cell_type": "markdown",
   "id": "e94da3b1",
   "metadata": {},
   "source": [
    "Познакомимся с данными датасета `rest_info.csv` — выведем первые строки методом `head()`, а информацию о датафрейме методом `info()`:"
   ]
  },
  {
   "cell_type": "code",
   "execution_count": 3,
   "id": "579c9039",
   "metadata": {},
   "outputs": [
    {
     "data": {
      "text/html": [
       "<div>\n",
       "<style scoped>\n",
       "    .dataframe tbody tr th:only-of-type {\n",
       "        vertical-align: middle;\n",
       "    }\n",
       "\n",
       "    .dataframe tbody tr th {\n",
       "        vertical-align: top;\n",
       "    }\n",
       "\n",
       "    .dataframe thead th {\n",
       "        text-align: right;\n",
       "    }\n",
       "</style>\n",
       "<table border=\"1\" class=\"dataframe\">\n",
       "  <thead>\n",
       "    <tr style=\"text-align: right;\">\n",
       "      <th></th>\n",
       "      <th>id</th>\n",
       "      <th>name</th>\n",
       "      <th>category</th>\n",
       "      <th>address</th>\n",
       "      <th>district</th>\n",
       "      <th>hours</th>\n",
       "      <th>rating</th>\n",
       "      <th>chain</th>\n",
       "      <th>seats</th>\n",
       "    </tr>\n",
       "  </thead>\n",
       "  <tbody>\n",
       "    <tr>\n",
       "      <th>0</th>\n",
       "      <td>0c3e3439a8c64ea5bf6ecd6ca6ae19f0</td>\n",
       "      <td>WoWфли</td>\n",
       "      <td>кафе</td>\n",
       "      <td>Москва, улица Дыбенко, 7/1</td>\n",
       "      <td>Северный административный округ</td>\n",
       "      <td>ежедневно, 10:00–22:00</td>\n",
       "      <td>5.0</td>\n",
       "      <td>0</td>\n",
       "      <td>NaN</td>\n",
       "    </tr>\n",
       "    <tr>\n",
       "      <th>1</th>\n",
       "      <td>045780ada3474c57a2112e505d74b633</td>\n",
       "      <td>Четыре комнаты</td>\n",
       "      <td>ресторан</td>\n",
       "      <td>Москва, улица Дыбенко, 36, корп. 1</td>\n",
       "      <td>Северный административный округ</td>\n",
       "      <td>ежедневно, 10:00–22:00</td>\n",
       "      <td>4.5</td>\n",
       "      <td>0</td>\n",
       "      <td>4.0</td>\n",
       "    </tr>\n",
       "    <tr>\n",
       "      <th>2</th>\n",
       "      <td>1070b6b59144425896c65889347fcff6</td>\n",
       "      <td>Хазри</td>\n",
       "      <td>кафе</td>\n",
       "      <td>Москва, Клязьминская улица, 15</td>\n",
       "      <td>Северный административный округ</td>\n",
       "      <td>пн-чт 11:00–02:00; пт,сб 11:00–05:00; вс 11:00...</td>\n",
       "      <td>4.6</td>\n",
       "      <td>0</td>\n",
       "      <td>45.0</td>\n",
       "    </tr>\n",
       "    <tr>\n",
       "      <th>3</th>\n",
       "      <td>03ac7cd772104f65b58b349dc59f03ee</td>\n",
       "      <td>Dormouse Coffee Shop</td>\n",
       "      <td>кофейня</td>\n",
       "      <td>Москва, улица Маршала Федоренко, 12</td>\n",
       "      <td>Северный административный округ</td>\n",
       "      <td>ежедневно, 09:00–22:00</td>\n",
       "      <td>5.0</td>\n",
       "      <td>0</td>\n",
       "      <td>NaN</td>\n",
       "    </tr>\n",
       "    <tr>\n",
       "      <th>4</th>\n",
       "      <td>a163aada139c4c7f87b0b1c0b466a50f</td>\n",
       "      <td>Иль Марко</td>\n",
       "      <td>пиццерия</td>\n",
       "      <td>Москва, Правобережная улица, 1Б</td>\n",
       "      <td>Северный административный округ</td>\n",
       "      <td>ежедневно, 10:00–22:00</td>\n",
       "      <td>5.0</td>\n",
       "      <td>1</td>\n",
       "      <td>148.0</td>\n",
       "    </tr>\n",
       "  </tbody>\n",
       "</table>\n",
       "</div>"
      ],
      "text/plain": [
       "                                 id                  name  category  \\\n",
       "0  0c3e3439a8c64ea5bf6ecd6ca6ae19f0                WoWфли      кафе   \n",
       "1  045780ada3474c57a2112e505d74b633        Четыре комнаты  ресторан   \n",
       "2  1070b6b59144425896c65889347fcff6                 Хазри      кафе   \n",
       "3  03ac7cd772104f65b58b349dc59f03ee  Dormouse Coffee Shop   кофейня   \n",
       "4  a163aada139c4c7f87b0b1c0b466a50f             Иль Марко  пиццерия   \n",
       "\n",
       "                               address                         district  \\\n",
       "0           Москва, улица Дыбенко, 7/1  Северный административный округ   \n",
       "1   Москва, улица Дыбенко, 36, корп. 1  Северный административный округ   \n",
       "2       Москва, Клязьминская улица, 15  Северный административный округ   \n",
       "3  Москва, улица Маршала Федоренко, 12  Северный административный округ   \n",
       "4      Москва, Правобережная улица, 1Б  Северный административный округ   \n",
       "\n",
       "                                               hours  rating  chain  seats  \n",
       "0                             ежедневно, 10:00–22:00     5.0      0    NaN  \n",
       "1                             ежедневно, 10:00–22:00     4.5      0    4.0  \n",
       "2  пн-чт 11:00–02:00; пт,сб 11:00–05:00; вс 11:00...     4.6      0   45.0  \n",
       "3                             ежедневно, 09:00–22:00     5.0      0    NaN  \n",
       "4                             ежедневно, 10:00–22:00     5.0      1  148.0  "
      ]
     },
     "execution_count": 3,
     "metadata": {},
     "output_type": "execute_result"
    }
   ],
   "source": [
    "# Выводим первые строки датафрейма\n",
    "info_df.head()"
   ]
  },
  {
   "cell_type": "code",
   "execution_count": 4,
   "id": "b55a7cc0",
   "metadata": {},
   "outputs": [
    {
     "name": "stdout",
     "output_type": "stream",
     "text": [
      "<class 'pandas.core.frame.DataFrame'>\n",
      "RangeIndex: 8406 entries, 0 to 8405\n",
      "Data columns (total 9 columns):\n",
      " #   Column    Non-Null Count  Dtype  \n",
      "---  ------    --------------  -----  \n",
      " 0   id        8406 non-null   object \n",
      " 1   name      8406 non-null   object \n",
      " 2   category  8406 non-null   object \n",
      " 3   address   8406 non-null   object \n",
      " 4   district  8406 non-null   object \n",
      " 5   hours     7870 non-null   object \n",
      " 6   rating    8406 non-null   float64\n",
      " 7   chain     8406 non-null   int64  \n",
      " 8   seats     4795 non-null   float64\n",
      "dtypes: float64(2), int64(1), object(6)\n",
      "memory usage: 591.2+ KB\n"
     ]
    }
   ],
   "source": [
    "# Выводим информацию\n",
    "info_df.info()"
   ]
  },
  {
   "cell_type": "markdown",
   "id": "3224a546",
   "metadata": {},
   "source": [
    "Датасет `rest_info.csv` содержит 8406 строк и 9 столбцов\n",
    "\n",
    "После первичного анализа можем заметить:\n",
    "\n",
    "- Данные соответствуют своему описанию.\n",
    "- Стиль названий столбцов корректный.\n",
    "- Наблюдаем пропуски в столбцах `hours` и `seats`\n",
    "- Шесть столбцов содержат данные типа `object`, трое столбцов имеют числовые типы данных `float64`,`int64`"
   ]
  },
  {
   "cell_type": "markdown",
   "id": "6c9552fa",
   "metadata": {},
   "source": [
    "-------"
   ]
  },
  {
   "cell_type": "markdown",
   "id": "3b859873",
   "metadata": {},
   "source": [
    "Познакомимся с данными датасета `rest_price.csv` — выведем первые строки методом `head()`, а информацию о датафрейме методом `info()`:"
   ]
  },
  {
   "cell_type": "code",
   "execution_count": 5,
   "id": "1b2423a4",
   "metadata": {},
   "outputs": [
    {
     "data": {
      "text/html": [
       "<div>\n",
       "<style scoped>\n",
       "    .dataframe tbody tr th:only-of-type {\n",
       "        vertical-align: middle;\n",
       "    }\n",
       "\n",
       "    .dataframe tbody tr th {\n",
       "        vertical-align: top;\n",
       "    }\n",
       "\n",
       "    .dataframe thead th {\n",
       "        text-align: right;\n",
       "    }\n",
       "</style>\n",
       "<table border=\"1\" class=\"dataframe\">\n",
       "  <thead>\n",
       "    <tr style=\"text-align: right;\">\n",
       "      <th></th>\n",
       "      <th>id</th>\n",
       "      <th>price</th>\n",
       "      <th>avg_bill</th>\n",
       "      <th>middle_avg_bill</th>\n",
       "      <th>middle_coffee_cup</th>\n",
       "    </tr>\n",
       "  </thead>\n",
       "  <tbody>\n",
       "    <tr>\n",
       "      <th>0</th>\n",
       "      <td>045780ada3474c57a2112e505d74b633</td>\n",
       "      <td>выше среднего</td>\n",
       "      <td>Средний счёт:1500–1600 ₽</td>\n",
       "      <td>1550.0</td>\n",
       "      <td>NaN</td>\n",
       "    </tr>\n",
       "    <tr>\n",
       "      <th>1</th>\n",
       "      <td>1070b6b59144425896c65889347fcff6</td>\n",
       "      <td>средние</td>\n",
       "      <td>Средний счёт:от 1000 ₽</td>\n",
       "      <td>1000.0</td>\n",
       "      <td>NaN</td>\n",
       "    </tr>\n",
       "    <tr>\n",
       "      <th>2</th>\n",
       "      <td>03ac7cd772104f65b58b349dc59f03ee</td>\n",
       "      <td>NaN</td>\n",
       "      <td>Цена чашки капучино:155–185 ₽</td>\n",
       "      <td>NaN</td>\n",
       "      <td>170.0</td>\n",
       "    </tr>\n",
       "    <tr>\n",
       "      <th>3</th>\n",
       "      <td>a163aada139c4c7f87b0b1c0b466a50f</td>\n",
       "      <td>средние</td>\n",
       "      <td>Средний счёт:400–600 ₽</td>\n",
       "      <td>500.0</td>\n",
       "      <td>NaN</td>\n",
       "    </tr>\n",
       "    <tr>\n",
       "      <th>4</th>\n",
       "      <td>8a343546b24e4a499ad96eb7d0797a8a</td>\n",
       "      <td>средние</td>\n",
       "      <td>NaN</td>\n",
       "      <td>NaN</td>\n",
       "      <td>NaN</td>\n",
       "    </tr>\n",
       "  </tbody>\n",
       "</table>\n",
       "</div>"
      ],
      "text/plain": [
       "                                 id          price  \\\n",
       "0  045780ada3474c57a2112e505d74b633  выше среднего   \n",
       "1  1070b6b59144425896c65889347fcff6        средние   \n",
       "2  03ac7cd772104f65b58b349dc59f03ee            NaN   \n",
       "3  a163aada139c4c7f87b0b1c0b466a50f        средние   \n",
       "4  8a343546b24e4a499ad96eb7d0797a8a        средние   \n",
       "\n",
       "                        avg_bill  middle_avg_bill  middle_coffee_cup  \n",
       "0       Средний счёт:1500–1600 ₽           1550.0                NaN  \n",
       "1         Средний счёт:от 1000 ₽           1000.0                NaN  \n",
       "2  Цена чашки капучино:155–185 ₽              NaN              170.0  \n",
       "3         Средний счёт:400–600 ₽            500.0                NaN  \n",
       "4                            NaN              NaN                NaN  "
      ]
     },
     "execution_count": 5,
     "metadata": {},
     "output_type": "execute_result"
    }
   ],
   "source": [
    "# Выводим первые строки датафрейма\n",
    "price_df.head()"
   ]
  },
  {
   "cell_type": "code",
   "execution_count": 6,
   "id": "33c52ebb",
   "metadata": {},
   "outputs": [
    {
     "name": "stdout",
     "output_type": "stream",
     "text": [
      "<class 'pandas.core.frame.DataFrame'>\n",
      "RangeIndex: 4058 entries, 0 to 4057\n",
      "Data columns (total 5 columns):\n",
      " #   Column             Non-Null Count  Dtype  \n",
      "---  ------             --------------  -----  \n",
      " 0   id                 4058 non-null   object \n",
      " 1   price              3315 non-null   object \n",
      " 2   avg_bill           3816 non-null   object \n",
      " 3   middle_avg_bill    3149 non-null   float64\n",
      " 4   middle_coffee_cup  535 non-null    float64\n",
      "dtypes: float64(2), object(3)\n",
      "memory usage: 158.6+ KB\n"
     ]
    }
   ],
   "source": [
    "# Выводим информацию о датафрейме\n",
    "price_df.info()"
   ]
  },
  {
   "cell_type": "markdown",
   "id": "bcb8583d",
   "metadata": {},
   "source": [
    "Датасет `rest_price.csv` содержит 4058 строчек и 5 столбцов \n",
    "\n",
    "Первые наблюдения:\n",
    "\n",
    "- Данные соответствуют описанию.\n",
    "- Корректный стиль названия столбцов.\n",
    "- Очень много пропусков. Лишь один столбец не содержит их - `id`, что является ключом между датасетами."
   ]
  },
  {
   "cell_type": "code",
   "execution_count": 7,
   "id": "5771f079",
   "metadata": {},
   "outputs": [],
   "source": [
    "\n",
    "# Объединим датасеты в один \n",
    "df = info_df.merge(price_df, on='id', how='left')"
   ]
  },
  {
   "cell_type": "code",
   "execution_count": 8,
   "id": "25a5a8ec",
   "metadata": {},
   "outputs": [
    {
     "name": "stdout",
     "output_type": "stream",
     "text": [
      "<class 'pandas.core.frame.DataFrame'>\n",
      "Int64Index: 8406 entries, 0 to 8405\n",
      "Data columns (total 13 columns):\n",
      " #   Column             Non-Null Count  Dtype  \n",
      "---  ------             --------------  -----  \n",
      " 0   id                 8406 non-null   object \n",
      " 1   name               8406 non-null   object \n",
      " 2   category           8406 non-null   object \n",
      " 3   address            8406 non-null   object \n",
      " 4   district           8406 non-null   object \n",
      " 5   hours              7870 non-null   object \n",
      " 6   rating             8406 non-null   float64\n",
      " 7   chain              8406 non-null   int64  \n",
      " 8   seats              4795 non-null   float64\n",
      " 9   price              3315 non-null   object \n",
      " 10  avg_bill           3816 non-null   object \n",
      " 11  middle_avg_bill    3149 non-null   float64\n",
      " 12  middle_coffee_cup  535 non-null    float64\n",
      "dtypes: float64(4), int64(1), object(8)\n",
      "memory usage: 919.4+ KB\n"
     ]
    }
   ],
   "source": [
    "# Выведем информацию о новом датафрейме\n",
    "df.info()"
   ]
  },
  {
   "cell_type": "code",
   "execution_count": 9,
   "id": "d5405513",
   "metadata": {},
   "outputs": [
    {
     "name": "stdout",
     "output_type": "stream",
     "text": [
      "Процент потерянных данных при объединении таблиц: 0.0 %\n"
     ]
    }
   ],
   "source": [
    "\n",
    "print(\"Процент потерянных данных при объединении таблиц:\",round((len(info_df)-len(df))/len(info_df)*100,2), \"%\")"
   ]
  },
  {
   "cell_type": "markdown",
   "id": "440f370e",
   "metadata": {},
   "source": [
    "## 2. Предобработка данных"
   ]
  },
  {
   "cell_type": "markdown",
   "id": "03401db5",
   "metadata": {},
   "source": [
    "### 2.1 Работа с типами данных"
   ]
  },
  {
   "cell_type": "code",
   "execution_count": 10,
   "id": "14d2e6e8",
   "metadata": {},
   "outputs": [
    {
     "data": {
      "text/plain": [
       "id                    object\n",
       "name                  object\n",
       "category              object\n",
       "address               object\n",
       "district              object\n",
       "hours                 object\n",
       "rating               float64\n",
       "chain                  int64\n",
       "seats                float64\n",
       "price                 object\n",
       "avg_bill              object\n",
       "middle_avg_bill      float64\n",
       "middle_coffee_cup    float64\n",
       "dtype: object"
      ]
     },
     "execution_count": 10,
     "metadata": {},
     "output_type": "execute_result"
    }
   ],
   "source": [
    "# Выведем типы данных итогового датафрейма\n",
    "df.dtypes"
   ]
  },
  {
   "cell_type": "markdown",
   "id": "89f21ee8",
   "metadata": {},
   "source": [
    "Практически у всех серий тип данных соответсвует описанию и содержаию столбца. Столбец `seats` содержит информацию о количестве посадочных мест, поэтому может иметь целочисленный формат. Однако явно содержит пропуски, поэтому стоит вернуться к этому вопросу после обработки пропусков."
   ]
  },
  {
   "cell_type": "markdown",
   "id": "098afac7",
   "metadata": {},
   "source": [
    "### 2.2 Работа с пропусками\n",
    "\n"
   ]
  },
  {
   "cell_type": "code",
   "execution_count": 11,
   "id": "f5ab9c06",
   "metadata": {},
   "outputs": [
    {
     "data": {
      "text/plain": [
       "id                      0\n",
       "name                    0\n",
       "category                0\n",
       "address                 0\n",
       "district                0\n",
       "hours                 536\n",
       "rating                  0\n",
       "chain                   0\n",
       "seats                3611\n",
       "price                5091\n",
       "avg_bill             4590\n",
       "middle_avg_bill      5257\n",
       "middle_coffee_cup    7871\n",
       "dtype: int64"
      ]
     },
     "execution_count": 11,
     "metadata": {},
     "output_type": "execute_result"
    }
   ],
   "source": [
    "# Подсчитаем количество пропусков\n",
    "df.isna().sum()"
   ]
  },
  {
   "cell_type": "code",
   "execution_count": 12,
   "id": "1c8c079d",
   "metadata": {},
   "outputs": [
    {
     "data": {
      "text/plain": [
       "id                    0.000000\n",
       "name                  0.000000\n",
       "category              0.000000\n",
       "address               0.000000\n",
       "district              0.000000\n",
       "hours                 6.376398\n",
       "rating                0.000000\n",
       "chain                 0.000000\n",
       "seats                42.957411\n",
       "price                60.563883\n",
       "avg_bill             54.603854\n",
       "middle_avg_bill      62.538663\n",
       "middle_coffee_cup    93.635498\n",
       "dtype: float64"
      ]
     },
     "execution_count": 12,
     "metadata": {},
     "output_type": "execute_result"
    }
   ],
   "source": [
    "# Подсчитаем долю пропусков\n",
    "df.isna().sum()/df.shape[0]*100"
   ]
  },
  {
   "cell_type": "code",
   "execution_count": 101,
   "id": "4afb6bd1",
   "metadata": {},
   "outputs": [
    {
     "data": {
      "text/html": [
       "<style type=\"text/css\">\n",
       "#T_54fb6_row0_col0, #T_54fb6_row0_col1, #T_54fb6_row1_col0, #T_54fb6_row1_col1, #T_54fb6_row2_col0, #T_54fb6_row2_col1, #T_54fb6_row3_col0, #T_54fb6_row3_col1, #T_54fb6_row4_col0, #T_54fb6_row4_col1, #T_54fb6_row5_col0, #T_54fb6_row5_col1, #T_54fb6_row6_col0, #T_54fb6_row6_col1, #T_54fb6_row7_col0, #T_54fb6_row7_col1, #T_54fb6_row13_col0, #T_54fb6_row13_col1, #T_54fb6_row14_col0, #T_54fb6_row14_col1 {\n",
       "  background-color: #3b4cc0;\n",
       "  color: #f1f1f1;\n",
       "}\n",
       "#T_54fb6_row8_col0, #T_54fb6_row8_col1 {\n",
       "  background-color: #d2dbe8;\n",
       "  color: #000000;\n",
       "}\n",
       "#T_54fb6_row9_col0, #T_54fb6_row9_col1 {\n",
       "  background-color: #f6bea4;\n",
       "  color: #000000;\n",
       "}\n",
       "#T_54fb6_row10_col0, #T_54fb6_row10_col1 {\n",
       "  background-color: #efcebd;\n",
       "  color: #000000;\n",
       "}\n",
       "#T_54fb6_row11_col0, #T_54fb6_row11_col1 {\n",
       "  background-color: #f7b89c;\n",
       "  color: #000000;\n",
       "}\n",
       "#T_54fb6_row12_col0, #T_54fb6_row12_col1 {\n",
       "  background-color: #b40426;\n",
       "  color: #f1f1f1;\n",
       "}\n",
       "</style>\n",
       "<table id=\"T_54fb6_\">\n",
       "  <thead>\n",
       "    <tr>\n",
       "      <th class=\"blank level0\" >&nbsp;</th>\n",
       "      <th class=\"col_heading level0 col0\" >Кол-во пропусков</th>\n",
       "      <th class=\"col_heading level0 col1\" >Доля пропусков</th>\n",
       "    </tr>\n",
       "  </thead>\n",
       "  <tbody>\n",
       "    <tr>\n",
       "      <th id=\"T_54fb6_level0_row0\" class=\"row_heading level0 row0\" >id</th>\n",
       "      <td id=\"T_54fb6_row0_col0\" class=\"data row0 col0\" >0</td>\n",
       "      <td id=\"T_54fb6_row0_col1\" class=\"data row0 col1\" >0.000000</td>\n",
       "    </tr>\n",
       "    <tr>\n",
       "      <th id=\"T_54fb6_level0_row1\" class=\"row_heading level0 row1\" >name</th>\n",
       "      <td id=\"T_54fb6_row1_col0\" class=\"data row1 col0\" >0</td>\n",
       "      <td id=\"T_54fb6_row1_col1\" class=\"data row1 col1\" >0.000000</td>\n",
       "    </tr>\n",
       "    <tr>\n",
       "      <th id=\"T_54fb6_level0_row2\" class=\"row_heading level0 row2\" >category</th>\n",
       "      <td id=\"T_54fb6_row2_col0\" class=\"data row2 col0\" >0</td>\n",
       "      <td id=\"T_54fb6_row2_col1\" class=\"data row2 col1\" >0.000000</td>\n",
       "    </tr>\n",
       "    <tr>\n",
       "      <th id=\"T_54fb6_level0_row3\" class=\"row_heading level0 row3\" >address</th>\n",
       "      <td id=\"T_54fb6_row3_col0\" class=\"data row3 col0\" >0</td>\n",
       "      <td id=\"T_54fb6_row3_col1\" class=\"data row3 col1\" >0.000000</td>\n",
       "    </tr>\n",
       "    <tr>\n",
       "      <th id=\"T_54fb6_level0_row4\" class=\"row_heading level0 row4\" >district</th>\n",
       "      <td id=\"T_54fb6_row4_col0\" class=\"data row4 col0\" >0</td>\n",
       "      <td id=\"T_54fb6_row4_col1\" class=\"data row4 col1\" >0.000000</td>\n",
       "    </tr>\n",
       "    <tr>\n",
       "      <th id=\"T_54fb6_level0_row5\" class=\"row_heading level0 row5\" >hours</th>\n",
       "      <td id=\"T_54fb6_row5_col0\" class=\"data row5 col0\" >0</td>\n",
       "      <td id=\"T_54fb6_row5_col1\" class=\"data row5 col1\" >0.000000</td>\n",
       "    </tr>\n",
       "    <tr>\n",
       "      <th id=\"T_54fb6_level0_row6\" class=\"row_heading level0 row6\" >rating</th>\n",
       "      <td id=\"T_54fb6_row6_col0\" class=\"data row6 col0\" >0</td>\n",
       "      <td id=\"T_54fb6_row6_col1\" class=\"data row6 col1\" >0.000000</td>\n",
       "    </tr>\n",
       "    <tr>\n",
       "      <th id=\"T_54fb6_level0_row7\" class=\"row_heading level0 row7\" >chain</th>\n",
       "      <td id=\"T_54fb6_row7_col0\" class=\"data row7 col0\" >0</td>\n",
       "      <td id=\"T_54fb6_row7_col1\" class=\"data row7 col1\" >0.000000</td>\n",
       "    </tr>\n",
       "    <tr>\n",
       "      <th id=\"T_54fb6_level0_row8\" class=\"row_heading level0 row8\" >seats</th>\n",
       "      <td id=\"T_54fb6_row8_col0\" class=\"data row8 col0\" >3610</td>\n",
       "      <td id=\"T_54fb6_row8_col1\" class=\"data row8 col1\" >0.429700</td>\n",
       "    </tr>\n",
       "    <tr>\n",
       "      <th id=\"T_54fb6_level0_row9\" class=\"row_heading level0 row9\" >price</th>\n",
       "      <td id=\"T_54fb6_row9_col0\" class=\"data row9 col0\" >5087</td>\n",
       "      <td id=\"T_54fb6_row9_col1\" class=\"data row9 col1\" >0.605500</td>\n",
       "    </tr>\n",
       "    <tr>\n",
       "      <th id=\"T_54fb6_level0_row10\" class=\"row_heading level0 row10\" >avg_bill</th>\n",
       "      <td id=\"T_54fb6_row10_col0\" class=\"data row10 col0\" >4586</td>\n",
       "      <td id=\"T_54fb6_row10_col1\" class=\"data row10 col1\" >0.545800</td>\n",
       "    </tr>\n",
       "    <tr>\n",
       "      <th id=\"T_54fb6_level0_row11\" class=\"row_heading level0 row11\" >middle_avg_bill</th>\n",
       "      <td id=\"T_54fb6_row11_col0\" class=\"data row11 col0\" >5253</td>\n",
       "      <td id=\"T_54fb6_row11_col1\" class=\"data row11 col1\" >0.625200</td>\n",
       "    </tr>\n",
       "    <tr>\n",
       "      <th id=\"T_54fb6_level0_row12\" class=\"row_heading level0 row12\" >middle_coffee_cup</th>\n",
       "      <td id=\"T_54fb6_row12_col0\" class=\"data row12 col0\" >7867</td>\n",
       "      <td id=\"T_54fb6_row12_col1\" class=\"data row12 col1\" >0.936300</td>\n",
       "    </tr>\n",
       "    <tr>\n",
       "      <th id=\"T_54fb6_level0_row13\" class=\"row_heading level0 row13\" >is_seats</th>\n",
       "      <td id=\"T_54fb6_row13_col0\" class=\"data row13 col0\" >0</td>\n",
       "      <td id=\"T_54fb6_row13_col1\" class=\"data row13 col1\" >0.000000</td>\n",
       "    </tr>\n",
       "    <tr>\n",
       "      <th id=\"T_54fb6_level0_row14\" class=\"row_heading level0 row14\" >is_24_7</th>\n",
       "      <td id=\"T_54fb6_row14_col0\" class=\"data row14 col0\" >0</td>\n",
       "      <td id=\"T_54fb6_row14_col1\" class=\"data row14 col1\" >0.000000</td>\n",
       "    </tr>\n",
       "  </tbody>\n",
       "</table>\n"
      ],
      "text/plain": [
       "<pandas.io.formats.style.Styler at 0x7fe0a9505a60>"
      ]
     },
     "execution_count": 101,
     "metadata": {},
     "output_type": "execute_result"
    }
   ],
   "source": [
    "# Визуализируем        \n",
    "tmp = df.copy()           \n",
    "missing = (pd.DataFrame({'Кол-во пропусков': tmp.isnull().sum(), 'Доля пропусков': tmp.isnull().mean().round(4)})\n",
    "           .style.background_gradient(cmap='coolwarm'))\n",
    "missing"
   ]
  },
  {
   "cell_type": "markdown",
   "id": "50d28009",
   "metadata": {},
   "source": [
    "Первые выводы о пропусках:\n",
    "\n",
    "- Как и описывалось выше - все данные из датасета `rest_price.csv` - заполняются пользователями и носит исключительно справочный характер, поэтому пропуски в этих значениях вполне закономерны. Оставим их без изменения.\n",
    "\n",
    "- Небольшое колчичество пропусков в столбце `hours`(6%). Заполним пропуски строкой `неизвестно`\n",
    "- Большое количество пропусков имеет столбец `seats` (около 43%). Возможно это связано с тем, что часть заведений работает только \"на вынос\", например кофейни \"to go\", фастфуд или пекарни/булочные. "
   ]
  },
  {
   "cell_type": "code",
   "execution_count": 14,
   "id": "96e300af",
   "metadata": {},
   "outputs": [
    {
     "data": {
      "text/plain": [
       "array(['кафе', 'ресторан', 'кофейня', 'пиццерия', 'бар,паб',\n",
       "       'быстрое питание', 'булочная', 'столовая'], dtype=object)"
      ]
     },
     "execution_count": 14,
     "metadata": {},
     "output_type": "execute_result"
    }
   ],
   "source": [
    "# Выведем уникальные значения столбца `category`\n",
    "df['category'].unique()"
   ]
  },
  {
   "cell_type": "markdown",
   "id": "421d9394",
   "metadata": {},
   "source": [
    "Проанализируем пропуски столбца `seats`. Для этого создадим новый столбец `is_seats` с бинарным признаком в зависимости от наличия данных. \n",
    "Для этого определим функцию `create_is_na`. "
   ]
  },
  {
   "cell_type": "code",
   "execution_count": 15,
   "id": "48e990d3",
   "metadata": {},
   "outputs": [],
   "source": [
    "# Определяем функцию, которая создаст новый столбец с бинарным признаком в зависимости от наличия данных в другом столбце\n",
    "def create_is_na(x):\n",
    "    \"\"\"\n",
    "    Функция создаёт новый столбец с бинарным признаком, который указывает\n",
    "    на наличие данных в столбце. Функция применяется к столбцу после метода isna()\n",
    "    \"\"\"\n",
    "    if x:\n",
    "        return 0\n",
    "    return 1"
   ]
  },
  {
   "cell_type": "code",
   "execution_count": 16,
   "id": "b0cc0e59",
   "metadata": {},
   "outputs": [],
   "source": [
    "# Применяем функцию и создаем новый столбец\n",
    "df['is_seats'] = df['seats'].isna().apply(create_is_na)"
   ]
  },
  {
   "cell_type": "markdown",
   "id": "567349e7",
   "metadata": {},
   "source": [
    "Сгруппируем данные в разрезе нашей гипотезы по категориям."
   ]
  },
  {
   "cell_type": "code",
   "execution_count": 17,
   "id": "da2bf96f",
   "metadata": {},
   "outputs": [
    {
     "data": {
      "text/plain": [
       "is_seats  category       \n",
       "0         бар,паб             297\n",
       "          булочная            108\n",
       "          быстрое питание     254\n",
       "          кафе               1160\n",
       "          кофейня             662\n",
       "          пиццерия            206\n",
       "          ресторан            773\n",
       "          столовая            151\n",
       "1         бар,паб             468\n",
       "          булочная            148\n",
       "          быстрое питание     349\n",
       "          кафе               1218\n",
       "          кофейня             751\n",
       "          пиццерия            427\n",
       "          ресторан           1270\n",
       "          столовая            164\n",
       "Name: category, dtype: int64"
      ]
     },
     "execution_count": 17,
     "metadata": {},
     "output_type": "execute_result"
    }
   ],
   "source": [
    "# Группируем данные\n",
    "df.groupby(['is_seats','category'])['category'].count()"
   ]
  },
  {
   "cell_type": "markdown",
   "id": "8131454d",
   "metadata": {},
   "source": [
    "Подведем итог.\n",
    "Возможно часть заведений и правда рабоатет исключительно в формате \"на вынос\", но это не является основной причиной пропусков, так как мы можем наблюдать пропуски у таких категорий как \"кафе\" и \"ресторан\", которые явно имеют посадочные места.\n",
    "Оставим пропуски без изменений."
   ]
  },
  {
   "cell_type": "markdown",
   "id": "4574224c",
   "metadata": {},
   "source": [
    "Заименим пропуски в столбцах `hours` на `неизвестно` "
   ]
  },
  {
   "cell_type": "code",
   "execution_count": 18,
   "id": "b1582a24",
   "metadata": {},
   "outputs": [
    {
     "data": {
      "text/plain": [
       "array(['ежедневно, 10:00–22:00',\n",
       "       'пн-чт 11:00–02:00; пт,сб 11:00–05:00; вс 11:00–02:00',\n",
       "       'ежедневно, 09:00–22:00', ...,\n",
       "       'пн-пт 08:30–21:30; сб,вс 09:00–21:30',\n",
       "       'пн-чт 13:00–22:00; пт,сб 13:00–22:30; вс 13:00–22:00',\n",
       "       'пн-сб 10:30–21:30'], dtype=object)"
      ]
     },
     "execution_count": 18,
     "metadata": {},
     "output_type": "execute_result"
    }
   ],
   "source": [
    "# Проверим уникальные значения столбца 'hours'\n",
    "\n",
    "df['hours'].unique()"
   ]
  },
  {
   "cell_type": "code",
   "execution_count": 19,
   "id": "e0192f54",
   "metadata": {},
   "outputs": [],
   "source": [
    "# Заполняем пропуски\n",
    "\n",
    "df['hours'] = df['hours'].fillna('неизвестно')\n",
    "\n"
   ]
  },
  {
   "cell_type": "code",
   "execution_count": 20,
   "id": "06343599",
   "metadata": {},
   "outputs": [
    {
     "data": {
      "text/plain": [
       "id                      0\n",
       "name                    0\n",
       "category                0\n",
       "address                 0\n",
       "district                0\n",
       "hours                   0\n",
       "rating                  0\n",
       "chain                   0\n",
       "seats                3611\n",
       "price                5091\n",
       "avg_bill             4590\n",
       "middle_avg_bill      5257\n",
       "middle_coffee_cup    7871\n",
       "is_seats                0\n",
       "dtype: int64"
      ]
     },
     "execution_count": 20,
     "metadata": {},
     "output_type": "execute_result"
    }
   ],
   "source": [
    "# Проверка\n",
    "df.isna().sum()"
   ]
  },
  {
   "cell_type": "markdown",
   "id": "044155d7",
   "metadata": {},
   "source": [
    "### 2.3 Работа с дубликатами\n",
    "\n",
    "Проверим датафрейм на наличие явных и неявных дубликатов.\n"
   ]
  },
  {
   "cell_type": "code",
   "execution_count": 21,
   "id": "13ca44e8",
   "metadata": {},
   "outputs": [
    {
     "data": {
      "text/plain": [
       "0"
      ]
     },
     "execution_count": 21,
     "metadata": {},
     "output_type": "execute_result"
    }
   ],
   "source": [
    "# Проверяем наличие явных дубликатов\n",
    "df.duplicated().sum()"
   ]
  },
  {
   "cell_type": "markdown",
   "id": "bae8458a",
   "metadata": {},
   "source": [
    "<font color='DarkBlue'><b>Комментарий ревьюера</b></font><br>\n",
    "<font color='DarkGreen'>👌 Хорошо, что проверены явные дубликаты, иногда они сильно искажают анализ.</font>"
   ]
  },
  {
   "cell_type": "code",
   "execution_count": 22,
   "id": "996627c2",
   "metadata": {},
   "outputs": [
    {
     "data": {
      "text/plain": [
       "0"
      ]
     },
     "execution_count": 22,
     "metadata": {},
     "output_type": "execute_result"
    }
   ],
   "source": [
    "# Проверяем наличие дубликатов в ключе\n",
    "df.duplicated(subset='id').sum()"
   ]
  },
  {
   "cell_type": "markdown",
   "id": "25f8a28d",
   "metadata": {},
   "source": [
    "Явных дубликатов не обнаружено.\n",
    "Нормализуем столбцы с текстовыми данными, чтобы минимизировать вероятность неявных дубилкатов."
   ]
  },
  {
   "cell_type": "code",
   "execution_count": 23,
   "id": "810994f3",
   "metadata": {},
   "outputs": [],
   "source": [
    "# Приведем текстовые данные к одному регистру\n",
    "for i in ['name','address','district']:\n",
    "    df[i] = df[i].str.lower()"
   ]
  },
  {
   "cell_type": "code",
   "execution_count": 24,
   "id": "3a9a1e95",
   "metadata": {},
   "outputs": [],
   "source": [
    "# Удалим из текстовых данных лишние пробелы\n",
    "for i in ['name','address','district']:\n",
    "    df[i] = df[i].str.strip()"
   ]
  },
  {
   "cell_type": "code",
   "execution_count": 25,
   "id": "1bc65854",
   "metadata": {},
   "outputs": [
    {
     "data": {
      "text/plain": [
       "4"
      ]
     },
     "execution_count": 25,
     "metadata": {},
     "output_type": "execute_result"
    }
   ],
   "source": [
    "# Проверяем наличие неявных дубликатов\n",
    "\n",
    "df.duplicated(subset=['name','address','district']).sum()"
   ]
  },
  {
   "cell_type": "code",
   "execution_count": 26,
   "id": "00db728c",
   "metadata": {},
   "outputs": [],
   "source": [
    "# Отфильтруем данные от неявных дубликатов\n",
    "df = df[df.duplicated(subset=['name','address','district']) == False]"
   ]
  },
  {
   "cell_type": "code",
   "execution_count": 27,
   "id": "9c41ba88",
   "metadata": {},
   "outputs": [
    {
     "name": "stdout",
     "output_type": "stream",
     "text": [
      "<class 'pandas.core.frame.DataFrame'>\n",
      "Int64Index: 8402 entries, 0 to 8405\n",
      "Data columns (total 14 columns):\n",
      " #   Column             Non-Null Count  Dtype  \n",
      "---  ------             --------------  -----  \n",
      " 0   id                 8402 non-null   object \n",
      " 1   name               8402 non-null   object \n",
      " 2   category           8402 non-null   object \n",
      " 3   address            8402 non-null   object \n",
      " 4   district           8402 non-null   object \n",
      " 5   hours              8402 non-null   object \n",
      " 6   rating             8402 non-null   float64\n",
      " 7   chain              8402 non-null   int64  \n",
      " 8   seats              4792 non-null   float64\n",
      " 9   price              3315 non-null   object \n",
      " 10  avg_bill           3816 non-null   object \n",
      " 11  middle_avg_bill    3149 non-null   float64\n",
      " 12  middle_coffee_cup  535 non-null    float64\n",
      " 13  is_seats           8402 non-null   int64  \n",
      "dtypes: float64(4), int64(2), object(8)\n",
      "memory usage: 984.6+ KB\n"
     ]
    }
   ],
   "source": [
    "# Проверим результат\n",
    "df.info()"
   ]
  },
  {
   "cell_type": "markdown",
   "id": "ac9eeb31",
   "metadata": {},
   "source": [
    "### 2.4\n",
    "Для дальнейшей работы выделим еще один новый столбец - `is_24_7`, обозначащий, работает ли заведение ежедневно и круглосуточно (True) или нет (False). "
   ]
  },
  {
   "cell_type": "code",
   "execution_count": 28,
   "id": "96bff6b8",
   "metadata": {},
   "outputs": [
    {
     "data": {
      "text/plain": [
       "ежедневно, 10:00–22:00                                                  758\n",
       "ежедневно, круглосуточно                                                730\n",
       "неизвестно                                                              535\n",
       "ежедневно, 11:00–23:00                                                  396\n",
       "ежедневно, 10:00–23:00                                                  310\n",
       "                                                                       ... \n",
       "пн,вт 09:00–21:00; ср-пт 09:00–22:00; сб 10:00–22:00; вс 10:00–21:00      1\n",
       "пн-пт 12:00–01:00                                                         1\n",
       "пн-пт 10:30–21:30; сб,вс 10:30–22:30                                      1\n",
       "пн-пт 10:00–20:00; сб 11:00–19:00                                         1\n",
       "пн-сб 10:30–21:30                                                         1\n",
       "Name: hours, Length: 1307, dtype: int64"
      ]
     },
     "execution_count": 28,
     "metadata": {},
     "output_type": "execute_result"
    }
   ],
   "source": [
    "# Проверим уникальные значения серии `hours` и их количество\n",
    "df['hours'].value_counts()"
   ]
  },
  {
   "cell_type": "code",
   "execution_count": 29,
   "id": "7a623978",
   "metadata": {},
   "outputs": [],
   "source": [
    "# Определяем функцию, которая создаст новый столбец с бинарным признаком,\n",
    "# в зависимости от наличия данных в другом столбце\n",
    "def is_24(x):\n",
    "    if x == 'ежедневно, круглосуточно':\n",
    "        return 1\n",
    "    return 0"
   ]
  },
  {
   "cell_type": "code",
   "execution_count": 30,
   "id": "46c376b3",
   "metadata": {},
   "outputs": [],
   "source": [
    "# Добавляем столбец в датафрейм\n",
    "df['is_24_7'] = df['hours'].apply(is_24)"
   ]
  },
  {
   "cell_type": "code",
   "execution_count": 31,
   "id": "55ce5267",
   "metadata": {},
   "outputs": [
    {
     "data": {
      "text/plain": [
       "0    7672\n",
       "1     730\n",
       "Name: is_24_7, dtype: int64"
      ]
     },
     "execution_count": 31,
     "metadata": {},
     "output_type": "execute_result"
    }
   ],
   "source": [
    "# Проверяем \n",
    "df['is_24_7'].value_counts()"
   ]
  },
  {
   "cell_type": "markdown",
   "id": "c8cecf21",
   "metadata": {},
   "source": [
    "Столбец `is_24_7` корректно добавлен."
   ]
  },
  {
   "cell_type": "markdown",
   "id": "db2542e2",
   "metadata": {},
   "source": [
    "<font color='DarkBlue'><b>Комментарий ревьюера</b></font><br>\n",
    "<font color='DarkGreen'>👌 Корректно создан столбец с бинарным признаком ежедневной и круглосуточной работы заведения и других.</font>"
   ]
  },
  {
   "cell_type": "markdown",
   "id": "fcd81426",
   "metadata": {},
   "source": [
    "### 2.5 Итоги предобработки данных"
   ]
  },
  {
   "cell_type": "markdown",
   "id": "7c139991",
   "metadata": {},
   "source": [
    "- Объединили два датасета в единый датафрейм, все столбцы соответствуют своему описанию и названы в едином стиле.\n",
    "- Проеведена работа с пропусками: никакие данные не удалялись, пропуски в столбцах `hours` и `price` заменили на `неизвестно`. Остальные пропуски оставили как есть.\n",
    "- Проведена работа над дубликатами: явныих и неявных дубликатов не обнаружено.\n",
    "- Добавили новый столбец `is_24_7 `, отрадающий признак - работает заведение круглосуточно или нет."
   ]
  },
  {
   "cell_type": "code",
   "execution_count": 32,
   "id": "f8f3bc75",
   "metadata": {},
   "outputs": [
    {
     "name": "stdout",
     "output_type": "stream",
     "text": [
      "<class 'pandas.core.frame.DataFrame'>\n",
      "Int64Index: 8402 entries, 0 to 8405\n",
      "Data columns (total 15 columns):\n",
      " #   Column             Non-Null Count  Dtype  \n",
      "---  ------             --------------  -----  \n",
      " 0   id                 8402 non-null   object \n",
      " 1   name               8402 non-null   object \n",
      " 2   category           8402 non-null   object \n",
      " 3   address            8402 non-null   object \n",
      " 4   district           8402 non-null   object \n",
      " 5   hours              8402 non-null   object \n",
      " 6   rating             8402 non-null   float64\n",
      " 7   chain              8402 non-null   int64  \n",
      " 8   seats              4792 non-null   float64\n",
      " 9   price              3315 non-null   object \n",
      " 10  avg_bill           3816 non-null   object \n",
      " 11  middle_avg_bill    3149 non-null   float64\n",
      " 12  middle_coffee_cup  535 non-null    float64\n",
      " 13  is_seats           8402 non-null   int64  \n",
      " 14  is_24_7            8402 non-null   int64  \n",
      "dtypes: float64(4), int64(3), object(8)\n",
      "memory usage: 1.0+ MB\n"
     ]
    }
   ],
   "source": [
    "df.info()"
   ]
  },
  {
   "cell_type": "markdown",
   "id": "d163fcc0",
   "metadata": {},
   "source": [
    "## 3 Исследовательский анализ данных"
   ]
  },
  {
   "cell_type": "markdown",
   "id": "a9f7ab80",
   "metadata": {},
   "source": [
    "### 3.1 Исследуем рынок заведений в разрезе категорий"
   ]
  },
  {
   "cell_type": "code",
   "execution_count": 33,
   "id": "c4a9fde6",
   "metadata": {},
   "outputs": [],
   "source": [
    "# Сгрупиируем данные по категориям и подсчитаем кол-во данных в каждой категории\n",
    "category_count = df.groupby('category')['id'].count().sort_values(ascending=False)"
   ]
  },
  {
   "cell_type": "code",
   "execution_count": 34,
   "id": "88cdbeaf",
   "metadata": {},
   "outputs": [],
   "source": [
    "# Подсчитаем долю заведений в каждой категории\n",
    "category_percent = df['category'].value_counts(normalize=True)"
   ]
  },
  {
   "cell_type": "code",
   "execution_count": 35,
   "id": "9654b312",
   "metadata": {},
   "outputs": [],
   "source": [
    "# Объединим в один датафрейм\n",
    "category_df = pd.DataFrame( {'Количество': category_count , 'Доля' : category_percent  } )"
   ]
  },
  {
   "cell_type": "code",
   "execution_count": 36,
   "id": "e0c868e8",
   "metadata": {},
   "outputs": [
    {
     "data": {
      "text/html": [
       "<div>\n",
       "<style scoped>\n",
       "    .dataframe tbody tr th:only-of-type {\n",
       "        vertical-align: middle;\n",
       "    }\n",
       "\n",
       "    .dataframe tbody tr th {\n",
       "        vertical-align: top;\n",
       "    }\n",
       "\n",
       "    .dataframe thead th {\n",
       "        text-align: right;\n",
       "    }\n",
       "</style>\n",
       "<table border=\"1\" class=\"dataframe\">\n",
       "  <thead>\n",
       "    <tr style=\"text-align: right;\">\n",
       "      <th></th>\n",
       "      <th>index</th>\n",
       "      <th>Количество</th>\n",
       "      <th>Доля</th>\n",
       "    </tr>\n",
       "  </thead>\n",
       "  <tbody>\n",
       "    <tr>\n",
       "      <th>0</th>\n",
       "      <td>кафе</td>\n",
       "      <td>2376</td>\n",
       "      <td>0.282790</td>\n",
       "    </tr>\n",
       "    <tr>\n",
       "      <th>1</th>\n",
       "      <td>ресторан</td>\n",
       "      <td>2042</td>\n",
       "      <td>0.243037</td>\n",
       "    </tr>\n",
       "    <tr>\n",
       "      <th>2</th>\n",
       "      <td>кофейня</td>\n",
       "      <td>1413</td>\n",
       "      <td>0.168174</td>\n",
       "    </tr>\n",
       "    <tr>\n",
       "      <th>3</th>\n",
       "      <td>бар,паб</td>\n",
       "      <td>764</td>\n",
       "      <td>0.090931</td>\n",
       "    </tr>\n",
       "    <tr>\n",
       "      <th>4</th>\n",
       "      <td>пиццерия</td>\n",
       "      <td>633</td>\n",
       "      <td>0.075339</td>\n",
       "    </tr>\n",
       "    <tr>\n",
       "      <th>5</th>\n",
       "      <td>быстрое питание</td>\n",
       "      <td>603</td>\n",
       "      <td>0.071769</td>\n",
       "    </tr>\n",
       "    <tr>\n",
       "      <th>6</th>\n",
       "      <td>столовая</td>\n",
       "      <td>315</td>\n",
       "      <td>0.037491</td>\n",
       "    </tr>\n",
       "    <tr>\n",
       "      <th>7</th>\n",
       "      <td>булочная</td>\n",
       "      <td>256</td>\n",
       "      <td>0.030469</td>\n",
       "    </tr>\n",
       "  </tbody>\n",
       "</table>\n",
       "</div>"
      ],
      "text/plain": [
       "             index  Количество      Доля\n",
       "0             кафе        2376  0.282790\n",
       "1         ресторан        2042  0.243037\n",
       "2          кофейня        1413  0.168174\n",
       "3          бар,паб         764  0.090931\n",
       "4         пиццерия         633  0.075339\n",
       "5  быстрое питание         603  0.071769\n",
       "6         столовая         315  0.037491\n",
       "7         булочная         256  0.030469"
      ]
     },
     "execution_count": 36,
     "metadata": {},
     "output_type": "execute_result"
    }
   ],
   "source": [
    "category_df.reset_index()"
   ]
  },
  {
   "cell_type": "code",
   "execution_count": 37,
   "id": "176d39bf",
   "metadata": {},
   "outputs": [
    {
     "data": {
      "image/png": "[encoded data removed]",
      "text/plain": [
       "<Figure size 576x432 with 1 Axes>"
      ]
     },
     "metadata": {
      "needs_background": "light"
     },
     "output_type": "display_data"
    }
   ],
   "source": [
    "# Посмтром столбчатую диограмму для визуального анализа\n",
    "category_count.plot(kind='bar',\n",
    "                 figsize=(8,6),\n",
    "                 rot=45,\n",
    "                 xlabel='Категория',\n",
    "                 ylabel='Количество заведений',\n",
    "                 title = 'Популярность заведений в разрезе категории',\n",
    "                 legend=True\n",
    "                  )\n",
    "# Построим линию среднего показателя\n",
    "plt.axhline(category_count.mean(), \n",
    "            color='red',\n",
    "            linestyle='--',\n",
    "            linewidth=1, \n",
    "            label=f'средний показатель на категорию {round(category_count.mean(),4)}')\n",
    "\n",
    "plt.legend()\n",
    "plt.grid()"
   ]
  },
  {
   "cell_type": "markdown",
   "id": "fa790038",
   "metadata": {},
   "source": [
    "Наблюдаем тенденцию: чем ниже предполагаемый категорией уровень сервиса - тем меньше конкуренция в этом сегменте.\n",
    "Данные можно разделить на 4 группы:\n",
    "\n",
    "- Выше всего конкуренция в сегменте кафе и ресторанов - более 2000 заведений в каждой категории.\n",
    "- Вторая по популярности категория заведений - кофейни - 1413 заведений. Данная категория - последняя, которая переваливает за средний показатель заведений в категории.\n",
    "- Затем группа: бар/паб, пиццерии и фастфуд - от 600 до 760 заведений\n",
    "- В самую непопулярную группу вошли столовые и булочные - меньше 315 заведений.\n"
   ]
  },
  {
   "cell_type": "markdown",
   "id": "a6fb12c1",
   "metadata": {},
   "source": [
    "### 3.2 Исследуем рынок в разрезе районов Москвы"
   ]
  },
  {
   "cell_type": "code",
   "execution_count": 38,
   "id": "c997fae4",
   "metadata": {},
   "outputs": [],
   "source": [
    "# Сгруппируем данные по районам и подсчитаем количество заведений\n",
    "district_df = df.groupby('district')['id'].count().sort_values(ascending=True)"
   ]
  },
  {
   "cell_type": "code",
   "execution_count": 39,
   "id": "79080ba7",
   "metadata": {},
   "outputs": [
    {
     "data": {
      "text/html": [
       "<div>\n",
       "<style scoped>\n",
       "    .dataframe tbody tr th:only-of-type {\n",
       "        vertical-align: middle;\n",
       "    }\n",
       "\n",
       "    .dataframe tbody tr th {\n",
       "        vertical-align: top;\n",
       "    }\n",
       "\n",
       "    .dataframe thead th {\n",
       "        text-align: right;\n",
       "    }\n",
       "</style>\n",
       "<table border=\"1\" class=\"dataframe\">\n",
       "  <thead>\n",
       "    <tr style=\"text-align: right;\">\n",
       "      <th></th>\n",
       "      <th>district</th>\n",
       "      <th>id</th>\n",
       "    </tr>\n",
       "  </thead>\n",
       "  <tbody>\n",
       "    <tr>\n",
       "      <th>0</th>\n",
       "      <td>северо-западный административный округ</td>\n",
       "      <td>409</td>\n",
       "    </tr>\n",
       "    <tr>\n",
       "      <th>1</th>\n",
       "      <td>юго-западный административный округ</td>\n",
       "      <td>709</td>\n",
       "    </tr>\n",
       "    <tr>\n",
       "      <th>2</th>\n",
       "      <td>юго-восточный административный округ</td>\n",
       "      <td>714</td>\n",
       "    </tr>\n",
       "    <tr>\n",
       "      <th>3</th>\n",
       "      <td>восточный административный округ</td>\n",
       "      <td>798</td>\n",
       "    </tr>\n",
       "    <tr>\n",
       "      <th>4</th>\n",
       "      <td>западный административный округ</td>\n",
       "      <td>850</td>\n",
       "    </tr>\n",
       "    <tr>\n",
       "      <th>5</th>\n",
       "      <td>северо-восточный административный округ</td>\n",
       "      <td>890</td>\n",
       "    </tr>\n",
       "    <tr>\n",
       "      <th>6</th>\n",
       "      <td>южный административный округ</td>\n",
       "      <td>892</td>\n",
       "    </tr>\n",
       "    <tr>\n",
       "      <th>7</th>\n",
       "      <td>северный административный округ</td>\n",
       "      <td>898</td>\n",
       "    </tr>\n",
       "    <tr>\n",
       "      <th>8</th>\n",
       "      <td>центральный административный округ</td>\n",
       "      <td>2242</td>\n",
       "    </tr>\n",
       "  </tbody>\n",
       "</table>\n",
       "</div>"
      ],
      "text/plain": [
       "                                  district    id\n",
       "0   северо-западный административный округ   409\n",
       "1      юго-западный административный округ   709\n",
       "2     юго-восточный административный округ   714\n",
       "3         восточный административный округ   798\n",
       "4          западный административный округ   850\n",
       "5  северо-восточный административный округ   890\n",
       "6             южный административный округ   892\n",
       "7          северный административный округ   898\n",
       "8       центральный административный округ  2242"
      ]
     },
     "execution_count": 39,
     "metadata": {},
     "output_type": "execute_result"
    }
   ],
   "source": [
    "district_df.reset_index()"
   ]
  },
  {
   "cell_type": "code",
   "execution_count": 40,
   "id": "93298f4b",
   "metadata": {},
   "outputs": [
    {
     "data": {
      "text/plain": [
       "Text(0, 0.5, 'Район')"
      ]
     },
     "execution_count": 40,
     "metadata": {},
     "output_type": "execute_result"
    },
    {
     "data": {
      "image/png": "[encoded data removed]",
      "text/plain": [
       "<Figure size 720x576 with 1 Axes>"
      ]
     },
     "metadata": {
      "needs_background": "light"
     },
     "output_type": "display_data"
    }
   ],
   "source": [
    "# Посмтром столбчатую диограмму для визуального анализа\n",
    "district_df.plot(kind='barh',\n",
    "                 figsize=(10,8),\n",
    "                 rot=0,\n",
    "                 xlabel='Количество заведений',\n",
    "                 ylabel='Район',\n",
    "                 title = 'Количество заведений в разрезе района',\n",
    "                 legend=True\n",
    "                  )\n",
    "# Построим линию среднего показателя\n",
    "plt.axvline(district_df.mean(),\n",
    "            color='red',\n",
    "            linestyle='--', \n",
    "            linewidth=1, \n",
    "            label=f'средний показатель на район {round(district_df.mean(),4)}')\n",
    "plt.legend()\n",
    "plt.grid()\n",
    "plt.xlabel('Количество заведений')\n",
    "plt.ylabel('Район')"
   ]
  },
  {
   "cell_type": "code",
   "execution_count": 41,
   "id": "9bcf5bf9",
   "metadata": {},
   "outputs": [],
   "source": [
    "# Рассчитаем долю заведений в разрезе района\n",
    "percent_district_df = district_df/df.shape[0]*100"
   ]
  },
  {
   "cell_type": "code",
   "execution_count": 42,
   "id": "e9fdc025",
   "metadata": {},
   "outputs": [
    {
     "data": {
      "text/html": [
       "<div>\n",
       "<style scoped>\n",
       "    .dataframe tbody tr th:only-of-type {\n",
       "        vertical-align: middle;\n",
       "    }\n",
       "\n",
       "    .dataframe tbody tr th {\n",
       "        vertical-align: top;\n",
       "    }\n",
       "\n",
       "    .dataframe thead th {\n",
       "        text-align: right;\n",
       "    }\n",
       "</style>\n",
       "<table border=\"1\" class=\"dataframe\">\n",
       "  <thead>\n",
       "    <tr style=\"text-align: right;\">\n",
       "      <th></th>\n",
       "      <th>district</th>\n",
       "      <th>id</th>\n",
       "    </tr>\n",
       "  </thead>\n",
       "  <tbody>\n",
       "    <tr>\n",
       "      <th>8</th>\n",
       "      <td>центральный административный округ</td>\n",
       "      <td>26.684123</td>\n",
       "    </tr>\n",
       "    <tr>\n",
       "      <th>7</th>\n",
       "      <td>северный административный округ</td>\n",
       "      <td>10.687931</td>\n",
       "    </tr>\n",
       "    <tr>\n",
       "      <th>6</th>\n",
       "      <td>южный административный округ</td>\n",
       "      <td>10.616520</td>\n",
       "    </tr>\n",
       "    <tr>\n",
       "      <th>5</th>\n",
       "      <td>северо-восточный административный округ</td>\n",
       "      <td>10.592716</td>\n",
       "    </tr>\n",
       "    <tr>\n",
       "      <th>4</th>\n",
       "      <td>западный административный округ</td>\n",
       "      <td>10.116639</td>\n",
       "    </tr>\n",
       "    <tr>\n",
       "      <th>3</th>\n",
       "      <td>восточный административный округ</td>\n",
       "      <td>9.497739</td>\n",
       "    </tr>\n",
       "    <tr>\n",
       "      <th>2</th>\n",
       "      <td>юго-восточный административный округ</td>\n",
       "      <td>8.497977</td>\n",
       "    </tr>\n",
       "    <tr>\n",
       "      <th>1</th>\n",
       "      <td>юго-западный административный округ</td>\n",
       "      <td>8.438467</td>\n",
       "    </tr>\n",
       "    <tr>\n",
       "      <th>0</th>\n",
       "      <td>северо-западный административный округ</td>\n",
       "      <td>4.867889</td>\n",
       "    </tr>\n",
       "  </tbody>\n",
       "</table>\n",
       "</div>"
      ],
      "text/plain": [
       "                                  district         id\n",
       "8       центральный административный округ  26.684123\n",
       "7          северный административный округ  10.687931\n",
       "6             южный административный округ  10.616520\n",
       "5  северо-восточный административный округ  10.592716\n",
       "4          западный административный округ  10.116639\n",
       "3         восточный административный округ   9.497739\n",
       "2     юго-восточный административный округ   8.497977\n",
       "1      юго-западный административный округ   8.438467\n",
       "0   северо-западный административный округ   4.867889"
      ]
     },
     "execution_count": 42,
     "metadata": {},
     "output_type": "execute_result"
    }
   ],
   "source": [
    "percent_district_df.reset_index().sort_values(by= 'id',ascending=False)"
   ]
  },
  {
   "cell_type": "markdown",
   "id": "339ca025",
   "metadata": {},
   "source": [
    "- Чуть больше четверти заведений всей Москвы находится в ЦАО, что является самой большой долей относительно других районов.\n",
    "- Процентный диапазон остальных районов составляет ~ от 5% до 10%\n",
    "- Доля заведений в ЦАО - значительно сбивает средний показатель."
   ]
  },
  {
   "cell_type": "markdown",
   "id": "d7ab757d",
   "metadata": {},
   "source": [
    "-----"
   ]
  },
  {
   "cell_type": "markdown",
   "id": "c41d26b7",
   "metadata": {},
   "source": [
    "Рассмотрим подробнее `центральный административный округ` в разрезе категорий заведений."
   ]
  },
  {
   "cell_type": "code",
   "execution_count": 43,
   "id": "64cd0074",
   "metadata": {},
   "outputs": [],
   "source": [
    "# Отфильтруем данные для определенного района\n",
    "cao_df = df[df['district'] == 'центральный административный округ']"
   ]
  },
  {
   "cell_type": "code",
   "execution_count": 44,
   "id": "0db90381",
   "metadata": {},
   "outputs": [],
   "source": [
    "# Группируем по категориям и считаем количество\n",
    "gr_cao_df = cao_df.groupby('category')['id'].count().sort_values(ascending=False)"
   ]
  },
  {
   "cell_type": "code",
   "execution_count": 45,
   "id": "cd27f060",
   "metadata": {},
   "outputs": [],
   "source": [
    "# Собираем датафрейм с количеством и относительным распределением в проценитах\n",
    "cao_table = pd.DataFrame({'Количество': gr_cao_df, 'Процент': round(gr_cao_df/cao_df.shape[0]*100,2) })"
   ]
  },
  {
   "cell_type": "code",
   "execution_count": 46,
   "id": "eb7328aa",
   "metadata": {},
   "outputs": [
    {
     "data": {
      "text/html": [
       "<div>\n",
       "<style scoped>\n",
       "    .dataframe tbody tr th:only-of-type {\n",
       "        vertical-align: middle;\n",
       "    }\n",
       "\n",
       "    .dataframe tbody tr th {\n",
       "        vertical-align: top;\n",
       "    }\n",
       "\n",
       "    .dataframe thead th {\n",
       "        text-align: right;\n",
       "    }\n",
       "</style>\n",
       "<table border=\"1\" class=\"dataframe\">\n",
       "  <thead>\n",
       "    <tr style=\"text-align: right;\">\n",
       "      <th></th>\n",
       "      <th>Количество</th>\n",
       "      <th>Процент</th>\n",
       "    </tr>\n",
       "    <tr>\n",
       "      <th>category</th>\n",
       "      <th></th>\n",
       "      <th></th>\n",
       "    </tr>\n",
       "  </thead>\n",
       "  <tbody>\n",
       "    <tr>\n",
       "      <th>ресторан</th>\n",
       "      <td>670</td>\n",
       "      <td>29.88</td>\n",
       "    </tr>\n",
       "    <tr>\n",
       "      <th>кафе</th>\n",
       "      <td>464</td>\n",
       "      <td>20.70</td>\n",
       "    </tr>\n",
       "    <tr>\n",
       "      <th>кофейня</th>\n",
       "      <td>428</td>\n",
       "      <td>19.09</td>\n",
       "    </tr>\n",
       "    <tr>\n",
       "      <th>бар,паб</th>\n",
       "      <td>364</td>\n",
       "      <td>16.24</td>\n",
       "    </tr>\n",
       "    <tr>\n",
       "      <th>пиццерия</th>\n",
       "      <td>113</td>\n",
       "      <td>5.04</td>\n",
       "    </tr>\n",
       "    <tr>\n",
       "      <th>быстрое питание</th>\n",
       "      <td>87</td>\n",
       "      <td>3.88</td>\n",
       "    </tr>\n",
       "    <tr>\n",
       "      <th>столовая</th>\n",
       "      <td>66</td>\n",
       "      <td>2.94</td>\n",
       "    </tr>\n",
       "    <tr>\n",
       "      <th>булочная</th>\n",
       "      <td>50</td>\n",
       "      <td>2.23</td>\n",
       "    </tr>\n",
       "  </tbody>\n",
       "</table>\n",
       "</div>"
      ],
      "text/plain": [
       "                 Количество  Процент\n",
       "category                            \n",
       "ресторан                670    29.88\n",
       "кафе                    464    20.70\n",
       "кофейня                 428    19.09\n",
       "бар,паб                 364    16.24\n",
       "пиццерия                113     5.04\n",
       "быстрое питание          87     3.88\n",
       "столовая                 66     2.94\n",
       "булочная                 50     2.23"
      ]
     },
     "execution_count": 46,
     "metadata": {},
     "output_type": "execute_result"
    }
   ],
   "source": [
    "cao_table"
   ]
  },
  {
   "cell_type": "code",
   "execution_count": 47,
   "id": "3e4beee7",
   "metadata": {},
   "outputs": [
    {
     "data": {
      "image/png": "[encoded data removed]",
      "text/plain": [
       "<Figure size 576x432 with 1 Axes>"
      ]
     },
     "metadata": {
      "needs_background": "light"
     },
     "output_type": "display_data"
    }
   ],
   "source": [
    "# Посмтром столбчатую диограмму для визуального анализа\n",
    "gr_cao_df.plot(kind='bar',\n",
    "                 figsize=(8,6),\n",
    "                 rot=45,\n",
    "                 xlabel='Категория',\n",
    "                 ylabel='Количество заведений',\n",
    "                 title = 'Количество заведений в ЦАО в разрезе категории',\n",
    "                 legend=True\n",
    "                  )\n",
    "# Построим линию среднего показателя\n",
    "plt.axhline(gr_cao_df.mean(), \n",
    "            color='red',\n",
    "            linestyle='--',\n",
    "            linewidth=1, \n",
    "            label=f'средний показатель на категорию {round(gr_cao_df.mean(),4)}')\n",
    "\n",
    "plt.legend()\n",
    "plt.grid()"
   ]
  },
  {
   "cell_type": "markdown",
   "id": "7bc6aa08",
   "metadata": {},
   "source": [
    "Тенденции количества заведений в ЦАО схожи с общими по Москве:\n",
    "\n",
    "- Рестораны - треть всех заведений ЦАО занимают лидирующую строчку с большим открывом.\n",
    "- Булочные, столовые и фастфуд и пиццерии - в замыкающей группе и имеют сильно ниже среднего заведений в каждой категории.\n",
    "- В центральном округе. в отличии от в целом по Москве, ко второй группе лидеров (кафе и кофейни) присоединяется сегмент `бар/паб`. Последний по поулярности сегмент с показателем выше среднего."
   ]
  },
  {
   "cell_type": "markdown",
   "id": "906c4df6",
   "metadata": {},
   "source": [
    "### 3.3 Исследование соотношения сетевых и несетевых заведений"
   ]
  },
  {
   "cell_type": "code",
   "execution_count": 48,
   "id": "52565369",
   "metadata": {},
   "outputs": [],
   "source": [
    "# Группируем данные\n",
    "chain_df = df.groupby('chain')['id'].count().reset_index()"
   ]
  },
  {
   "cell_type": "code",
   "execution_count": 49,
   "id": "b577e232",
   "metadata": {},
   "outputs": [
    {
     "data": {
      "text/html": [
       "<div>\n",
       "<style scoped>\n",
       "    .dataframe tbody tr th:only-of-type {\n",
       "        vertical-align: middle;\n",
       "    }\n",
       "\n",
       "    .dataframe tbody tr th {\n",
       "        vertical-align: top;\n",
       "    }\n",
       "\n",
       "    .dataframe thead th {\n",
       "        text-align: right;\n",
       "    }\n",
       "</style>\n",
       "<table border=\"1\" class=\"dataframe\">\n",
       "  <thead>\n",
       "    <tr style=\"text-align: right;\">\n",
       "      <th></th>\n",
       "      <th>chain</th>\n",
       "      <th>id</th>\n",
       "    </tr>\n",
       "  </thead>\n",
       "  <tbody>\n",
       "    <tr>\n",
       "      <th>0</th>\n",
       "      <td>0</td>\n",
       "      <td>5199</td>\n",
       "    </tr>\n",
       "    <tr>\n",
       "      <th>1</th>\n",
       "      <td>1</td>\n",
       "      <td>3203</td>\n",
       "    </tr>\n",
       "  </tbody>\n",
       "</table>\n",
       "</div>"
      ],
      "text/plain": [
       "   chain    id\n",
       "0      0  5199\n",
       "1      1  3203"
      ]
     },
     "execution_count": 49,
     "metadata": {},
     "output_type": "execute_result"
    }
   ],
   "source": [
    "chain_df"
   ]
  },
  {
   "cell_type": "code",
   "execution_count": 50,
   "id": "e7440e8b",
   "metadata": {},
   "outputs": [
    {
     "data": {
      "image/png": "[encoded data removed]",
      "text/plain": [
       "<Figure size 576x432 with 1 Axes>"
      ]
     },
     "metadata": {
      "needs_background": "light"
     },
     "output_type": "display_data"
    }
   ],
   "source": [
    "# Построим столбчатую диограмму\n",
    "chain_df.plot(    kind='bar', \n",
    "                  figsize=(8,6),\n",
    "                  title = 'Соотношение сетевых и несетевых заведений',\n",
    "                  rot=0,\n",
    "                  ylabel='Количество заведений',\n",
    "                  xlabel='Несетевой/Сетевой',\n",
    "                  legend=False)\n",
    "plt.grid()"
   ]
  },
  {
   "cell_type": "code",
   "execution_count": 51,
   "id": "15d2803f",
   "metadata": {},
   "outputs": [
    {
     "data": {
      "text/plain": [
       "0    61.878124\n",
       "1    38.121876\n",
       "Name: id, dtype: float64"
      ]
     },
     "execution_count": 51,
     "metadata": {},
     "output_type": "execute_result"
    }
   ],
   "source": [
    "# Подсчитаем доли заведений\n",
    "chain_df['id']/df.shape[0]*100"
   ]
  },
  {
   "cell_type": "markdown",
   "id": "9db294a8",
   "metadata": {},
   "source": [
    "В общей картине, несетевые заведения преобладают над сетевыми в соотоношении ~ 62% / 38%\n",
    "\n",
    "Посмотрим какие категории заведений чаще бывают сетевыми:\n"
   ]
  },
  {
   "cell_type": "code",
   "execution_count": 54,
   "id": "e346c414",
   "metadata": {},
   "outputs": [],
   "source": [
    "# Подсчитаем долю сетевых заведений в каждой категории\n",
    "chain_cat_percent = round(df.groupby('category')['chain'].sum() / df.groupby('category')['id'].count(),2)"
   ]
  },
  {
   "cell_type": "code",
   "execution_count": 55,
   "id": "1f96e8d8",
   "metadata": {},
   "outputs": [],
   "source": [
    "# Отсортируем\n",
    "chain_cat_percent = chain_cat_percent.sort_values(ascending=False)"
   ]
  },
  {
   "cell_type": "code",
   "execution_count": 56,
   "id": "1e27774d",
   "metadata": {},
   "outputs": [
    {
     "data": {
      "image/png": "[encoded data removed]",
      "text/plain": [
       "<Figure size 576x432 with 1 Axes>"
      ]
     },
     "metadata": {
      "needs_background": "light"
     },
     "output_type": "display_data"
    }
   ],
   "source": [
    "# Выводим столбчатую диограмму\n",
    "chain_cat_percent.plot.bar(figsize=(8,6),\n",
    "                      rot=45,\n",
    "                      ylabel='Кол-во заведений',\n",
    "                      xlabel='Категория'\n",
    "                      )\n",
    "# Построим линию среднего показателя\n",
    "plt.axhline(chain_cat_percent.mean(), \n",
    "            color='red',\n",
    "            linestyle='--',\n",
    "            linewidth=1, \n",
    "            label=f'средний показатель на категорию {round(chain_cat_percent.mean(),4)}')\n",
    "plt.legend()\n",
    "plt.grid()"
   ]
  },
  {
   "cell_type": "code",
   "execution_count": 57,
   "id": "c53c22b9",
   "metadata": {},
   "outputs": [
    {
     "data": {
      "text/html": [
       "<div>\n",
       "<style scoped>\n",
       "    .dataframe tbody tr th:only-of-type {\n",
       "        vertical-align: middle;\n",
       "    }\n",
       "\n",
       "    .dataframe tbody tr th {\n",
       "        vertical-align: top;\n",
       "    }\n",
       "\n",
       "    .dataframe thead th {\n",
       "        text-align: right;\n",
       "    }\n",
       "</style>\n",
       "<table border=\"1\" class=\"dataframe\">\n",
       "  <thead>\n",
       "    <tr style=\"text-align: right;\">\n",
       "      <th></th>\n",
       "      <th>category</th>\n",
       "      <th>0</th>\n",
       "    </tr>\n",
       "  </thead>\n",
       "  <tbody>\n",
       "    <tr>\n",
       "      <th>0</th>\n",
       "      <td>булочная</td>\n",
       "      <td>0.61</td>\n",
       "    </tr>\n",
       "    <tr>\n",
       "      <th>1</th>\n",
       "      <td>пиццерия</td>\n",
       "      <td>0.52</td>\n",
       "    </tr>\n",
       "    <tr>\n",
       "      <th>2</th>\n",
       "      <td>кофейня</td>\n",
       "      <td>0.51</td>\n",
       "    </tr>\n",
       "    <tr>\n",
       "      <th>3</th>\n",
       "      <td>быстрое питание</td>\n",
       "      <td>0.38</td>\n",
       "    </tr>\n",
       "    <tr>\n",
       "      <th>4</th>\n",
       "      <td>ресторан</td>\n",
       "      <td>0.36</td>\n",
       "    </tr>\n",
       "    <tr>\n",
       "      <th>5</th>\n",
       "      <td>кафе</td>\n",
       "      <td>0.33</td>\n",
       "    </tr>\n",
       "    <tr>\n",
       "      <th>6</th>\n",
       "      <td>столовая</td>\n",
       "      <td>0.28</td>\n",
       "    </tr>\n",
       "    <tr>\n",
       "      <th>7</th>\n",
       "      <td>бар,паб</td>\n",
       "      <td>0.22</td>\n",
       "    </tr>\n",
       "  </tbody>\n",
       "</table>\n",
       "</div>"
      ],
      "text/plain": [
       "          category     0\n",
       "0         булочная  0.61\n",
       "1         пиццерия  0.52\n",
       "2          кофейня  0.51\n",
       "3  быстрое питание  0.38\n",
       "4         ресторан  0.36\n",
       "5             кафе  0.33\n",
       "6         столовая  0.28\n",
       "7          бар,паб  0.22"
      ]
     },
     "execution_count": 57,
     "metadata": {},
     "output_type": "execute_result"
    }
   ],
   "source": [
    "chain_cat_percent.reset_index()"
   ]
  },
  {
   "cell_type": "markdown",
   "id": "a74947ca",
   "metadata": {},
   "source": [
    "</font><font color='Blue'><b>Комментарий студента</b></font><br>\n",
    "</font><font color='Blue'>Выше провел фильтрацию и отредактировал визуализацию. Ниже исправил выводы."
   ]
  },
  {
   "cell_type": "markdown",
   "id": "6f54697a",
   "metadata": {},
   "source": [
    "- Больше всего сетевых заведений наблюдается в категориях `булочная`, `пиццерия` и `кофейня`. Больше половины заведений этих категорий являются сетевыми.\n",
    "- `бар,паб` - категория с самым низким процентом сетевых заведений - лишь 22№\n",
    "- Показатели остальных категорий в районе трети (28-38%)"
   ]
  },
  {
   "cell_type": "markdown",
   "id": "1fe4ccbb",
   "metadata": {},
   "source": [
    "### 3.4 Исследование количества посадочных мест в заведениях\n",
    "    "
   ]
  },
  {
   "cell_type": "markdown",
   "id": "b24efec2",
   "metadata": {},
   "source": [
    "Посмтриом гистограмму и диограмму размаха для серии `seats` и исследуем стандартные показатели.\n",
    "Затем изучим наиболее типичное количество посадочных мест для каждой категории."
   ]
  },
  {
   "cell_type": "code",
   "execution_count": 58,
   "id": "caa83dbe",
   "metadata": {},
   "outputs": [
    {
     "data": {
      "text/plain": [
       "count    4792.000000\n",
       "mean      108.361436\n",
       "std       122.841130\n",
       "min         0.000000\n",
       "25%        40.000000\n",
       "50%        75.000000\n",
       "75%       140.000000\n",
       "max      1288.000000\n",
       "Name: seats, dtype: float64"
      ]
     },
     "execution_count": 58,
     "metadata": {},
     "output_type": "execute_result"
    }
   ],
   "source": [
    "# Исследуем стандартные показатели\n",
    "df['seats'].describe()"
   ]
  },
  {
   "cell_type": "markdown",
   "id": "a896d41a",
   "metadata": {},
   "source": [
    "- Среднее значение выше медианы. Скорее всего гистограмма будет правоасимметричная.\n",
    "- Данные явно имеют аномальные значения - на это указывает максимальное значение и показатели процентилей."
   ]
  },
  {
   "cell_type": "code",
   "execution_count": 59,
   "id": "4046999d",
   "metadata": {},
   "outputs": [
    {
     "data": {
      "text/plain": [
       "0    40.0\n",
       "dtype: float64"
      ]
     },
     "execution_count": 59,
     "metadata": {},
     "output_type": "execute_result"
    }
   ],
   "source": [
    "# Исследуем моду\n",
    "df['seats'].mode()"
   ]
  },
  {
   "cell_type": "code",
   "execution_count": 60,
   "id": "2300eef3",
   "metadata": {},
   "outputs": [
    {
     "data": {
      "text/plain": [
       "Text(0, 0.5, 'Частота')"
      ]
     },
     "execution_count": 60,
     "metadata": {},
     "output_type": "execute_result"
    },
    {
     "data": {
      "image/png": "[encoded data removed]",
      "text/plain": [
       "<Figure size 576x432 with 1 Axes>"
      ]
     },
     "metadata": {
      "needs_background": "light"
     },
     "output_type": "display_data"
    }
   ],
   "source": [
    "# Постриом гистограмму для серии `seats`\n",
    "\n",
    "df['seats'].plot(kind='hist',\n",
    "                 figsize=(8,6),\n",
    "                 edgecolor='black',\n",
    "                 bins=25,\n",
    "                 title='Гистограмма посадочных мест в заведениях',\n",
    "                 xlabel='Кол-во посадочных мест в заведениях',\n",
    "                 ylabel='Частота'     )\n",
    "plt.grid()\n",
    "# Добавляю названия осей\n",
    "plt.xlabel('Кол-во посадочных мест в заведениях')\n",
    "plt.ylabel('Частота')"
   ]
  },
  {
   "cell_type": "code",
   "execution_count": 61,
   "id": "81bb0e0a",
   "metadata": {},
   "outputs": [
    {
     "data": {
      "image/png": "[encoded data removed]",
      "text/plain": [
       "<Figure size 576x432 with 1 Axes>"
      ]
     },
     "metadata": {
      "needs_background": "light"
     },
     "output_type": "display_data"
    }
   ],
   "source": [
    "# Комментарий ревьюера 2\n",
    "\n",
    "df['seats'].plot(kind='hist',\n",
    "                 figsize=(8,6),\n",
    "                 edgecolor='black',\n",
    "                 bins=25)\n",
    "plt.grid()              \n",
    "plt.title('Гистограмма посадочных мест в заведениях')\n",
    "plt.xlabel('Кол-во посадочных мест в заведениях')\n",
    "plt.ylabel('Частота') \n",
    "plt.show()"
   ]
  },
  {
   "cell_type": "markdown",
   "id": "4c8b99db",
   "metadata": {},
   "source": [
    "- Наблюдаем гистограмму положительной скошенности.\n",
    "- Значительно большое количество значений находится в диапазоне от 0 до 100 посадочных мест"
   ]
  },
  {
   "cell_type": "code",
   "execution_count": 62,
   "id": "37409046",
   "metadata": {},
   "outputs": [
    {
     "data": {
      "text/plain": [
       "Text(0.5, 0, 'Количество посадочных мест')"
      ]
     },
     "execution_count": 62,
     "metadata": {},
     "output_type": "execute_result"
    },
    {
     "data": {
      "image/png": "[encoded data removed]",
      "text/plain": [
       "<Figure size 576x432 with 1 Axes>"
      ]
     },
     "metadata": {
      "needs_background": "light"
     },
     "output_type": "display_data"
    }
   ],
   "source": [
    "# Построим диограмму размаха для серии `seats`\n",
    "df.boxplot(column='seats', vert=False, figsize=(8,6))\n",
    "plt.title('Диограмма размаха посадочных мест в заведениях')\n",
    "plt.xlabel('Количество посадочных мест')    # Подписал ось Х\n"
   ]
  },
  {
   "cell_type": "markdown",
   "id": "07d9a251",
   "metadata": {},
   "source": [
    "- Наблюдаем большой хвост с правой стороны. \n",
    "- Некоторые значения из выбросов не выглядат правдиво.\n",
    "- Стоит проанализировать большие значения. Возможно придется отфильтровать данные."
   ]
  },
  {
   "cell_type": "code",
   "execution_count": 63,
   "id": "892ee115",
   "metadata": {},
   "outputs": [
    {
     "data": {
      "text/plain": [
       "40.0     253\n",
       "100.0    213\n",
       "60.0     175\n",
       "50.0     168\n",
       "80.0     160\n",
       "        ... \n",
       "161.0      1\n",
       "430.0      1\n",
       "131.0      1\n",
       "760.0      1\n",
       "305.0      1\n",
       "Name: seats, Length: 229, dtype: int64"
      ]
     },
     "execution_count": 63,
     "metadata": {},
     "output_type": "execute_result"
    }
   ],
   "source": [
    "df['seats'].value_counts()"
   ]
  },
  {
   "cell_type": "markdown",
   "id": "6df6823b",
   "metadata": {},
   "source": [
    "Найдем типичное количество посадочных мест для каждой категории"
   ]
  },
  {
   "cell_type": "code",
   "execution_count": 66,
   "id": "cff9b40b",
   "metadata": {},
   "outputs": [],
   "source": [
    "# Cгруппируем данные по категориям и найдем медиану\n",
    "category_seats_df = df.groupby('category')['seats'].median().sort_values(ascending=False).reset_index()"
   ]
  },
  {
   "cell_type": "code",
   "execution_count": 67,
   "id": "dc36b32c",
   "metadata": {},
   "outputs": [
    {
     "data": {
      "text/html": [
       "<div>\n",
       "<style scoped>\n",
       "    .dataframe tbody tr th:only-of-type {\n",
       "        vertical-align: middle;\n",
       "    }\n",
       "\n",
       "    .dataframe tbody tr th {\n",
       "        vertical-align: top;\n",
       "    }\n",
       "\n",
       "    .dataframe thead th {\n",
       "        text-align: right;\n",
       "    }\n",
       "</style>\n",
       "<table border=\"1\" class=\"dataframe\">\n",
       "  <thead>\n",
       "    <tr style=\"text-align: right;\">\n",
       "      <th></th>\n",
       "      <th>category</th>\n",
       "      <th>seats</th>\n",
       "    </tr>\n",
       "  </thead>\n",
       "  <tbody>\n",
       "    <tr>\n",
       "      <th>0</th>\n",
       "      <td>ресторан</td>\n",
       "      <td>86.0</td>\n",
       "    </tr>\n",
       "    <tr>\n",
       "      <th>1</th>\n",
       "      <td>бар,паб</td>\n",
       "      <td>82.0</td>\n",
       "    </tr>\n",
       "    <tr>\n",
       "      <th>2</th>\n",
       "      <td>кофейня</td>\n",
       "      <td>80.0</td>\n",
       "    </tr>\n",
       "    <tr>\n",
       "      <th>3</th>\n",
       "      <td>столовая</td>\n",
       "      <td>75.5</td>\n",
       "    </tr>\n",
       "    <tr>\n",
       "      <th>4</th>\n",
       "      <td>быстрое питание</td>\n",
       "      <td>65.0</td>\n",
       "    </tr>\n",
       "    <tr>\n",
       "      <th>5</th>\n",
       "      <td>кафе</td>\n",
       "      <td>60.0</td>\n",
       "    </tr>\n",
       "    <tr>\n",
       "      <th>6</th>\n",
       "      <td>пиццерия</td>\n",
       "      <td>55.0</td>\n",
       "    </tr>\n",
       "    <tr>\n",
       "      <th>7</th>\n",
       "      <td>булочная</td>\n",
       "      <td>50.0</td>\n",
       "    </tr>\n",
       "  </tbody>\n",
       "</table>\n",
       "</div>"
      ],
      "text/plain": [
       "          category  seats\n",
       "0         ресторан   86.0\n",
       "1          бар,паб   82.0\n",
       "2          кофейня   80.0\n",
       "3         столовая   75.5\n",
       "4  быстрое питание   65.0\n",
       "5             кафе   60.0\n",
       "6         пиццерия   55.0\n",
       "7         булочная   50.0"
      ]
     },
     "execution_count": 67,
     "metadata": {},
     "output_type": "execute_result"
    }
   ],
   "source": [
    "category_seats_df"
   ]
  },
  {
   "cell_type": "code",
   "execution_count": 68,
   "id": "37b9cfc9",
   "metadata": {},
   "outputs": [
    {
     "data": {
      "image/png": "[encoded data removed]",
      "text/plain": [
       "<Figure size 576x432 with 1 Axes>"
      ]
     },
     "metadata": {
      "needs_background": "light"
     },
     "output_type": "display_data"
    }
   ],
   "source": [
    "# Визуализируем полученные данные\n",
    "category_seats_df.plot(kind='bar',\n",
    "                       x='category',\n",
    "                       y='seats',\n",
    "                       rot=45,\n",
    "                       figsize=(8,6),\n",
    "                       title='Типичное количество посадочных мест для заведений',\n",
    "                       ylabel='Количество мест',\n",
    "                       xlabel='Категория',\n",
    "                       legend=False)\n",
    "plt.grid()                    "
   ]
  },
  {
   "cell_type": "code",
   "execution_count": 102,
   "id": "922ff9ae",
   "metadata": {},
   "outputs": [
    {
     "data": {
      "image/png": "[encoded data removed]",
      "text/plain": [
       "<Figure size 720x432 with 1 Axes>"
      ]
     },
     "metadata": {
      "needs_background": "light"
     },
     "output_type": "display_data"
    }
   ],
   "source": [
    "# Визуализируем распределение посадочных мест в зависимости от категории\n",
    "tmp = df.copy()  # Создаем копию датасета, что бы не работать с исходным\n",
    "\n",
    "# Вычисление медианы для каждой категории\n",
    "medians = tmp.groupby('category')['seats'].median().sort_values(ascending=False)\n",
    "\n",
    "# Сортировка по медиане\n",
    "sorted_categories = medians.index\n",
    "tmp['category'] = pd.Categorical(tmp['category'], categories=sorted_categories, ordered=True)\n",
    "\n",
    "tmp.boxplot(column='seats', \n",
    "             by='category', \n",
    "             grid=True,       # Выводим сетку на диаграмму\n",
    "             showmeans=True,  # Зеленый треугольники показывают среднее значение  \n",
    "             figsize=(10, 6))\n",
    "\n",
    "# Добавление заголовка и меток осей\n",
    "plt.title('Распределение посадочных мест в зависимости от категории')\n",
    "plt.xlabel('Название категории заведения')\n",
    "plt.ylabel('Количество посадочных мест')\n",
    "\n",
    "plt.xticks(rotation = 30)  #  Поворачиваем метки на оси Х, что бы они не сливались \n",
    "plt.ylim(0,330)            # Ограничиваем вывод для того, чтобы боксплоты были крупными, \n",
    "                           # если убрать, то будут видны все выбросы\n",
    "plt.suptitle('')           # Удаление метки \"seats\" с оси X\n",
    "plt.show()                 # Отображение диаграммы"
   ]
  },
  {
   "cell_type": "markdown",
   "id": "bf1b70d7",
   "metadata": {},
   "source": [
    "Подведем итоги: \n",
    "\n",
    "- Приблизительно для 43% заведений данные о количестве посадочных мест отсутсвуют.\n",
    "- Данные о количестве посадочных мест имеют положительную скошенность в гистограмме, а диограмма размаха имеет большой правый хвост.\n",
    "- Выбросы оставили без изменений. Так как часть заведений может распологаться на территории спортивно-концертных комплексов и фуд-кортов.\n",
    "- Типичные количества посадочных мест в разерезе категорий разнятся. \n"
   ]
  },
  {
   "cell_type": "markdown",
   "id": "ec0d5dcb",
   "metadata": {},
   "source": [
    "### 3.5 Исследование рейтингов заведений"
   ]
  },
  {
   "cell_type": "markdown",
   "id": "7637def7",
   "metadata": {},
   "source": [
    "Изучим данные о рейтингах заведений в целом и в разрезе категорий заведений."
   ]
  },
  {
   "cell_type": "code",
   "execution_count": 70,
   "id": "280d066a",
   "metadata": {},
   "outputs": [
    {
     "data": {
      "text/plain": [
       "array([5. , 4.5, 4.6, 4.4, 4.7, 4.8, 4.3, 4.9, 4.2, 4.1, 4. , 3.8, 3.9,\n",
       "       3.7, 3.6, 2.8, 2.7, 3.1, 1.5, 2. , 1.4, 3.3, 3.5, 3.2, 2.9, 3. ,\n",
       "       3.4, 2.3, 2.2, 2.5, 2.6, 1.7, 1. , 1.1, 2.4, 1.3, 1.2, 2.1, 1.8,\n",
       "       1.9, 1.6])"
      ]
     },
     "execution_count": 70,
     "metadata": {},
     "output_type": "execute_result"
    }
   ],
   "source": [
    "# Посмотрим уникальные значения\n",
    "df['rating'].unique()"
   ]
  },
  {
   "cell_type": "code",
   "execution_count": 71,
   "id": "88465955",
   "metadata": {},
   "outputs": [
    {
     "data": {
      "text/plain": [
       "Text(0, 0.5, 'Частота')"
      ]
     },
     "execution_count": 71,
     "metadata": {},
     "output_type": "execute_result"
    },
    {
     "data": {
      "image/png": "[encoded data removed]",
      "text/plain": [
       "<Figure size 576x432 with 1 Axes>"
      ]
     },
     "metadata": {
      "needs_background": "light"
     },
     "output_type": "display_data"
    }
   ],
   "source": [
    "# Построим гистограмму\n",
    "df['rating'].plot.hist(figsize=(8,6),\n",
    "                       bins=20,\n",
    "                      #xlabel='Rating' \n",
    "                       title='Гистограмма рейтингов заведений',\n",
    "                       xlabel='Показатель рейтинга',\n",
    "                       ylabel='Частота')\n",
    "plt.grid()\n",
    "plt.xlabel('Показатель рейтинга') # Добавляем название осей\n",
    "plt.ylabel('Частота')"
   ]
  },
  {
   "cell_type": "code",
   "execution_count": 72,
   "id": "f25f3b6d",
   "metadata": {},
   "outputs": [
    {
     "data": {
      "text/plain": [
       "count    8402.000000\n",
       "mean        4.230017\n",
       "std         0.470320\n",
       "min         1.000000\n",
       "25%         4.100000\n",
       "50%         4.300000\n",
       "75%         4.400000\n",
       "max         5.000000\n",
       "Name: rating, dtype: float64"
      ]
     },
     "execution_count": 72,
     "metadata": {},
     "output_type": "execute_result"
    }
   ],
   "source": [
    "# Исследуем стандартные показатели\n",
    "df['rating'].describe()"
   ]
  },
  {
   "cell_type": "markdown",
   "id": "b15a4320",
   "metadata": {},
   "source": [
    "- Наблюдаем достаточно ровную гистограмму. Небольшой левый хвост, что говорит о том, что предельно низкие оценки заведениям ставят очень редко. \n",
    "- Медиана практически совпадает со средним значением, что говорит об отсутсвии большого количества выбросов и аномальных значений."
   ]
  },
  {
   "cell_type": "markdown",
   "id": "b81aaa82",
   "metadata": {},
   "source": [
    "-----"
   ]
  },
  {
   "cell_type": "markdown",
   "id": "e3b759ac",
   "metadata": {},
   "source": [
    "Рассотрим средние показатели рейтингов в разрезе категорий:"
   ]
  },
  {
   "cell_type": "code",
   "execution_count": 73,
   "id": "c7bfad54",
   "metadata": {},
   "outputs": [],
   "source": [
    "# Сгруппируем данные с помощью сводной таблицы\n",
    "pivot_rating = pd.pivot_table(df, index='category', values='rating',aggfunc='mean').sort_values(by='rating',ascending=False)"
   ]
  },
  {
   "cell_type": "code",
   "execution_count": 74,
   "id": "8106c85c",
   "metadata": {},
   "outputs": [
    {
     "data": {
      "text/html": [
       "<div>\n",
       "<style scoped>\n",
       "    .dataframe tbody tr th:only-of-type {\n",
       "        vertical-align: middle;\n",
       "    }\n",
       "\n",
       "    .dataframe tbody tr th {\n",
       "        vertical-align: top;\n",
       "    }\n",
       "\n",
       "    .dataframe thead th {\n",
       "        text-align: right;\n",
       "    }\n",
       "</style>\n",
       "<table border=\"1\" class=\"dataframe\">\n",
       "  <thead>\n",
       "    <tr style=\"text-align: right;\">\n",
       "      <th></th>\n",
       "      <th>rating</th>\n",
       "    </tr>\n",
       "    <tr>\n",
       "      <th>category</th>\n",
       "      <th></th>\n",
       "    </tr>\n",
       "  </thead>\n",
       "  <tbody>\n",
       "    <tr>\n",
       "      <th>бар,паб</th>\n",
       "      <td>4.387696</td>\n",
       "    </tr>\n",
       "    <tr>\n",
       "      <th>пиццерия</th>\n",
       "      <td>4.301264</td>\n",
       "    </tr>\n",
       "    <tr>\n",
       "      <th>ресторан</th>\n",
       "      <td>4.290402</td>\n",
       "    </tr>\n",
       "    <tr>\n",
       "      <th>кофейня</th>\n",
       "      <td>4.277282</td>\n",
       "    </tr>\n",
       "    <tr>\n",
       "      <th>булочная</th>\n",
       "      <td>4.268359</td>\n",
       "    </tr>\n",
       "    <tr>\n",
       "      <th>столовая</th>\n",
       "      <td>4.211429</td>\n",
       "    </tr>\n",
       "    <tr>\n",
       "      <th>кафе</th>\n",
       "      <td>4.124285</td>\n",
       "    </tr>\n",
       "    <tr>\n",
       "      <th>быстрое питание</th>\n",
       "      <td>4.050249</td>\n",
       "    </tr>\n",
       "  </tbody>\n",
       "</table>\n",
       "</div>"
      ],
      "text/plain": [
       "                   rating\n",
       "category                 \n",
       "бар,паб          4.387696\n",
       "пиццерия         4.301264\n",
       "ресторан         4.290402\n",
       "кофейня          4.277282\n",
       "булочная         4.268359\n",
       "столовая         4.211429\n",
       "кафе             4.124285\n",
       "быстрое питание  4.050249"
      ]
     },
     "execution_count": 74,
     "metadata": {},
     "output_type": "execute_result"
    }
   ],
   "source": [
    "pivot_rating"
   ]
  },
  {
   "cell_type": "code",
   "execution_count": 75,
   "id": "b2a29358",
   "metadata": {},
   "outputs": [],
   "source": [
    "# Исследуем вариации средних рейтингов по категориям\n",
    "category_rating = df.groupby('category')['rating'].describe().sort_values(by='mean',ascending=False)"
   ]
  },
  {
   "cell_type": "code",
   "execution_count": 76,
   "id": "234cdb1a",
   "metadata": {},
   "outputs": [
    {
     "data": {
      "text/html": [
       "<div>\n",
       "<style scoped>\n",
       "    .dataframe tbody tr th:only-of-type {\n",
       "        vertical-align: middle;\n",
       "    }\n",
       "\n",
       "    .dataframe tbody tr th {\n",
       "        vertical-align: top;\n",
       "    }\n",
       "\n",
       "    .dataframe thead th {\n",
       "        text-align: right;\n",
       "    }\n",
       "</style>\n",
       "<table border=\"1\" class=\"dataframe\">\n",
       "  <thead>\n",
       "    <tr style=\"text-align: right;\">\n",
       "      <th></th>\n",
       "      <th>count</th>\n",
       "      <th>mean</th>\n",
       "      <th>std</th>\n",
       "      <th>min</th>\n",
       "      <th>25%</th>\n",
       "      <th>50%</th>\n",
       "      <th>75%</th>\n",
       "      <th>max</th>\n",
       "    </tr>\n",
       "    <tr>\n",
       "      <th>category</th>\n",
       "      <th></th>\n",
       "      <th></th>\n",
       "      <th></th>\n",
       "      <th></th>\n",
       "      <th></th>\n",
       "      <th></th>\n",
       "      <th></th>\n",
       "      <th></th>\n",
       "    </tr>\n",
       "  </thead>\n",
       "  <tbody>\n",
       "    <tr>\n",
       "      <th>бар,паб</th>\n",
       "      <td>764.0</td>\n",
       "      <td>4.387696</td>\n",
       "      <td>0.380392</td>\n",
       "      <td>1.1</td>\n",
       "      <td>4.3</td>\n",
       "      <td>4.4</td>\n",
       "      <td>4.6</td>\n",
       "      <td>5.0</td>\n",
       "    </tr>\n",
       "    <tr>\n",
       "      <th>пиццерия</th>\n",
       "      <td>633.0</td>\n",
       "      <td>4.301264</td>\n",
       "      <td>0.336162</td>\n",
       "      <td>1.0</td>\n",
       "      <td>4.2</td>\n",
       "      <td>4.3</td>\n",
       "      <td>4.4</td>\n",
       "      <td>5.0</td>\n",
       "    </tr>\n",
       "    <tr>\n",
       "      <th>ресторан</th>\n",
       "      <td>2042.0</td>\n",
       "      <td>4.290402</td>\n",
       "      <td>0.413143</td>\n",
       "      <td>1.0</td>\n",
       "      <td>4.2</td>\n",
       "      <td>4.3</td>\n",
       "      <td>4.5</td>\n",
       "      <td>5.0</td>\n",
       "    </tr>\n",
       "    <tr>\n",
       "      <th>кофейня</th>\n",
       "      <td>1413.0</td>\n",
       "      <td>4.277282</td>\n",
       "      <td>0.372250</td>\n",
       "      <td>1.4</td>\n",
       "      <td>4.1</td>\n",
       "      <td>4.3</td>\n",
       "      <td>4.4</td>\n",
       "      <td>5.0</td>\n",
       "    </tr>\n",
       "    <tr>\n",
       "      <th>булочная</th>\n",
       "      <td>256.0</td>\n",
       "      <td>4.268359</td>\n",
       "      <td>0.386303</td>\n",
       "      <td>1.3</td>\n",
       "      <td>4.2</td>\n",
       "      <td>4.3</td>\n",
       "      <td>4.4</td>\n",
       "      <td>5.0</td>\n",
       "    </tr>\n",
       "    <tr>\n",
       "      <th>столовая</th>\n",
       "      <td>315.0</td>\n",
       "      <td>4.211429</td>\n",
       "      <td>0.454205</td>\n",
       "      <td>1.0</td>\n",
       "      <td>4.1</td>\n",
       "      <td>4.3</td>\n",
       "      <td>4.4</td>\n",
       "      <td>5.0</td>\n",
       "    </tr>\n",
       "    <tr>\n",
       "      <th>кафе</th>\n",
       "      <td>2376.0</td>\n",
       "      <td>4.124285</td>\n",
       "      <td>0.566001</td>\n",
       "      <td>1.0</td>\n",
       "      <td>4.0</td>\n",
       "      <td>4.2</td>\n",
       "      <td>4.4</td>\n",
       "      <td>5.0</td>\n",
       "    </tr>\n",
       "    <tr>\n",
       "      <th>быстрое питание</th>\n",
       "      <td>603.0</td>\n",
       "      <td>4.050249</td>\n",
       "      <td>0.560949</td>\n",
       "      <td>1.1</td>\n",
       "      <td>3.9</td>\n",
       "      <td>4.2</td>\n",
       "      <td>4.3</td>\n",
       "      <td>5.0</td>\n",
       "    </tr>\n",
       "  </tbody>\n",
       "</table>\n",
       "</div>"
      ],
      "text/plain": [
       "                  count      mean       std  min  25%  50%  75%  max\n",
       "category                                                            \n",
       "бар,паб           764.0  4.387696  0.380392  1.1  4.3  4.4  4.6  5.0\n",
       "пиццерия          633.0  4.301264  0.336162  1.0  4.2  4.3  4.4  5.0\n",
       "ресторан         2042.0  4.290402  0.413143  1.0  4.2  4.3  4.5  5.0\n",
       "кофейня          1413.0  4.277282  0.372250  1.4  4.1  4.3  4.4  5.0\n",
       "булочная          256.0  4.268359  0.386303  1.3  4.2  4.3  4.4  5.0\n",
       "столовая          315.0  4.211429  0.454205  1.0  4.1  4.3  4.4  5.0\n",
       "кафе             2376.0  4.124285  0.566001  1.0  4.0  4.2  4.4  5.0\n",
       "быстрое питание   603.0  4.050249  0.560949  1.1  3.9  4.2  4.3  5.0"
      ]
     },
     "execution_count": 76,
     "metadata": {},
     "output_type": "execute_result"
    }
   ],
   "source": [
    "category_rating"
   ]
  },
  {
   "cell_type": "code",
   "execution_count": 77,
   "id": "f767b4f3",
   "metadata": {},
   "outputs": [
    {
     "data": {
      "image/png": "[encoded data removed]",
      "text/plain": [
       "<Figure size 576x432 with 1 Axes>"
      ]
     },
     "metadata": {
      "needs_background": "light"
     },
     "output_type": "display_data"
    }
   ],
   "source": [
    "# Визуализируем результат\n",
    "pivot_rating.plot(kind='bar',\n",
    "                  figsize=(8,6),\n",
    "                  title='Средние рейтинги категорий заведений',\n",
    "                  xlabel='Категория',\n",
    "                  ylabel='Средний рейтинг',\n",
    "                  rot=45,\n",
    "                  legend=False\n",
    "                  )\n",
    "\n",
    "plt.grid()"
   ]
  },
  {
   "cell_type": "markdown",
   "id": "98245127",
   "metadata": {},
   "source": [
    "- Показатели средний значений рейтинга по категориям достаточно равные. Размах между максимальным и минимальным значением состовляет лишь 0.3 и все близки к средней оценке вне категорий. \n",
    "- Имея пятибальную шкалу - средние оценки для каждой категории хорошие - выше 4. Что говорит о высокой лояльности пользователей сервиса.\n",
    "- Категрия `бар,паб` имеет наивысшую среднюю оценку - `4,38`, а вот фастфуд - самую низкую - `4.05.\n",
    "- `Кафе` будучи самой популярной категорией в Москве - имеет второй худший средний рейтинг  - `4,12`\n",
    " "
   ]
  },
  {
   "cell_type": "markdown",
   "id": "508c7275",
   "metadata": {},
   "source": [
    "### 3.5 Изучение зависимости рейтинга заведений от других показателей"
   ]
  },
  {
   "cell_type": "markdown",
   "id": "9da647a6",
   "metadata": {},
   "source": [
    "Построим и визуализируем матрицу корреляции рейтинга с другими показателями. "
   ]
  },
  {
   "cell_type": "code",
   "execution_count": 78,
   "id": "dce28f42",
   "metadata": {},
   "outputs": [
    {
     "name": "stdout",
     "output_type": "stream",
     "text": [
      "interval columns not set, guessing: ['chain', 'seats', 'is_24_7', 'middle_avg_bill', 'rating']\n"
     ]
    }
   ],
   "source": [
    "# Построим матрицу корреляции\n",
    "corr_matrix = df[['category','district','chain','seats','is_24_7','price','middle_avg_bill','rating']].phik_matrix()"
   ]
  },
  {
   "cell_type": "code",
   "execution_count": 103,
   "id": "b1718fdf",
   "metadata": {},
   "outputs": [
    {
     "data": {
      "text/plain": [
       "средние          2117\n",
       "выше среднего     564\n",
       "высокие           478\n",
       "низкие            156\n",
       "Name: price, dtype: int64"
      ]
     },
     "execution_count": 103,
     "metadata": {},
     "output_type": "execute_result"
    }
   ],
   "source": [
    "\n",
    "df['price'].value_counts()"
   ]
  },
  {
   "cell_type": "code",
   "execution_count": 104,
   "id": "ce304831",
   "metadata": {},
   "outputs": [
    {
     "data": {
      "text/html": [
       "<div>\n",
       "<style scoped>\n",
       "    .dataframe tbody tr th:only-of-type {\n",
       "        vertical-align: middle;\n",
       "    }\n",
       "\n",
       "    .dataframe tbody tr th {\n",
       "        vertical-align: top;\n",
       "    }\n",
       "\n",
       "    .dataframe thead th {\n",
       "        text-align: right;\n",
       "    }\n",
       "</style>\n",
       "<table border=\"1\" class=\"dataframe\">\n",
       "  <thead>\n",
       "    <tr style=\"text-align: right;\">\n",
       "      <th></th>\n",
       "      <th>rating</th>\n",
       "    </tr>\n",
       "  </thead>\n",
       "  <tbody>\n",
       "    <tr>\n",
       "      <th>price</th>\n",
       "      <td>0.220295</td>\n",
       "    </tr>\n",
       "    <tr>\n",
       "      <th>middle_avg_bill</th>\n",
       "      <td>0.211868</td>\n",
       "    </tr>\n",
       "    <tr>\n",
       "      <th>district</th>\n",
       "      <td>0.200761</td>\n",
       "    </tr>\n",
       "    <tr>\n",
       "      <th>category</th>\n",
       "      <td>0.189716</td>\n",
       "    </tr>\n",
       "    <tr>\n",
       "      <th>is_24_7</th>\n",
       "      <td>0.150365</td>\n",
       "    </tr>\n",
       "    <tr>\n",
       "      <th>chain</th>\n",
       "      <td>0.107833</td>\n",
       "    </tr>\n",
       "    <tr>\n",
       "      <th>seats</th>\n",
       "      <td>0.000000</td>\n",
       "    </tr>\n",
       "  </tbody>\n",
       "</table>\n",
       "</div>"
      ],
      "text/plain": [
       "                   rating\n",
       "price            0.220295\n",
       "middle_avg_bill  0.211868\n",
       "district         0.200761\n",
       "category         0.189716\n",
       "is_24_7          0.150365\n",
       "chain            0.107833\n",
       "seats            0.000000"
      ]
     },
     "execution_count": 104,
     "metadata": {},
     "output_type": "execute_result"
    }
   ],
   "source": [
    "corr_matrix.loc[corr_matrix.index != 'rating'][['rating']].sort_values(by='rating', ascending=False)"
   ]
  },
  {
   "cell_type": "code",
   "execution_count": 105,
   "id": "5a5ab483",
   "metadata": {},
   "outputs": [
    {
     "data": {
      "text/plain": [
       "Text(0.5, 33.0, 'Рейтинг заведения')"
      ]
     },
     "execution_count": 105,
     "metadata": {},
     "output_type": "execute_result"
    },
    {
     "data": {
      "image/png": "[encoded data removed]",
      "text/plain": [
       "<Figure size 144x432 with 1 Axes>"
      ]
     },
     "metadata": {
      "needs_background": "light"
     },
     "output_type": "display_data"
    }
   ],
   "source": [
    "# Построим тепловую карту\n",
    "plt.figure(figsize=(2, 6))\n",
    "\n",
    "data_heatmap = corr_matrix.loc[corr_matrix.index != 'rating'][['rating']].sort_values(by='rating', ascending=False)\n",
    "\n",
    "sns.heatmap(data_heatmap,\n",
    "             annot=True,\n",
    "             fmt='.2f',\n",
    "             cmap='coolwarm',\n",
    "             linewidths=0.5,\n",
    "             cbar=False)\n",
    "\n",
    "plt.title('Тепловая картка коэфициента phik для данных rating')\n",
    "plt.xlabel('Рейтинг заведения')"
   ]
  },
  {
   "cell_type": "markdown",
   "id": "e400c266",
   "metadata": {},
   "source": [
    "- Самую сильную корреляцию значений `rating` наблюдаем со значениями `price` -0,22\n",
    "- Так же стоит учесть, что в данных `price`  около 60% пропусков "
   ]
  },
  {
   "cell_type": "markdown",
   "id": "0baa6f91",
   "metadata": {},
   "source": [
    "-------"
   ]
  },
  {
   "cell_type": "markdown",
   "id": "5ca61e49",
   "metadata": {},
   "source": [
    "Исследуем зависимость рейтинга заведения от ценового признака:"
   ]
  },
  {
   "cell_type": "code",
   "execution_count": 82,
   "id": "f1ebef88",
   "metadata": {},
   "outputs": [],
   "source": [
    "# Сгруппируем данные\n",
    "price_grouped_df = df.groupby('price')['rating'].mean().sort_values(ascending=False)"
   ]
  },
  {
   "cell_type": "code",
   "execution_count": 83,
   "id": "dedf419f",
   "metadata": {},
   "outputs": [
    {
     "data": {
      "text/plain": [
       "Text(0.5, 1.0, 'Исследование зависимости рейтинга от ценовой категории')"
      ]
     },
     "execution_count": 83,
     "metadata": {},
     "output_type": "execute_result"
    },
    {
     "data": {
      "image/png": "[encoded data removed]",
      "text/plain": [
       "<Figure size 576x432 with 1 Axes>"
      ]
     },
     "metadata": {
      "needs_background": "light"
     },
     "output_type": "display_data"
    }
   ],
   "source": [
    "# Построим столбчатую диограмму\n",
    "price_grouped_df.plot.bar(figsize=(8,6),\n",
    "                          rot=45,\n",
    "                          xlabel='Цены',\n",
    "                          ylabel='Рейтинг')\n",
    "plt.grid()\n",
    "plt.title('Исследование зависимости рейтинга от ценовой категории') # Добавляем название графика"
   ]
  },
  {
   "cell_type": "code",
   "execution_count": 84,
   "id": "ab5cb012",
   "metadata": {},
   "outputs": [
    {
     "data": {
      "text/html": [
       "<div>\n",
       "<style scoped>\n",
       "    .dataframe tbody tr th:only-of-type {\n",
       "        vertical-align: middle;\n",
       "    }\n",
       "\n",
       "    .dataframe tbody tr th {\n",
       "        vertical-align: top;\n",
       "    }\n",
       "\n",
       "    .dataframe thead th {\n",
       "        text-align: right;\n",
       "    }\n",
       "</style>\n",
       "<table border=\"1\" class=\"dataframe\">\n",
       "  <thead>\n",
       "    <tr style=\"text-align: right;\">\n",
       "      <th></th>\n",
       "      <th>price</th>\n",
       "      <th>rating</th>\n",
       "    </tr>\n",
       "  </thead>\n",
       "  <tbody>\n",
       "    <tr>\n",
       "      <th>0</th>\n",
       "      <td>высокие</td>\n",
       "      <td>4.436611</td>\n",
       "    </tr>\n",
       "    <tr>\n",
       "      <th>1</th>\n",
       "      <td>выше среднего</td>\n",
       "      <td>4.386348</td>\n",
       "    </tr>\n",
       "    <tr>\n",
       "      <th>2</th>\n",
       "      <td>средние</td>\n",
       "      <td>4.297874</td>\n",
       "    </tr>\n",
       "    <tr>\n",
       "      <th>3</th>\n",
       "      <td>низкие</td>\n",
       "      <td>4.173077</td>\n",
       "    </tr>\n",
       "  </tbody>\n",
       "</table>\n",
       "</div>"
      ],
      "text/plain": [
       "           price    rating\n",
       "0        высокие  4.436611\n",
       "1  выше среднего  4.386348\n",
       "2        средние  4.297874\n",
       "3         низкие  4.173077"
      ]
     },
     "execution_count": 84,
     "metadata": {},
     "output_type": "execute_result"
    }
   ],
   "source": [
    "price_grouped_df.reset_index()"
   ]
  },
  {
   "cell_type": "markdown",
   "id": "067be4f0",
   "metadata": {},
   "source": [
    "Наблюдается тенденция - чем в заведении выше цены - тем выше средняя оценка этих заведений. Однако зависимость не сильная - размах между максимальным и минимальным показателем рейтинга приблизительно 0.26."
   ]
  },
  {
   "cell_type": "markdown",
   "id": "826c6c59",
   "metadata": {},
   "source": [
    "### 3.7 Анализ популярных сетевых заведений"
   ]
  },
  {
   "cell_type": "markdown",
   "id": "ec33d9c3",
   "metadata": {},
   "source": [
    "Вычислим 15 самых популярных сетей (под популярностью понимается количество заведений этой сети в регионе). \n",
    "Для этого сгруппируем данные по названию заведения и расчитаем количество заведений, средний рейтинг, а так же выведем категорию заведения."
   ]
  },
  {
   "cell_type": "code",
   "execution_count": 85,
   "id": "dbe7ecbc",
   "metadata": {},
   "outputs": [],
   "source": [
    "# Отфильтруем даннны - оставим только сетевые заведения\n",
    "top_chain_df = df[df['chain']==1]"
   ]
  },
  {
   "cell_type": "code",
   "execution_count": 86,
   "id": "12398963",
   "metadata": {},
   "outputs": [],
   "source": [
    "# Cгруппируем данные по столбцам 'name' и 'category'\n",
    "top_15_df = top_chain_df.groupby(['name','category']).agg({'name':'count',\n",
    "                              'rating':'mean'})"
   ]
  },
  {
   "cell_type": "code",
   "execution_count": 87,
   "id": "663d116a",
   "metadata": {},
   "outputs": [],
   "source": [
    "# Переименуем столбец для сортировки\n",
    "top_15_df.rename(columns={'name':'count'}, inplace=True)"
   ]
  },
  {
   "cell_type": "code",
   "execution_count": 88,
   "id": "37927716",
   "metadata": {},
   "outputs": [],
   "source": [
    "# Отсортируем данные\n",
    "top_15_df = top_15_df.sort_values(by='count', ascending=False).head(15)"
   ]
  },
  {
   "cell_type": "code",
   "execution_count": 89,
   "id": "6fe7ef4a",
   "metadata": {},
   "outputs": [
    {
     "data": {
      "text/html": [
       "<div>\n",
       "<style scoped>\n",
       "    .dataframe tbody tr th:only-of-type {\n",
       "        vertical-align: middle;\n",
       "    }\n",
       "\n",
       "    .dataframe tbody tr th {\n",
       "        vertical-align: top;\n",
       "    }\n",
       "\n",
       "    .dataframe thead th {\n",
       "        text-align: right;\n",
       "    }\n",
       "</style>\n",
       "<table border=\"1\" class=\"dataframe\">\n",
       "  <thead>\n",
       "    <tr style=\"text-align: right;\">\n",
       "      <th></th>\n",
       "      <th></th>\n",
       "      <th>count</th>\n",
       "      <th>rating</th>\n",
       "    </tr>\n",
       "    <tr>\n",
       "      <th>name</th>\n",
       "      <th>category</th>\n",
       "      <th></th>\n",
       "      <th></th>\n",
       "    </tr>\n",
       "  </thead>\n",
       "  <tbody>\n",
       "    <tr>\n",
       "      <th>шоколадница</th>\n",
       "      <th>кофейня</th>\n",
       "      <td>119</td>\n",
       "      <td>4.178151</td>\n",
       "    </tr>\n",
       "    <tr>\n",
       "      <th>домино'с пицца</th>\n",
       "      <th>пиццерия</th>\n",
       "      <td>76</td>\n",
       "      <td>4.169737</td>\n",
       "    </tr>\n",
       "    <tr>\n",
       "      <th>додо пицца</th>\n",
       "      <th>пиццерия</th>\n",
       "      <td>74</td>\n",
       "      <td>4.286486</td>\n",
       "    </tr>\n",
       "    <tr>\n",
       "      <th>one price coffee</th>\n",
       "      <th>кофейня</th>\n",
       "      <td>71</td>\n",
       "      <td>4.064789</td>\n",
       "    </tr>\n",
       "    <tr>\n",
       "      <th>яндекс лавка</th>\n",
       "      <th>ресторан</th>\n",
       "      <td>69</td>\n",
       "      <td>3.872464</td>\n",
       "    </tr>\n",
       "    <tr>\n",
       "      <th>cofix</th>\n",
       "      <th>кофейня</th>\n",
       "      <td>65</td>\n",
       "      <td>4.075385</td>\n",
       "    </tr>\n",
       "    <tr>\n",
       "      <th>prime</th>\n",
       "      <th>ресторан</th>\n",
       "      <td>49</td>\n",
       "      <td>4.114286</td>\n",
       "    </tr>\n",
       "    <tr>\n",
       "      <th>кофепорт</th>\n",
       "      <th>кофейня</th>\n",
       "      <td>42</td>\n",
       "      <td>4.147619</td>\n",
       "    </tr>\n",
       "    <tr>\n",
       "      <th>кулинарная лавка братьев караваевых</th>\n",
       "      <th>кафе</th>\n",
       "      <td>39</td>\n",
       "      <td>4.394872</td>\n",
       "    </tr>\n",
       "    <tr>\n",
       "      <th>теремок</th>\n",
       "      <th>ресторан</th>\n",
       "      <td>36</td>\n",
       "      <td>4.105556</td>\n",
       "    </tr>\n",
       "    <tr>\n",
       "      <th>cofefest</th>\n",
       "      <th>кофейня</th>\n",
       "      <td>31</td>\n",
       "      <td>3.977419</td>\n",
       "    </tr>\n",
       "    <tr>\n",
       "      <th>чайхана</th>\n",
       "      <th>кафе</th>\n",
       "      <td>26</td>\n",
       "      <td>3.946154</td>\n",
       "    </tr>\n",
       "    <tr>\n",
       "      <th>буханка</th>\n",
       "      <th>булочная</th>\n",
       "      <td>25</td>\n",
       "      <td>4.416000</td>\n",
       "    </tr>\n",
       "    <tr>\n",
       "      <th>drive café</th>\n",
       "      <th>кафе</th>\n",
       "      <td>24</td>\n",
       "      <td>4.025000</td>\n",
       "    </tr>\n",
       "    <tr>\n",
       "      <th>кофемания</th>\n",
       "      <th>кофейня</th>\n",
       "      <td>22</td>\n",
       "      <td>4.463636</td>\n",
       "    </tr>\n",
       "  </tbody>\n",
       "</table>\n",
       "</div>"
      ],
      "text/plain": [
       "                                              count    rating\n",
       "name                                category                 \n",
       "шоколадница                         кофейня     119  4.178151\n",
       "домино'с пицца                      пиццерия     76  4.169737\n",
       "додо пицца                          пиццерия     74  4.286486\n",
       "one price coffee                    кофейня      71  4.064789\n",
       "яндекс лавка                        ресторан     69  3.872464\n",
       "cofix                               кофейня      65  4.075385\n",
       "prime                               ресторан     49  4.114286\n",
       "кофепорт                            кофейня      42  4.147619\n",
       "кулинарная лавка братьев караваевых кафе         39  4.394872\n",
       "теремок                             ресторан     36  4.105556\n",
       "cofefest                            кофейня      31  3.977419\n",
       "чайхана                             кафе         26  3.946154\n",
       "буханка                             булочная     25  4.416000\n",
       "drive café                          кафе         24  4.025000\n",
       "кофемания                           кофейня      22  4.463636"
      ]
     },
     "execution_count": 89,
     "metadata": {},
     "output_type": "execute_result"
    }
   ],
   "source": [
    "top_15_df"
   ]
  },
  {
   "cell_type": "code",
   "execution_count": 90,
   "id": "8851050e",
   "metadata": {},
   "outputs": [
    {
     "data": {
      "text/plain": [
       "Text(0, 0.5, 'Название и категория')"
      ]
     },
     "execution_count": 90,
     "metadata": {},
     "output_type": "execute_result"
    },
    {
     "data": {
      "image/png": "[encoded data removed]",
      "text/plain": [
       "<Figure size 720x432 with 1 Axes>"
      ]
     },
     "metadata": {
      "needs_background": "light"
     },
     "output_type": "display_data"
    }
   ],
   "source": [
    "# Построим диограмму \n",
    "top_15_df.sort_values(by='count').plot(kind='barh',\n",
    "               figsize=(10,6),\n",
    "               title='Топ-15 сетевых заведений',               \n",
    "               y='count',\n",
    "               \n",
    "               legend=False                        \n",
    "               )\n",
    "\n",
    "plt.grid()\n",
    "plt.xlabel('Количество заведений')\n",
    "plt.ylabel('Название и категория')"
   ]
  },
  {
   "cell_type": "markdown",
   "id": "3c270deb",
   "metadata": {},
   "source": [
    "- В топ-15 сетевых заведений не вошли такие категории как `столовая`,`бар,паб`,`быстрое питание`.\n",
    "- Сеть кофеен \"Шоколадница\" - лидер с большим отрывом среди сетевых заведений - 119 кофеен.\n",
    "- На втором и третьем месте топ-15 - пиццерии Домино'c пицца и Додо пицца - 76 и 74 заведения соответсвенно. Неожиданно, с учетом низкой популярности категории `пиццерия` в целом по Москве. Что говорит нам о распределении этой ниши между двумя крупными сетевыми пиццериями.\n",
    "- У некоторых сетевых заведений встречаем среднюю оценку меньше 4."
   ]
  },
  {
   "cell_type": "markdown",
   "id": "5f49028d",
   "metadata": {},
   "source": [
    "### 3.8 Изучение вариации среднего чека в зависимости от района."
   ]
  },
  {
   "cell_type": "markdown",
   "id": "ef5ee601",
   "metadata": {},
   "source": [
    "</font><font color='Blue'><b>Комментарий студента</b></font><br>\n",
    "</font><font color='Blue'>Ниже всё исправил!"
   ]
  },
  {
   "cell_type": "code",
   "execution_count": 91,
   "id": "aab6af83",
   "metadata": {},
   "outputs": [
    {
     "data": {
      "text/plain": [
       "count     3149.000000\n",
       "mean       958.053668\n",
       "std       1009.732845\n",
       "min          0.000000\n",
       "25%        375.000000\n",
       "50%        750.000000\n",
       "75%       1250.000000\n",
       "max      35000.000000\n",
       "Name: middle_avg_bill, dtype: float64"
      ]
     },
     "execution_count": 91,
     "metadata": {},
     "output_type": "execute_result"
    }
   ],
   "source": [
    "# Изучим стандартные показатели столбца 'middle_avg_bill'\n",
    "df['middle_avg_bill'].describe()"
   ]
  },
  {
   "cell_type": "code",
   "execution_count": 92,
   "id": "cb66a7b1",
   "metadata": {},
   "outputs": [
    {
     "data": {
      "text/plain": [
       "<AxesSubplot:title={'center':'Распределение значений среднего чека'}, ylabel='Frequency'>"
      ]
     },
     "execution_count": 92,
     "metadata": {},
     "output_type": "execute_result"
    },
    {
     "data": {
      "image/png": "[encoded data removed]",
      "text/plain": [
       "<Figure size 432x288 with 1 Axes>"
      ]
     },
     "metadata": {
      "needs_background": "light"
     },
     "output_type": "display_data"
    }
   ],
   "source": [
    "# Построим гистограмму по столбцу 'middle_avg_bill'\n",
    "df['middle_avg_bill'].plot(kind='hist',\n",
    "                           xlabel='Средний чек',\n",
    "                           ylabel='Частота',\n",
    "                           grid=True,\n",
    "                           title='Распределение значений среднего чека',\n",
    "                           bins=50)"
   ]
  },
  {
   "cell_type": "code",
   "execution_count": 93,
   "id": "f56251cf",
   "metadata": {},
   "outputs": [
    {
     "data": {
      "text/plain": [
       "Text(0.5, 0, 'Средний чек')"
      ]
     },
     "execution_count": 93,
     "metadata": {},
     "output_type": "execute_result"
    },
    {
     "data": {
      "image/png": "[encoded data removed]",
      "text/plain": [
       "<Figure size 720x288 with 1 Axes>"
      ]
     },
     "metadata": {
      "needs_background": "light"
     },
     "output_type": "display_data"
    }
   ],
   "source": [
    "# Построим диограмму размаха по столбцу 'middle_avg_bill'\n",
    "df.boxplot(column='middle_avg_bill',vert=False, figsize=(10,4))\n",
    "\n",
    "ax = plt.gca()\n",
    "ax.axes.yaxis.set_ticks([])\n",
    "plt.title('Распределение значений среднего чека') \n",
    "plt.xlabel('Средний чек') # "
   ]
  },
  {
   "cell_type": "markdown",
   "id": "e31d3a5a",
   "metadata": {},
   "source": [
    "- Наблюдаем положительно скошенную гистограмму с небольшим хвостом.\n",
    "- Диограмма размаха показывает много выбросов и одно похожее на аномальное, но имеет место быть."
   ]
  },
  {
   "cell_type": "code",
   "execution_count": 94,
   "id": "a194c22d",
   "metadata": {},
   "outputs": [
    {
     "name": "stdout",
     "output_type": "stream",
     "text": [
      "interval columns not set, guessing: ['middle_avg_bill']\n"
     ]
    }
   ],
   "source": [
    "# Построим матрицу корреляции для данных параметров\n",
    "corr_df = df[['district','middle_avg_bill']].phik_matrix()"
   ]
  },
  {
   "cell_type": "code",
   "execution_count": 95,
   "id": "f17a1e08",
   "metadata": {},
   "outputs": [
    {
     "data": {
      "text/html": [
       "<div>\n",
       "<style scoped>\n",
       "    .dataframe tbody tr th:only-of-type {\n",
       "        vertical-align: middle;\n",
       "    }\n",
       "\n",
       "    .dataframe tbody tr th {\n",
       "        vertical-align: top;\n",
       "    }\n",
       "\n",
       "    .dataframe thead th {\n",
       "        text-align: right;\n",
       "    }\n",
       "</style>\n",
       "<table border=\"1\" class=\"dataframe\">\n",
       "  <thead>\n",
       "    <tr style=\"text-align: right;\">\n",
       "      <th></th>\n",
       "      <th>district</th>\n",
       "      <th>middle_avg_bill</th>\n",
       "    </tr>\n",
       "  </thead>\n",
       "  <tbody>\n",
       "    <tr>\n",
       "      <th>district</th>\n",
       "      <td>1.000000</td>\n",
       "      <td>0.056558</td>\n",
       "    </tr>\n",
       "    <tr>\n",
       "      <th>middle_avg_bill</th>\n",
       "      <td>0.056558</td>\n",
       "      <td>1.000000</td>\n",
       "    </tr>\n",
       "  </tbody>\n",
       "</table>\n",
       "</div>"
      ],
      "text/plain": [
       "                 district  middle_avg_bill\n",
       "district         1.000000         0.056558\n",
       "middle_avg_bill  0.056558         1.000000"
      ]
     },
     "execution_count": 95,
     "metadata": {},
     "output_type": "execute_result"
    }
   ],
   "source": [
    "corr_df"
   ]
  },
  {
   "cell_type": "markdown",
   "id": "73c3bf01",
   "metadata": {},
   "source": [
    "Наблюдаем достстаончо высокий уровень зависимости."
   ]
  },
  {
   "cell_type": "code",
   "execution_count": 96,
   "id": "ffd48e98",
   "metadata": {},
   "outputs": [],
   "source": [
    "# Сгруппируем данные\n",
    "dist_bill_df = df.groupby('district')['middle_avg_bill'].describe(percentiles=[0.5]).sort_values(by='mean',ascending=False)"
   ]
  },
  {
   "cell_type": "code",
   "execution_count": 97,
   "id": "f47ca1af",
   "metadata": {},
   "outputs": [
    {
     "data": {
      "text/html": [
       "<div>\n",
       "<style scoped>\n",
       "    .dataframe tbody tr th:only-of-type {\n",
       "        vertical-align: middle;\n",
       "    }\n",
       "\n",
       "    .dataframe tbody tr th {\n",
       "        vertical-align: top;\n",
       "    }\n",
       "\n",
       "    .dataframe thead th {\n",
       "        text-align: right;\n",
       "    }\n",
       "</style>\n",
       "<table border=\"1\" class=\"dataframe\">\n",
       "  <thead>\n",
       "    <tr style=\"text-align: right;\">\n",
       "      <th></th>\n",
       "      <th>count</th>\n",
       "      <th>mean</th>\n",
       "      <th>std</th>\n",
       "      <th>min</th>\n",
       "      <th>50%</th>\n",
       "      <th>max</th>\n",
       "    </tr>\n",
       "    <tr>\n",
       "      <th>district</th>\n",
       "      <th></th>\n",
       "      <th></th>\n",
       "      <th></th>\n",
       "      <th></th>\n",
       "      <th></th>\n",
       "      <th></th>\n",
       "    </tr>\n",
       "  </thead>\n",
       "  <tbody>\n",
       "    <tr>\n",
       "      <th>центральный административный округ</th>\n",
       "      <td>1060.0</td>\n",
       "      <td>1191.057547</td>\n",
       "      <td>920.014707</td>\n",
       "      <td>0.0</td>\n",
       "      <td>1000.0</td>\n",
       "      <td>7250.0</td>\n",
       "    </tr>\n",
       "    <tr>\n",
       "      <th>западный административный округ</th>\n",
       "      <td>306.0</td>\n",
       "      <td>1053.225490</td>\n",
       "      <td>779.008536</td>\n",
       "      <td>50.0</td>\n",
       "      <td>1000.0</td>\n",
       "      <td>5250.0</td>\n",
       "    </tr>\n",
       "    <tr>\n",
       "      <th>северный административный округ</th>\n",
       "      <td>322.0</td>\n",
       "      <td>927.959627</td>\n",
       "      <td>912.609221</td>\n",
       "      <td>130.0</td>\n",
       "      <td>650.0</td>\n",
       "      <td>11000.0</td>\n",
       "    </tr>\n",
       "    <tr>\n",
       "      <th>южный административный округ</th>\n",
       "      <td>314.0</td>\n",
       "      <td>834.398089</td>\n",
       "      <td>2008.640596</td>\n",
       "      <td>100.0</td>\n",
       "      <td>500.0</td>\n",
       "      <td>35000.0</td>\n",
       "    </tr>\n",
       "    <tr>\n",
       "      <th>северо-западный административный округ</th>\n",
       "      <td>157.0</td>\n",
       "      <td>822.222930</td>\n",
       "      <td>595.055218</td>\n",
       "      <td>120.0</td>\n",
       "      <td>700.0</td>\n",
       "      <td>2900.0</td>\n",
       "    </tr>\n",
       "    <tr>\n",
       "      <th>восточный административный округ</th>\n",
       "      <td>260.0</td>\n",
       "      <td>820.626923</td>\n",
       "      <td>850.903310</td>\n",
       "      <td>50.0</td>\n",
       "      <td>575.0</td>\n",
       "      <td>10000.0</td>\n",
       "    </tr>\n",
       "    <tr>\n",
       "      <th>юго-западный административный округ</th>\n",
       "      <td>235.0</td>\n",
       "      <td>792.561702</td>\n",
       "      <td>559.173122</td>\n",
       "      <td>100.0</td>\n",
       "      <td>600.0</td>\n",
       "      <td>2750.0</td>\n",
       "    </tr>\n",
       "    <tr>\n",
       "      <th>северо-восточный административный округ</th>\n",
       "      <td>301.0</td>\n",
       "      <td>716.611296</td>\n",
       "      <td>591.232153</td>\n",
       "      <td>50.0</td>\n",
       "      <td>500.0</td>\n",
       "      <td>4500.0</td>\n",
       "    </tr>\n",
       "    <tr>\n",
       "      <th>юго-восточный административный округ</th>\n",
       "      <td>194.0</td>\n",
       "      <td>654.097938</td>\n",
       "      <td>566.825663</td>\n",
       "      <td>30.0</td>\n",
       "      <td>450.0</td>\n",
       "      <td>3750.0</td>\n",
       "    </tr>\n",
       "  </tbody>\n",
       "</table>\n",
       "</div>"
      ],
      "text/plain": [
       "                                          count         mean          std  \\\n",
       "district                                                                    \n",
       "центральный административный округ       1060.0  1191.057547   920.014707   \n",
       "западный административный округ           306.0  1053.225490   779.008536   \n",
       "северный административный округ           322.0   927.959627   912.609221   \n",
       "южный административный округ              314.0   834.398089  2008.640596   \n",
       "северо-западный административный округ    157.0   822.222930   595.055218   \n",
       "восточный административный округ          260.0   820.626923   850.903310   \n",
       "юго-западный административный округ       235.0   792.561702   559.173122   \n",
       "северо-восточный административный округ   301.0   716.611296   591.232153   \n",
       "юго-восточный административный округ      194.0   654.097938   566.825663   \n",
       "\n",
       "                                           min     50%      max  \n",
       "district                                                         \n",
       "центральный административный округ         0.0  1000.0   7250.0  \n",
       "западный административный округ           50.0  1000.0   5250.0  \n",
       "северный административный округ          130.0   650.0  11000.0  \n",
       "южный административный округ             100.0   500.0  35000.0  \n",
       "северо-западный административный округ   120.0   700.0   2900.0  \n",
       "восточный административный округ          50.0   575.0  10000.0  \n",
       "юго-западный административный округ      100.0   600.0   2750.0  \n",
       "северо-восточный административный округ   50.0   500.0   4500.0  \n",
       "юго-восточный административный округ      30.0   450.0   3750.0  "
      ]
     },
     "execution_count": 97,
     "metadata": {},
     "output_type": "execute_result"
    }
   ],
   "source": [
    "dist_bill_df"
   ]
  },
  {
   "attachments": {
    "image.png": {
     "image/png": "[encoded data removed]"
    }
   },
   "cell_type": "markdown",
   "id": "6520782d",
   "metadata": {},
   "source": [
    "<font color='DarkBlue'><b>Комментарий ревьюера</b></font><br>\n",
    "<font color='DarkMagenta'>Более полный анализ центральной тенденции среднего чека заведений по административным округам был бы при выводе и медианы, и среднего значения среднего чека, примерно вот так:</font>\n",
    "![image.png](attachment:image.png)"
   ]
  },
  {
   "cell_type": "code",
   "execution_count": 98,
   "id": "7514fec0",
   "metadata": {},
   "outputs": [],
   "source": [
    "# Переименнуем для удобства столбец\n",
    "dist_bill_df.rename(columns={'50%':'median'}, inplace=True)"
   ]
  },
  {
   "cell_type": "code",
   "execution_count": 99,
   "id": "9e2b0821",
   "metadata": {},
   "outputs": [
    {
     "data": {
      "text/plain": [
       "Text(0.5, 0, 'среднее/медиана')"
      ]
     },
     "execution_count": 99,
     "metadata": {},
     "output_type": "execute_result"
    },
    {
     "data": {
      "image/png": "[encoded data removed]",
      "text/plain": [
       "<Figure size 720x576 with 1 Axes>"
      ]
     },
     "metadata": {
      "needs_background": "light"
     },
     "output_type": "display_data"
    }
   ],
   "source": [
    "# Построим столбчатую диограмму со средним значением и медианой среднего чека в разрезе района Москвы\n",
    "dist_bill_df.sort_values(by='mean',ascending=True).plot.barh(y=['median','mean'], \n",
    "                       \n",
    "                  figsize=(10,8)\n",
    "                  )\n",
    "plt.grid()\n",
    "plt.title('Зависимость типичного значение среднего чека от округа')\n",
    "plt.ylabel('Район')\n",
    "plt.xlabel('среднее/медиана')"
   ]
  },
  {
   "cell_type": "markdown",
   "id": "297761f6",
   "metadata": {},
   "source": [
    "Наблюдаем сильную зависимость вариации среднего чека в зависимости от района и удаления от центра. Южные округа имеют самые низкие средние чеки.\n"
   ]
  },
  {
   "cell_type": "markdown",
   "id": "0cf00e23",
   "metadata": {},
   "source": [
    "### 3.9 Результаты"
   ]
  },
  {
   "cell_type": "markdown",
   "id": "d385a254",
   "metadata": {},
   "source": [
    "- Выявлены тенденции на популярные категории заведений.\n",
    "- Наблюдаем зависимость округа на количество заведений и на ценовой показатель.\n",
    "- Изучили типичное количество посадочных мест для заведений.\n",
    "- Изучили количество сетевых и несетевых заведений и популярные категории среди сетевого сегмета. Изучили самые популярные сети заведений\n",
    "- Изучили средние рейтинги завеведений."
   ]
  },
  {
   "cell_type": "markdown",
   "id": "4f659949",
   "metadata": {},
   "source": [
    "## 4 Итоговый вывод и рекомендации."
   ]
  },
  {
   "cell_type": "markdown",
   "id": "6583d5ee",
   "metadata": {},
   "source": [
    "Что сделали:\n",
    "\n",
    "- Познакпомились со всеми данными, все описаные столбцы и значения указаны в корректном стиле и соответствуют описанию\n",
    "- Проведена предобрабокта данных: поработали с пропусками - часть заменили, часть оставили как есть. Наличие дубликатов не обнаружено. Для предобработки и дальнейшего исследования добавили два новых столбца `is_seats` и `is_24_7`\n",
    "- Провели исследовательский анализ данных и ответили на все вопросы."
   ]
  },
  {
   "cell_type": "markdown",
   "id": "70f59383",
   "metadata": {},
   "source": [
    "Выводы и ответы на вопросы:\n",
    "\n",
    "- Самая популярная с большим отрывом категория общественного питания в Москве - `Кафе`. Далее идут `рестораны` и `кофейни`. В целом есть зависимость между популяностью заведения и его потенциальным уровнем сервиса, так как фастфуд, булочные и столовые имеют самое маленькое представительство в нашей выборке\n",
    "\n",
    "\n",
    "- Центральный административный округ является районом с самом большим количеством заведений в Москве. В нем находится четверть всех заведений города. Остальные районы расположились в плавное соотношение от 4% до 10%. Внутри центрального района так самая популярная категория - `Рестораны`,в отличии от в целом по Москве. Во второй группе так же располагаются `кофейня` и `кафе` В центре `бары` пользуются большей популярностью чем в целом по Москве и имеют показатель популярности выше среднего.\n",
    "\n",
    "\n",
    "- В Москве несетевые заведения преобладают над сетевыми (~62/38%). Самая большая доля сетевых заведений в категориях `булочная`,`пиццерия` и `кофейня` соответственно. Категория `бар,паб` имеет самую маленькую долю - 22%, остальные категории c интервалом 28-38%\n",
    "\n",
    "- В данных о количестве посадочным мест много пропусков. Из тех данных, что мы имеем можно сделать вывод, что типичное количество посадочных мест варируется от 55 до 90 в зависимости от категории заведения.\n",
    "\n",
    "\n",
    "- Показатели рейтингов заведений очень ровные. Усредненные показатели в зависимости от категории досаточно близки - все выше 4 и разница между максимальным и минимальным показателем лишь 0.3.\n",
    "\n",
    "\n",
    "- Самую сильную корреляцию (0,22) рейтинг имеет с показателем категории цен в заведении, при том, что данные имели около 60% пропусков. После детального изучения наблюдали зависимость: чем выше ценовая категория - тем выше оценка. Однако зависимость совсем небольшая и размах между минимальными и максимальными показателями рейтинга не превышает 0.3\n",
    "\n",
    "\n",
    "- В Топ-15 сетевых заведений явно выделяются одна франшиза - `кофейня Шоколадница`(119 заведений). Далее неожиданно идут пиццерии  `Додо Пицца` и `Доминос' пицца`, что имеют более 70-ти заведений. В топ-15 сетевых заведений не вошли такие категории как `столовая`,`бар,паб`,`быстрое питание`.\n",
    "\n",
    "\n",
    "- Наблидаем зависимость среднего чека в заведении в зависимости от района: сюрпризов нет - в ЦАО самый высокий показатель среднего чека, но в отличии от метрики \"Количество заведений в разрезе района\" - тут лидерство не единоличное и другие тенденции. ЗАО занимет вторую строчку с разницей меньше 200р. Так же наблюдаем, что все восточнче районы имеют низший средний чек.\n",
    "\n"
   ]
  },
  {
   "cell_type": "markdown",
   "id": "2b38429f",
   "metadata": {},
   "source": [
    "В целом, самым типичным заведением Москвы явдяется несетевое `кафе` или `ресторан` в ЦАО с высокими ценами и количеством посадочных мест около 90."
   ]
  },
  {
   "cell_type": "markdown",
   "id": "c2be6672",
   "metadata": {},
   "source": [
    "Так же инвесторам стоит обратить внимание на ЗАО, так как уровень конкуренции в отличии от ЦАО в три раза меньше, но при этом средние показатели среднего чека отличаются не сильно."
   ]
  }
 ],
 "metadata": {
  "ExecuteTimeLog": [
   {
    "duration": 1506,
    "start_time": "2025-04-04T10:38:55.636Z"
   },
   {
    "duration": 0,
    "start_time": "2025-04-04T10:38:57.146Z"
   },
   {
    "duration": 0,
    "start_time": "2025-04-04T10:38:57.147Z"
   },
   {
    "duration": 0,
    "start_time": "2025-04-04T10:38:57.154Z"
   },
   {
    "duration": 0,
    "start_time": "2025-04-04T10:38:57.155Z"
   },
   {
    "duration": 0,
    "start_time": "2025-04-04T10:38:57.157Z"
   },
   {
    "duration": 0,
    "start_time": "2025-04-04T10:38:57.159Z"
   },
   {
    "duration": 0,
    "start_time": "2025-04-04T10:38:57.160Z"
   },
   {
    "duration": 0,
    "start_time": "2025-04-04T10:38:57.162Z"
   },
   {
    "duration": 0,
    "start_time": "2025-04-04T10:38:57.163Z"
   },
   {
    "duration": 0,
    "start_time": "2025-04-04T10:38:57.164Z"
   },
   {
    "duration": 0,
    "start_time": "2025-04-04T10:38:57.166Z"
   },
   {
    "duration": 0,
    "start_time": "2025-04-04T10:38:57.167Z"
   },
   {
    "duration": 0,
    "start_time": "2025-04-04T10:38:57.169Z"
   },
   {
    "duration": 0,
    "start_time": "2025-04-04T10:38:57.170Z"
   },
   {
    "duration": 0,
    "start_time": "2025-04-04T10:38:57.172Z"
   },
   {
    "duration": 0,
    "start_time": "2025-04-04T10:38:57.173Z"
   },
   {
    "duration": 0,
    "start_time": "2025-04-04T10:38:57.174Z"
   },
   {
    "duration": 0,
    "start_time": "2025-04-04T10:38:57.176Z"
   },
   {
    "duration": 0,
    "start_time": "2025-04-04T10:38:57.177Z"
   },
   {
    "duration": 0,
    "start_time": "2025-04-04T10:38:57.178Z"
   },
   {
    "duration": 0,
    "start_time": "2025-04-04T10:38:57.180Z"
   },
   {
    "duration": 0,
    "start_time": "2025-04-04T10:38:57.181Z"
   },
   {
    "duration": 0,
    "start_time": "2025-04-04T10:38:57.183Z"
   },
   {
    "duration": 0,
    "start_time": "2025-04-04T10:38:57.184Z"
   },
   {
    "duration": 0,
    "start_time": "2025-04-04T10:38:57.186Z"
   },
   {
    "duration": 0,
    "start_time": "2025-04-04T10:38:57.187Z"
   },
   {
    "duration": 0,
    "start_time": "2025-04-04T10:38:57.188Z"
   },
   {
    "duration": 0,
    "start_time": "2025-04-04T10:38:57.190Z"
   },
   {
    "duration": 0,
    "start_time": "2025-04-04T10:38:57.192Z"
   },
   {
    "duration": 0,
    "start_time": "2025-04-04T10:38:57.193Z"
   },
   {
    "duration": 0,
    "start_time": "2025-04-04T10:38:57.255Z"
   },
   {
    "duration": 0,
    "start_time": "2025-04-04T10:38:57.257Z"
   },
   {
    "duration": 0,
    "start_time": "2025-04-04T10:38:57.258Z"
   },
   {
    "duration": 0,
    "start_time": "2025-04-04T10:38:57.259Z"
   },
   {
    "duration": 0,
    "start_time": "2025-04-04T10:38:57.261Z"
   },
   {
    "duration": 0,
    "start_time": "2025-04-04T10:38:57.262Z"
   },
   {
    "duration": 0,
    "start_time": "2025-04-04T10:38:57.264Z"
   },
   {
    "duration": 0,
    "start_time": "2025-04-04T10:38:57.266Z"
   },
   {
    "duration": 0,
    "start_time": "2025-04-04T10:38:57.267Z"
   },
   {
    "duration": 0,
    "start_time": "2025-04-04T10:38:57.269Z"
   },
   {
    "duration": 0,
    "start_time": "2025-04-04T10:38:57.270Z"
   },
   {
    "duration": 0,
    "start_time": "2025-04-04T10:38:57.272Z"
   },
   {
    "duration": 0,
    "start_time": "2025-04-04T10:38:57.273Z"
   },
   {
    "duration": 0,
    "start_time": "2025-04-04T10:38:57.274Z"
   },
   {
    "duration": 0,
    "start_time": "2025-04-04T10:38:57.276Z"
   },
   {
    "duration": 0,
    "start_time": "2025-04-04T10:38:57.277Z"
   },
   {
    "duration": 0,
    "start_time": "2025-04-04T10:38:57.278Z"
   },
   {
    "duration": 0,
    "start_time": "2025-04-04T10:38:57.280Z"
   },
   {
    "duration": 0,
    "start_time": "2025-04-04T10:38:57.281Z"
   },
   {
    "duration": 0,
    "start_time": "2025-04-04T10:38:57.283Z"
   },
   {
    "duration": 0,
    "start_time": "2025-04-04T10:38:57.284Z"
   },
   {
    "duration": 0,
    "start_time": "2025-04-04T10:38:57.285Z"
   },
   {
    "duration": 0,
    "start_time": "2025-04-04T10:38:57.287Z"
   },
   {
    "duration": 0,
    "start_time": "2025-04-04T10:38:57.288Z"
   },
   {
    "duration": 0,
    "start_time": "2025-04-04T10:38:57.289Z"
   },
   {
    "duration": 0,
    "start_time": "2025-04-04T10:38:57.291Z"
   },
   {
    "duration": 0,
    "start_time": "2025-04-04T10:38:57.292Z"
   },
   {
    "duration": 0,
    "start_time": "2025-04-04T10:38:57.293Z"
   },
   {
    "duration": 0,
    "start_time": "2025-04-04T10:38:57.355Z"
   },
   {
    "duration": 0,
    "start_time": "2025-04-04T10:38:57.357Z"
   },
   {
    "duration": 0,
    "start_time": "2025-04-04T10:38:57.358Z"
   },
   {
    "duration": 0,
    "start_time": "2025-04-04T10:38:57.359Z"
   },
   {
    "duration": 0,
    "start_time": "2025-04-04T10:38:57.360Z"
   },
   {
    "duration": 0,
    "start_time": "2025-04-04T10:38:57.361Z"
   },
   {
    "duration": 0,
    "start_time": "2025-04-04T10:38:57.362Z"
   },
   {
    "duration": 0,
    "start_time": "2025-04-04T10:38:57.363Z"
   },
   {
    "duration": 0,
    "start_time": "2025-04-04T10:38:57.364Z"
   },
   {
    "duration": 0,
    "start_time": "2025-04-04T10:38:57.365Z"
   },
   {
    "duration": 0,
    "start_time": "2025-04-04T10:38:57.366Z"
   },
   {
    "duration": 0,
    "start_time": "2025-04-04T10:38:57.367Z"
   },
   {
    "duration": 0,
    "start_time": "2025-04-04T10:38:57.368Z"
   },
   {
    "duration": 0,
    "start_time": "2025-04-04T10:38:57.369Z"
   },
   {
    "duration": 0,
    "start_time": "2025-04-04T10:38:57.370Z"
   },
   {
    "duration": 0,
    "start_time": "2025-04-04T10:38:57.371Z"
   },
   {
    "duration": 0,
    "start_time": "2025-04-04T10:38:57.372Z"
   },
   {
    "duration": 0,
    "start_time": "2025-04-04T10:38:57.372Z"
   },
   {
    "duration": 0,
    "start_time": "2025-04-04T10:38:57.373Z"
   },
   {
    "duration": 3399,
    "start_time": "2025-04-04T10:44:14.692Z"
   },
   {
    "duration": 2829,
    "start_time": "2025-04-04T10:44:26.432Z"
   },
   {
    "duration": 1257,
    "start_time": "2025-04-04T10:44:29.264Z"
   },
   {
    "duration": 189,
    "start_time": "2025-04-04T10:44:30.523Z"
   },
   {
    "duration": 15,
    "start_time": "2025-04-04T10:44:30.714Z"
   },
   {
    "duration": 36,
    "start_time": "2025-04-04T10:44:30.731Z"
   },
   {
    "duration": 17,
    "start_time": "2025-04-04T10:44:30.769Z"
   },
   {
    "duration": 38,
    "start_time": "2025-04-04T10:44:30.788Z"
   },
   {
    "duration": 17,
    "start_time": "2025-04-04T10:44:30.828Z"
   },
   {
    "duration": 28,
    "start_time": "2025-04-04T10:44:30.847Z"
   },
   {
    "duration": 23,
    "start_time": "2025-04-04T10:44:30.877Z"
   },
   {
    "duration": 22,
    "start_time": "2025-04-04T10:44:30.902Z"
   },
   {
    "duration": 31,
    "start_time": "2025-04-04T10:44:30.926Z"
   },
   {
    "duration": 21,
    "start_time": "2025-04-04T10:44:30.959Z"
   },
   {
    "duration": 10,
    "start_time": "2025-04-04T10:44:30.984Z"
   },
   {
    "duration": 13,
    "start_time": "2025-04-04T10:44:30.996Z"
   },
   {
    "duration": 34,
    "start_time": "2025-04-04T10:44:31.011Z"
   },
   {
    "duration": 34,
    "start_time": "2025-04-04T10:44:31.047Z"
   },
   {
    "duration": 23,
    "start_time": "2025-04-04T10:44:31.083Z"
   },
   {
    "duration": 7,
    "start_time": "2025-04-04T10:44:31.108Z"
   },
   {
    "duration": 17,
    "start_time": "2025-04-04T10:44:31.116Z"
   },
   {
    "duration": 16,
    "start_time": "2025-04-04T10:44:31.135Z"
   },
   {
    "duration": 7,
    "start_time": "2025-04-04T10:44:31.153Z"
   },
   {
    "duration": 13,
    "start_time": "2025-04-04T10:44:31.161Z"
   },
   {
    "duration": 6,
    "start_time": "2025-04-04T10:44:31.176Z"
   },
   {
    "duration": 10,
    "start_time": "2025-04-04T10:44:31.183Z"
   },
   {
    "duration": 45,
    "start_time": "2025-04-04T10:44:31.195Z"
   },
   {
    "duration": 10,
    "start_time": "2025-04-04T10:44:31.242Z"
   },
   {
    "duration": 18,
    "start_time": "2025-04-04T10:44:31.254Z"
   },
   {
    "duration": 14,
    "start_time": "2025-04-04T10:44:31.273Z"
   },
   {
    "duration": 22,
    "start_time": "2025-04-04T10:44:31.288Z"
   },
   {
    "duration": 39,
    "start_time": "2025-04-04T10:44:31.311Z"
   },
   {
    "duration": 25,
    "start_time": "2025-04-04T10:44:31.352Z"
   },
   {
    "duration": 313,
    "start_time": "2025-04-04T10:44:31.379Z"
   },
   {
    "duration": 5,
    "start_time": "2025-04-04T10:44:31.693Z"
   },
   {
    "duration": 40,
    "start_time": "2025-04-04T10:44:31.700Z"
   },
   {
    "duration": 372,
    "start_time": "2025-04-04T10:44:31.741Z"
   },
   {
    "duration": 3,
    "start_time": "2025-04-04T10:44:32.115Z"
   },
   {
    "duration": 18,
    "start_time": "2025-04-04T10:44:32.120Z"
   },
   {
    "duration": 16,
    "start_time": "2025-04-04T10:44:32.140Z"
   },
   {
    "duration": 24,
    "start_time": "2025-04-04T10:44:32.158Z"
   },
   {
    "duration": 8,
    "start_time": "2025-04-04T10:44:32.186Z"
   },
   {
    "duration": 335,
    "start_time": "2025-04-04T10:44:32.196Z"
   },
   {
    "duration": 6,
    "start_time": "2025-04-04T10:44:32.533Z"
   },
   {
    "duration": 22,
    "start_time": "2025-04-04T10:44:32.540Z"
   },
   {
    "duration": 138,
    "start_time": "2025-04-04T10:44:32.564Z"
   },
   {
    "duration": 6,
    "start_time": "2025-04-04T10:44:32.704Z"
   },
   {
    "duration": 17,
    "start_time": "2025-04-04T10:44:32.711Z"
   },
   {
    "duration": 220,
    "start_time": "2025-04-04T10:44:32.730Z"
   },
   {
    "duration": 10,
    "start_time": "2025-04-04T10:44:32.955Z"
   },
   {
    "duration": 10,
    "start_time": "2025-04-04T10:44:32.967Z"
   },
   {
    "duration": 182,
    "start_time": "2025-04-04T10:44:32.978Z"
   },
   {
    "duration": 159,
    "start_time": "2025-04-04T10:44:33.162Z"
   },
   {
    "duration": 18,
    "start_time": "2025-04-04T10:44:33.323Z"
   },
   {
    "duration": 10,
    "start_time": "2025-04-04T10:44:33.354Z"
   },
   {
    "duration": 12,
    "start_time": "2025-04-04T10:44:33.366Z"
   },
   {
    "duration": 8,
    "start_time": "2025-04-04T10:44:33.380Z"
   },
   {
    "duration": 256,
    "start_time": "2025-04-04T10:44:33.390Z"
   },
   {
    "duration": 7,
    "start_time": "2025-04-04T10:44:33.648Z"
   },
   {
    "duration": 194,
    "start_time": "2025-04-04T10:44:33.657Z"
   },
   {
    "duration": 9,
    "start_time": "2025-04-04T10:44:33.853Z"
   },
   {
    "duration": 22,
    "start_time": "2025-04-04T10:44:33.864Z"
   },
   {
    "duration": 10,
    "start_time": "2025-04-04T10:44:33.887Z"
   },
   {
    "duration": 186,
    "start_time": "2025-04-04T10:44:33.899Z"
   },
   {
    "duration": 220,
    "start_time": "2025-04-04T10:44:34.086Z"
   },
   {
    "duration": 8,
    "start_time": "2025-04-04T10:44:34.308Z"
   },
   {
    "duration": 287,
    "start_time": "2025-04-04T10:44:34.317Z"
   },
   {
    "duration": 5,
    "start_time": "2025-04-04T10:44:34.605Z"
   },
   {
    "duration": 136,
    "start_time": "2025-04-04T10:44:34.611Z"
   },
   {
    "duration": 9,
    "start_time": "2025-04-04T10:44:34.754Z"
   },
   {
    "duration": 24,
    "start_time": "2025-04-04T10:44:34.764Z"
   },
   {
    "duration": 3,
    "start_time": "2025-04-04T10:44:34.790Z"
   },
   {
    "duration": 15,
    "start_time": "2025-04-04T10:44:34.794Z"
   },
   {
    "duration": 15,
    "start_time": "2025-04-04T10:44:34.811Z"
   },
   {
    "duration": 268,
    "start_time": "2025-04-04T10:44:34.828Z"
   },
   {
    "duration": 31,
    "start_time": "2025-04-04T10:44:35.097Z"
   },
   {
    "duration": 7,
    "start_time": "2025-04-04T10:44:35.129Z"
   },
   {
    "duration": 21,
    "start_time": "2025-04-04T10:44:35.138Z"
   },
   {
    "duration": 206,
    "start_time": "2025-04-04T10:44:35.161Z"
   },
   {
    "duration": 6,
    "start_time": "2025-04-04T10:44:35.369Z"
   },
   {
    "duration": 3,
    "start_time": "2025-04-04T10:51:40.577Z"
   },
   {
    "duration": 57,
    "start_time": "2025-04-04T10:55:03.104Z"
   },
   {
    "duration": 2721,
    "start_time": "2025-04-04T10:55:23.853Z"
   },
   {
    "duration": 1252,
    "start_time": "2025-04-04T10:55:26.577Z"
   },
   {
    "duration": 196,
    "start_time": "2025-04-04T10:55:27.831Z"
   },
   {
    "duration": 16,
    "start_time": "2025-04-04T10:55:28.028Z"
   },
   {
    "duration": 14,
    "start_time": "2025-04-04T10:55:28.046Z"
   },
   {
    "duration": 10,
    "start_time": "2025-04-04T10:55:28.061Z"
   },
   {
    "duration": 13,
    "start_time": "2025-04-04T10:55:28.073Z"
   },
   {
    "duration": 10,
    "start_time": "2025-04-04T10:55:28.088Z"
   },
   {
    "duration": 12,
    "start_time": "2025-04-04T10:55:28.100Z"
   },
   {
    "duration": 4,
    "start_time": "2025-04-04T10:55:28.114Z"
   },
   {
    "duration": 39,
    "start_time": "2025-04-04T10:55:28.120Z"
   },
   {
    "duration": 11,
    "start_time": "2025-04-04T10:55:28.160Z"
   },
   {
    "duration": 60,
    "start_time": "2025-04-04T10:55:28.172Z"
   },
   {
    "duration": 5,
    "start_time": "2025-04-04T10:55:28.256Z"
   },
   {
    "duration": 16,
    "start_time": "2025-04-04T10:55:28.262Z"
   },
   {
    "duration": 6,
    "start_time": "2025-04-04T10:55:28.280Z"
   },
   {
    "duration": 9,
    "start_time": "2025-04-04T10:55:28.287Z"
   },
   {
    "duration": 7,
    "start_time": "2025-04-04T10:55:28.297Z"
   },
   {
    "duration": 8,
    "start_time": "2025-04-04T10:55:28.305Z"
   },
   {
    "duration": 12,
    "start_time": "2025-04-04T10:55:28.314Z"
   },
   {
    "duration": 30,
    "start_time": "2025-04-04T10:55:28.327Z"
   },
   {
    "duration": 11,
    "start_time": "2025-04-04T10:55:28.359Z"
   },
   {
    "duration": 14,
    "start_time": "2025-04-04T10:55:28.371Z"
   },
   {
    "duration": 9,
    "start_time": "2025-04-04T10:55:28.386Z"
   },
   {
    "duration": 12,
    "start_time": "2025-04-04T10:55:28.397Z"
   },
   {
    "duration": 9,
    "start_time": "2025-04-04T10:55:28.411Z"
   },
   {
    "duration": 39,
    "start_time": "2025-04-04T10:55:28.422Z"
   },
   {
    "duration": 9,
    "start_time": "2025-04-04T10:55:28.463Z"
   },
   {
    "duration": 7,
    "start_time": "2025-04-04T10:55:28.474Z"
   },
   {
    "duration": 13,
    "start_time": "2025-04-04T10:55:28.483Z"
   },
   {
    "duration": 19,
    "start_time": "2025-04-04T10:55:28.497Z"
   },
   {
    "duration": 19,
    "start_time": "2025-04-04T10:55:28.518Z"
   },
   {
    "duration": 21,
    "start_time": "2025-04-04T10:55:28.539Z"
   },
   {
    "duration": 12,
    "start_time": "2025-04-04T10:55:28.561Z"
   },
   {
    "duration": 324,
    "start_time": "2025-04-04T10:55:28.575Z"
   },
   {
    "duration": 4,
    "start_time": "2025-04-04T10:55:28.902Z"
   },
   {
    "duration": 9,
    "start_time": "2025-04-04T10:55:28.908Z"
   },
   {
    "duration": 394,
    "start_time": "2025-04-04T10:55:28.919Z"
   },
   {
    "duration": 4,
    "start_time": "2025-04-04T10:55:29.314Z"
   },
   {
    "duration": 11,
    "start_time": "2025-04-04T10:55:29.319Z"
   },
   {
    "duration": 20,
    "start_time": "2025-04-04T10:55:29.334Z"
   },
   {
    "duration": 5,
    "start_time": "2025-04-04T10:55:29.356Z"
   },
   {
    "duration": 19,
    "start_time": "2025-04-04T10:55:29.362Z"
   },
   {
    "duration": 329,
    "start_time": "2025-04-04T10:55:29.383Z"
   },
   {
    "duration": 6,
    "start_time": "2025-04-04T10:55:29.713Z"
   },
   {
    "duration": 9,
    "start_time": "2025-04-04T10:55:29.720Z"
   },
   {
    "duration": 143,
    "start_time": "2025-04-04T10:55:29.731Z"
   },
   {
    "duration": 6,
    "start_time": "2025-04-04T10:55:29.875Z"
   },
   {
    "duration": 7,
    "start_time": "2025-04-04T10:55:29.884Z"
   },
   {
    "duration": 239,
    "start_time": "2025-04-04T10:55:29.892Z"
   },
   {
    "duration": 21,
    "start_time": "2025-04-04T10:55:30.133Z"
   },
   {
    "duration": 7,
    "start_time": "2025-04-04T10:55:30.156Z"
   },
   {
    "duration": 185,
    "start_time": "2025-04-04T10:55:30.164Z"
   },
   {
    "duration": 215,
    "start_time": "2025-04-04T10:55:30.351Z"
   },
   {
    "duration": 18,
    "start_time": "2025-04-04T10:55:30.568Z"
   },
   {
    "duration": 17,
    "start_time": "2025-04-04T10:55:30.587Z"
   },
   {
    "duration": 28,
    "start_time": "2025-04-04T10:55:30.606Z"
   },
   {
    "duration": 15,
    "start_time": "2025-04-04T10:55:30.636Z"
   },
   {
    "duration": 204,
    "start_time": "2025-04-04T10:55:30.653Z"
   },
   {
    "duration": 5,
    "start_time": "2025-04-04T10:55:30.860Z"
   },
   {
    "duration": 204,
    "start_time": "2025-04-04T10:55:30.867Z"
   },
   {
    "duration": 8,
    "start_time": "2025-04-04T10:55:31.073Z"
   },
   {
    "duration": 20,
    "start_time": "2025-04-04T10:55:31.083Z"
   },
   {
    "duration": 14,
    "start_time": "2025-04-04T10:55:31.105Z"
   },
   {
    "duration": 171,
    "start_time": "2025-04-04T10:55:31.121Z"
   },
   {
    "duration": 223,
    "start_time": "2025-04-04T10:55:31.295Z"
   },
   {
    "duration": 9,
    "start_time": "2025-04-04T10:55:31.520Z"
   },
   {
    "duration": 299,
    "start_time": "2025-04-04T10:55:31.531Z"
   },
   {
    "duration": 4,
    "start_time": "2025-04-04T10:55:31.832Z"
   },
   {
    "duration": 141,
    "start_time": "2025-04-04T10:55:31.837Z"
   },
   {
    "duration": 8,
    "start_time": "2025-04-04T10:55:31.980Z"
   },
   {
    "duration": 12,
    "start_time": "2025-04-04T10:55:31.990Z"
   },
   {
    "duration": 4,
    "start_time": "2025-04-04T10:55:32.003Z"
   },
   {
    "duration": 18,
    "start_time": "2025-04-04T10:55:32.008Z"
   },
   {
    "duration": 25,
    "start_time": "2025-04-04T10:55:32.027Z"
   },
   {
    "duration": 271,
    "start_time": "2025-04-04T10:55:32.054Z"
   },
   {
    "duration": 39,
    "start_time": "2025-04-04T10:55:32.326Z"
   },
   {
    "duration": 7,
    "start_time": "2025-04-04T10:55:32.367Z"
   },
   {
    "duration": 7,
    "start_time": "2025-04-04T10:55:32.376Z"
   },
   {
    "duration": 225,
    "start_time": "2025-04-04T10:55:32.385Z"
   },
   {
    "duration": 6,
    "start_time": "2025-04-04T10:55:32.612Z"
   },
   {
    "duration": 12,
    "start_time": "2025-04-04T12:25:58.586Z"
   },
   {
    "duration": 247,
    "start_time": "2025-04-04T13:58:49.632Z"
   },
   {
    "duration": 17,
    "start_time": "2025-04-04T14:43:15.749Z"
   },
   {
    "duration": 6,
    "start_time": "2025-04-04T14:43:21.479Z"
   },
   {
    "duration": 6,
    "start_time": "2025-04-04T15:46:55.902Z"
   },
   {
    "duration": 6,
    "start_time": "2025-04-04T15:47:03.540Z"
   },
   {
    "duration": 3457,
    "start_time": "2025-04-10T08:19:51.719Z"
   },
   {
    "duration": 1402,
    "start_time": "2025-04-10T08:19:55.179Z"
   },
   {
    "duration": 437,
    "start_time": "2025-04-10T08:19:56.582Z"
   },
   {
    "duration": 16,
    "start_time": "2025-04-10T08:19:57.020Z"
   },
   {
    "duration": 14,
    "start_time": "2025-04-10T08:19:57.038Z"
   },
   {
    "duration": 9,
    "start_time": "2025-04-10T08:19:57.054Z"
   },
   {
    "duration": 14,
    "start_time": "2025-04-10T08:19:57.065Z"
   },
   {
    "duration": 11,
    "start_time": "2025-04-10T08:19:57.080Z"
   },
   {
    "duration": 11,
    "start_time": "2025-04-10T08:19:57.092Z"
   },
   {
    "duration": 15,
    "start_time": "2025-04-10T08:19:57.104Z"
   },
   {
    "duration": 4,
    "start_time": "2025-04-10T08:19:57.121Z"
   },
   {
    "duration": 65,
    "start_time": "2025-04-10T08:19:57.126Z"
   },
   {
    "duration": 6,
    "start_time": "2025-04-10T08:19:57.193Z"
   },
   {
    "duration": 9,
    "start_time": "2025-04-10T08:19:57.202Z"
   },
   {
    "duration": 12,
    "start_time": "2025-04-10T08:19:57.213Z"
   },
   {
    "duration": 68,
    "start_time": "2025-04-10T08:19:57.227Z"
   },
   {
    "duration": 5,
    "start_time": "2025-04-10T08:19:57.297Z"
   },
   {
    "duration": 3,
    "start_time": "2025-04-10T08:19:57.304Z"
   },
   {
    "duration": 8,
    "start_time": "2025-04-10T08:19:57.309Z"
   },
   {
    "duration": 8,
    "start_time": "2025-04-10T08:19:57.319Z"
   },
   {
    "duration": 5,
    "start_time": "2025-04-10T08:19:57.328Z"
   },
   {
    "duration": 4,
    "start_time": "2025-04-10T08:19:57.371Z"
   },
   {
    "duration": 10,
    "start_time": "2025-04-10T08:19:57.377Z"
   },
   {
    "duration": 18,
    "start_time": "2025-04-10T08:19:57.389Z"
   },
   {
    "duration": 8,
    "start_time": "2025-04-10T08:19:57.408Z"
   },
   {
    "duration": 18,
    "start_time": "2025-04-10T08:19:57.418Z"
   },
   {
    "duration": 47,
    "start_time": "2025-04-10T08:19:57.438Z"
   },
   {
    "duration": 13,
    "start_time": "2025-04-10T08:19:57.487Z"
   },
   {
    "duration": 91,
    "start_time": "2025-04-10T08:19:57.501Z"
   },
   {
    "duration": 15,
    "start_time": "2025-04-10T08:19:57.594Z"
   },
   {
    "duration": 37,
    "start_time": "2025-04-10T08:19:57.610Z"
   },
   {
    "duration": 10,
    "start_time": "2025-04-10T08:19:57.649Z"
   },
   {
    "duration": 9,
    "start_time": "2025-04-10T08:19:57.661Z"
   },
   {
    "duration": 15,
    "start_time": "2025-04-10T08:19:57.671Z"
   },
   {
    "duration": 19,
    "start_time": "2025-04-10T08:19:57.688Z"
   },
   {
    "duration": 5,
    "start_time": "2025-04-10T08:19:57.708Z"
   },
   {
    "duration": 4,
    "start_time": "2025-04-10T08:19:57.715Z"
   },
   {
    "duration": 8,
    "start_time": "2025-04-10T08:19:57.721Z"
   },
   {
    "duration": 10,
    "start_time": "2025-04-10T08:19:57.730Z"
   },
   {
    "duration": 372,
    "start_time": "2025-04-10T08:19:57.742Z"
   },
   {
    "duration": 6,
    "start_time": "2025-04-10T08:19:58.120Z"
   },
   {
    "duration": 9,
    "start_time": "2025-04-10T08:19:58.128Z"
   },
   {
    "duration": 378,
    "start_time": "2025-04-10T08:19:58.139Z"
   },
   {
    "duration": 4,
    "start_time": "2025-04-10T08:19:58.519Z"
   },
   {
    "duration": 10,
    "start_time": "2025-04-10T08:19:58.525Z"
   },
   {
    "duration": 5,
    "start_time": "2025-04-10T08:19:58.537Z"
   },
   {
    "duration": 29,
    "start_time": "2025-04-10T08:19:58.543Z"
   },
   {
    "duration": 4,
    "start_time": "2025-04-10T08:19:58.574Z"
   },
   {
    "duration": 9,
    "start_time": "2025-04-10T08:19:58.579Z"
   },
   {
    "duration": 335,
    "start_time": "2025-04-10T08:19:58.590Z"
   },
   {
    "duration": 7,
    "start_time": "2025-04-10T08:19:58.926Z"
   },
   {
    "duration": 9,
    "start_time": "2025-04-10T08:19:58.934Z"
   },
   {
    "duration": 142,
    "start_time": "2025-04-10T08:19:58.944Z"
   },
   {
    "duration": 6,
    "start_time": "2025-04-10T08:19:59.087Z"
   },
   {
    "duration": 118,
    "start_time": "2025-04-10T08:19:59.095Z"
   },
   {
    "duration": 9,
    "start_time": "2025-04-10T08:19:59.215Z"
   },
   {
    "duration": 292,
    "start_time": "2025-04-10T08:19:59.226Z"
   },
   {
    "duration": 8,
    "start_time": "2025-04-10T08:19:59.520Z"
   },
   {
    "duration": 58,
    "start_time": "2025-04-10T08:19:59.530Z"
   },
   {
    "duration": 11,
    "start_time": "2025-04-10T08:19:59.590Z"
   },
   {
    "duration": 172,
    "start_time": "2025-04-10T08:19:59.602Z"
   },
   {
    "duration": 217,
    "start_time": "2025-04-10T08:19:59.775Z"
   },
   {
    "duration": 7,
    "start_time": "2025-04-10T08:19:59.993Z"
   },
   {
    "duration": 2,
    "start_time": "2025-04-10T08:20:00.002Z"
   },
   {
    "duration": 6,
    "start_time": "2025-04-10T08:20:00.005Z"
   },
   {
    "duration": 14,
    "start_time": "2025-04-10T08:20:00.012Z"
   },
   {
    "duration": 58,
    "start_time": "2025-04-10T08:20:00.028Z"
   },
   {
    "duration": 170,
    "start_time": "2025-04-10T08:20:00.088Z"
   },
   {
    "duration": 244,
    "start_time": "2025-04-10T08:20:00.260Z"
   },
   {
    "duration": 6,
    "start_time": "2025-04-10T08:20:00.507Z"
   },
   {
    "duration": 194,
    "start_time": "2025-04-10T08:20:00.515Z"
   },
   {
    "duration": 9,
    "start_time": "2025-04-10T08:20:00.711Z"
   },
   {
    "duration": 10,
    "start_time": "2025-04-10T08:20:00.722Z"
   },
   {
    "duration": 8,
    "start_time": "2025-04-10T08:20:00.734Z"
   },
   {
    "duration": 22,
    "start_time": "2025-04-10T08:20:00.769Z"
   },
   {
    "duration": 14,
    "start_time": "2025-04-10T08:20:00.793Z"
   },
   {
    "duration": 166,
    "start_time": "2025-04-10T08:20:00.808Z"
   },
   {
    "duration": 256,
    "start_time": "2025-04-10T08:20:00.976Z"
   },
   {
    "duration": 6,
    "start_time": "2025-04-10T08:20:01.234Z"
   },
   {
    "duration": 23,
    "start_time": "2025-04-10T08:20:01.242Z"
   },
   {
    "duration": 290,
    "start_time": "2025-04-10T08:20:01.266Z"
   },
   {
    "duration": 13,
    "start_time": "2025-04-10T08:20:01.557Z"
   },
   {
    "duration": 144,
    "start_time": "2025-04-10T08:20:01.572Z"
   },
   {
    "duration": 9,
    "start_time": "2025-04-10T08:20:01.718Z"
   },
   {
    "duration": 29,
    "start_time": "2025-04-10T08:20:01.728Z"
   },
   {
    "duration": 23,
    "start_time": "2025-04-10T08:20:01.759Z"
   },
   {
    "duration": 12,
    "start_time": "2025-04-10T08:20:01.784Z"
   },
   {
    "duration": 5,
    "start_time": "2025-04-10T08:20:01.797Z"
   },
   {
    "duration": 10,
    "start_time": "2025-04-10T08:20:01.803Z"
   },
   {
    "duration": 258,
    "start_time": "2025-04-10T08:20:01.814Z"
   },
   {
    "duration": 9,
    "start_time": "2025-04-10T08:20:02.074Z"
   },
   {
    "duration": 216,
    "start_time": "2025-04-10T08:20:02.085Z"
   },
   {
    "duration": 221,
    "start_time": "2025-04-10T08:20:02.303Z"
   },
   {
    "duration": 0,
    "start_time": "2025-04-10T08:20:02.526Z"
   },
   {
    "duration": 0,
    "start_time": "2025-04-10T08:20:02.527Z"
   },
   {
    "duration": 0,
    "start_time": "2025-04-10T08:20:02.529Z"
   },
   {
    "duration": 0,
    "start_time": "2025-04-10T08:20:02.530Z"
   },
   {
    "duration": 0,
    "start_time": "2025-04-10T08:20:02.532Z"
   },
   {
    "duration": 0,
    "start_time": "2025-04-10T08:20:02.533Z"
   },
   {
    "duration": 253,
    "start_time": "2025-04-10T11:10:38.455Z"
   },
   {
    "duration": 160,
    "start_time": "2025-04-10T11:10:45.754Z"
   },
   {
    "duration": 65,
    "start_time": "2025-04-10T11:11:34.114Z"
   },
   {
    "duration": 167,
    "start_time": "2025-04-10T11:11:40.435Z"
   },
   {
    "duration": 55,
    "start_time": "2025-04-10T19:21:44.043Z"
   },
   {
    "duration": 3650,
    "start_time": "2025-04-10T19:26:10.156Z"
   },
   {
    "duration": 1537,
    "start_time": "2025-04-10T19:26:13.808Z"
   },
   {
    "duration": 869,
    "start_time": "2025-04-10T19:26:15.347Z"
   },
   {
    "duration": 15,
    "start_time": "2025-04-10T19:26:16.218Z"
   },
   {
    "duration": 16,
    "start_time": "2025-04-10T19:26:16.236Z"
   },
   {
    "duration": 9,
    "start_time": "2025-04-10T19:26:16.254Z"
   },
   {
    "duration": 43,
    "start_time": "2025-04-10T19:26:16.265Z"
   },
   {
    "duration": 10,
    "start_time": "2025-04-10T19:26:16.310Z"
   },
   {
    "duration": 26,
    "start_time": "2025-04-10T19:26:16.322Z"
   },
   {
    "duration": 32,
    "start_time": "2025-04-10T19:26:16.350Z"
   },
   {
    "duration": 3,
    "start_time": "2025-04-10T19:26:16.384Z"
   },
   {
    "duration": 98,
    "start_time": "2025-04-10T19:26:16.389Z"
   },
   {
    "duration": 5,
    "start_time": "2025-04-10T19:26:16.489Z"
   },
   {
    "duration": 13,
    "start_time": "2025-04-10T19:26:16.497Z"
   },
   {
    "duration": 12,
    "start_time": "2025-04-10T19:26:16.512Z"
   },
   {
    "duration": 81,
    "start_time": "2025-04-10T19:26:16.525Z"
   },
   {
    "duration": 5,
    "start_time": "2025-04-10T19:26:16.608Z"
   },
   {
    "duration": 4,
    "start_time": "2025-04-10T19:26:16.615Z"
   },
   {
    "duration": 15,
    "start_time": "2025-04-10T19:26:16.620Z"
   },
   {
    "duration": 8,
    "start_time": "2025-04-10T19:26:16.637Z"
   },
   {
    "duration": 5,
    "start_time": "2025-04-10T19:26:16.647Z"
   },
   {
    "duration": 8,
    "start_time": "2025-04-10T19:26:16.653Z"
   },
   {
    "duration": 44,
    "start_time": "2025-04-10T19:26:16.663Z"
   },
   {
    "duration": 18,
    "start_time": "2025-04-10T19:26:16.709Z"
   },
   {
    "duration": 6,
    "start_time": "2025-04-10T19:26:16.729Z"
   },
   {
    "duration": 21,
    "start_time": "2025-04-10T19:26:16.737Z"
   },
   {
    "duration": 14,
    "start_time": "2025-04-10T19:26:16.759Z"
   },
   {
    "duration": 14,
    "start_time": "2025-04-10T19:26:16.805Z"
   },
   {
    "duration": 11,
    "start_time": "2025-04-10T19:26:16.821Z"
   },
   {
    "duration": 15,
    "start_time": "2025-04-10T19:26:16.833Z"
   },
   {
    "duration": 8,
    "start_time": "2025-04-10T19:26:16.850Z"
   },
   {
    "duration": 7,
    "start_time": "2025-04-10T19:26:16.859Z"
   },
   {
    "duration": 39,
    "start_time": "2025-04-10T19:26:16.867Z"
   },
   {
    "duration": 7,
    "start_time": "2025-04-10T19:26:16.909Z"
   },
   {
    "duration": 21,
    "start_time": "2025-04-10T19:26:16.918Z"
   },
   {
    "duration": 42,
    "start_time": "2025-04-10T19:26:16.940Z"
   },
   {
    "duration": 9,
    "start_time": "2025-04-10T19:26:16.984Z"
   },
   {
    "duration": 11,
    "start_time": "2025-04-10T19:26:16.995Z"
   },
   {
    "duration": 10,
    "start_time": "2025-04-10T19:26:17.007Z"
   },
   {
    "duration": 373,
    "start_time": "2025-04-10T19:26:17.019Z"
   },
   {
    "duration": 11,
    "start_time": "2025-04-10T19:26:17.397Z"
   },
   {
    "duration": 76,
    "start_time": "2025-04-10T19:26:17.409Z"
   },
   {
    "duration": 419,
    "start_time": "2025-04-10T19:26:17.487Z"
   },
   {
    "duration": 4,
    "start_time": "2025-04-10T19:26:17.908Z"
   },
   {
    "duration": 12,
    "start_time": "2025-04-10T19:26:17.913Z"
   },
   {
    "duration": 8,
    "start_time": "2025-04-10T19:26:17.927Z"
   },
   {
    "duration": 5,
    "start_time": "2025-04-10T19:26:17.937Z"
   },
   {
    "duration": 5,
    "start_time": "2025-04-10T19:26:17.945Z"
   },
   {
    "duration": 11,
    "start_time": "2025-04-10T19:26:17.951Z"
   },
   {
    "duration": 377,
    "start_time": "2025-04-10T19:26:17.963Z"
   },
   {
    "duration": 6,
    "start_time": "2025-04-10T19:26:18.343Z"
   },
   {
    "duration": 21,
    "start_time": "2025-04-10T19:26:18.351Z"
   },
   {
    "duration": 139,
    "start_time": "2025-04-10T19:26:18.374Z"
   },
   {
    "duration": 8,
    "start_time": "2025-04-10T19:26:18.514Z"
   },
   {
    "duration": 15,
    "start_time": "2025-04-10T19:26:18.523Z"
   },
   {
    "duration": 5,
    "start_time": "2025-04-10T19:26:18.540Z"
   },
   {
    "duration": 365,
    "start_time": "2025-04-10T19:26:18.547Z"
   },
   {
    "duration": 10,
    "start_time": "2025-04-10T19:26:18.914Z"
   },
   {
    "duration": 23,
    "start_time": "2025-04-10T19:26:18.926Z"
   },
   {
    "duration": 5,
    "start_time": "2025-04-10T19:26:18.951Z"
   },
   {
    "duration": 210,
    "start_time": "2025-04-10T19:26:18.957Z"
   },
   {
    "duration": 288,
    "start_time": "2025-04-10T19:26:19.169Z"
   },
   {
    "duration": 148,
    "start_time": "2025-04-10T19:26:19.459Z"
   },
   {
    "duration": 6,
    "start_time": "2025-04-10T19:26:19.609Z"
   },
   {
    "duration": 3,
    "start_time": "2025-04-10T19:26:19.616Z"
   },
   {
    "duration": 5,
    "start_time": "2025-04-10T19:26:19.621Z"
   },
   {
    "duration": 102,
    "start_time": "2025-04-10T19:26:19.628Z"
   },
   {
    "duration": 9,
    "start_time": "2025-04-10T19:26:19.732Z"
   },
   {
    "duration": 165,
    "start_time": "2025-04-10T19:26:19.743Z"
   },
   {
    "duration": 270,
    "start_time": "2025-04-10T19:26:19.910Z"
   },
   {
    "duration": 6,
    "start_time": "2025-04-10T19:26:20.182Z"
   },
   {
    "duration": 198,
    "start_time": "2025-04-10T19:26:20.190Z"
   },
   {
    "duration": 17,
    "start_time": "2025-04-10T19:26:20.390Z"
   },
   {
    "duration": 114,
    "start_time": "2025-04-10T19:26:20.408Z"
   },
   {
    "duration": 15,
    "start_time": "2025-04-10T19:26:20.524Z"
   },
   {
    "duration": 28,
    "start_time": "2025-04-10T19:26:20.540Z"
   },
   {
    "duration": 16,
    "start_time": "2025-04-10T19:26:20.569Z"
   },
   {
    "duration": 191,
    "start_time": "2025-04-10T19:26:20.587Z"
   },
   {
    "duration": 277,
    "start_time": "2025-04-10T19:26:20.779Z"
   },
   {
    "duration": 6,
    "start_time": "2025-04-10T19:26:21.058Z"
   },
   {
    "duration": 11,
    "start_time": "2025-04-10T19:26:21.066Z"
   },
   {
    "duration": 284,
    "start_time": "2025-04-10T19:26:21.079Z"
   },
   {
    "duration": 6,
    "start_time": "2025-04-10T19:26:21.365Z"
   },
   {
    "duration": 261,
    "start_time": "2025-04-10T19:26:21.373Z"
   },
   {
    "duration": 9,
    "start_time": "2025-04-10T19:26:21.636Z"
   },
   {
    "duration": 67,
    "start_time": "2025-04-10T19:26:21.647Z"
   },
   {
    "duration": 10,
    "start_time": "2025-04-10T19:26:21.716Z"
   },
   {
    "duration": 5,
    "start_time": "2025-04-10T19:26:21.727Z"
   },
   {
    "duration": 5,
    "start_time": "2025-04-10T19:26:21.733Z"
   },
   {
    "duration": 16,
    "start_time": "2025-04-10T19:26:21.740Z"
   },
   {
    "duration": 276,
    "start_time": "2025-04-10T19:26:21.758Z"
   },
   {
    "duration": 10,
    "start_time": "2025-04-10T19:26:22.037Z"
   },
   {
    "duration": 246,
    "start_time": "2025-04-10T19:26:22.050Z"
   },
   {
    "duration": 327,
    "start_time": "2025-04-10T19:26:22.298Z"
   },
   {
    "duration": 0,
    "start_time": "2025-04-10T19:26:22.627Z"
   },
   {
    "duration": 0,
    "start_time": "2025-04-10T19:26:22.629Z"
   },
   {
    "duration": 0,
    "start_time": "2025-04-10T19:26:22.630Z"
   },
   {
    "duration": 0,
    "start_time": "2025-04-10T19:26:22.631Z"
   },
   {
    "duration": 0,
    "start_time": "2025-04-10T19:26:22.632Z"
   },
   {
    "duration": 0,
    "start_time": "2025-04-10T19:26:22.634Z"
   },
   {
    "duration": 252,
    "start_time": "2025-04-10T19:27:31.134Z"
   },
   {
    "duration": 252,
    "start_time": "2025-04-10T19:27:55.778Z"
   },
   {
    "duration": 145,
    "start_time": "2025-04-10T19:28:44.263Z"
   },
   {
    "duration": 217,
    "start_time": "2025-04-10T19:29:30.677Z"
   },
   {
    "duration": 130,
    "start_time": "2025-04-10T19:30:01.372Z"
   },
   {
    "duration": 97,
    "start_time": "2025-04-10T19:31:10.605Z"
   },
   {
    "duration": 179,
    "start_time": "2025-04-10T19:31:40.492Z"
   },
   {
    "duration": 189,
    "start_time": "2025-04-10T19:32:46.151Z"
   },
   {
    "duration": 184,
    "start_time": "2025-04-10T19:33:37.281Z"
   },
   {
    "duration": 394,
    "start_time": "2025-04-10T19:45:50.196Z"
   },
   {
    "duration": 503,
    "start_time": "2025-04-10T19:50:01.683Z"
   },
   {
    "duration": 6,
    "start_time": "2025-04-10T20:03:47.443Z"
   },
   {
    "duration": 185,
    "start_time": "2025-04-10T20:07:06.387Z"
   },
   {
    "duration": 198,
    "start_time": "2025-04-10T20:12:12.836Z"
   },
   {
    "duration": 5,
    "start_time": "2025-04-10T20:46:56.203Z"
   },
   {
    "duration": 9,
    "start_time": "2025-04-10T20:48:28.794Z"
   },
   {
    "duration": 6,
    "start_time": "2025-04-10T20:48:32.726Z"
   },
   {
    "duration": 7,
    "start_time": "2025-04-10T20:49:02.336Z"
   },
   {
    "duration": 6,
    "start_time": "2025-04-10T20:49:04.201Z"
   },
   {
    "duration": 8,
    "start_time": "2025-04-10T20:49:17.001Z"
   },
   {
    "duration": 5,
    "start_time": "2025-04-10T20:49:18.901Z"
   },
   {
    "duration": 6,
    "start_time": "2025-04-10T20:49:46.877Z"
   },
   {
    "duration": 9,
    "start_time": "2025-04-10T20:52:08.128Z"
   },
   {
    "duration": 6,
    "start_time": "2025-04-10T20:52:08.681Z"
   },
   {
    "duration": 333,
    "start_time": "2025-04-10T20:52:36.191Z"
   },
   {
    "duration": 6,
    "start_time": "2025-04-10T20:52:43.106Z"
   },
   {
    "duration": 329,
    "start_time": "2025-04-10T20:52:43.803Z"
   },
   {
    "duration": 3,
    "start_time": "2025-04-10T20:53:19.133Z"
   },
   {
    "duration": 309,
    "start_time": "2025-04-10T20:53:19.827Z"
   },
   {
    "duration": 326,
    "start_time": "2025-04-10T20:56:24.857Z"
   },
   {
    "duration": 15,
    "start_time": "2025-04-10T20:57:25.806Z"
   },
   {
    "duration": 223,
    "start_time": "2025-04-10T21:06:13.064Z"
   },
   {
    "duration": 152,
    "start_time": "2025-04-10T21:12:25.945Z"
   },
   {
    "duration": 39,
    "start_time": "2025-04-10T21:14:28.918Z"
   },
   {
    "duration": 8,
    "start_time": "2025-04-10T21:14:29.620Z"
   },
   {
    "duration": 25,
    "start_time": "2025-04-10T21:14:35.342Z"
   },
   {
    "duration": 12,
    "start_time": "2025-04-10T21:14:36.135Z"
   },
   {
    "duration": 4,
    "start_time": "2025-04-10T21:15:02.651Z"
   },
   {
    "duration": 3,
    "start_time": "2025-04-10T21:15:31.955Z"
   },
   {
    "duration": 300,
    "start_time": "2025-04-10T21:15:32.474Z"
   },
   {
    "duration": 290,
    "start_time": "2025-04-10T21:16:22.666Z"
   },
   {
    "duration": 416,
    "start_time": "2025-04-10T21:16:44.669Z"
   },
   {
    "duration": 318,
    "start_time": "2025-04-10T21:17:15.124Z"
   },
   {
    "duration": 2927,
    "start_time": "2025-04-10T21:24:10.764Z"
   },
   {
    "duration": 1321,
    "start_time": "2025-04-10T21:24:13.694Z"
   },
   {
    "duration": 341,
    "start_time": "2025-04-10T21:24:15.016Z"
   },
   {
    "duration": 17,
    "start_time": "2025-04-10T21:24:15.359Z"
   },
   {
    "duration": 14,
    "start_time": "2025-04-10T21:24:15.379Z"
   },
   {
    "duration": 40,
    "start_time": "2025-04-10T21:24:15.395Z"
   },
   {
    "duration": 35,
    "start_time": "2025-04-10T21:24:15.436Z"
   },
   {
    "duration": 32,
    "start_time": "2025-04-10T21:24:15.472Z"
   },
   {
    "duration": 14,
    "start_time": "2025-04-10T21:24:15.506Z"
   },
   {
    "duration": 17,
    "start_time": "2025-04-10T21:24:15.522Z"
   },
   {
    "duration": 3,
    "start_time": "2025-04-10T21:24:15.541Z"
   },
   {
    "duration": 4,
    "start_time": "2025-04-10T21:24:15.546Z"
   },
   {
    "duration": 5,
    "start_time": "2025-04-10T21:24:15.552Z"
   },
   {
    "duration": 9,
    "start_time": "2025-04-10T21:24:15.560Z"
   },
   {
    "duration": 40,
    "start_time": "2025-04-10T21:24:15.571Z"
   },
   {
    "duration": 67,
    "start_time": "2025-04-10T21:24:15.613Z"
   },
   {
    "duration": 25,
    "start_time": "2025-04-10T21:24:15.681Z"
   },
   {
    "duration": 4,
    "start_time": "2025-04-10T21:24:15.708Z"
   },
   {
    "duration": 16,
    "start_time": "2025-04-10T21:24:15.714Z"
   },
   {
    "duration": 19,
    "start_time": "2025-04-10T21:24:15.732Z"
   },
   {
    "duration": 4,
    "start_time": "2025-04-10T21:24:15.754Z"
   },
   {
    "duration": 17,
    "start_time": "2025-04-10T21:24:15.760Z"
   },
   {
    "duration": 94,
    "start_time": "2025-04-10T21:24:15.779Z"
   },
   {
    "duration": 18,
    "start_time": "2025-04-10T21:24:15.875Z"
   },
   {
    "duration": 6,
    "start_time": "2025-04-10T21:24:15.894Z"
   },
   {
    "duration": 85,
    "start_time": "2025-04-10T21:24:15.901Z"
   },
   {
    "duration": 99,
    "start_time": "2025-04-10T21:24:15.988Z"
   },
   {
    "duration": 17,
    "start_time": "2025-04-10T21:24:16.089Z"
   },
   {
    "duration": 10,
    "start_time": "2025-04-10T21:24:16.108Z"
   },
   {
    "duration": 15,
    "start_time": "2025-04-10T21:24:16.120Z"
   },
   {
    "duration": 8,
    "start_time": "2025-04-10T21:24:16.136Z"
   },
   {
    "duration": 5,
    "start_time": "2025-04-10T21:24:16.145Z"
   },
   {
    "duration": 8,
    "start_time": "2025-04-10T21:24:16.151Z"
   },
   {
    "duration": 18,
    "start_time": "2025-04-10T21:24:16.161Z"
   },
   {
    "duration": 36,
    "start_time": "2025-04-10T21:24:16.180Z"
   },
   {
    "duration": 5,
    "start_time": "2025-04-10T21:24:16.217Z"
   },
   {
    "duration": 8,
    "start_time": "2025-04-10T21:24:16.224Z"
   },
   {
    "duration": 5,
    "start_time": "2025-04-10T21:24:16.234Z"
   },
   {
    "duration": 8,
    "start_time": "2025-04-10T21:24:16.241Z"
   },
   {
    "duration": 395,
    "start_time": "2025-04-10T21:24:16.251Z"
   },
   {
    "duration": 5,
    "start_time": "2025-04-10T21:24:16.652Z"
   },
   {
    "duration": 9,
    "start_time": "2025-04-10T21:24:16.658Z"
   },
   {
    "duration": 405,
    "start_time": "2025-04-10T21:24:16.669Z"
   },
   {
    "duration": 4,
    "start_time": "2025-04-10T21:24:17.076Z"
   },
   {
    "duration": 12,
    "start_time": "2025-04-10T21:24:17.082Z"
   },
   {
    "duration": 6,
    "start_time": "2025-04-10T21:24:17.106Z"
   },
   {
    "duration": 5,
    "start_time": "2025-04-10T21:24:17.114Z"
   },
   {
    "duration": 8,
    "start_time": "2025-04-10T21:24:17.120Z"
   },
   {
    "duration": 10,
    "start_time": "2025-04-10T21:24:17.130Z"
   },
   {
    "duration": 377,
    "start_time": "2025-04-10T21:24:17.141Z"
   },
   {
    "duration": 6,
    "start_time": "2025-04-10T21:24:17.520Z"
   },
   {
    "duration": 32,
    "start_time": "2025-04-10T21:24:17.528Z"
   },
   {
    "duration": 151,
    "start_time": "2025-04-10T21:24:17.562Z"
   },
   {
    "duration": 6,
    "start_time": "2025-04-10T21:24:17.715Z"
   },
   {
    "duration": 14,
    "start_time": "2025-04-10T21:24:17.722Z"
   },
   {
    "duration": 9,
    "start_time": "2025-04-10T21:24:17.738Z"
   },
   {
    "duration": 10,
    "start_time": "2025-04-10T21:24:17.749Z"
   },
   {
    "duration": 3,
    "start_time": "2025-04-10T21:24:17.761Z"
   },
   {
    "duration": 348,
    "start_time": "2025-04-10T21:24:17.766Z"
   },
   {
    "duration": 9,
    "start_time": "2025-04-10T21:24:18.115Z"
   },
   {
    "duration": 10,
    "start_time": "2025-04-10T21:24:18.125Z"
   },
   {
    "duration": 5,
    "start_time": "2025-04-10T21:24:18.137Z"
   },
   {
    "duration": 223,
    "start_time": "2025-04-10T21:24:18.143Z"
   },
   {
    "duration": 279,
    "start_time": "2025-04-10T21:24:18.368Z"
   },
   {
    "duration": 148,
    "start_time": "2025-04-10T21:24:18.648Z"
   },
   {
    "duration": 7,
    "start_time": "2025-04-10T21:24:18.805Z"
   },
   {
    "duration": 3,
    "start_time": "2025-04-10T21:24:18.814Z"
   },
   {
    "duration": 3,
    "start_time": "2025-04-10T21:24:18.819Z"
   },
   {
    "duration": 7,
    "start_time": "2025-04-10T21:24:18.824Z"
   },
   {
    "duration": 8,
    "start_time": "2025-04-10T21:24:18.833Z"
   },
   {
    "duration": 197,
    "start_time": "2025-04-10T21:24:18.842Z"
   },
   {
    "duration": 269,
    "start_time": "2025-04-10T21:24:19.040Z"
   },
   {
    "duration": 6,
    "start_time": "2025-04-10T21:24:19.311Z"
   },
   {
    "duration": 212,
    "start_time": "2025-04-10T21:24:19.318Z"
   },
   {
    "duration": 8,
    "start_time": "2025-04-10T21:24:19.532Z"
   },
   {
    "duration": 17,
    "start_time": "2025-04-10T21:24:19.542Z"
   },
   {
    "duration": 7,
    "start_time": "2025-04-10T21:24:19.561Z"
   },
   {
    "duration": 53,
    "start_time": "2025-04-10T21:24:19.570Z"
   },
   {
    "duration": 14,
    "start_time": "2025-04-10T21:24:19.625Z"
   },
   {
    "duration": 195,
    "start_time": "2025-04-10T21:24:19.640Z"
   },
   {
    "duration": 296,
    "start_time": "2025-04-10T21:24:19.836Z"
   },
   {
    "duration": 6,
    "start_time": "2025-04-10T21:24:20.133Z"
   },
   {
    "duration": 10,
    "start_time": "2025-04-10T21:24:20.141Z"
   },
   {
    "duration": 234,
    "start_time": "2025-04-10T21:24:20.153Z"
   },
   {
    "duration": 18,
    "start_time": "2025-04-10T21:24:20.388Z"
   },
   {
    "duration": 161,
    "start_time": "2025-04-10T21:24:20.407Z"
   },
   {
    "duration": 8,
    "start_time": "2025-04-10T21:24:20.570Z"
   },
   {
    "duration": 6,
    "start_time": "2025-04-10T21:24:20.580Z"
   },
   {
    "duration": 30,
    "start_time": "2025-04-10T21:24:20.587Z"
   },
   {
    "duration": 22,
    "start_time": "2025-04-10T21:24:20.619Z"
   },
   {
    "duration": 5,
    "start_time": "2025-04-10T21:24:20.642Z"
   },
   {
    "duration": 10,
    "start_time": "2025-04-10T21:24:20.649Z"
   },
   {
    "duration": 263,
    "start_time": "2025-04-10T21:24:20.660Z"
   },
   {
    "duration": 9,
    "start_time": "2025-04-10T21:24:20.924Z"
   },
   {
    "duration": 283,
    "start_time": "2025-04-10T21:24:20.935Z"
   },
   {
    "duration": 230,
    "start_time": "2025-04-10T21:24:21.219Z"
   },
   {
    "duration": 38,
    "start_time": "2025-04-10T21:24:21.451Z"
   },
   {
    "duration": 12,
    "start_time": "2025-04-10T21:24:21.504Z"
   },
   {
    "duration": 26,
    "start_time": "2025-04-10T21:24:21.518Z"
   },
   {
    "duration": 13,
    "start_time": "2025-04-10T21:24:21.546Z"
   },
   {
    "duration": 24,
    "start_time": "2025-04-10T21:24:21.561Z"
   },
   {
    "duration": 295,
    "start_time": "2025-04-10T21:24:21.587Z"
   },
   {
    "duration": 336,
    "start_time": "2025-04-10T21:25:42.759Z"
   },
   {
    "duration": 262,
    "start_time": "2025-04-10T21:29:39.455Z"
   },
   {
    "duration": 269,
    "start_time": "2025-04-10T21:30:12.445Z"
   },
   {
    "duration": 2767,
    "start_time": "2025-04-11T15:06:45.269Z"
   },
   {
    "duration": 1290,
    "start_time": "2025-04-11T15:06:48.039Z"
   },
   {
    "duration": 346,
    "start_time": "2025-04-11T15:06:49.331Z"
   },
   {
    "duration": 17,
    "start_time": "2025-04-11T15:06:49.678Z"
   },
   {
    "duration": 14,
    "start_time": "2025-04-11T15:06:49.697Z"
   },
   {
    "duration": 9,
    "start_time": "2025-04-11T15:06:49.712Z"
   },
   {
    "duration": 18,
    "start_time": "2025-04-11T15:06:49.723Z"
   },
   {
    "duration": 10,
    "start_time": "2025-04-11T15:06:49.742Z"
   },
   {
    "duration": 12,
    "start_time": "2025-04-11T15:06:49.753Z"
   },
   {
    "duration": 15,
    "start_time": "2025-04-11T15:06:49.767Z"
   },
   {
    "duration": 4,
    "start_time": "2025-04-11T15:06:49.783Z"
   },
   {
    "duration": 17,
    "start_time": "2025-04-11T15:06:49.789Z"
   },
   {
    "duration": 8,
    "start_time": "2025-04-11T15:06:49.808Z"
   },
   {
    "duration": 10,
    "start_time": "2025-04-11T15:06:49.839Z"
   },
   {
    "duration": 15,
    "start_time": "2025-04-11T15:06:49.850Z"
   },
   {
    "duration": 78,
    "start_time": "2025-04-11T15:06:49.866Z"
   },
   {
    "duration": 4,
    "start_time": "2025-04-11T15:06:49.946Z"
   },
   {
    "duration": 7,
    "start_time": "2025-04-11T15:06:49.952Z"
   },
   {
    "duration": 9,
    "start_time": "2025-04-11T15:06:49.961Z"
   },
   {
    "duration": 8,
    "start_time": "2025-04-11T15:06:49.971Z"
   },
   {
    "duration": 6,
    "start_time": "2025-04-11T15:06:49.981Z"
   },
   {
    "duration": 13,
    "start_time": "2025-04-11T15:06:49.988Z"
   },
   {
    "duration": 17,
    "start_time": "2025-04-11T15:06:50.003Z"
   },
   {
    "duration": 20,
    "start_time": "2025-04-11T15:06:50.035Z"
   },
   {
    "duration": 6,
    "start_time": "2025-04-11T15:06:50.056Z"
   },
   {
    "duration": 39,
    "start_time": "2025-04-11T15:06:50.063Z"
   },
   {
    "duration": 14,
    "start_time": "2025-04-11T15:06:50.104Z"
   },
   {
    "duration": 27,
    "start_time": "2025-04-11T15:06:50.120Z"
   },
   {
    "duration": 10,
    "start_time": "2025-04-11T15:06:50.149Z"
   },
   {
    "duration": 19,
    "start_time": "2025-04-11T15:06:50.161Z"
   },
   {
    "duration": 10,
    "start_time": "2025-04-11T15:06:50.182Z"
   },
   {
    "duration": 12,
    "start_time": "2025-04-11T15:06:50.193Z"
   },
   {
    "duration": 19,
    "start_time": "2025-04-11T15:06:50.207Z"
   },
   {
    "duration": 5,
    "start_time": "2025-04-11T15:06:50.236Z"
   },
   {
    "duration": 18,
    "start_time": "2025-04-11T15:06:50.243Z"
   },
   {
    "duration": 6,
    "start_time": "2025-04-11T15:06:50.262Z"
   },
   {
    "duration": 11,
    "start_time": "2025-04-11T15:06:50.270Z"
   },
   {
    "duration": 7,
    "start_time": "2025-04-11T15:06:50.283Z"
   },
   {
    "duration": 14,
    "start_time": "2025-04-11T15:06:50.291Z"
   },
   {
    "duration": 358,
    "start_time": "2025-04-11T15:06:50.306Z"
   },
   {
    "duration": 5,
    "start_time": "2025-04-11T15:06:50.670Z"
   },
   {
    "duration": 14,
    "start_time": "2025-04-11T15:06:50.677Z"
   },
   {
    "duration": 387,
    "start_time": "2025-04-11T15:06:50.692Z"
   },
   {
    "duration": 4,
    "start_time": "2025-04-11T15:06:51.081Z"
   },
   {
    "duration": 17,
    "start_time": "2025-04-11T15:06:51.087Z"
   },
   {
    "duration": 31,
    "start_time": "2025-04-11T15:06:51.106Z"
   },
   {
    "duration": 16,
    "start_time": "2025-04-11T15:06:51.139Z"
   },
   {
    "duration": 11,
    "start_time": "2025-04-11T15:06:51.157Z"
   },
   {
    "duration": 11,
    "start_time": "2025-04-11T15:06:51.170Z"
   },
   {
    "duration": 336,
    "start_time": "2025-04-11T15:06:51.182Z"
   },
   {
    "duration": 5,
    "start_time": "2025-04-11T15:06:51.520Z"
   },
   {
    "duration": 22,
    "start_time": "2025-04-11T15:06:51.527Z"
   },
   {
    "duration": 134,
    "start_time": "2025-04-11T15:06:51.551Z"
   },
   {
    "duration": 6,
    "start_time": "2025-04-11T15:06:51.687Z"
   },
   {
    "duration": 36,
    "start_time": "2025-04-11T15:06:51.695Z"
   },
   {
    "duration": 42,
    "start_time": "2025-04-11T15:06:51.733Z"
   },
   {
    "duration": 29,
    "start_time": "2025-04-11T15:06:51.777Z"
   },
   {
    "duration": 31,
    "start_time": "2025-04-11T15:06:51.807Z"
   },
   {
    "duration": 298,
    "start_time": "2025-04-11T15:06:51.840Z"
   },
   {
    "duration": 9,
    "start_time": "2025-04-11T15:06:52.140Z"
   },
   {
    "duration": 9,
    "start_time": "2025-04-11T15:06:52.150Z"
   },
   {
    "duration": 5,
    "start_time": "2025-04-11T15:06:52.161Z"
   },
   {
    "duration": 216,
    "start_time": "2025-04-11T15:06:52.168Z"
   },
   {
    "duration": 267,
    "start_time": "2025-04-11T15:06:52.386Z"
   },
   {
    "duration": 149,
    "start_time": "2025-04-11T15:06:52.655Z"
   },
   {
    "duration": 7,
    "start_time": "2025-04-11T15:06:52.806Z"
   },
   {
    "duration": 14,
    "start_time": "2025-04-11T15:06:52.815Z"
   },
   {
    "duration": 2,
    "start_time": "2025-04-11T15:06:52.837Z"
   },
   {
    "duration": 8,
    "start_time": "2025-04-11T15:06:52.841Z"
   },
   {
    "duration": 16,
    "start_time": "2025-04-11T15:06:52.850Z"
   },
   {
    "duration": 172,
    "start_time": "2025-04-11T15:06:52.868Z"
   },
   {
    "duration": 260,
    "start_time": "2025-04-11T15:06:53.041Z"
   },
   {
    "duration": 5,
    "start_time": "2025-04-11T15:06:53.303Z"
   },
   {
    "duration": 195,
    "start_time": "2025-04-11T15:06:53.309Z"
   },
   {
    "duration": 8,
    "start_time": "2025-04-11T15:06:53.506Z"
   },
   {
    "duration": 31,
    "start_time": "2025-04-11T15:06:53.515Z"
   },
   {
    "duration": 12,
    "start_time": "2025-04-11T15:06:53.547Z"
   },
   {
    "duration": 28,
    "start_time": "2025-04-11T15:06:53.561Z"
   },
   {
    "duration": 14,
    "start_time": "2025-04-11T15:06:53.591Z"
   },
   {
    "duration": 168,
    "start_time": "2025-04-11T15:06:53.607Z"
   },
   {
    "duration": 270,
    "start_time": "2025-04-11T15:06:53.777Z"
   },
   {
    "duration": 6,
    "start_time": "2025-04-11T15:06:54.049Z"
   },
   {
    "duration": 12,
    "start_time": "2025-04-11T15:06:54.057Z"
   },
   {
    "duration": 249,
    "start_time": "2025-04-11T15:06:54.070Z"
   },
   {
    "duration": 15,
    "start_time": "2025-04-11T15:06:54.321Z"
   },
   {
    "duration": 173,
    "start_time": "2025-04-11T15:06:54.338Z"
   },
   {
    "duration": 9,
    "start_time": "2025-04-11T15:06:54.512Z"
   },
   {
    "duration": 43,
    "start_time": "2025-04-11T15:06:54.523Z"
   },
   {
    "duration": 12,
    "start_time": "2025-04-11T15:06:54.568Z"
   },
   {
    "duration": 3,
    "start_time": "2025-04-11T15:06:54.582Z"
   },
   {
    "duration": 4,
    "start_time": "2025-04-11T15:06:54.587Z"
   },
   {
    "duration": 10,
    "start_time": "2025-04-11T15:06:54.592Z"
   },
   {
    "duration": 266,
    "start_time": "2025-04-11T15:06:54.604Z"
   },
   {
    "duration": 9,
    "start_time": "2025-04-11T15:06:54.871Z"
   },
   {
    "duration": 227,
    "start_time": "2025-04-11T15:06:54.882Z"
   },
   {
    "duration": 228,
    "start_time": "2025-04-11T15:06:55.110Z"
   },
   {
    "duration": 35,
    "start_time": "2025-04-11T15:06:55.340Z"
   },
   {
    "duration": 7,
    "start_time": "2025-04-11T15:06:55.377Z"
   },
   {
    "duration": 32,
    "start_time": "2025-04-11T15:06:55.386Z"
   },
   {
    "duration": 25,
    "start_time": "2025-04-11T15:06:55.420Z"
   },
   {
    "duration": 21,
    "start_time": "2025-04-11T15:06:55.446Z"
   },
   {
    "duration": 271,
    "start_time": "2025-04-11T15:06:55.468Z"
   }
  ],
  "kernelspec": {
   "display_name": "Python 3 (ipykernel)",
   "language": "python",
   "name": "python3"
  },
  "language_info": {
   "codemirror_mode": {
    "name": "ipython",
    "version": 3
   },
   "file_extension": ".py",
   "mimetype": "text/x-python",
   "name": "python",
   "nbconvert_exporter": "python",
   "pygments_lexer": "ipython3",
   "version": "3.9.7"
  },
  "toc": {
   "base_numbering": 1,
   "nav_menu": {},
   "number_sections": true,
   "sideBar": true,
   "skip_h1_title": true,
   "title_cell": "Table of Contents",
   "title_sidebar": "Contents",
   "toc_cell": false,
   "toc_position": {
    "height": "calc(100% - 180px)",
    "left": "10px",
    "top": "150px",
    "width": "165px"
   },
   "toc_section_display": true,
   "toc_window_display": true
  }
 },
 "nbformat": 4,
 "nbformat_minor": 5
}
