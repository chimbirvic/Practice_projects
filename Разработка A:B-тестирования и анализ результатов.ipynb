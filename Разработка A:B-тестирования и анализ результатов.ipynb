{
 "cells": [
  {
   "cell_type": "markdown",
   "metadata": {
    "id": "u98L9TgH0eMk"
   },
   "source": [
    "Автор: Чимбир В.И.\n",
    "\n",
    "Дата: 18.06.2025"
   ]
  },
  {
   "cell_type": "markdown",
   "metadata": {},
   "source": [
    "# Разработка A/B-тестирования и анализ результатов\n",
    "\n",
    "Вы работаете продуктовым аналитиком в компании, которая разрабатывает развлекательное приложение с функцией «бесконечной» ленты, как, например, в приложениях с короткими видео. В вашем приложении существует две модели монетизации: первая — ежемесячная платная подписка, которая позволяет пользователям смотреть ленту без рекламы, вторая — демонстрация рекламы для пользователей, которые ещё не оформили подписку.\n",
    "\n",
    "Команда разработчиков рекомендательных систем создала новый алгоритм рекомендаций, который, по их мнению, будет показывать более интересный контент для каждого пользователя. Вас, как аналитика, просят помочь рассчитать параметры A/B-теста, который позволит проверить эту гипотезу, и проанализировать его результаты."
   ]
  },
  {
   "cell_type": "markdown",
   "metadata": {
    "id": "LJBRALHs0eMf"
   },
   "source": [
    "## Описание данных\n",
    "\n",
    "Вы будете работать с тремя таблицами:\n",
    "\n",
    "- `sessions_project_history.csv` — таблица с историческими данными по сессиям пользователей на период с 2025-08-15 по 2025-09-23. Путь к файлу: `/datasets/sessions_project_history.csv`.\n",
    "\n",
    "- `sessions_project_test_part.csv` — таблица с данными за первый день проведения A/B-теста, то есть за 2025-10-14. Путь к файлу: `/datasets/sessions_project_test_part.csv`.\n",
    "\n",
    "- `sessions_project_test.csv` — таблица с данными за весь период проведения A/B-теста, то есть с 2025-10-14 по 2025-11-02. Путь к файлу: `/datasets/sessions_project_test.csv`.\n",
    "\n",
    "У этих таблиц почти совпадает структура и содержание колонок, различаются лишь периоды наблюдения.\n",
    "\n",
    "Поля таблиц `sessions_project_history.csv`, `sessions_project_test.csv`, `sessions_project_test_part.csv`:\n",
    "\n",
    "- `user_id` — идентификатор пользователя;\n",
    "\n",
    "- `session_id` — идентификатор сессии в приложении;\n",
    "\n",
    "- `session_date` — дата сессии;\n",
    "\n",
    "- `session_start_ts` — дата и время начала сессии;\n",
    "\n",
    "- `install_date` — дата установки приложения;\n",
    "\n",
    "- `session_number` — порядковый номер сессии для конкретного пользователя;\n",
    "\n",
    "- `registration_flag` — является ли пользователь зарегистрированным;\n",
    "\n",
    "- `page_counter` — количество просмотренных страниц во время сессии;\n",
    "\n",
    "- `region` — регион пользователя;\n",
    "\n",
    "- `device` — тип устройства пользователя;\n",
    "\n",
    "- `test_group` — тестовая группа (в таблице с историческими данными этого столбца нет).\n",
    "\n",
    "\n",
    "## Что нужно сделать\n",
    "Ваши задачи: рассчитать параметры теста, оценить корректность его проведения и проанализировать результаты эксперимента."
   ]
  },
  {
   "cell_type": "markdown",
   "metadata": {
    "id": "UpOucjID0eMl"
   },
   "source": [
    "### 1. Работа с историческими данными (EDA)"
   ]
  },
  {
   "cell_type": "markdown",
   "metadata": {
    "id": "8iJMtL-30eMl"
   },
   "source": [
    "#### 1.1. Загрузка исторических данных\n",
    "На первом этапе поработайте с историческими данными приложения:\n",
    "\n",
    "- Импортируйте библиотеку pandas.\n",
    "\n",
    "- Считайте и сохраните в датафрейм `sessions_history` CSV-файл с историческими данными о сессиях пользователей `sessions_project_history.csv`.\n",
    "\n",
    "Выведите на экран первые пять строк полученного датафрейма."
   ]
  },
  {
   "cell_type": "code",
   "execution_count": 1,
   "metadata": {},
   "outputs": [],
   "source": [
    "# Импортируем необходимые библиотеки\n",
    "import pandas as pd\n",
    "import matplotlib.pyplot as plt"
   ]
  },
  {
   "cell_type": "code",
   "execution_count": 2,
   "metadata": {
    "id": "6TPR2-1RPboT",
    "scrolled": true
   },
   "outputs": [
    {
     "data": {
      "text/html": [
       "<div>\n",
       "<style scoped>\n",
       "    .dataframe tbody tr th:only-of-type {\n",
       "        vertical-align: middle;\n",
       "    }\n",
       "\n",
       "    .dataframe tbody tr th {\n",
       "        vertical-align: top;\n",
       "    }\n",
       "\n",
       "    .dataframe thead th {\n",
       "        text-align: right;\n",
       "    }\n",
       "</style>\n",
       "<table border=\"1\" class=\"dataframe\">\n",
       "  <thead>\n",
       "    <tr style=\"text-align: right;\">\n",
       "      <th></th>\n",
       "      <th>user_id</th>\n",
       "      <th>session_id</th>\n",
       "      <th>session_date</th>\n",
       "      <th>session_start_ts</th>\n",
       "      <th>install_date</th>\n",
       "      <th>session_number</th>\n",
       "      <th>registration_flag</th>\n",
       "      <th>page_counter</th>\n",
       "      <th>region</th>\n",
       "      <th>device</th>\n",
       "    </tr>\n",
       "  </thead>\n",
       "  <tbody>\n",
       "    <tr>\n",
       "      <th>0</th>\n",
       "      <td>E302123B7000BFE4</td>\n",
       "      <td>F9AF61A0C2023832</td>\n",
       "      <td>2025-08-15</td>\n",
       "      <td>2025-08-15 17:47:35</td>\n",
       "      <td>2025-08-15</td>\n",
       "      <td>1</td>\n",
       "      <td>0</td>\n",
       "      <td>3</td>\n",
       "      <td>CIS</td>\n",
       "      <td>iPhone</td>\n",
       "    </tr>\n",
       "    <tr>\n",
       "      <th>1</th>\n",
       "      <td>2530F72E221829FB</td>\n",
       "      <td>85003A206CBDAC6F</td>\n",
       "      <td>2025-08-15</td>\n",
       "      <td>2025-08-15 16:42:14</td>\n",
       "      <td>2025-08-15</td>\n",
       "      <td>1</td>\n",
       "      <td>0</td>\n",
       "      <td>4</td>\n",
       "      <td>MENA</td>\n",
       "      <td>Android</td>\n",
       "    </tr>\n",
       "    <tr>\n",
       "      <th>2</th>\n",
       "      <td>876E020A4FC512F5</td>\n",
       "      <td>3677423E49D72DEE</td>\n",
       "      <td>2025-08-15</td>\n",
       "      <td>2025-08-15 12:30:00</td>\n",
       "      <td>2025-08-15</td>\n",
       "      <td>1</td>\n",
       "      <td>0</td>\n",
       "      <td>4</td>\n",
       "      <td>EU</td>\n",
       "      <td>PC</td>\n",
       "    </tr>\n",
       "    <tr>\n",
       "      <th>3</th>\n",
       "      <td>2640B349E1D81584</td>\n",
       "      <td>956B45F5915CA225</td>\n",
       "      <td>2025-08-15</td>\n",
       "      <td>2025-08-15 15:31:31</td>\n",
       "      <td>2025-08-15</td>\n",
       "      <td>1</td>\n",
       "      <td>0</td>\n",
       "      <td>4</td>\n",
       "      <td>CIS</td>\n",
       "      <td>Android</td>\n",
       "    </tr>\n",
       "    <tr>\n",
       "      <th>4</th>\n",
       "      <td>94E1CBFAEF1F5EE9</td>\n",
       "      <td>83BF0DA35F9F1F40</td>\n",
       "      <td>2025-08-15</td>\n",
       "      <td>2025-08-15 21:33:53</td>\n",
       "      <td>2025-08-15</td>\n",
       "      <td>1</td>\n",
       "      <td>0</td>\n",
       "      <td>3</td>\n",
       "      <td>CIS</td>\n",
       "      <td>Android</td>\n",
       "    </tr>\n",
       "  </tbody>\n",
       "</table>\n",
       "</div>"
      ],
      "text/plain": [
       "            user_id        session_id session_date     session_start_ts  \\\n",
       "0  E302123B7000BFE4  F9AF61A0C2023832   2025-08-15  2025-08-15 17:47:35   \n",
       "1  2530F72E221829FB  85003A206CBDAC6F   2025-08-15  2025-08-15 16:42:14   \n",
       "2  876E020A4FC512F5  3677423E49D72DEE   2025-08-15  2025-08-15 12:30:00   \n",
       "3  2640B349E1D81584  956B45F5915CA225   2025-08-15  2025-08-15 15:31:31   \n",
       "4  94E1CBFAEF1F5EE9  83BF0DA35F9F1F40   2025-08-15  2025-08-15 21:33:53   \n",
       "\n",
       "  install_date  session_number  registration_flag  page_counter region  \\\n",
       "0   2025-08-15               1                  0             3    CIS   \n",
       "1   2025-08-15               1                  0             4   MENA   \n",
       "2   2025-08-15               1                  0             4     EU   \n",
       "3   2025-08-15               1                  0             4    CIS   \n",
       "4   2025-08-15               1                  0             3    CIS   \n",
       "\n",
       "    device  \n",
       "0   iPhone  \n",
       "1  Android  \n",
       "2       PC  \n",
       "3  Android  \n",
       "4  Android  "
      ]
     },
     "execution_count": 2,
     "metadata": {},
     "output_type": "execute_result"
    }
   ],
   "source": [
    "\n",
    "# Выгружаем датафрейм sessions_history\n",
    "sessions_history = pd.read_csv('https://code.s3.yandex.net/datasets/sessions_project_history.csv')\n",
    "\n",
    "# Выведем первые пять строк датафрейма\n",
    "\n",
    "sessions_history.head()"
   ]
  },
  {
   "cell_type": "markdown",
   "metadata": {
    "id": "qTDoiODz0eMo"
   },
   "source": [
    "#### 1.2. Знакомство с данными\n",
    "- Для каждого уникального пользователя `user_id` рассчитайте количество уникальных сессий `session_id`.\n",
    "\n",
    "- Выведите на экран все данные из таблицы `sessions_history` для одного пользователя с наибольшим количеством сессий. Если таких пользователей несколько, выберите любого из них.\n",
    "\n",
    "- Изучите таблицу для одного пользователя, чтобы лучше понять логику формирования каждого столбца данных.\n",
    "\n"
   ]
  },
  {
   "cell_type": "code",
   "execution_count": 3,
   "metadata": {},
   "outputs": [
    {
     "data": {
      "text/plain": [
       "user_id              0\n",
       "session_id           0\n",
       "session_date         0\n",
       "session_start_ts     0\n",
       "install_date         0\n",
       "session_number       0\n",
       "registration_flag    0\n",
       "page_counter         0\n",
       "region               0\n",
       "device               0\n",
       "dtype: int64"
      ]
     },
     "execution_count": 3,
     "metadata": {},
     "output_type": "execute_result"
    }
   ],
   "source": [
    "# Проверим данные на наличие пропусков\n",
    "sessions_history.isna().sum()"
   ]
  },
  {
   "cell_type": "code",
   "execution_count": 4,
   "metadata": {},
   "outputs": [
    {
     "data": {
      "text/plain": [
       "0"
      ]
     },
     "execution_count": 4,
     "metadata": {},
     "output_type": "execute_result"
    }
   ],
   "source": [
    "# Проверим данные на наличие дубликатов\n",
    "sessions_history.duplicated().sum()"
   ]
  },
  {
   "cell_type": "code",
   "execution_count": 5,
   "metadata": {},
   "outputs": [
    {
     "data": {
      "text/plain": [
       "0"
      ]
     },
     "execution_count": 5,
     "metadata": {},
     "output_type": "execute_result"
    }
   ],
   "source": [
    "# Проверим на наличие дубликатов столбец с индентификатором сессии\n",
    "sessions_history.duplicated(subset='session_id').sum()"
   ]
  },
  {
   "cell_type": "markdown",
   "metadata": {},
   "source": [
    "Пропусков и явных дубликатов не обнаружено"
   ]
  },
  {
   "cell_type": "code",
   "execution_count": 6,
   "metadata": {
    "id": "PWZO9vTIPbPN"
   },
   "outputs": [
    {
     "data": {
      "text/html": [
       "<div>\n",
       "<style scoped>\n",
       "    .dataframe tbody tr th:only-of-type {\n",
       "        vertical-align: middle;\n",
       "    }\n",
       "\n",
       "    .dataframe tbody tr th {\n",
       "        vertical-align: top;\n",
       "    }\n",
       "\n",
       "    .dataframe thead th {\n",
       "        text-align: right;\n",
       "    }\n",
       "</style>\n",
       "<table border=\"1\" class=\"dataframe\">\n",
       "  <thead>\n",
       "    <tr style=\"text-align: right;\">\n",
       "      <th></th>\n",
       "      <th>user_id</th>\n",
       "      <th>session_id</th>\n",
       "      <th>session_date</th>\n",
       "      <th>session_start_ts</th>\n",
       "      <th>install_date</th>\n",
       "      <th>session_number</th>\n",
       "      <th>registration_flag</th>\n",
       "      <th>page_counter</th>\n",
       "      <th>region</th>\n",
       "      <th>device</th>\n",
       "    </tr>\n",
       "  </thead>\n",
       "  <tbody>\n",
       "    <tr>\n",
       "      <th>115558</th>\n",
       "      <td>10E0DEFC1ABDBBE0</td>\n",
       "      <td>B8F0423BBFFCF5DC</td>\n",
       "      <td>2025-08-14</td>\n",
       "      <td>2025-08-14 13:57:39</td>\n",
       "      <td>2025-08-14</td>\n",
       "      <td>1</td>\n",
       "      <td>0</td>\n",
       "      <td>4</td>\n",
       "      <td>CIS</td>\n",
       "      <td>Android</td>\n",
       "    </tr>\n",
       "    <tr>\n",
       "      <th>191751</th>\n",
       "      <td>10E0DEFC1ABDBBE0</td>\n",
       "      <td>87CA2FA549473837</td>\n",
       "      <td>2025-08-15</td>\n",
       "      <td>2025-08-15 16:42:10</td>\n",
       "      <td>2025-08-14</td>\n",
       "      <td>2</td>\n",
       "      <td>0</td>\n",
       "      <td>3</td>\n",
       "      <td>CIS</td>\n",
       "      <td>Android</td>\n",
       "    </tr>\n",
       "    <tr>\n",
       "      <th>239370</th>\n",
       "      <td>10E0DEFC1ABDBBE0</td>\n",
       "      <td>4ADD8011DCDCE318</td>\n",
       "      <td>2025-08-16</td>\n",
       "      <td>2025-08-16 19:53:21</td>\n",
       "      <td>2025-08-14</td>\n",
       "      <td>3</td>\n",
       "      <td>0</td>\n",
       "      <td>3</td>\n",
       "      <td>CIS</td>\n",
       "      <td>Android</td>\n",
       "    </tr>\n",
       "    <tr>\n",
       "      <th>274629</th>\n",
       "      <td>10E0DEFC1ABDBBE0</td>\n",
       "      <td>DF0FD0E09BF1F3D7</td>\n",
       "      <td>2025-08-17</td>\n",
       "      <td>2025-08-17 15:03:43</td>\n",
       "      <td>2025-08-14</td>\n",
       "      <td>4</td>\n",
       "      <td>0</td>\n",
       "      <td>1</td>\n",
       "      <td>CIS</td>\n",
       "      <td>Android</td>\n",
       "    </tr>\n",
       "    <tr>\n",
       "      <th>302501</th>\n",
       "      <td>10E0DEFC1ABDBBE0</td>\n",
       "      <td>3C221774B4DE6885</td>\n",
       "      <td>2025-08-18</td>\n",
       "      <td>2025-08-18 17:29:14</td>\n",
       "      <td>2025-08-14</td>\n",
       "      <td>5</td>\n",
       "      <td>0</td>\n",
       "      <td>4</td>\n",
       "      <td>CIS</td>\n",
       "      <td>Android</td>\n",
       "    </tr>\n",
       "    <tr>\n",
       "      <th>325557</th>\n",
       "      <td>10E0DEFC1ABDBBE0</td>\n",
       "      <td>031BD7A67048105B</td>\n",
       "      <td>2025-08-19</td>\n",
       "      <td>2025-08-19 13:23:55</td>\n",
       "      <td>2025-08-14</td>\n",
       "      <td>6</td>\n",
       "      <td>0</td>\n",
       "      <td>2</td>\n",
       "      <td>CIS</td>\n",
       "      <td>Android</td>\n",
       "    </tr>\n",
       "    <tr>\n",
       "      <th>345336</th>\n",
       "      <td>10E0DEFC1ABDBBE0</td>\n",
       "      <td>FF4315CF4AD4B100</td>\n",
       "      <td>2025-08-20</td>\n",
       "      <td>2025-08-20 19:31:54</td>\n",
       "      <td>2025-08-14</td>\n",
       "      <td>7</td>\n",
       "      <td>0</td>\n",
       "      <td>2</td>\n",
       "      <td>CIS</td>\n",
       "      <td>Android</td>\n",
       "    </tr>\n",
       "    <tr>\n",
       "      <th>377532</th>\n",
       "      <td>10E0DEFC1ABDBBE0</td>\n",
       "      <td>4045FEA0747203B4</td>\n",
       "      <td>2025-08-22</td>\n",
       "      <td>2025-08-22 17:54:13</td>\n",
       "      <td>2025-08-14</td>\n",
       "      <td>8</td>\n",
       "      <td>0</td>\n",
       "      <td>2</td>\n",
       "      <td>CIS</td>\n",
       "      <td>Android</td>\n",
       "    </tr>\n",
       "    <tr>\n",
       "      <th>403538</th>\n",
       "      <td>10E0DEFC1ABDBBE0</td>\n",
       "      <td>344B086C421C7F37</td>\n",
       "      <td>2025-08-24</td>\n",
       "      <td>2025-08-24 14:46:13</td>\n",
       "      <td>2025-08-14</td>\n",
       "      <td>9</td>\n",
       "      <td>0</td>\n",
       "      <td>2</td>\n",
       "      <td>CIS</td>\n",
       "      <td>Android</td>\n",
       "    </tr>\n",
       "    <tr>\n",
       "      <th>414743</th>\n",
       "      <td>10E0DEFC1ABDBBE0</td>\n",
       "      <td>054F20BA371E4C9D</td>\n",
       "      <td>2025-08-25</td>\n",
       "      <td>2025-08-25 18:36:41</td>\n",
       "      <td>2025-08-14</td>\n",
       "      <td>10</td>\n",
       "      <td>0</td>\n",
       "      <td>3</td>\n",
       "      <td>CIS</td>\n",
       "      <td>Android</td>\n",
       "    </tr>\n",
       "  </tbody>\n",
       "</table>\n",
       "</div>"
      ],
      "text/plain": [
       "                 user_id        session_id session_date     session_start_ts  \\\n",
       "115558  10E0DEFC1ABDBBE0  B8F0423BBFFCF5DC   2025-08-14  2025-08-14 13:57:39   \n",
       "191751  10E0DEFC1ABDBBE0  87CA2FA549473837   2025-08-15  2025-08-15 16:42:10   \n",
       "239370  10E0DEFC1ABDBBE0  4ADD8011DCDCE318   2025-08-16  2025-08-16 19:53:21   \n",
       "274629  10E0DEFC1ABDBBE0  DF0FD0E09BF1F3D7   2025-08-17  2025-08-17 15:03:43   \n",
       "302501  10E0DEFC1ABDBBE0  3C221774B4DE6885   2025-08-18  2025-08-18 17:29:14   \n",
       "325557  10E0DEFC1ABDBBE0  031BD7A67048105B   2025-08-19  2025-08-19 13:23:55   \n",
       "345336  10E0DEFC1ABDBBE0  FF4315CF4AD4B100   2025-08-20  2025-08-20 19:31:54   \n",
       "377532  10E0DEFC1ABDBBE0  4045FEA0747203B4   2025-08-22  2025-08-22 17:54:13   \n",
       "403538  10E0DEFC1ABDBBE0  344B086C421C7F37   2025-08-24  2025-08-24 14:46:13   \n",
       "414743  10E0DEFC1ABDBBE0  054F20BA371E4C9D   2025-08-25  2025-08-25 18:36:41   \n",
       "\n",
       "       install_date  session_number  registration_flag  page_counter region  \\\n",
       "115558   2025-08-14               1                  0             4    CIS   \n",
       "191751   2025-08-14               2                  0             3    CIS   \n",
       "239370   2025-08-14               3                  0             3    CIS   \n",
       "274629   2025-08-14               4                  0             1    CIS   \n",
       "302501   2025-08-14               5                  0             4    CIS   \n",
       "325557   2025-08-14               6                  0             2    CIS   \n",
       "345336   2025-08-14               7                  0             2    CIS   \n",
       "377532   2025-08-14               8                  0             2    CIS   \n",
       "403538   2025-08-14               9                  0             2    CIS   \n",
       "414743   2025-08-14              10                  0             3    CIS   \n",
       "\n",
       "         device  \n",
       "115558  Android  \n",
       "191751  Android  \n",
       "239370  Android  \n",
       "274629  Android  \n",
       "302501  Android  \n",
       "325557  Android  \n",
       "345336  Android  \n",
       "377532  Android  \n",
       "403538  Android  \n",
       "414743  Android  "
      ]
     },
     "execution_count": 6,
     "metadata": {},
     "output_type": "execute_result"
    }
   ],
   "source": [
    "# Сгруппируем и отсортируем данные\n",
    "users_sessions = sessions_history.groupby('user_id')['session_id'].nunique().sort_values(ascending=False).reset_index()\n",
    "\n",
    "# Найдем пользователя с самым большим количеством сессий\n",
    "top_sessions_user = users_sessions.iloc[0]['user_id']\n",
    "\n",
    "# Изучим все данные у пользователя с самым большим количеством сессий\n",
    "\n",
    "sessions_history[sessions_history['user_id']==top_sessions_user]"
   ]
  },
  {
   "cell_type": "markdown",
   "metadata": {
    "id": "CmcGpJTP0eMq"
   },
   "source": [
    "#### 1.3. Анализ числа регистраций\n",
    "Одна из важнейших метрик продукта — число зарегистрированных пользователей. Используя исторические данные, визуализируйте, как менялось число регистраций в приложении за время его существования.\n",
    "\n",
    "- Агрегируйте исторические данные и рассчитайте число уникальных пользователей и число зарегистрированных пользователей для каждого дня наблюдения. Для простоты считайте, что у пользователя в течение дня бывает одна сессия максимум и статус регистрации в течение одного дня не может измениться.\n",
    "\n",
    "- Постройте линейные графики общего числа пользователей и общего числа зарегистрированных пользователей по дням. Отобразите их на одном графике.\n",
    "\n",
    "- Постройте отдельный линейный график доли зарегистрированных пользователей от всех пользователей по дням.\n",
    "\n",
    "- На обоих графиках должны быть заголовок, подписанные оси X и Y, сетка и легенда."
   ]
  },
  {
   "cell_type": "code",
   "execution_count": 7,
   "metadata": {
    "id": "tN_6Ml3EPatS"
   },
   "outputs": [],
   "source": [
    "# Сгруппируем данные и проведем необходимую агрегацию\n",
    "daily_users = sessions_history.groupby('session_date').agg(total_unique_users=('user_id', 'nunique'),\n",
    "                                                           registration_count=('registration_flag', 'sum')).reset_index()                                                         "
   ]
  },
  {
   "cell_type": "code",
   "execution_count": 8,
   "metadata": {},
   "outputs": [
    {
     "data": {
      "image/png": "[encoded data removed]",
      "text/plain": [
       "<Figure size 1008x432 with 1 Axes>"
      ]
     },
     "metadata": {
      "needs_background": "light"
     },
     "output_type": "display_data"
    }
   ],
   "source": [
    "# Построим линейные графики общего числа пользователей и общего числа зарегистрированных пользователей по дням\n",
    "plt.figure(figsize=(14, 6))\n",
    "plt.plot(daily_users['session_date'], daily_users['total_unique_users'], label='Все пользователи')\n",
    "plt.plot(daily_users['session_date'], daily_users['registration_count'], label='Зарегистрированные пользователи')\n",
    "\n",
    "plt.title('Число пользователей и зарегистрированных пользователей по дням')\n",
    "plt.xlabel('Дата')\n",
    "plt.ylabel('Число пользователей')\n",
    "plt.grid(True)\n",
    "plt.legend()\n",
    "plt.xticks(rotation=45)\n",
    "plt.tight_layout()\n",
    "plt.show()"
   ]
  },
  {
   "cell_type": "code",
   "execution_count": 9,
   "metadata": {},
   "outputs": [
    {
     "data": {
      "image/png": "[encoded data removed]",
      "text/plain": [
       "<Figure size 1008x432 with 1 Axes>"
      ]
     },
     "metadata": {
      "needs_background": "light"
     },
     "output_type": "display_data"
    }
   ],
   "source": [
    "# Добавим в сгрупированные данные столбец с долей зарегестрированных пользователей за день\n",
    "\n",
    "daily_users['registration_percent'] = daily_users['registration_count'] / daily_users['total_unique_users']\n",
    "\n",
    "# Изучим динамику изменения доли зарегистрированных пользователей по дням\n",
    "plt.figure(figsize=(14, 6))\n",
    "plt.plot(daily_users['session_date'], daily_users['registration_percent'], color='green', label='Доля зарегистрированных')\n",
    "\n",
    "plt.title('Доля зарегистрированных пользователей по дням')\n",
    "plt.xlabel('Дата')\n",
    "plt.ylabel('Доля зарегистрированных')\n",
    "plt.grid(True)\n",
    "plt.legend()\n",
    "plt.xticks(rotation=45)\n",
    "plt.tight_layout()\n",
    "plt.show()"
   ]
  },
  {
   "cell_type": "code",
   "execution_count": 10,
   "metadata": {},
   "outputs": [
    {
     "data": {
      "image/png": "[encoded data removed]",
      "text/plain": [
       "<Figure size 1296x432 with 2 Axes>"
      ]
     },
     "metadata": {
      "needs_background": "light"
     },
     "output_type": "display_data"
    }
   ],
   "source": [
    "# Постром визуализацию для полученных данных\n",
    "\n",
    "fig, axes = plt.subplots(1, 2, figsize=(18, 6), sharex=False)\n",
    "\n",
    "# Постром график количества пользователей за день и количества зарегистрированных пользователей за день\n",
    "\n",
    "axes[0].plot(daily_users['session_date'], daily_users['total_unique_users'], label='Все пользователи')\n",
    "axes[0].plot(daily_users['session_date'], daily_users['registration_count'], label='Зарегистрированные пользователи')\n",
    "axes[0].set_title('Число пользователей и зарегистрированных по дням')\n",
    "axes[0].set_xlabel('Дата')\n",
    "axes[0].set_ylabel('Число пользователей')\n",
    "axes[0].grid(True)\n",
    "axes[0].legend()\n",
    "axes[0].tick_params(axis='x', rotation=45)\n",
    "\n",
    "# Построим график с долей зарегистрированных пользователей за день\n",
    "\n",
    "axes[1].plot(daily_users['session_date'], daily_users['registration_percent'], color='green', label='Доля зарегистрированных')\n",
    "axes[1].set_title('Доля зарегистрированных пользователей по дням')\n",
    "axes[1].set_xlabel('Дата')\n",
    "axes[1].set_ylabel('Доля зарегистрированных')\n",
    "axes[1].grid(True)\n",
    "axes[1].legend()\n",
    "axes[1].tick_params(axis='x', rotation=45)\n",
    "\n",
    "plt.tight_layout()\n",
    "plt.show()\n"
   ]
  },
  {
   "cell_type": "markdown",
   "metadata": {
    "id": "UR7D7RhF0eMr"
   },
   "source": [
    "#### 1.4. Анализ числа просмотренных страниц\n",
    "Другая важная метрика продукта — число просмотренных страниц в приложении. Чем больше страниц просмотрено, тем сильнее пользователь увлечён контентом, а значит, выше шансы на то, что он зарегистрируется и оплатит подписку.\n",
    "\n",
    "- Найдите количество сессий для каждого значения количества просмотренных страниц. Например: одну страницу просмотрели в 29160 сессиях, две страницы в 105536 сессиях и так далее.\n",
    "\n",
    "- Постройте столбчатую диаграмму, где по оси X будет число просмотренных страниц, по оси Y — количество сессий.\n",
    "\n",
    "- На диаграмме должны быть заголовок, подписанные оси X и Y."
   ]
  },
  {
   "cell_type": "code",
   "execution_count": 11,
   "metadata": {
    "id": "cb6hPlVzPaSf"
   },
   "outputs": [],
   "source": [
    "# Сгруппируем данные и проведем необходимую агрегацию\n",
    "pages_sessions = sessions_history.groupby('page_counter')['session_id'].count().reset_index().sort_values('page_counter')"
   ]
  },
  {
   "cell_type": "code",
   "execution_count": 12,
   "metadata": {},
   "outputs": [
    {
     "data": {
      "image/png": "[encoded data removed]",
      "text/plain": [
       "<Figure size 1008x432 with 1 Axes>"
      ]
     },
     "metadata": {
      "needs_background": "light"
     },
     "output_type": "display_data"
    }
   ],
   "source": [
    "# Визуализируем полученные расчеты \n",
    "plt.figure(figsize=(14,6))\n",
    "plt.bar(pages_sessions['page_counter'], pages_sessions['session_id'])\n",
    "plt.title('Распределение количества сессий по числу просмотренных страниц')\n",
    "plt.xlabel('Число просмотренных страниц в сессии')\n",
    "plt.ylabel('Количество сессий')\n",
    "plt.grid(axis='y')\n",
    "plt.tight_layout()\n",
    "plt.show()"
   ]
  },
  {
   "cell_type": "markdown",
   "metadata": {},
   "source": [
    "<div class=\"alert alert-block alert-success\">\n",
    "\n",
    "**Комментарий ревьювера (все отлично)**\n",
    "    \n",
    "Данные собраны оптимальным способом, график наглядно демонстрирует распределение сессий в порядке количества просмотренных страниц👍\n",
    "    \n",
    "Здорово, что уделяешь внимание оформлению графиков.\n",
    "    \n",
    "Предлагаю изучить интересные методы по визуализации. Прикрепляю несколько интересных ссылок:\n",
    "   \n",
    "https://coderlessons.com/tutorials/python-technologies/izuchai-siborna/siborn-kratkoe-rukovodstvo\n",
    "\n",
    "https://tproger.ru/translations/python-data-vizualization/\n",
    "</div>\n",
    "</div>"
   ]
  },
  {
   "cell_type": "markdown",
   "metadata": {
    "id": "xDltSpVP0eMr"
   },
   "source": [
    "#### 1.5. Доля пользователей, просмотревших более четырёх страниц\n",
    "Продуктовая команда продукта считает, что сессии, в рамках которых пользователь просмотрел 4 и более страниц, говорят об удовлетворённости контентом и алгоритмами рекомендаций. Этот показатель является важной прокси-метрикой для продукта.\n",
    "\n",
    "- В датафрейме `sessions_history` создайте дополнительный столбец `good_session`. В него войдёт значение `1`, если за одну сессию было просмотрено 4 и более страниц, и значение `0`, если было просмотрено меньше.\n",
    "\n",
    "- Постройте график со средним значением доли успешных сессий ко всем сессиям по дням за весь период наблюдения."
   ]
  },
  {
   "cell_type": "code",
   "execution_count": 13,
   "metadata": {
    "id": "iygaPfixPYMW"
   },
   "outputs": [
    {
     "data": {
      "image/png": "[encoded data removed]",
      "text/plain": [
       "<Figure size 1008x432 with 1 Axes>"
      ]
     },
     "metadata": {
      "needs_background": "light"
     },
     "output_type": "display_data"
    }
   ],
   "source": [
    "# Создадим новый столбец с бинарным признаком\n",
    "sessions_history['good_session'] = (sessions_history['page_counter']>=4).astype(int)\n",
    "\n",
    "# Сгруппируем данные и проведем необходимую агрегацию\n",
    "daily_good_sessions = sessions_history.groupby('session_date')['good_session'].mean().reset_index()\n",
    "\n",
    "# Добавим скользящее среднее для наглядности\n",
    "daily_good_sessions['rolling_mean'] = daily_good_sessions['good_session'].rolling(window=7).mean()\n",
    "\n",
    "\n",
    "# Построим линейный график доли удачных сессий по дням\n",
    "plt.figure(figsize=(14,6))\n",
    "plt.plot(daily_good_sessions['session_date'],daily_good_sessions['good_session'])\n",
    "plt.plot(daily_good_sessions['session_date'], daily_good_sessions['rolling_mean'], color='red', label='Скользящее среднее (7 дней)')\n",
    "\n",
    "plt.title('Доля успешных сессий (4+ страниц) по дням')\n",
    "plt.xlabel('Дата')\n",
    "plt.ylabel('Доля успешных сессий')\n",
    "plt.grid(True)\n",
    "plt.xticks(rotation=45)\n",
    "plt.tight_layout()\n",
    "plt.show()"
   ]
  },
  {
   "cell_type": "markdown",
   "metadata": {
    "id": "21JcG77Y0eMt"
   },
   "source": [
    "### 2. Подготовка к тесту\n",
    "При планировании теста необходимо проделать несколько важных шагов:\n",
    "\n",
    "- Определиться с целевой метрикой.\n",
    "\n",
    "- Рассчитать необходимый размер выборки.\n",
    "\n",
    "- Исходя из текущих значений трафика, рассчитать необходимую длительность проведения теста."
   ]
  },
  {
   "cell_type": "markdown",
   "metadata": {
    "id": "uzaeln270eMt"
   },
   "source": [
    "#### 2.1. Расчёт размера выборки\n",
    "В рамках курса вам уже приходилось рассчитывать размеры выборки, используя онлайн-калькуляторы. В этом задании предлагаем воспользоваться готовым кодом и рассчитать необходимое для вашего дизайна эксперимента количество пользователей.\n",
    "\n",
    "Для этого установите в коде ниже следующие параметры:\n",
    "\n",
    "- Уровень значимости — 0.05.\n",
    "\n",
    "- Вероятность ошибки второго рода — 0.2.\n",
    "\n",
    "- Мощность теста.\n",
    "\n",
    "- Минимальный детектируемый эффект, или MDE, — 3%. Обратите внимание, что здесь нужно указать десятичную дробь, а не процент.\n",
    "\n",
    "При расчёте размера выборки мы будем использовать метод `solve_power()` из класса `power.NormalIndPower` модуля `statsmodels.stats`.\n",
    "\n",
    "Запустите ячейку и изучите полученное значение."
   ]
  },
  {
   "cell_type": "code",
   "execution_count": 14,
   "metadata": {
    "id": "zSxJyPGPNdaI"
   },
   "outputs": [
    {
     "name": "stdout",
     "output_type": "stream",
     "text": [
      "Необходимый размер выборки для каждой группы: 17441\n"
     ]
    }
   ],
   "source": [
    "from statsmodels.stats.power import NormalIndPower\n",
    "\n",
    "# Задаём параметры\n",
    "alpha = 0.05  # Уровень значимости\n",
    "beta = 0.2  # Ошибка второго рода, часто 1 - мощность\n",
    "power = 0.8  # Мощность теста\n",
    "mde = 0.03  # Минимальный детектируемый эффект\n",
    "\n",
    "# Инициализируем класс NormalIndPower\n",
    "power_analysis = NormalIndPower()\n",
    "\n",
    "# Рассчитываем размер выборки\n",
    "sample_size = power_analysis.solve_power(\n",
    "    effect_size = mde,\n",
    "    power = power,\n",
    "    alpha = alpha,\n",
    "    ratio = 1 \n",
    ")\n",
    "\n",
    "print(f\"Необходимый размер выборки для каждой группы: {int(sample_size)}\")"
   ]
  },
  {
   "cell_type": "markdown",
   "metadata": {
    "id": "qLEv4RoV0eMu"
   },
   "source": [
    "#### 2.1. Расчёт длительности A/B-теста\n",
    "\n",
    "Используйте данные о количестве пользователей в каждой выборке и среднем количестве пользователей приложения. Рассчитайте длительность теста, разделив одно на другое.\n",
    "\n",
    "- Рассчитайте среднее количество уникальных пользователей приложения в день.\n",
    "\n",
    "- Определите длительность теста, исходя из рассчитанного значения размера выборок и среднего дневного трафика приложения. Количество дней округлите в большую сторону."
   ]
  },
  {
   "cell_type": "code",
   "execution_count": 37,
   "metadata": {},
   "outputs": [
    {
     "name": "stdout",
     "output_type": "stream",
     "text": [
      "Рассчитанная длительность A/B-теста при текущем уровне трафика в 9907.363636363636 пользователей в день составит 4 дней\n"
     ]
    }
   ],
   "source": [
    "from math import ceil\n",
    "\n",
    "# Среднее количество пользователей приложения в день по историческим данным\n",
    "avg_daily_users = sessions_history.groupby('session_date')['user_id'].nunique().mean()\n",
    "\n",
    "# Зададим переменную с размером выборки, которую рассчитали ранее\n",
    "sample_size = 17441*2\n",
    "\n",
    "# Рассчитываем длительность теста в днях как отношение размера выборки к среднему числу пользователей\n",
    "test_duration = ceil(sample_size/avg_daily_users)\n",
    "\n",
    "print(f\"Рассчитанная длительность A/B-теста при текущем уровне трафика в {avg_daily_users} пользователей в день составит {test_duration} дней\")"
   ]
  },
  {
   "cell_type": "markdown",
   "metadata": {
    "id": "ZuvtAdha0eMv"
   },
   "source": [
    "### 3. Мониторинг А/В-теста"
   ]
  },
  {
   "cell_type": "markdown",
   "metadata": {
    "id": "jq5sE3Ya0eMv"
   },
   "source": [
    "#### 3.1. Проверка распределения пользователей\n",
    "\n",
    "A/B-тест успешно запущен, и уже доступны данные за первые три дня. На этом этапе нужно убедиться, что всё идёт хорошо: пользователи разделены правильным образом, а интересующие вас метрики корректно считаются.\n",
    "\n",
    "- Считайте и сохраните в датафрейм `sessions_test_part` CSV-файл с историческими данными о сессиях пользователей `sessions_project_test_part.csv`.\n",
    "\n",
    "- Рассчитайте количество уникальных пользователей в каждой из экспериментальных групп для одного дня наблюдения.\n",
    "\n",
    "- Рассчитайте и выведите на экран процентную разницу в количестве пользователей в группах A и B. Постройте любую удобную визуализацию, на которой можно было бы увидеть возможное различие двух групп.\n",
    "\n",
    "Для расчёта процентной разницы воспользуйтесь формулой:\n",
    "$$P = 100 \\cdot  \\frac{|A − B|}{A}$$"
   ]
  },
  {
   "cell_type": "code",
   "execution_count": 17,
   "metadata": {
    "id": "G1bqIzDJOUiz"
   },
   "outputs": [
    {
     "data": {
      "text/html": [
       "<div>\n",
       "<style scoped>\n",
       "    .dataframe tbody tr th:only-of-type {\n",
       "        vertical-align: middle;\n",
       "    }\n",
       "\n",
       "    .dataframe tbody tr th {\n",
       "        vertical-align: top;\n",
       "    }\n",
       "\n",
       "    .dataframe thead th {\n",
       "        text-align: right;\n",
       "    }\n",
       "</style>\n",
       "<table border=\"1\" class=\"dataframe\">\n",
       "  <thead>\n",
       "    <tr style=\"text-align: right;\">\n",
       "      <th></th>\n",
       "      <th>user_id</th>\n",
       "      <th>session_id</th>\n",
       "      <th>session_date</th>\n",
       "      <th>session_start_ts</th>\n",
       "      <th>install_date</th>\n",
       "      <th>session_number</th>\n",
       "      <th>registration_flag</th>\n",
       "      <th>page_counter</th>\n",
       "      <th>region</th>\n",
       "      <th>device</th>\n",
       "      <th>test_group</th>\n",
       "    </tr>\n",
       "  </thead>\n",
       "  <tbody>\n",
       "    <tr>\n",
       "      <th>0</th>\n",
       "      <td>3404844B53442747</td>\n",
       "      <td>B4901323BD537E45</td>\n",
       "      <td>2025-10-14</td>\n",
       "      <td>2025-10-14 19:28:49</td>\n",
       "      <td>2025-10-14</td>\n",
       "      <td>1</td>\n",
       "      <td>0</td>\n",
       "      <td>3</td>\n",
       "      <td>CIS</td>\n",
       "      <td>Android</td>\n",
       "      <td>B</td>\n",
       "    </tr>\n",
       "    <tr>\n",
       "      <th>1</th>\n",
       "      <td>3A2BF4D364E62D89</td>\n",
       "      <td>216FC619308F8788</td>\n",
       "      <td>2025-10-14</td>\n",
       "      <td>2025-10-14 21:11:04</td>\n",
       "      <td>2025-10-14</td>\n",
       "      <td>1</td>\n",
       "      <td>0</td>\n",
       "      <td>3</td>\n",
       "      <td>MENA</td>\n",
       "      <td>iPhone</td>\n",
       "      <td>A</td>\n",
       "    </tr>\n",
       "    <tr>\n",
       "      <th>2</th>\n",
       "      <td>79CDAE11E32B1597</td>\n",
       "      <td>EDFCE4AC1A504074</td>\n",
       "      <td>2025-10-14</td>\n",
       "      <td>2025-10-14 21:44:03</td>\n",
       "      <td>2025-10-14</td>\n",
       "      <td>1</td>\n",
       "      <td>0</td>\n",
       "      <td>3</td>\n",
       "      <td>CIS</td>\n",
       "      <td>iPhone</td>\n",
       "      <td>A</td>\n",
       "    </tr>\n",
       "    <tr>\n",
       "      <th>3</th>\n",
       "      <td>D6AF8D78297A931F</td>\n",
       "      <td>CF0AC0EEDE92C690</td>\n",
       "      <td>2025-10-14</td>\n",
       "      <td>2025-10-14 19:07:55</td>\n",
       "      <td>2025-10-14</td>\n",
       "      <td>1</td>\n",
       "      <td>0</td>\n",
       "      <td>4</td>\n",
       "      <td>CIS</td>\n",
       "      <td>PC</td>\n",
       "      <td>A</td>\n",
       "    </tr>\n",
       "    <tr>\n",
       "      <th>4</th>\n",
       "      <td>37E0CE723AE568E0</td>\n",
       "      <td>2E6ED45E8C86C4E9</td>\n",
       "      <td>2025-10-14</td>\n",
       "      <td>2025-10-14 15:39:44</td>\n",
       "      <td>2025-10-14</td>\n",
       "      <td>1</td>\n",
       "      <td>0</td>\n",
       "      <td>3</td>\n",
       "      <td>CIS</td>\n",
       "      <td>Mac</td>\n",
       "      <td>B</td>\n",
       "    </tr>\n",
       "  </tbody>\n",
       "</table>\n",
       "</div>"
      ],
      "text/plain": [
       "            user_id        session_id session_date     session_start_ts  \\\n",
       "0  3404844B53442747  B4901323BD537E45   2025-10-14  2025-10-14 19:28:49   \n",
       "1  3A2BF4D364E62D89  216FC619308F8788   2025-10-14  2025-10-14 21:11:04   \n",
       "2  79CDAE11E32B1597  EDFCE4AC1A504074   2025-10-14  2025-10-14 21:44:03   \n",
       "3  D6AF8D78297A931F  CF0AC0EEDE92C690   2025-10-14  2025-10-14 19:07:55   \n",
       "4  37E0CE723AE568E0  2E6ED45E8C86C4E9   2025-10-14  2025-10-14 15:39:44   \n",
       "\n",
       "  install_date  session_number  registration_flag  page_counter region  \\\n",
       "0   2025-10-14               1                  0             3    CIS   \n",
       "1   2025-10-14               1                  0             3   MENA   \n",
       "2   2025-10-14               1                  0             3    CIS   \n",
       "3   2025-10-14               1                  0             4    CIS   \n",
       "4   2025-10-14               1                  0             3    CIS   \n",
       "\n",
       "    device test_group  \n",
       "0  Android          B  \n",
       "1   iPhone          A  \n",
       "2   iPhone          A  \n",
       "3       PC          A  \n",
       "4      Mac          B  "
      ]
     },
     "execution_count": 17,
     "metadata": {},
     "output_type": "execute_result"
    }
   ],
   "source": [
    "# Загружаем новый датафрейм\n",
    "sessions_test_part = pd.read_csv('https://code.s3.yandex.net/datasets/sessions_project_test_part.csv')\n",
    "\n",
    "# Изучим первые пять строк\n",
    "sessions_test_part.head()"
   ]
  },
  {
   "cell_type": "code",
   "execution_count": 18,
   "metadata": {},
   "outputs": [
    {
     "name": "stdout",
     "output_type": "stream",
     "text": [
      "  test_group  user_id\n",
      "0          A     1477\n",
      "1          B     1466\n"
     ]
    }
   ],
   "source": [
    "# Посмотрим количество уникальных пользователей в каждой из групп\n",
    "user_counts = sessions_test_part.groupby('test_group')['user_id'].nunique().reset_index()\n",
    "\n",
    "print(user_counts)"
   ]
  },
  {
   "cell_type": "code",
   "execution_count": 19,
   "metadata": {},
   "outputs": [
    {
     "name": "stdout",
     "output_type": "stream",
     "text": [
      "Процентная разница в числе пользователей между группами: 0.74%\n"
     ]
    }
   ],
   "source": [
    "# Рассчитаем процентную разницу\n",
    "\n",
    "# Отфильтруем необходимые значения\n",
    "users_a = user_counts['user_id'][user_counts['test_group']=='A'].values[0]\n",
    "users_b = user_counts['user_id'][user_counts['test_group']=='B'].values[0]\n",
    "\n",
    "# Применим формулу\n",
    "percent_diff = 100 * abs(users_a - users_b) / users_a\n",
    "\n",
    "\n",
    "print(f\"Процентная разница в числе пользователей между группами: {percent_diff:.2f}%\")\n"
   ]
  },
  {
   "cell_type": "code",
   "execution_count": 20,
   "metadata": {},
   "outputs": [
    {
     "data": {
      "image/png": "[encoded data removed]",
      "text/plain": [
       "<Figure size 432x360 with 1 Axes>"
      ]
     },
     "metadata": {
      "needs_background": "light"
     },
     "output_type": "display_data"
    }
   ],
   "source": [
    "# Построим столбчатую диограмму для визуальной оценки\n",
    "\n",
    "plt.figure(figsize=(6,5))\n",
    "plt.bar(user_counts['test_group'],user_counts['user_id'], color = ['steelblue','salmon'])\n",
    "\n",
    "plt.title('Количество уникальных пользователей в группах A и B')\n",
    "plt.ylabel('Число пользователей')\n",
    "plt.xlabel('Группа')\n",
    "plt.grid(axis='y')\n",
    "plt.tight_layout()\n",
    "plt.show()"
   ]
  },
  {
   "cell_type": "markdown",
   "metadata": {
    "id": "sgpNY5bv0eM0"
   },
   "source": [
    "#### 3.2. Проверка пересечений пользователей\n",
    "Помимо проверки равенства количества пользователей в группах полезно убедиться в том, что группы независимы. Для этого нужно убедиться, что никто из пользователей случайно не попал в обе группы одновременно.\n",
    "\n",
    "- Рассчитайте количество пользователей, которые встречаются одновременно в группах A и B, или убедитесь, что таких нет."
   ]
  },
  {
   "cell_type": "code",
   "execution_count": 21,
   "metadata": {
    "id": "E72ozN9FOX1u"
   },
   "outputs": [
    {
     "name": "stdout",
     "output_type": "stream",
     "text": [
      "Количество пользователей, попавших в обе группы: 0\n"
     ]
    }
   ],
   "source": [
    "# Создадим два множетсва пользователей\n",
    "users_a = set(sessions_test_part[sessions_test_part['test_group']=='A']['user_id'])\n",
    "users_b = set(sessions_test_part[sessions_test_part['test_group']=='B']['user_id'])\n",
    "\n",
    "# Проверим пересечение\n",
    "intersect_users = users_a & users_b\n",
    "\n",
    "print(f\"Количество пользователей, попавших в обе группы: {len(intersect_users)}\")"
   ]
  },
  {
   "cell_type": "markdown",
   "metadata": {
    "id": "6RvkNLrg0eM1"
   },
   "source": [
    "#### 3.3. Равномерность разделения пользователей по устройствам\n",
    "Полезно также убедиться в том, что пользователи равномерно распределены по всем доступным категориальным переменным — типам устройства и регионам.\n",
    "\n",
    "Постройте две диаграммы:\n",
    "\n",
    "- доля каждого типа устройства для пользователей из группы A,\n",
    "\n",
    "- доля каждого типа устройства для пользователей из группы B.\n",
    "\n",
    "Постарайтесь добавить на диаграммы все необходимые подписи, пояснения и заголовки, которые позволят сделать вывод о том, совпадает ли распределение устройств в группах A и B.\n"
   ]
  },
  {
   "cell_type": "code",
   "execution_count": 38,
   "metadata": {},
   "outputs": [],
   "source": [
    "devices_a = sessions_test_part[sessions_test_part['test_group']== 'A'].groupby('device')['user_id'].nunique()\n",
    "devices_b = sessions_test_part[sessions_test_part['test_group']== 'B'].groupby('device')['user_id'].nunique()"
   ]
  },
  {
   "cell_type": "code",
   "execution_count": 39,
   "metadata": {},
   "outputs": [
    {
     "data": {
      "image/png": "[encoded data removed]",
      "text/plain": [
       "<Figure size 1008x504 with 2 Axes>"
      ]
     },
     "metadata": {},
     "output_type": "display_data"
    }
   ],
   "source": [
    "# Построим визуализацию\n",
    "\n",
    "fig, axes = plt.subplots(1,2, figsize=(14,7))\n",
    "\n",
    "# Распределение пользоавтелей по устройствам для группы A\n",
    "\n",
    "axes[0].pie(\n",
    "    devices_a, \n",
    "    labels=devices_a.index, \n",
    "    autopct='%1.1f%%', \n",
    "    startangle=90,\n",
    "    colors=plt.cm.Paired.colors,\n",
    "    normalize=True\n",
    ")\n",
    "axes[0].set_title('Распределение устройств в группе A')\n",
    "\n",
    "# Распределение пользоавтелей по устройствам для группы B\n",
    "\n",
    "axes[1].pie(\n",
    "    devices_b, \n",
    "    labels=devices_b.index, \n",
    "    autopct='%1.1f%%', \n",
    "    startangle=90,\n",
    "    colors=plt.cm.Paired.colors,\n",
    "    normalize=True\n",
    ")\n",
    "axes[1].set_title('Распределение устройств в группе B')\n",
    "\n",
    "# Добавим общий заголовок\n",
    "plt.suptitle('Сравнение распределения устройств в группах A и B',fontsize=14)\n",
    "plt.tight_layout()\n",
    "plt.subplots_adjust(top=0.85)\n",
    "plt.show()"
   ]
  },
  {
   "cell_type": "markdown",
   "metadata": {
    "id": "gAgmP6vo0eM1"
   },
   "source": [
    "#### 3.4. Равномерность распределения пользователей по регионам\n",
    "Теперь убедитесь, что пользователи равномерно распределены по регионам.\n",
    "\n",
    "Постройте две диаграммы:\n",
    "\n",
    "- доля каждого региона для пользователей из группы A,\n",
    "\n",
    "- доля каждого региона для пользователей из группы B.\n",
    "\n",
    "Постарайтесь добавить на диаграммы все необходимые подписи, пояснения и заголовки, которые позволят сделать вывод о том, совпадает ли распределение регионов в группах A и B. Постарайтесь использовать другой тип диаграммы, не тот, что в прошлом задании.\n"
   ]
  },
  {
   "cell_type": "code",
   "execution_count": 40,
   "metadata": {},
   "outputs": [],
   "source": [
    "# Сгруппируем данные\n",
    "\n",
    "regions_a = sessions_test_part[sessions_test_part['test_group']== 'A'].groupby('region')['user_id'].nunique()\n",
    "regions_b = sessions_test_part[sessions_test_part['test_group']== 'B'].groupby('region')['user_id'].nunique()"
   ]
  },
  {
   "cell_type": "code",
   "execution_count": 27,
   "metadata": {},
   "outputs": [
    {
     "data": {
      "image/png": "[encoded data removed]",
      "text/plain": [
       "<Figure size 1008x504 with 2 Axes>"
      ]
     },
     "metadata": {},
     "output_type": "display_data"
    }
   ],
   "source": [
    "# Построим визуализацию\n",
    "\n",
    "fig, axes = plt.subplots(1,2, figsize=(14,7))\n",
    "\n",
    "# Распределение пользоавтелей по регионам для группы A\n",
    "\n",
    "axes[0].pie(\n",
    "    regions_a, \n",
    "    labels=regions_a.index, \n",
    "    autopct='%1.1f%%', \n",
    "    startangle=90,\n",
    "    colors=plt.cm.Paired.colors,\n",
    "    normalize=True\n",
    ")\n",
    "axes[0].set_title('Распределение регионов в группе A')\n",
    "\n",
    "# Распределение пользоавтелей по регионам для группы B\n",
    "\n",
    "axes[1].pie(\n",
    "    regions_b, \n",
    "    labels=regions_b.index, \n",
    "    autopct='%1.1f%%', \n",
    "    startangle=90,\n",
    "    colors=plt.cm.Paired.colors,\n",
    "    normalize=True\n",
    ")\n",
    "axes[1].set_title('Распределение регионов в группе B')\n",
    "\n",
    "# Добавим общий заголовок\n",
    "plt.suptitle('Сравнение распределения регионов в группах A и B',fontsize=14)\n",
    "plt.tight_layout()\n",
    "plt.subplots_adjust(top=0.85)\n",
    "plt.show()"
   ]
  },
  {
   "cell_type": "markdown",
   "metadata": {
    "id": "X2WSZ-sDrSUi"
   },
   "source": [
    "#### 3.5. Вывод после проверки A/B-теста\n",
    "\n",
    "На основе проведённого анализа A/B-теста сформулируйте и запишите свои выводы. В выводе обязательно укажите:\n",
    "\n",
    "- Были ли обнаружено различие в количестве пользователей в двух группах.\n",
    "\n",
    "- Являются ли выборки независимыми. Было ли обнаружено пересечение пользователей из тестовой и контрольной групп.\n",
    "\n",
    "- Сохраняется ли равномерное распределение пользователей тестовой и контрольной групп по категориальным переменным: устройствам и регионам.\n",
    "\n",
    "Сделайте заключение о том, корректно ли проходит A/B-тест или наблюдаются какие-либо нарушения."
   ]
  },
  {
   "cell_type": "markdown",
   "metadata": {
    "id": "dDELHlAcOi8d"
   },
   "source": [
    "-------"
   ]
  },
  {
   "cell_type": "markdown",
   "metadata": {},
   "source": [
    "#### Выводы после проверки A/B-теста:\n",
    "\n",
    "- Процентная разница в количестве пользователей между двумя группами не превышает 2-3%, а составляет лишь 0,74%, что абсолютно в пределах нормы и никак не повлияет на результат теста. \n",
    "\n",
    "- Пересечений между выборками не обнаружено. Выборки являются полностью независимыми.\n",
    "\n",
    "- Наблюдаем равномерное распределение ,как по рангу, так и по процентным соотношениям, пользователей тестовой и контрольной групп по обоим категориальным переменным: устроствам и регионам.\n",
    "\n",
    "A/B-тест проходит корректно, никаких нарушений не обнаружено."
   ]
  },
  {
   "cell_type": "markdown",
   "metadata": {},
   "source": [
    "------"
   ]
  },
  {
   "cell_type": "markdown",
   "metadata": {
    "id": "nudRr_BQ0eM2"
   },
   "source": [
    "### 4. Проверка результатов A/B-теста\n",
    "\n",
    "A/B-тест завершён, и у вас есть результаты за все дни проведения эксперимента. Необходимо убедиться в корректности теста и верно интерпретировать результаты."
   ]
  },
  {
   "cell_type": "markdown",
   "metadata": {
    "id": "JVve-YBB0eM2"
   },
   "source": [
    "#### 4.1. Получение результатов теста и подсчёт основной метрики\n",
    "\n",
    "- Считайте и сохраните в датафрейм `sessions_test` CSV-файл с историческими данными о сессиях пользователей `sessions_project_test.csv`.\n",
    "\n",
    "- В датафрейме `sessions_test` создайте дополнительный столбец `good_session`. В него войдёт значение `1`, если за одну сессию было просмотрено 4 и более страниц, и значение `0`, если просмотрено меньше."
   ]
  },
  {
   "cell_type": "code",
   "execution_count": 28,
   "metadata": {
    "id": "EqRlwMtKPTir"
   },
   "outputs": [],
   "source": [
    "# Выгрузим новый датафрейм\n",
    "sessions_test = pd.read_csv('https://code.s3.yandex.net/datasets/sessions_project_test.csv')"
   ]
  },
  {
   "cell_type": "code",
   "execution_count": 29,
   "metadata": {},
   "outputs": [
    {
     "data": {
      "text/html": [
       "<div>\n",
       "<style scoped>\n",
       "    .dataframe tbody tr th:only-of-type {\n",
       "        vertical-align: middle;\n",
       "    }\n",
       "\n",
       "    .dataframe tbody tr th {\n",
       "        vertical-align: top;\n",
       "    }\n",
       "\n",
       "    .dataframe thead th {\n",
       "        text-align: right;\n",
       "    }\n",
       "</style>\n",
       "<table border=\"1\" class=\"dataframe\">\n",
       "  <thead>\n",
       "    <tr style=\"text-align: right;\">\n",
       "      <th></th>\n",
       "      <th>user_id</th>\n",
       "      <th>session_id</th>\n",
       "      <th>session_date</th>\n",
       "      <th>session_start_ts</th>\n",
       "      <th>install_date</th>\n",
       "      <th>session_number</th>\n",
       "      <th>registration_flag</th>\n",
       "      <th>page_counter</th>\n",
       "      <th>region</th>\n",
       "      <th>device</th>\n",
       "      <th>test_group</th>\n",
       "      <th>good_session</th>\n",
       "    </tr>\n",
       "  </thead>\n",
       "  <tbody>\n",
       "    <tr>\n",
       "      <th>0</th>\n",
       "      <td>6DAE3B3654DA738E</td>\n",
       "      <td>C69249E26E58F6E2</td>\n",
       "      <td>2025-10-26</td>\n",
       "      <td>2025-10-26 18:15:05</td>\n",
       "      <td>2025-10-16</td>\n",
       "      <td>3</td>\n",
       "      <td>0</td>\n",
       "      <td>3</td>\n",
       "      <td>MENA</td>\n",
       "      <td>Android</td>\n",
       "      <td>A</td>\n",
       "      <td>0</td>\n",
       "    </tr>\n",
       "    <tr>\n",
       "      <th>1</th>\n",
       "      <td>0A3FE5D1DD59110A</td>\n",
       "      <td>66D66D7C9F5181B7</td>\n",
       "      <td>2025-10-21</td>\n",
       "      <td>2025-10-21 17:04:53</td>\n",
       "      <td>2025-10-15</td>\n",
       "      <td>2</td>\n",
       "      <td>1</td>\n",
       "      <td>2</td>\n",
       "      <td>CIS</td>\n",
       "      <td>Android</td>\n",
       "      <td>B</td>\n",
       "      <td>0</td>\n",
       "    </tr>\n",
       "    <tr>\n",
       "      <th>2</th>\n",
       "      <td>2041F1D7AA740B88</td>\n",
       "      <td>50DE51D42215E74C</td>\n",
       "      <td>2025-10-23</td>\n",
       "      <td>2025-10-23 17:39:29</td>\n",
       "      <td>2025-10-19</td>\n",
       "      <td>3</td>\n",
       "      <td>0</td>\n",
       "      <td>2</td>\n",
       "      <td>MENA</td>\n",
       "      <td>Android</td>\n",
       "      <td>A</td>\n",
       "      <td>0</td>\n",
       "    </tr>\n",
       "    <tr>\n",
       "      <th>3</th>\n",
       "      <td>43D7585009168086</td>\n",
       "      <td>5763C0C353C22263</td>\n",
       "      <td>2025-10-24</td>\n",
       "      <td>2025-10-24 15:01:57</td>\n",
       "      <td>2025-10-18</td>\n",
       "      <td>4</td>\n",
       "      <td>0</td>\n",
       "      <td>1</td>\n",
       "      <td>CIS</td>\n",
       "      <td>iPhone</td>\n",
       "      <td>B</td>\n",
       "      <td>0</td>\n",
       "    </tr>\n",
       "    <tr>\n",
       "      <th>4</th>\n",
       "      <td>15AD68B14D62D88C</td>\n",
       "      <td>B1AD09F93C1053BC</td>\n",
       "      <td>2025-10-17</td>\n",
       "      <td>2025-10-17 17:34:39</td>\n",
       "      <td>2025-10-17</td>\n",
       "      <td>1</td>\n",
       "      <td>0</td>\n",
       "      <td>2</td>\n",
       "      <td>MENA</td>\n",
       "      <td>Android</td>\n",
       "      <td>B</td>\n",
       "      <td>0</td>\n",
       "    </tr>\n",
       "  </tbody>\n",
       "</table>\n",
       "</div>"
      ],
      "text/plain": [
       "            user_id        session_id session_date     session_start_ts  \\\n",
       "0  6DAE3B3654DA738E  C69249E26E58F6E2   2025-10-26  2025-10-26 18:15:05   \n",
       "1  0A3FE5D1DD59110A  66D66D7C9F5181B7   2025-10-21  2025-10-21 17:04:53   \n",
       "2  2041F1D7AA740B88  50DE51D42215E74C   2025-10-23  2025-10-23 17:39:29   \n",
       "3  43D7585009168086  5763C0C353C22263   2025-10-24  2025-10-24 15:01:57   \n",
       "4  15AD68B14D62D88C  B1AD09F93C1053BC   2025-10-17  2025-10-17 17:34:39   \n",
       "\n",
       "  install_date  session_number  registration_flag  page_counter region  \\\n",
       "0   2025-10-16               3                  0             3   MENA   \n",
       "1   2025-10-15               2                  1             2    CIS   \n",
       "2   2025-10-19               3                  0             2   MENA   \n",
       "3   2025-10-18               4                  0             1    CIS   \n",
       "4   2025-10-17               1                  0             2   MENA   \n",
       "\n",
       "    device test_group  good_session  \n",
       "0  Android          A             0  \n",
       "1  Android          B             0  \n",
       "2  Android          A             0  \n",
       "3   iPhone          B             0  \n",
       "4  Android          B             0  "
      ]
     },
     "execution_count": 29,
     "metadata": {},
     "output_type": "execute_result"
    }
   ],
   "source": [
    "# Создадим новый столбец\n",
    "sessions_test['good_session'] = (sessions_test['page_counter']>=4).astype(int)\n",
    "\n",
    "# Проверяем результаты\n",
    "sessions_test.head()"
   ]
  },
  {
   "cell_type": "markdown",
   "metadata": {
    "id": "aeYhrMYy0eM2"
   },
   "source": [
    "#### 4.2. Проверка корректности результатов теста\n",
    "\n",
    "Прежде чем приступать к анализу ключевых продуктовых метрик, необходимо убедиться, что тест проведён корректно и вы будете сравнивать две сопоставимые группы.\n",
    "\n",
    "- Рассчитайте количество уникальных сессий для каждого дня и обеих тестовых групп, используя группировку.\n",
    "\n",
    "- Проверьте, что количество уникальных дневных сессий в двух выборках не различается или различия не статистически значимы. Используйте статистический тест, который позволит сделать вывод о равенстве средних двух выборок.\n",
    "\n",
    "- В качестве ответа выведите на экран полученное значение p-value и интерпретируйте его."
   ]
  },
  {
   "cell_type": "code",
   "execution_count": 30,
   "metadata": {
    "id": "5NUlcltkTTSU"
   },
   "outputs": [
    {
     "name": "stdout",
     "output_type": "stream",
     "text": [
      "Число уникальных пользователей эксперимента 30579\n"
     ]
    }
   ],
   "source": [
    "# Проверим количество уникальных пользователей на время эксперимента\n",
    "users_count = sessions_test['user_id'].nunique()\n",
    "\n",
    "print(f\"Число уникальных пользователей эксперимента {users_count}\")\n",
    "\n",
    "# Проверяем количество уникальных дневных сессий\n",
    "daily_sessions = sessions_test.groupby(['session_date','test_group'])['session_id'].nunique().reset_index()"
   ]
  },
  {
   "cell_type": "code",
   "execution_count": 31,
   "metadata": {},
   "outputs": [
    {
     "data": {
      "text/html": [
       "<div>\n",
       "<style scoped>\n",
       "    .dataframe tbody tr th:only-of-type {\n",
       "        vertical-align: middle;\n",
       "    }\n",
       "\n",
       "    .dataframe tbody tr th {\n",
       "        vertical-align: top;\n",
       "    }\n",
       "\n",
       "    .dataframe thead th {\n",
       "        text-align: right;\n",
       "    }\n",
       "</style>\n",
       "<table border=\"1\" class=\"dataframe\">\n",
       "  <thead>\n",
       "    <tr style=\"text-align: right;\">\n",
       "      <th></th>\n",
       "      <th>session_date</th>\n",
       "      <th>test_group</th>\n",
       "      <th>session_id</th>\n",
       "    </tr>\n",
       "  </thead>\n",
       "  <tbody>\n",
       "    <tr>\n",
       "      <th>0</th>\n",
       "      <td>2025-10-14</td>\n",
       "      <td>A</td>\n",
       "      <td>1502</td>\n",
       "    </tr>\n",
       "    <tr>\n",
       "      <th>1</th>\n",
       "      <td>2025-10-14</td>\n",
       "      <td>B</td>\n",
       "      <td>1628</td>\n",
       "    </tr>\n",
       "    <tr>\n",
       "      <th>2</th>\n",
       "      <td>2025-10-15</td>\n",
       "      <td>A</td>\n",
       "      <td>2235</td>\n",
       "    </tr>\n",
       "    <tr>\n",
       "      <th>3</th>\n",
       "      <td>2025-10-15</td>\n",
       "      <td>B</td>\n",
       "      <td>2283</td>\n",
       "    </tr>\n",
       "    <tr>\n",
       "      <th>4</th>\n",
       "      <td>2025-10-16</td>\n",
       "      <td>A</td>\n",
       "      <td>3280</td>\n",
       "    </tr>\n",
       "  </tbody>\n",
       "</table>\n",
       "</div>"
      ],
      "text/plain": [
       "  session_date test_group  session_id\n",
       "0   2025-10-14          A        1502\n",
       "1   2025-10-14          B        1628\n",
       "2   2025-10-15          A        2235\n",
       "3   2025-10-15          B        2283\n",
       "4   2025-10-16          A        3280"
      ]
     },
     "execution_count": 31,
     "metadata": {},
     "output_type": "execute_result"
    }
   ],
   "source": [
    "daily_sessions.head()"
   ]
  },
  {
   "cell_type": "code",
   "execution_count": 32,
   "metadata": {},
   "outputs": [
    {
     "name": "stdout",
     "output_type": "stream",
     "text": [
      "test_group session_date     A     B\n",
      "0            2025-10-14  1502  1628\n",
      "1            2025-10-15  2235  2283\n",
      "2            2025-10-16  3280  3241\n",
      "3            2025-10-17  4089  4054\n",
      "4            2025-10-18  5013  5059\n"
     ]
    }
   ],
   "source": [
    "# Для удобства переформатируем таблицу\n",
    "daily_sessions_pivot = daily_sessions.pivot(\n",
    "    index='session_date', \n",
    "    columns='test_group', \n",
    "    values='session_id'\n",
    ").reset_index()\n",
    "\n",
    "print(daily_sessions_pivot.head())"
   ]
  },
  {
   "cell_type": "code",
   "execution_count": 33,
   "metadata": {},
   "outputs": [
    {
     "name": "stdout",
     "output_type": "stream",
     "text": [
      "p-value: 0.9382\n",
      "Нет статистически значимого различия: можно считать, что по числу сессий группы сбалансированы.\n"
     ]
    }
   ],
   "source": [
    "# Импортируем t-test \n",
    "from scipy.stats import ttest_ind\n",
    "\n",
    "# Применим двухвыборочный t-test\n",
    "t_stat, p_value = ttest_ind(\n",
    "    daily_sessions_pivot['A'],\n",
    "    daily_sessions_pivot['B'],\n",
    "    equal_var=False \n",
    ")\n",
    "\n",
    "alpha = 0.05\n",
    "\n",
    "# Выводим результат\n",
    "print(f'p-value: {p_value:.4f}')\n",
    "\n",
    "if p_value < alpha:\n",
    "    print(\"Различие статистически значимо: количество сессий по дням в группах A и B различается.\")\n",
    "else:\n",
    "    print(\"Нет статистически значимого различия: можно считать, что по числу сессий группы сбалансированы.\")"
   ]
  },
  {
   "cell_type": "markdown",
   "metadata": {
    "id": "7kwRxzg70eM3"
   },
   "source": [
    "#### 4.3. Сравнение доли успешных сессий\n",
    "\n",
    "Когда вы убедились, что количество сессий в обеих выборках не различалось, можно переходить к анализу ключевой метрики — доли успешных сессий.\n",
    "\n",
    "Используйте созданный на первом шаге задания столбец `good_session` и рассчитайте долю успешных сессий для выборок A и B, а также разницу в этом показателе. Полученный вывод отобразите на экране."
   ]
  },
  {
   "cell_type": "code",
   "execution_count": 34,
   "metadata": {
    "id": "Uku-V1CpPRCz"
   },
   "outputs": [],
   "source": [
    "# Сгруппируем данные\n",
    "success_percent = sessions_test.groupby('test_group')['good_session'].mean().reset_index()"
   ]
  },
  {
   "cell_type": "code",
   "execution_count": 35,
   "metadata": {},
   "outputs": [
    {
     "name": "stdout",
     "output_type": "stream",
     "text": [
      "Доля усешних сессий группы А составляет: 0.3077\n",
      "Доля усешних сессий группы B составляет: 0.3183\n",
      "Разница успешных сессий между группами в процентах: 1.06%\n"
     ]
    }
   ],
   "source": [
    "# Рассчитаем процентную разницу\n",
    "\n",
    "# Отфильтруем необходимые значения\n",
    "sessions_a = success_percent.loc[success_percent['test_group'] == 'A', 'good_session'].values[0]\n",
    "sessions_b = success_percent.loc[success_percent['test_group']=='B','good_session'].values[0]\n",
    "\n",
    "# Сделаем расчет\n",
    "diff = 100 * abs(sessions_a - sessions_b)\n",
    "\n",
    "# Ошибка\n",
    "# percent_diff = 100 * abs(sessions_a - sessions_b) / sessions_a\n",
    "\n",
    "\n",
    "print(f\"Доля усешних сессий группы А составляет: {sessions_a:.4f}\")\n",
    "print(f\"Доля усешних сессий группы B составляет: {sessions_b:.4f}\")\n",
    "print(f\"Разница успешных сессий между группами в процентах: {diff:.2f}%\")\n"
   ]
  },
  {
   "cell_type": "markdown",
   "metadata": {
    "id": "9fMFuja10eM4"
   },
   "source": [
    "#### 4.4. Насколько статистически значимо изменение ключевой метрики\n",
    "\n",
    "На предыдущем шаге вы убедились, что количество успешных сессий в тестовой выборке примерно на 1.1% выше, чем в контрольной, но делать выводы только на основе этого значения будет некорректно. Для принятия решения всегда необходимо отвечать на вопрос: является ли это изменение статистически значимым.\n",
    "\n",
    "- Используя статистический тест, рассчитайте, является ли изменение в метрике доли успешных сессий статистически значимым.\n",
    "\n",
    "- Выведите на экран полученное значение p-value и свои выводы о статистической значимости. Напомним, что уровень значимости в эксперименте был выбран на уровне 0.05."
   ]
  },
  {
   "cell_type": "code",
   "execution_count": 41,
   "metadata": {
    "id": "gFvhRGwlPLS0"
   },
   "outputs": [
    {
     "name": "stdout",
     "output_type": "stream",
     "text": [
      "p-value: 0.0003\n",
      "Различие статистически значимо: новая группа B показала отличающуюся долю успешных сессий.\n"
     ]
    }
   ],
   "source": [
    "# Импортируем функцию z-тест для пропорций\n",
    "from statsmodels.stats.proportion import proportions_ztest\n",
    "\n",
    "# Подсчитаем успехи и общее количество сессий\n",
    "successes_sessions = sessions_test.groupby('test_group')['good_session'].sum()\n",
    "total_sessions = sessions_test.groupby('test_group')['good_session'].count()\n",
    "\n",
    "# Приведем значения к удобному для теста формату\n",
    "count = successes_sessions.values\n",
    "nobs = total_sessions.values\n",
    "\n",
    "# Установим уровень значимости\n",
    "alpha = 0.05\n",
    "\n",
    "# Запускаем z-test\n",
    "stat, p_value = proportions_ztest(count=count, nobs=nobs)\n",
    "\n",
    "# Выводим результат\n",
    "print(f'p-value: {p_value:.4f}')\n",
    "\n",
    "if p_value < 0.05:\n",
    "    print(\"Различие статистически значимо: новая группа B показала отличающуюся долю успешных сессий.\")\n",
    "else:\n",
    "    print(\"Нет статистически значимого различия: доли успешных сессий в группах A и B примерно равны.\")"
   ]
  },
  {
   "cell_type": "markdown",
   "metadata": {
    "id": "GnJrkY9Q63zS"
   },
   "source": [
    "#### 4.5. Вывод по результатам A/B-эксперимента\n",
    "\n",
    "На основе проведённого анализа результатов теста сформулируйте и запишите свои выводы для команды разработки приложения. В выводе обязательно укажите:\n",
    "\n",
    "- Характеристики проведённого эксперимента, количество задействованных пользователей и длительность эксперимента.\n",
    "\n",
    "- Повлияло ли внедрение нового алгоритма рекомендаций на рост ключевой метрики и как.\n",
    "\n",
    "- Каким получилось значение p-value для оценки статистической значимости выявленного эффекта.\n",
    "\n",
    "- Стоит ли внедрять новоовведение в приложение."
   ]
  },
  {
   "cell_type": "markdown",
   "metadata": {},
   "source": [
    "----"
   ]
  },
  {
   "cell_type": "markdown",
   "metadata": {
    "id": "rri8KRIgPMrW"
   },
   "source": [
    "#### Вывод по результатам A/B-эксперимента:\n",
    "\n",
    "- Эксперимент продлился 19 дней и  задействовал 30579 уникальных пользователей, что отличается от изначальных рассчетов относительно среднего трафика. Предпологалось, что тест наберет за 4 дня выборку из 34882 пользователей.\n",
    "\n",
    "- Ключевой метрикой была выбрана доля успешных сессий (кол-во просмотренных старник не менее 4). \n",
    "\n",
    "- Путем вычислений наблюдали увеличение доли успешных сессий на ~1,1% у группы B.\n",
    "\n",
    "- В результате Z-теста пропорций получили p-value равный ~0.0003, что говорит о том, что статистическое изменение является значимым, а не случайным.\n",
    "\n",
    "- Статистически значимое увеличение доли успешных сессий на ~1,1% с учетом трафика и специфики - достаточно неплохой показатель. Нововведение стоит внедрить в приложение на постоянной основе."
   ]
  },
  {
   "cell_type": "code",
   "execution_count": null,
   "metadata": {},
   "outputs": [],
   "source": []
  }
 ],
 "metadata": {
  "ExecuteTimeLog": [
   {
    "duration": 2711,
    "start_time": "2025-06-16T10:15:14.272Z"
   },
   {
    "duration": 2000,
    "start_time": "2025-06-16T10:17:10.413Z"
   },
   {
    "duration": 67,
    "start_time": "2025-06-16T10:20:55.137Z"
   },
   {
    "duration": 10,
    "start_time": "2025-06-16T10:21:06.866Z"
   },
   {
    "duration": 9,
    "start_time": "2025-06-16T10:21:17.568Z"
   },
   {
    "duration": 1530,
    "start_time": "2025-06-16T10:21:31.804Z"
   },
   {
    "duration": 576,
    "start_time": "2025-06-16T10:25:53.183Z"
   },
   {
    "duration": 565,
    "start_time": "2025-06-16T10:26:21.704Z"
   },
   {
    "duration": 611,
    "start_time": "2025-06-16T10:26:31.315Z"
   },
   {
    "duration": 564,
    "start_time": "2025-06-16T10:26:42.432Z"
   },
   {
    "duration": 644,
    "start_time": "2025-06-16T10:27:01.337Z"
   },
   {
    "duration": 540,
    "start_time": "2025-06-16T10:31:37.153Z"
   },
   {
    "duration": 543,
    "start_time": "2025-06-16T10:32:02.271Z"
   },
   {
    "duration": 582,
    "start_time": "2025-06-16T10:34:08.786Z"
   },
   {
    "duration": 73,
    "start_time": "2025-06-16T10:49:39.266Z"
   },
   {
    "duration": 182,
    "start_time": "2025-06-16T10:49:47.765Z"
   },
   {
    "duration": 166,
    "start_time": "2025-06-16T10:52:41.397Z"
   },
   {
    "duration": 447,
    "start_time": "2025-06-16T10:53:40.915Z"
   },
   {
    "duration": 2258,
    "start_time": "2025-06-16T10:55:34.963Z"
   },
   {
    "duration": 186,
    "start_time": "2025-06-16T10:56:04.785Z"
   },
   {
    "duration": 2,
    "start_time": "2025-06-16T10:56:05.399Z"
   },
   {
    "duration": 1370,
    "start_time": "2025-06-16T10:56:06.120Z"
   },
   {
    "duration": 6,
    "start_time": "2025-06-16T10:56:35.954Z"
   },
   {
    "duration": 172,
    "start_time": "2025-06-16T10:56:50.184Z"
   },
   {
    "duration": 6,
    "start_time": "2025-06-16T10:56:53.319Z"
   },
   {
    "duration": 165,
    "start_time": "2025-06-16T10:57:04.817Z"
   },
   {
    "duration": 3,
    "start_time": "2025-06-16T10:57:05.261Z"
   },
   {
    "duration": 2856,
    "start_time": "2025-06-16T10:57:05.953Z"
   },
   {
    "duration": 834,
    "start_time": "2025-06-16T10:57:25.982Z"
   },
   {
    "duration": 5,
    "start_time": "2025-06-16T11:02:59.681Z"
   },
   {
    "duration": 1125,
    "start_time": "2025-06-16T11:09:24.753Z"
   },
   {
    "duration": 676,
    "start_time": "2025-06-16T11:10:16.808Z"
   },
   {
    "duration": 7,
    "start_time": "2025-06-16T11:21:23.686Z"
   },
   {
    "duration": 45,
    "start_time": "2025-06-16T11:21:36.100Z"
   },
   {
    "duration": 5,
    "start_time": "2025-06-16T11:21:56.252Z"
   },
   {
    "duration": 28,
    "start_time": "2025-06-16T11:26:14.684Z"
   },
   {
    "duration": 367,
    "start_time": "2025-06-16T11:26:15.802Z"
   },
   {
    "duration": 59,
    "start_time": "2025-06-16T13:16:04.503Z"
   },
   {
    "duration": 2501,
    "start_time": "2025-06-16T13:16:12.095Z"
   },
   {
    "duration": 666,
    "start_time": "2025-06-16T13:16:14.598Z"
   },
   {
    "duration": 205,
    "start_time": "2025-06-16T13:16:15.266Z"
   },
   {
    "duration": 479,
    "start_time": "2025-06-16T13:16:15.473Z"
   },
   {
    "duration": 875,
    "start_time": "2025-06-16T13:16:15.955Z"
   },
   {
    "duration": 783,
    "start_time": "2025-06-16T13:16:16.832Z"
   },
   {
    "duration": 49,
    "start_time": "2025-06-16T13:16:17.617Z"
   },
   {
    "duration": 426,
    "start_time": "2025-06-16T13:16:17.668Z"
   },
   {
    "duration": 13,
    "start_time": "2025-06-16T13:16:18.095Z"
   },
   {
    "duration": 659,
    "start_time": "2025-06-16T13:16:18.111Z"
   },
   {
    "duration": 0,
    "start_time": "2025-06-16T13:16:18.772Z"
   },
   {
    "duration": 5,
    "start_time": "2025-06-16T13:18:13.837Z"
   },
   {
    "duration": 7,
    "start_time": "2025-06-16T13:20:15.592Z"
   },
   {
    "duration": 48,
    "start_time": "2025-06-16T13:24:44.341Z"
   },
   {
    "duration": 35,
    "start_time": "2025-06-16T13:25:30.029Z"
   },
   {
    "duration": 752,
    "start_time": "2025-06-16T13:31:06.578Z"
   },
   {
    "duration": 1560,
    "start_time": "2025-06-16T13:33:13.615Z"
   },
   {
    "duration": 792,
    "start_time": "2025-06-16T13:33:27.589Z"
   },
   {
    "duration": 774,
    "start_time": "2025-06-16T13:34:24.361Z"
   },
   {
    "duration": 16,
    "start_time": "2025-06-16T14:43:50.893Z"
   },
   {
    "duration": 10,
    "start_time": "2025-06-16T14:51:34.628Z"
   },
   {
    "duration": 174,
    "start_time": "2025-06-16T14:51:47.112Z"
   },
   {
    "duration": 164,
    "start_time": "2025-06-16T14:52:02.751Z"
   },
   {
    "duration": 43,
    "start_time": "2025-06-16T15:07:28.059Z"
   },
   {
    "duration": 66,
    "start_time": "2025-06-16T15:09:43.128Z"
   },
   {
    "duration": 6,
    "start_time": "2025-06-16T15:15:20.699Z"
   },
   {
    "duration": 6,
    "start_time": "2025-06-16T15:15:30.583Z"
   },
   {
    "duration": 7,
    "start_time": "2025-06-16T15:15:51.473Z"
   },
   {
    "duration": 13,
    "start_time": "2025-06-16T15:19:51.654Z"
   },
   {
    "duration": 14,
    "start_time": "2025-06-16T15:20:07.472Z"
   },
   {
    "duration": 11,
    "start_time": "2025-06-16T15:21:12.176Z"
   },
   {
    "duration": 12,
    "start_time": "2025-06-16T15:21:21.323Z"
   },
   {
    "duration": 13,
    "start_time": "2025-06-16T15:21:32.261Z"
   },
   {
    "duration": 12,
    "start_time": "2025-06-16T15:22:15.871Z"
   },
   {
    "duration": 15,
    "start_time": "2025-06-16T15:22:28.025Z"
   },
   {
    "duration": 15,
    "start_time": "2025-06-16T15:22:53.933Z"
   },
   {
    "duration": 13,
    "start_time": "2025-06-16T15:23:14.823Z"
   },
   {
    "duration": 6,
    "start_time": "2025-06-16T15:23:38.576Z"
   },
   {
    "duration": 5,
    "start_time": "2025-06-16T15:23:59.372Z"
   },
   {
    "duration": 12,
    "start_time": "2025-06-16T15:29:43.633Z"
   },
   {
    "duration": 218,
    "start_time": "2025-06-16T15:29:52.421Z"
   },
   {
    "duration": 98,
    "start_time": "2025-06-16T15:30:10.341Z"
   },
   {
    "duration": 94,
    "start_time": "2025-06-16T15:30:15.571Z"
   },
   {
    "duration": 259,
    "start_time": "2025-06-16T15:30:20.771Z"
   },
   {
    "duration": 7,
    "start_time": "2025-06-16T15:34:24.605Z"
   },
   {
    "duration": 12,
    "start_time": "2025-06-16T15:36:04.325Z"
   },
   {
    "duration": 10,
    "start_time": "2025-06-16T15:36:12.691Z"
   },
   {
    "duration": 37,
    "start_time": "2025-06-16T15:43:26.054Z"
   },
   {
    "duration": 0,
    "start_time": "2025-06-16T15:47:07.818Z"
   },
   {
    "duration": 13,
    "start_time": "2025-06-16T15:47:24.473Z"
   },
   {
    "duration": 16434,
    "start_time": "2025-06-16T15:47:35.727Z"
   },
   {
    "duration": 22,
    "start_time": "2025-06-16T15:47:57.554Z"
   },
   {
    "duration": 2328,
    "start_time": "2025-06-16T15:50:07.699Z"
   },
   {
    "duration": 631,
    "start_time": "2025-06-16T15:50:10.029Z"
   },
   {
    "duration": 200,
    "start_time": "2025-06-16T15:50:10.662Z"
   },
   {
    "duration": 235,
    "start_time": "2025-06-16T15:50:10.864Z"
   },
   {
    "duration": 762,
    "start_time": "2025-06-16T15:50:11.100Z"
   },
   {
    "duration": 751,
    "start_time": "2025-06-16T15:50:11.863Z"
   },
   {
    "duration": 34,
    "start_time": "2025-06-16T15:50:12.615Z"
   },
   {
    "duration": 343,
    "start_time": "2025-06-16T15:50:12.651Z"
   },
   {
    "duration": 817,
    "start_time": "2025-06-16T15:50:12.996Z"
   },
   {
    "duration": 433,
    "start_time": "2025-06-16T15:50:13.816Z"
   },
   {
    "duration": 171,
    "start_time": "2025-06-16T15:50:14.251Z"
   },
   {
    "duration": 70,
    "start_time": "2025-06-16T15:50:14.424Z"
   },
   {
    "duration": 7,
    "start_time": "2025-06-16T15:50:14.495Z"
   },
   {
    "duration": 6,
    "start_time": "2025-06-16T15:50:14.504Z"
   },
   {
    "duration": 234,
    "start_time": "2025-06-16T15:50:14.512Z"
   },
   {
    "duration": 8,
    "start_time": "2025-06-16T15:50:14.748Z"
   },
   {
    "duration": 134,
    "start_time": "2025-06-16T15:50:14.757Z"
   },
   {
    "duration": 0,
    "start_time": "2025-06-16T15:50:14.893Z"
   },
   {
    "duration": 0,
    "start_time": "2025-06-16T15:50:14.894Z"
   },
   {
    "duration": 23,
    "start_time": "2025-06-16T15:50:27.573Z"
   },
   {
    "duration": 53385,
    "start_time": "2025-06-16T15:50:28.407Z"
   },
   {
    "duration": 2262,
    "start_time": "2025-06-16T15:53:07.674Z"
   },
   {
    "duration": 657,
    "start_time": "2025-06-16T15:53:09.938Z"
   },
   {
    "duration": 199,
    "start_time": "2025-06-16T15:53:10.596Z"
   },
   {
    "duration": 238,
    "start_time": "2025-06-16T15:53:10.796Z"
   },
   {
    "duration": 755,
    "start_time": "2025-06-16T15:53:11.036Z"
   },
   {
    "duration": 750,
    "start_time": "2025-06-16T15:53:11.793Z"
   },
   {
    "duration": 35,
    "start_time": "2025-06-16T15:53:12.545Z"
   },
   {
    "duration": 366,
    "start_time": "2025-06-16T15:53:12.582Z"
   },
   {
    "duration": 796,
    "start_time": "2025-06-16T15:53:12.950Z"
   },
   {
    "duration": 408,
    "start_time": "2025-06-16T15:53:13.748Z"
   },
   {
    "duration": 164,
    "start_time": "2025-06-16T15:53:14.157Z"
   },
   {
    "duration": 56,
    "start_time": "2025-06-16T15:53:14.323Z"
   },
   {
    "duration": 7,
    "start_time": "2025-06-16T15:53:14.381Z"
   },
   {
    "duration": 46,
    "start_time": "2025-06-16T15:53:14.390Z"
   },
   {
    "duration": 291,
    "start_time": "2025-06-16T15:53:14.438Z"
   },
   {
    "duration": 6,
    "start_time": "2025-06-16T15:53:14.731Z"
   },
   {
    "duration": 43,
    "start_time": "2025-06-16T15:53:14.739Z"
   },
   {
    "duration": 45893,
    "start_time": "2025-06-16T15:53:59.974Z"
   },
   {
    "duration": 2060,
    "start_time": "2025-06-16T15:55:01.857Z"
   },
   {
    "duration": 631,
    "start_time": "2025-06-16T15:55:03.919Z"
   },
   {
    "duration": 190,
    "start_time": "2025-06-16T15:55:04.551Z"
   },
   {
    "duration": 248,
    "start_time": "2025-06-16T15:55:04.742Z"
   },
   {
    "duration": 762,
    "start_time": "2025-06-16T15:55:04.992Z"
   },
   {
    "duration": 760,
    "start_time": "2025-06-16T15:55:05.756Z"
   },
   {
    "duration": 34,
    "start_time": "2025-06-16T15:55:06.518Z"
   },
   {
    "duration": 353,
    "start_time": "2025-06-16T15:55:06.554Z"
   },
   {
    "duration": 809,
    "start_time": "2025-06-16T15:55:06.909Z"
   },
   {
    "duration": 433,
    "start_time": "2025-06-16T15:55:07.719Z"
   },
   {
    "duration": 167,
    "start_time": "2025-06-16T15:55:08.153Z"
   },
   {
    "duration": 86,
    "start_time": "2025-06-16T15:55:08.321Z"
   },
   {
    "duration": 7,
    "start_time": "2025-06-16T15:55:08.409Z"
   },
   {
    "duration": 33,
    "start_time": "2025-06-16T15:55:08.418Z"
   },
   {
    "duration": 290,
    "start_time": "2025-06-16T15:55:08.452Z"
   },
   {
    "duration": 8,
    "start_time": "2025-06-16T15:55:08.743Z"
   },
   {
    "duration": 30,
    "start_time": "2025-06-16T15:55:08.752Z"
   },
   {
    "duration": 45486,
    "start_time": "2025-06-16T15:55:08.783Z"
   },
   {
    "duration": 13462,
    "start_time": "2025-06-16T16:01:09.608Z"
   },
   {
    "duration": 6480,
    "start_time": "2025-06-16T16:01:42.903Z"
   },
   {
    "duration": 6240,
    "start_time": "2025-06-16T16:02:00.230Z"
   },
   {
    "duration": 110,
    "start_time": "2025-06-16T16:02:18.459Z"
   },
   {
    "duration": 31,
    "start_time": "2025-06-16T16:02:58.789Z"
   },
   {
    "duration": 7,
    "start_time": "2025-06-16T16:03:55.032Z"
   },
   {
    "duration": 194,
    "start_time": "2025-06-16T16:05:01.628Z"
   },
   {
    "duration": 441,
    "start_time": "2025-06-16T16:06:12.692Z"
   },
   {
    "duration": 218,
    "start_time": "2025-06-16T16:06:30.726Z"
   },
   {
    "duration": 187,
    "start_time": "2025-06-16T16:06:50.642Z"
   },
   {
    "duration": 237,
    "start_time": "2025-06-16T16:07:47.470Z"
   },
   {
    "duration": 9,
    "start_time": "2025-06-16T16:13:20.430Z"
   },
   {
    "duration": 167,
    "start_time": "2025-06-16T16:14:05.566Z"
   },
   {
    "duration": 163,
    "start_time": "2025-06-16T16:14:44.048Z"
   },
   {
    "duration": 161,
    "start_time": "2025-06-16T16:15:02.761Z"
   },
   {
    "duration": 527,
    "start_time": "2025-06-16T16:41:50.564Z"
   },
   {
    "duration": 55,
    "start_time": "2025-06-18T13:10:26.221Z"
   },
   {
    "duration": 6,
    "start_time": "2025-06-18T13:10:34.645Z"
   },
   {
    "duration": 6,
    "start_time": "2025-06-18T13:10:35.061Z"
   },
   {
    "duration": 2203,
    "start_time": "2025-06-18T13:10:44.253Z"
   },
   {
    "duration": 701,
    "start_time": "2025-06-18T13:10:46.458Z"
   },
   {
    "duration": 220,
    "start_time": "2025-06-18T13:10:47.160Z"
   },
   {
    "duration": 444,
    "start_time": "2025-06-18T13:10:47.382Z"
   },
   {
    "duration": 836,
    "start_time": "2025-06-18T13:10:47.828Z"
   },
   {
    "duration": 729,
    "start_time": "2025-06-18T13:10:48.666Z"
   },
   {
    "duration": 50,
    "start_time": "2025-06-18T13:10:49.396Z"
   },
   {
    "duration": 413,
    "start_time": "2025-06-18T13:10:49.447Z"
   },
   {
    "duration": 730,
    "start_time": "2025-06-18T13:10:49.862Z"
   },
   {
    "duration": 454,
    "start_time": "2025-06-18T13:10:50.595Z"
   },
   {
    "duration": 205,
    "start_time": "2025-06-18T13:10:51.051Z"
   },
   {
    "duration": 113,
    "start_time": "2025-06-18T13:10:51.258Z"
   },
   {
    "duration": 9,
    "start_time": "2025-06-18T13:10:51.373Z"
   },
   {
    "duration": 11,
    "start_time": "2025-06-18T13:10:51.384Z"
   },
   {
    "duration": 221,
    "start_time": "2025-06-18T13:10:51.397Z"
   },
   {
    "duration": 7,
    "start_time": "2025-06-18T13:10:51.620Z"
   },
   {
    "duration": 16,
    "start_time": "2025-06-18T13:10:51.629Z"
   },
   {
    "duration": 239,
    "start_time": "2025-06-18T13:10:51.647Z"
   },
   {
    "duration": 301,
    "start_time": "2025-06-18T13:10:51.887Z"
   },
   {
    "duration": 8,
    "start_time": "2025-06-18T13:10:52.190Z"
   },
   {
    "duration": 274,
    "start_time": "2025-06-18T13:10:52.200Z"
   },
   {
    "duration": 206,
    "start_time": "2025-06-18T13:10:52.476Z"
   },
   {
    "duration": 568,
    "start_time": "2025-06-18T13:10:52.683Z"
   },
   {
    "duration": 5,
    "start_time": "2025-06-18T13:10:53.253Z"
   },
   {
    "duration": 114,
    "start_time": "2025-06-18T13:10:53.260Z"
   },
   {
    "duration": 33,
    "start_time": "2025-06-18T13:11:04.546Z"
   },
   {
    "duration": 34,
    "start_time": "2025-06-18T13:11:15.268Z"
   },
   {
    "duration": 15,
    "start_time": "2025-06-18T13:11:59.179Z"
   },
   {
    "duration": 53,
    "start_time": "2025-06-18T13:12:48.706Z"
   },
   {
    "duration": 49,
    "start_time": "2025-06-18T13:17:45.047Z"
   },
   {
    "duration": 62,
    "start_time": "2025-06-18T14:20:48.041Z"
   },
   {
    "duration": 58,
    "start_time": "2025-06-18T14:22:00.898Z"
   },
   {
    "duration": 1424,
    "start_time": "2025-06-18T14:22:23.776Z"
   },
   {
    "duration": 7,
    "start_time": "2025-06-18T14:22:46.453Z"
   },
   {
    "duration": 9,
    "start_time": "2025-06-18T14:23:03.329Z"
   },
   {
    "duration": 1420,
    "start_time": "2025-06-18T14:28:00.392Z"
   },
   {
    "duration": 5,
    "start_time": "2025-06-18T14:28:18.877Z"
   },
   {
    "duration": 5,
    "start_time": "2025-06-18T14:29:19.392Z"
   },
   {
    "duration": 6,
    "start_time": "2025-06-18T14:30:04.427Z"
   },
   {
    "duration": 11,
    "start_time": "2025-06-18T14:37:33.740Z"
   },
   {
    "duration": 12,
    "start_time": "2025-06-18T14:37:51.821Z"
   },
   {
    "duration": 5,
    "start_time": "2025-06-18T14:38:05.793Z"
   },
   {
    "duration": 13,
    "start_time": "2025-06-18T14:38:11.504Z"
   },
   {
    "duration": 12,
    "start_time": "2025-06-18T14:42:33.544Z"
   },
   {
    "duration": 1410,
    "start_time": "2025-06-18T14:42:45.878Z"
   },
   {
    "duration": 1367,
    "start_time": "2025-06-18T14:44:10.590Z"
   },
   {
    "duration": 4,
    "start_time": "2025-06-18T14:44:53.495Z"
   },
   {
    "duration": 1362,
    "start_time": "2025-06-18T14:45:07.322Z"
   },
   {
    "duration": 966,
    "start_time": "2025-06-18T14:46:02.754Z"
   },
   {
    "duration": 12,
    "start_time": "2025-06-18T14:46:21.216Z"
   },
   {
    "duration": 12,
    "start_time": "2025-06-18T14:47:35.306Z"
   },
   {
    "duration": 6,
    "start_time": "2025-06-18T14:49:22.796Z"
   },
   {
    "duration": 6,
    "start_time": "2025-06-18T14:50:23.193Z"
   },
   {
    "duration": 6,
    "start_time": "2025-06-18T14:53:20.157Z"
   },
   {
    "duration": 6,
    "start_time": "2025-06-18T14:53:52.327Z"
   },
   {
    "duration": 32,
    "start_time": "2025-06-18T15:01:11.836Z"
   },
   {
    "duration": 21,
    "start_time": "2025-06-18T15:01:20.344Z"
   },
   {
    "duration": 29,
    "start_time": "2025-06-18T15:04:46.164Z"
   },
   {
    "duration": 20,
    "start_time": "2025-06-18T15:04:53.689Z"
   },
   {
    "duration": 20,
    "start_time": "2025-06-18T15:05:02.161Z"
   },
   {
    "duration": 15,
    "start_time": "2025-06-18T15:09:16.972Z"
   },
   {
    "duration": 73,
    "start_time": "2025-06-18T15:17:45.609Z"
   },
   {
    "duration": 71,
    "start_time": "2025-06-18T15:18:02.488Z"
   },
   {
    "duration": 8,
    "start_time": "2025-06-18T15:18:29.403Z"
   },
   {
    "duration": 8,
    "start_time": "2025-06-18T15:18:36.569Z"
   },
   {
    "duration": 16,
    "start_time": "2025-06-18T15:21:24.376Z"
   },
   {
    "duration": 2752,
    "start_time": "2025-06-18T15:32:11.195Z"
   },
   {
    "duration": 724,
    "start_time": "2025-06-18T15:32:13.949Z"
   },
   {
    "duration": 224,
    "start_time": "2025-06-18T15:32:14.676Z"
   },
   {
    "duration": 321,
    "start_time": "2025-06-18T15:32:14.903Z"
   },
   {
    "duration": 801,
    "start_time": "2025-06-18T15:32:15.226Z"
   },
   {
    "duration": 836,
    "start_time": "2025-06-18T15:32:16.029Z"
   },
   {
    "duration": 43,
    "start_time": "2025-06-18T15:32:16.872Z"
   },
   {
    "duration": 385,
    "start_time": "2025-06-18T15:32:16.916Z"
   },
   {
    "duration": 881,
    "start_time": "2025-06-18T15:32:17.303Z"
   },
   {
    "duration": 465,
    "start_time": "2025-06-18T15:32:18.188Z"
   },
   {
    "duration": 230,
    "start_time": "2025-06-18T15:32:18.655Z"
   },
   {
    "duration": 73,
    "start_time": "2025-06-18T15:32:18.888Z"
   },
   {
    "duration": 8,
    "start_time": "2025-06-18T15:32:18.963Z"
   },
   {
    "duration": 11,
    "start_time": "2025-06-18T15:32:18.974Z"
   },
   {
    "duration": 262,
    "start_time": "2025-06-18T15:32:18.988Z"
   },
   {
    "duration": 8,
    "start_time": "2025-06-18T15:32:19.251Z"
   },
   {
    "duration": 11,
    "start_time": "2025-06-18T15:32:19.273Z"
   },
   {
    "duration": 230,
    "start_time": "2025-06-18T15:32:19.286Z"
   },
   {
    "duration": 275,
    "start_time": "2025-06-18T15:32:19.518Z"
   },
   {
    "duration": 9,
    "start_time": "2025-06-18T15:32:19.796Z"
   },
   {
    "duration": 285,
    "start_time": "2025-06-18T15:32:19.807Z"
   },
   {
    "duration": 214,
    "start_time": "2025-06-18T15:32:20.094Z"
   },
   {
    "duration": 767,
    "start_time": "2025-06-18T15:32:20.310Z"
   },
   {
    "duration": 15,
    "start_time": "2025-06-18T15:32:21.080Z"
   },
   {
    "duration": 76,
    "start_time": "2025-06-18T15:32:21.097Z"
   },
   {
    "duration": 8,
    "start_time": "2025-06-18T15:32:21.175Z"
   },
   {
    "duration": 24,
    "start_time": "2025-06-18T15:32:21.185Z"
   },
   {
    "duration": 6,
    "start_time": "2025-06-18T15:32:21.212Z"
   },
   {
    "duration": 50,
    "start_time": "2025-06-18T15:32:21.220Z"
   },
   {
    "duration": 14,
    "start_time": "2025-06-18T15:32:21.272Z"
   },
   {
    "duration": 44,
    "start_time": "2025-06-18T15:32:21.288Z"
   },
   {
    "duration": 2828,
    "start_time": "2025-06-18T17:07:58.776Z"
   },
   {
    "duration": 674,
    "start_time": "2025-06-18T17:08:01.606Z"
   },
   {
    "duration": 206,
    "start_time": "2025-06-18T17:08:02.282Z"
   },
   {
    "duration": 259,
    "start_time": "2025-06-18T17:08:02.489Z"
   },
   {
    "duration": 785,
    "start_time": "2025-06-18T17:08:02.751Z"
   },
   {
    "duration": 751,
    "start_time": "2025-06-18T17:08:03.538Z"
   },
   {
    "duration": 50,
    "start_time": "2025-06-18T17:08:04.291Z"
   },
   {
    "duration": 408,
    "start_time": "2025-06-18T17:08:04.343Z"
   },
   {
    "duration": 855,
    "start_time": "2025-06-18T17:08:04.752Z"
   },
   {
    "duration": 489,
    "start_time": "2025-06-18T17:08:05.608Z"
   },
   {
    "duration": 181,
    "start_time": "2025-06-18T17:08:06.099Z"
   },
   {
    "duration": 54,
    "start_time": "2025-06-18T17:08:06.281Z"
   },
   {
    "duration": 83,
    "start_time": "2025-06-18T17:08:06.337Z"
   },
   {
    "duration": 10,
    "start_time": "2025-06-18T17:08:06.423Z"
   },
   {
    "duration": 255,
    "start_time": "2025-06-18T17:08:06.434Z"
   },
   {
    "duration": 8,
    "start_time": "2025-06-18T17:08:06.690Z"
   },
   {
    "duration": 86,
    "start_time": "2025-06-18T17:08:06.700Z"
   },
   {
    "duration": 254,
    "start_time": "2025-06-18T17:08:06.788Z"
   },
   {
    "duration": 213,
    "start_time": "2025-06-18T17:08:07.044Z"
   },
   {
    "duration": 8,
    "start_time": "2025-06-18T17:08:07.259Z"
   },
   {
    "duration": 375,
    "start_time": "2025-06-18T17:08:07.269Z"
   },
   {
    "duration": 220,
    "start_time": "2025-06-18T17:08:07.646Z"
   },
   {
    "duration": 498,
    "start_time": "2025-06-18T17:08:07.867Z"
   },
   {
    "duration": 19,
    "start_time": "2025-06-18T17:08:08.367Z"
   },
   {
    "duration": 77,
    "start_time": "2025-06-18T17:08:08.388Z"
   },
   {
    "duration": 9,
    "start_time": "2025-06-18T17:08:08.467Z"
   },
   {
    "duration": 13,
    "start_time": "2025-06-18T17:08:08.478Z"
   },
   {
    "duration": 24,
    "start_time": "2025-06-18T17:08:08.493Z"
   },
   {
    "duration": 29,
    "start_time": "2025-06-18T17:08:08.518Z"
   },
   {
    "duration": 16,
    "start_time": "2025-06-18T17:08:08.549Z"
   },
   {
    "duration": 36,
    "start_time": "2025-06-18T17:08:08.567Z"
   },
   {
    "duration": 465,
    "start_time": "2025-06-19T11:42:08.510Z"
   },
   {
    "duration": 425,
    "start_time": "2025-06-19T11:43:48.709Z"
   },
   {
    "duration": 74,
    "start_time": "2025-06-19T12:29:03.794Z"
   },
   {
    "duration": 3,
    "start_time": "2025-06-19T12:29:10.463Z"
   },
   {
    "duration": 1869,
    "start_time": "2025-06-19T12:29:10.916Z"
   },
   {
    "duration": 136,
    "start_time": "2025-06-19T12:29:13.280Z"
   },
   {
    "duration": 148,
    "start_time": "2025-06-19T12:29:30.548Z"
   },
   {
    "duration": 12,
    "start_time": "2025-06-19T12:29:53.292Z"
   },
   {
    "duration": 685,
    "start_time": "2025-06-19T12:29:59.993Z"
   },
   {
    "duration": 707,
    "start_time": "2025-06-19T12:30:11.385Z"
   },
   {
    "duration": 699,
    "start_time": "2025-06-19T12:30:31.796Z"
   },
   {
    "duration": 140,
    "start_time": "2025-06-19T12:31:23.664Z"
   },
   {
    "duration": 256,
    "start_time": "2025-06-19T12:31:35.341Z"
   },
   {
    "duration": 240,
    "start_time": "2025-06-19T12:32:58.547Z"
   },
   {
    "duration": 49,
    "start_time": "2025-06-19T15:17:55.022Z"
   },
   {
    "duration": 820,
    "start_time": "2025-06-19T15:18:04.696Z"
   },
   {
    "duration": 2177,
    "start_time": "2025-06-19T15:18:05.518Z"
   },
   {
    "duration": 140,
    "start_time": "2025-06-19T15:18:07.696Z"
   },
   {
    "duration": 678,
    "start_time": "2025-06-19T15:18:07.838Z"
   },
   {
    "duration": 246,
    "start_time": "2025-06-19T15:18:08.519Z"
   },
   {
    "duration": 586,
    "start_time": "2025-06-19T15:18:08.766Z"
   },
   {
    "duration": 194,
    "start_time": "2025-06-19T15:18:09.353Z"
   },
   {
    "duration": 776,
    "start_time": "2025-06-19T15:18:09.549Z"
   },
   {
    "duration": 742,
    "start_time": "2025-06-19T15:18:10.326Z"
   },
   {
    "duration": 33,
    "start_time": "2025-06-19T15:18:11.070Z"
   },
   {
    "duration": 340,
    "start_time": "2025-06-19T15:18:11.104Z"
   },
   {
    "duration": 824,
    "start_time": "2025-06-19T15:18:11.446Z"
   },
   {
    "duration": 437,
    "start_time": "2025-06-19T15:18:12.272Z"
   },
   {
    "duration": 179,
    "start_time": "2025-06-19T15:18:12.712Z"
   },
   {
    "duration": 49,
    "start_time": "2025-06-19T15:18:12.893Z"
   },
   {
    "duration": 9,
    "start_time": "2025-06-19T15:18:12.943Z"
   },
   {
    "duration": 122,
    "start_time": "2025-06-19T15:18:12.953Z"
   },
   {
    "duration": 218,
    "start_time": "2025-06-19T15:18:13.077Z"
   },
   {
    "duration": 8,
    "start_time": "2025-06-19T15:18:13.296Z"
   },
   {
    "duration": 34,
    "start_time": "2025-06-19T15:18:13.306Z"
   },
   {
    "duration": 222,
    "start_time": "2025-06-19T15:18:13.341Z"
   },
   {
    "duration": 223,
    "start_time": "2025-06-19T15:18:13.565Z"
   },
   {
    "duration": 8,
    "start_time": "2025-06-19T15:18:13.790Z"
   },
   {
    "duration": 271,
    "start_time": "2025-06-19T15:18:13.799Z"
   },
   {
    "duration": 200,
    "start_time": "2025-06-19T15:18:14.071Z"
   },
   {
    "duration": 527,
    "start_time": "2025-06-19T15:18:14.273Z"
   },
   {
    "duration": 13,
    "start_time": "2025-06-19T15:18:14.802Z"
   },
   {
    "duration": 71,
    "start_time": "2025-06-19T15:18:14.817Z"
   },
   {
    "duration": 8,
    "start_time": "2025-06-19T15:18:14.889Z"
   },
   {
    "duration": 8,
    "start_time": "2025-06-19T15:18:14.899Z"
   },
   {
    "duration": 95,
    "start_time": "2025-06-19T15:18:14.909Z"
   },
   {
    "duration": 107,
    "start_time": "2025-06-19T15:18:15.005Z"
   },
   {
    "duration": 6,
    "start_time": "2025-06-19T15:18:15.113Z"
   },
   {
    "duration": 24,
    "start_time": "2025-06-19T15:18:15.121Z"
   },
   {
    "duration": 1298,
    "start_time": "2025-06-19T15:32:01.345Z"
   },
   {
    "duration": 1291,
    "start_time": "2025-06-19T15:32:23.779Z"
   },
   {
    "duration": 1270,
    "start_time": "2025-06-19T15:32:37.083Z"
   },
   {
    "duration": 1327,
    "start_time": "2025-06-19T15:32:47.279Z"
   },
   {
    "duration": 1310,
    "start_time": "2025-06-19T15:33:30.020Z"
   },
   {
    "duration": 1324,
    "start_time": "2025-06-19T15:33:44.377Z"
   },
   {
    "duration": 1258,
    "start_time": "2025-06-19T15:33:59.063Z"
   },
   {
    "duration": 160,
    "start_time": "2025-06-19T15:40:13.948Z"
   },
   {
    "duration": 165,
    "start_time": "2025-06-19T15:40:28.029Z"
   },
   {
    "duration": 164,
    "start_time": "2025-06-19T15:40:37.087Z"
   },
   {
    "duration": 3,
    "start_time": "2025-06-19T15:41:15.529Z"
   },
   {
    "duration": 172,
    "start_time": "2025-06-19T15:41:54.176Z"
   },
   {
    "duration": 5,
    "start_time": "2025-06-19T15:51:32.642Z"
   },
   {
    "duration": 184,
    "start_time": "2025-06-19T15:51:37.594Z"
   },
   {
    "duration": 8,
    "start_time": "2025-06-19T15:52:26.442Z"
   },
   {
    "duration": 204,
    "start_time": "2025-06-19T15:52:40.763Z"
   },
   {
    "duration": 9,
    "start_time": "2025-06-19T15:55:14.543Z"
   },
   {
    "duration": 97,
    "start_time": "2025-06-19T16:03:39.781Z"
   },
   {
    "duration": 413,
    "start_time": "2025-06-19T16:04:02.563Z"
   },
   {
    "duration": 324,
    "start_time": "2025-06-19T16:04:45.246Z"
   },
   {
    "duration": 335,
    "start_time": "2025-06-19T16:04:59.624Z"
   },
   {
    "duration": 354,
    "start_time": "2025-06-19T16:05:19.632Z"
   },
   {
    "duration": 321,
    "start_time": "2025-06-19T16:05:24.757Z"
   },
   {
    "duration": 342,
    "start_time": "2025-06-19T16:05:35.738Z"
   },
   {
    "duration": 356,
    "start_time": "2025-06-19T16:05:48.306Z"
   },
   {
    "duration": 321,
    "start_time": "2025-06-19T16:05:55.556Z"
   },
   {
    "duration": 343,
    "start_time": "2025-06-19T16:06:03.808Z"
   },
   {
    "duration": 9,
    "start_time": "2025-06-19T16:07:10.874Z"
   },
   {
    "duration": 9,
    "start_time": "2025-06-19T16:07:25.170Z"
   },
   {
    "duration": 369,
    "start_time": "2025-06-19T16:07:29.710Z"
   },
   {
    "duration": 10,
    "start_time": "2025-06-19T16:08:05.171Z"
   },
   {
    "duration": 338,
    "start_time": "2025-06-19T16:08:05.915Z"
   },
   {
    "duration": 3,
    "start_time": "2025-06-19T16:13:26.379Z"
   },
   {
    "duration": 2,
    "start_time": "2025-06-19T16:14:19.429Z"
   },
   {
    "duration": 9,
    "start_time": "2025-06-19T16:14:55.994Z"
   },
   {
    "duration": 446,
    "start_time": "2025-06-19T16:15:13.306Z"
   },
   {
    "duration": 193,
    "start_time": "2025-06-19T16:16:26.021Z"
   },
   {
    "duration": 321,
    "start_time": "2025-06-19T16:16:38.728Z"
   },
   {
    "duration": 7,
    "start_time": "2025-06-19T16:17:53.659Z"
   },
   {
    "duration": 2,
    "start_time": "2025-06-19T16:17:54.227Z"
   },
   {
    "duration": 287,
    "start_time": "2025-06-19T16:17:54.876Z"
   },
   {
    "duration": 8,
    "start_time": "2025-06-19T16:18:34.157Z"
   },
   {
    "duration": 341,
    "start_time": "2025-06-19T16:18:34.823Z"
   },
   {
    "duration": 5,
    "start_time": "2025-06-19T16:23:35.421Z"
   },
   {
    "duration": 6,
    "start_time": "2025-06-19T16:29:05.328Z"
   },
   {
    "duration": 6,
    "start_time": "2025-06-19T16:29:34.892Z"
   },
   {
    "duration": 6,
    "start_time": "2025-06-19T16:33:20.595Z"
   },
   {
    "duration": 5,
    "start_time": "2025-06-19T16:33:35.638Z"
   },
   {
    "duration": 8,
    "start_time": "2025-06-19T16:33:51.027Z"
   },
   {
    "duration": 166,
    "start_time": "2025-06-19T16:46:00.757Z"
   },
   {
    "duration": 654,
    "start_time": "2025-06-19T17:30:38.368Z"
   },
   {
    "duration": 2355,
    "start_time": "2025-06-19T17:30:39.026Z"
   },
   {
    "duration": 146,
    "start_time": "2025-06-19T17:30:41.383Z"
   },
   {
    "duration": 727,
    "start_time": "2025-06-19T17:30:41.531Z"
   },
   {
    "duration": 260,
    "start_time": "2025-06-19T17:30:42.260Z"
   },
   {
    "duration": 592,
    "start_time": "2025-06-19T17:30:42.522Z"
   },
   {
    "duration": 194,
    "start_time": "2025-06-19T17:30:43.116Z"
   },
   {
    "duration": 761,
    "start_time": "2025-06-19T17:30:43.311Z"
   },
   {
    "duration": 691,
    "start_time": "2025-06-19T17:30:44.073Z"
   },
   {
    "duration": 1371,
    "start_time": "2025-06-19T17:30:44.767Z"
   },
   {
    "duration": 31,
    "start_time": "2025-06-19T17:30:46.140Z"
   },
   {
    "duration": 295,
    "start_time": "2025-06-19T17:30:46.173Z"
   },
   {
    "duration": 719,
    "start_time": "2025-06-19T17:30:46.469Z"
   },
   {
    "duration": 422,
    "start_time": "2025-06-19T17:30:47.190Z"
   },
   {
    "duration": 2,
    "start_time": "2025-06-19T17:30:47.614Z"
   },
   {
    "duration": 166,
    "start_time": "2025-06-19T17:30:47.617Z"
   },
   {
    "duration": 51,
    "start_time": "2025-06-19T17:30:47.785Z"
   },
   {
    "duration": 7,
    "start_time": "2025-06-19T17:30:47.838Z"
   },
   {
    "duration": 5,
    "start_time": "2025-06-19T17:30:47.846Z"
   },
   {
    "duration": 330,
    "start_time": "2025-06-19T17:30:47.853Z"
   },
   {
    "duration": 8,
    "start_time": "2025-06-19T17:30:48.184Z"
   },
   {
    "duration": 88,
    "start_time": "2025-06-19T17:30:48.194Z"
   },
   {
    "duration": 15,
    "start_time": "2025-06-19T17:30:48.284Z"
   },
   {
    "duration": 349,
    "start_time": "2025-06-19T17:30:48.301Z"
   },
   {
    "duration": 3,
    "start_time": "2025-06-19T17:30:48.651Z"
   },
   {
    "duration": 21,
    "start_time": "2025-06-19T17:30:48.658Z"
   },
   {
    "duration": 318,
    "start_time": "2025-06-19T17:30:48.681Z"
   },
   {
    "duration": 557,
    "start_time": "2025-06-19T17:30:49.002Z"
   },
   {
    "duration": 14,
    "start_time": "2025-06-19T17:30:49.560Z"
   },
   {
    "duration": 62,
    "start_time": "2025-06-19T17:30:49.576Z"
   },
   {
    "duration": 23,
    "start_time": "2025-06-19T17:30:49.640Z"
   },
   {
    "duration": 102,
    "start_time": "2025-06-19T17:30:49.665Z"
   },
   {
    "duration": 8,
    "start_time": "2025-06-19T17:30:49.769Z"
   },
   {
    "duration": 14,
    "start_time": "2025-06-19T17:30:49.779Z"
   },
   {
    "duration": 6,
    "start_time": "2025-06-19T17:30:49.794Z"
   },
   {
    "duration": 27,
    "start_time": "2025-06-19T17:30:49.801Z"
   },
   {
    "duration": 696,
    "start_time": "2025-06-20T11:16:50.290Z"
   },
   {
    "duration": 2540,
    "start_time": "2025-06-20T11:16:50.988Z"
   },
   {
    "duration": 148,
    "start_time": "2025-06-20T11:16:53.529Z"
   },
   {
    "duration": 684,
    "start_time": "2025-06-20T11:16:53.679Z"
   },
   {
    "duration": 243,
    "start_time": "2025-06-20T11:16:54.365Z"
   },
   {
    "duration": 615,
    "start_time": "2025-06-20T11:16:54.609Z"
   },
   {
    "duration": 184,
    "start_time": "2025-06-20T11:16:55.225Z"
   },
   {
    "duration": 759,
    "start_time": "2025-06-20T11:16:55.410Z"
   },
   {
    "duration": 745,
    "start_time": "2025-06-20T11:16:56.170Z"
   },
   {
    "duration": 1389,
    "start_time": "2025-06-20T11:16:56.916Z"
   },
   {
    "duration": 35,
    "start_time": "2025-06-20T11:16:58.307Z"
   },
   {
    "duration": 372,
    "start_time": "2025-06-20T11:16:58.343Z"
   },
   {
    "duration": 741,
    "start_time": "2025-06-20T11:16:58.717Z"
   },
   {
    "duration": 465,
    "start_time": "2025-06-20T11:16:59.461Z"
   },
   {
    "duration": 3,
    "start_time": "2025-06-20T11:16:59.927Z"
   },
   {
    "duration": 204,
    "start_time": "2025-06-20T11:16:59.931Z"
   },
   {
    "duration": 158,
    "start_time": "2025-06-20T11:17:00.137Z"
   },
   {
    "duration": 8,
    "start_time": "2025-06-20T11:17:00.297Z"
   },
   {
    "duration": 45,
    "start_time": "2025-06-20T11:17:00.307Z"
   },
   {
    "duration": 399,
    "start_time": "2025-06-20T11:17:00.353Z"
   },
   {
    "duration": 7,
    "start_time": "2025-06-20T11:17:00.754Z"
   },
   {
    "duration": 137,
    "start_time": "2025-06-20T11:17:00.763Z"
   },
   {
    "duration": 115,
    "start_time": "2025-06-20T11:17:00.902Z"
   },
   {
    "duration": 408,
    "start_time": "2025-06-20T11:17:01.019Z"
   },
   {
    "duration": 3,
    "start_time": "2025-06-20T11:17:01.429Z"
   },
   {
    "duration": 216,
    "start_time": "2025-06-20T11:17:01.433Z"
   },
   {
    "duration": 359,
    "start_time": "2025-06-20T11:17:01.650Z"
   },
   {
    "duration": 716,
    "start_time": "2025-06-20T11:17:02.011Z"
   },
   {
    "duration": 14,
    "start_time": "2025-06-20T11:17:02.728Z"
   },
   {
    "duration": 93,
    "start_time": "2025-06-20T11:17:02.744Z"
   },
   {
    "duration": 8,
    "start_time": "2025-06-20T11:17:02.839Z"
   },
   {
    "duration": 34,
    "start_time": "2025-06-20T11:17:02.848Z"
   },
   {
    "duration": 29,
    "start_time": "2025-06-20T11:17:02.883Z"
   },
   {
    "duration": 40,
    "start_time": "2025-06-20T11:17:02.914Z"
   },
   {
    "duration": 17,
    "start_time": "2025-06-20T11:17:02.956Z"
   },
   {
    "duration": 30,
    "start_time": "2025-06-20T11:17:02.974Z"
   },
   {
    "duration": 697,
    "start_time": "2025-06-20T11:27:17.281Z"
   },
   {
    "duration": 2173,
    "start_time": "2025-06-20T11:27:17.980Z"
   },
   {
    "duration": 149,
    "start_time": "2025-06-20T11:27:20.154Z"
   },
   {
    "duration": 701,
    "start_time": "2025-06-20T11:27:20.305Z"
   },
   {
    "duration": 244,
    "start_time": "2025-06-20T11:27:21.008Z"
   },
   {
    "duration": 603,
    "start_time": "2025-06-20T11:27:21.253Z"
   },
   {
    "duration": 192,
    "start_time": "2025-06-20T11:27:21.858Z"
   },
   {
    "duration": 801,
    "start_time": "2025-06-20T11:27:22.052Z"
   },
   {
    "duration": 753,
    "start_time": "2025-06-20T11:27:22.854Z"
   },
   {
    "duration": 1401,
    "start_time": "2025-06-20T11:27:23.609Z"
   },
   {
    "duration": 32,
    "start_time": "2025-06-20T11:27:25.012Z"
   },
   {
    "duration": 366,
    "start_time": "2025-06-20T11:27:25.046Z"
   },
   {
    "duration": 780,
    "start_time": "2025-06-20T11:27:25.414Z"
   },
   {
    "duration": 453,
    "start_time": "2025-06-20T11:27:26.205Z"
   },
   {
    "duration": 3,
    "start_time": "2025-06-20T11:27:26.660Z"
   },
   {
    "duration": 272,
    "start_time": "2025-06-20T11:27:26.664Z"
   },
   {
    "duration": 51,
    "start_time": "2025-06-20T11:27:26.937Z"
   },
   {
    "duration": 8,
    "start_time": "2025-06-20T11:27:26.989Z"
   },
   {
    "duration": 44,
    "start_time": "2025-06-20T11:27:26.998Z"
   },
   {
    "duration": 299,
    "start_time": "2025-06-20T11:27:27.043Z"
   },
   {
    "duration": 7,
    "start_time": "2025-06-20T11:27:27.344Z"
   },
   {
    "duration": 25,
    "start_time": "2025-06-20T11:27:27.353Z"
   },
   {
    "duration": 30,
    "start_time": "2025-06-20T11:27:27.379Z"
   },
   {
    "duration": 327,
    "start_time": "2025-06-20T11:27:27.411Z"
   },
   {
    "duration": 2,
    "start_time": "2025-06-20T11:27:27.740Z"
   },
   {
    "duration": 121,
    "start_time": "2025-06-20T11:27:27.744Z"
   },
   {
    "duration": 445,
    "start_time": "2025-06-20T11:27:27.867Z"
   },
   {
    "duration": 479,
    "start_time": "2025-06-20T11:27:28.314Z"
   },
   {
    "duration": 15,
    "start_time": "2025-06-20T11:27:28.795Z"
   },
   {
    "duration": 88,
    "start_time": "2025-06-20T11:27:28.812Z"
   },
   {
    "duration": 8,
    "start_time": "2025-06-20T11:27:28.902Z"
   },
   {
    "duration": 45,
    "start_time": "2025-06-20T11:27:28.912Z"
   },
   {
    "duration": 56,
    "start_time": "2025-06-20T11:27:28.959Z"
   },
   {
    "duration": 47,
    "start_time": "2025-06-20T11:27:29.016Z"
   },
   {
    "duration": 24,
    "start_time": "2025-06-20T11:27:29.065Z"
   },
   {
    "duration": 43,
    "start_time": "2025-06-20T11:27:29.091Z"
   }
  ],
  "colab": {
   "provenance": []
  },
  "kernelspec": {
   "display_name": "Python 3 (ipykernel)",
   "language": "python",
   "name": "python3"
  },
  "language_info": {
   "codemirror_mode": {
    "name": "ipython",
    "version": 3
   },
   "file_extension": ".py",
   "mimetype": "text/x-python",
   "name": "python",
   "nbconvert_exporter": "python",
   "pygments_lexer": "ipython3",
   "version": "3.9.7"
  },
  "toc": {
   "base_numbering": 1,
   "nav_menu": {},
   "number_sections": true,
   "sideBar": true,
   "skip_h1_title": true,
   "title_cell": "Table of Contents",
   "title_sidebar": "Contents",
   "toc_cell": false,
   "toc_position": {},
   "toc_section_display": true,
   "toc_window_display": false
  }
 },
 "nbformat": 4,
 "nbformat_minor": 1
}
